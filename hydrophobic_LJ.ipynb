{
 "cells": [
  {
   "cell_type": "markdown",
   "metadata": {},
   "source": [
    "## Define and draw the hydrophobic Lennard-Jones potential\n",
    "see: Ashbaugh HS, Hatch HW. Natively unfolded protein stability as a coil-to-globule transition in charge/hydropathy space. J Am Chem Soc. 2008; 130: 9536–9542. "
   ]
  },
  {
   "cell_type": "code",
   "execution_count": null,
   "metadata": {},
   "outputs": [],
   "source": [
    "import numpy as np\n",
    "import matplotlib\n",
    "import matplotlib.pyplot as plt"
   ]
  },
  {
   "cell_type": "code",
   "execution_count": null,
   "metadata": {},
   "outputs": [],
   "source": [
    "def hydrophobic_potential(xs: np.array, epsilon, sigma, lambdas):\n",
    "    index_minus = np.argwhere(xs < 2**(1/6)*sigma)\n",
    "    index_plus = np.argwhere(xs >= 2**(1/6)*sigma)\n",
    "\n",
    "    x_minus = xs[index_minus]\n",
    "    x_plus = xs[index_plus]\n",
    "\n",
    "    U_lj = 4*epsilon*((sigma/xs)**12-(sigma/xs)**6)\n",
    "    U_minus =  U_lj[index_minus] + (1-lambdas)*epsilon\n",
    "    U_plus = U_lj[index_plus]*lambdas\n",
    "\n",
    "    U_hps = np.zeros(len(xs))\n",
    "    U_hps[index_minus] = U_minus\n",
    "    U_hps[index_plus] = U_plus\n",
    "\n",
    "    return U_hps"
   ]
  },
  {
   "cell_type": "code",
   "execution_count": null,
   "metadata": {},
   "outputs": [],
   "source": [
    "delta = 0.01\n",
    "xs = np.arange(0.6,1.6,delta)\n",
    "\n",
    "lambdas_list = [0, 1, 2, 3, 4]\n",
    "\n",
    "U_hps = {}\n",
    "\n",
    "for lambdas in lambdas_list:\n",
    "    U_hps[lambdas] = hydrophobic_potential(xs, 1, 1, lambdas)"
   ]
  },
  {
   "cell_type": "code",
   "execution_count": null,
   "metadata": {},
   "outputs": [],
   "source": [
    "plt.figure(figsize=(10,8))\n",
    "\n",
    "font = {'family' : 'normal',\n",
    "        'weight' : 'bold',\n",
    "        'size'   : 22}\n",
    "\n",
    "matplotlib.rc('font', **font)\n",
    "\n",
    "for lambdas in lambdas_list:\n",
    "    plt.plot(xs, U_hps[lambdas], '-',label='$\\lambda = $'+str(lambdas))\n",
    "plt.grid()\n",
    "\n",
    "plt.ylim([-5,10])\n",
    "plt.legend()\n",
    "plt.xlabel('$r/\\sigma$')\n",
    "plt.ylabel('$V/\\epsilon$')\n",
    "plt.savefig('images/hydrophobic_potential.png')\n",
    "plt.show()"
   ]
  }
 ],
 "metadata": {
  "language_info": {
   "name": "python"
  },
  "orig_nbformat": 4
 },
 "nbformat": 4,
 "nbformat_minor": 2
}
