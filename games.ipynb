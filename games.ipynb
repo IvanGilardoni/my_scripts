{
 "cells": [
  {
   "cell_type": "code",
   "execution_count": 1,
   "metadata": {},
   "outputs": [],
   "source": [
    "import pandas\n",
    "import numpy as np\n",
    "import matplotlib.pyplot as plt"
   ]
  },
  {
   "cell_type": "markdown",
   "metadata": {},
   "source": [
    "## effective number of frames"
   ]
  },
  {
   "cell_type": "markdown",
   "metadata": {},
   "source": [
    "comparison between arithmetic and geometric average"
   ]
  },
  {
   "cell_type": "code",
   "execution_count": 2,
   "metadata": {},
   "outputs": [
    {
     "name": "stdout",
     "output_type": "stream",
     "text": [
      "0.7534167639606298\n",
      "-3.340927798261472\n",
      "0.2972069914096403 0.4707553418585168\n",
      "0.056077639989615874 0.03540409462135373\n"
     ]
    },
    {
     "data": {
      "image/png": "[encoded data removed]",
      "text/plain": [
       "<Figure size 432x288 with 1 Axes>"
      ]
     },
     "metadata": {
      "needs_background": "light"
     },
     "output_type": "display_data"
    }
   ],
   "source": [
    "# p = np.random.dirichlet(np.ones(1000)) # , size=10)\n",
    "\n",
    "# p = np.random.rand(10)\n",
    "p = np.concatenate([np.random.rand(10), np.random.rand(50)*0.1])\n",
    "p = p/np.sum(p)\n",
    "p0 = np.ones(len(p))/len(p)\n",
    "\n",
    "arith = np.sum(p**2)\n",
    "geom = np.exp(np.sum(p*np.log(p)))\n",
    "\n",
    "rel_n_frames_a = 1/np.sum(p**2/p0)\n",
    "rel_n_frames_g = np.exp(-np.sum(p*np.log(p/p0)))\n",
    "\n",
    "dkl = np.sum(p*np.log(p/p0))\n",
    "print(dkl)\n",
    "\n",
    "s = np.sum(p*np.log(p))\n",
    "print(s)\n",
    "\n",
    "plt.plot(p, '.')\n",
    "print(rel_n_frames_a, rel_n_frames_g)\n",
    "print(arith, geom)"
   ]
  },
  {
   "cell_type": "markdown",
   "metadata": {},
   "source": [
    "the geometric average seems to be \"more accurate\""
   ]
  },
  {
   "cell_type": "markdown",
   "metadata": {},
   "source": [
    "- question: which is the effect of a dimensionality reduction (based on x, not on weights), namely, clustering? does the effective n. of frames increase or decrease?"
   ]
  },
  {
   "cell_type": "code",
   "execution_count": 3,
   "metadata": {},
   "outputs": [
    {
     "name": "stdout",
     "output_type": "stream",
     "text": [
      "0.19065815080054918\n",
      "-0.5402616027461195\n",
      "0.5923079253091359 0.8264150491918831\n",
      "0.6449190161887282 0.5825958237696124\n"
     ]
    }
   ],
   "source": [
    "# select_frames = [i for i in range(len(p)) if np.mod(i, 2) == 0]\n",
    "select_frames = [0, 1, 2] # + [i for i in range(10, 20)]\n",
    "\n",
    "\n",
    "q = np.array([np.sum(p[select_frames]), 1 - np.sum(p[select_frames])])\n",
    "q0 = np.array([np.sum(p0[select_frames]), 1 - np.sum(p0[select_frames])])\n",
    "\n",
    "arith = np.sum(q**2)\n",
    "geom = np.exp(np.sum(q*np.log(q)))\n",
    "\n",
    "rel_n_frames_a = 1/np.sum(q**2/q0)\n",
    "rel_n_frames_g = np.exp(-np.sum(q*np.log(q/q0)))\n",
    "\n",
    "dkl = np.sum(q*np.log(q/q0))\n",
    "print(dkl)\n",
    "\n",
    "s = np.sum(q*np.log(q))\n",
    "print(s)\n",
    "\n",
    "print(rel_n_frames_a, rel_n_frames_g)\n",
    "print(arith, geom)"
   ]
  },
  {
   "cell_type": "markdown",
   "metadata": {},
   "source": [
    "- max of the KL divergence on a finite sampling"
   ]
  },
  {
   "cell_type": "code",
   "execution_count": 12,
   "metadata": {},
   "outputs": [
    {
     "name": "stderr",
     "output_type": "stream",
     "text": [
      "/tmp/ipykernel_21795/4224261692.py:7: RuntimeWarning: divide by zero encountered in log\n",
      "  dkl = x*np.log(x/x0[0]) + (1-x)*np.log((1-x)/(1-x0[0]))\n",
      "/tmp/ipykernel_21795/4224261692.py:7: RuntimeWarning: invalid value encountered in multiply\n",
      "  dkl = x*np.log(x/x0[0]) + (1-x)*np.log((1-x)/(1-x0[0]))\n"
     ]
    },
    {
     "data": {
      "image/png": "[encoded data removed]",
      "text/plain": [
       "<Figure size 432x288 with 1 Axes>"
      ]
     },
     "metadata": {
      "needs_background": "light"
     },
     "output_type": "display_data"
    }
   ],
   "source": [
    "# 2 frames\n",
    "\n",
    "x = np.arange(0, 1, 0.01)\n",
    "\n",
    "x0 = [0.5]\n",
    "\n",
    "dkl = x*np.log(x/x0[0]) + (1-x)*np.log((1-x)/(1-x0[0]))\n",
    "\n",
    "plt.plot(x, dkl, '-')\n",
    "plt.grid()"
   ]
  },
  {
   "cell_type": "code",
   "execution_count": 14,
   "metadata": {},
   "outputs": [
    {
     "data": {
      "text/plain": [
       "0.6931471805599453"
      ]
     },
     "execution_count": 14,
     "metadata": {},
     "output_type": "execute_result"
    }
   ],
   "source": [
    "np.log(2)"
   ]
  },
  {
   "cell_type": "markdown",
   "metadata": {},
   "source": [
    "in case of $P_0$ uniform with $N$ total frames, the furthest distribution from $P_0$ is the one with only one frame non-zero, which has $D_{KL}[P|P_0] = \\log N$"
   ]
  }
 ],
 "metadata": {
  "kernelspec": {
   "display_name": "Python 2.7.5 64-bit",
   "language": "python",
   "name": "python3"
  },
  "language_info": {
   "codemirror_mode": {
    "name": "ipython",
    "version": 3
   },
   "file_extension": ".py",
   "mimetype": "text/x-python",
   "name": "python",
   "nbconvert_exporter": "python",
   "pygments_lexer": "ipython3",
   "version": "2.7.5"
  },
  "orig_nbformat": 4,
  "vscode": {
   "interpreter": {
    "hash": "e7370f93d1d0cde622a1f8e1c04877d8463912d04d973331ad4851f04de6915a"
   }
  }
 },
 "nbformat": 4,
 "nbformat_minor": 2
}
