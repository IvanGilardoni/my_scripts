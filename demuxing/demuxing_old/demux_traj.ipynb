{
 "cells": [
  {
   "cell_type": "markdown",
   "metadata": {},
   "source": [
    "# Demux trajectory\n",
    "1. compute all the observables for all the 24 replicas\n",
    "2. apply demux algorithm\n",
    "3. take the demuxed trajectory for replica corresponding to T=300K\n",
    "\n",
    "repeat for all the tetramers"
   ]
  },
  {
   "cell_type": "code",
   "execution_count": 1,
   "metadata": {},
   "outputs": [],
   "source": [
    "import py3Dmol\n",
    "import MDAnalysis as mda\n",
    "from MDAnalysis.analysis.dihedrals import Dihedral as dihedral\n",
    "import numpy as np\n",
    "import matplotlib.pyplot as plt\n",
    "import pandas\n",
    "import time"
   ]
  },
  {
   "cell_type": "code",
   "execution_count": 2,
   "metadata": {},
   "outputs": [],
   "source": [
    "Sequences=['AAAA','CAAU','CCCC','GACC','UUUU']\n",
    "#curr_dir='/net/sbp/srnas2/tfrahlki/Simulations'\n",
    "js=[5,6,6,7,7] # n. of subtrajectories"
   ]
  },
  {
   "cell_type": "markdown",
   "metadata": {},
   "source": [
    "1. For each tetramer, let's read the total length (n. of frames) of the trajectory for the replica at T=300K (replica n. 6), which is in .xtc files \"traj6.%s.%s_proc.xtc\" % (Sequence, j) with j=1 to js[i] (js depends on the tetramer); attention, \"traj6.%s_proc.xtc\" % Sequence is all the trajectory (I suppose), so do not read it since it's too long to keep in memory and use the subtrajectories.\n",
    "\n",
    "2. Compare with the n. of observables / force field correcting terms you have in your data.\n",
    "\n",
    "3. This must be equal for all the 24 replicas, whose trajectory is contained in .xtc file \"traj_comp%s.xtc\" % NR and files \"traj_comp%s.part%s.xtc\" % (NR, i) with NR n. of replica NR=0...23 and i=0002 to 0310 (310 for all the replicas); attention, the first is \"traj_comp%s.xtc\" % NR.\n",
    "\n",
    "Attention: there are repeated frames: the last of each subtrajectories and the first of the subsequent one.\n",
    "\n",
    "Attention: the first frame of the first trajectory traj.comp%s.xtc must be deleted"
   ]
  },
  {
   "cell_type": "code",
   "execution_count": 3,
   "metadata": {},
   "outputs": [],
   "source": [
    "n_seq=0\n",
    "Sequence=Sequences[n_seq]"
   ]
  },
  {
   "cell_type": "code",
   "execution_count": 4,
   "metadata": {},
   "outputs": [
    {
     "data": {
      "text/plain": [
       "'/net/sbp/srnas2/tfrahlki/Simulations/AAAA_TREMD/Production/AAAA'"
      ]
     },
     "execution_count": 4,
     "metadata": {},
     "output_type": "execute_result"
    }
   ],
   "source": [
    "curr_dir='/net/sbp/srnas2/tfrahlki/Simulations/%s_TREMD/Production/%s' % (Sequence,Sequence)\n",
    "curr_dir"
   ]
  },
  {
   "cell_type": "code",
   "execution_count": 5,
   "metadata": {},
   "outputs": [
    {
     "name": "stdout",
     "output_type": "stream",
     "text": [
      "0\n"
     ]
    },
    {
     "name": "stderr",
     "output_type": "stream",
     "text": [
      "/u/i/igilardo/.local/lib/python3.6/site-packages/MDAnalysis/coordinates/XDR.py:232: UserWarning: Couldn't save offsets because: [Errno 13] Permission denied: '/net/sbp/srnas2/tfrahlki/Simulations/AAAA_TREMD/Production/AAAA/.traj6.AAAA.1_proc.xtc_offsets.npz'\n",
      "  warnings.warn(\"Couldn't save offsets because: {}\".format(e))\n"
     ]
    },
    {
     "name": "stdout",
     "output_type": "stream",
     "text": [
      "1\n"
     ]
    },
    {
     "name": "stderr",
     "output_type": "stream",
     "text": [
      "/u/i/igilardo/.local/lib/python3.6/site-packages/MDAnalysis/coordinates/XDR.py:232: UserWarning: Couldn't save offsets because: [Errno 13] Permission denied: '/net/sbp/srnas2/tfrahlki/Simulations/AAAA_TREMD/Production/AAAA/.traj6.AAAA.2_proc.xtc_offsets.npz'\n",
      "  warnings.warn(\"Couldn't save offsets because: {}\".format(e))\n"
     ]
    },
    {
     "name": "stdout",
     "output_type": "stream",
     "text": [
      "2\n"
     ]
    },
    {
     "name": "stderr",
     "output_type": "stream",
     "text": [
      "/u/i/igilardo/.local/lib/python3.6/site-packages/MDAnalysis/coordinates/XDR.py:232: UserWarning: Couldn't save offsets because: [Errno 13] Permission denied: '/net/sbp/srnas2/tfrahlki/Simulations/AAAA_TREMD/Production/AAAA/.traj6.AAAA.3_proc.xtc_offsets.npz'\n",
      "  warnings.warn(\"Couldn't save offsets because: {}\".format(e))\n"
     ]
    },
    {
     "name": "stdout",
     "output_type": "stream",
     "text": [
      "3\n"
     ]
    },
    {
     "name": "stderr",
     "output_type": "stream",
     "text": [
      "/u/i/igilardo/.local/lib/python3.6/site-packages/MDAnalysis/coordinates/XDR.py:232: UserWarning: Couldn't save offsets because: [Errno 13] Permission denied: '/net/sbp/srnas2/tfrahlki/Simulations/AAAA_TREMD/Production/AAAA/.traj6.AAAA.4_proc.xtc_offsets.npz'\n",
      "  warnings.warn(\"Couldn't save offsets because: {}\".format(e))\n"
     ]
    },
    {
     "name": "stdout",
     "output_type": "stream",
     "text": [
      "4\n"
     ]
    },
    {
     "name": "stderr",
     "output_type": "stream",
     "text": [
      "/u/i/igilardo/.local/lib/python3.6/site-packages/MDAnalysis/coordinates/XDR.py:232: UserWarning: Couldn't save offsets because: [Errno 13] Permission denied: '/net/sbp/srnas2/tfrahlki/Simulations/AAAA_TREMD/Production/AAAA/.traj6.AAAA.5_proc.xtc_offsets.npz'\n",
      "  warnings.warn(\"Couldn't save offsets because: {}\".format(e))\n"
     ]
    },
    {
     "data": {
      "text/plain": [
       "1017005"
      ]
     },
     "execution_count": 5,
     "metadata": {},
     "output_type": "execute_result"
    }
   ],
   "source": [
    "length=0\n",
    "\n",
    "# whole trajectory (too long to keep in memory, use subtrajectories)\n",
    "#univ=mda.Universe(curr_dir+'/reference_test.pdb',curr_dir+'/traj6.%s_proc.xtc' % Sequence)\n",
    "#length+=len(univ.trajectory)\n",
    "\n",
    "for i in range(js[n_seq]):\n",
    "    print(i)\n",
    "    univ=mda.Universe(curr_dir+'/reference_test.pdb',curr_dir+'/traj6.%s.%s_proc.xtc' % (Sequence, i+1))\n",
    "    length+=len(univ.trajectory)\n",
    "\n",
    "length"
   ]
  },
  {
   "cell_type": "code",
   "execution_count": 6,
   "metadata": {},
   "outputs": [
    {
     "data": {
      "text/plain": [
       "(1017000, 6)"
      ]
     },
     "execution_count": 6,
     "metadata": {},
     "output_type": "execute_result"
    }
   ],
   "source": [
    "data=pandas.read_csv('data/ff_angles%s' % Sequence)\n",
    "data.shape"
   ]
  },
  {
   "cell_type": "code",
   "execution_count": 71,
   "metadata": {},
   "outputs": [
    {
     "name": "stderr",
     "output_type": "stream",
     "text": [
      "/u/i/igilardo/.local/lib/python3.6/site-packages/MDAnalysis/topology/PDBParser.py:334: UserWarning: Unknown element VS found for some atoms. These have been given an empty element record. If needed they can be guessed using MDAnalysis.topology.guessers.\n",
      "  warnings.warn(wmsg)\n",
      "/u/i/igilardo/.local/lib/python3.6/site-packages/MDAnalysis/topology/guessers.py:146: UserWarning: Failed to guess the mass for the following atom types: VS\n",
      "  warnings.warn(\"Failed to guess the mass for the following atom types: {}\".format(atom_type))\n",
      "/u/i/igilardo/.local/lib/python3.6/site-packages/MDAnalysis/coordinates/XDR.py:232: UserWarning: Couldn't save offsets because: [Errno 13] Permission denied: '/net/sbp/srnas2/tfrahlki/Simulations/AAAA_TREMD/Production/AAAA/.traj_comp6.xtc_offsets.npz'\n",
      "  warnings.warn(\"Couldn't save offsets because: {}\".format(e))\n"
     ]
    },
    {
     "name": "stdout",
     "output_type": "stream",
     "text": [
      "0\n"
     ]
    },
    {
     "name": "stderr",
     "output_type": "stream",
     "text": [
      "/u/i/igilardo/.local/lib/python3.6/site-packages/MDAnalysis/coordinates/XDR.py:232: UserWarning: Couldn't save offsets because: [Errno 13] Permission denied: '/net/sbp/srnas2/tfrahlki/Simulations/AAAA_TREMD/Production/AAAA/.traj_comp6.part0002.xtc_offsets.npz'\n",
      "  warnings.warn(\"Couldn't save offsets because: {}\".format(e))\n"
     ]
    },
    {
     "name": "stdout",
     "output_type": "stream",
     "text": [
      "1\n"
     ]
    },
    {
     "name": "stderr",
     "output_type": "stream",
     "text": [
      "/u/i/igilardo/.local/lib/python3.6/site-packages/MDAnalysis/coordinates/XDR.py:232: UserWarning: Couldn't save offsets because: [Errno 13] Permission denied: '/net/sbp/srnas2/tfrahlki/Simulations/AAAA_TREMD/Production/AAAA/.traj_comp6.part0003.xtc_offsets.npz'\n",
      "  warnings.warn(\"Couldn't save offsets because: {}\".format(e))\n"
     ]
    },
    {
     "name": "stdout",
     "output_type": "stream",
     "text": [
      "2\n"
     ]
    },
    {
     "name": "stderr",
     "output_type": "stream",
     "text": [
      "/u/i/igilardo/.local/lib/python3.6/site-packages/MDAnalysis/coordinates/XDR.py:232: UserWarning: Couldn't save offsets because: [Errno 13] Permission denied: '/net/sbp/srnas2/tfrahlki/Simulations/AAAA_TREMD/Production/AAAA/.traj_comp6.part0004.xtc_offsets.npz'\n",
      "  warnings.warn(\"Couldn't save offsets because: {}\".format(e))\n"
     ]
    },
    {
     "data": {
      "text/plain": [
       "40004"
      ]
     },
     "execution_count": 71,
     "metadata": {},
     "output_type": "execute_result"
    }
   ],
   "source": [
    "NR=6\n",
    "\n",
    "length2=0\n",
    "\n",
    "# do not read it???\n",
    "univ=mda.Universe(curr_dir+'/reference.pdb',curr_dir+'/traj_comp%s.xtc' % NR)\n",
    "length2+=len(univ.trajectory)\n",
    "alphas=[]\n",
    "alphas.append(univ.select_atoms(\"name O3' and resid 1\",\"name P and resid 2\",\"name O5' and resid 2\",\"name C5' and resid 2\"))\n",
    "dih=dihedral(alphas).run()\n",
    "g=dih.results.angles\n",
    "g=g*np.pi/180\n",
    "\n",
    "# write numbers from 0002 to 0310 (309 values)\n",
    "l=[]\n",
    "for i in range(2,311):\n",
    "    s='000%s'%i\n",
    "    s=s[-4:]\n",
    "    l.append(s)\n",
    "\n",
    "#\"traj_comp%s.part%s.xtc\" % (NR, i)\n",
    "alphas=[]\n",
    "ff_angles=[]#np.zeros(())\n",
    "b=np.zeros((0,1))\n",
    "\n",
    "for i in range(3):#309):\n",
    "    print(i)\n",
    "    alphas=[]\n",
    "\n",
    "    univ=mda.Universe(curr_dir+'/reference.pdb',curr_dir+'/traj_comp%s.part%s.xtc' % (NR, l[i]))\n",
    "    alphas.append(univ.select_atoms(\"name O3' and resid 1\",\"name P and resid 2\",\"name O5' and resid 2\",\"name C5' and resid 2\"))\n",
    "    length2+=len(univ.trajectory)\n",
    "\n",
    "    dih=dihedral(alphas).run()\n",
    "\n",
    "    #a=dih.results.angles\n",
    "    #print(a.shape)\n",
    "    \n",
    "    ff_angles.append(dih.results.angles)\n",
    "    #    )=np.concatenate((ff_angles,dih.results.angles),axis=0)\n",
    "   \n",
    "\n",
    "    #a=np.array(ff_angles)*np.pi/180\n",
    "    #print(a.shape)\n",
    "    #b=np.append(b,np.concatenate((a[0,:,:],a[1,:,:]),axis=1),axis=0)\n",
    "\n",
    "ff_angles=np.vstack(ff_angles)*np.pi/180\n",
    "\n",
    "length2 # they are 1.007.309 excluding the first .xtc, 1.017.310 including the first .xtc (/traj_comp%s.xtc)\n"
   ]
  },
  {
   "cell_type": "code",
   "execution_count": 65,
   "metadata": {},
   "outputs": [
    {
     "data": {
      "text/plain": [
       "1017310"
      ]
     },
     "execution_count": 65,
     "metadata": {},
     "output_type": "execute_result"
    }
   ],
   "source": [
    "length2"
   ]
  },
  {
   "cell_type": "code",
   "execution_count": 100,
   "metadata": {},
   "outputs": [
    {
     "name": "stdout",
     "output_type": "stream",
     "text": [
      "(40004, 1)\n",
      "(10001, 1)\n"
     ]
    },
    {
     "data": {
      "text/plain": [
       "[<matplotlib.lines.Line2D at 0x7fd3bc88b470>]"
      ]
     },
     "execution_count": 100,
     "metadata": {},
     "output_type": "execute_result"
    },
    {
     "data": {
      "image/png": "[encoded data removed]",
      "text/plain": [
       "<Figure size 432x288 with 1 Axes>"
      ]
     },
     "metadata": {
      "needs_background": "light"
     },
     "output_type": "display_data"
    },
    {
     "data": {
      "image/png": "[encoded data removed]",
      "text/plain": [
       "<Figure size 432x288 with 1 Axes>"
      ]
     },
     "metadata": {
      "needs_background": "light"
     },
     "output_type": "display_data"
    }
   ],
   "source": [
    "#plt.plot(ff_angles,'.',label='ff_angles')\n",
    "\n",
    "#plt.plot(g,'.',label='g')\n",
    "\n",
    "all=np.vstack([g,ff_angles])\n",
    "print(all.shape)\n",
    "print(g.shape)\n",
    "plt.plot(all,'.',label='all',markersize=2)\n",
    "\n",
    "data=pandas.read_csv('data/ff_angles%s' % Sequence)\n",
    "plt.plot(data['alpha[0]'][:30000],'.',markersize=2,label='alpha[0]')\n",
    "\n",
    "#plt.xlim([29000,30000])\n",
    "plt.legend()\n",
    "\n",
    "plt.figure()\n",
    "all=all[:,0]\n",
    "all=np.delete(all,0)\n",
    "diff=all-data['alpha[0]'][:len(all)]\n",
    "plt.plot(diff)\n"
   ]
  },
  {
   "cell_type": "code",
   "execution_count": 95,
   "metadata": {},
   "outputs": [
    {
     "data": {
      "text/plain": [
       "(40004, 1)"
      ]
     },
     "execution_count": 95,
     "metadata": {},
     "output_type": "execute_result"
    }
   ],
   "source": [
    "np.shape(all)\n",
    "#np.shape(data['alpha[0]'][:len(all)])"
   ]
  },
  {
   "cell_type": "code",
   "execution_count": 88,
   "metadata": {},
   "outputs": [
    {
     "name": "stdout",
     "output_type": "stream",
     "text": [
      "40004\n",
      "[[-1.25761344 -1.28829289 -1.35855926 ...  1.59265336  1.30556388\n",
      "   1.2759706 ]]\n",
      "0       -1.288291\n",
      "1       -1.358559\n",
      "2       -1.264040\n",
      "3       -1.174882\n",
      "4       -1.283088\n",
      "           ...   \n",
      "39999    1.275976\n",
      "40000    1.152096\n",
      "40001    1.491838\n",
      "40002    1.621936\n",
      "40003    1.204745\n",
      "Name: alpha[0], Length: 40004, dtype: float64\n"
     ]
    }
   ],
   "source": [
    "print(len(all))\n",
    "print(all.T)\n",
    "print(data['alpha[0]'][:40004])"
   ]
  },
  {
   "cell_type": "code",
   "execution_count": 44,
   "metadata": {},
   "outputs": [
    {
     "name": "stdout",
     "output_type": "stream",
     "text": [
      "[array([[ -66.51493743],\n",
      "       [ -79.8746032 ],\n",
      "       [ -72.11055939],\n",
      "       ...,\n",
      "       [-144.47315379],\n",
      "       [ -70.71562794],\n",
      "       [ -87.38453232]]), array([[-87.38453232],\n",
      "       [-84.77168536],\n",
      "       [-87.69744045],\n",
      "       ...,\n",
      "       [-71.90419299],\n",
      "       [-79.58220917],\n",
      "       [-74.19044576]]), array([[ -74.19044576],\n",
      "       [-102.93200914],\n",
      "       [-111.28142052],\n",
      "       ...,\n",
      "       [  63.67546516],\n",
      "       [ -97.76300537],\n",
      "       [ -96.85164295]])]\n",
      "(30003, 1)\n",
      "/net/sbp/srnas2/tfrahlki/Simulations/AAAA_TREMD/Production/AAAA\n",
      "30003\n",
      "(3, 10001, 1)\n",
      "(1017000, 6)\n"
     ]
    }
   ],
   "source": [
    "print(ff_angles)\n",
    "\n",
    "arr=np.vstack(ff_angles)\n",
    "print(np.shape(arr))\n",
    "\n",
    "print(curr_dir)\n",
    "\n",
    "print(length2)\n",
    "print(np.shape(ff_angles))\n",
    "\n",
    "data=pandas.read_csv('data/ff_anglesAAAA')\n",
    "print(np.shape(data))\n"
   ]
  },
  {
   "cell_type": "code",
   "execution_count": 232,
   "metadata": {},
   "outputs": [
    {
     "name": "stderr",
     "output_type": "stream",
     "text": [
      "/u/i/igilardo/.local/lib/python3.6/site-packages/ipykernel_launcher.py:1: VisibleDeprecationWarning: Creating an ndarray from ragged nested sequences (which is a list-or-tuple of lists-or-tuples-or ndarrays with different lengths or shapes) is deprecated. If you meant to do this, you must specify 'dtype=object' when creating the ndarray\n",
      "  \"\"\"Entry point for launching an IPython kernel.\n"
     ]
    },
    {
     "ename": "ValueError",
     "evalue": "could not broadcast input array from shape (10001,1) into shape (10001)",
     "output_type": "error",
     "traceback": [
      "\u001b[0;31m---------------------------------------------------------------------------\u001b[0m",
      "\u001b[0;31mValueError\u001b[0m                                Traceback (most recent call last)",
      "\u001b[0;32m<ipython-input-232-97738f2cf13e>\u001b[0m in \u001b[0;36m<module>\u001b[0;34m\u001b[0m\n\u001b[0;32m----> 1\u001b[0;31m \u001b[0mff_angles\u001b[0m\u001b[0;34m=\u001b[0m\u001b[0mnp\u001b[0m\u001b[0;34m.\u001b[0m\u001b[0marray\u001b[0m\u001b[0;34m(\u001b[0m\u001b[0mff_angles\u001b[0m\u001b[0;34m)\u001b[0m\u001b[0;34m*\u001b[0m\u001b[0mnp\u001b[0m\u001b[0;34m.\u001b[0m\u001b[0mpi\u001b[0m\u001b[0;34m/\u001b[0m\u001b[0;36m180\u001b[0m\u001b[0;34m\u001b[0m\u001b[0;34m\u001b[0m\u001b[0m\n\u001b[0m",
      "\u001b[0;31mValueError\u001b[0m: could not broadcast input array from shape (10001,1) into shape (10001)"
     ]
    }
   ],
   "source": [
    "ff_angles=np.array(ff_angles)*np.pi/180"
   ]
  },
  {
   "cell_type": "code",
   "execution_count": 226,
   "metadata": {},
   "outputs": [
    {
     "name": "stdout",
     "output_type": "stream",
     "text": [
      "[[-1.16090466 -1.16090466 -1.16090466 ... -1.16090466 -1.16090466\n",
      "  -1.16090466]\n",
      " [-1.39407481 -1.39407481 -1.39407481 ... -1.39407481 -1.39407481\n",
      "  -1.39407481]\n",
      " [-1.25856669 -1.25856669 -1.25856669 ... -1.25856669 -1.25856669\n",
      "  -1.25856669]\n",
      " ...\n",
      " [ 1.26029322  1.26029322  1.26029322 ...  1.26029322  1.26029322\n",
      "   1.26029322]\n",
      " [ 1.04659174  1.04659174  1.04659174 ...  1.04659174  1.04659174\n",
      "   1.04659174]\n",
      " [ 1.18395985  1.18395985  1.18395985 ...  1.18395985  1.18395985\n",
      "   1.18395985]]\n",
      "0   -1.288291\n",
      "1   -1.358559\n",
      "2   -1.264040\n",
      "3   -1.174882\n",
      "4   -1.283088\n",
      "5   -1.209514\n",
      "6   -1.580175\n",
      "7   -1.321827\n",
      "8   -1.063164\n",
      "9   -1.168324\n",
      "Name: alpha[0], dtype: float64\n"
     ]
    },
    {
     "data": {
      "text/plain": [
       "[<matplotlib.lines.Line2D at 0x7f179b4d4828>]"
      ]
     },
     "execution_count": 226,
     "metadata": {},
     "output_type": "execute_result"
    },
    {
     "data": {
      "image/png": "[encoded data removed]",
      "text/plain": [
       "<Figure size 432x288 with 1 Axes>"
      ]
     },
     "metadata": {
      "needs_background": "light"
     },
     "output_type": "display_data"
    }
   ],
   "source": [
    "np.shape(data['alpha[0]'])\n",
    "\n",
    "print(ff_angles[:10])\n",
    "print(data['alpha[0]'][:10])\n",
    "\n",
    "plt.plot(ff_angles,'b.')\n",
    "plt.plot(data['alpha[0]'],'r.',markersize=2)"
   ]
  },
  {
   "cell_type": "code",
   "execution_count": 216,
   "metadata": {},
   "outputs": [
    {
     "data": {
      "text/html": [
       "<div>\n",
       "<style scoped>\n",
       "    .dataframe tbody tr th:only-of-type {\n",
       "        vertical-align: middle;\n",
       "    }\n",
       "\n",
       "    .dataframe tbody tr th {\n",
       "        vertical-align: top;\n",
       "    }\n",
       "\n",
       "    .dataframe thead th {\n",
       "        text-align: right;\n",
       "    }\n",
       "</style>\n",
       "<table border=\"1\" class=\"dataframe\">\n",
       "  <thead>\n",
       "    <tr style=\"text-align: right;\">\n",
       "      <th></th>\n",
       "      <th>alpha[0]</th>\n",
       "      <th>alpha[1]</th>\n",
       "      <th>alpha[2]</th>\n",
       "      <th>zeta[0]</th>\n",
       "      <th>zeta[1]</th>\n",
       "      <th>zeta[2]</th>\n",
       "    </tr>\n",
       "  </thead>\n",
       "  <tbody>\n",
       "    <tr>\n",
       "      <th>0</th>\n",
       "      <td>-1.288291</td>\n",
       "      <td>-1.389559</td>\n",
       "      <td>-1.430530</td>\n",
       "      <td>-1.131958</td>\n",
       "      <td>-0.958216</td>\n",
       "      <td>-1.095295</td>\n",
       "    </tr>\n",
       "    <tr>\n",
       "      <th>1</th>\n",
       "      <td>-1.358559</td>\n",
       "      <td>-1.458911</td>\n",
       "      <td>-1.263762</td>\n",
       "      <td>-0.816740</td>\n",
       "      <td>-0.844336</td>\n",
       "      <td>-1.309816</td>\n",
       "    </tr>\n",
       "    <tr>\n",
       "      <th>2</th>\n",
       "      <td>-1.264040</td>\n",
       "      <td>-1.307111</td>\n",
       "      <td>-1.300115</td>\n",
       "      <td>-1.038067</td>\n",
       "      <td>-0.982047</td>\n",
       "      <td>-1.308080</td>\n",
       "    </tr>\n",
       "    <tr>\n",
       "      <th>3</th>\n",
       "      <td>-1.174882</td>\n",
       "      <td>-1.594017</td>\n",
       "      <td>-1.293726</td>\n",
       "      <td>-1.022765</td>\n",
       "      <td>-0.847152</td>\n",
       "      <td>-1.370124</td>\n",
       "    </tr>\n",
       "    <tr>\n",
       "      <th>4</th>\n",
       "      <td>-1.283088</td>\n",
       "      <td>-1.286718</td>\n",
       "      <td>-1.119380</td>\n",
       "      <td>-1.176443</td>\n",
       "      <td>-0.967179</td>\n",
       "      <td>-1.289029</td>\n",
       "    </tr>\n",
       "    <tr>\n",
       "      <th>...</th>\n",
       "      <td>...</td>\n",
       "      <td>...</td>\n",
       "      <td>...</td>\n",
       "      <td>...</td>\n",
       "      <td>...</td>\n",
       "      <td>...</td>\n",
       "    </tr>\n",
       "    <tr>\n",
       "      <th>1016995</th>\n",
       "      <td>-1.298791</td>\n",
       "      <td>-1.532185</td>\n",
       "      <td>-1.418647</td>\n",
       "      <td>-0.968253</td>\n",
       "      <td>-0.675758</td>\n",
       "      <td>-0.735130</td>\n",
       "    </tr>\n",
       "    <tr>\n",
       "      <th>1016996</th>\n",
       "      <td>-1.247655</td>\n",
       "      <td>-1.195711</td>\n",
       "      <td>-1.263889</td>\n",
       "      <td>-1.263326</td>\n",
       "      <td>-0.978227</td>\n",
       "      <td>-0.961930</td>\n",
       "    </tr>\n",
       "    <tr>\n",
       "      <th>1016997</th>\n",
       "      <td>-1.181565</td>\n",
       "      <td>-1.313690</td>\n",
       "      <td>-1.279943</td>\n",
       "      <td>-0.943951</td>\n",
       "      <td>-0.924044</td>\n",
       "      <td>-0.991764</td>\n",
       "    </tr>\n",
       "    <tr>\n",
       "      <th>1016998</th>\n",
       "      <td>-1.128263</td>\n",
       "      <td>-1.192813</td>\n",
       "      <td>-1.386086</td>\n",
       "      <td>-1.469547</td>\n",
       "      <td>-0.779078</td>\n",
       "      <td>-1.036660</td>\n",
       "    </tr>\n",
       "    <tr>\n",
       "      <th>1016999</th>\n",
       "      <td>-1.173452</td>\n",
       "      <td>-1.237300</td>\n",
       "      <td>-1.144029</td>\n",
       "      <td>-1.577498</td>\n",
       "      <td>-1.132986</td>\n",
       "      <td>-1.104797</td>\n",
       "    </tr>\n",
       "  </tbody>\n",
       "</table>\n",
       "<p>1017000 rows × 6 columns</p>\n",
       "</div>"
      ],
      "text/plain": [
       "         alpha[0]  alpha[1]  alpha[2]   zeta[0]   zeta[1]   zeta[2]\n",
       "0       -1.288291 -1.389559 -1.430530 -1.131958 -0.958216 -1.095295\n",
       "1       -1.358559 -1.458911 -1.263762 -0.816740 -0.844336 -1.309816\n",
       "2       -1.264040 -1.307111 -1.300115 -1.038067 -0.982047 -1.308080\n",
       "3       -1.174882 -1.594017 -1.293726 -1.022765 -0.847152 -1.370124\n",
       "4       -1.283088 -1.286718 -1.119380 -1.176443 -0.967179 -1.289029\n",
       "...           ...       ...       ...       ...       ...       ...\n",
       "1016995 -1.298791 -1.532185 -1.418647 -0.968253 -0.675758 -0.735130\n",
       "1016996 -1.247655 -1.195711 -1.263889 -1.263326 -0.978227 -0.961930\n",
       "1016997 -1.181565 -1.313690 -1.279943 -0.943951 -0.924044 -0.991764\n",
       "1016998 -1.128263 -1.192813 -1.386086 -1.469547 -0.779078 -1.036660\n",
       "1016999 -1.173452 -1.237300 -1.144029 -1.577498 -1.132986 -1.104797\n",
       "\n",
       "[1017000 rows x 6 columns]"
      ]
     },
     "execution_count": 216,
     "metadata": {},
     "output_type": "execute_result"
    }
   ],
   "source": [
    "data['alpha']\n",
    "plt.plot(data['alpha[0]'],'.')\n",
    "plt.plot(ff_angles,'.')"
   ]
  },
  {
   "cell_type": "markdown",
   "metadata": {},
   "source": [
    "there are repeated frames: the last of each subtrajectories and the first of the subsequent one"
   ]
  },
  {
   "cell_type": "code",
   "execution_count": 42,
   "metadata": {},
   "outputs": [
    {
     "name": "stdout",
     "output_type": "stream",
     "text": [
      "2000\n",
      "[[36.11        5.8400006   4.4300003 ]\n",
      " [36.870003    5.8900003   5.0200005 ]\n",
      " [38.06        6.13        4.23      ]\n",
      " ...\n",
      " [35.590004   39.16       19.6       ]\n",
      " [ 4.4100003   4.3300004   5.88      ]\n",
      " [ 7.9600005   0.96000004 32.06      ]]\n",
      "0\n",
      "[[36.11        5.8400006   4.4300003 ]\n",
      " [36.870003    5.8900003   5.0200005 ]\n",
      " [38.06        6.13        4.23      ]\n",
      " ...\n",
      " [35.590004   39.16       19.6       ]\n",
      " [ 4.4100003   4.3300004   5.88      ]\n",
      " [ 7.9600005   0.96000004 32.06      ]]\n"
     ]
    }
   ],
   "source": [
    "i=225\n",
    "univ=mda.Universe(curr_dir+'/reference.pdb',curr_dir+'/traj_comp%s.part%s.xtc' % (NR, l[i]))\n",
    "univ.trajectory[-1]\n",
    "print(univ.trajectory.frame)\n",
    "print(univ.atoms.positions)\n",
    "\n",
    "i=226\n",
    "univ=mda.Universe(curr_dir+'/reference.pdb',curr_dir+'/traj_comp%s.part%s.xtc' % (NR, l[i]))\n",
    "univ.trajectory[0]\n",
    "print(univ.trajectory.frame)\n",
    "print(univ.atoms.positions)\n",
    "#fr=univ.trajectory[0]"
   ]
  },
  {
   "cell_type": "markdown",
   "metadata": {},
   "source": [
    "the two numbers match, do demuxing: compare the positions of all the atoms (including the solvent) at frame i,i+1 (with PBC) through MDAnalysis, and do linear_sum_assignment as in Demux.ipynb; the key point is to keep in memory only couples of frames at a time, in order to not waste memory\n",
    "\n",
    "two quantities you can use (independently): rather than taking into account PBC, you can exploit the fact that most of the atoms are inside the volume rather than close to the surface, so the average distance is completely different, as also the n. of particles which move only a bit\n",
    "\n",
    "the first quantity is quite sensitive to the box size: it is true that only few particles cross the border at each step and the most of them are in the bulk, but if the box is very large then the average is highly impacted by this; so, the second quantity avoids this problem\n",
    "\n",
    "pay attention to the repeated frames (the last of each subtrajectory and the first of the subsequent one): read each subtrajectory from the second frame (except for the first subtrajectory)"
   ]
  },
  {
   "cell_type": "markdown",
   "metadata": {},
   "source": [
    "### example:"
   ]
  },
  {
   "cell_type": "code",
   "execution_count": 210,
   "metadata": {},
   "outputs": [
    {
     "name": "stderr",
     "output_type": "stream",
     "text": [
      "/u/i/igilardo/.local/lib/python3.6/site-packages/MDAnalysis/topology/PDBParser.py:334: UserWarning: Unknown element VS found for some atoms. These have been given an empty element record. If needed they can be guessed using MDAnalysis.topology.guessers.\n",
      "  warnings.warn(wmsg)\n",
      "/u/i/igilardo/.local/lib/python3.6/site-packages/MDAnalysis/topology/guessers.py:146: UserWarning: Failed to guess the mass for the following atom types: VS\n",
      "  warnings.warn(\"Failed to guess the mass for the following atom types: {}\".format(atom_type))\n",
      "/u/i/igilardo/.local/lib/python3.6/site-packages/MDAnalysis/coordinates/XDR.py:232: UserWarning: Couldn't save offsets because: [Errno 13] Permission denied: '/net/sbp/srnas2/tfrahlki/Simulations/AAAA_TREMD/Production/AAAA/.traj_comp23.part0002.xtc_offsets.npz'\n",
      "  warnings.warn(\"Couldn't save offsets because: {}\".format(e))\n",
      "/u/i/igilardo/.local/lib/python3.6/site-packages/MDAnalysis/coordinates/XDR.py:232: UserWarning: Couldn't save offsets because: [Errno 13] Permission denied: '/net/sbp/srnas2/tfrahlki/Simulations/AAAA_TREMD/Production/AAAA/.traj_comp0.part0002.xtc_offsets.npz'\n",
      "  warnings.warn(\"Couldn't save offsets because: {}\".format(e))\n"
     ]
    },
    {
     "name": "stdout",
     "output_type": "stream",
     "text": [
      "51.05\n"
     ]
    },
    {
     "data": {
      "image/png": "[encoded data removed]",
      "text/plain": [
       "<Figure size 432x288 with 1 Axes>"
      ]
     },
     "metadata": {
      "needs_background": "light"
     },
     "output_type": "display_data"
    },
    {
     "name": "stdout",
     "output_type": "stream",
     "text": [
      "[15.437286]\n",
      "[7883]\n",
      "51.05\n"
     ]
    },
    {
     "data": {
      "image/png": "[encoded data removed]",
      "text/plain": [
       "<Figure size 432x288 with 1 Axes>"
      ]
     },
     "metadata": {
      "needs_background": "light"
     },
     "output_type": "display_data"
    },
    {
     "name": "stdout",
     "output_type": "stream",
     "text": [
      "[15.437286, 2.4355752]\n",
      "[7883, 35517]\n"
     ]
    }
   ],
   "source": [
    "i=0\n",
    "univ=mda.Universe(curr_dir+'/reference.pdb',curr_dir+'/traj_comp%s.part%s.xtc' % (NR, l[i]))\n",
    "\n",
    "univ.trajectory[5]\n",
    "x1=univ.atoms.positions\n",
    "\n",
    "diff1=[] # the mean\n",
    "diff2=[] # how many >5\n",
    "\n",
    "for NR in [0,23]:# range(24):\n",
    "    univ=mda.Universe(curr_dir+'/reference.pdb',curr_dir+'/traj_comp%s.part%s.xtc' % (NR, l[i]))\n",
    "\n",
    "    univ.trajectory[6]\n",
    "    x2=univ.atoms.positions\n",
    "\n",
    "    dx=np.abs(x2-x1)\n",
    "\n",
    "    diff1.append(np.mean(dx))\n",
    "\n",
    "    diff2.append(len(np.argwhere(dx.flatten()<5)))\n",
    "\n",
    "    plt.figure()\n",
    "    plt.hist(dx,bins=100)\n",
    "    plt.show()\n",
    "\n",
    "    print(diff1)\n",
    "    print(diff2)"
   ]
  },
  {
   "cell_type": "markdown",
   "metadata": {},
   "source": [
    "### demuxing function"
   ]
  },
  {
   "cell_type": "code",
   "execution_count": 211,
   "metadata": {},
   "outputs": [],
   "source": [
    "from scipy.optimize import linear_sum_assignment"
   ]
  },
  {
   "cell_type": "code",
   "execution_count": 191,
   "metadata": {},
   "outputs": [
    {
     "name": "stdout",
     "output_type": "stream",
     "text": [
      "3N with N n. of atoms:  37086\n"
     ]
    }
   ],
   "source": [
    "n_replicas=24\n"
   ]
  },
  {
   "cell_type": "code",
   "execution_count": 203,
   "metadata": {},
   "outputs": [
    {
     "name": "stderr",
     "output_type": "stream",
     "text": [
      "/u/i/igilardo/.local/lib/python3.6/site-packages/MDAnalysis/topology/PDBParser.py:334: UserWarning: Unknown element VS found for some atoms. These have been given an empty element record. If needed they can be guessed using MDAnalysis.topology.guessers.\n",
      "  warnings.warn(wmsg)\n",
      "/u/i/igilardo/.local/lib/python3.6/site-packages/MDAnalysis/topology/guessers.py:146: UserWarning: Failed to guess the mass for the following atom types: VS\n",
      "  warnings.warn(\"Failed to guess the mass for the following atom types: {}\".format(atom_type))\n",
      "/u/i/igilardo/.local/lib/python3.6/site-packages/MDAnalysis/coordinates/XDR.py:232: UserWarning: Couldn't save offsets because: [Errno 13] Permission denied: '/net/sbp/srnas2/tfrahlki/Simulations/AAAA_TREMD/Production/AAAA/.traj_comp0.part0002.xtc_offsets.npz'\n",
      "  warnings.warn(\"Couldn't save offsets because: {}\".format(e))\n",
      "/u/i/igilardo/.local/lib/python3.6/site-packages/MDAnalysis/coordinates/XDR.py:232: UserWarning: Couldn't save offsets because: [Errno 13] Permission denied: '/net/sbp/srnas2/tfrahlki/Simulations/AAAA_TREMD/Production/AAAA/.traj_comp1.part0002.xtc_offsets.npz'\n",
      "  warnings.warn(\"Couldn't save offsets because: {}\".format(e))\n",
      "/u/i/igilardo/.local/lib/python3.6/site-packages/MDAnalysis/coordinates/XDR.py:232: UserWarning: Couldn't save offsets because: [Errno 13] Permission denied: '/net/sbp/srnas2/tfrahlki/Simulations/AAAA_TREMD/Production/AAAA/.traj_comp2.part0002.xtc_offsets.npz'\n",
      "  warnings.warn(\"Couldn't save offsets because: {}\".format(e))\n",
      "/u/i/igilardo/.local/lib/python3.6/site-packages/MDAnalysis/coordinates/XDR.py:232: UserWarning: Couldn't save offsets because: [Errno 13] Permission denied: '/net/sbp/srnas2/tfrahlki/Simulations/AAAA_TREMD/Production/AAAA/.traj_comp3.part0002.xtc_offsets.npz'\n",
      "  warnings.warn(\"Couldn't save offsets because: {}\".format(e))\n",
      "/u/i/igilardo/.local/lib/python3.6/site-packages/MDAnalysis/coordinates/XDR.py:232: UserWarning: Couldn't save offsets because: [Errno 13] Permission denied: '/net/sbp/srnas2/tfrahlki/Simulations/AAAA_TREMD/Production/AAAA/.traj_comp4.part0002.xtc_offsets.npz'\n",
      "  warnings.warn(\"Couldn't save offsets because: {}\".format(e))\n",
      "/u/i/igilardo/.local/lib/python3.6/site-packages/MDAnalysis/coordinates/XDR.py:232: UserWarning: Couldn't save offsets because: [Errno 13] Permission denied: '/net/sbp/srnas2/tfrahlki/Simulations/AAAA_TREMD/Production/AAAA/.traj_comp5.part0002.xtc_offsets.npz'\n",
      "  warnings.warn(\"Couldn't save offsets because: {}\".format(e))\n",
      "/u/i/igilardo/.local/lib/python3.6/site-packages/MDAnalysis/coordinates/XDR.py:232: UserWarning: Couldn't save offsets because: [Errno 13] Permission denied: '/net/sbp/srnas2/tfrahlki/Simulations/AAAA_TREMD/Production/AAAA/.traj_comp6.part0002.xtc_offsets.npz'\n",
      "  warnings.warn(\"Couldn't save offsets because: {}\".format(e))\n",
      "/u/i/igilardo/.local/lib/python3.6/site-packages/MDAnalysis/coordinates/XDR.py:232: UserWarning: Couldn't save offsets because: [Errno 13] Permission denied: '/net/sbp/srnas2/tfrahlki/Simulations/AAAA_TREMD/Production/AAAA/.traj_comp7.part0002.xtc_offsets.npz'\n",
      "  warnings.warn(\"Couldn't save offsets because: {}\".format(e))\n",
      "/u/i/igilardo/.local/lib/python3.6/site-packages/MDAnalysis/coordinates/XDR.py:232: UserWarning: Couldn't save offsets because: [Errno 13] Permission denied: '/net/sbp/srnas2/tfrahlki/Simulations/AAAA_TREMD/Production/AAAA/.traj_comp8.part0002.xtc_offsets.npz'\n",
      "  warnings.warn(\"Couldn't save offsets because: {}\".format(e))\n",
      "/u/i/igilardo/.local/lib/python3.6/site-packages/MDAnalysis/coordinates/XDR.py:232: UserWarning: Couldn't save offsets because: [Errno 13] Permission denied: '/net/sbp/srnas2/tfrahlki/Simulations/AAAA_TREMD/Production/AAAA/.traj_comp9.part0002.xtc_offsets.npz'\n",
      "  warnings.warn(\"Couldn't save offsets because: {}\".format(e))\n",
      "/u/i/igilardo/.local/lib/python3.6/site-packages/MDAnalysis/coordinates/XDR.py:232: UserWarning: Couldn't save offsets because: [Errno 13] Permission denied: '/net/sbp/srnas2/tfrahlki/Simulations/AAAA_TREMD/Production/AAAA/.traj_comp10.part0002.xtc_offsets.npz'\n",
      "  warnings.warn(\"Couldn't save offsets because: {}\".format(e))\n",
      "/u/i/igilardo/.local/lib/python3.6/site-packages/MDAnalysis/coordinates/XDR.py:232: UserWarning: Couldn't save offsets because: [Errno 13] Permission denied: '/net/sbp/srnas2/tfrahlki/Simulations/AAAA_TREMD/Production/AAAA/.traj_comp11.part0002.xtc_offsets.npz'\n",
      "  warnings.warn(\"Couldn't save offsets because: {}\".format(e))\n",
      "/u/i/igilardo/.local/lib/python3.6/site-packages/MDAnalysis/coordinates/XDR.py:232: UserWarning: Couldn't save offsets because: [Errno 13] Permission denied: '/net/sbp/srnas2/tfrahlki/Simulations/AAAA_TREMD/Production/AAAA/.traj_comp12.part0002.xtc_offsets.npz'\n",
      "  warnings.warn(\"Couldn't save offsets because: {}\".format(e))\n",
      "/u/i/igilardo/.local/lib/python3.6/site-packages/MDAnalysis/coordinates/XDR.py:232: UserWarning: Couldn't save offsets because: [Errno 13] Permission denied: '/net/sbp/srnas2/tfrahlki/Simulations/AAAA_TREMD/Production/AAAA/.traj_comp13.part0002.xtc_offsets.npz'\n",
      "  warnings.warn(\"Couldn't save offsets because: {}\".format(e))\n",
      "/u/i/igilardo/.local/lib/python3.6/site-packages/MDAnalysis/coordinates/XDR.py:232: UserWarning: Couldn't save offsets because: [Errno 13] Permission denied: '/net/sbp/srnas2/tfrahlki/Simulations/AAAA_TREMD/Production/AAAA/.traj_comp14.part0002.xtc_offsets.npz'\n",
      "  warnings.warn(\"Couldn't save offsets because: {}\".format(e))\n",
      "/u/i/igilardo/.local/lib/python3.6/site-packages/MDAnalysis/coordinates/XDR.py:232: UserWarning: Couldn't save offsets because: [Errno 13] Permission denied: '/net/sbp/srnas2/tfrahlki/Simulations/AAAA_TREMD/Production/AAAA/.traj_comp15.part0002.xtc_offsets.npz'\n",
      "  warnings.warn(\"Couldn't save offsets because: {}\".format(e))\n",
      "/u/i/igilardo/.local/lib/python3.6/site-packages/MDAnalysis/coordinates/XDR.py:232: UserWarning: Couldn't save offsets because: [Errno 13] Permission denied: '/net/sbp/srnas2/tfrahlki/Simulations/AAAA_TREMD/Production/AAAA/.traj_comp16.part0002.xtc_offsets.npz'\n",
      "  warnings.warn(\"Couldn't save offsets because: {}\".format(e))\n",
      "/u/i/igilardo/.local/lib/python3.6/site-packages/MDAnalysis/coordinates/XDR.py:232: UserWarning: Couldn't save offsets because: [Errno 13] Permission denied: '/net/sbp/srnas2/tfrahlki/Simulations/AAAA_TREMD/Production/AAAA/.traj_comp17.part0002.xtc_offsets.npz'\n",
      "  warnings.warn(\"Couldn't save offsets because: {}\".format(e))\n",
      "/u/i/igilardo/.local/lib/python3.6/site-packages/MDAnalysis/coordinates/XDR.py:232: UserWarning: Couldn't save offsets because: [Errno 13] Permission denied: '/net/sbp/srnas2/tfrahlki/Simulations/AAAA_TREMD/Production/AAAA/.traj_comp18.part0002.xtc_offsets.npz'\n",
      "  warnings.warn(\"Couldn't save offsets because: {}\".format(e))\n",
      "/u/i/igilardo/.local/lib/python3.6/site-packages/MDAnalysis/coordinates/XDR.py:232: UserWarning: Couldn't save offsets because: [Errno 13] Permission denied: '/net/sbp/srnas2/tfrahlki/Simulations/AAAA_TREMD/Production/AAAA/.traj_comp19.part0002.xtc_offsets.npz'\n",
      "  warnings.warn(\"Couldn't save offsets because: {}\".format(e))\n",
      "/u/i/igilardo/.local/lib/python3.6/site-packages/MDAnalysis/coordinates/XDR.py:232: UserWarning: Couldn't save offsets because: [Errno 13] Permission denied: '/net/sbp/srnas2/tfrahlki/Simulations/AAAA_TREMD/Production/AAAA/.traj_comp20.part0002.xtc_offsets.npz'\n",
      "  warnings.warn(\"Couldn't save offsets because: {}\".format(e))\n",
      "/u/i/igilardo/.local/lib/python3.6/site-packages/MDAnalysis/coordinates/XDR.py:232: UserWarning: Couldn't save offsets because: [Errno 13] Permission denied: '/net/sbp/srnas2/tfrahlki/Simulations/AAAA_TREMD/Production/AAAA/.traj_comp21.part0002.xtc_offsets.npz'\n",
      "  warnings.warn(\"Couldn't save offsets because: {}\".format(e))\n",
      "/u/i/igilardo/.local/lib/python3.6/site-packages/MDAnalysis/coordinates/XDR.py:232: UserWarning: Couldn't save offsets because: [Errno 13] Permission denied: '/net/sbp/srnas2/tfrahlki/Simulations/AAAA_TREMD/Production/AAAA/.traj_comp22.part0002.xtc_offsets.npz'\n",
      "  warnings.warn(\"Couldn't save offsets because: {}\".format(e))\n",
      "/u/i/igilardo/.local/lib/python3.6/site-packages/MDAnalysis/coordinates/XDR.py:232: UserWarning: Couldn't save offsets because: [Errno 13] Permission denied: '/net/sbp/srnas2/tfrahlki/Simulations/AAAA_TREMD/Production/AAAA/.traj_comp23.part0002.xtc_offsets.npz'\n",
      "  warnings.warn(\"Couldn't save offsets because: {}\".format(e))\n"
     ]
    }
   ],
   "source": [
    "permutations=[]\n",
    "\n",
    "# for n_seq in [0]:#range(len(Sequences)):\n",
    "n_seq=0\n",
    "\n",
    "Sequence=Sequences[n_seq]\n",
    "curr_dir='/net/sbp/srnas2/tfrahlki/Simulations/%s_TREMD/Production/%s' % (Sequence,Sequence)\n",
    "print('tetramer: ',Sequence)\n",
    "print(curr_dir)\n",
    "\n",
    "univ=mda.Universe(curr_dir+'/reference.pdb',curr_dir+'/traj_comp0.part%s.xtc' % l[0])\n",
    "ncoord=np.shape(univ.atoms.positions.flatten())[0]\n",
    "print('3N = (with N n. of atoms): ',ncoord)\n",
    "\n",
    "# initialization of x\n",
    "x=np.zeros((n_replicas,ncoord))\n",
    "\n",
    "for NR in range(n_replicas):\n",
    "    exec('univ'+str(NR)+\"=mda.Universe(curr_dir+'/reference.pdb',curr_dir+'/traj_comp%s.part%s.xtc' % (NR, l[0]))\")\n",
    "    exec('univ'+str(NR)+\".trajectory[0]\")\n",
    "    exec('x[NR,:]=univ'+str(NR)+'.atoms.positions.flatten()') \n",
    "\n",
    "# for i in range(js[n_seq]):\n",
    "i=0 # index of subtrajectory\n",
    "\n",
    "for NR in range(n_replicas):\n",
    "    #path=curr_dir+'/traj_comp%s.part%s.xtc' % (NR, l[i])\n",
    "    exec('univ'+str(NR)+\"=mda.Universe(curr_dir+'/reference.pdb',curr_dir+'/traj_comp%s.part%s.xtc' % (NR, l[i]))\")\n",
    "\n",
    "# for j in range(1,len(univ)): # for on the frames\n",
    "j=5 # frame index\n",
    "\n",
    "x_new=np.zeros((n_replicas,ncoord))\n",
    "dx=np.zeros((n_replicas,n_replicas,ncoord))\n",
    "\n",
    "for NR in range(n_replicas):\n",
    "    exec('univ'+str(NR)+\".trajectory[j]\")\n",
    "\n",
    "##x=np.zeros((n_replicas,ncoord))\n",
    "##x_new=np.zeros((n_replicas,ncoord))\n",
    "##dx=np.zeros((n_replicas,n_replicas,ncoord))\n",
    "\n",
    "##for NR in range(n_replicas):\n",
    "##    exec('x[NR,:]=univ'+str(NR)+'.atoms.positions.flatten()') \n",
    "\n",
    "##univ.trajectory[j+1]\n",
    "##for NR in range(n_replicas):\n",
    "##    exec('univ'+str(NR)+'.trajectory[j+1]')\n",
    "\n",
    "##for NR in range(n_replicas):\n",
    "    exec('x_new[NR,:]=univ'+str(NR)+'.atoms.positions.flatten()')\n",
    "    for NR2 in range(NR+1):\n",
    "        dx[NR,NR2,:]=np.abs(x[NR,:]-x_new[NR2,:])\n",
    "        dx[NR2,NR,:]=dx[NR,NR2,:]\n",
    "#dx=np.abs(x-x_new)#distance.cdist(x,x_new,'minkowski',p=1)\n",
    "\n",
    "x=x_new\n",
    "\n",
    "diff1=np.mean(dx,axis=2)\n",
    "\n",
    "i0,i1,i2=np.where(dx<5)\n",
    "diff2=np.histogram2d(i0,i1,bins=np.arange(n_replicas+1))\n",
    "\n",
    "(rows,cols1)=linear_sum_assignment(diff1)\n",
    "(rows,cols2)=linear_sum_assignment(1/diff2[0])\n",
    "if np.array_equal(cols1,cols2):\n",
    "    permutations.append(permutations[-1][cols2])\n",
    "else:\n",
    "    print('error')"
   ]
  }
 ],
 "metadata": {
  "kernelspec": {
   "display_name": "Python 3.6.8 64-bit",
   "language": "python",
   "name": "python3"
  },
  "language_info": {
   "codemirror_mode": {
    "name": "ipython",
    "version": 3
   },
   "file_extension": ".py",
   "mimetype": "text/x-python",
   "name": "python",
   "nbconvert_exporter": "python",
   "pygments_lexer": "ipython3",
   "version": "3.6.8"
  },
  "orig_nbformat": 4,
  "vscode": {
   "interpreter": {
    "hash": "31f2aee4e71d21fbe5cf8b01ff0e069b9275f58929596ceb00d14d90e3e16cd6"
   }
  }
 },
 "nbformat": 4,
 "nbformat_minor": 2
}
