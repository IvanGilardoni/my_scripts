{
 "cells": [
  {
   "cell_type": "markdown",
   "metadata": {},
   "source": [
    "# Tutorial for Functions_mine.py"
   ]
  },
  {
   "cell_type": "code",
   "execution_count": 1,
   "metadata": {},
   "outputs": [],
   "source": [
    "import pandas\n",
    "import matplotlib.pyplot as plt"
   ]
  },
  {
   "cell_type": "markdown",
   "metadata": {},
   "source": [
    "## my_plots functions"
   ]
  },
  {
   "cell_type": "code",
   "execution_count": 2,
   "metadata": {},
   "outputs": [],
   "source": [
    "from Functions_mine import my_plots"
   ]
  },
  {
   "cell_type": "markdown",
   "metadata": {},
   "source": [
    "### $\\cdot$ plot_DataFrame"
   ]
  },
  {
   "cell_type": "markdown",
   "metadata": {},
   "source": [
    "plot $A_{ij}$ value of a DataFrame at position $b_{ji}$, with $b_{0i} = i$, $b_{ji} = b_{j-1,i}+\\Delta b$ and $\\Delta b = \\frac{1}{\\#j + 1}$"
   ]
  },
  {
   "cell_type": "code",
   "execution_count": 3,
   "metadata": {},
   "outputs": [
    {
     "data": {
      "text/html": [
       "<div>\n",
       "<style scoped>\n",
       "    .dataframe tbody tr th:only-of-type {\n",
       "        vertical-align: middle;\n",
       "    }\n",
       "\n",
       "    .dataframe tbody tr th {\n",
       "        vertical-align: top;\n",
       "    }\n",
       "\n",
       "    .dataframe thead th {\n",
       "        text-align: right;\n",
       "    }\n",
       "</style>\n",
       "<table border=\"1\" class=\"dataframe\">\n",
       "  <thead>\n",
       "    <tr style=\"text-align: right;\">\n",
       "      <th></th>\n",
       "      <th>Aduri</th>\n",
       "      <th>L2</th>\n",
       "      <th>DKL</th>\n",
       "    </tr>\n",
       "  </thead>\n",
       "  <tbody>\n",
       "    <tr>\n",
       "      <th>N6</th>\n",
       "      <td>-0.30623</td>\n",
       "      <td>-0.203497</td>\n",
       "      <td>-0.035353</td>\n",
       "    </tr>\n",
       "    <tr>\n",
       "      <th>H61</th>\n",
       "      <td>0.28948</td>\n",
       "      <td>0.395362</td>\n",
       "      <td>0.309458</td>\n",
       "    </tr>\n",
       "    <tr>\n",
       "      <th>N1</th>\n",
       "      <td>-0.67597</td>\n",
       "      <td>-0.728090</td>\n",
       "      <td>-0.684701</td>\n",
       "    </tr>\n",
       "    <tr>\n",
       "      <th>C10</th>\n",
       "      <td>-0.28897</td>\n",
       "      <td>-0.284466</td>\n",
       "      <td>-0.475753</td>\n",
       "    </tr>\n",
       "    <tr>\n",
       "      <th>H101/2/3</th>\n",
       "      <td>0.12596</td>\n",
       "      <td>0.069442</td>\n",
       "      <td>0.126661</td>\n",
       "    </tr>\n",
       "    <tr>\n",
       "      <th>C6</th>\n",
       "      <td>0.44911</td>\n",
       "      <td>0.457667</td>\n",
       "      <td>0.351666</td>\n",
       "    </tr>\n",
       "  </tbody>\n",
       "</table>\n",
       "</div>"
      ],
      "text/plain": [
       "            Aduri        L2       DKL\n",
       "N6       -0.30623 -0.203497 -0.035353\n",
       "H61       0.28948  0.395362  0.309458\n",
       "N1       -0.67597 -0.728090 -0.684701\n",
       "C10      -0.28897 -0.284466 -0.475753\n",
       "H101/2/3  0.12596  0.069442  0.126661\n",
       "C6        0.44911  0.457667  0.351666"
      ]
     },
     "execution_count": 3,
     "metadata": {},
     "output_type": "execute_result"
    }
   ],
   "source": [
    "df = pandas.read_csv('Functions_mine_tutorial_data/dataframe_example', index_col=0)\n",
    "df"
   ]
  },
  {
   "cell_type": "code",
   "execution_count": 4,
   "metadata": {},
   "outputs": [
    {
     "data": {
      "image/png": "[encoded data removed]",
      "text/plain": [
       "<Figure size 864x576 with 1 Axes>"
      ]
     },
     "metadata": {
      "needs_background": "light"
     },
     "output_type": "display_data"
    }
   ],
   "source": [
    "my_plots.plot_DataFrame(df)\n",
    "\n",
    "\n",
    "plt.show()"
   ]
  }
 ],
 "metadata": {
  "kernelspec": {
   "display_name": "Python 3.9.13 64-bit",
   "language": "python",
   "name": "python3"
  },
  "language_info": {
   "codemirror_mode": {
    "name": "ipython",
    "version": 3
   },
   "file_extension": ".py",
   "mimetype": "text/x-python",
   "name": "python",
   "nbconvert_exporter": "python",
   "pygments_lexer": "ipython3",
   "version": "3.9.13"
  },
  "orig_nbformat": 4,
  "vscode": {
   "interpreter": {
    "hash": "e7370f93d1d0cde622a1f8e1c04877d8463912d04d973331ad4851f04de6915a"
   }
  }
 },
 "nbformat": 4,
 "nbformat_minor": 2
}
