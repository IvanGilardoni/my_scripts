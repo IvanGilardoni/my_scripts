{
 "cells": [
  {
   "cell_type": "markdown",
   "id": "78e2a9d7",
   "metadata": {},
   "source": [
    "# Useful command lines"
   ]
  },
  {
   "cell_type": "markdown",
   "id": "8531b40f",
   "metadata": {},
   "source": [
    "### bash:\n",
    "\n",
    "$\\textbf{cd\\, ..}$  to go to the main folder\n",
    "\n",
    "$\\textbf{find\\,.\\,-name\\,'traj6*'}$ to find files whose name starts with traj6  \n",
    "\n",
    "pgrep -af python\n",
    "\n",
    "ls -ld /proc/10455"
   ]
  },
  {
   "cell_type": "code",
   "execution_count": 1,
   "id": "7fac6a61",
   "metadata": {},
   "outputs": [],
   "source": [
    "import numpy as np\n",
    "import matplotlib.pyplot as plt"
   ]
  },
  {
   "cell_type": "markdown",
   "id": "6082574c",
   "metadata": {},
   "source": [
    "colors and text style in markdown:\n",
    "\n",
    "minimization of beta_lossf over the whole data set, to get $\\color{red}{\\textit{minlossf}}$, $\\textbf{minphis}$ and $\\color{red}{cov}$"
   ]
  },
  {
   "cell_type": "markdown",
   "id": "57486b33",
   "metadata": {},
   "source": [
    "https://pandas.pydata.org/docs/user_guide/reshaping.html#reshaping"
   ]
  },
  {
   "cell_type": "markdown",
   "id": "a7efd763",
   "metadata": {},
   "source": [
    "ssh igilardo@renoir.phys.sissa.it"
   ]
  },
  {
   "cell_type": "markdown",
   "id": "9886fa02",
   "metadata": {},
   "source": [
    "### run .py in background"
   ]
  },
  {
   "cell_type": "markdown",
   "id": "7882d6ec",
   "metadata": {},
   "source": [
    "nohup python3 run1.py &\n",
    "\n",
    "\n",
    "top_panel\n",
    "\n",
    "\n",
    "to save: ctrl + s"
   ]
  },
  {
   "cell_type": "code",
   "execution_count": 8,
   "id": "c71356e4",
   "metadata": {},
   "outputs": [
    {
     "name": "stdout",
     "output_type": "stream",
     "text": [
      "2\n",
      "[False, True]\n",
      "2\n"
     ]
    }
   ],
   "source": [
    "if_1=False\n",
    "if_2=True\n",
    "\n",
    "if (if_1 and if_2):\n",
    "    print('1 and 2')\n",
    "elif (if_1 and not (if_2)):\n",
    "    print('1')\n",
    "elif (not(if_1) and if_2):\n",
    "    print('2')\n",
    "else:\n",
    "    print('none')\n",
    "\n",
    "ifs=[if_1,if_2]\n",
    "print(ifs)\n",
    "if ifs==[True,True]:\n",
    "    print('1 and 2')\n",
    "elif ifs==[True,False]:\n",
    "    print('1')\n",
    "elif ifs==[False,True]:\n",
    "    print('2')\n",
    "else:\n",
    "    print('None')"
   ]
  },
  {
   "cell_type": "markdown",
   "id": "5a9a61c3",
   "metadata": {},
   "source": [
    "### save (with numpy) a txt (or csv, which means comma-separated values) file with row and/or column indices"
   ]
  },
  {
   "cell_type": "code",
   "execution_count": 38,
   "id": "4b844817",
   "metadata": {},
   "outputs": [
    {
     "name": "stdout",
     "output_type": "stream",
     "text": [
      "[[0.74733221 0.36119588 0.06541664 0.56802354]\n",
      " [0.40825986 0.75479231 0.74177922 0.43318082]\n",
      " [0.3320906  0.17410617 0.64666033 0.37111833]\n",
      " [0.21019258 0.60347769 0.7992375  0.56761836]\n",
      " [0.92554699 0.77929252 0.69987217 0.41069153]]\n"
     ]
    }
   ],
   "source": [
    "import numpy as np\n",
    "import string\n",
    "someData=np.random.random(size=(5,4))\n",
    "print(someData)\n",
    "# Edit: OP asked for numeric headers in the comments,\n",
    "# so here they are\n",
    "columnNames=[\"Type%d\" % (i+1) for i in range(someData.shape[1])]\n",
    "\n",
    "# For the previous answer, uncomment both below\n",
    "# letters=string.ascii_uppercase\n",
    "# columnNames=[\"Type%s\" % letter for letter in letters]\n",
    "\n",
    "\n",
    "# Index header\n",
    "columnNames.insert(0,\"Index\")\n",
    "rowIndices=np.arange(someData.shape[0]).reshape((-1,1))\n",
    "# Make sure the first row are integers and the rest floats\n",
    "format=\"%i\"\n",
    "format=format+\",%.8f\"*someData.shape[1]\n",
    "# Remember to remove the comment character!\n",
    "np.savetxt(\"mydata.txt\", np.concatenate([rowIndices,someData], axis=1),fmt=format,comments='',header=','.join(columnNames))\n",
    "#np.savetxt(\"mydata.csv\", np.concatenate([rowIndices,someData], axis=1),fmt=format,comments='',header=','.join(columnNames))\n"
   ]
  },
  {
   "cell_type": "code",
   "execution_count": 35,
   "id": "a10e9b3c",
   "metadata": {},
   "outputs": [],
   "source": [
    "someData=np.random.random(size=(5,4))\n",
    "columnNames=[\"Type%d\" % (i+1) for i in range(someData.shape[1])]\n",
    "\n",
    "\n",
    "format=\",%.8f\"*someData.shape[1]\n",
    "np.savetxt(\"mydata\",someData,fmt=format,comments=',',header=','.join(columnNames))\n"
   ]
  },
  {
   "cell_type": "code",
   "execution_count": 37,
   "id": "62b7d140",
   "metadata": {},
   "outputs": [
    {
     "name": "stdout",
     "output_type": "stream",
     "text": [
      "        Type1     Type2     Type3     Type4\n",
      "NaN  0.298480  0.228053  0.235925  0.235413\n",
      "NaN  0.374425  0.415571  0.538141  0.238073\n",
      "NaN  0.041527  0.940633  0.995013  0.845352\n",
      "NaN  0.252111  0.027949  0.824630  0.270592\n",
      "NaN  0.114957  0.615528  0.840985  0.396063\n"
     ]
    },
    {
     "data": {
      "text/plain": [
       "NaN    0.228053\n",
       "NaN    0.415571\n",
       "NaN    0.940633\n",
       "NaN    0.027949\n",
       "NaN    0.615528\n",
       "Name: Type2, dtype: float64"
      ]
     },
     "execution_count": 37,
     "metadata": {},
     "output_type": "execute_result"
    }
   ],
   "source": [
    "import pandas\n",
    "data=pandas.read_csv(\"mydata\",header=0,index_col=0)\n",
    "print(data)\n",
    "data['Type2']"
   ]
  },
  {
   "cell_type": "code",
   "execution_count": 52,
   "id": "16dd4cf9",
   "metadata": {},
   "outputs": [
    {
     "name": "stdout",
     "output_type": "stream",
     "text": [
      "['phi0gamma', 'phi1gamma', 'phi2gamma', 'phi3gamma', 'phi4gamma', 'phi5gamma', 'phi0delta', 'phi1delta', 'phi2delta', 'phi3delta', 'phi4delta', 'phi5delta']\n"
     ]
    }
   ],
   "source": [
    "#parlambdanames=np.concatenate(['f%dgamma' %i for i in range(6)],['f%ddelta' %i for i in range(6)])#,['f%dchi' %i for i in range(6)]]#,'f%ddelta' % (i) for i in range(6)]#,'cos2gamma','sin2gamma','cos3gamma','sin3gamma','cos']\n",
    "a=['phi%dgamma' %i for i in range(6)]\n",
    "b=['phi%ddelta' %i for i in range(6)]\n",
    "print(a+b)\n",
    "#np.concatenate((a,b))\n"
   ]
  },
  {
   "cell_type": "markdown",
   "id": "51e5c7c6",
   "metadata": {},
   "source": [
    "### create folder"
   ]
  },
  {
   "cell_type": "code",
   "execution_count": 1,
   "id": "0ed663f2",
   "metadata": {},
   "outputs": [
    {
     "ename": "NameError",
     "evalue": "name 'userdoc' is not defined",
     "output_type": "error",
     "traceback": [
      "\u001b[0;31m---------------------------------------------------------------------------\u001b[0m",
      "\u001b[0;31mNameError\u001b[0m                                 Traceback (most recent call last)",
      "\u001b[0;32m<ipython-input-1-b84320e4342e>\u001b[0m in \u001b[0;36m<module>\u001b[0;34m\u001b[0m\n\u001b[1;32m      1\u001b[0m \u001b[0;32mfrom\u001b[0m \u001b[0mpathlib\u001b[0m \u001b[0;32mimport\u001b[0m \u001b[0mPath\u001b[0m\u001b[0;34m\u001b[0m\u001b[0;34m\u001b[0m\u001b[0m\n\u001b[1;32m      2\u001b[0m \u001b[0;31m#userdoc=os.path.join(os.path.expanduser('~'),'1_project/data_FFFandER/BFGS3')\u001b[0m\u001b[0;34m\u001b[0m\u001b[0;34m\u001b[0m\u001b[0;34m\u001b[0m\u001b[0m\n\u001b[0;32m----> 3\u001b[0;31m \u001b[0mPath\u001b[0m\u001b[0;34m(\u001b[0m\u001b[0muserdoc\u001b[0m\u001b[0;34m)\u001b[0m\u001b[0;34m.\u001b[0m\u001b[0mmkdir\u001b[0m\u001b[0;34m(\u001b[0m\u001b[0mparents\u001b[0m\u001b[0;34m=\u001b[0m\u001b[0;32mTrue\u001b[0m\u001b[0;34m,\u001b[0m \u001b[0mexist_ok\u001b[0m\u001b[0;34m=\u001b[0m\u001b[0;32mTrue\u001b[0m\u001b[0;34m)\u001b[0m\u001b[0;34m\u001b[0m\u001b[0;34m\u001b[0m\u001b[0m\n\u001b[0m",
      "\u001b[0;31mNameError\u001b[0m: name 'userdoc' is not defined"
     ]
    }
   ],
   "source": [
    "from pathlib import Path\n",
    "#userdoc=os.path.join(os.path.expanduser('~'),'1_project/data_FFFandER/BFGS3')\n",
    "Path(userdoc).mkdir(parents=True, exist_ok=True)"
   ]
  },
  {
   "cell_type": "markdown",
   "id": "b547ba22",
   "metadata": {},
   "source": [
    "## Numpy"
   ]
  },
  {
   "cell_type": "code",
   "execution_count": null,
   "id": "54ec7b01",
   "metadata": {},
   "outputs": [],
   "source": [
    "v[start:stop:step]\n",
    "v[start::step]\n",
    "v[start:stp]"
   ]
  },
  {
   "cell_type": "code",
   "execution_count": null,
   "id": "7382368f",
   "metadata": {},
   "outputs": [
    {
     "name": "stdout",
     "output_type": "stream",
     "text": [
      "[0.         0.36842105 0.73684211 1.10526316 1.47368421 1.84210526\n",
      " 2.21052632 2.57894737 2.94736842 3.31578947 3.68421053 4.05263158\n",
      " 4.42105263 4.78947368 5.15789474 5.52631579 5.89473684 6.26315789\n",
      " 6.63157895 7.        ]\n",
      "[0 1 2 3 4 5 6]\n"
     ]
    },
    {
     "ename": "OSError",
     "evalue": "ts3.dat not found.",
     "output_type": "error",
     "traceback": [
      "\u001b[0;31m---------------------------------------------------------------------------\u001b[0m",
      "\u001b[0;31mOSError\u001b[0m                                   Traceback (most recent call last)",
      "\u001b[0;32m<ipython-input-7-60971695c778>\u001b[0m in \u001b[0;36m<module>\u001b[0;34m\u001b[0m\n\u001b[1;32m     16\u001b[0m \u001b[0mx\u001b[0m\u001b[0;34m,\u001b[0m\u001b[0my\u001b[0m\u001b[0;34m=\u001b[0m\u001b[0mnp\u001b[0m\u001b[0;34m.\u001b[0m\u001b[0mmeshgrid\u001b[0m\u001b[0;34m(\u001b[0m\u001b[0mx\u001b[0m\u001b[0;34m,\u001b[0m\u001b[0my\u001b[0m\u001b[0;34m)\u001b[0m\u001b[0;34m\u001b[0m\u001b[0;34m\u001b[0m\u001b[0m\n\u001b[1;32m     17\u001b[0m \u001b[0;34m\u001b[0m\u001b[0m\n\u001b[0;32m---> 18\u001b[0;31m \u001b[0mx\u001b[0m\u001b[0;34m=\u001b[0m\u001b[0mnp\u001b[0m\u001b[0;34m.\u001b[0m\u001b[0mloadtxt\u001b[0m\u001b[0;34m(\u001b[0m\u001b[0;34m'ts3.dat'\u001b[0m\u001b[0;34m)\u001b[0m\u001b[0;34m\u001b[0m\u001b[0;34m\u001b[0m\u001b[0m\n\u001b[0m\u001b[1;32m     19\u001b[0m \u001b[0msize\u001b[0m\u001b[0;34m=\u001b[0m\u001b[0mlen\u001b[0m\u001b[0;34m(\u001b[0m\u001b[0mx\u001b[0m\u001b[0;34m)\u001b[0m\u001b[0;34m\u001b[0m\u001b[0;34m\u001b[0m\u001b[0m\n\u001b[1;32m     20\u001b[0m \u001b[0;34m\u001b[0m\u001b[0m\n",
      "\u001b[0;32m~/.local/lib/python3.6/site-packages/numpy/lib/npyio.py\u001b[0m in \u001b[0;36mloadtxt\u001b[0;34m(fname, dtype, comments, delimiter, converters, skiprows, usecols, unpack, ndmin, encoding, max_rows)\u001b[0m\n\u001b[1;32m    959\u001b[0m             \u001b[0mfname\u001b[0m \u001b[0;34m=\u001b[0m \u001b[0mos_fspath\u001b[0m\u001b[0;34m(\u001b[0m\u001b[0mfname\u001b[0m\u001b[0;34m)\u001b[0m\u001b[0;34m\u001b[0m\u001b[0;34m\u001b[0m\u001b[0m\n\u001b[1;32m    960\u001b[0m         \u001b[0;32mif\u001b[0m \u001b[0m_is_string_like\u001b[0m\u001b[0;34m(\u001b[0m\u001b[0mfname\u001b[0m\u001b[0;34m)\u001b[0m\u001b[0;34m:\u001b[0m\u001b[0;34m\u001b[0m\u001b[0;34m\u001b[0m\u001b[0m\n\u001b[0;32m--> 961\u001b[0;31m             \u001b[0mfh\u001b[0m \u001b[0;34m=\u001b[0m \u001b[0mnp\u001b[0m\u001b[0;34m.\u001b[0m\u001b[0mlib\u001b[0m\u001b[0;34m.\u001b[0m\u001b[0m_datasource\u001b[0m\u001b[0;34m.\u001b[0m\u001b[0mopen\u001b[0m\u001b[0;34m(\u001b[0m\u001b[0mfname\u001b[0m\u001b[0;34m,\u001b[0m \u001b[0;34m'rt'\u001b[0m\u001b[0;34m,\u001b[0m \u001b[0mencoding\u001b[0m\u001b[0;34m=\u001b[0m\u001b[0mencoding\u001b[0m\u001b[0;34m)\u001b[0m\u001b[0;34m\u001b[0m\u001b[0;34m\u001b[0m\u001b[0m\n\u001b[0m\u001b[1;32m    962\u001b[0m             \u001b[0mfencoding\u001b[0m \u001b[0;34m=\u001b[0m \u001b[0mgetattr\u001b[0m\u001b[0;34m(\u001b[0m\u001b[0mfh\u001b[0m\u001b[0;34m,\u001b[0m \u001b[0;34m'encoding'\u001b[0m\u001b[0;34m,\u001b[0m \u001b[0;34m'latin1'\u001b[0m\u001b[0;34m)\u001b[0m\u001b[0;34m\u001b[0m\u001b[0;34m\u001b[0m\u001b[0m\n\u001b[1;32m    963\u001b[0m             \u001b[0mfh\u001b[0m \u001b[0;34m=\u001b[0m \u001b[0miter\u001b[0m\u001b[0;34m(\u001b[0m\u001b[0mfh\u001b[0m\u001b[0;34m)\u001b[0m\u001b[0;34m\u001b[0m\u001b[0;34m\u001b[0m\u001b[0m\n",
      "\u001b[0;32m~/.local/lib/python3.6/site-packages/numpy/lib/_datasource.py\u001b[0m in \u001b[0;36mopen\u001b[0;34m(path, mode, destpath, encoding, newline)\u001b[0m\n\u001b[1;32m    193\u001b[0m \u001b[0;34m\u001b[0m\u001b[0m\n\u001b[1;32m    194\u001b[0m     \u001b[0mds\u001b[0m \u001b[0;34m=\u001b[0m \u001b[0mDataSource\u001b[0m\u001b[0;34m(\u001b[0m\u001b[0mdestpath\u001b[0m\u001b[0;34m)\u001b[0m\u001b[0;34m\u001b[0m\u001b[0;34m\u001b[0m\u001b[0m\n\u001b[0;32m--> 195\u001b[0;31m     \u001b[0;32mreturn\u001b[0m \u001b[0mds\u001b[0m\u001b[0;34m.\u001b[0m\u001b[0mopen\u001b[0m\u001b[0;34m(\u001b[0m\u001b[0mpath\u001b[0m\u001b[0;34m,\u001b[0m \u001b[0mmode\u001b[0m\u001b[0;34m,\u001b[0m \u001b[0mencoding\u001b[0m\u001b[0;34m=\u001b[0m\u001b[0mencoding\u001b[0m\u001b[0;34m,\u001b[0m \u001b[0mnewline\u001b[0m\u001b[0;34m=\u001b[0m\u001b[0mnewline\u001b[0m\u001b[0;34m)\u001b[0m\u001b[0;34m\u001b[0m\u001b[0;34m\u001b[0m\u001b[0m\n\u001b[0m\u001b[1;32m    196\u001b[0m \u001b[0;34m\u001b[0m\u001b[0m\n\u001b[1;32m    197\u001b[0m \u001b[0;34m\u001b[0m\u001b[0m\n",
      "\u001b[0;32m~/.local/lib/python3.6/site-packages/numpy/lib/_datasource.py\u001b[0m in \u001b[0;36mopen\u001b[0;34m(self, path, mode, encoding, newline)\u001b[0m\n\u001b[1;32m    533\u001b[0m                                       encoding=encoding, newline=newline)\n\u001b[1;32m    534\u001b[0m         \u001b[0;32melse\u001b[0m\u001b[0;34m:\u001b[0m\u001b[0;34m\u001b[0m\u001b[0;34m\u001b[0m\u001b[0m\n\u001b[0;32m--> 535\u001b[0;31m             \u001b[0;32mraise\u001b[0m \u001b[0mIOError\u001b[0m\u001b[0;34m(\u001b[0m\u001b[0;34m\"%s not found.\"\u001b[0m \u001b[0;34m%\u001b[0m \u001b[0mpath\u001b[0m\u001b[0;34m)\u001b[0m\u001b[0;34m\u001b[0m\u001b[0;34m\u001b[0m\u001b[0m\n\u001b[0m\u001b[1;32m    536\u001b[0m \u001b[0;34m\u001b[0m\u001b[0m\n\u001b[1;32m    537\u001b[0m \u001b[0;34m\u001b[0m\u001b[0m\n",
      "\u001b[0;31mOSError\u001b[0m: ts3.dat not found."
     ]
    }
   ],
   "source": [
    "rs2=np.random.rand(10)\n",
    "rs2=np.random.uniform(0,2*np.pi,10)\n",
    "\n",
    "thetazs=np.zeros((len(rs2),2))\n",
    "\n",
    "Tmax=7\n",
    "N=20\n",
    "time1=np.linspace(0,Tmax,N)\n",
    "print(time1)\n",
    "time2=np.arange(Tmax)\n",
    "print(time2)\n",
    "\n",
    "\n",
    "x=np.arange(-1,2.5,0.1)\n",
    "y=np.arange(-1.5,4,0.1)\n",
    "x,y=np.meshgrid(x,y)\n",
    "\n",
    "x=np.loadtxt('ts3.dat')\n",
    "size=len(x)\n",
    "\n",
    "np.random.normal()\n",
    "np.random.uniform(0,2*np.pi)\n",
    "\n",
    "time=np.linspace(0,Tmax,N+1)\n",
    "\n",
    "N=round(Tmax/dt)\n",
    "int(size/nbls[j])\n",
    "np.mod(thetaz[0],2*np.pi)\n",
    "\n",
    "#CUMULATIVE SUM\n",
    "F=np.cumsum(F)*delta/2\n",
    "\n",
    "rs2back=np.flip(rs2)\n",
    "rs2back=rs2back[1:]"
   ]
  },
  {
   "cell_type": "markdown",
   "id": "f5185430",
   "metadata": {},
   "source": [
    "## Save and load 3d arrays"
   ]
  },
  {
   "cell_type": "code",
   "execution_count": null,
   "id": "78135881",
   "metadata": {},
   "outputs": [],
   "source": [
    "arr = np.random.rand(5, 4, 3)\n",
    "  \n",
    "# reshaping the array from 3D\n",
    "# matrice to 2D matrice.\n",
    "arr_reshaped = arr.reshape(arr.shape[0], -1)\n",
    "  \n",
    "# saving reshaped array to file.\n",
    "np.savetxt(\"geekfile.txt\", arr_reshaped)\n",
    "  \n",
    "# retrieving data from file.\n",
    "loaded_arr = np.loadtxt(\"geekfile.txt\")\n",
    "  \n",
    "# This loadedArr is a 2D array, therefore\n",
    "# we need to convert it to the original\n",
    "# array shape.reshaping to get original\n",
    "# matrice with original shape.\n",
    "load_original_arr = loaded_arr.reshape(loaded_arr.shape[0], loaded_arr.shape[1] // arr.shape[2], arr.shape[2])"
   ]
  },
  {
   "cell_type": "code",
   "execution_count": null,
   "id": "4e85e6c5",
   "metadata": {},
   "outputs": [
    {
     "name": "stdout",
     "output_type": "stream",
     "text": [
      "[ 1  2  3  4  5  2  4  6  8 10  3  6  9 12 15]\n",
      "[[ 1  2  3  4  5]\n",
      " [ 2  4  6  8 10]\n",
      " [ 3  6  9 12 15]]\n"
     ]
    }
   ],
   "source": [
    "b=np.array([1,1,1,1,1,2,2,2,2,2,3,3,3,3,3])\n",
    "a=np.array([1,2,3,4,5,1,2,3,4,5,1,2,3,4,5])\n",
    "c=a*b\n",
    "print(c)\n",
    "d=np.reshape(c,(3,5))\n",
    "print(d)"
   ]
  },
  {
   "cell_type": "code",
   "execution_count": null,
   "id": "2c6d1bc9",
   "metadata": {},
   "outputs": [
    {
     "name": "stdout",
     "output_type": "stream",
     "text": [
      "[1 2 3 4 5 6 7]\n"
     ]
    }
   ],
   "source": [
    "data = np.array([1,2,2,2,3,4,4,5,6,7])\n",
    "# Pass array to the unique function\n",
    "# It will remove the duplicates.\n",
    "data = np.unique(data)\n",
    "print(data)"
   ]
  },
  {
   "cell_type": "markdown",
   "id": "1010d99a",
   "metadata": {},
   "source": [
    "## Randomize (shuffle)"
   ]
  },
  {
   "cell_type": "code",
   "execution_count": null,
   "id": "2749a1af",
   "metadata": {},
   "outputs": [],
   "source": [
    "# shuffle:\n",
    "nframes=10\n",
    "randomize=np.arange(nframes)\n",
    "print(randomize)\n",
    "\n",
    "np.random.shuffle(randomize)\n",
    "\n",
    "# SAVE RANDOMIZE\n",
    "userdoc = os.path.join(os.path.expanduser(\"~\"),'ForceFieldFitting/data_FFF')\n",
    "np.savetxt(os.path.join(userdoc,\"trial_traintest_randomize\"),randomize,delimiter=',')\n",
    "\n",
    "weightsADE=weightsADE[np.argsort(randomize)]\n",
    "weightsCYT=weightsCYT[np.argsort(randomize)]\n",
    "sugar_couplADE=sugar_couplADE[np.argsort(randomize),:]\n",
    "sugar_couplCYT=sugar_couplCYT[np.argsort(randomize),:]\n",
    "trajADE=trajADE[np.argsort(randomize),:]\n",
    "trajCYT=trajCYT[np.argsort(randomize),:]\n",
    "del randomize\n",
    "\n",
    "train_wADE=weightsADE[:size3]\n",
    "test_wADE=weightsADE[size3:nframes]\n",
    "train_wCYT=weightsCYT[:size3]\n",
    "test_wCYT=weightsCYT[size3:nframes]\n",
    "\n",
    "train_gADE=sugar_couplADE[:size3,:]\n",
    "test_gADE=sugar_couplADE[size3:nframes,:]\n",
    "train_gCYT=sugar_couplCYT[:size3,:]\n",
    "test_gCYT=sugar_couplCYT[size3:nframes,:]\n",
    "\n",
    "train_fADE=trajADE[:size3,:]\n",
    "test_fADE=trajADE[size3:nframes,:]\n",
    "train_fCYT=trajCYT[:size3,:]\n",
    "test_fCYT=trajCYT[size3:nframes,:]"
   ]
  },
  {
   "cell_type": "code",
   "execution_count": null,
   "id": "e997e2dc",
   "metadata": {},
   "outputs": [],
   "source": [
    "userdoc = os.path.join(os.path.expanduser(\"~\"),'ForceFieldFitting/data_FFF')\n",
    "betas=np.array(pandas.read_csv(os.path.join(userdoc,\"training_beta\"),header=None, skiprows=range(0,0),usecols=[0]))\n",
    "min_nit=np.array(pandas.read_csv(os.path.join(userdoc,\"training_nit\"),header=None, skiprows=range(0,0),usecols=[0]))\n",
    "minpar=np.array(pandas.read_csv(os.path.join(userdoc,\"training_minpar\"),header=None, skiprows=range(0,0)))#,usecols=[0:24])\n",
    "\n",
    "randomize=np.array(pandas.read_csv(os.path.join(userdoc,\"traintest_randomize\"),header=None, skiprows=range(0,0)))[:,0]#,usecols=[0])\n",
    "print(np.shape(randomize))\n",
    "\n",
    "weightsADE=weightsADE[np.argsort(randomize)]\n",
    "weightsCYT=weightsCYT[np.argsort(randomize)]\n",
    "sugar_couplADE=sugar_couplADE[np.argsort(randomize),:]\n",
    "sugar_couplCYT=sugar_couplCYT[np.argsort(randomize),:]\n",
    "trajADE=trajADE[np.argsort(randomize),:]\n",
    "trajCYT=trajCYT[np.argsort(randomize),:]\n",
    "del randomize\n",
    "\n",
    "train_wADE=weightsADE[:size3]\n",
    "test_wADE=weightsADE[size3:nframes]\n",
    "train_wCYT=weightsCYT[:size3]\n",
    "test_wCYT=weightsCYT[size3:nframes]\n",
    "\n",
    "train_gADE=sugar_couplADE[:size3,:]\n",
    "test_gADE=sugar_couplADE[size3:nframes,:]\n",
    "train_gCYT=sugar_couplCYT[:size3,:]\n",
    "test_gCYT=sugar_couplCYT[size3:nframes,:]\n",
    "\n",
    "train_fADE=trajADE[:size3,:]\n",
    "test_fADE=trajADE[size3:nframes,:]\n",
    "train_fCYT=trajCYT[:size3,:]\n",
    "test_fCYT=trajCYT[size3:nframes,:]\n"
   ]
  },
  {
   "cell_type": "markdown",
   "id": "02055b5e",
   "metadata": {},
   "source": [
    "## Save intermediate values of minimization\n",
    "https://stackoverflow.com/questions/68284365/save-intermediate-results-in-minimization-problem"
   ]
  },
  {
   "cell_type": "code",
   "execution_count": null,
   "id": "58636f37",
   "metadata": {},
   "outputs": [],
   "source": [
    "class CallbackFunctor:\n",
    "    def __init__(self, obj_fun):\n",
    "        #self.best_fun_vals = [np.inf]\n",
    "        #self.best_sols = []\n",
    "        \n",
    "        self.xs=[]\n",
    "        self.fun_vals=[]\n",
    "        \n",
    "        self.num_calls = 0\n",
    "        self.obj_fun = obj_fun\n",
    "            \n",
    "    def __call__(self, x):\n",
    "        fun_val = self.obj_fun(x)[0]\n",
    "        self.num_calls += 1\n",
    "        #if fun_val < self.best_fun_vals[-1]:\n",
    "            #self.best_sols.append(x)\n",
    "            #self.best_fun_vals.append(fun_val)\n",
    "        self.xs.append(x)\n",
    "        self.fun_vals.append(fun_val)\n",
    "        \n",
    "   \n",
    "    def save_sols(self, filename):\n",
    "        sols = np.array([sol for sol in self.best_sols])\n",
    "        np.savetxt(filename, sols)"
   ]
  },
  {
   "cell_type": "code",
   "execution_count": null,
   "id": "8dd19202",
   "metadata": {},
   "outputs": [],
   "source": [
    "def objective_fun(xs):\n",
    "    \"\"\" Function to optimize. \"\"\"\n",
    "    x, y = xs\n",
    "    return (x-1)**2 + (y-2)**4\n",
    "\n",
    "cb = CallbackFunctor(objective_fun)\n",
    "x0=[0.,0.]\n",
    "res = minimize(objective_fun, x0=x0, callback=cb)\n",
    "#print(x0)\n",
    "#print(parlambdas0)\n",
    "\n",
    "print(cb.best_sols)       # contains all your collected solutions\n",
    "print(cb.best_fun_vals)   # contains the corresponding objective function values\n",
    "cb.save_sols(\"dummy.txt\") # writes all solutions to a file 'dummy.txt'\n",
    "\n",
    "a=np.array(cb.best_sols)\n",
    "print(a)"
   ]
  },
  {
   "cell_type": "markdown",
   "id": "e73a79f3",
   "metadata": {},
   "source": [
    "## Plots"
   ]
  },
  {
   "cell_type": "markdown",
   "id": "10a7dc95",
   "metadata": {},
   "source": [
    "### errorbar"
   ]
  },
  {
   "cell_type": "code",
   "execution_count": null,
   "id": "51e112dc",
   "metadata": {},
   "outputs": [
    {
     "data": {
      "image/png": "[encoded data removed]",
      "text/plain": [
       "<Figure size 432x288 with 1 Axes>"
      ]
     },
     "metadata": {
      "needs_background": "light"
     },
     "output_type": "display_data"
    }
   ],
   "source": [
    "x=[2,3]\n",
    "error_x=[0.5,0.4]\n",
    "y=[25,28]\n",
    "error_y=[0.6,0.8]\n",
    "#lines={'linestyle': 'None'}\n",
    "#plt.rc('lines', **lines)\n",
    "plt.plot(x, y, 'or', markersize=6)\n",
    "plt.errorbar(x, y, xerr=error_x, yerr=error_y, fmt='b', ecolor='blue')\n",
    "plt.xlim(1.3,3.6)\n",
    "plt.ylim(24.0,29.0)\n",
    "plt.show()"
   ]
  },
  {
   "cell_type": "markdown",
   "id": "4ab198e7",
   "metadata": {},
   "source": [
    "### 3d plot"
   ]
  },
  {
   "cell_type": "code",
   "execution_count": null,
   "id": "8b74a0b0",
   "metadata": {},
   "outputs": [],
   "source": [
    "\n",
    "plt.figure(figsize=(10,8))\n",
    "#Z[Z>70]=np.nan\n",
    "#levels=np.concatenate((np.arange(0,30,3),[np.int(np.max(Z))]))\n",
    "levels=np.arange(0,30,3)\n",
    "plt.contourf(X, Y, Z,levels,cmap='jet')#,locator=ticker.LogLocator())\n",
    "cbar = plt.colorbar(ticks=levels)\n",
    "cbar.set_label(r'$\\frac{kJ}{mol}$', rotation=0, labelpad=20,weight='bold',fontsize=20)\n",
    "cs=plt.contour(X, Y, Z, levels, colors='black',linewidths=0.5)\n",
    "cbar.ax.tick_params(labelsize=15) \n",
    "#plt.clabel(cs,cs.levels,fontsize=5)\n",
    "#plt.xlim(0, 3)\n",
    "plt.ylim(-1.0, 1.0)\n",
    "plt.title('free energy surface',fontsize=15)"
   ]
  },
  {
   "cell_type": "markdown",
   "id": "66471e87",
   "metadata": {},
   "source": [
    "### bar plot (light colors)"
   ]
  },
  {
   "cell_type": "code",
   "execution_count": null,
   "id": "9f340653",
   "metadata": {},
   "outputs": [],
   "source": [
    "probDist = +TLeigvecs[:,0]/np.sum(TLeigvecs[:,0])\n",
    "plt.bar(range(0,len(probDist)),TLeigvecs[:,0],alpha=0.6,label='Probability distribution')\n",
    "plt.bar(range(0,len(probDist)),-TLeigvecs[:,1],alpha=0.6,label='First eigenvector')\n",
    "plt.grid(alpha=0.5)\n",
    "plt.xlabel('Cluster number')\n",
    "plt.legend()"
   ]
  },
  {
   "cell_type": "code",
   "execution_count": null,
   "id": "72e42988",
   "metadata": {},
   "outputs": [],
   "source": [
    "plot_acf"
   ]
  },
  {
   "cell_type": "markdown",
   "id": "6d357d75",
   "metadata": {},
   "source": [
    "### plot with std area"
   ]
  },
  {
   "cell_type": "code",
   "execution_count": null,
   "id": "d4995e07",
   "metadata": {},
   "outputs": [],
   "source": [
    "plt.plot(betas,av_testREX2[i,:],'.-',label=i)\n",
    "plt.fill_between(betas[:,0], av_testREX2[i,:]-std_testREX2[i,:], av_testREX2[i,:]+std_testREX2[i,:],alpha=0.3)"
   ]
  },
  {
   "cell_type": "markdown",
   "id": "2f07b3b0",
   "metadata": {},
   "source": [
    "### plot with variables in the labels"
   ]
  },
  {
   "cell_type": "code",
   "execution_count": null,
   "id": "02413f8c",
   "metadata": {},
   "outputs": [],
   "source": [
    "i=0\n",
    "plt.plot(betas,av_testREX2[i,:],'.--',label=r'$\\alpha=$'+str(alphas[i][0]))\n",
    "plt.xscale('log')\n",
    "plt.title(r'total red. $\\chi^2$ (test set)')\n",
    "plt.xlabel(r'$\\beta$')\n",
    "plt.legend()\n",
    "plt.show()"
   ]
  },
  {
   "cell_type": "markdown",
   "id": "680c092d",
   "metadata": {},
   "source": [
    "### plot x,y with z as a color"
   ]
  },
  {
   "cell_type": "code",
   "execution_count": null,
   "id": "5a60585c",
   "metadata": {},
   "outputs": [],
   "source": [
    "alphas=[1,2,3,4,5]\n",
    "betas=[1,2,3,4,5]\n",
    "\n",
    "times=np.random.rand(5,5)"
   ]
  },
  {
   "cell_type": "code",
   "execution_count": null,
   "id": "ee97abc3",
   "metadata": {
    "scrolled": true
   },
   "outputs": [
    {
     "data": {
      "text/plain": [
       "<matplotlib.colorbar.Colorbar at 0x7f2ffda66978>"
      ]
     },
     "execution_count": 5,
     "metadata": {},
     "output_type": "execute_result"
    },
    {
     "data": {
      "image/png": "[encoded data removed]",
      "text/plain": [
       "<Figure size 432x288 with 2 Axes>"
      ]
     },
     "metadata": {
      "needs_background": "light"
     },
     "output_type": "display_data"
    }
   ],
   "source": [
    "x, y = np.meshgrid(alphas,betas)\n",
    "#plt.plot(x,y,'o') \n",
    "## MAKE SURE IT IS NOT c=times.T (transpose) \n",
    "plt.scatter(x,y,c=times,s=100,cmap='nipy_spectral')#jet') #norm=colors.LogNorm())\n",
    "plt.colorbar()"
   ]
  },
  {
   "cell_type": "markdown",
   "id": "41cfc971",
   "metadata": {},
   "source": [
    "https://matplotlib.org/stable/tutorials/colors/colormapnorms.html"
   ]
  },
  {
   "cell_type": "markdown",
   "id": "e188379a",
   "metadata": {},
   "source": [
    "### colors and markers"
   ]
  },
  {
   "cell_type": "markdown",
   "id": "0bf4aaa6",
   "metadata": {},
   "source": [
    "https://matplotlib.org/stable/tutorials/colors/colormaps.html"
   ]
  },
  {
   "cell_type": "markdown",
   "id": "d8d1fff0",
   "metadata": {},
   "source": [
    "https://matplotlib.org/stable/api/markers_api.html"
   ]
  },
  {
   "cell_type": "markdown",
   "id": "ecb35e44",
   "metadata": {},
   "source": [
    "### subfigures"
   ]
  },
  {
   "cell_type": "code",
   "execution_count": null,
   "id": "d9c53e3d",
   "metadata": {},
   "outputs": [],
   "source": []
  },
  {
   "cell_type": "markdown",
   "id": "7e15a076",
   "metadata": {},
   "source": [
    "### histograms"
   ]
  },
  {
   "cell_type": "code",
   "execution_count": null,
   "id": "b88caadd",
   "metadata": {},
   "outputs": [],
   "source": [
    "plt.figure()\n",
    "nbins=1000\n",
    "maxr=10\n",
    "counts, bins, patches = plt.hist(traj[:,0], nbins)\n",
    "plt.xlabel('x coordinate')\n",
    "plt.grid(axis='both')\n",
    "plt.show()\n",
    "plt.figure()\n",
    "Fexact=-np.log(counts, out=np.zeros_like(counts), where=(counts!=0))\n",
    "plt.plot(np.linspace(0,maxr,nbins),Fexact,'-')#,'--')"
   ]
  },
  {
   "cell_type": "markdown",
   "id": "869da414",
   "metadata": {},
   "source": [
    "### contour plot"
   ]
  },
  {
   "cell_type": "code",
   "execution_count": null,
   "id": "42f3a60d",
   "metadata": {},
   "outputs": [],
   "source": [
    "plt.figure(figsize=(10, 8))\n",
    "cs = plt.contour(x, y, z)\n",
    "plt.clabel(cs)\n",
    "plt.xlabel('x')\n",
    "plt.ylabel('y')\n",
    "plt.grid()\n",
    "\n",
    "plt.figure(figsize=(10,8))\n",
    "cs = plt.contourf(x, y, z, cmap='coolwarm')\n",
    "plt.colorbar(cs)\n",
    "plt.xlabel('x')\n",
    "plt.ylabel('y')\n",
    "plt.grid()\n",
    "plt.show()\n",
    "\n",
    "plt.plot(time,traj[:,1],alpha=0.5,label='y') ####### ALPHA IS TO DO SOFTER COLOURS"
   ]
  },
  {
   "cell_type": "markdown",
   "id": "d320862e",
   "metadata": {},
   "source": [
    "### heatmap"
   ]
  },
  {
   "cell_type": "code",
   "execution_count": null,
   "id": "cea7288d",
   "metadata": {},
   "outputs": [],
   "source": [
    "import seaborn as sns\n",
    "plt.figure(figsize = (8,8))\n",
    "hm = sns.heatmap(z,linewidth=0.5,cmap='tab20c') # or tab20c_r\n",
    "plt.title('transition matrix')\n",
    "plt.xlabel('exits')\n",
    "plt.ylabel('entries')"
   ]
  },
  {
   "cell_type": "code",
   "execution_count": null,
   "id": "9f0390dc",
   "metadata": {},
   "outputs": [],
   "source": []
  },
  {
   "cell_type": "code",
   "execution_count": null,
   "id": "162c3dc0",
   "metadata": {},
   "outputs": [],
   "source": []
  }
 ],
 "metadata": {
  "kernelspec": {
   "display_name": "Python 3.6.8 64-bit",
   "language": "python",
   "name": "python3"
  },
  "language_info": {
   "codemirror_mode": {
    "name": "ipython",
    "version": 3
   },
   "file_extension": ".py",
   "mimetype": "text/x-python",
   "name": "python",
   "nbconvert_exporter": "python",
   "pygments_lexer": "ipython3",
   "version": "3.6.8"
  },
  "vscode": {
   "interpreter": {
    "hash": "916dbcbb3f70747c44a77c7bcd40155683ae19c65e1c03b4aa3499c5328201f1"
   }
  }
 },
 "nbformat": 4,
 "nbformat_minor": 5
}
