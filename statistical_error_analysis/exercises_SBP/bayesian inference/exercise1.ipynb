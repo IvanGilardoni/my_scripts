{
 "cells": [
  {
   "cell_type": "markdown",
   "metadata": {},
   "source": [
    "## Bayesian inference I - exercise 1 - regression\n",
    "1. Download data from https://datahub.io/core/co2-ppm#resource-co2-mm-mlo. This is a time series of atmospheric CO2 concentrations from 1958 onwards; the second column gives the date of the sample (in decimal form, input value), while the third is concentration in parts per million (output)."
   ]
  },
  {
   "cell_type": "code",
   "execution_count": 2,
   "metadata": {},
   "outputs": [],
   "source": [
    "import numpy as np\n",
    "import matplotlib.pyplot as plt\n",
    "import pandas as pd"
   ]
  },
  {
   "cell_type": "code",
   "execution_count": 20,
   "metadata": {},
   "outputs": [],
   "source": [
    "data=np.array(pd.read_csv(\"co2-mm-mlo_csv.csv\",header=1))"
   ]
  },
  {
   "cell_type": "code",
   "execution_count": 21,
   "metadata": {},
   "outputs": [
    {
     "data": {
      "text/html": [
       "<div>\n",
       "<style scoped>\n",
       "    .dataframe tbody tr th:only-of-type {\n",
       "        vertical-align: middle;\n",
       "    }\n",
       "\n",
       "    .dataframe tbody tr th {\n",
       "        vertical-align: top;\n",
       "    }\n",
       "\n",
       "    .dataframe thead th {\n",
       "        text-align: right;\n",
       "    }\n",
       "</style>\n",
       "<table border=\"1\" class=\"dataframe\">\n",
       "  <thead>\n",
       "    <tr style=\"text-align: right;\">\n",
       "      <th></th>\n",
       "      <th>0</th>\n",
       "      <th>1</th>\n",
       "      <th>2</th>\n",
       "      <th>3</th>\n",
       "      <th>4</th>\n",
       "      <th>5</th>\n",
       "    </tr>\n",
       "  </thead>\n",
       "  <tbody>\n",
       "    <tr>\n",
       "      <th>0</th>\n",
       "      <td>1958-04-01</td>\n",
       "      <td>1958.292</td>\n",
       "      <td>317.45</td>\n",
       "      <td>317.45</td>\n",
       "      <td>315.29</td>\n",
       "      <td>-1</td>\n",
       "    </tr>\n",
       "    <tr>\n",
       "      <th>1</th>\n",
       "      <td>1958-05-01</td>\n",
       "      <td>1958.375</td>\n",
       "      <td>317.5</td>\n",
       "      <td>317.5</td>\n",
       "      <td>314.71</td>\n",
       "      <td>-1</td>\n",
       "    </tr>\n",
       "    <tr>\n",
       "      <th>2</th>\n",
       "      <td>1958-06-01</td>\n",
       "      <td>1958.458</td>\n",
       "      <td>-99.99</td>\n",
       "      <td>317.1</td>\n",
       "      <td>314.85</td>\n",
       "      <td>-1</td>\n",
       "    </tr>\n",
       "    <tr>\n",
       "      <th>3</th>\n",
       "      <td>1958-07-01</td>\n",
       "      <td>1958.542</td>\n",
       "      <td>315.86</td>\n",
       "      <td>315.86</td>\n",
       "      <td>314.98</td>\n",
       "      <td>-1</td>\n",
       "    </tr>\n",
       "    <tr>\n",
       "      <th>4</th>\n",
       "      <td>1958-08-01</td>\n",
       "      <td>1958.625</td>\n",
       "      <td>314.93</td>\n",
       "      <td>314.93</td>\n",
       "      <td>315.94</td>\n",
       "      <td>-1</td>\n",
       "    </tr>\n",
       "    <tr>\n",
       "      <th>...</th>\n",
       "      <td>...</td>\n",
       "      <td>...</td>\n",
       "      <td>...</td>\n",
       "      <td>...</td>\n",
       "      <td>...</td>\n",
       "      <td>...</td>\n",
       "    </tr>\n",
       "    <tr>\n",
       "      <th>721</th>\n",
       "      <td>2018-05-01</td>\n",
       "      <td>2018.375</td>\n",
       "      <td>411.24</td>\n",
       "      <td>411.24</td>\n",
       "      <td>407.91</td>\n",
       "      <td>24</td>\n",
       "    </tr>\n",
       "    <tr>\n",
       "      <th>722</th>\n",
       "      <td>2018-06-01</td>\n",
       "      <td>2018.458</td>\n",
       "      <td>410.79</td>\n",
       "      <td>410.79</td>\n",
       "      <td>408.49</td>\n",
       "      <td>29</td>\n",
       "    </tr>\n",
       "    <tr>\n",
       "      <th>723</th>\n",
       "      <td>2018-07-01</td>\n",
       "      <td>2018.542</td>\n",
       "      <td>408.71</td>\n",
       "      <td>408.71</td>\n",
       "      <td>408.32</td>\n",
       "      <td>27</td>\n",
       "    </tr>\n",
       "    <tr>\n",
       "      <th>724</th>\n",
       "      <td>2018-08-01</td>\n",
       "      <td>2018.625</td>\n",
       "      <td>406.99</td>\n",
       "      <td>406.99</td>\n",
       "      <td>408.9</td>\n",
       "      <td>30</td>\n",
       "    </tr>\n",
       "    <tr>\n",
       "      <th>725</th>\n",
       "      <td>2018-09-01</td>\n",
       "      <td>2018.708</td>\n",
       "      <td>405.51</td>\n",
       "      <td>405.51</td>\n",
       "      <td>409.02</td>\n",
       "      <td>29</td>\n",
       "    </tr>\n",
       "  </tbody>\n",
       "</table>\n",
       "<p>726 rows × 6 columns</p>\n",
       "</div>"
      ],
      "text/plain": [
       "              0         1       2       3       4   5\n",
       "0    1958-04-01  1958.292  317.45  317.45  315.29  -1\n",
       "1    1958-05-01  1958.375   317.5   317.5  314.71  -1\n",
       "2    1958-06-01  1958.458  -99.99   317.1  314.85  -1\n",
       "3    1958-07-01  1958.542  315.86  315.86  314.98  -1\n",
       "4    1958-08-01  1958.625  314.93  314.93  315.94  -1\n",
       "..          ...       ...     ...     ...     ...  ..\n",
       "721  2018-05-01  2018.375  411.24  411.24  407.91  24\n",
       "722  2018-06-01  2018.458  410.79  410.79  408.49  29\n",
       "723  2018-07-01  2018.542  408.71  408.71  408.32  27\n",
       "724  2018-08-01  2018.625  406.99  406.99   408.9  30\n",
       "725  2018-09-01  2018.708  405.51  405.51  409.02  29\n",
       "\n",
       "[726 rows x 6 columns]"
      ]
     },
     "execution_count": 21,
     "metadata": {},
     "output_type": "execute_result"
    }
   ],
   "source": [
    "pd.DataFrame(data)"
   ]
  },
  {
   "cell_type": "markdown",
   "metadata": {},
   "source": [
    "2. Fit the data using Bayesian regression in the following forms:\n",
    "- 2a. linear regression\n",
    "- 2b. basis function regression with basis functions $1,t,t^2$\n",
    "- 2c. gaussian process regression with squared exponential covariance $k(t_1,t_2)=a^2 \\exp\\Bigl[-\\frac{(t_1-t_2)^2}{\\lambda^2}\\Bigr]$ with $\\lambda=a=1$ (try smaller $\\lambda$)\n",
    "\n",
    "For all three scenarios, take the observation error $\\sigma^2=1$ and compute the predictive distribution on a grid of points covering the range of the inputs $\\pm 5$, using as training data:\n",
    "- 70% randomly selected input/output pairs\n",
    "- the first 70% of input/output pairs in chronological order.\n",
    "\n",
    "Plot the predictive mean and mean $\\pm$ standard deviation; evaluate in the two cases the mean squared test error of the mean prediction, and the mean of the squared errors divided by the predictive variance.  "
   ]
  },
  {
   "cell_type": "markdown",
   "metadata": {},
   "source": [
    "2a. linear regression"
   ]
  },
  {
   "cell_type": "code",
   "execution_count": 22,
   "metadata": {},
   "outputs": [
    {
     "name": "stdout",
     "output_type": "stream",
     "text": [
      "[  2   6  70  71  72 212 312]\n",
      "(719, 6)\n"
     ]
    },
    {
     "data": {
      "image/png": "[encoded data removed]",
      "text/plain": [
       "<Figure size 432x288 with 1 Axes>"
      ]
     },
     "metadata": {
      "needs_background": "light"
     },
     "output_type": "display_data"
    }
   ],
   "source": [
    "sigma2=1\n",
    "# range of inputs:\n",
    "plt.plot(data[:,1],data[:,2],'.b')\n",
    "#plt.ylim([300,450])\n",
    "\n",
    "# remove outliers (if you wish):\n",
    "print(np.argwhere(data[:,2]<0)[:,0])\n",
    "data=np.delete(data,np.argwhere(data[:,2]<0)[:,0],axis=0)\n",
    "print(np.shape(data))\n"
   ]
  },
  {
   "cell_type": "code",
   "execution_count": 23,
   "metadata": {},
   "outputs": [
    {
     "data": {
      "text/plain": [
       "[<matplotlib.lines.Line2D at 0x7efe71be91f0>]"
      ]
     },
     "execution_count": 23,
     "metadata": {},
     "output_type": "execute_result"
    },
    {
     "data": {
      "image/png": "[encoded data removed]",
      "text/plain": [
       "<Figure size 432x288 with 1 Axes>"
      ]
     },
     "metadata": {
      "needs_background": "light"
     },
     "output_type": "display_data"
    }
   ],
   "source": [
    "# center the data\n",
    "data[:,1]=data[:,1]-np.mean(data[:,1])\n",
    "data[:,2]=data[:,2]-np.mean(data[:,2])\n",
    "\n",
    "plt.plot(data[:,1],data[:,2],'.b')"
   ]
  },
  {
   "cell_type": "code",
   "execution_count": 27,
   "metadata": {},
   "outputs": [
    {
     "name": "stdout",
     "output_type": "stream",
     "text": [
      "719\n",
      "503\n"
     ]
    },
    {
     "name": "stderr",
     "output_type": "stream",
     "text": [
      "/tmp/ipykernel_10616/853843975.py:7: DeprecationWarning: `np.int` is a deprecated alias for the builtin `int`. To silence this warning, use `int` by itself. Doing this will not modify any behavior and is safe. When replacing `np.int`, you may wish to use e.g. `np.int64` or `np.int32` to specify the precision. If you wish to review your current use, check the release note link for additional information.\n",
      "Deprecated in NumPy 1.20; for more details and guidance: https://numpy.org/devdocs/release/1.20.0-notes.html#deprecations\n",
      "  n_train=np.int(70/100*len(data[:,1]))\n"
     ]
    }
   ],
   "source": [
    "randomize=np.arange(len(data[:,1]))\n",
    "np.random.shuffle(randomize)\n",
    "\n",
    "data=data[np.argsort(randomize)]\n",
    "\n",
    "print(len(data[:,1]))\n",
    "n_train=np.int(70/100*len(data[:,1]))\n",
    "print(n_train)\n",
    "\n",
    "train_x=data[:n_train,1]\n",
    "train_y=data[:n_train,2]\n",
    "test_x=data[n_train:,1]\n",
    "test_y=data[n_train:,2]"
   ]
  },
  {
   "cell_type": "code",
   "execution_count": 29,
   "metadata": {},
   "outputs": [
    {
     "name": "stdout",
     "output_type": "stream",
     "text": [
      "4.593808987429383e-06\n",
      "1.5550608414379483\n"
     ]
    }
   ],
   "source": [
    "cov=1/(1+1/sigma2*np.sum(data[:,1]**2))\n",
    "mu=cov*np.sum(data[:,1]*data[:,2])\n",
    "\n",
    "print(cov)\n",
    "print(mu)"
   ]
  },
  {
   "cell_type": "code",
   "execution_count": 51,
   "metadata": {},
   "outputs": [
    {
     "data": {
      "image/png": "[encoded data removed]",
      "text/plain": [
       "<Figure size 432x288 with 1 Axes>"
      ]
     },
     "metadata": {
      "needs_background": "light"
     },
     "output_type": "display_data"
    },
    {
     "data": {
      "image/png": "[encoded data removed]",
      "text/plain": [
       "<Figure size 432x288 with 1 Axes>"
      ]
     },
     "metadata": {
      "needs_background": "light"
     },
     "output_type": "display_data"
    }
   ],
   "source": [
    "grid=np.linspace(np.min(train_x)-5,np.max(train_x)+5,1000)\n",
    "predict_mean=mu*grid\n",
    "predict_var=sigma2+cov*grid**2\n",
    "\n",
    "#print(predict_mean)\n",
    "#print(predict_var)\n",
    "\n",
    "#predict=1/(np.sqrt(2*np.pi*predict_var))*np.exp(-(grid-predict_mean)**2/predict_var)\n",
    "\n",
    "plt.figure(0)\n",
    "plt.plot(grid,predict_mean)\n",
    "plt.plot(grid,predict_mean-predict_var)\n",
    "plt.plot(grid,predict_mean+predict_var)\n",
    "#print(np.pi())\n",
    "\n",
    "plt.figure(1)\n",
    "plt.plot(predict_var)\n",
    "plt.yscale('log')"
   ]
  },
  {
   "cell_type": "markdown",
   "metadata": {},
   "source": [
    "basis functions regression"
   ]
  },
  {
   "cell_type": "code",
   "execution_count": 56,
   "metadata": {},
   "outputs": [
    {
     "ename": "ValueError",
     "evalue": "operands could not be broadcast together with shapes (1000,3) (3,503) ",
     "output_type": "error",
     "traceback": [
      "\u001b[0;31m---------------------------------------------------------------------------\u001b[0m",
      "\u001b[0;31mValueError\u001b[0m                                Traceback (most recent call last)",
      "\u001b[0;32m/tmp/ipykernel_10616/3250420587.py\u001b[0m in \u001b[0;36m<module>\u001b[0;34m\u001b[0m\n\u001b[1;32m      2\u001b[0m \u001b[0mphistar\u001b[0m\u001b[0;34m=\u001b[0m\u001b[0mnp\u001b[0m\u001b[0;34m.\u001b[0m\u001b[0marray\u001b[0m\u001b[0;34m(\u001b[0m\u001b[0;34m[\u001b[0m\u001b[0mnp\u001b[0m\u001b[0;34m.\u001b[0m\u001b[0mones\u001b[0m\u001b[0;34m(\u001b[0m\u001b[0mlen\u001b[0m\u001b[0;34m(\u001b[0m\u001b[0mgrid\u001b[0m\u001b[0;34m)\u001b[0m\u001b[0;34m)\u001b[0m\u001b[0;34m,\u001b[0m\u001b[0mgrid\u001b[0m\u001b[0;34m,\u001b[0m\u001b[0mgrid\u001b[0m\u001b[0;34m**\u001b[0m\u001b[0;36m2\u001b[0m\u001b[0;34m]\u001b[0m\u001b[0;34m)\u001b[0m\u001b[0;34m\u001b[0m\u001b[0;34m\u001b[0m\u001b[0m\n\u001b[1;32m      3\u001b[0m \u001b[0;34m\u001b[0m\u001b[0m\n\u001b[0;32m----> 4\u001b[0;31m \u001b[0mav_basf\u001b[0m\u001b[0;34m=\u001b[0m\u001b[0;36m1\u001b[0m\u001b[0;34m/\u001b[0m\u001b[0msigma2\u001b[0m\u001b[0;34m*\u001b[0m\u001b[0mphistar\u001b[0m\u001b[0;34m.\u001b[0m\u001b[0mT\u001b[0m\u001b[0;34m*\u001b[0m\u001b[0mcov\u001b[0m\u001b[0;34m*\u001b[0m\u001b[0mphi\u001b[0m\u001b[0;34m*\u001b[0m\u001b[0mtrain_y\u001b[0m\u001b[0;34m\u001b[0m\u001b[0;34m\u001b[0m\u001b[0m\n\u001b[0m\u001b[1;32m      5\u001b[0m \u001b[0;34m\u001b[0m\u001b[0m\n\u001b[1;32m      6\u001b[0m \u001b[0mplt\u001b[0m\u001b[0;34m.\u001b[0m\u001b[0mplot\u001b[0m\u001b[0;34m(\u001b[0m\u001b[0mav_basf\u001b[0m\u001b[0;34m)\u001b[0m\u001b[0;34m\u001b[0m\u001b[0;34m\u001b[0m\u001b[0m\n",
      "\u001b[0;31mValueError\u001b[0m: operands could not be broadcast together with shapes (1000,3) (3,503) "
     ]
    }
   ],
   "source": [
    "phi=np.array([np.ones(len(train_x)),train_x,train_x**2])\n",
    "phistar=np.array([np.ones(len(grid)),grid,grid**2])\n",
    "\n",
    "av_basf=1/sigma2*phistar.T*cov*phi*train_y\n",
    "\n",
    "plt.plot(av_basf)"
   ]
  }
 ],
 "metadata": {
  "kernelspec": {
   "display_name": "Python 2.7.5 64-bit",
   "language": "python",
   "name": "python3"
  },
  "language_info": {
   "codemirror_mode": {
    "name": "ipython",
    "version": 3
   },
   "file_extension": ".py",
   "mimetype": "text/x-python",
   "name": "python",
   "nbconvert_exporter": "python",
   "pygments_lexer": "ipython3",
   "version": "2.7.5"
  },
  "orig_nbformat": 4,
  "vscode": {
   "interpreter": {
    "hash": "e7370f93d1d0cde622a1f8e1c04877d8463912d04d973331ad4851f04de6915a"
   }
  }
 },
 "nbformat": 4,
 "nbformat_minor": 2
}
