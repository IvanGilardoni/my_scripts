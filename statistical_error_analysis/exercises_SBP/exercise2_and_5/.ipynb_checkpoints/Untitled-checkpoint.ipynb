{
 "cells": [
  {
   "cell_type": "markdown",
   "id": "7501c73d",
   "metadata": {},
   "source": [
    "# MD at constant temperature"
   ]
  },
  {
   "cell_type": "markdown",
   "id": "27f8ccb8",
   "metadata": {},
   "source": [
    "1. Perform a simulation of a Lennard Jones crystal with 864 particles. Temperature should be controlled using the Langevin thermostat at temperature T = 2. Try with different values of the friction γ (e.g. 0.01, 0.1, 1.0,10.0) and look at the difference in the behavior of the potential energy."
   ]
  },
  {
   "cell_type": "code",
   "execution_count": 15,
   "id": "f3456410",
   "metadata": {},
   "outputs": [],
   "source": [
    "import numpy as np\n",
    "import matplotlib.pyplot as plt\n",
    "from numba import njit\n",
    "from scipy.spatial import distance_matrix"
   ]
  },
  {
   "cell_type": "code",
   "execution_count": 5,
   "id": "beaad457",
   "metadata": {},
   "outputs": [],
   "source": [
    "# random initialization of (q,p) for 3N degrees of freedom, being N=864\n",
    "#[qx,qy,qz,px,py,pz]=np.random.rand(6,864)"
   ]
  },
  {
   "cell_type": "code",
   "execution_count": 79,
   "id": "b95fa761",
   "metadata": {},
   "outputs": [
    {
     "name": "stdout",
     "output_type": "stream",
     "text": [
      "[[0.54878144 0.59265138 0.39419113]]\n",
      "[[0.65114546 0.1129753  0.73429373]]\n"
     ]
    }
   ],
   "source": [
    "nparticles=1\n",
    "q=np.random.rand(nparticles,3)\n",
    "p=np.random.rand(nparticles,3)\n",
    "print(p)\n",
    "print(q)"
   ]
  },
  {
   "cell_type": "code",
   "execution_count": 80,
   "id": "67e73691",
   "metadata": {},
   "outputs": [],
   "source": [
    "# Langevin thermostat\n",
    "m=1\n",
    "dt=10**(-3)\n",
    "N=100\n",
    "kbT=2\n",
    "gamma=0.01\n",
    "epsilon=1.5\n",
    "sigma=3.7"
   ]
  },
  {
   "cell_type": "code",
   "execution_count": 83,
   "id": "2ae8200f",
   "metadata": {
    "scrolled": true
   },
   "outputs": [],
   "source": [
    "U=np.zeros(N)\n",
    "K=np.zeros(N)\n",
    "\n",
    "for i in range(N):\n",
    "    distances=distance_matrix(q,q)\n",
    "    for j in range(nparticles):\n",
    "        distances[j,j]=np.infty\n",
    "        \n",
    "    # compute the forces:\n",
    "    f=np.zeros((nparticles,nparticles,3))\n",
    "    for j in range(nparticles):\n",
    "        for k in range(nparticles):\n",
    "            f[j,k,:]=-4*epsilon*(-12*sigma**12/distances[j,k]**14*(q[j,:]-q[j,:])+6*sigma**6/distances[j,k]**8*(q[j,:]-q[k,:]))\n",
    "    U[i]=4*epsilon*1/2*(sigma**12*np.sum(distances**(-12))-sigma**6*np.sum(distances**(-6)))\n",
    "    K[i]=np.sum(p**2)/(2*m)\n",
    "    \n",
    "    q=q+(p/m)*dt\n",
    "    p=p+(np.sum(f,axis=0)-gamma*p+np.sqrt(2*m*kbT*gamma)*np.random.rand(nparticles,3))*dt\n",
    "    "
   ]
  },
  {
   "cell_type": "code",
   "execution_count": 84,
   "id": "e3c5cb9d",
   "metadata": {},
   "outputs": [
    {
     "name": "stdout",
     "output_type": "stream",
     "text": [
      "[0.41760848 0.41772527 0.41780154 0.41789847 0.41804253 0.41823732\n",
      " 0.41838731 0.41856638 0.41870814 0.4188963  0.41899223 0.41916496\n",
      " 0.41929146 0.41950596 0.41964412 0.41974512 0.41986117 0.42003285\n",
      " 0.42014071 0.42024564 0.4204219  0.42062406 0.42075063 0.42091414\n",
      " 0.42114336 0.42128232 0.42134909 0.42145725 0.42165619 0.4218853\n",
      " 0.42202018 0.42219109 0.42234533 0.42247843 0.42266971 0.42292154\n",
      " 0.42307876 0.42317074 0.42336863 0.42348268 0.42373782 0.42387886\n",
      " 0.42396905 0.42407627 0.42420157 0.42440315 0.4245199  0.42473957\n",
      " 0.42487205 0.42500388 0.42508935 0.4252599  0.4254171  0.42556655\n",
      " 0.42568454 0.42584879 0.42601254 0.42617269 0.42637193 0.42645559\n",
      " 0.42656739 0.4268361  0.42688302 0.42714293 0.42728726 0.42733625\n",
      " 0.42747221 0.42764399 0.42783825 0.42801087 0.428078   0.42829984\n",
      " 0.42848782 0.42874615 0.42886421 0.42892635 0.42911436 0.42933345\n",
      " 0.42950882 0.42965484 0.42976561 0.42994347 0.43005731 0.43031649\n",
      " 0.43051553 0.43062149 0.43073826 0.43087005 0.43109299 0.43120732\n",
      " 0.43136516 0.43154682 0.43168769 0.43183628 0.43198558 0.4321057\n",
      " 0.43236704 0.43249519 0.43261609 0.43274561]\n"
     ]
    },
    {
     "data": {
      "text/plain": [
       "[<matplotlib.lines.Line2D at 0x7fef3f60e760>]"
      ]
     },
     "execution_count": 84,
     "metadata": {},
     "output_type": "execute_result"
    },
    {
     "data": {
      "image/png": "[encoded data removed]",
      "text/plain": [
       "<Figure size 432x288 with 1 Axes>"
      ]
     },
     "metadata": {
      "needs_background": "light"
     },
     "output_type": "display_data"
    },
    {
     "data": {
      "image/png": "[encoded data removed]",
      "text/plain": [
       "<Figure size 432x288 with 1 Axes>"
      ]
     },
     "metadata": {
      "needs_background": "light"
     },
     "output_type": "display_data"
    }
   ],
   "source": [
    "plt.figure()\n",
    "plt.plot(K,'o--')\n",
    "print(K)\n",
    "plt.title('kinetic energy')\n",
    "\n",
    "plt.figure()\n",
    "plt.title('potential energy')\n",
    "plt.plot(U,'o--')"
   ]
  },
  {
   "cell_type": "code",
   "execution_count": 20,
   "id": "4d1e79a1",
   "metadata": {},
   "outputs": [
    {
     "ename": "IndexError",
     "evalue": "index 3 is out of bounds for axis 0 with size 3",
     "output_type": "error",
     "traceback": [
      "\u001b[0;31m---------------------------------------------------------------------------\u001b[0m",
      "\u001b[0;31mIndexError\u001b[0m                                Traceback (most recent call last)",
      "\u001b[0;32m/tmp/ipykernel_5953/2806741311.py\u001b[0m in \u001b[0;36m<module>\u001b[0;34m\u001b[0m\n\u001b[1;32m      5\u001b[0m     \u001b[0mdistances\u001b[0m\u001b[0;34m=\u001b[0m\u001b[0mdistance_matrix\u001b[0m\u001b[0;34m(\u001b[0m\u001b[0;34m[\u001b[0m\u001b[0mqx\u001b[0m\u001b[0;34m,\u001b[0m\u001b[0mqy\u001b[0m\u001b[0;34m,\u001b[0m\u001b[0mqz\u001b[0m\u001b[0;34m]\u001b[0m\u001b[0;34m,\u001b[0m\u001b[0;34m[\u001b[0m\u001b[0mqx\u001b[0m\u001b[0;34m,\u001b[0m\u001b[0mqy\u001b[0m\u001b[0;34m,\u001b[0m\u001b[0mqz\u001b[0m\u001b[0;34m]\u001b[0m\u001b[0;34m)\u001b[0m\u001b[0;34m\u001b[0m\u001b[0;34m\u001b[0m\u001b[0m\n\u001b[1;32m      6\u001b[0m     \u001b[0;32mfor\u001b[0m \u001b[0mj\u001b[0m \u001b[0;32min\u001b[0m \u001b[0mrange\u001b[0m\u001b[0;34m(\u001b[0m\u001b[0mN\u001b[0m\u001b[0;34m)\u001b[0m\u001b[0;34m:\u001b[0m\u001b[0;34m\u001b[0m\u001b[0;34m\u001b[0m\u001b[0m\n\u001b[0;32m----> 7\u001b[0;31m         \u001b[0mdistances\u001b[0m\u001b[0;34m[\u001b[0m\u001b[0mj\u001b[0m\u001b[0;34m,\u001b[0m\u001b[0mj\u001b[0m\u001b[0;34m]\u001b[0m\u001b[0;34m=\u001b[0m\u001b[0mnp\u001b[0m\u001b[0;34m.\u001b[0m\u001b[0minfty\u001b[0m\u001b[0;34m\u001b[0m\u001b[0;34m\u001b[0m\u001b[0m\n\u001b[0m\u001b[1;32m      8\u001b[0m     \u001b[0;34m[\u001b[0m\u001b[0mfx\u001b[0m\u001b[0;34m,\u001b[0m\u001b[0mfy\u001b[0m\u001b[0;34m,\u001b[0m\u001b[0mfz\u001b[0m\u001b[0;34m]\u001b[0m\u001b[0;34m=\u001b[0m\u001b[0;34m[\u001b[0m\u001b[0mqx\u001b[0m\u001b[0;34m,\u001b[0m\u001b[0mqy\u001b[0m\u001b[0;34m,\u001b[0m\u001b[0mqz\u001b[0m\u001b[0;34m]\u001b[0m\u001b[0;34m*\u001b[0m\u001b[0;36m4\u001b[0m\u001b[0;34m*\u001b[0m\u001b[0mepsilon\u001b[0m\u001b[0;34m/\u001b[0m\u001b[0mr\u001b[0m\u001b[0;34m*\u001b[0m\u001b[0;34m(\u001b[0m\u001b[0;34m-\u001b[0m\u001b[0;36m12\u001b[0m\u001b[0;34m*\u001b[0m\u001b[0msigma\u001b[0m\u001b[0;34m**\u001b[0m\u001b[0;36m12\u001b[0m\u001b[0;34m/\u001b[0m\u001b[0mr\u001b[0m\u001b[0;34m**\u001b[0m\u001b[0;36m13\u001b[0m\u001b[0;34m+\u001b[0m\u001b[0;36m6\u001b[0m\u001b[0;34m*\u001b[0m\u001b[0msigma\u001b[0m\u001b[0;34m**\u001b[0m\u001b[0;36m6\u001b[0m\u001b[0;34m/\u001b[0m\u001b[0mr\u001b[0m\u001b[0;34m**\u001b[0m\u001b[0;36m7\u001b[0m\u001b[0;34m)\u001b[0m\u001b[0;34m\u001b[0m\u001b[0;34m\u001b[0m\u001b[0m\n\u001b[1;32m      9\u001b[0m     \u001b[0;34m[\u001b[0m\u001b[0mqx\u001b[0m\u001b[0;34m,\u001b[0m\u001b[0mqy\u001b[0m\u001b[0;34m,\u001b[0m\u001b[0mqz\u001b[0m\u001b[0;34m]\u001b[0m\u001b[0;34m=\u001b[0m\u001b[0;34m[\u001b[0m\u001b[0mqx\u001b[0m\u001b[0;34m,\u001b[0m\u001b[0mqy\u001b[0m\u001b[0;34m,\u001b[0m\u001b[0mqz\u001b[0m\u001b[0;34m]\u001b[0m\u001b[0;34m+\u001b[0m\u001b[0;34m[\u001b[0m\u001b[0mpx\u001b[0m\u001b[0;34m,\u001b[0m\u001b[0mpy\u001b[0m\u001b[0;34m,\u001b[0m\u001b[0mpz\u001b[0m\u001b[0;34m]\u001b[0m\u001b[0;34m/\u001b[0m\u001b[0mm\u001b[0m\u001b[0;34m*\u001b[0m\u001b[0mdt\u001b[0m\u001b[0;34m\u001b[0m\u001b[0;34m\u001b[0m\u001b[0m\n",
      "\u001b[0;31mIndexError\u001b[0m: index 3 is out of bounds for axis 0 with size 3"
     ]
    }
   ],
   "source": [
    "#def thermostat(m,dt,N,kbT,gamma):    \n",
    "for i in range(N):\n",
    "    r=qx**2+qy**2+qz**2\n",
    "        \n",
    "    distances=distance_matrix([qx,qy,qz],[qx,qy,qz])\n",
    "    print(distances)\n",
    "    for j in range(N):\n",
    "        distances[j,j]=np.infty\n",
    "    [fx,fy,fz]=[qx,qy,qz]*4*epsilon/r*(-12*sigma**12/r**13+6*sigma**6/r**7)\n",
    "    [qx,qy,qz]=[qx,qy,qz]+[px,py,pz]/m*dt\n",
    "\n",
    "    [px,py,pz]=[px,py,pz]+[fx,fy,fz]*dt-gamma*[px,py,pz]*dt+np.sqrt(2*m*kbT*gamma)*np.random.rand(1)\n",
    "    \n",
    "    #return qx,qy,qz,px,py,pz,U\n",
    "    "
   ]
  },
  {
   "cell_type": "code",
   "execution_count": null,
   "id": "6fe64b98",
   "metadata": {},
   "outputs": [],
   "source": []
  }
 ],
 "metadata": {
  "kernelspec": {
   "display_name": "Python 3 (ipykernel)",
   "language": "python",
   "name": "python3"
  },
  "language_info": {
   "codemirror_mode": {
    "name": "ipython",
    "version": 3
   },
   "file_extension": ".py",
   "mimetype": "text/x-python",
   "name": "python",
   "nbconvert_exporter": "python",
   "pygments_lexer": "ipython3",
   "version": "3.9.9"
  }
 },
 "nbformat": 4,
 "nbformat_minor": 5
}
