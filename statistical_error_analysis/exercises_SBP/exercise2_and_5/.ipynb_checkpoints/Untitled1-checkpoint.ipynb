{
 "cells": [
  {
   "cell_type": "markdown",
   "id": "eb6038f4",
   "metadata": {},
   "source": [
    "# MD at constant temperature"
   ]
  },
  {
   "cell_type": "markdown",
   "id": "78bb592a",
   "metadata": {},
   "source": [
    "Perform a simulation of a Lennard Jones crystal with 864 particles. Temperature should be controlled using the Langevin thermostat at temperature T = 2. Try with different values of the friction γ (e.g. 0.01, 0.1, 1.0, 10.0) and look at the difference in the behavior of the potential energy."
   ]
  },
  {
   "cell_type": "code",
   "execution_count": 1,
   "id": "d4507d64",
   "metadata": {},
   "outputs": [],
   "source": [
    "import numpy as np\n",
    "import matplotlib.pyplot as plt"
   ]
  },
  {
   "cell_type": "code",
   "execution_count": null,
   "id": "a7bbdf6c",
   "metadata": {},
   "outputs": [],
   "source": [
    "%%bash\n",
    "for friction in 0.01 0.1 1 10 100\n",
    "do\n",
    "cat > in-$friction << EOF\n",
    "inputfile crystal864.xyz\n",
    "outputfile output.xyz\n",
    "temperature 2\n",
    "tstep 0.005\n",
    "friction $friction\n",
    "forcecutoff 2.5\n",
    "listcutoff 3.0\n",
    "nstep 4000\n",
    "nconfig 10 trajectoryF$friction.xyz\n",
    "nstat 10 energiesF$friction.dat\n",
    "EOF\n",
    "./simplemd.x < in-$friction\n",
    "done"
   ]
  }
 ],
 "metadata": {
  "kernelspec": {
   "display_name": "Python 3 (ipykernel)",
   "language": "python",
   "name": "python3"
  },
  "language_info": {
   "codemirror_mode": {
    "name": "ipython",
    "version": 3
   },
   "file_extension": ".py",
   "mimetype": "text/x-python",
   "name": "python",
   "nbconvert_exporter": "python",
   "pygments_lexer": "ipython3",
   "version": "3.9.9"
  }
 },
 "nbformat": 4,
 "nbformat_minor": 5
}
