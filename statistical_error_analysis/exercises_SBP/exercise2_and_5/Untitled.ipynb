{
 "cells": [
  {
   "cell_type": "markdown",
   "id": "7501c73d",
   "metadata": {},
   "source": [
    "# MD at constant temperature"
   ]
  },
  {
   "cell_type": "markdown",
   "id": "27f8ccb8",
   "metadata": {},
   "source": [
    "1. Perform a simulation of a Lennard Jones crystal with 864 particles. Temperature should be controlled using the Langevin thermostat at temperature T = 2. Try with different values of the friction γ (e.g. 0.01, 0.1, 1.0,10.0) and look at the difference in the behavior of the potential energy."
   ]
  },
  {
   "cell_type": "code",
   "execution_count": 2,
   "id": "f3456410",
   "metadata": {},
   "outputs": [],
   "source": [
    "import numpy as np\n",
    "import matplotlib.pyplot as plt\n",
    "# from numba import njit\n",
    "from scipy.spatial import distance_matrix"
   ]
  },
  {
   "cell_type": "code",
   "execution_count": 5,
   "id": "beaad457",
   "metadata": {},
   "outputs": [],
   "source": [
    "# random initialization of (q,p) for 3N degrees of freedom, being N=864\n",
    "#[qx,qy,qz,px,py,pz]=np.random.rand(6,864)"
   ]
  },
  {
   "cell_type": "code",
   "execution_count": 3,
   "id": "b95fa761",
   "metadata": {},
   "outputs": [
    {
     "name": "stdout",
     "output_type": "stream",
     "text": [
      "[[0.79751161 0.93265783 0.36082756]]\n",
      "[[0.85107425 0.05563837 0.16842818]]\n"
     ]
    }
   ],
   "source": [
    "nparticles=1\n",
    "q=np.random.rand(nparticles,3)\n",
    "p=np.random.rand(nparticles,3)\n",
    "print(p)\n",
    "print(q)"
   ]
  },
  {
   "cell_type": "code",
   "execution_count": 4,
   "id": "67e73691",
   "metadata": {},
   "outputs": [],
   "source": [
    "# Langevin thermostat\n",
    "m=1\n",
    "dt=10**(-3)\n",
    "N=100\n",
    "kbT=2\n",
    "gamma=0.01\n",
    "epsilon=1.5\n",
    "sigma=3.7"
   ]
  },
  {
   "cell_type": "code",
   "execution_count": 5,
   "id": "2ae8200f",
   "metadata": {
    "scrolled": true
   },
   "outputs": [],
   "source": [
    "U=np.zeros(N)\n",
    "K=np.zeros(N)\n",
    "\n",
    "for i in range(N):\n",
    "    distances=distance_matrix(q,q)\n",
    "    for j in range(nparticles):\n",
    "        distances[j,j]=np.infty\n",
    "        \n",
    "    # compute the forces:\n",
    "    f=np.zeros((nparticles,nparticles,3))\n",
    "    for j in range(nparticles):\n",
    "        for k in range(nparticles):\n",
    "            f[j,k,:]=-4*epsilon*(-12*sigma**12/distances[j,k]**14*(q[j,:]-q[j,:])+6*sigma**6/distances[j,k]**8*(q[j,:]-q[k,:]))\n",
    "    U[i]=4*epsilon*1/2*(sigma**12*np.sum(distances**(-12))-sigma**6*np.sum(distances**(-6)))\n",
    "    K[i]=np.sum(p**2)/(2*m)\n",
    "    \n",
    "    q=q+(p/m)*dt\n",
    "    p=p+(np.sum(f,axis=0)-gamma*p+np.sqrt(2*m*kbT*gamma)*np.random.rand(nparticles,3))*dt\n",
    "    "
   ]
  },
  {
   "cell_type": "code",
   "execution_count": 6,
   "id": "e3c5cb9d",
   "metadata": {},
   "outputs": [
    {
     "name": "stdout",
     "output_type": "stream",
     "text": [
      "[0.81803596 0.8181617  0.81847425 0.81879735 0.81903385 0.81932352\n",
      " 0.81948903 0.81985345 0.81998604 0.82013419 0.82029183 0.82042349\n",
      " 0.82063079 0.82087843 0.82101798 0.82124223 0.8215807  0.82166878\n",
      " 0.82193047 0.82208977 0.82217308 0.82241606 0.82253178 0.82275559\n",
      " 0.82298739 0.8232112  0.82336101 0.82367365 0.82374479 0.82395724\n",
      " 0.82425616 0.82433331 0.82446242 0.82464633 0.82480944 0.82494958\n",
      " 0.82522883 0.82540701 0.82558954 0.82571456 0.82591888 0.82617725\n",
      " 0.8264262  0.82647738 0.82679477 0.82693989 0.82717288 0.82741421\n",
      " 0.82768802 0.82783793 0.82798946 0.82820158 0.8284354  0.82874131\n",
      " 0.82904754 0.82918942 0.82945824 0.829646   0.82987092 0.83006784\n",
      " 0.83030123 0.83061453 0.83074376 0.83089938 0.8311961  0.83134621\n",
      " 0.8316449  0.8317841  0.83188649 0.83206873 0.83231329 0.83261009\n",
      " 0.83272616 0.83295198 0.83325072 0.83337241 0.8335087  0.8337274\n",
      " 0.83394862 0.83415474 0.83421711 0.83444808 0.83473074 0.83495374\n",
      " 0.83514288 0.83533176 0.83541522 0.83546291 0.83561424 0.83585764\n",
      " 0.83609883 0.83638936 0.83646953 0.83676326 0.83707061 0.83721974\n",
      " 0.83742678 0.83766143 0.83779169 0.83798727]\n"
     ]
    },
    {
     "data": {
      "text/plain": [
       "[<matplotlib.lines.Line2D at 0x7f84cba577f0>]"
      ]
     },
     "execution_count": 6,
     "metadata": {},
     "output_type": "execute_result"
    },
    {
     "data": {
      "image/png": "[encoded data removed]",
      "text/plain": [
       "<Figure size 432x288 with 1 Axes>"
      ]
     },
     "metadata": {
      "needs_background": "light"
     },
     "output_type": "display_data"
    },
    {
     "data": {
      "image/png": "[encoded data removed]",
      "text/plain": [
       "<Figure size 432x288 with 1 Axes>"
      ]
     },
     "metadata": {
      "needs_background": "light"
     },
     "output_type": "display_data"
    }
   ],
   "source": [
    "plt.figure()\n",
    "plt.plot(K,'o--')\n",
    "print(K)\n",
    "plt.title('kinetic energy')\n",
    "\n",
    "plt.figure()\n",
    "plt.title('potential energy')\n",
    "plt.plot(U,'o--')"
   ]
  },
  {
   "cell_type": "code",
   "execution_count": 7,
   "id": "4d1e79a1",
   "metadata": {},
   "outputs": [
    {
     "ename": "NameError",
     "evalue": "name 'qx' is not defined",
     "output_type": "error",
     "traceback": [
      "\u001b[0;31m---------------------------------------------------------------------------\u001b[0m",
      "\u001b[0;31mNameError\u001b[0m                                 Traceback (most recent call last)",
      "\u001b[0;32m/tmp/ipykernel_5081/2763281778.py\u001b[0m in \u001b[0;36m<module>\u001b[0;34m\u001b[0m\n\u001b[1;32m      1\u001b[0m \u001b[0;31m#def thermostat(m,dt,N,kbT,gamma):\u001b[0m\u001b[0;34m\u001b[0m\u001b[0;34m\u001b[0m\u001b[0m\n\u001b[1;32m      2\u001b[0m \u001b[0;32mfor\u001b[0m \u001b[0mi\u001b[0m \u001b[0;32min\u001b[0m \u001b[0mrange\u001b[0m\u001b[0;34m(\u001b[0m\u001b[0mN\u001b[0m\u001b[0;34m)\u001b[0m\u001b[0;34m:\u001b[0m\u001b[0;34m\u001b[0m\u001b[0;34m\u001b[0m\u001b[0m\n\u001b[0;32m----> 3\u001b[0;31m     \u001b[0mr\u001b[0m\u001b[0;34m=\u001b[0m\u001b[0mqx\u001b[0m\u001b[0;34m**\u001b[0m\u001b[0;36m2\u001b[0m\u001b[0;34m+\u001b[0m\u001b[0mqy\u001b[0m\u001b[0;34m**\u001b[0m\u001b[0;36m2\u001b[0m\u001b[0;34m+\u001b[0m\u001b[0mqz\u001b[0m\u001b[0;34m**\u001b[0m\u001b[0;36m2\u001b[0m\u001b[0;34m\u001b[0m\u001b[0;34m\u001b[0m\u001b[0m\n\u001b[0m\u001b[1;32m      4\u001b[0m \u001b[0;34m\u001b[0m\u001b[0m\n\u001b[1;32m      5\u001b[0m     \u001b[0mdistances\u001b[0m\u001b[0;34m=\u001b[0m\u001b[0mdistance_matrix\u001b[0m\u001b[0;34m(\u001b[0m\u001b[0;34m[\u001b[0m\u001b[0mqx\u001b[0m\u001b[0;34m,\u001b[0m\u001b[0mqy\u001b[0m\u001b[0;34m,\u001b[0m\u001b[0mqz\u001b[0m\u001b[0;34m]\u001b[0m\u001b[0;34m,\u001b[0m\u001b[0;34m[\u001b[0m\u001b[0mqx\u001b[0m\u001b[0;34m,\u001b[0m\u001b[0mqy\u001b[0m\u001b[0;34m,\u001b[0m\u001b[0mqz\u001b[0m\u001b[0;34m]\u001b[0m\u001b[0;34m)\u001b[0m\u001b[0;34m\u001b[0m\u001b[0;34m\u001b[0m\u001b[0m\n",
      "\u001b[0;31mNameError\u001b[0m: name 'qx' is not defined"
     ]
    }
   ],
   "source": [
    "#def thermostat(m,dt,N,kbT,gamma):    \n",
    "for i in range(N):\n",
    "    r=qx**2+qy**2+qz**2\n",
    "        \n",
    "    distances=distance_matrix([qx,qy,qz],[qx,qy,qz])\n",
    "    print(distances)\n",
    "    for j in range(N):\n",
    "        distances[j,j]=np.infty\n",
    "    [fx,fy,fz]=[qx,qy,qz]*4*epsilon/r*(-12*sigma**12/r**13+6*sigma**6/r**7)\n",
    "    [qx,qy,qz]=[qx,qy,qz]+[px,py,pz]/m*dt\n",
    "\n",
    "    [px,py,pz]=[px,py,pz]+[fx,fy,fz]*dt-gamma*[px,py,pz]*dt+np.sqrt(2*m*kbT*gamma)*np.random.rand(1)\n",
    "    \n",
    "    #return qx,qy,qz,px,py,pz,U\n",
    "    "
   ]
  },
  {
   "cell_type": "code",
   "execution_count": null,
   "id": "6fe64b98",
   "metadata": {},
   "outputs": [],
   "source": []
  }
 ],
 "metadata": {
  "kernelspec": {
   "display_name": "Python 2.7.5 64-bit",
   "language": "python",
   "name": "python3"
  },
  "language_info": {
   "codemirror_mode": {
    "name": "ipython",
    "version": 3
   },
   "file_extension": ".py",
   "mimetype": "text/x-python",
   "name": "python",
   "nbconvert_exporter": "python",
   "pygments_lexer": "ipython3",
   "version": "3.9.13"
  },
  "vscode": {
   "interpreter": {
    "hash": "e7370f93d1d0cde622a1f8e1c04877d8463912d04d973331ad4851f04de6915a"
   }
  }
 },
 "nbformat": 4,
 "nbformat_minor": 5
}
