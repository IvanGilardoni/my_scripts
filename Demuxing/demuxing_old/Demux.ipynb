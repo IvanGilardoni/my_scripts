{
 "cells": [
  {
   "cell_type": "markdown",
   "metadata": {},
   "source": [
    "Simple tool to perform \"demux like\" operations on trajectories. Currently works with numpy arrays. Could be extended to directly use mdtraj objects."
   ]
  },
  {
   "cell_type": "code",
   "execution_count": 1,
   "metadata": {},
   "outputs": [],
   "source": [
    "import numpy as np\n",
    "import matplotlib.pyplot as plt"
   ]
  },
  {
   "cell_type": "markdown",
   "metadata": {},
   "source": [
    "This is a function to generate mock trajectories.\n",
    "\n",
    "- NR: number of replicas\n",
    "- L: number of frames per replica\n",
    "- NOBS: number of observables (the larger, the better the macthing)\n",
    "- TAU: correlation time for observables. The larger, the easier the matching."
   ]
  },
  {
   "cell_type": "code",
   "execution_count": 3,
   "metadata": {},
   "outputs": [],
   "source": [
    "def generate_trajs(NR,L,NOBS,tau=10.0):\n",
    "    c1=np.exp(-1.0/tau)\n",
    "    c2=np.sqrt(1-c1**2)\n",
    "    traj=np.random.normal(size=(NR,L,NOBS))\n",
    "    for i in range(1,L):\n",
    "        traj[:,i,:]=traj[:,i-1,:]*c1 + traj[:,i,:]*c2\n",
    "    return traj"
   ]
  },
  {
   "cell_type": "markdown",
   "metadata": {},
   "source": [
    "This is a tool to artificially scramble the frames. Assumes that trajectory is indexed as [i,j,k]:\n",
    "- i is the index of the replica\n",
    "- j is the index of the frame\n",
    "- k is the index of the observable\n",
    "\n",
    "Returns a pair with the reference permutation (to be used as a check) and the new trajectory.\n",
    "\n",
    "permutation[i,j] is \"from which continuous replica does the i-th frame of j-th replica come from\"."
   ]
  },
  {
   "cell_type": "code",
   "execution_count": 4,
   "metadata": {},
   "outputs": [],
   "source": [
    "def scramble(traj): \n",
    "    # senza creare la traiettoria nuova, il loop è con un iteratore sui frame;\n",
    "    # passargli 24 file mdtraj aperti, senza tenere in memoria le traiettorie, passo direttamente le coordinate\n",
    "    # dato che ci sono PBC, calcolo il vettore distanza percorsa da ciascun atomo tra due frame successivi mod lato scatola\n",
    "    # mdtraj dà anche la matrice della cella; \n",
    "    # (leggi frame, inverso matrice cella per avere le coordinate; sin,cos coordinate scalate *2pi per le PBC)\n",
    "    # usare come osservabili le coordinate (anche il solvente)\n",
    "    # se è isobara, il volume cambia ma le coordinate scalate comunque cambiano poco\n",
    "    # poi calcola la distanza euclidea \n",
    "    # \n",
    "    permutations=[]\n",
    "    NR=traj.shape[0]\n",
    "    L=traj.shape[1]\n",
    "    newt=+traj\n",
    "    permutations.append(np.arange(NR))\n",
    "    for i in range(1,L):\n",
    "        permutations.append(np.random.permutation(NR))\n",
    "        newt[:,i,:]=traj[permutations[-1],i,:]\n",
    "    return np.array(permutations),newt"
   ]
  },
  {
   "cell_type": "markdown",
   "metadata": {},
   "source": [
    "Now the key tool. Takes the scrambled trajectory as an input and try to reconstruct the original one. Returns both the guessed permutation and the original trajectories.\n",
    "\n",
    "permutation[i,j] is \"from which continuous replica does the i-th frame of j-th replica come from\".\n",
    "\n",
    "It is the same as `replica_index.xvg` in gromacs."
   ]
  },
  {
   "cell_type": "code",
   "execution_count": 5,
   "metadata": {},
   "outputs": [],
   "source": [
    "def demux(traj):\n",
    "    from scipy.spatial import distance\n",
    "    from scipy.optimize import linear_sum_assignment\n",
    "    NR=traj.shape[0]\n",
    "    L=traj.shape[1]\n",
    "    permutations=[]\n",
    "    permutations.append(np.arange(NR))\n",
    "    newt=+traj\n",
    "    for i in range(1,L):\n",
    "        cost=distance.cdist(traj[:,i,:],traj[:,i-1,:],\"sqeuclidean\")\n",
    "        (rows,cols)=linear_sum_assignment(cost)\n",
    "        permutations.append(permutations[-1][cols])\n",
    "        newt[permutations[-1],i,:]=traj[:,i,:]\n",
    "    return np.array(permutations),newt"
   ]
  },
  {
   "cell_type": "code",
   "execution_count": 10,
   "metadata": {},
   "outputs": [
    {
     "name": "stdout",
     "output_type": "stream",
     "text": [
      "Success rate: 0.8904166666666666\n"
     ]
    },
    {
     "data": {
      "text/plain": [
       "<matplotlib.image.AxesImage at 0x7fad67f332e8>"
      ]
     },
     "execution_count": 10,
     "metadata": {},
     "output_type": "execute_result"
    },
    {
     "data": {
      "image/png": "[encoded data removed]",
      "text/plain": [
       "<Figure size 1152x144 with 1 Axes>"
      ]
     },
     "metadata": {
      "needs_background": "light"
     },
     "output_type": "display_data"
    }
   ],
   "source": [
    "# easy case: long tau and enough observables\n",
    "NR=24\n",
    "NOBS=10\n",
    "L=1000\n",
    "tau=10\n",
    "traj=generate_trajs(NR,L,NOBS,tau)\n",
    "p_true,scambled_traj=scramble(traj)\n",
    "p_check,demuxed_traj=demux(scambled_traj)\n",
    "print(\"Success rate:\",np.sum(p_true==p_check)/p_true.size)\n",
    "plt.matshow((p_true==p_check).T)"
   ]
  },
  {
   "cell_type": "code",
   "execution_count": 14,
   "metadata": {},
   "outputs": [
    {
     "name": "stdout",
     "output_type": "stream",
     "text": [
      "(1000, 24)\n",
      "[ 0 13  0  9  1  3  2 23 23 13 11 18  7  7 22 16  3 11 23  6 20  6  4 17\n",
      " 11  0 11 12  3  7 11 19 15  5  7 13 23  0  6  1  6  6  3 16  6 18  3 23\n",
      " 17 16 23  8 22 12  5 17 21 15  0  8 16 20 21 16 18 14 17  9  1 18  7  7\n",
      " 11  6  5 21 21 17  1  7 18 17 23  5 22  6  8  9 21 13  4 14 22 23 17  2\n",
      "  3  9  7 18  4 23  3  9 14  2  7  9  6  7 21 16 23 17  7  9  4  1 11  9\n",
      "  5 12 17 10 10 12 14 13 16 18  6 18  7 16  2  5  3  4 17  1 22  3  9  3\n",
      " 13 20  3 20  3 15  8 14 10  2 12  3  7 16 18  0 14 18 16  6  0 22  0 18\n",
      " 13 19 20 20 18 12 18 12 18 12  8  1 19 21 18 10 15  0 11  9 10 22  7 16\n",
      " 20 10 15 23 12  0 17 11  7  0  9 22  0  7  4 18  8  4 16 15 17  7 22  5\n",
      " 15 20  0 13  5  4 11 11 14 15 12  8  0  7 18 19  3  7 21 10 21 14 14 17\n",
      "  7 17 21  2 12 21 10  7 11 22 10  2 14 10 20  7 19  6  5 21  4 23  4  1\n",
      "  7  8 19  6 20 10  6  0 12 17  3  7  5 20  7  3 19 17 15 21 11 16 13  4\n",
      "  6  9  9 23 12  5 13 21 15  7 11  3 21  6 22 12  2  5  6 21 10  6  2 14\n",
      " 20 21 19  0 10 10  9  2 19 13 11  2 10 16 13  5  0 10  8 14 15  6 20 23\n",
      " 19 20  2  0  6  7 12 21 18 10 17 18 21 21  3  0 18 20 19 13 19 17  8  9\n",
      " 20  9 10 12  2  5 10 18  2 23 18 11 21 18 10 11 18 15  6 11 12 10 10 22\n",
      "  0 20 19 20 20  1 19 22  1 23  3  0 20 21 19  0 18 13 17  6 19  9  0 20\n",
      "  3 14 17 11  7 14 16  8  8 21 15  3  7 11 18  5 21  4 20 20 13 14 16 21\n",
      "  2 23 11 12  9  2  3  4 14 21 19 23  6  2 20 19 13  6  0 13  2 17 17  5\n",
      " 11  5  6 21  5  5 17  4 23  3 12 12 12  3 14  5 20 12 14 14  2 22 18 14\n",
      "  3 10  8  3 17 11 14 10  9 11  7  9 14 20  4  4 11 16 13  0  9  7  1 10\n",
      "  0 23  4 19 12 15 18 18  7  0 20  7 20 11  8  1 20 11 17 19 10  7  5 11\n",
      "  6 11 13  0 19 18 11 13 21 15  0 10  0 13  0  8 18 10  8  4  6  4  2 20\n",
      "  5 22  1 17 21 19 11 12 23  3 23  2 11 23  0 16  9 17 17 22  0 22  2 10\n",
      "  0 17 21 21 17 12  7 14 15 21 20 20  8  5  1  6 10  5 22  0 15 18 13  2\n",
      "  2  7 23 12 23 17  0 19 22  3 20 12  8 20 11  3  0  9 19  3 10  4 10  6\n",
      " 17  6  6  4 22  1  8  1 19  5 17 11 17 19 18 22 20  0 10 14 18 14 12  7\n",
      " 19  3 20 16  1 20  2 13 10 11 10 14  3 19  4  4  3 18  2 23 17  3 12  9\n",
      " 10 22 23  1 13 14 23 12 17  9 11  0  5 23 12 14  4 15 19 22 23 23 13 13\n",
      " 21 12 15 13 17 20  0  5  1 14 11 13  9 18  1 11  5  3  5 11 16  2  2 16\n",
      " 15 13 19  9 12 19  2  5  4  0  2  2  9 11 17  8  8 10  3 21 14 20  7 11\n",
      "  2  8 16 13 23 22  1 22 14 18 12 17  0 13 14  4  3  6 14 13 13 21 23 23\n",
      "  0  5 13  5  0  1 13 12  8 18  8  9 13  9 22 21 11  0  2  3  6  9 23 21\n",
      " 19  7 10  3 12 12 23  0 19 18 18  0  9 16  9  2  0 12 16  7 16 18  7  0\n",
      " 17 12  8 12 20 10 12  0 21 14  4  7 19 18  8  9  1  3  4  5 23  2 21 19\n",
      " 16  4 12  8 18  5  0 22 22 21  5  0  8 19  6  9 12  4 23 23 15 23 11 23\n",
      "  2 16 18 14  7  7 15  0  0 19  3  3 12  9 12 23  5 10 12  1 18 19 22 21\n",
      "  9 13  3  4  0 15 18 14 16 17  4  3 23  9  8  5  3 15  3 20  1 15 21 22\n",
      "  4 22  2 20  2 22  6  1 20  8  8  9  2  4 22  6  4 10 22  1 19 12 12 21\n",
      "  1  9 18 21 11 18  0  3 12  0  2 12 11 23  0  9  4 17 14 14 16  1 10 23\n",
      " 12  9 19 22  9 22  9 10  0  6  5  8  5 21  0 16 10 18 12 18  7  6  3  0\n",
      " 16  5  8 15 10 10  1  6 21 22 13 10  1 23  3  2]\n"
     ]
    }
   ],
   "source": [
    "print(p_check.shape)\n",
    "print(p_check[:,0])"
   ]
  },
  {
   "cell_type": "code",
   "execution_count": 6,
   "metadata": {},
   "outputs": [
    {
     "name": "stdout",
     "output_type": "stream",
     "text": [
      "Success rate: 0.16625\n"
     ]
    },
    {
     "data": {
      "text/plain": [
       "<matplotlib.image.AxesImage at 0x107cf9590>"
      ]
     },
     "execution_count": 6,
     "metadata": {},
     "output_type": "execute_result"
    },
    {
     "data": {
      "image/png": "[encoded data removed]",
      "text/plain": [
       "<Figure size 1152x184.32 with 1 Axes>"
      ]
     },
     "metadata": {
      "needs_background": "light"
     },
     "output_type": "display_data"
    }
   ],
   "source": [
    "# more difficult case: shorted tau\n",
    "# notice that errors accumulate\n",
    "NR=16\n",
    "NOBS=10\n",
    "L=100\n",
    "tau=3\n",
    "traj=generate_trajs(NR,L,NOBS,tau)\n",
    "p_true,scambled_traj=scramble(traj)\n",
    "p_check,demuxed_traj=demux(scambled_traj)\n",
    "print(\"Success rate:\",np.sum(p_true==p_check)/p_true.size)\n",
    "plt.matshow((p_true==p_check).T)"
   ]
  },
  {
   "cell_type": "code",
   "execution_count": 7,
   "metadata": {},
   "outputs": [
    {
     "name": "stdout",
     "output_type": "stream",
     "text": [
      "Success rate: 1.0\n"
     ]
    },
    {
     "data": {
      "text/plain": [
       "<matplotlib.image.AxesImage at 0x1177a6890>"
      ]
     },
     "execution_count": 7,
     "metadata": {},
     "output_type": "execute_result"
    },
    {
     "data": {
      "image/png": "[encoded data removed]",
      "text/plain": [
       "<Figure size 1152x184.32 with 1 Axes>"
      ]
     },
     "metadata": {
      "needs_background": "light"
     },
     "output_type": "display_data"
    }
   ],
   "source": [
    "# with more observables, it's easier\n",
    "NR=16\n",
    "NOBS=20\n",
    "L=100\n",
    "tau=3\n",
    "traj=generate_trajs(NR,L,NOBS,tau)\n",
    "p_true,scambled_traj=scramble(traj)\n",
    "p_check,demuxed_traj=demux(scambled_traj)\n",
    "print(\"Success rate:\",np.sum(p_true==p_check)/p_true.size)\n",
    "plt.matshow((p_true==p_check).T)"
   ]
  }
 ],
 "metadata": {
  "kernelspec": {
   "display_name": "Python 3.6.8 64-bit",
   "language": "python",
   "name": "python3"
  },
  "language_info": {
   "codemirror_mode": {
    "name": "ipython",
    "version": 3
   },
   "file_extension": ".py",
   "mimetype": "text/x-python",
   "name": "python",
   "nbconvert_exporter": "python",
   "pygments_lexer": "ipython3",
   "version": "3.6.8"
  },
  "vscode": {
   "interpreter": {
    "hash": "31f2aee4e71d21fbe5cf8b01ff0e069b9275f58929596ceb00d14d90e3e16cd6"
   }
  }
 },
 "nbformat": 4,
 "nbformat_minor": 4
}
