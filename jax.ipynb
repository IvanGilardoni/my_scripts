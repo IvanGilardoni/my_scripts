{
 "cells": [
  {
   "cell_type": "markdown",
   "metadata": {},
   "source": [
    "## Examples with JAX"
   ]
  },
  {
   "cell_type": "code",
   "execution_count": 1,
   "metadata": {},
   "outputs": [],
   "source": [
    "import matplotlib.pyplot as plt"
   ]
  },
  {
   "cell_type": "code",
   "execution_count": 2,
   "metadata": {},
   "outputs": [],
   "source": [
    "import jax\n",
    "from jax import numpy as np\n",
    "from jax.config import config\n",
    "config.update(\"jax_enable_x64\", True)"
   ]
  },
  {
   "cell_type": "code",
   "execution_count": 3,
   "metadata": {},
   "outputs": [],
   "source": [
    "from jax.scipy.optimize import minimize as jax_minimize\n",
    "from scipy.optimize import minimize"
   ]
  },
  {
   "cell_type": "code",
   "execution_count": 4,
   "metadata": {},
   "outputs": [
    {
     "name": "stdout",
     "output_type": "stream",
     "text": [
      "yes, JAX!\n"
     ]
    }
   ],
   "source": [
    "import sys\n",
    "\n",
    "sys.argv[1] = True\n",
    "from Functions_hyper import load_data, minimizer, select_traintest, Hyper_minimizer"
   ]
  },
  {
   "cell_type": "markdown",
   "metadata": {},
   "source": [
    "### Load data"
   ]
  },
  {
   "cell_type": "code",
   "execution_count": 5,
   "metadata": {},
   "outputs": [],
   "source": [
    "path_directory = 'DATA/'\n",
    "system_names = ['AAAA']\n",
    "\n",
    "types={}\n",
    "\n",
    "# experimental observables (average and uncertainty)\n",
    "types['g_exp'] = {}\n",
    "for name in system_names:\n",
    "    types['g_exp'][name] = ['backbone1_gamma_3J','backbone2_beta_epsilon_3J','sugar_3J','NOEs']#,('uNOEs','<')]\n",
    "    # types['g_exp'][name] = ['backbone1_gamma_3J']\n",
    "    # types['g_exp'][name] = ['backbone2_beta_epsilon_3J']\n",
    "\n",
    "\n",
    "# quantities needed to compute observables through forward model (from MD simulations)\n",
    "types['forward_qs'] = {}\n",
    "types['obs'] = {}\n",
    "for name in system_names:\n",
    "    types['forward_qs'][name] = ['backbone1_gamma','backbone2_beta_epsilon','sugar']\n",
    "    # types['forward_qs'][name] = ['backbone1_gamma']\n",
    "    # types['forward_qs'][name] = ['backbone2_beta_epsilon']\n",
    "    types['obs'][name] = ['NOEs']#,'uNOEs']\n",
    "\n",
    "filename_forward_coeffs = 'original_coeffs'#_gamma'\n",
    "\n",
    "# force-field correction terms (types['ff_terms'] must correspond to selected columns in corresponding pandas DataFrames)\n",
    "types['ff_terms'] = {}\n",
    "for name in system_names: types['ff_terms'][name] = ['sinalpha','cosalpha','sinzeta','coszeta']\n",
    "\n",
    "stride = 100"
   ]
  },
  {
   "cell_type": "code",
   "execution_count": 6,
   "metadata": {},
   "outputs": [],
   "source": [
    "def forward_model_splitted(fm_coeffs, forward_qs, *, selected_obs = None):\n",
    "    \n",
    "    forward_qs_out = {}\n",
    "    derivatives = {}\n",
    "\n",
    "    for name in forward_qs.keys():\n",
    "\n",
    "        # you could do this just once before loading data, since you have always to compute the cosine\n",
    "        forward_qs_cos = {}\n",
    "        if selected_obs is None:\n",
    "            for type_name in forward_qs[name].keys():\n",
    "                forward_qs_cos[type_name] = np.cos(forward_qs[name][type_name])\n",
    "        else:\n",
    "            for type_name in forward_qs[name].keys():\n",
    "                forward_qs_cos[type_name] = np.cos(forward_qs[name][type_name][:,selected_obs[name][type_name]])\n",
    "\n",
    "        forward_qs_out[name] = {\n",
    "            'backbone1_gamma_3J': fm_coeffs['A_gamma']*forward_qs_cos['backbone1_gamma']**2-fm_coeffs['B_gamma']*forward_qs_cos['backbone1_gamma']+fm_coeffs['C_gamma'],\n",
    "            'backbone2_beta_epsilon_3J': fm_coeffs['A_beta']*forward_qs_cos['backbone2_beta_epsilon']**2-fm_coeffs['B_beta']*forward_qs_cos['backbone2_beta_epsilon']+fm_coeffs['C_beta'],\n",
    "            'sugar_3J': fm_coeffs['A_sugar']*forward_qs_cos['sugar']**2-fm_coeffs['B_sugar']*forward_qs_cos['sugar']+fm_coeffs['C_sugar']}\n",
    "\n",
    "        derivatives[name] = {\n",
    "            'backbone1_gamma_3J': {\n",
    "                'A_gamma': forward_qs_cos['backbone1_gamma']**2,\n",
    "                'B_gamma': -forward_qs_cos['backbone1_gamma'],\n",
    "                'C_gamma': np.ones(forward_qs_cos['backbone1_gamma'].shape)},\n",
    "            'backbone2_beta_epsilon_3J': {\n",
    "                'A_beta': forward_qs_cos['backbone2_beta_epsilon']**2,\n",
    "                'B_beta': -forward_qs_cos['backbone2_beta_epsilon'],\n",
    "                'C_beta': np.ones(forward_qs_cos['backbone2_beta_epsilon'].shape)},\n",
    "            'sugar_3J': {\n",
    "                'A_sugar': forward_qs_cos['sugar']**2,\n",
    "                'B_sugar': -forward_qs_cos['sugar'],\n",
    "                'C_sugar': np.ones(forward_qs_cos['sugar'].shape)}}\n",
    "\n",
    "    return forward_qs_out,derivatives"
   ]
  },
  {
   "cell_type": "code",
   "execution_count": 7,
   "metadata": {},
   "outputs": [
    {
     "name": "stderr",
     "output_type": "stream",
     "text": [
      "WARNING:absl:No GPU/TPU found, falling back to CPU. (Set TF_CPP_MIN_LOG_LEVEL=0 and rerun for more info.)\n"
     ]
    },
    {
     "name": "stdout",
     "output_type": "stream",
     "text": [
      "loading data from directory...\n",
      "done\n"
     ]
    }
   ],
   "source": [
    "data = load_data(path_directory, system_names, types, stride = stride, ff_correction = 'linear',\n",
    "    forward_model = forward_model_splitted, filename_forward_coeffs = filename_forward_coeffs)"
   ]
  },
  {
   "cell_type": "markdown",
   "metadata": {},
   "source": [
    "### gamma_function"
   ]
  },
  {
   "cell_type": "markdown",
   "metadata": {},
   "source": [
    "0. define $\\Gamma(\\lambda,\\alpha)$"
   ]
  },
  {
   "cell_type": "code",
   "execution_count": 8,
   "metadata": {},
   "outputs": [],
   "source": [
    "from Functions_hyper import gamma_function"
   ]
  },
  {
   "cell_type": "code",
   "execution_count": 9,
   "metadata": {},
   "outputs": [],
   "source": [
    "alpha = 1.0"
   ]
  },
  {
   "cell_type": "code",
   "execution_count": 10,
   "metadata": {},
   "outputs": [],
   "source": [
    "name_sys = 'AAAA'\n",
    "\n",
    "# x0 = np.float64(np.array(lambdas[js[i_sys][0]:js[i_sys][-1]]))#, order = 'K')\n",
    "\n",
    "g = np.hstack([data.g[name_sys][k] for k in data.n_experiments[name_sys].keys()])\n",
    "gexp = np.vstack([data.gexp[name_sys][k] for k in data.n_experiments[name_sys].keys()])\n",
    "# normg_std = np.hstack([data.normg_std[name_sys][k] for k in data.n_experiments[name_sys].keys()])\n",
    "\n",
    "weights = data.weights[name_sys]"
   ]
  },
  {
   "cell_type": "code",
   "execution_count": 11,
   "metadata": {},
   "outputs": [],
   "source": [
    "key = jax.random.PRNGKey(140896)\n",
    "x0 = jax.random.uniform(key, shape = (g.shape[1],))"
   ]
  },
  {
   "cell_type": "code",
   "execution_count": 52,
   "metadata": {},
   "outputs": [
    {
     "data": {
      "text/plain": [
       "DeviceArray([4, 8, 9, 3], dtype=int64)"
      ]
     },
     "execution_count": 52,
     "metadata": {},
     "output_type": "execute_result"
    }
   ],
   "source": [
    "jax.random.choice(key, np.arange(10),(4,), replace=True)"
   ]
  },
  {
   "cell_type": "code",
   "execution_count": 15,
   "metadata": {},
   "outputs": [
    {
     "data": {
      "text/plain": [
       "(DeviceArray(-14.7577388, dtype=float64),\n",
       " DeviceArray([ 1.77304821e+00,  7.56861922e-01, -7.33762171e-01,\n",
       "              -9.85241211e-01,  7.20233036e-01, -9.18948771e-01,\n",
       "               7.25398510e-02, -4.15033243e-01,  2.39584836e-02,\n",
       "               1.90865305e+00, -1.27563630e+01, -2.28018928e+00,\n",
       "              -3.66082768e+00, -4.27731831e+00,  5.03324885e-01,\n",
       "              -6.10009166e+00, -5.15821948e+00,  1.14251279e-01,\n",
       "              -2.75219484e+00,  2.81642881e+00,  6.75129144e-01,\n",
       "              -4.40723947e+00,  4.75732936e+00,  2.63712271e+00,\n",
       "              -3.69561189e+00,  2.20571200e+00, -2.52966541e+00,\n",
       "               7.33305451e+00, -1.11591163e-03,  1.75762663e-05,\n",
       "               3.24370797e-04, -1.54906586e-03,  8.75547517e-05,\n",
       "               8.54816242e-05,  5.59773914e-04,  9.11349466e-05,\n",
       "               7.72155502e-04,  3.66509375e-04, -9.73743706e-04,\n",
       "              -3.04188167e-03, -9.30539630e-06,  2.17176493e-04,\n",
       "               4.30035803e-05, -7.26622531e-04,  3.89851559e-05,\n",
       "               1.68393800e-04,  5.91710438e-04, -8.54413749e-04,\n",
       "              -4.72363171e-03,  1.55230045e-03,  2.32027377e-04,\n",
       "              -1.59909181e-05,  8.98731844e-05, -2.36960227e-04,\n",
       "              -1.91101256e-05,  7.24335599e-05,  4.04245926e-04,\n",
       "               2.53144794e-04,  1.01350731e-03,  2.07188134e-04,\n",
       "              -1.32186770e-04, -2.74579235e-03,  2.34191625e-05,\n",
       "              -1.34376807e-03], dtype=float64),\n",
       " DeviceArray([3.82091159e+00, 3.32508427e+00, 3.91282951e+00,\n",
       "              3.35043705e+00, 2.85210439e+00, 3.90411168e+00,\n",
       "              3.27826544e+00, 3.62493788e+00, 9.50129236e+00,\n",
       "              4.09442192e+00, 1.37938409e+01, 1.17056453e+01,\n",
       "              8.53086223e+00, 7.38314353e+00, 9.19515757e+00,\n",
       "              9.90875924e+00, 7.17851641e+00, 2.87862261e+00,\n",
       "              7.78550440e+00, 4.07100254e+00, 1.24544456e+00,\n",
       "              8.22064381e+00, 4.31285297e+00, 2.63481733e-01,\n",
       "              7.91656019e+00, 6.34294483e+00, 5.90546351e+00,\n",
       "              8.01202085e-01, 1.89040326e-03, 6.41864226e-05,\n",
       "              7.77743906e-06, 2.00845980e-03, 3.28740097e-05,\n",
       "              2.00703519e-05, 8.76156928e-05, 4.66855309e-05,\n",
       "              6.00368943e-04, 4.07929532e-04, 2.65521692e-03,\n",
       "              3.68931626e-03, 6.61366315e-05, 6.70494138e-05,\n",
       "              9.48104788e-05, 1.11638998e-03, 5.37867218e-05,\n",
       "              4.21314218e-05, 5.35320557e-04, 2.53682704e-03,\n",
       "              6.09551437e-03, 1.29163034e-04, 1.00126145e-04,\n",
       "              7.99927292e-05, 1.20651264e-04, 5.69097245e-04,\n",
       "              5.15352566e-05, 9.33338943e-06, 1.67127596e-03,\n",
       "              6.78348811e-04, 1.13601735e-04, 7.70045508e-05,\n",
       "              2.70001217e-04, 4.11769022e-03, 6.93542854e-05,\n",
       "              1.67591117e-03], dtype=float64))"
      ]
     },
     "execution_count": 15,
     "metadata": {},
     "output_type": "execute_result"
    }
   ],
   "source": [
    "out = gamma_function(x0, g, gexp, weights, alpha, True)\n",
    "out"
   ]
  },
  {
   "cell_type": "markdown",
   "metadata": {},
   "source": [
    "0a. compare gradient computed with Jax with mine "
   ]
  },
  {
   "cell_type": "code",
   "execution_count": 16,
   "metadata": {},
   "outputs": [],
   "source": [
    "gradient = jax.grad(gamma_function, argnums = 0)"
   ]
  },
  {
   "cell_type": "code",
   "execution_count": 17,
   "metadata": {},
   "outputs": [
    {
     "data": {
      "text/plain": [
       "DeviceArray([ 1.77304821e+00,  7.56861922e-01, -7.33762171e-01,\n",
       "             -9.85241211e-01,  7.20233036e-01, -9.18948771e-01,\n",
       "              7.25398510e-02, -4.15033243e-01,  2.39584836e-02,\n",
       "              1.90865305e+00, -1.27563630e+01, -2.28018928e+00,\n",
       "             -3.66082768e+00, -4.27731831e+00,  5.03324885e-01,\n",
       "             -6.10009166e+00, -5.15821948e+00,  1.14251279e-01,\n",
       "             -2.75219484e+00,  2.81642881e+00,  6.75129144e-01,\n",
       "             -4.40723947e+00,  4.75732936e+00,  2.63712271e+00,\n",
       "             -3.69561189e+00,  2.20571200e+00, -2.52966541e+00,\n",
       "              7.33305451e+00, -1.11591163e-03,  1.75762663e-05,\n",
       "              3.24370797e-04, -1.54906586e-03,  8.75547517e-05,\n",
       "              8.54816242e-05,  5.59773914e-04,  9.11349466e-05,\n",
       "              7.72155502e-04,  3.66509375e-04, -9.73743706e-04,\n",
       "             -3.04188167e-03, -9.30539630e-06,  2.17176493e-04,\n",
       "              4.30035803e-05, -7.26622531e-04,  3.89851559e-05,\n",
       "              1.68393800e-04,  5.91710438e-04, -8.54413749e-04,\n",
       "             -4.72363171e-03,  1.55230045e-03,  2.32027377e-04,\n",
       "             -1.59909181e-05,  8.98731844e-05, -2.36960227e-04,\n",
       "             -1.91101256e-05,  7.24335599e-05,  4.04245926e-04,\n",
       "              2.53144794e-04,  1.01350731e-03,  2.07188134e-04,\n",
       "             -1.32186770e-04, -2.74579235e-03,  2.34191625e-05,\n",
       "             -1.34376807e-03], dtype=float64)"
      ]
     },
     "execution_count": 17,
     "metadata": {},
     "output_type": "execute_result"
    }
   ],
   "source": [
    "gradient(x0, g, gexp, weights, alpha)"
   ]
  },
  {
   "cell_type": "code",
   "execution_count": 37,
   "metadata": {},
   "outputs": [
    {
     "data": {
      "text/plain": [
       "DeviceArray([ 1.77304821e+00,  7.56861922e-01, -7.33762171e-01,\n",
       "             -9.85241211e-01,  7.20233036e-01, -9.18948771e-01,\n",
       "              7.25398510e-02, -4.15033243e-01,  2.39584836e-02,\n",
       "              1.90865305e+00, -1.27563630e+01, -2.28018928e+00,\n",
       "             -3.66082768e+00, -4.27731831e+00,  5.03324885e-01,\n",
       "             -6.10009166e+00, -5.15821948e+00,  1.14251279e-01,\n",
       "             -2.75219484e+00,  2.81642881e+00,  6.75129144e-01,\n",
       "             -4.40723947e+00,  4.75732936e+00,  2.63712271e+00,\n",
       "             -3.69561189e+00,  2.20571200e+00, -2.52966541e+00,\n",
       "              7.33305451e+00, -1.11591163e-03,  1.75762663e-05,\n",
       "              3.24370797e-04, -1.54906586e-03,  8.75547517e-05,\n",
       "              8.54816242e-05,  5.59773914e-04,  9.11349466e-05,\n",
       "              7.72155502e-04,  3.66509375e-04, -9.73743706e-04,\n",
       "             -3.04188167e-03, -9.30539630e-06,  2.17176493e-04,\n",
       "              4.30035803e-05, -7.26622531e-04,  3.89851559e-05,\n",
       "              1.68393800e-04,  5.91710438e-04, -8.54413749e-04,\n",
       "             -4.72363171e-03,  1.55230045e-03,  2.32027377e-04,\n",
       "             -1.59909181e-05,  8.98731844e-05, -2.36960227e-04,\n",
       "             -1.91101256e-05,  7.24335599e-05,  4.04245926e-04,\n",
       "              2.53144794e-04,  1.01350731e-03,  2.07188134e-04,\n",
       "             -1.32186770e-04, -2.74579235e-03,  2.34191625e-05,\n",
       "             -1.34376807e-03], dtype=float64)"
      ]
     },
     "execution_count": 37,
     "metadata": {},
     "output_type": "execute_result"
    }
   ],
   "source": [
    "out = gamma_function(x0, g, gexp, data.weights[name_sys], alpha, True)\n",
    "out[1]"
   ]
  },
  {
   "cell_type": "code",
   "execution_count": 38,
   "metadata": {},
   "outputs": [
    {
     "data": {
      "text/plain": [
       "DeviceArray([[ 4.62169719e+00, -1.78213395e+00,  4.67444631e-02, ...,\n",
       "              -4.51959344e-03,  2.34767828e-05,  9.28064577e-04],\n",
       "             [-1.78213395e+00,  4.34589974e+00,  4.37708986e-01, ...,\n",
       "               2.98974509e-03, -2.13199694e-05, -9.60039719e-05],\n",
       "             [ 4.67444631e-02,  4.37708986e-01,  5.25387976e+00, ...,\n",
       "               2.50980197e-03, -1.02278363e-05,  7.72213773e-04],\n",
       "             ...,\n",
       "             [-4.51959344e-03,  2.98974509e-03,  2.50980197e-03, ...,\n",
       "               3.09269516e-05, -9.45224896e-08, -5.26861786e-06],\n",
       "             [ 2.34767828e-05, -2.13199694e-05, -1.02278363e-05, ...,\n",
       "              -9.45224896e-08,  8.44459883e-09,  1.34671737e-09],\n",
       "             [ 9.28064577e-04, -9.60039719e-05,  7.72213773e-04, ...,\n",
       "              -5.26861786e-06,  1.34671737e-09,  2.60419591e-06]],            dtype=float64)"
      ]
     },
     "execution_count": 38,
     "metadata": {},
     "output_type": "execute_result"
    }
   ],
   "source": [
    "hess1 = jax.jacfwd(jax.grad(gamma_function, argnums = 0), argnums = 0)\n",
    "hess1(x0, g, gexp, data.weights[name_sys], alpha)"
   ]
  },
  {
   "cell_type": "code",
   "execution_count": 39,
   "metadata": {},
   "outputs": [
    {
     "data": {
      "text/plain": [
       "DeviceArray([[ 4.62169719e+00, -1.78213395e+00,  4.67444631e-02, ...,\n",
       "              -4.51959344e-03,  2.34767828e-05,  9.28064577e-04],\n",
       "             [-1.78213395e+00,  4.34589974e+00,  4.37708986e-01, ...,\n",
       "               2.98974509e-03, -2.13199694e-05, -9.60039719e-05],\n",
       "             [ 4.67444631e-02,  4.37708986e-01,  5.25387976e+00, ...,\n",
       "               2.50980197e-03, -1.02278363e-05,  7.72213773e-04],\n",
       "             ...,\n",
       "             [-4.51959344e-03,  2.98974509e-03,  2.50980197e-03, ...,\n",
       "               3.09269516e-05, -9.45224896e-08, -5.26861786e-06],\n",
       "             [ 2.34767828e-05, -2.13199694e-05, -1.02278363e-05, ...,\n",
       "              -9.45224896e-08,  8.44459883e-09,  1.34671737e-09],\n",
       "             [ 9.28064577e-04, -9.60039719e-05,  7.72213773e-04, ...,\n",
       "              -5.26861786e-06,  1.34671737e-09,  2.60419591e-06]],            dtype=float64)"
      ]
     },
     "execution_count": 39,
     "metadata": {},
     "output_type": "execute_result"
    }
   ],
   "source": [
    "hess2 = jax.hessian(gamma_function, argnums = 0)\n",
    "\n",
    "hess2(x0, g, gexp, data.weights[name_sys], alpha)"
   ]
  },
  {
   "cell_type": "code",
   "execution_count": 38,
   "metadata": {},
   "outputs": [
    {
     "data": {
      "text/plain": [
       "DeviceArray([1.79395980e+00, 2.08194619e+00, 1.17906734e+00,\n",
       "             1.36519584e+00, 1.57233743e+00, 9.85162906e-01,\n",
       "             1.35080529e+00, 1.20990463e+00, 1.07525084e+00,\n",
       "             2.20307497e+00, 3.74778938e-02, 7.25456021e-01,\n",
       "             1.87003456e+00, 2.10582521e+00, 1.34848245e+00,\n",
       "             6.08667580e-01, 1.02029693e+00, 9.92873890e-01,\n",
       "             1.63330956e+00, 1.18743135e+00, 9.20573703e-01,\n",
       "             2.13404333e-01, 1.77018232e+00, 1.90060444e+00,\n",
       "             2.20948298e-01, 5.48656822e-01, 6.25798097e-01,\n",
       "             2.13425659e+00, 1.78976243e-07, 4.87541046e-10,\n",
       "             2.56425120e-08, 2.78043145e-10, 1.47031895e-09,\n",
       "             3.24659832e-09, 5.84692280e-08, 9.45937383e-09,\n",
       "             7.82332861e-07, 1.26245466e-07, 3.01742539e-07,\n",
       "             1.03453312e-07, 1.06671700e-09, 3.35734047e-08,\n",
       "             3.04103284e-09, 1.42777345e-08, 7.46504547e-10,\n",
       "             3.52622948e-09, 2.75105215e-07, 1.24181514e-06,\n",
       "             1.40547561e-07, 2.92011180e-07, 3.09282628e-08,\n",
       "             1.81114413e-09, 2.75225089e-09, 1.44241897e-08,\n",
       "             7.39239958e-10, 4.74799175e-09, 3.60813365e-07,\n",
       "             1.71030476e-07, 3.53152485e-07, 3.51603517e-10,\n",
       "             3.42914552e-09, 1.55754880e-07, 2.31665239e-09,\n",
       "             2.05122259e-08], dtype=float64)"
      ]
     },
     "execution_count": 38,
     "metadata": {},
     "output_type": "execute_result"
    }
   ],
   "source": [
    "d2Gamma_dalpha_dlambda = jax.jacfwd(gradient, argnums = 4)\n",
    "\n",
    "alpha = 1.0\n",
    "\n",
    "d2Gamma_dalpha_dlambda(x0, g, gexp, data.weights[name_sys], alpha)"
   ]
  },
  {
   "cell_type": "markdown",
   "metadata": {},
   "source": [
    "to be evaluated in the point of minimum of $\\Gamma(\\lambda, \\alpha)$"
   ]
  },
  {
   "cell_type": "code",
   "execution_count": 39,
   "metadata": {},
   "outputs": [
    {
     "ename": "NameError",
     "evalue": "name 'hess2' is not defined",
     "output_type": "error",
     "traceback": [
      "\u001b[0;31m---------------------------------------------------------------------------\u001b[0m",
      "\u001b[0;31mNameError\u001b[0m                                 Traceback (most recent call last)",
      "\u001b[0;32m<ipython-input-39-fd367403a0e6>\u001b[0m in \u001b[0;36m<module>\u001b[0;34m\u001b[0m\n\u001b[1;32m      1\u001b[0m \u001b[0mvec\u001b[0m \u001b[0;34m=\u001b[0m \u001b[0md2Gamma_dalpha_dlambda\u001b[0m\u001b[0;34m(\u001b[0m\u001b[0mx0\u001b[0m\u001b[0;34m,\u001b[0m \u001b[0mg\u001b[0m\u001b[0;34m,\u001b[0m \u001b[0mgexp\u001b[0m\u001b[0;34m,\u001b[0m \u001b[0mweights\u001b[0m\u001b[0;34m,\u001b[0m \u001b[0malpha\u001b[0m\u001b[0;34m)\u001b[0m\u001b[0;34m\u001b[0m\u001b[0;34m\u001b[0m\u001b[0m\n\u001b[0;32m----> 2\u001b[0;31m \u001b[0mHess\u001b[0m \u001b[0;34m=\u001b[0m \u001b[0mhess2\u001b[0m\u001b[0;34m(\u001b[0m\u001b[0mx0\u001b[0m\u001b[0;34m,\u001b[0m \u001b[0mg\u001b[0m\u001b[0;34m,\u001b[0m \u001b[0mgexp\u001b[0m\u001b[0;34m,\u001b[0m \u001b[0mweights\u001b[0m\u001b[0;34m,\u001b[0m \u001b[0malpha\u001b[0m\u001b[0;34m)\u001b[0m\u001b[0;34m\u001b[0m\u001b[0;34m\u001b[0m\u001b[0m\n\u001b[0m\u001b[1;32m      3\u001b[0m \u001b[0;34m\u001b[0m\u001b[0m\n\u001b[1;32m      4\u001b[0m \u001b[0mdlambda_dalpha\u001b[0m \u001b[0;34m=\u001b[0m \u001b[0;34m-\u001b[0m \u001b[0mnp\u001b[0m\u001b[0;34m.\u001b[0m\u001b[0mmatmul\u001b[0m\u001b[0;34m(\u001b[0m\u001b[0mnp\u001b[0m\u001b[0;34m.\u001b[0m\u001b[0mlinalg\u001b[0m\u001b[0;34m.\u001b[0m\u001b[0minv\u001b[0m\u001b[0;34m(\u001b[0m\u001b[0mHess\u001b[0m\u001b[0;34m)\u001b[0m\u001b[0;34m,\u001b[0m \u001b[0mvec\u001b[0m\u001b[0;34m)\u001b[0m\u001b[0;34m\u001b[0m\u001b[0;34m\u001b[0m\u001b[0m\n\u001b[1;32m      5\u001b[0m \u001b[0;34m\u001b[0m\u001b[0m\n",
      "\u001b[0;31mNameError\u001b[0m: name 'hess2' is not defined"
     ]
    }
   ],
   "source": [
    "vec = d2Gamma_dalpha_dlambda(x0, g, gexp, weights, alpha)\n",
    "Hess = hess2(x0, g, gexp, weights, alpha)\n",
    "\n",
    "dlambda_dalpha = - np.matmul(np.linalg.inv(Hess), vec)\n",
    "\n",
    "dlambda_dalpha"
   ]
  },
  {
   "cell_type": "markdown",
   "metadata": {},
   "source": [
    "1. define $\\lambda(\\alpha)$ through minimization of $\\Gamma$"
   ]
  },
  {
   "cell_type": "code",
   "execution_count": 12,
   "metadata": {},
   "outputs": [
    {
     "name": "stdout",
     "output_type": "stream",
     "text": [
      "gammaf:  Traced<ConcreteArray(-14.757738803259372)>with<JVPTrace(level=2/0)>\n",
      "  with primal = DeviceArray(-14.7577388, dtype=float64)\n",
      "       tangent = Traced<ShapedArray(float64[]):JaxprTrace(level=1/0)>\n",
      "gammaf:  Traced<ShapedArray(float64[])>with<JVPTrace(level=4/0)>\n",
      "  with primal = Traced<ShapedArray(float64[])>with<DynamicJaxprTrace(level=2/0)>\n",
      "       tangent = Traced<ShapedArray(float64[]):JaxprTrace(level=3/0)>\n",
      "gammaf:  Traced<ShapedArray(float64[])>with<JVPTrace(level=5/0)>\n",
      "  with primal = Traced<ShapedArray(float64[])>with<DynamicJaxprTrace(level=3/0)>\n",
      "       tangent = Traced<ShapedArray(float64[]):JaxprTrace(level=4/0)>\n",
      "gammaf:  Traced<ShapedArray(float64[])>with<JVPTrace(level=5/0)>\n",
      "  with primal = Traced<ShapedArray(float64[])>with<DynamicJaxprTrace(level=3/0)>\n",
      "       tangent = Traced<ShapedArray(float64[]):JaxprTrace(level=4/0)>\n"
     ]
    },
    {
     "data": {
      "text/plain": [
       "OptimizeResults(x=DeviceArray([ 1.71534275e-01,  4.73749224e-01,  7.54955349e-01,\n",
       "              1.13593296e+00,  3.79520089e-01,  7.44299545e-01,\n",
       "              8.52216241e-01,  5.46110182e-01,  1.15717134e+00,\n",
       "              2.16126466e+00,  2.60945386e+00,  1.09507927e+00,\n",
       "              2.64951193e+00,  2.61451981e+00,  9.96197183e-01,\n",
       "              2.46815419e+00,  3.08374318e+00, -9.90074717e-02,\n",
       "              1.79018479e+00, -1.24936394e-01,  7.63150832e-02,\n",
       "              1.58121369e+00, -6.45987528e-01, -2.77508999e-01,\n",
       "              1.26720453e+00, -6.55528869e-01, -5.62691452e-01,\n",
       "             -6.24407259e-01,  2.99998750e+03,  6.51868578e+03,\n",
       "             -2.22595916e+02,  2.21802260e+03, -1.13885562e+03,\n",
       "             -1.73606022e+03,  1.24573664e+02, -1.04118655e+03,\n",
       "              1.81179071e+02, -1.39376975e+02,  1.33787488e+03,\n",
       "              2.38252464e+03,  2.41573838e+04, -3.08849289e+02,\n",
       "             -3.68520178e+03,  4.66398129e+03, -2.12458833e+03,\n",
       "              6.14957641e+03, -5.21390574e+02,  5.46280593e+02,\n",
       "              1.80648878e+03,  2.71728833e+02, -3.12323261e+03,\n",
       "              1.62183726e+04,  5.20975110e+00,  1.20565660e+03,\n",
       "             -2.96346907e+03,  1.50245783e+03, -1.91793119e+02,\n",
       "             -4.69824071e+02, -1.37848573e+03, -2.34625942e+03,\n",
       "              9.92480262e+02,  4.95409105e+02,  4.11867271e+03,\n",
       "              2.68843357e+03], dtype=float64), success=DeviceArray(True, dtype=bool), status=DeviceArray(0, dtype=int64), fun=DeviceArray(-76.55144597, dtype=float64), jac=DeviceArray([-6.53310278e-07, -1.67858003e-06, -5.86916702e-08,\n",
       "             -5.02008795e-07, -3.22465921e-08,  5.65973179e-07,\n",
       "             -6.36563238e-08, -8.60065592e-08,  1.20938826e-06,\n",
       "              1.21743192e-07,  9.11273005e-07, -1.47637198e-06,\n",
       "             -7.51109924e-07, -7.97531625e-07,  4.84728584e-06,\n",
       "              4.34475813e-06, -1.43359598e-06,  3.01296522e-06,\n",
       "              1.14042723e-06, -1.35771899e-06,  6.62042674e-07,\n",
       "              1.50498229e-06, -1.08403477e-06,  1.62370945e-06,\n",
       "             -6.22436771e-07, -1.07665023e-06, -1.25949958e-06,\n",
       "              2.33941764e-08,  8.79756650e-08, -5.66973839e-07,\n",
       "             -1.22446543e-06,  1.26836257e-06,  3.14517524e-06,\n",
       "             -2.95685049e-06,  3.24763704e-07,  6.88870459e-06,\n",
       "             -1.11934833e-07, -4.81990423e-07, -1.31352230e-06,\n",
       "             -1.03988866e-06,  1.44637463e-06,  7.61116146e-07,\n",
       "              5.02542054e-06,  2.06739085e-07, -2.21601088e-06,\n",
       "              1.43647537e-06, -3.97382557e-07,  1.26454265e-06,\n",
       "              7.49612148e-07,  1.26580075e-06, -3.09054103e-06,\n",
       "             -1.64755242e-06,  3.59210789e-06, -2.72902191e-06,\n",
       "              4.93911262e-07,  4.36202689e-06,  6.68954512e-07,\n",
       "              5.82530688e-07, -2.58297514e-07, -2.82597237e-07,\n",
       "             -3.84508504e-06,  8.74597316e-07, -3.03227006e-07,\n",
       "             -1.45499234e-06], dtype=float64), hess_inv=DeviceArray([[ 3.12552990e-01,  7.59689285e-02, -5.79207736e-03, ...,\n",
       "               5.01280169e+00,  1.11176522e+02, -1.45318242e+01],\n",
       "             [ 7.59689285e-02,  3.22773643e-01,  4.38601538e-03, ...,\n",
       "              -7.85019516e+00, -1.53587360e+02, -9.07828283e+01],\n",
       "             [-5.79207736e-03,  4.38601538e-03,  3.21135104e-01, ...,\n",
       "              -8.13948774e+01, -7.21908123e+01, -6.45929865e+01],\n",
       "             ...,\n",
       "             [ 5.01280169e+00, -7.85019516e+00, -8.13948774e+01, ...,\n",
       "               5.57598226e+05,  3.74168927e+05,  1.40507185e+05],\n",
       "             [ 1.11176522e+02, -1.53587360e+02, -7.21908123e+01, ...,\n",
       "               3.74168927e+05,  6.18540832e+06,  5.56098054e+04],\n",
       "             [-1.45318242e+01, -9.07828283e+01, -6.45929865e+01, ...,\n",
       "               1.40507185e+05,  5.56098054e+04,  7.17952629e+06]],            dtype=float64), nfev=DeviceArray(973, dtype=int64), njev=DeviceArray(973, dtype=int64), nit=DeviceArray(958, dtype=int64))"
      ]
     },
     "execution_count": 12,
     "metadata": {},
     "output_type": "execute_result"
    }
   ],
   "source": [
    "jax_minimize(gamma_function, x0, args = (g, gexp, weights, alpha), method = 'BFGS')"
   ]
  },
  {
   "cell_type": "code",
   "execution_count": 53,
   "metadata": {},
   "outputs": [],
   "source": [
    "def minimize_Gamma(alpha, x0, g, gexp, weights):\n",
    "    mini_x = jax_minimize(gamma_function, x0, args = (g, gexp, weights, alpha), method = 'BFGS').x\n",
    "    \n",
    "    print(mini_x)\n",
    "    return mini_x"
   ]
  },
  {
   "cell_type": "markdown",
   "metadata": {},
   "source": [
    "2. define $\\frac{d\\lambda}{d\\alpha}$"
   ]
  },
  {
   "cell_type": "code",
   "execution_count": 36,
   "metadata": {},
   "outputs": [],
   "source": [
    "gradient = jax.jacfwd(minimize_Gamma, argnums = 0)"
   ]
  },
  {
   "cell_type": "markdown",
   "metadata": {},
   "source": [
    "in this way gradient gives 0..."
   ]
  },
  {
   "cell_type": "code",
   "execution_count": 19,
   "metadata": {},
   "outputs": [
    {
     "name": "stdout",
     "output_type": "stream",
     "text": [
      "[ 1.71534275e-01  4.73749224e-01  7.54955349e-01  1.13593296e+00\n",
      "  3.79520089e-01  7.44299545e-01  8.52216241e-01  5.46110182e-01\n",
      "  1.15717134e+00  2.16126466e+00  2.60945386e+00  1.09507927e+00\n",
      "  2.64951193e+00  2.61451981e+00  9.96197183e-01  2.46815419e+00\n",
      "  3.08374318e+00 -9.90074717e-02  1.79018479e+00 -1.24936394e-01\n",
      "  7.63150832e-02  1.58121369e+00 -6.45987528e-01 -2.77508999e-01\n",
      "  1.26720453e+00 -6.55528869e-01 -5.62691452e-01 -6.24407259e-01\n",
      "  2.99998750e+03  6.51868578e+03 -2.22595916e+02  2.21802260e+03\n",
      " -1.13885562e+03 -1.73606022e+03  1.24573664e+02 -1.04118655e+03\n",
      "  1.81179071e+02 -1.39376975e+02  1.33787488e+03  2.38252464e+03\n",
      "  2.41573838e+04 -3.08849289e+02 -3.68520178e+03  4.66398129e+03\n",
      " -2.12458833e+03  6.14957641e+03 -5.21390574e+02  5.46280593e+02\n",
      "  1.80648878e+03  2.71728833e+02 -3.12323261e+03  1.62183726e+04\n",
      "  5.20975110e+00  1.20565660e+03 -2.96346907e+03  1.50245783e+03\n",
      " -1.91793119e+02 -4.69824071e+02 -1.37848573e+03 -2.34625942e+03\n",
      "  9.92480262e+02  4.95409105e+02  4.11867271e+03  2.68843357e+03]\n"
     ]
    }
   ],
   "source": [
    "x = minimize_Gamma(alpha, x0, g, gexp, weights)\n",
    "\n",
    "gradient(alpha, x, g, gexp, weights)"
   ]
  },
  {
   "cell_type": "markdown",
   "metadata": {},
   "source": [
    "3. put together"
   ]
  },
  {
   "cell_type": "code",
   "execution_count": 37,
   "metadata": {},
   "outputs": [],
   "source": [
    "def minimize_Gamma_with_grad(alpha0, x0, g, gexp, weights):\n",
    "    x = minimize_Gamma(alpha0, x0, g, gexp, weights)\n",
    "    g = gradient(alpha0, x0, g, gexp, weights)\n",
    "    print(x,g)\n",
    "    return x,g"
   ]
  },
  {
   "cell_type": "code",
   "execution_count": 38,
   "metadata": {},
   "outputs": [
    {
     "name": "stdout",
     "output_type": "stream",
     "text": [
      "[ 1.71534275e-01  4.73749224e-01  7.54955349e-01  1.13593296e+00\n",
      "  3.79520089e-01  7.44299545e-01  8.52216241e-01  5.46110182e-01\n",
      "  1.15717134e+00  2.16126466e+00  2.60945386e+00  1.09507927e+00\n",
      "  2.64951193e+00  2.61451981e+00  9.96197183e-01  2.46815419e+00\n",
      "  3.08374318e+00 -9.90074717e-02  1.79018479e+00 -1.24936394e-01\n",
      "  7.63150832e-02  1.58121369e+00 -6.45987528e-01 -2.77508999e-01\n",
      "  1.26720453e+00 -6.55528869e-01 -5.62691452e-01 -6.24407259e-01\n",
      "  2.99998750e+03  6.51868578e+03 -2.22595916e+02  2.21802260e+03\n",
      " -1.13885562e+03 -1.73606022e+03  1.24573664e+02 -1.04118655e+03\n",
      "  1.81179071e+02 -1.39376975e+02  1.33787488e+03  2.38252464e+03\n",
      "  2.41573838e+04 -3.08849289e+02 -3.68520178e+03  4.66398129e+03\n",
      " -2.12458833e+03  6.14957641e+03 -5.21390574e+02  5.46280593e+02\n",
      "  1.80648878e+03  2.71728833e+02 -3.12323261e+03  1.62183726e+04\n",
      "  5.20975110e+00  1.20565660e+03 -2.96346907e+03  1.50245783e+03\n",
      " -1.91793119e+02 -4.69824071e+02 -1.37848573e+03 -2.34625942e+03\n",
      "  9.92480262e+02  4.95409105e+02  4.11867271e+03  2.68843357e+03]\n",
      "Traced<ConcreteArray([ 1.71534275e-01  4.73749224e-01  7.54955349e-01  1.13593296e+00\n",
      "  3.79520089e-01  7.44299545e-01  8.52216241e-01  5.46110182e-01\n",
      "  1.15717134e+00  2.16126466e+00  2.60945386e+00  1.09507927e+00\n",
      "  2.64951193e+00  2.61451981e+00  9.96197183e-01  2.46815419e+00\n",
      "  3.08374318e+00 -9.90074717e-02  1.79018479e+00 -1.24936394e-01\n",
      "  7.63150832e-02  1.58121369e+00 -6.45987528e-01 -2.77508999e-01\n",
      "  1.26720453e+00 -6.55528869e-01 -5.62691452e-01 -6.24407259e-01\n",
      "  2.99998750e+03  6.51868578e+03 -2.22595916e+02  2.21802260e+03\n",
      " -1.13885562e+03 -1.73606022e+03  1.24573664e+02 -1.04118655e+03\n",
      "  1.81179071e+02 -1.39376975e+02  1.33787488e+03  2.38252464e+03\n",
      "  2.41573838e+04 -3.08849289e+02 -3.68520178e+03  4.66398129e+03\n",
      " -2.12458833e+03  6.14957641e+03 -5.21390574e+02  5.46280593e+02\n",
      "  1.80648878e+03  2.71728833e+02 -3.12323261e+03  1.62183726e+04\n",
      "  5.20975110e+00  1.20565660e+03 -2.96346907e+03  1.50245783e+03\n",
      " -1.91793119e+02 -4.69824071e+02 -1.37848573e+03 -2.34625942e+03\n",
      "  9.92480262e+02  4.95409105e+02  4.11867271e+03  2.68843357e+03])>with<JVPTrace(level=2/0)>\n",
      "  with primal = DeviceArray([ 1.71534275e-01,  4.73749224e-01,  7.54955349e-01,\n",
      "                              1.13593296e+00,  3.79520089e-01,  7.44299545e-01,\n",
      "                              8.52216241e-01,  5.46110182e-01,  1.15717134e+00,\n",
      "                              2.16126466e+00,  2.60945386e+00,  1.09507927e+00,\n",
      "                              2.64951193e+00,  2.61451981e+00,  9.96197183e-01,\n",
      "                              2.46815419e+00,  3.08374318e+00, -9.90074717e-02,\n",
      "                              1.79018479e+00, -1.24936394e-01,  7.63150832e-02,\n",
      "                              1.58121369e+00, -6.45987528e-01, -2.77508999e-01,\n",
      "                              1.26720453e+00, -6.55528869e-01, -5.62691452e-01,\n",
      "                             -6.24407259e-01,  2.99998750e+03,  6.51868578e+03,\n",
      "                             -2.22595916e+02,  2.21802260e+03, -1.13885562e+03,\n",
      "                             -1.73606022e+03,  1.24573664e+02, -1.04118655e+03,\n",
      "                              1.81179071e+02, -1.39376975e+02,  1.33787488e+03,\n",
      "                              2.38252464e+03,  2.41573838e+04, -3.08849289e+02,\n",
      "                             -3.68520178e+03,  4.66398129e+03, -2.12458833e+03,\n",
      "                              6.14957641e+03, -5.21390574e+02,  5.46280593e+02,\n",
      "                              1.80648878e+03,  2.71728833e+02, -3.12323261e+03,\n",
      "                              1.62183726e+04,  5.20975110e+00,  1.20565660e+03,\n",
      "                             -2.96346907e+03,  1.50245783e+03, -1.91793119e+02,\n",
      "                             -4.69824071e+02, -1.37848573e+03, -2.34625942e+03,\n",
      "                              9.92480262e+02,  4.95409105e+02,  4.11867271e+03,\n",
      "                              2.68843357e+03], dtype=float64)\n",
      "       tangent = Traced<ShapedArray(float64[64])>with<BatchTrace(level=1/0)>\n",
      "                   with val = DeviceArray([[ 7.48478584e+19,  4.22727300e+19,  3.59250290e+18,\n",
      "                                             8.57491695e+19,  3.84500250e+19, -9.03300236e+19,\n",
      "                                             1.75825332e+20, -1.51720644e+20,  3.37445016e+19,\n",
      "                                            -1.36557691e+18, -1.80910547e+19, -6.36163570e+18,\n",
      "                                             3.02308389e+19, -2.05691495e+19, -1.39009937e+20,\n",
      "                                            -6.16753709e+19, -7.18215640e+19, -8.19499393e+19,\n",
      "                                             2.60394949e+19,  7.10063282e+19,  6.48837172e+18,\n",
      "                                             4.25038746e+19,  7.66380587e+19,  6.92661493e+19,\n",
      "                                            -6.14741854e+19, -6.37110015e+19, -3.40912976e+19,\n",
      "                                             7.95157301e+19, -3.25105446e+23, -1.13390206e+24,\n",
      "                                            -6.51779882e+22,  9.92347176e+23,  1.11860570e+25,\n",
      "                                            -7.36323123e+24, -3.74432233e+22, -7.13830079e+24,\n",
      "                                             2.23037628e+23, -2.94132559e+23,  4.39641291e+23,\n",
      "                                             6.21557837e+21, -2.75739146e+24, -4.50739256e+23,\n",
      "                                             2.75259091e+24, -8.63049115e+23, -8.10297239e+23,\n",
      "                                            -1.01317243e+24,  1.22454499e+23,  2.48608982e+23,\n",
      "                                             7.05477173e+22,  3.14000034e+23, -9.28739779e+23,\n",
      "                                             4.02503463e+24, -1.93613216e+24, -5.45561163e+23,\n",
      "                                            -9.77281039e+23,  9.14102130e+23, -7.37907557e+22,\n",
      "                                            -3.88114675e+23, -2.57244797e+23,  5.28418391e+23,\n",
      "                                             4.60241031e+24,  7.62334765e+21, -6.95178293e+23,\n",
      "                                            -2.70755394e+24]], dtype=float64)\n",
      "                        batch_dim = 0\n",
      "[ 1.71534275e-01  4.73749224e-01  7.54955349e-01  1.13593296e+00\n",
      "  3.79520089e-01  7.44299545e-01  8.52216241e-01  5.46110182e-01\n",
      "  1.15717134e+00  2.16126466e+00  2.60945386e+00  1.09507927e+00\n",
      "  2.64951193e+00  2.61451981e+00  9.96197183e-01  2.46815419e+00\n",
      "  3.08374318e+00 -9.90074717e-02  1.79018479e+00 -1.24936394e-01\n",
      "  7.63150832e-02  1.58121369e+00 -6.45987528e-01 -2.77508999e-01\n",
      "  1.26720453e+00 -6.55528869e-01 -5.62691452e-01 -6.24407259e-01\n",
      "  2.99998750e+03  6.51868578e+03 -2.22595916e+02  2.21802260e+03\n",
      " -1.13885562e+03 -1.73606022e+03  1.24573664e+02 -1.04118655e+03\n",
      "  1.81179071e+02 -1.39376975e+02  1.33787488e+03  2.38252464e+03\n",
      "  2.41573838e+04 -3.08849289e+02 -3.68520178e+03  4.66398129e+03\n",
      " -2.12458833e+03  6.14957641e+03 -5.21390574e+02  5.46280593e+02\n",
      "  1.80648878e+03  2.71728833e+02 -3.12323261e+03  1.62183726e+04\n",
      "  5.20975110e+00  1.20565660e+03 -2.96346907e+03  1.50245783e+03\n",
      " -1.91793119e+02 -4.69824071e+02 -1.37848573e+03 -2.34625942e+03\n",
      "  9.92480262e+02  4.95409105e+02  4.11867271e+03  2.68843357e+03] [ 7.48478584e+19  4.22727300e+19  3.59250290e+18  8.57491695e+19\n",
      "  3.84500250e+19 -9.03300236e+19  1.75825332e+20 -1.51720644e+20\n",
      "  3.37445016e+19 -1.36557691e+18 -1.80910547e+19 -6.36163570e+18\n",
      "  3.02308389e+19 -2.05691495e+19 -1.39009937e+20 -6.16753709e+19\n",
      " -7.18215640e+19 -8.19499393e+19  2.60394949e+19  7.10063282e+19\n",
      "  6.48837172e+18  4.25038746e+19  7.66380587e+19  6.92661493e+19\n",
      " -6.14741854e+19 -6.37110015e+19 -3.40912976e+19  7.95157301e+19\n",
      " -3.25105446e+23 -1.13390206e+24 -6.51779882e+22  9.92347176e+23\n",
      "  1.11860570e+25 -7.36323123e+24 -3.74432233e+22 -7.13830079e+24\n",
      "  2.23037628e+23 -2.94132559e+23  4.39641291e+23  6.21557837e+21\n",
      " -2.75739146e+24 -4.50739256e+23  2.75259091e+24 -8.63049115e+23\n",
      " -8.10297239e+23 -1.01317243e+24  1.22454499e+23  2.48608982e+23\n",
      "  7.05477173e+22  3.14000034e+23 -9.28739779e+23  4.02503463e+24\n",
      " -1.93613216e+24 -5.45561163e+23 -9.77281039e+23  9.14102130e+23\n",
      " -7.37907557e+22 -3.88114675e+23 -2.57244797e+23  5.28418391e+23\n",
      "  4.60241031e+24  7.62334765e+21 -6.95178293e+23 -2.70755394e+24]\n"
     ]
    },
    {
     "data": {
      "text/plain": [
       "(DeviceArray([ 1.71534275e-01,  4.73749224e-01,  7.54955349e-01,\n",
       "               1.13593296e+00,  3.79520089e-01,  7.44299545e-01,\n",
       "               8.52216241e-01,  5.46110182e-01,  1.15717134e+00,\n",
       "               2.16126466e+00,  2.60945386e+00,  1.09507927e+00,\n",
       "               2.64951193e+00,  2.61451981e+00,  9.96197183e-01,\n",
       "               2.46815419e+00,  3.08374318e+00, -9.90074717e-02,\n",
       "               1.79018479e+00, -1.24936394e-01,  7.63150832e-02,\n",
       "               1.58121369e+00, -6.45987528e-01, -2.77508999e-01,\n",
       "               1.26720453e+00, -6.55528869e-01, -5.62691452e-01,\n",
       "              -6.24407259e-01,  2.99998750e+03,  6.51868578e+03,\n",
       "              -2.22595916e+02,  2.21802260e+03, -1.13885562e+03,\n",
       "              -1.73606022e+03,  1.24573664e+02, -1.04118655e+03,\n",
       "               1.81179071e+02, -1.39376975e+02,  1.33787488e+03,\n",
       "               2.38252464e+03,  2.41573838e+04, -3.08849289e+02,\n",
       "              -3.68520178e+03,  4.66398129e+03, -2.12458833e+03,\n",
       "               6.14957641e+03, -5.21390574e+02,  5.46280593e+02,\n",
       "               1.80648878e+03,  2.71728833e+02, -3.12323261e+03,\n",
       "               1.62183726e+04,  5.20975110e+00,  1.20565660e+03,\n",
       "              -2.96346907e+03,  1.50245783e+03, -1.91793119e+02,\n",
       "              -4.69824071e+02, -1.37848573e+03, -2.34625942e+03,\n",
       "               9.92480262e+02,  4.95409105e+02,  4.11867271e+03,\n",
       "               2.68843357e+03], dtype=float64),\n",
       " DeviceArray([ 7.48478584e+19,  4.22727300e+19,  3.59250290e+18,\n",
       "               8.57491695e+19,  3.84500250e+19, -9.03300236e+19,\n",
       "               1.75825332e+20, -1.51720644e+20,  3.37445016e+19,\n",
       "              -1.36557691e+18, -1.80910547e+19, -6.36163570e+18,\n",
       "               3.02308389e+19, -2.05691495e+19, -1.39009937e+20,\n",
       "              -6.16753709e+19, -7.18215640e+19, -8.19499393e+19,\n",
       "               2.60394949e+19,  7.10063282e+19,  6.48837172e+18,\n",
       "               4.25038746e+19,  7.66380587e+19,  6.92661493e+19,\n",
       "              -6.14741854e+19, -6.37110015e+19, -3.40912976e+19,\n",
       "               7.95157301e+19, -3.25105446e+23, -1.13390206e+24,\n",
       "              -6.51779882e+22,  9.92347176e+23,  1.11860570e+25,\n",
       "              -7.36323123e+24, -3.74432233e+22, -7.13830079e+24,\n",
       "               2.23037628e+23, -2.94132559e+23,  4.39641291e+23,\n",
       "               6.21557837e+21, -2.75739146e+24, -4.50739256e+23,\n",
       "               2.75259091e+24, -8.63049115e+23, -8.10297239e+23,\n",
       "              -1.01317243e+24,  1.22454499e+23,  2.48608982e+23,\n",
       "               7.05477173e+22,  3.14000034e+23, -9.28739779e+23,\n",
       "               4.02503463e+24, -1.93613216e+24, -5.45561163e+23,\n",
       "              -9.77281039e+23,  9.14102130e+23, -7.37907557e+22,\n",
       "              -3.88114675e+23, -2.57244797e+23,  5.28418391e+23,\n",
       "               4.60241031e+24,  7.62334765e+21, -6.95178293e+23,\n",
       "              -2.70755394e+24], dtype=float64))"
      ]
     },
     "execution_count": 38,
     "metadata": {},
     "output_type": "execute_result"
    }
   ],
   "source": [
    "minimize_Gamma_with_grad(alpha, x0, g, gexp, weights)"
   ]
  },
  {
   "cell_type": "code",
   "execution_count": 16,
   "metadata": {},
   "outputs": [
    {
     "name": "stdout",
     "output_type": "stream",
     "text": [
      "[ 1.71534275e-01  4.73749224e-01  7.54955349e-01  1.13593296e+00\n",
      "  3.79520089e-01  7.44299545e-01  8.52216241e-01  5.46110182e-01\n",
      "  1.15717134e+00  2.16126466e+00  2.60945386e+00  1.09507927e+00\n",
      "  2.64951193e+00  2.61451981e+00  9.96197183e-01  2.46815419e+00\n",
      "  3.08374318e+00 -9.90074717e-02  1.79018479e+00 -1.24936394e-01\n",
      "  7.63150832e-02  1.58121369e+00 -6.45987528e-01 -2.77508999e-01\n",
      "  1.26720453e+00 -6.55528869e-01 -5.62691452e-01 -6.24407259e-01\n",
      "  2.99998750e+03  6.51868578e+03 -2.22595916e+02  2.21802260e+03\n",
      " -1.13885562e+03 -1.73606022e+03  1.24573664e+02 -1.04118655e+03\n",
      "  1.81179071e+02 -1.39376975e+02  1.33787488e+03  2.38252464e+03\n",
      "  2.41573838e+04 -3.08849289e+02 -3.68520178e+03  4.66398129e+03\n",
      " -2.12458833e+03  6.14957641e+03 -5.21390574e+02  5.46280593e+02\n",
      "  1.80648878e+03  2.71728833e+02 -3.12323261e+03  1.62183726e+04\n",
      "  5.20975110e+00  1.20565660e+03 -2.96346907e+03  1.50245783e+03\n",
      " -1.91793119e+02 -4.69824071e+02 -1.37848573e+03 -2.34625942e+03\n",
      "  9.92480262e+02  4.95409105e+02  4.11867271e+03  2.68843357e+03]\n"
     ]
    }
   ],
   "source": [
    "mini_x = minimize_Gamma(alpha, x0, g, gexp, weights)"
   ]
  },
  {
   "cell_type": "code",
   "execution_count": 20,
   "metadata": {},
   "outputs": [
    {
     "data": {
      "text/plain": [
       "<matplotlib.legend.Legend at 0x7f30807d04a8>"
      ]
     },
     "execution_count": 20,
     "metadata": {},
     "output_type": "execute_result"
    },
    {
     "data": {
      "image/png": "[encoded data removed]",
      "text/plain": [
       "<Figure size 432x288 with 1 Axes>"
      ]
     },
     "metadata": {
      "needs_background": "light"
     },
     "output_type": "display_data"
    }
   ],
   "source": [
    "plt.plot(x0, label = 'x0')\n",
    "plt.plot(mini_x, label = 'mini x')\n",
    "plt.legend()"
   ]
  },
  {
   "cell_type": "code",
   "execution_count": 17,
   "metadata": {},
   "outputs": [
    {
     "name": "stdout",
     "output_type": "stream",
     "text": [
      "1.0 [ 1.71534275e-01  4.73749224e-01  7.54955349e-01  1.13593296e+00\n",
      "  3.79520089e-01  7.44299545e-01  8.52216241e-01  5.46110182e-01\n",
      "  1.15717134e+00  2.16126466e+00  2.60945386e+00  1.09507927e+00\n",
      "  2.64951193e+00  2.61451981e+00  9.96197183e-01  2.46815419e+00\n",
      "  3.08374318e+00 -9.90074717e-02  1.79018479e+00 -1.24936394e-01\n",
      "  7.63150832e-02  1.58121369e+00 -6.45987528e-01 -2.77508999e-01\n",
      "  1.26720453e+00 -6.55528869e-01 -5.62691452e-01 -6.24407259e-01\n",
      "  2.99998750e+03  6.51868578e+03 -2.22595916e+02  2.21802260e+03\n",
      " -1.13885562e+03 -1.73606022e+03  1.24573664e+02 -1.04118655e+03\n",
      "  1.81179071e+02 -1.39376975e+02  1.33787488e+03  2.38252464e+03\n",
      "  2.41573838e+04 -3.08849289e+02 -3.68520178e+03  4.66398129e+03\n",
      " -2.12458833e+03  6.14957641e+03 -5.21390574e+02  5.46280593e+02\n",
      "  1.80648878e+03  2.71728833e+02 -3.12323261e+03  1.62183726e+04\n",
      "  5.20975110e+00  1.20565660e+03 -2.96346907e+03  1.50245783e+03\n",
      " -1.91793119e+02 -4.69824071e+02 -1.37848573e+03 -2.34625942e+03\n",
      "  9.92480262e+02  4.95409105e+02  4.11867271e+03  2.68843357e+03]\n",
      "Traced<ConcreteArray([ 1.71534275e-01  4.73749224e-01  7.54955349e-01  1.13593296e+00\n",
      "  3.79520089e-01  7.44299545e-01  8.52216241e-01  5.46110182e-01\n",
      "  1.15717134e+00  2.16126466e+00  2.60945386e+00  1.09507927e+00\n",
      "  2.64951193e+00  2.61451981e+00  9.96197183e-01  2.46815419e+00\n",
      "  3.08374318e+00 -9.90074717e-02  1.79018479e+00 -1.24936394e-01\n",
      "  7.63150832e-02  1.58121369e+00 -6.45987528e-01 -2.77508999e-01\n",
      "  1.26720453e+00 -6.55528869e-01 -5.62691452e-01 -6.24407259e-01\n",
      "  2.99998750e+03  6.51868578e+03 -2.22595916e+02  2.21802260e+03\n",
      " -1.13885562e+03 -1.73606022e+03  1.24573664e+02 -1.04118655e+03\n",
      "  1.81179071e+02 -1.39376975e+02  1.33787488e+03  2.38252464e+03\n",
      "  2.41573838e+04 -3.08849289e+02 -3.68520178e+03  4.66398129e+03\n",
      " -2.12458833e+03  6.14957641e+03 -5.21390574e+02  5.46280593e+02\n",
      "  1.80648878e+03  2.71728833e+02 -3.12323261e+03  1.62183726e+04\n",
      "  5.20975110e+00  1.20565660e+03 -2.96346907e+03  1.50245783e+03\n",
      " -1.91793119e+02 -4.69824071e+02 -1.37848573e+03 -2.34625942e+03\n",
      "  9.92480262e+02  4.95409105e+02  4.11867271e+03  2.68843357e+03])>with<JVPTrace(level=2/0)>\n",
      "  with primal = DeviceArray([ 1.71534275e-01,  4.73749224e-01,  7.54955349e-01,\n",
      "                              1.13593296e+00,  3.79520089e-01,  7.44299545e-01,\n",
      "                              8.52216241e-01,  5.46110182e-01,  1.15717134e+00,\n",
      "                              2.16126466e+00,  2.60945386e+00,  1.09507927e+00,\n",
      "                              2.64951193e+00,  2.61451981e+00,  9.96197183e-01,\n",
      "                              2.46815419e+00,  3.08374318e+00, -9.90074717e-02,\n",
      "                              1.79018479e+00, -1.24936394e-01,  7.63150832e-02,\n",
      "                              1.58121369e+00, -6.45987528e-01, -2.77508999e-01,\n",
      "                              1.26720453e+00, -6.55528869e-01, -5.62691452e-01,\n",
      "                             -6.24407259e-01,  2.99998750e+03,  6.51868578e+03,\n",
      "                             -2.22595916e+02,  2.21802260e+03, -1.13885562e+03,\n",
      "                             -1.73606022e+03,  1.24573664e+02, -1.04118655e+03,\n",
      "                              1.81179071e+02, -1.39376975e+02,  1.33787488e+03,\n",
      "                              2.38252464e+03,  2.41573838e+04, -3.08849289e+02,\n",
      "                             -3.68520178e+03,  4.66398129e+03, -2.12458833e+03,\n",
      "                              6.14957641e+03, -5.21390574e+02,  5.46280593e+02,\n",
      "                              1.80648878e+03,  2.71728833e+02, -3.12323261e+03,\n",
      "                              1.62183726e+04,  5.20975110e+00,  1.20565660e+03,\n",
      "                             -2.96346907e+03,  1.50245783e+03, -1.91793119e+02,\n",
      "                             -4.69824071e+02, -1.37848573e+03, -2.34625942e+03,\n",
      "                              9.92480262e+02,  4.95409105e+02,  4.11867271e+03,\n",
      "                              2.68843357e+03], dtype=float64)\n",
      "       tangent = Traced<ShapedArray(float64[64])>with<BatchTrace(level=1/0)>\n",
      "                   with val = DeviceArray([[0., 0., 0., 0., 0., 0., 0., 0., 0., 0., 0., 0., 0., 0., 0.,\n",
      "                                            0., 0., 0., 0., 0., 0., 0., 0., 0., 0., 0., 0., 0., 0., 0.,\n",
      "                                            0., 0., 0., 0., 0., 0., 0., 0., 0., 0., 0., 0., 0., 0., 0.,\n",
      "                                            0., 0., 0., 0., 0., 0., 0., 0., 0., 0., 0., 0., 0., 0., 0.,\n",
      "                                            0., 0., 0., 0.]], dtype=float64)\n",
      "                        batch_dim = 0\n"
     ]
    },
    {
     "data": {
      "text/plain": [
       "DeviceArray([0., 0., 0., 0., 0., 0., 0., 0., 0., 0., 0., 0., 0., 0., 0.,\n",
       "             0., 0., 0., 0., 0., 0., 0., 0., 0., 0., 0., 0., 0., 0., 0.,\n",
       "             0., 0., 0., 0., 0., 0., 0., 0., 0., 0., 0., 0., 0., 0., 0.,\n",
       "             0., 0., 0., 0., 0., 0., 0., 0., 0., 0., 0., 0., 0., 0., 0.,\n",
       "             0., 0., 0., 0.], dtype=float64)"
      ]
     },
     "execution_count": 17,
     "metadata": {},
     "output_type": "execute_result"
    }
   ],
   "source": [
    "print(alpha, mini_x)\n",
    "\n",
    "gradient(alpha, mini_x, g, gexp, weights)"
   ]
  },
  {
   "cell_type": "code",
   "execution_count": 18,
   "metadata": {},
   "outputs": [
    {
     "name": "stdout",
     "output_type": "stream",
     "text": [
      "[ 1.71534275e-01  4.73749224e-01  7.54955349e-01  1.13593296e+00\n",
      "  3.79520089e-01  7.44299545e-01  8.52216241e-01  5.46110182e-01\n",
      "  1.15717134e+00  2.16126466e+00  2.60945386e+00  1.09507927e+00\n",
      "  2.64951193e+00  2.61451981e+00  9.96197183e-01  2.46815419e+00\n",
      "  3.08374318e+00 -9.90074717e-02  1.79018479e+00 -1.24936394e-01\n",
      "  7.63150832e-02  1.58121369e+00 -6.45987528e-01 -2.77508999e-01\n",
      "  1.26720453e+00 -6.55528869e-01 -5.62691452e-01 -6.24407259e-01\n",
      "  2.99998750e+03  6.51868578e+03 -2.22595916e+02  2.21802260e+03\n",
      " -1.13885562e+03 -1.73606022e+03  1.24573664e+02 -1.04118655e+03\n",
      "  1.81179071e+02 -1.39376975e+02  1.33787488e+03  2.38252464e+03\n",
      "  2.41573838e+04 -3.08849289e+02 -3.68520178e+03  4.66398129e+03\n",
      " -2.12458833e+03  6.14957641e+03 -5.21390574e+02  5.46280593e+02\n",
      "  1.80648878e+03  2.71728833e+02 -3.12323261e+03  1.62183726e+04\n",
      "  5.20975110e+00  1.20565660e+03 -2.96346907e+03  1.50245783e+03\n",
      " -1.91793119e+02 -4.69824071e+02 -1.37848573e+03 -2.34625942e+03\n",
      "  9.92480262e+02  4.95409105e+02  4.11867271e+03  2.68843357e+03]\n",
      "Traced<ConcreteArray([ 1.71534275e-01  4.73749224e-01  7.54955349e-01  1.13593296e+00\n",
      "  3.79520089e-01  7.44299545e-01  8.52216241e-01  5.46110182e-01\n",
      "  1.15717134e+00  2.16126466e+00  2.60945386e+00  1.09507927e+00\n",
      "  2.64951193e+00  2.61451981e+00  9.96197183e-01  2.46815419e+00\n",
      "  3.08374318e+00 -9.90074717e-02  1.79018479e+00 -1.24936394e-01\n",
      "  7.63150832e-02  1.58121369e+00 -6.45987528e-01 -2.77508999e-01\n",
      "  1.26720453e+00 -6.55528869e-01 -5.62691452e-01 -6.24407259e-01\n",
      "  2.99998750e+03  6.51868578e+03 -2.22595916e+02  2.21802260e+03\n",
      " -1.13885562e+03 -1.73606022e+03  1.24573664e+02 -1.04118655e+03\n",
      "  1.81179071e+02 -1.39376975e+02  1.33787488e+03  2.38252464e+03\n",
      "  2.41573838e+04 -3.08849289e+02 -3.68520178e+03  4.66398129e+03\n",
      " -2.12458833e+03  6.14957641e+03 -5.21390574e+02  5.46280593e+02\n",
      "  1.80648878e+03  2.71728833e+02 -3.12323261e+03  1.62183726e+04\n",
      "  5.20975110e+00  1.20565660e+03 -2.96346907e+03  1.50245783e+03\n",
      " -1.91793119e+02 -4.69824071e+02 -1.37848573e+03 -2.34625942e+03\n",
      "  9.92480262e+02  4.95409105e+02  4.11867271e+03  2.68843357e+03])>with<JVPTrace(level=2/0)>\n",
      "  with primal = DeviceArray([ 1.71534275e-01,  4.73749224e-01,  7.54955349e-01,\n",
      "                              1.13593296e+00,  3.79520089e-01,  7.44299545e-01,\n",
      "                              8.52216241e-01,  5.46110182e-01,  1.15717134e+00,\n",
      "                              2.16126466e+00,  2.60945386e+00,  1.09507927e+00,\n",
      "                              2.64951193e+00,  2.61451981e+00,  9.96197183e-01,\n",
      "                              2.46815419e+00,  3.08374318e+00, -9.90074717e-02,\n",
      "                              1.79018479e+00, -1.24936394e-01,  7.63150832e-02,\n",
      "                              1.58121369e+00, -6.45987528e-01, -2.77508999e-01,\n",
      "                              1.26720453e+00, -6.55528869e-01, -5.62691452e-01,\n",
      "                             -6.24407259e-01,  2.99998750e+03,  6.51868578e+03,\n",
      "                             -2.22595916e+02,  2.21802260e+03, -1.13885562e+03,\n",
      "                             -1.73606022e+03,  1.24573664e+02, -1.04118655e+03,\n",
      "                              1.81179071e+02, -1.39376975e+02,  1.33787488e+03,\n",
      "                              2.38252464e+03,  2.41573838e+04, -3.08849289e+02,\n",
      "                             -3.68520178e+03,  4.66398129e+03, -2.12458833e+03,\n",
      "                              6.14957641e+03, -5.21390574e+02,  5.46280593e+02,\n",
      "                              1.80648878e+03,  2.71728833e+02, -3.12323261e+03,\n",
      "                              1.62183726e+04,  5.20975110e+00,  1.20565660e+03,\n",
      "                             -2.96346907e+03,  1.50245783e+03, -1.91793119e+02,\n",
      "                             -4.69824071e+02, -1.37848573e+03, -2.34625942e+03,\n",
      "                              9.92480262e+02,  4.95409105e+02,  4.11867271e+03,\n",
      "                              2.68843357e+03], dtype=float64)\n",
      "       tangent = Traced<ShapedArray(float64[64])>with<BatchTrace(level=1/0)>\n",
      "                   with val = DeviceArray([[ 7.48478584e+19,  4.22727300e+19,  3.59250290e+18,\n",
      "                                             8.57491695e+19,  3.84500250e+19, -9.03300236e+19,\n",
      "                                             1.75825332e+20, -1.51720644e+20,  3.37445016e+19,\n",
      "                                            -1.36557691e+18, -1.80910547e+19, -6.36163570e+18,\n",
      "                                             3.02308389e+19, -2.05691495e+19, -1.39009937e+20,\n",
      "                                            -6.16753709e+19, -7.18215640e+19, -8.19499393e+19,\n",
      "                                             2.60394949e+19,  7.10063282e+19,  6.48837172e+18,\n",
      "                                             4.25038746e+19,  7.66380587e+19,  6.92661493e+19,\n",
      "                                            -6.14741854e+19, -6.37110015e+19, -3.40912976e+19,\n",
      "                                             7.95157301e+19, -3.25105446e+23, -1.13390206e+24,\n",
      "                                            -6.51779882e+22,  9.92347176e+23,  1.11860570e+25,\n",
      "                                            -7.36323123e+24, -3.74432233e+22, -7.13830079e+24,\n",
      "                                             2.23037628e+23, -2.94132559e+23,  4.39641291e+23,\n",
      "                                             6.21557837e+21, -2.75739146e+24, -4.50739256e+23,\n",
      "                                             2.75259091e+24, -8.63049115e+23, -8.10297239e+23,\n",
      "                                            -1.01317243e+24,  1.22454499e+23,  2.48608982e+23,\n",
      "                                             7.05477173e+22,  3.14000034e+23, -9.28739779e+23,\n",
      "                                             4.02503463e+24, -1.93613216e+24, -5.45561163e+23,\n",
      "                                            -9.77281039e+23,  9.14102130e+23, -7.37907557e+22,\n",
      "                                            -3.88114675e+23, -2.57244797e+23,  5.28418391e+23,\n",
      "                                             4.60241031e+24,  7.62334765e+21, -6.95178293e+23,\n",
      "                                            -2.70755394e+24]], dtype=float64)\n",
      "                        batch_dim = 0\n",
      "[ 1.71534275e-01  4.73749224e-01  7.54955349e-01  1.13593296e+00\n",
      "  3.79520089e-01  7.44299545e-01  8.52216241e-01  5.46110182e-01\n",
      "  1.15717134e+00  2.16126466e+00  2.60945386e+00  1.09507927e+00\n",
      "  2.64951193e+00  2.61451981e+00  9.96197183e-01  2.46815419e+00\n",
      "  3.08374318e+00 -9.90074717e-02  1.79018479e+00 -1.24936394e-01\n",
      "  7.63150832e-02  1.58121369e+00 -6.45987528e-01 -2.77508999e-01\n",
      "  1.26720453e+00 -6.55528869e-01 -5.62691452e-01 -6.24407259e-01\n",
      "  2.99998750e+03  6.51868578e+03 -2.22595916e+02  2.21802260e+03\n",
      " -1.13885562e+03 -1.73606022e+03  1.24573664e+02 -1.04118655e+03\n",
      "  1.81179071e+02 -1.39376975e+02  1.33787488e+03  2.38252464e+03\n",
      "  2.41573838e+04 -3.08849289e+02 -3.68520178e+03  4.66398129e+03\n",
      " -2.12458833e+03  6.14957641e+03 -5.21390574e+02  5.46280593e+02\n",
      "  1.80648878e+03  2.71728833e+02 -3.12323261e+03  1.62183726e+04\n",
      "  5.20975110e+00  1.20565660e+03 -2.96346907e+03  1.50245783e+03\n",
      " -1.91793119e+02 -4.69824071e+02 -1.37848573e+03 -2.34625942e+03\n",
      "  9.92480262e+02  4.95409105e+02  4.11867271e+03  2.68843357e+03] [ 7.48478584e+19  4.22727300e+19  3.59250290e+18  8.57491695e+19\n",
      "  3.84500250e+19 -9.03300236e+19  1.75825332e+20 -1.51720644e+20\n",
      "  3.37445016e+19 -1.36557691e+18 -1.80910547e+19 -6.36163570e+18\n",
      "  3.02308389e+19 -2.05691495e+19 -1.39009937e+20 -6.16753709e+19\n",
      " -7.18215640e+19 -8.19499393e+19  2.60394949e+19  7.10063282e+19\n",
      "  6.48837172e+18  4.25038746e+19  7.66380587e+19  6.92661493e+19\n",
      " -6.14741854e+19 -6.37110015e+19 -3.40912976e+19  7.95157301e+19\n",
      " -3.25105446e+23 -1.13390206e+24 -6.51779882e+22  9.92347176e+23\n",
      "  1.11860570e+25 -7.36323123e+24 -3.74432233e+22 -7.13830079e+24\n",
      "  2.23037628e+23 -2.94132559e+23  4.39641291e+23  6.21557837e+21\n",
      " -2.75739146e+24 -4.50739256e+23  2.75259091e+24 -8.63049115e+23\n",
      " -8.10297239e+23 -1.01317243e+24  1.22454499e+23  2.48608982e+23\n",
      "  7.05477173e+22  3.14000034e+23 -9.28739779e+23  4.02503463e+24\n",
      " -1.93613216e+24 -5.45561163e+23 -9.77281039e+23  9.14102130e+23\n",
      " -7.37907557e+22 -3.88114675e+23 -2.57244797e+23  5.28418391e+23\n",
      "  4.60241031e+24  7.62334765e+21 -6.95178293e+23 -2.70755394e+24]\n"
     ]
    },
    {
     "data": {
      "text/plain": [
       "(DeviceArray([ 1.71534275e-01,  4.73749224e-01,  7.54955349e-01,\n",
       "               1.13593296e+00,  3.79520089e-01,  7.44299545e-01,\n",
       "               8.52216241e-01,  5.46110182e-01,  1.15717134e+00,\n",
       "               2.16126466e+00,  2.60945386e+00,  1.09507927e+00,\n",
       "               2.64951193e+00,  2.61451981e+00,  9.96197183e-01,\n",
       "               2.46815419e+00,  3.08374318e+00, -9.90074717e-02,\n",
       "               1.79018479e+00, -1.24936394e-01,  7.63150832e-02,\n",
       "               1.58121369e+00, -6.45987528e-01, -2.77508999e-01,\n",
       "               1.26720453e+00, -6.55528869e-01, -5.62691452e-01,\n",
       "              -6.24407259e-01,  2.99998750e+03,  6.51868578e+03,\n",
       "              -2.22595916e+02,  2.21802260e+03, -1.13885562e+03,\n",
       "              -1.73606022e+03,  1.24573664e+02, -1.04118655e+03,\n",
       "               1.81179071e+02, -1.39376975e+02,  1.33787488e+03,\n",
       "               2.38252464e+03,  2.41573838e+04, -3.08849289e+02,\n",
       "              -3.68520178e+03,  4.66398129e+03, -2.12458833e+03,\n",
       "               6.14957641e+03, -5.21390574e+02,  5.46280593e+02,\n",
       "               1.80648878e+03,  2.71728833e+02, -3.12323261e+03,\n",
       "               1.62183726e+04,  5.20975110e+00,  1.20565660e+03,\n",
       "              -2.96346907e+03,  1.50245783e+03, -1.91793119e+02,\n",
       "              -4.69824071e+02, -1.37848573e+03, -2.34625942e+03,\n",
       "               9.92480262e+02,  4.95409105e+02,  4.11867271e+03,\n",
       "               2.68843357e+03], dtype=float64),\n",
       " DeviceArray([ 7.48478584e+19,  4.22727300e+19,  3.59250290e+18,\n",
       "               8.57491695e+19,  3.84500250e+19, -9.03300236e+19,\n",
       "               1.75825332e+20, -1.51720644e+20,  3.37445016e+19,\n",
       "              -1.36557691e+18, -1.80910547e+19, -6.36163570e+18,\n",
       "               3.02308389e+19, -2.05691495e+19, -1.39009937e+20,\n",
       "              -6.16753709e+19, -7.18215640e+19, -8.19499393e+19,\n",
       "               2.60394949e+19,  7.10063282e+19,  6.48837172e+18,\n",
       "               4.25038746e+19,  7.66380587e+19,  6.92661493e+19,\n",
       "              -6.14741854e+19, -6.37110015e+19, -3.40912976e+19,\n",
       "               7.95157301e+19, -3.25105446e+23, -1.13390206e+24,\n",
       "              -6.51779882e+22,  9.92347176e+23,  1.11860570e+25,\n",
       "              -7.36323123e+24, -3.74432233e+22, -7.13830079e+24,\n",
       "               2.23037628e+23, -2.94132559e+23,  4.39641291e+23,\n",
       "               6.21557837e+21, -2.75739146e+24, -4.50739256e+23,\n",
       "               2.75259091e+24, -8.63049115e+23, -8.10297239e+23,\n",
       "              -1.01317243e+24,  1.22454499e+23,  2.48608982e+23,\n",
       "               7.05477173e+22,  3.14000034e+23, -9.28739779e+23,\n",
       "               4.02503463e+24, -1.93613216e+24, -5.45561163e+23,\n",
       "              -9.77281039e+23,  9.14102130e+23, -7.37907557e+22,\n",
       "              -3.88114675e+23, -2.57244797e+23,  5.28418391e+23,\n",
       "               4.60241031e+24,  7.62334765e+21, -6.95178293e+23,\n",
       "              -2.70755394e+24], dtype=float64))"
      ]
     },
     "execution_count": 18,
     "metadata": {},
     "output_type": "execute_result"
    }
   ],
   "source": [
    "minimize_Gamma_with_grad(alpha, x0, g, gexp, weights)"
   ]
  },
  {
   "cell_type": "markdown",
   "metadata": {},
   "source": [
    "4. compare with implicit function theorem"
   ]
  },
  {
   "cell_type": "code",
   "execution_count": 39,
   "metadata": {},
   "outputs": [
    {
     "name": "stdout",
     "output_type": "stream",
     "text": [
      "[ 1.71534275e-01  4.73749224e-01  7.54955349e-01  1.13593296e+00\n",
      "  3.79520089e-01  7.44299545e-01  8.52216241e-01  5.46110182e-01\n",
      "  1.15717134e+00  2.16126466e+00  2.60945386e+00  1.09507927e+00\n",
      "  2.64951193e+00  2.61451981e+00  9.96197183e-01  2.46815419e+00\n",
      "  3.08374318e+00 -9.90074717e-02  1.79018479e+00 -1.24936394e-01\n",
      "  7.63150832e-02  1.58121369e+00 -6.45987528e-01 -2.77508999e-01\n",
      "  1.26720453e+00 -6.55528869e-01 -5.62691452e-01 -6.24407259e-01\n",
      "  2.99998750e+03  6.51868578e+03 -2.22595916e+02  2.21802260e+03\n",
      " -1.13885562e+03 -1.73606022e+03  1.24573664e+02 -1.04118655e+03\n",
      "  1.81179071e+02 -1.39376975e+02  1.33787488e+03  2.38252464e+03\n",
      "  2.41573838e+04 -3.08849289e+02 -3.68520178e+03  4.66398129e+03\n",
      " -2.12458833e+03  6.14957641e+03 -5.21390574e+02  5.46280593e+02\n",
      "  1.80648878e+03  2.71728833e+02 -3.12323261e+03  1.62183726e+04\n",
      "  5.20975110e+00  1.20565660e+03 -2.96346907e+03  1.50245783e+03\n",
      " -1.91793119e+02 -4.69824071e+02 -1.37848573e+03 -2.34625942e+03\n",
      "  9.92480262e+02  4.95409105e+02  4.11867271e+03  2.68843357e+03]\n"
     ]
    }
   ],
   "source": [
    "mini_x = minimize_Gamma(alpha, x0, g, gexp, weights)"
   ]
  },
  {
   "cell_type": "code",
   "execution_count": 40,
   "metadata": {},
   "outputs": [],
   "source": [
    "gradient = jax.grad(gamma_function, argnums = 0)\n",
    "hess = jax.hessian(gamma_function, argnums = 0)\n",
    "# equivalently: jax.jacfwd(jax.grad(gamma_function, argnums = 0), argnums = 0)\n",
    "\n",
    "d2Gamma_dalpha_dlambda = jax.jacfwd(gradient, argnums = 4)"
   ]
  },
  {
   "cell_type": "code",
   "execution_count": 41,
   "metadata": {},
   "outputs": [
    {
     "data": {
      "text/plain": [
       "DeviceArray([-1.30519993e-01, -4.88615274e-01, -7.69171427e-01,\n",
       "             -1.14687573e+00, -3.30220624e-01, -7.53059863e-01,\n",
       "             -8.68330437e-01, -5.39429285e-01, -1.11354436e+00,\n",
       "             -2.12316113e+00, -2.55353983e+00, -1.07685798e+00,\n",
       "             -2.64641425e+00, -2.57687746e+00, -1.03076799e+00,\n",
       "             -2.47765080e+00, -3.09742244e+00,  1.04659517e-01,\n",
       "             -1.78845941e+00,  1.48175946e-01, -1.14541154e-01,\n",
       "             -1.57050410e+00,  6.61867832e-01,  3.04426345e-01,\n",
       "             -1.23757664e+00,  6.15615798e-01,  5.60033799e-01,\n",
       "              6.48977051e-01, -2.90353365e+03, -7.71790455e+03,\n",
       "              1.78492039e+02, -2.14695108e+03,  1.12616579e+03,\n",
       "              1.78609140e+03, -8.33473422e+00,  4.67090231e+02,\n",
       "             -2.51125204e+02,  6.55318360e+01, -1.36429604e+03,\n",
       "             -2.43546288e+03, -2.54654573e+04,  4.38954962e+02,\n",
       "              3.76070887e+03, -4.67389451e+03,  2.29394309e+03,\n",
       "             -6.30941568e+03,  4.30025076e+02, -5.91013243e+02,\n",
       "             -1.86206520e+03, -2.56399462e+02,  3.23768347e+03,\n",
       "             -1.60920303e+04,  2.62621877e+02, -7.93979325e+02,\n",
       "              4.49081069e+03, -1.45479980e+03,  2.46410276e+02,\n",
       "              5.06343694e+02,  1.41512086e+03,  2.37269297e+03,\n",
       "             -7.90470649e+02, -3.73885701e+02, -4.07149355e+03,\n",
       "             -2.29770049e+03], dtype=float64)"
      ]
     },
     "execution_count": 41,
     "metadata": {},
     "output_type": "execute_result"
    }
   ],
   "source": [
    "vec = d2Gamma_dalpha_dlambda(mini_x, g, gexp, data.weights[name_sys], alpha)\n",
    "Hess = hess(mini_x, g, gexp, data.weights[name_sys], alpha)\n",
    "\n",
    "dlambda_dalpha = - np.matmul(np.linalg.inv(Hess), vec)\n",
    "\n",
    "dlambda_dalpha"
   ]
  },
  {
   "cell_type": "code",
   "execution_count": 42,
   "metadata": {},
   "outputs": [
    {
     "name": "stdout",
     "output_type": "stream",
     "text": [
      "[ 1.71534275e-01  4.73749224e-01  7.54955349e-01  1.13593296e+00\n",
      "  3.79520089e-01  7.44299545e-01  8.52216241e-01  5.46110182e-01\n",
      "  1.15717134e+00  2.16126466e+00  2.60945386e+00  1.09507927e+00\n",
      "  2.64951193e+00  2.61451981e+00  9.96197183e-01  2.46815419e+00\n",
      "  3.08374318e+00 -9.90074717e-02  1.79018479e+00 -1.24936394e-01\n",
      "  7.63150832e-02  1.58121369e+00 -6.45987528e-01 -2.77508999e-01\n",
      "  1.26720453e+00 -6.55528869e-01 -5.62691452e-01 -6.24407259e-01\n",
      "  2.99998750e+03  6.51868578e+03 -2.22595916e+02  2.21802260e+03\n",
      " -1.13885562e+03 -1.73606022e+03  1.24573664e+02 -1.04118655e+03\n",
      "  1.81179071e+02 -1.39376975e+02  1.33787488e+03  2.38252464e+03\n",
      "  2.41573838e+04 -3.08849289e+02 -3.68520178e+03  4.66398129e+03\n",
      " -2.12458833e+03  6.14957641e+03 -5.21390574e+02  5.46280593e+02\n",
      "  1.80648878e+03  2.71728833e+02 -3.12323261e+03  1.62183726e+04\n",
      "  5.20975110e+00  1.20565660e+03 -2.96346907e+03  1.50245783e+03\n",
      " -1.91793119e+02 -4.69824071e+02 -1.37848573e+03 -2.34625942e+03\n",
      "  9.92480262e+02  4.95409105e+02  4.11867271e+03  2.68843357e+03]\n"
     ]
    },
    {
     "ename": "ValueError",
     "evalue": "matmul input operand 1 must have ndim at least 1, but it has ndim 0",
     "output_type": "error",
     "traceback": [
      "\u001b[0;31m---------------------------------------------------------------------------\u001b[0m",
      "\u001b[0;31mUnfilteredStackTrace\u001b[0m                      Traceback (most recent call last)",
      "\u001b[0;32m<ipython-input-42-19fe76ca1320>\u001b[0m in \u001b[0;36m<module>\u001b[0;34m\u001b[0m\n\u001b[0;32m----> 1\u001b[0;31m \u001b[0mout\u001b[0m \u001b[0;34m=\u001b[0m \u001b[0mminimize_Gamma_with_grad\u001b[0m\u001b[0;34m(\u001b[0m\u001b[0malpha\u001b[0m\u001b[0;34m,\u001b[0m \u001b[0mmini_x\u001b[0m\u001b[0;34m,\u001b[0m \u001b[0mg\u001b[0m\u001b[0;34m,\u001b[0m \u001b[0mgexp\u001b[0m\u001b[0;34m,\u001b[0m \u001b[0mweights\u001b[0m\u001b[0;34m)\u001b[0m\u001b[0;34m\u001b[0m\u001b[0;34m\u001b[0m\u001b[0m\n\u001b[0m\u001b[1;32m      2\u001b[0m \u001b[0;34m\u001b[0m\u001b[0m\n\u001b[1;32m      3\u001b[0m \u001b[0mout\u001b[0m\u001b[0;34m[\u001b[0m\u001b[0;36m1\u001b[0m\u001b[0;34m]\u001b[0m\u001b[0;34m\u001b[0m\u001b[0;34m\u001b[0m\u001b[0m\n",
      "\u001b[0;32m<ipython-input-37-18f58f86bdc6>\u001b[0m in \u001b[0;36mminimize_Gamma_with_grad\u001b[0;34m(alpha0, x0, g, gexp, weights)\u001b[0m\n\u001b[1;32m      2\u001b[0m     \u001b[0mx\u001b[0m \u001b[0;34m=\u001b[0m \u001b[0mminimize_Gamma\u001b[0m\u001b[0;34m(\u001b[0m\u001b[0malpha0\u001b[0m\u001b[0;34m,\u001b[0m \u001b[0mx0\u001b[0m\u001b[0;34m,\u001b[0m \u001b[0mg\u001b[0m\u001b[0;34m,\u001b[0m \u001b[0mgexp\u001b[0m\u001b[0;34m,\u001b[0m \u001b[0mweights\u001b[0m\u001b[0;34m)\u001b[0m\u001b[0;34m\u001b[0m\u001b[0;34m\u001b[0m\u001b[0m\n\u001b[0;32m----> 3\u001b[0;31m     \u001b[0mg\u001b[0m \u001b[0;34m=\u001b[0m \u001b[0mgradient\u001b[0m\u001b[0;34m(\u001b[0m\u001b[0malpha0\u001b[0m\u001b[0;34m,\u001b[0m \u001b[0mx0\u001b[0m\u001b[0;34m,\u001b[0m \u001b[0mg\u001b[0m\u001b[0;34m,\u001b[0m \u001b[0mgexp\u001b[0m\u001b[0;34m,\u001b[0m \u001b[0mweights\u001b[0m\u001b[0;34m)\u001b[0m\u001b[0;34m\u001b[0m\u001b[0;34m\u001b[0m\u001b[0m\n\u001b[0m\u001b[1;32m      4\u001b[0m     \u001b[0mprint\u001b[0m\u001b[0;34m(\u001b[0m\u001b[0mx\u001b[0m\u001b[0;34m,\u001b[0m\u001b[0mg\u001b[0m\u001b[0;34m)\u001b[0m\u001b[0;34m\u001b[0m\u001b[0;34m\u001b[0m\u001b[0m\n",
      "    \u001b[0;31m[... skipping hidden 1 frame]\u001b[0m\n",
      "\u001b[0;32m~/.local/lib/python3.6/site-packages/jax/_src/api.py\u001b[0m in \u001b[0;36mgrad_f\u001b[0;34m(*args, **kwargs)\u001b[0m\n\u001b[1;32m    828\u001b[0m   \u001b[0;32mdef\u001b[0m \u001b[0mgrad_f\u001b[0m\u001b[0;34m(\u001b[0m\u001b[0;34m*\u001b[0m\u001b[0margs\u001b[0m\u001b[0;34m,\u001b[0m \u001b[0;34m**\u001b[0m\u001b[0mkwargs\u001b[0m\u001b[0;34m)\u001b[0m\u001b[0;34m:\u001b[0m\u001b[0;34m\u001b[0m\u001b[0;34m\u001b[0m\u001b[0m\n\u001b[0;32m--> 829\u001b[0;31m     \u001b[0m_\u001b[0m\u001b[0;34m,\u001b[0m \u001b[0mg\u001b[0m \u001b[0;34m=\u001b[0m \u001b[0mvalue_and_grad_f\u001b[0m\u001b[0;34m(\u001b[0m\u001b[0;34m*\u001b[0m\u001b[0margs\u001b[0m\u001b[0;34m,\u001b[0m \u001b[0;34m**\u001b[0m\u001b[0mkwargs\u001b[0m\u001b[0;34m)\u001b[0m\u001b[0;34m\u001b[0m\u001b[0;34m\u001b[0m\u001b[0m\n\u001b[0m\u001b[1;32m    830\u001b[0m     \u001b[0;32mreturn\u001b[0m \u001b[0mg\u001b[0m\u001b[0;34m\u001b[0m\u001b[0;34m\u001b[0m\u001b[0m\n",
      "    \u001b[0;31m[... skipping hidden 1 frame]\u001b[0m\n",
      "\u001b[0;32m~/.local/lib/python3.6/site-packages/jax/_src/api.py\u001b[0m in \u001b[0;36mvalue_and_grad_f\u001b[0;34m(*args, **kwargs)\u001b[0m\n\u001b[1;32m    900\u001b[0m     \u001b[0;32mif\u001b[0m \u001b[0;32mnot\u001b[0m \u001b[0mhas_aux\u001b[0m\u001b[0;34m:\u001b[0m\u001b[0;34m\u001b[0m\u001b[0;34m\u001b[0m\u001b[0m\n\u001b[0;32m--> 901\u001b[0;31m       \u001b[0mans\u001b[0m\u001b[0;34m,\u001b[0m \u001b[0mvjp_py\u001b[0m \u001b[0;34m=\u001b[0m \u001b[0m_vjp\u001b[0m\u001b[0;34m(\u001b[0m\u001b[0mf_partial\u001b[0m\u001b[0;34m,\u001b[0m \u001b[0;34m*\u001b[0m\u001b[0mdyn_args\u001b[0m\u001b[0;34m,\u001b[0m \u001b[0mreduce_axes\u001b[0m\u001b[0;34m=\u001b[0m\u001b[0mreduce_axes\u001b[0m\u001b[0;34m)\u001b[0m\u001b[0;34m\u001b[0m\u001b[0;34m\u001b[0m\u001b[0m\n\u001b[0m\u001b[1;32m    902\u001b[0m     \u001b[0;32melse\u001b[0m\u001b[0;34m:\u001b[0m\u001b[0;34m\u001b[0m\u001b[0;34m\u001b[0m\u001b[0m\n",
      "\u001b[0;32m~/.local/lib/python3.6/site-packages/jax/_src/api.py\u001b[0m in \u001b[0;36m_vjp\u001b[0;34m(fun, has_aux, reduce_axes, *primals)\u001b[0m\n\u001b[1;32m   1996\u001b[0m     out_primal, out_vjp = ad.vjp(\n\u001b[0;32m-> 1997\u001b[0;31m         flat_fun, primals_flat, reduce_axes=reduce_axes)\n\u001b[0m\u001b[1;32m   1998\u001b[0m     \u001b[0mout_tree\u001b[0m \u001b[0;34m=\u001b[0m \u001b[0mout_tree\u001b[0m\u001b[0;34m(\u001b[0m\u001b[0;34m)\u001b[0m\u001b[0;34m\u001b[0m\u001b[0;34m\u001b[0m\u001b[0m\n",
      "\u001b[0;32m~/.local/lib/python3.6/site-packages/jax/interpreters/ad.py\u001b[0m in \u001b[0;36mvjp\u001b[0;34m(traceable, primals, has_aux, reduce_axes)\u001b[0m\n\u001b[1;32m    114\u001b[0m   \u001b[0;32mif\u001b[0m \u001b[0;32mnot\u001b[0m \u001b[0mhas_aux\u001b[0m\u001b[0;34m:\u001b[0m\u001b[0;34m\u001b[0m\u001b[0;34m\u001b[0m\u001b[0m\n\u001b[0;32m--> 115\u001b[0;31m     \u001b[0mout_primals\u001b[0m\u001b[0;34m,\u001b[0m \u001b[0mpvals\u001b[0m\u001b[0;34m,\u001b[0m \u001b[0mjaxpr\u001b[0m\u001b[0;34m,\u001b[0m \u001b[0mconsts\u001b[0m \u001b[0;34m=\u001b[0m \u001b[0mlinearize\u001b[0m\u001b[0;34m(\u001b[0m\u001b[0mtraceable\u001b[0m\u001b[0;34m,\u001b[0m \u001b[0;34m*\u001b[0m\u001b[0mprimals\u001b[0m\u001b[0;34m)\u001b[0m\u001b[0;34m\u001b[0m\u001b[0;34m\u001b[0m\u001b[0m\n\u001b[0m\u001b[1;32m    116\u001b[0m   \u001b[0;32melse\u001b[0m\u001b[0;34m:\u001b[0m\u001b[0;34m\u001b[0m\u001b[0;34m\u001b[0m\u001b[0m\n",
      "\u001b[0;32m~/.local/lib/python3.6/site-packages/jax/interpreters/ad.py\u001b[0m in \u001b[0;36mlinearize\u001b[0;34m(traceable, *primals, **kwargs)\u001b[0m\n\u001b[1;32m    101\u001b[0m   \u001b[0mjvpfun_flat\u001b[0m\u001b[0;34m,\u001b[0m \u001b[0mout_tree\u001b[0m \u001b[0;34m=\u001b[0m \u001b[0mflatten_fun\u001b[0m\u001b[0;34m(\u001b[0m\u001b[0mjvpfun\u001b[0m\u001b[0;34m,\u001b[0m \u001b[0min_tree\u001b[0m\u001b[0;34m)\u001b[0m\u001b[0;34m\u001b[0m\u001b[0;34m\u001b[0m\u001b[0m\n\u001b[0;32m--> 102\u001b[0;31m   \u001b[0mjaxpr\u001b[0m\u001b[0;34m,\u001b[0m \u001b[0mout_pvals\u001b[0m\u001b[0;34m,\u001b[0m \u001b[0mconsts\u001b[0m \u001b[0;34m=\u001b[0m \u001b[0mpe\u001b[0m\u001b[0;34m.\u001b[0m\u001b[0mtrace_to_jaxpr\u001b[0m\u001b[0;34m(\u001b[0m\u001b[0mjvpfun_flat\u001b[0m\u001b[0;34m,\u001b[0m \u001b[0min_pvals\u001b[0m\u001b[0;34m)\u001b[0m\u001b[0;34m\u001b[0m\u001b[0;34m\u001b[0m\u001b[0m\n\u001b[0m\u001b[1;32m    103\u001b[0m   \u001b[0mout_primals_pvals\u001b[0m\u001b[0;34m,\u001b[0m \u001b[0mout_tangents_pvals\u001b[0m \u001b[0;34m=\u001b[0m \u001b[0mtree_unflatten\u001b[0m\u001b[0;34m(\u001b[0m\u001b[0mout_tree\u001b[0m\u001b[0;34m(\u001b[0m\u001b[0;34m)\u001b[0m\u001b[0;34m,\u001b[0m \u001b[0mout_pvals\u001b[0m\u001b[0;34m)\u001b[0m\u001b[0;34m\u001b[0m\u001b[0;34m\u001b[0m\u001b[0m\n",
      "\u001b[0;32m~/.local/lib/python3.6/site-packages/jax/interpreters/partial_eval.py\u001b[0m in \u001b[0;36mtrace_to_jaxpr\u001b[0;34m(fun, pvals, instantiate)\u001b[0m\n\u001b[1;32m    504\u001b[0m     \u001b[0mfun\u001b[0m \u001b[0;34m=\u001b[0m \u001b[0mtrace_to_subjaxpr\u001b[0m\u001b[0;34m(\u001b[0m\u001b[0mfun\u001b[0m\u001b[0;34m,\u001b[0m \u001b[0mmain\u001b[0m\u001b[0;34m,\u001b[0m \u001b[0minstantiate\u001b[0m\u001b[0;34m)\u001b[0m\u001b[0;34m\u001b[0m\u001b[0;34m\u001b[0m\u001b[0m\n\u001b[0;32m--> 505\u001b[0;31m     \u001b[0mjaxpr\u001b[0m\u001b[0;34m,\u001b[0m \u001b[0;34m(\u001b[0m\u001b[0mout_pvals\u001b[0m\u001b[0;34m,\u001b[0m \u001b[0mconsts\u001b[0m\u001b[0;34m,\u001b[0m \u001b[0menv\u001b[0m\u001b[0;34m)\u001b[0m \u001b[0;34m=\u001b[0m \u001b[0mfun\u001b[0m\u001b[0;34m.\u001b[0m\u001b[0mcall_wrapped\u001b[0m\u001b[0;34m(\u001b[0m\u001b[0mpvals\u001b[0m\u001b[0;34m)\u001b[0m\u001b[0;34m\u001b[0m\u001b[0;34m\u001b[0m\u001b[0m\n\u001b[0m\u001b[1;32m    506\u001b[0m     \u001b[0;32massert\u001b[0m \u001b[0;32mnot\u001b[0m \u001b[0menv\u001b[0m\u001b[0;34m\u001b[0m\u001b[0;34m\u001b[0m\u001b[0m\n",
      "\u001b[0;32m~/.local/lib/python3.6/site-packages/jax/linear_util.py\u001b[0m in \u001b[0;36mcall_wrapped\u001b[0;34m(self, *args, **kwargs)\u001b[0m\n\u001b[1;32m    165\u001b[0m     \u001b[0;32mtry\u001b[0m\u001b[0;34m:\u001b[0m\u001b[0;34m\u001b[0m\u001b[0;34m\u001b[0m\u001b[0m\n\u001b[0;32m--> 166\u001b[0;31m       \u001b[0mans\u001b[0m \u001b[0;34m=\u001b[0m \u001b[0mself\u001b[0m\u001b[0;34m.\u001b[0m\u001b[0mf\u001b[0m\u001b[0;34m(\u001b[0m\u001b[0;34m*\u001b[0m\u001b[0margs\u001b[0m\u001b[0;34m,\u001b[0m \u001b[0;34m**\u001b[0m\u001b[0mdict\u001b[0m\u001b[0;34m(\u001b[0m\u001b[0mself\u001b[0m\u001b[0;34m.\u001b[0m\u001b[0mparams\u001b[0m\u001b[0;34m,\u001b[0m \u001b[0;34m**\u001b[0m\u001b[0mkwargs\u001b[0m\u001b[0;34m)\u001b[0m\u001b[0;34m)\u001b[0m\u001b[0;34m\u001b[0m\u001b[0;34m\u001b[0m\u001b[0m\n\u001b[0m\u001b[1;32m    167\u001b[0m     \u001b[0;32mexcept\u001b[0m\u001b[0;34m:\u001b[0m\u001b[0;34m\u001b[0m\u001b[0;34m\u001b[0m\u001b[0m\n",
      "\u001b[0;32m~/3_alphabetagamma/Functions_hyper.py\u001b[0m in \u001b[0;36mgamma_function\u001b[0;34m(lambdas, g, gexp, weights, alpha, if_gradient)\u001b[0m\n\u001b[1;32m    506\u001b[0m \u001b[0;34m\u001b[0m\u001b[0m\n\u001b[0;32m--> 507\u001b[0;31m     \u001b[0mcorrection_lambdas\u001b[0m \u001b[0;34m=\u001b[0m \u001b[0mnp\u001b[0m\u001b[0;34m.\u001b[0m\u001b[0mmatmul\u001b[0m\u001b[0;34m(\u001b[0m\u001b[0mg\u001b[0m\u001b[0;34m,\u001b[0m\u001b[0mlambdas\u001b[0m\u001b[0;34m)\u001b[0m\u001b[0;34m\u001b[0m\u001b[0;34m\u001b[0m\u001b[0m\n\u001b[0m\u001b[1;32m    508\u001b[0m     \u001b[0mnewweights\u001b[0m\u001b[0;34m,\u001b[0m\u001b[0mlogZlambda\u001b[0m \u001b[0;34m=\u001b[0m \u001b[0mcompute_newweights\u001b[0m\u001b[0;34m(\u001b[0m\u001b[0mweights\u001b[0m\u001b[0;34m,\u001b[0m\u001b[0mcorrection_lambdas\u001b[0m\u001b[0;34m)\u001b[0m\u001b[0;34m\u001b[0m\u001b[0;34m\u001b[0m\u001b[0m\n",
      "\u001b[0;32m~/.local/lib/python3.6/site-packages/jax/_src/numpy/lax_numpy.py\u001b[0m in \u001b[0;36mmatmul\u001b[0;34m(a, b, precision)\u001b[0m\n\u001b[1;32m   4169\u001b[0m              f\"but it has ndim {ndim(x)}\")\n\u001b[0;32m-> 4170\u001b[0;31m       \u001b[0;32mraise\u001b[0m \u001b[0mValueError\u001b[0m\u001b[0;34m(\u001b[0m\u001b[0mmsg\u001b[0m\u001b[0;34m)\u001b[0m\u001b[0;34m\u001b[0m\u001b[0;34m\u001b[0m\u001b[0m\n\u001b[0m\u001b[1;32m   4171\u001b[0m \u001b[0;34m\u001b[0m\u001b[0m\n",
      "\u001b[0;31mUnfilteredStackTrace\u001b[0m: ValueError: matmul input operand 1 must have ndim at least 1, but it has ndim 0\n\nThe stack trace below excludes JAX-internal frames.\nThe preceding is the original exception that occurred, unmodified.\n\n--------------------",
      "\nThe above exception was the direct cause of the following exception:\n",
      "\u001b[0;31mValueError\u001b[0m                                Traceback (most recent call last)",
      "\u001b[0;32m<ipython-input-42-19fe76ca1320>\u001b[0m in \u001b[0;36m<module>\u001b[0;34m\u001b[0m\n\u001b[0;32m----> 1\u001b[0;31m \u001b[0mout\u001b[0m \u001b[0;34m=\u001b[0m \u001b[0mminimize_Gamma_with_grad\u001b[0m\u001b[0;34m(\u001b[0m\u001b[0malpha\u001b[0m\u001b[0;34m,\u001b[0m \u001b[0mmini_x\u001b[0m\u001b[0;34m,\u001b[0m \u001b[0mg\u001b[0m\u001b[0;34m,\u001b[0m \u001b[0mgexp\u001b[0m\u001b[0;34m,\u001b[0m \u001b[0mweights\u001b[0m\u001b[0;34m)\u001b[0m\u001b[0;34m\u001b[0m\u001b[0;34m\u001b[0m\u001b[0m\n\u001b[0m\u001b[1;32m      2\u001b[0m \u001b[0;34m\u001b[0m\u001b[0m\n\u001b[1;32m      3\u001b[0m \u001b[0mout\u001b[0m\u001b[0;34m[\u001b[0m\u001b[0;36m1\u001b[0m\u001b[0;34m]\u001b[0m\u001b[0;34m\u001b[0m\u001b[0;34m\u001b[0m\u001b[0m\n",
      "\u001b[0;32m<ipython-input-37-18f58f86bdc6>\u001b[0m in \u001b[0;36mminimize_Gamma_with_grad\u001b[0;34m(alpha0, x0, g, gexp, weights)\u001b[0m\n\u001b[1;32m      1\u001b[0m \u001b[0;32mdef\u001b[0m \u001b[0mminimize_Gamma_with_grad\u001b[0m\u001b[0;34m(\u001b[0m\u001b[0malpha0\u001b[0m\u001b[0;34m,\u001b[0m \u001b[0mx0\u001b[0m\u001b[0;34m,\u001b[0m \u001b[0mg\u001b[0m\u001b[0;34m,\u001b[0m \u001b[0mgexp\u001b[0m\u001b[0;34m,\u001b[0m \u001b[0mweights\u001b[0m\u001b[0;34m)\u001b[0m\u001b[0;34m:\u001b[0m\u001b[0;34m\u001b[0m\u001b[0;34m\u001b[0m\u001b[0m\n\u001b[1;32m      2\u001b[0m     \u001b[0mx\u001b[0m \u001b[0;34m=\u001b[0m \u001b[0mminimize_Gamma\u001b[0m\u001b[0;34m(\u001b[0m\u001b[0malpha0\u001b[0m\u001b[0;34m,\u001b[0m \u001b[0mx0\u001b[0m\u001b[0;34m,\u001b[0m \u001b[0mg\u001b[0m\u001b[0;34m,\u001b[0m \u001b[0mgexp\u001b[0m\u001b[0;34m,\u001b[0m \u001b[0mweights\u001b[0m\u001b[0;34m)\u001b[0m\u001b[0;34m\u001b[0m\u001b[0;34m\u001b[0m\u001b[0m\n\u001b[0;32m----> 3\u001b[0;31m     \u001b[0mg\u001b[0m \u001b[0;34m=\u001b[0m \u001b[0mgradient\u001b[0m\u001b[0;34m(\u001b[0m\u001b[0malpha0\u001b[0m\u001b[0;34m,\u001b[0m \u001b[0mx0\u001b[0m\u001b[0;34m,\u001b[0m \u001b[0mg\u001b[0m\u001b[0;34m,\u001b[0m \u001b[0mgexp\u001b[0m\u001b[0;34m,\u001b[0m \u001b[0mweights\u001b[0m\u001b[0;34m)\u001b[0m\u001b[0;34m\u001b[0m\u001b[0;34m\u001b[0m\u001b[0m\n\u001b[0m\u001b[1;32m      4\u001b[0m     \u001b[0mprint\u001b[0m\u001b[0;34m(\u001b[0m\u001b[0mx\u001b[0m\u001b[0;34m,\u001b[0m\u001b[0mg\u001b[0m\u001b[0;34m)\u001b[0m\u001b[0;34m\u001b[0m\u001b[0;34m\u001b[0m\u001b[0m\n\u001b[1;32m      5\u001b[0m     \u001b[0;32mreturn\u001b[0m \u001b[0mx\u001b[0m\u001b[0;34m,\u001b[0m\u001b[0mg\u001b[0m\u001b[0;34m\u001b[0m\u001b[0;34m\u001b[0m\u001b[0m\n",
      "\u001b[0;32m~/3_alphabetagamma/Functions_hyper.py\u001b[0m in \u001b[0;36mgamma_function\u001b[0;34m(lambdas, g, gexp, weights, alpha, if_gradient)\u001b[0m\n\u001b[1;32m    505\u001b[0m \u001b[0;32mdef\u001b[0m \u001b[0mgamma_function\u001b[0m\u001b[0;34m(\u001b[0m\u001b[0mlambdas\u001b[0m\u001b[0;34m,\u001b[0m\u001b[0mg\u001b[0m\u001b[0;34m,\u001b[0m\u001b[0mgexp\u001b[0m\u001b[0;34m,\u001b[0m\u001b[0mweights\u001b[0m\u001b[0;34m,\u001b[0m\u001b[0malpha\u001b[0m\u001b[0;34m,\u001b[0m\u001b[0mif_gradient\u001b[0m\u001b[0;34m=\u001b[0m\u001b[0;32mFalse\u001b[0m\u001b[0;34m)\u001b[0m\u001b[0;34m:\u001b[0m\u001b[0;34m\u001b[0m\u001b[0;34m\u001b[0m\u001b[0m\n\u001b[1;32m    506\u001b[0m \u001b[0;34m\u001b[0m\u001b[0m\n\u001b[0;32m--> 507\u001b[0;31m     \u001b[0mcorrection_lambdas\u001b[0m \u001b[0;34m=\u001b[0m \u001b[0mnp\u001b[0m\u001b[0;34m.\u001b[0m\u001b[0mmatmul\u001b[0m\u001b[0;34m(\u001b[0m\u001b[0mg\u001b[0m\u001b[0;34m,\u001b[0m\u001b[0mlambdas\u001b[0m\u001b[0;34m)\u001b[0m\u001b[0;34m\u001b[0m\u001b[0;34m\u001b[0m\u001b[0m\n\u001b[0m\u001b[1;32m    508\u001b[0m     \u001b[0mnewweights\u001b[0m\u001b[0;34m,\u001b[0m\u001b[0mlogZlambda\u001b[0m \u001b[0;34m=\u001b[0m \u001b[0mcompute_newweights\u001b[0m\u001b[0;34m(\u001b[0m\u001b[0mweights\u001b[0m\u001b[0;34m,\u001b[0m\u001b[0mcorrection_lambdas\u001b[0m\u001b[0;34m)\u001b[0m\u001b[0;34m\u001b[0m\u001b[0;34m\u001b[0m\u001b[0m\n\u001b[1;32m    509\u001b[0m \u001b[0;34m\u001b[0m\u001b[0m\n",
      "\u001b[0;32m~/.local/lib/python3.6/site-packages/jax/_src/numpy/lax_numpy.py\u001b[0m in \u001b[0;36mmatmul\u001b[0;34m(a, b, precision)\u001b[0m\n\u001b[1;32m   4168\u001b[0m       msg = (f\"matmul input operand {i} must have ndim at least 1, \"\n\u001b[1;32m   4169\u001b[0m              f\"but it has ndim {ndim(x)}\")\n\u001b[0;32m-> 4170\u001b[0;31m       \u001b[0;32mraise\u001b[0m \u001b[0mValueError\u001b[0m\u001b[0;34m(\u001b[0m\u001b[0mmsg\u001b[0m\u001b[0;34m)\u001b[0m\u001b[0;34m\u001b[0m\u001b[0;34m\u001b[0m\u001b[0m\n\u001b[0m\u001b[1;32m   4171\u001b[0m \u001b[0;34m\u001b[0m\u001b[0m\n\u001b[1;32m   4172\u001b[0m   \u001b[0ma\u001b[0m\u001b[0;34m,\u001b[0m \u001b[0mb\u001b[0m \u001b[0;34m=\u001b[0m \u001b[0m_promote_dtypes\u001b[0m\u001b[0;34m(\u001b[0m\u001b[0ma\u001b[0m\u001b[0;34m,\u001b[0m \u001b[0mb\u001b[0m\u001b[0;34m)\u001b[0m\u001b[0;34m\u001b[0m\u001b[0;34m\u001b[0m\u001b[0m\n",
      "\u001b[0;31mValueError\u001b[0m: matmul input operand 1 must have ndim at least 1, but it has ndim 0"
     ]
    }
   ],
   "source": [
    "out = minimize_Gamma_with_grad(alpha, mini_x, g, gexp, weights)\n",
    "\n",
    "out[1]"
   ]
  },
  {
   "cell_type": "code",
   "execution_count": 69,
   "metadata": {},
   "outputs": [
    {
     "data": {
      "text/plain": [
       "[<matplotlib.lines.Line2D at 0x7f36c4403cc0>]"
      ]
     },
     "execution_count": 69,
     "metadata": {},
     "output_type": "execute_result"
    },
    {
     "data": {
      "image/png": "[encoded data removed]",
      "text/plain": [
       "<Figure size 432x288 with 1 Axes>"
      ]
     },
     "metadata": {
      "needs_background": "light"
     },
     "output_type": "display_data"
    },
    {
     "data": {
      "image/png": "[encoded data removed]",
      "text/plain": [
       "<Figure size 432x288 with 1 Axes>"
      ]
     },
     "metadata": {
      "needs_background": "light"
     },
     "output_type": "display_data"
    }
   ],
   "source": [
    "plt.plot(dlambda_dalpha)\n",
    "plt.plot(out[1])\n",
    "\n",
    "\n",
    "plt.figure()\n",
    "plt.plot(dlambda_dalpha/dlambda_dalpha[0])\n",
    "plt.plot(out[1]/out[1][0])"
   ]
  },
  {
   "cell_type": "markdown",
   "metadata": {},
   "source": [
    "### implicit functions?\n",
    "now, let's see if we can directly minimize implicit functions defined as the minimum of another function"
   ]
  },
  {
   "cell_type": "markdown",
   "metadata": {},
   "source": [
    "see also http://implicit-layers-tutorial.org/implicit_functions/"
   ]
  },
  {
   "cell_type": "markdown",
   "metadata": {},
   "source": [
    "- **my_func** $F(\\vec x,\\alpha)$ defines an implicit function **min_x** $\\vec x = \\vec f(\\alpha)$ through $\\vec \\nabla_x F(\\vec x,\\alpha)=0$, which is the condition satisfied by $\\vec x = \\arg \\min_{\\vec x} F(\\vec x,\\alpha)$;\n",
    "- can we compute $\\frac{\\partial\\vec x}{\\partial \\alpha}$ directly through automatic differentiation on $\\alpha$ or do we have to use the implicit function theorem?"
   ]
  },
  {
   "cell_type": "markdown",
   "metadata": {},
   "source": [
    "0. define $f(x,\\alpha)$"
   ]
  },
  {
   "cell_type": "code",
   "execution_count": 21,
   "metadata": {},
   "outputs": [],
   "source": [
    "func = lambda x, alpha, beta: 1/2*(alpha[0]*x[0])**2 - x[0]*alpha[0]**4 + alpha[0]"
   ]
  },
  {
   "cell_type": "markdown",
   "metadata": {},
   "source": [
    "1. define $x(\\alpha) = \\arg\\min_x f(x, \\alpha)$"
   ]
  },
  {
   "cell_type": "code",
   "execution_count": 22,
   "metadata": {},
   "outputs": [],
   "source": [
    "def minimize_x(alpha, x0, beta):\n",
    "    # mini = minimize(my_func_with_grad, x0, args = (alpha, None), method = 'BFGS', jac = True)\n",
    "    mini_x = jax_minimize(func, x0, args = (alpha, None), method = 'BFGS').x\n",
    "\n",
    "    # gradient = jax.jacfwd(mini_x, argnums = 1)\n",
    "    # grad = gradient(x0, alpha, beta)\n",
    "\n",
    "    print(mini_x)\n",
    "    return mini_x"
   ]
  },
  {
   "cell_type": "markdown",
   "metadata": {},
   "source": [
    "2. define $\\frac{d x}{d \\alpha}$"
   ]
  },
  {
   "cell_type": "code",
   "execution_count": 23,
   "metadata": {},
   "outputs": [],
   "source": [
    "# print(minimize_x(alpha, x0, None))\n",
    "\n",
    "gradient = jax.jacfwd(minimize_x, argnums = 0)\n",
    "# gradient(alpha, x0, None)"
   ]
  },
  {
   "cell_type": "code",
   "execution_count": 24,
   "metadata": {},
   "outputs": [
    {
     "name": "stdout",
     "output_type": "stream",
     "text": [
      "[4.84]\n",
      "[4.84]\n",
      "Traced<ConcreteArray([4.84])>with<JVPTrace(level=2/0)>\n",
      "  with primal = DeviceArray([4.84], dtype=float64)\n",
      "       tangent = Traced<ShapedArray(float64[1])>with<BatchTrace(level=1/0)>\n",
      "                   with val = DeviceArray([[4.4]], dtype=float64)\n",
      "                        batch_dim = 0\n",
      "[[4.4]]\n"
     ]
    }
   ],
   "source": [
    "alpha0 = np.array([2.2])\n",
    "x0 = np.array([0.1])\n",
    "\n",
    "print(minimize_x(alpha0, x0, None))\n",
    "\n",
    "print(gradient(alpha0, x0, None))"
   ]
  },
  {
   "cell_type": "markdown",
   "metadata": {},
   "source": [
    "in this way gradient gives 0, why?"
   ]
  },
  {
   "cell_type": "code",
   "execution_count": 25,
   "metadata": {},
   "outputs": [
    {
     "name": "stdout",
     "output_type": "stream",
     "text": [
      "[4.84]\n",
      "Traced<ConcreteArray([4.84])>with<JVPTrace(level=2/0)>\n",
      "  with primal = DeviceArray([4.84], dtype=float64)\n",
      "       tangent = Traced<ShapedArray(float64[1])>with<BatchTrace(level=1/0)>\n",
      "                   with val = DeviceArray([[0.]], dtype=float64)\n",
      "                        batch_dim = 0\n"
     ]
    },
    {
     "data": {
      "text/plain": [
       "DeviceArray([[0.]], dtype=float64)"
      ]
     },
     "execution_count": 25,
     "metadata": {},
     "output_type": "execute_result"
    }
   ],
   "source": [
    "x = minimize_x(alpha0, x0, None)\n",
    "\n",
    "gradient(alpha0, x, None)"
   ]
  },
  {
   "cell_type": "markdown",
   "metadata": {},
   "source": [
    "3. put $(x, \\frac{dx}{d\\alpha})$ in the same Python function"
   ]
  },
  {
   "cell_type": "code",
   "execution_count": 10,
   "metadata": {},
   "outputs": [],
   "source": [
    "def minimize_x_with_grad(alpha0, x0, beta):\n",
    "    x = minimize_x(alpha0, x0, None)\n",
    "    g = gradient(alpha0, x0, None)\n",
    "    print(x,g)\n",
    "    return x,g"
   ]
  },
  {
   "cell_type": "code",
   "execution_count": 11,
   "metadata": {},
   "outputs": [
    {
     "name": "stdout",
     "output_type": "stream",
     "text": [
      "[4.84]\n",
      "Traced<ConcreteArray([4.84])>with<JVPTrace(level=2/0)>\n",
      "  with primal = DeviceArray([4.84], dtype=float64)\n",
      "       tangent = Traced<ShapedArray(float64[1])>with<BatchTrace(level=1/0)>\n",
      "                   with val = DeviceArray([[4.4]], dtype=float64)\n",
      "                        batch_dim = 0\n",
      "[4.84] [[4.4]]\n"
     ]
    },
    {
     "data": {
      "text/plain": [
       "(DeviceArray([4.84], dtype=float64), DeviceArray([[4.4]], dtype=float64))"
      ]
     },
     "execution_count": 11,
     "metadata": {},
     "output_type": "execute_result"
    }
   ],
   "source": [
    "out = minimize_x_with_grad(alpha0, x0, None)"
   ]
  },
  {
   "cell_type": "markdown",
   "metadata": {},
   "source": [
    "4. compare $\\frac{dx}{d\\alpha}$ (computed by jax directly on $x(\\alpha)$) with implicit function theorem $\\frac{dx}{d\\alpha} = -\\Bigl(\\frac{\\partial^2 f}{\\partial x^2}\\Bigr)^{-1} \\frac{\\partial^2 f}{\\partial x \\partial\\alpha}$\n",
    "\n",
    "(remember to evaluate $\\frac{\\partial^2 f}{\\partial x^2}$ and $\\frac{\\partial^2 f}{\\partial x \\partial \\alpha}$ in $x=x(\\alpha)$)"
   ]
  },
  {
   "cell_type": "code",
   "execution_count": 22,
   "metadata": {},
   "outputs": [],
   "source": [
    "Hess = jax.hessian(func, argnums = 0)\n",
    "mix_grad = jax.jacfwd((jax.grad(func, argnums = 0)), argnums = 1)\n",
    "# mix_grad2 = jax.jacfwd((jax.grad(func, argnums = 1)), argnums = 0)"
   ]
  },
  {
   "cell_type": "code",
   "execution_count": 24,
   "metadata": {},
   "outputs": [
    {
     "name": "stdout",
     "output_type": "stream",
     "text": [
      "[4.84]\n",
      "Traced<ConcreteArray([4.84])>with<JVPTrace(level=2/0)>\n",
      "  with primal = DeviceArray([4.84], dtype=float64)\n",
      "       tangent = Traced<ShapedArray(float64[1])>with<BatchTrace(level=1/0)>\n",
      "                   with val = DeviceArray([[4.4]], dtype=float64)\n",
      "                        batch_dim = 0\n",
      "[4.84] [[4.4]]\n",
      "[4.84]\n",
      "[[4.84]] [[-21.296]]\n",
      "[[4.4]]\n"
     ]
    }
   ],
   "source": [
    "x = minimize_x_with_grad(alpha0, x0, None)[0]\n",
    "print(x)\n",
    "\n",
    "h = Hess(x, alpha0, None)\n",
    "v = mix_grad(x, alpha0, None)\n",
    "# v2 = mix_grad2(x0, alpha0, None)\n",
    "\n",
    "print(h, v)\n",
    "\n",
    "print(-v/h)"
   ]
  },
  {
   "cell_type": "markdown",
   "metadata": {},
   "source": [
    "Yes, we can! B. O."
   ]
  },
  {
   "cell_type": "markdown",
   "metadata": {},
   "source": [
    "#### let's use jax only to compute the gradient, and then usual scipy"
   ]
  },
  {
   "cell_type": "code",
   "execution_count": 6,
   "metadata": {},
   "outputs": [],
   "source": [
    "def my_func_with_grad(x,alpha,beta):\n",
    "    \n",
    "    f = func(x, alpha, beta)\n",
    "    \n",
    "    # func = lambda x, alpha: 1/2*(alpha[0]*x[0])**2 - x[0]*alpha[0]**4 + alpha[0]\n",
    "    df_dx = jax.grad(func, argnums = 0)\n",
    "    # f = np.float64(f)\n",
    "    \n",
    "    grad = df_dx(x, alpha, None)\n",
    "    print('x, alpha, f, grad:',x,alpha,f,grad)\n",
    "    return f, grad"
   ]
  },
  {
   "cell_type": "code",
   "execution_count": 12,
   "metadata": {},
   "outputs": [
    {
     "name": "stdout",
     "output_type": "stream",
     "text": [
      "x, alpha, f, grad: [0.01] [1.5] 1.4494875 [-5.04]\n",
      "(DeviceArray(1.4494875, dtype=float64), DeviceArray([-5.04], dtype=float64))\n",
      "minimize:\n",
      "x, alpha, f, grad: [0.01] [1.5] 1.4494875 [-5.04]\n",
      "x, alpha, f, grad: [1.02] [1.5] -2.4933000000000005 [-2.7675]\n",
      "x, alpha, f, grad: [2.25] [1.5] -4.1953125 [0.]\n"
     ]
    },
    {
     "data": {
      "text/plain": [
       "      fun: -4.1953125\n",
       " hess_inv: array([[0.44444444]])\n",
       "      jac: array([0.])\n",
       "  message: 'Optimization terminated successfully.'\n",
       "     nfev: 3\n",
       "      nit: 2\n",
       "     njev: 3\n",
       "   status: 0\n",
       "  success: True\n",
       "        x: array([2.25])"
      ]
     },
     "execution_count": 12,
     "metadata": {},
     "output_type": "execute_result"
    }
   ],
   "source": [
    "alpha = np.array([1.5])\n",
    "x0 = np.array([0.01])\n",
    "\n",
    "print(my_func_with_grad(x0, alpha, None))\n",
    "\n",
    "print('minimize:')\n",
    "minimize(my_func_with_grad, x0, args = (alpha, None), method = 'BFGS', jac = True)"
   ]
  },
  {
   "cell_type": "code",
   "execution_count": 8,
   "metadata": {},
   "outputs": [],
   "source": [
    "def min_x_with_grad(alpha, x0, beta):\n",
    "    \n",
    "    minimize_x = lambda x0, alpha: minimize(my_func_with_grad, x0, args = (alpha, None), method = 'BFGS', jac = True).x\n",
    "    min_x = minimize_x(x0, alpha)\n",
    "\n",
    "    dx_dalpha = jax.jacrev(minimize_x, argnums = 1)\n",
    "\n",
    "    grad = dx_dalpha(x0, alpha)\n",
    "\n",
    "    print(min_x, grad)\n",
    "    \n",
    "    return min_x, grad"
   ]
  },
  {
   "cell_type": "code",
   "execution_count": 9,
   "metadata": {},
   "outputs": [
    {
     "name": "stdout",
     "output_type": "stream",
     "text": [
      "x, alpha, f, grad: [0.01] [2.] 1.8402 [-15.96]\n",
      "x, alpha, f, grad: [1.02] [2.] -12.239199999999997 [-11.92]\n",
      "x, alpha, f, grad: [3.40593859] [2.] -29.294182083732935 [-2.37624564]\n",
      "x, alpha, f, grad: [4.] [2.] -30.0 [0.]\n",
      "x, alpha, f, grad: [0.01] Traced<ConcreteArray([2.])>with<JVPTrace(level=2/0)>\n",
      "  with primal = Traced<ConcreteArray([2.]):JaxprTrace(level=1/0)>\n",
      "       tangent = Traced<ShapedArray(float64[1]):JaxprTrace(level=1/0)> Traced<ConcreteArray(1.8402)>with<JVPTrace(level=2/0)>\n",
      "  with primal = DeviceArray(1.8402, dtype=float64)\n",
      "       tangent = Traced<ShapedArray(float64[]):JaxprTrace(level=1/0)> Traced<ConcreteArray([-15.96])>with<JVPTrace(level=2/0)>\n",
      "  with primal = DeviceArray([-15.96], dtype=float64)\n",
      "       tangent = Traced<ShapedArray(float64[1]):JaxprTrace(level=1/0)>\n"
     ]
    },
    {
     "ename": "TracerArrayConversionError",
     "evalue": "The numpy.ndarray conversion method __array__() was called on the JAX Tracer object Traced<ConcreteArray([-15.96])>with<JVPTrace(level=2/0)>\n  with primal = DeviceArray([-15.96], dtype=float64)\n       tangent = Traced<ShapedArray(float64[1]):JaxprTrace(level=1/0)>\nSee https://jax.readthedocs.io/en/latest/errors.html#jax.errors.TracerArrayConversionError",
     "output_type": "error",
     "traceback": [
      "\u001b[0;31m---------------------------------------------------------------------------\u001b[0m",
      "\u001b[0;31mTracerArrayConversionError\u001b[0m                Traceback (most recent call last)",
      "\u001b[0;32m<ipython-input-9-c6fb4b9562a4>\u001b[0m in \u001b[0;36m<module>\u001b[0;34m\u001b[0m\n\u001b[0;32m----> 1\u001b[0;31m \u001b[0mmin_x_with_grad\u001b[0m\u001b[0;34m(\u001b[0m\u001b[0malpha\u001b[0m\u001b[0;34m,\u001b[0m \u001b[0mx0\u001b[0m\u001b[0;34m,\u001b[0m \u001b[0;32mNone\u001b[0m\u001b[0;34m)\u001b[0m\u001b[0;34m\u001b[0m\u001b[0;34m\u001b[0m\u001b[0m\n\u001b[0m",
      "\u001b[0;32m<ipython-input-8-0c6277b09cb3>\u001b[0m in \u001b[0;36mmin_x_with_grad\u001b[0;34m(alpha, x0, beta)\u001b[0m\n\u001b[1;32m      6\u001b[0m     \u001b[0mdx_dalpha\u001b[0m \u001b[0;34m=\u001b[0m \u001b[0mjax\u001b[0m\u001b[0;34m.\u001b[0m\u001b[0mjacrev\u001b[0m\u001b[0;34m(\u001b[0m\u001b[0mminimize_x\u001b[0m\u001b[0;34m,\u001b[0m \u001b[0margnums\u001b[0m \u001b[0;34m=\u001b[0m \u001b[0;36m1\u001b[0m\u001b[0;34m)\u001b[0m\u001b[0;34m\u001b[0m\u001b[0;34m\u001b[0m\u001b[0m\n\u001b[1;32m      7\u001b[0m \u001b[0;34m\u001b[0m\u001b[0m\n\u001b[0;32m----> 8\u001b[0;31m     \u001b[0mgrad\u001b[0m \u001b[0;34m=\u001b[0m \u001b[0mdx_dalpha\u001b[0m\u001b[0;34m(\u001b[0m\u001b[0mx0\u001b[0m\u001b[0;34m,\u001b[0m \u001b[0malpha\u001b[0m\u001b[0;34m)\u001b[0m\u001b[0;34m\u001b[0m\u001b[0;34m\u001b[0m\u001b[0m\n\u001b[0m\u001b[1;32m      9\u001b[0m \u001b[0;34m\u001b[0m\u001b[0m\n\u001b[1;32m     10\u001b[0m     \u001b[0mprint\u001b[0m\u001b[0;34m(\u001b[0m\u001b[0mmin_x\u001b[0m\u001b[0;34m,\u001b[0m \u001b[0mgrad\u001b[0m\u001b[0;34m)\u001b[0m\u001b[0;34m\u001b[0m\u001b[0;34m\u001b[0m\u001b[0m\n",
      "\u001b[0;32m~/.local/lib/python3.6/site-packages/jax/_src/api.py\u001b[0m in \u001b[0;36mjacfun\u001b[0;34m(*args, **kwargs)\u001b[0m\n\u001b[1;32m   1061\u001b[0m     \u001b[0mf_partial\u001b[0m\u001b[0;34m,\u001b[0m \u001b[0mdyn_args\u001b[0m \u001b[0;34m=\u001b[0m \u001b[0margnums_partial\u001b[0m\u001b[0;34m(\u001b[0m\u001b[0mf\u001b[0m\u001b[0;34m,\u001b[0m \u001b[0margnums\u001b[0m\u001b[0;34m,\u001b[0m \u001b[0margs\u001b[0m\u001b[0;34m)\u001b[0m\u001b[0;34m\u001b[0m\u001b[0;34m\u001b[0m\u001b[0m\n\u001b[1;32m   1062\u001b[0m     \u001b[0mtree_map\u001b[0m\u001b[0;34m(\u001b[0m\u001b[0mpartial\u001b[0m\u001b[0;34m(\u001b[0m\u001b[0m_check_input_dtype_jacrev\u001b[0m\u001b[0;34m,\u001b[0m \u001b[0mholomorphic\u001b[0m\u001b[0;34m,\u001b[0m \u001b[0mallow_int\u001b[0m\u001b[0;34m)\u001b[0m\u001b[0;34m,\u001b[0m \u001b[0mdyn_args\u001b[0m\u001b[0;34m)\u001b[0m\u001b[0;34m\u001b[0m\u001b[0;34m\u001b[0m\u001b[0m\n\u001b[0;32m-> 1063\u001b[0;31m     \u001b[0my\u001b[0m\u001b[0;34m,\u001b[0m \u001b[0mpullback\u001b[0m \u001b[0;34m=\u001b[0m \u001b[0m_vjp\u001b[0m\u001b[0;34m(\u001b[0m\u001b[0mf_partial\u001b[0m\u001b[0;34m,\u001b[0m \u001b[0;34m*\u001b[0m\u001b[0mdyn_args\u001b[0m\u001b[0;34m)\u001b[0m\u001b[0;34m\u001b[0m\u001b[0;34m\u001b[0m\u001b[0m\n\u001b[0m\u001b[1;32m   1064\u001b[0m     \u001b[0mtree_map\u001b[0m\u001b[0;34m(\u001b[0m\u001b[0mpartial\u001b[0m\u001b[0;34m(\u001b[0m\u001b[0m_check_output_dtype_jacrev\u001b[0m\u001b[0;34m,\u001b[0m \u001b[0mholomorphic\u001b[0m\u001b[0;34m)\u001b[0m\u001b[0;34m,\u001b[0m \u001b[0my\u001b[0m\u001b[0;34m)\u001b[0m\u001b[0;34m\u001b[0m\u001b[0;34m\u001b[0m\u001b[0m\n\u001b[1;32m   1065\u001b[0m     \u001b[0mjac\u001b[0m \u001b[0;34m=\u001b[0m \u001b[0mvmap\u001b[0m\u001b[0;34m(\u001b[0m\u001b[0mpullback\u001b[0m\u001b[0;34m)\u001b[0m\u001b[0;34m(\u001b[0m\u001b[0m_std_basis\u001b[0m\u001b[0;34m(\u001b[0m\u001b[0my\u001b[0m\u001b[0;34m)\u001b[0m\u001b[0;34m)\u001b[0m\u001b[0;34m\u001b[0m\u001b[0;34m\u001b[0m\u001b[0m\n",
      "\u001b[0;32m~/.local/lib/python3.6/site-packages/jax/_src/api.py\u001b[0m in \u001b[0;36m_vjp\u001b[0;34m(fun, has_aux, reduce_axes, *primals)\u001b[0m\n\u001b[1;32m   1995\u001b[0m     \u001b[0mflat_fun\u001b[0m\u001b[0;34m,\u001b[0m \u001b[0mout_tree\u001b[0m \u001b[0;34m=\u001b[0m \u001b[0mflatten_fun_nokwargs\u001b[0m\u001b[0;34m(\u001b[0m\u001b[0mfun\u001b[0m\u001b[0;34m,\u001b[0m \u001b[0min_tree\u001b[0m\u001b[0;34m)\u001b[0m\u001b[0;34m\u001b[0m\u001b[0;34m\u001b[0m\u001b[0m\n\u001b[1;32m   1996\u001b[0m     out_primal, out_vjp = ad.vjp(\n\u001b[0;32m-> 1997\u001b[0;31m         flat_fun, primals_flat, reduce_axes=reduce_axes)\n\u001b[0m\u001b[1;32m   1998\u001b[0m     \u001b[0mout_tree\u001b[0m \u001b[0;34m=\u001b[0m \u001b[0mout_tree\u001b[0m\u001b[0;34m(\u001b[0m\u001b[0;34m)\u001b[0m\u001b[0;34m\u001b[0m\u001b[0;34m\u001b[0m\u001b[0m\n\u001b[1;32m   1999\u001b[0m   \u001b[0;32melse\u001b[0m\u001b[0;34m:\u001b[0m\u001b[0;34m\u001b[0m\u001b[0;34m\u001b[0m\u001b[0m\n",
      "\u001b[0;32m~/.local/lib/python3.6/site-packages/jax/interpreters/ad.py\u001b[0m in \u001b[0;36mvjp\u001b[0;34m(traceable, primals, has_aux, reduce_axes)\u001b[0m\n\u001b[1;32m    113\u001b[0m \u001b[0;32mdef\u001b[0m \u001b[0mvjp\u001b[0m\u001b[0;34m(\u001b[0m\u001b[0mtraceable\u001b[0m\u001b[0;34m,\u001b[0m \u001b[0mprimals\u001b[0m\u001b[0;34m,\u001b[0m \u001b[0mhas_aux\u001b[0m\u001b[0;34m=\u001b[0m\u001b[0;32mFalse\u001b[0m\u001b[0;34m,\u001b[0m \u001b[0mreduce_axes\u001b[0m\u001b[0;34m=\u001b[0m\u001b[0;34m(\u001b[0m\u001b[0;34m)\u001b[0m\u001b[0;34m)\u001b[0m\u001b[0;34m:\u001b[0m\u001b[0;34m\u001b[0m\u001b[0;34m\u001b[0m\u001b[0m\n\u001b[1;32m    114\u001b[0m   \u001b[0;32mif\u001b[0m \u001b[0;32mnot\u001b[0m \u001b[0mhas_aux\u001b[0m\u001b[0;34m:\u001b[0m\u001b[0;34m\u001b[0m\u001b[0;34m\u001b[0m\u001b[0m\n\u001b[0;32m--> 115\u001b[0;31m     \u001b[0mout_primals\u001b[0m\u001b[0;34m,\u001b[0m \u001b[0mpvals\u001b[0m\u001b[0;34m,\u001b[0m \u001b[0mjaxpr\u001b[0m\u001b[0;34m,\u001b[0m \u001b[0mconsts\u001b[0m \u001b[0;34m=\u001b[0m \u001b[0mlinearize\u001b[0m\u001b[0;34m(\u001b[0m\u001b[0mtraceable\u001b[0m\u001b[0;34m,\u001b[0m \u001b[0;34m*\u001b[0m\u001b[0mprimals\u001b[0m\u001b[0;34m)\u001b[0m\u001b[0;34m\u001b[0m\u001b[0;34m\u001b[0m\u001b[0m\n\u001b[0m\u001b[1;32m    116\u001b[0m   \u001b[0;32melse\u001b[0m\u001b[0;34m:\u001b[0m\u001b[0;34m\u001b[0m\u001b[0;34m\u001b[0m\u001b[0m\n\u001b[1;32m    117\u001b[0m     \u001b[0mout_primals\u001b[0m\u001b[0;34m,\u001b[0m \u001b[0mpvals\u001b[0m\u001b[0;34m,\u001b[0m \u001b[0mjaxpr\u001b[0m\u001b[0;34m,\u001b[0m \u001b[0mconsts\u001b[0m\u001b[0;34m,\u001b[0m \u001b[0maux\u001b[0m \u001b[0;34m=\u001b[0m \u001b[0mlinearize\u001b[0m\u001b[0;34m(\u001b[0m\u001b[0mtraceable\u001b[0m\u001b[0;34m,\u001b[0m \u001b[0;34m*\u001b[0m\u001b[0mprimals\u001b[0m\u001b[0;34m,\u001b[0m \u001b[0mhas_aux\u001b[0m\u001b[0;34m=\u001b[0m\u001b[0;32mTrue\u001b[0m\u001b[0;34m)\u001b[0m\u001b[0;34m\u001b[0m\u001b[0;34m\u001b[0m\u001b[0m\n",
      "\u001b[0;32m~/.local/lib/python3.6/site-packages/jax/interpreters/ad.py\u001b[0m in \u001b[0;36mlinearize\u001b[0;34m(traceable, *primals, **kwargs)\u001b[0m\n\u001b[1;32m    100\u001b[0m   \u001b[0m_\u001b[0m\u001b[0;34m,\u001b[0m \u001b[0min_tree\u001b[0m \u001b[0;34m=\u001b[0m \u001b[0mtree_flatten\u001b[0m\u001b[0;34m(\u001b[0m\u001b[0;34m(\u001b[0m\u001b[0;34m(\u001b[0m\u001b[0mprimals\u001b[0m\u001b[0;34m,\u001b[0m \u001b[0mprimals\u001b[0m\u001b[0;34m)\u001b[0m\u001b[0;34m,\u001b[0m \u001b[0;34m{\u001b[0m\u001b[0;34m}\u001b[0m\u001b[0;34m)\u001b[0m\u001b[0;34m)\u001b[0m\u001b[0;34m\u001b[0m\u001b[0;34m\u001b[0m\u001b[0m\n\u001b[1;32m    101\u001b[0m   \u001b[0mjvpfun_flat\u001b[0m\u001b[0;34m,\u001b[0m \u001b[0mout_tree\u001b[0m \u001b[0;34m=\u001b[0m \u001b[0mflatten_fun\u001b[0m\u001b[0;34m(\u001b[0m\u001b[0mjvpfun\u001b[0m\u001b[0;34m,\u001b[0m \u001b[0min_tree\u001b[0m\u001b[0;34m)\u001b[0m\u001b[0;34m\u001b[0m\u001b[0;34m\u001b[0m\u001b[0m\n\u001b[0;32m--> 102\u001b[0;31m   \u001b[0mjaxpr\u001b[0m\u001b[0;34m,\u001b[0m \u001b[0mout_pvals\u001b[0m\u001b[0;34m,\u001b[0m \u001b[0mconsts\u001b[0m \u001b[0;34m=\u001b[0m \u001b[0mpe\u001b[0m\u001b[0;34m.\u001b[0m\u001b[0mtrace_to_jaxpr\u001b[0m\u001b[0;34m(\u001b[0m\u001b[0mjvpfun_flat\u001b[0m\u001b[0;34m,\u001b[0m \u001b[0min_pvals\u001b[0m\u001b[0;34m)\u001b[0m\u001b[0;34m\u001b[0m\u001b[0;34m\u001b[0m\u001b[0m\n\u001b[0m\u001b[1;32m    103\u001b[0m   \u001b[0mout_primals_pvals\u001b[0m\u001b[0;34m,\u001b[0m \u001b[0mout_tangents_pvals\u001b[0m \u001b[0;34m=\u001b[0m \u001b[0mtree_unflatten\u001b[0m\u001b[0;34m(\u001b[0m\u001b[0mout_tree\u001b[0m\u001b[0;34m(\u001b[0m\u001b[0;34m)\u001b[0m\u001b[0;34m,\u001b[0m \u001b[0mout_pvals\u001b[0m\u001b[0;34m)\u001b[0m\u001b[0;34m\u001b[0m\u001b[0;34m\u001b[0m\u001b[0m\n\u001b[1;32m    104\u001b[0m   \u001b[0;32massert\u001b[0m \u001b[0mall\u001b[0m\u001b[0;34m(\u001b[0m\u001b[0mout_primal_pval\u001b[0m\u001b[0;34m.\u001b[0m\u001b[0mis_known\u001b[0m\u001b[0;34m(\u001b[0m\u001b[0;34m)\u001b[0m \u001b[0;32mfor\u001b[0m \u001b[0mout_primal_pval\u001b[0m \u001b[0;32min\u001b[0m \u001b[0mout_primals_pvals\u001b[0m\u001b[0;34m)\u001b[0m\u001b[0;34m\u001b[0m\u001b[0;34m\u001b[0m\u001b[0m\n",
      "\u001b[0;32m~/.local/lib/python3.6/site-packages/jax/interpreters/partial_eval.py\u001b[0m in \u001b[0;36mtrace_to_jaxpr\u001b[0;34m(fun, pvals, instantiate)\u001b[0m\n\u001b[1;32m    503\u001b[0m   \u001b[0;32mwith\u001b[0m \u001b[0mcore\u001b[0m\u001b[0;34m.\u001b[0m\u001b[0mnew_main\u001b[0m\u001b[0;34m(\u001b[0m\u001b[0mJaxprTrace\u001b[0m\u001b[0;34m)\u001b[0m \u001b[0;32mas\u001b[0m \u001b[0mmain\u001b[0m\u001b[0;34m:\u001b[0m\u001b[0;34m\u001b[0m\u001b[0;34m\u001b[0m\u001b[0m\n\u001b[1;32m    504\u001b[0m     \u001b[0mfun\u001b[0m \u001b[0;34m=\u001b[0m \u001b[0mtrace_to_subjaxpr\u001b[0m\u001b[0;34m(\u001b[0m\u001b[0mfun\u001b[0m\u001b[0;34m,\u001b[0m \u001b[0mmain\u001b[0m\u001b[0;34m,\u001b[0m \u001b[0minstantiate\u001b[0m\u001b[0;34m)\u001b[0m\u001b[0;34m\u001b[0m\u001b[0;34m\u001b[0m\u001b[0m\n\u001b[0;32m--> 505\u001b[0;31m     \u001b[0mjaxpr\u001b[0m\u001b[0;34m,\u001b[0m \u001b[0;34m(\u001b[0m\u001b[0mout_pvals\u001b[0m\u001b[0;34m,\u001b[0m \u001b[0mconsts\u001b[0m\u001b[0;34m,\u001b[0m \u001b[0menv\u001b[0m\u001b[0;34m)\u001b[0m \u001b[0;34m=\u001b[0m \u001b[0mfun\u001b[0m\u001b[0;34m.\u001b[0m\u001b[0mcall_wrapped\u001b[0m\u001b[0;34m(\u001b[0m\u001b[0mpvals\u001b[0m\u001b[0;34m)\u001b[0m\u001b[0;34m\u001b[0m\u001b[0;34m\u001b[0m\u001b[0m\n\u001b[0m\u001b[1;32m    506\u001b[0m     \u001b[0;32massert\u001b[0m \u001b[0;32mnot\u001b[0m \u001b[0menv\u001b[0m\u001b[0;34m\u001b[0m\u001b[0;34m\u001b[0m\u001b[0m\n\u001b[1;32m    507\u001b[0m     \u001b[0;32mdel\u001b[0m \u001b[0mmain\u001b[0m\u001b[0;34m,\u001b[0m \u001b[0mfun\u001b[0m\u001b[0;34m,\u001b[0m \u001b[0menv\u001b[0m\u001b[0;34m\u001b[0m\u001b[0;34m\u001b[0m\u001b[0m\n",
      "\u001b[0;32m~/.local/lib/python3.6/site-packages/jax/linear_util.py\u001b[0m in \u001b[0;36mcall_wrapped\u001b[0;34m(self, *args, **kwargs)\u001b[0m\n\u001b[1;32m    164\u001b[0m \u001b[0;34m\u001b[0m\u001b[0m\n\u001b[1;32m    165\u001b[0m     \u001b[0;32mtry\u001b[0m\u001b[0;34m:\u001b[0m\u001b[0;34m\u001b[0m\u001b[0;34m\u001b[0m\u001b[0m\n\u001b[0;32m--> 166\u001b[0;31m       \u001b[0mans\u001b[0m \u001b[0;34m=\u001b[0m \u001b[0mself\u001b[0m\u001b[0;34m.\u001b[0m\u001b[0mf\u001b[0m\u001b[0;34m(\u001b[0m\u001b[0;34m*\u001b[0m\u001b[0margs\u001b[0m\u001b[0;34m,\u001b[0m \u001b[0;34m**\u001b[0m\u001b[0mdict\u001b[0m\u001b[0;34m(\u001b[0m\u001b[0mself\u001b[0m\u001b[0;34m.\u001b[0m\u001b[0mparams\u001b[0m\u001b[0;34m,\u001b[0m \u001b[0;34m**\u001b[0m\u001b[0mkwargs\u001b[0m\u001b[0;34m)\u001b[0m\u001b[0;34m)\u001b[0m\u001b[0;34m\u001b[0m\u001b[0;34m\u001b[0m\u001b[0m\n\u001b[0m\u001b[1;32m    167\u001b[0m     \u001b[0;32mexcept\u001b[0m\u001b[0;34m:\u001b[0m\u001b[0;34m\u001b[0m\u001b[0;34m\u001b[0m\u001b[0m\n\u001b[1;32m    168\u001b[0m       \u001b[0;31m# Some transformations yield from inside context managers, so we have to\u001b[0m\u001b[0;34m\u001b[0m\u001b[0;34m\u001b[0m\u001b[0;34m\u001b[0m\u001b[0m\n",
      "\u001b[0;32m<ipython-input-8-0c6277b09cb3>\u001b[0m in \u001b[0;36m<lambda>\u001b[0;34m(x0, alpha)\u001b[0m\n\u001b[1;32m      1\u001b[0m \u001b[0;32mdef\u001b[0m \u001b[0mmin_x_with_grad\u001b[0m\u001b[0;34m(\u001b[0m\u001b[0malpha\u001b[0m\u001b[0;34m,\u001b[0m \u001b[0mx0\u001b[0m\u001b[0;34m,\u001b[0m \u001b[0mbeta\u001b[0m\u001b[0;34m)\u001b[0m\u001b[0;34m:\u001b[0m\u001b[0;34m\u001b[0m\u001b[0;34m\u001b[0m\u001b[0m\n\u001b[1;32m      2\u001b[0m \u001b[0;34m\u001b[0m\u001b[0m\n\u001b[0;32m----> 3\u001b[0;31m     \u001b[0mminimize_x\u001b[0m \u001b[0;34m=\u001b[0m \u001b[0;32mlambda\u001b[0m \u001b[0mx0\u001b[0m\u001b[0;34m,\u001b[0m \u001b[0malpha\u001b[0m\u001b[0;34m:\u001b[0m \u001b[0mminimize\u001b[0m\u001b[0;34m(\u001b[0m\u001b[0mmy_func_with_grad\u001b[0m\u001b[0;34m,\u001b[0m \u001b[0mx0\u001b[0m\u001b[0;34m,\u001b[0m \u001b[0margs\u001b[0m \u001b[0;34m=\u001b[0m \u001b[0;34m(\u001b[0m\u001b[0malpha\u001b[0m\u001b[0;34m,\u001b[0m \u001b[0;32mNone\u001b[0m\u001b[0;34m)\u001b[0m\u001b[0;34m,\u001b[0m \u001b[0mmethod\u001b[0m \u001b[0;34m=\u001b[0m \u001b[0;34m'BFGS'\u001b[0m\u001b[0;34m,\u001b[0m \u001b[0mjac\u001b[0m \u001b[0;34m=\u001b[0m \u001b[0;32mTrue\u001b[0m\u001b[0;34m)\u001b[0m\u001b[0;34m.\u001b[0m\u001b[0mx\u001b[0m\u001b[0;34m\u001b[0m\u001b[0;34m\u001b[0m\u001b[0m\n\u001b[0m\u001b[1;32m      4\u001b[0m     \u001b[0mmin_x\u001b[0m \u001b[0;34m=\u001b[0m \u001b[0mminimize_x\u001b[0m\u001b[0;34m(\u001b[0m\u001b[0mx0\u001b[0m\u001b[0;34m,\u001b[0m \u001b[0malpha\u001b[0m\u001b[0;34m)\u001b[0m\u001b[0;34m\u001b[0m\u001b[0;34m\u001b[0m\u001b[0m\n\u001b[1;32m      5\u001b[0m \u001b[0;34m\u001b[0m\u001b[0m\n",
      "\u001b[0;32m~/.local/lib/python3.6/site-packages/scipy/optimize/_minimize.py\u001b[0m in \u001b[0;36mminimize\u001b[0;34m(fun, x0, args, method, jac, hess, hessp, bounds, constraints, tol, callback, options)\u001b[0m\n\u001b[1;32m    610\u001b[0m         \u001b[0;32mreturn\u001b[0m \u001b[0m_minimize_cg\u001b[0m\u001b[0;34m(\u001b[0m\u001b[0mfun\u001b[0m\u001b[0;34m,\u001b[0m \u001b[0mx0\u001b[0m\u001b[0;34m,\u001b[0m \u001b[0margs\u001b[0m\u001b[0;34m,\u001b[0m \u001b[0mjac\u001b[0m\u001b[0;34m,\u001b[0m \u001b[0mcallback\u001b[0m\u001b[0;34m,\u001b[0m \u001b[0;34m**\u001b[0m\u001b[0moptions\u001b[0m\u001b[0;34m)\u001b[0m\u001b[0;34m\u001b[0m\u001b[0;34m\u001b[0m\u001b[0m\n\u001b[1;32m    611\u001b[0m     \u001b[0;32melif\u001b[0m \u001b[0mmeth\u001b[0m \u001b[0;34m==\u001b[0m \u001b[0;34m'bfgs'\u001b[0m\u001b[0;34m:\u001b[0m\u001b[0;34m\u001b[0m\u001b[0;34m\u001b[0m\u001b[0m\n\u001b[0;32m--> 612\u001b[0;31m         \u001b[0;32mreturn\u001b[0m \u001b[0m_minimize_bfgs\u001b[0m\u001b[0;34m(\u001b[0m\u001b[0mfun\u001b[0m\u001b[0;34m,\u001b[0m \u001b[0mx0\u001b[0m\u001b[0;34m,\u001b[0m \u001b[0margs\u001b[0m\u001b[0;34m,\u001b[0m \u001b[0mjac\u001b[0m\u001b[0;34m,\u001b[0m \u001b[0mcallback\u001b[0m\u001b[0;34m,\u001b[0m \u001b[0;34m**\u001b[0m\u001b[0moptions\u001b[0m\u001b[0;34m)\u001b[0m\u001b[0;34m\u001b[0m\u001b[0;34m\u001b[0m\u001b[0m\n\u001b[0m\u001b[1;32m    613\u001b[0m     \u001b[0;32melif\u001b[0m \u001b[0mmeth\u001b[0m \u001b[0;34m==\u001b[0m \u001b[0;34m'newton-cg'\u001b[0m\u001b[0;34m:\u001b[0m\u001b[0;34m\u001b[0m\u001b[0;34m\u001b[0m\u001b[0m\n\u001b[1;32m    614\u001b[0m         return _minimize_newtoncg(fun, x0, args, jac, hess, hessp, callback,\n",
      "\u001b[0;32m~/.local/lib/python3.6/site-packages/scipy/optimize/optimize.py\u001b[0m in \u001b[0;36m_minimize_bfgs\u001b[0;34m(fun, x0, args, jac, callback, gtol, norm, eps, maxiter, disp, return_all, finite_diff_rel_step, **unknown_options)\u001b[0m\n\u001b[1;32m   1100\u001b[0m \u001b[0;34m\u001b[0m\u001b[0m\n\u001b[1;32m   1101\u001b[0m     sf = _prepare_scalar_function(fun, x0, jac, args=args, epsilon=eps,\n\u001b[0;32m-> 1102\u001b[0;31m                                   finite_diff_rel_step=finite_diff_rel_step)\n\u001b[0m\u001b[1;32m   1103\u001b[0m \u001b[0;34m\u001b[0m\u001b[0m\n\u001b[1;32m   1104\u001b[0m     \u001b[0mf\u001b[0m \u001b[0;34m=\u001b[0m \u001b[0msf\u001b[0m\u001b[0;34m.\u001b[0m\u001b[0mfun\u001b[0m\u001b[0;34m\u001b[0m\u001b[0;34m\u001b[0m\u001b[0m\n",
      "\u001b[0;32m~/.local/lib/python3.6/site-packages/scipy/optimize/optimize.py\u001b[0m in \u001b[0;36m_prepare_scalar_function\u001b[0;34m(fun, x0, jac, args, bounds, epsilon, finite_diff_rel_step, hess)\u001b[0m\n\u001b[1;32m    260\u001b[0m     \u001b[0;31m# calculation reduces overall function evaluations.\u001b[0m\u001b[0;34m\u001b[0m\u001b[0;34m\u001b[0m\u001b[0;34m\u001b[0m\u001b[0m\n\u001b[1;32m    261\u001b[0m     sf = ScalarFunction(fun, x0, args, grad, hess,\n\u001b[0;32m--> 262\u001b[0;31m                         finite_diff_rel_step, bounds, epsilon=epsilon)\n\u001b[0m\u001b[1;32m    263\u001b[0m \u001b[0;34m\u001b[0m\u001b[0m\n\u001b[1;32m    264\u001b[0m     \u001b[0;32mreturn\u001b[0m \u001b[0msf\u001b[0m\u001b[0;34m\u001b[0m\u001b[0;34m\u001b[0m\u001b[0m\n",
      "\u001b[0;32m~/.local/lib/python3.6/site-packages/scipy/optimize/_differentiable_functions.py\u001b[0m in \u001b[0;36m__init__\u001b[0;34m(self, fun, x0, args, grad, hess, finite_diff_rel_step, finite_diff_bounds, epsilon)\u001b[0m\n\u001b[1;32m     93\u001b[0m \u001b[0;34m\u001b[0m\u001b[0m\n\u001b[1;32m     94\u001b[0m         \u001b[0mself\u001b[0m\u001b[0;34m.\u001b[0m\u001b[0m_update_grad_impl\u001b[0m \u001b[0;34m=\u001b[0m \u001b[0mupdate_grad\u001b[0m\u001b[0;34m\u001b[0m\u001b[0;34m\u001b[0m\u001b[0m\n\u001b[0;32m---> 95\u001b[0;31m         \u001b[0mself\u001b[0m\u001b[0;34m.\u001b[0m\u001b[0m_update_grad\u001b[0m\u001b[0;34m(\u001b[0m\u001b[0;34m)\u001b[0m\u001b[0;34m\u001b[0m\u001b[0;34m\u001b[0m\u001b[0m\n\u001b[0m\u001b[1;32m     96\u001b[0m \u001b[0;34m\u001b[0m\u001b[0m\n\u001b[1;32m     97\u001b[0m         \u001b[0;31m# Hessian Evaluation\u001b[0m\u001b[0;34m\u001b[0m\u001b[0;34m\u001b[0m\u001b[0;34m\u001b[0m\u001b[0m\n",
      "\u001b[0;32m~/.local/lib/python3.6/site-packages/scipy/optimize/_differentiable_functions.py\u001b[0m in \u001b[0;36m_update_grad\u001b[0;34m(self)\u001b[0m\n\u001b[1;32m    169\u001b[0m     \u001b[0;32mdef\u001b[0m \u001b[0m_update_grad\u001b[0m\u001b[0;34m(\u001b[0m\u001b[0mself\u001b[0m\u001b[0;34m)\u001b[0m\u001b[0;34m:\u001b[0m\u001b[0;34m\u001b[0m\u001b[0;34m\u001b[0m\u001b[0m\n\u001b[1;32m    170\u001b[0m         \u001b[0;32mif\u001b[0m \u001b[0;32mnot\u001b[0m \u001b[0mself\u001b[0m\u001b[0;34m.\u001b[0m\u001b[0mg_updated\u001b[0m\u001b[0;34m:\u001b[0m\u001b[0;34m\u001b[0m\u001b[0;34m\u001b[0m\u001b[0m\n\u001b[0;32m--> 171\u001b[0;31m             \u001b[0mself\u001b[0m\u001b[0;34m.\u001b[0m\u001b[0m_update_grad_impl\u001b[0m\u001b[0;34m(\u001b[0m\u001b[0;34m)\u001b[0m\u001b[0;34m\u001b[0m\u001b[0;34m\u001b[0m\u001b[0m\n\u001b[0m\u001b[1;32m    172\u001b[0m             \u001b[0mself\u001b[0m\u001b[0;34m.\u001b[0m\u001b[0mg_updated\u001b[0m \u001b[0;34m=\u001b[0m \u001b[0;32mTrue\u001b[0m\u001b[0;34m\u001b[0m\u001b[0;34m\u001b[0m\u001b[0m\n\u001b[1;32m    173\u001b[0m \u001b[0;34m\u001b[0m\u001b[0m\n",
      "\u001b[0;32m~/.local/lib/python3.6/site-packages/scipy/optimize/_differentiable_functions.py\u001b[0m in \u001b[0;36mupdate_grad\u001b[0;34m()\u001b[0m\n\u001b[1;32m     83\u001b[0m \u001b[0;34m\u001b[0m\u001b[0m\n\u001b[1;32m     84\u001b[0m             \u001b[0;32mdef\u001b[0m \u001b[0mupdate_grad\u001b[0m\u001b[0;34m(\u001b[0m\u001b[0;34m)\u001b[0m\u001b[0;34m:\u001b[0m\u001b[0;34m\u001b[0m\u001b[0;34m\u001b[0m\u001b[0m\n\u001b[0;32m---> 85\u001b[0;31m                 \u001b[0mself\u001b[0m\u001b[0;34m.\u001b[0m\u001b[0mg\u001b[0m \u001b[0;34m=\u001b[0m \u001b[0mgrad_wrapped\u001b[0m\u001b[0;34m(\u001b[0m\u001b[0mself\u001b[0m\u001b[0;34m.\u001b[0m\u001b[0mx\u001b[0m\u001b[0;34m)\u001b[0m\u001b[0;34m\u001b[0m\u001b[0;34m\u001b[0m\u001b[0m\n\u001b[0m\u001b[1;32m     86\u001b[0m \u001b[0;34m\u001b[0m\u001b[0m\n\u001b[1;32m     87\u001b[0m         \u001b[0;32melif\u001b[0m \u001b[0mgrad\u001b[0m \u001b[0;32min\u001b[0m \u001b[0mFD_METHODS\u001b[0m\u001b[0;34m:\u001b[0m\u001b[0;34m\u001b[0m\u001b[0;34m\u001b[0m\u001b[0m\n",
      "\u001b[0;32m~/.local/lib/python3.6/site-packages/scipy/optimize/_differentiable_functions.py\u001b[0m in \u001b[0;36mgrad_wrapped\u001b[0;34m(x)\u001b[0m\n\u001b[1;32m     80\u001b[0m             \u001b[0;32mdef\u001b[0m \u001b[0mgrad_wrapped\u001b[0m\u001b[0;34m(\u001b[0m\u001b[0mx\u001b[0m\u001b[0;34m)\u001b[0m\u001b[0;34m:\u001b[0m\u001b[0;34m\u001b[0m\u001b[0;34m\u001b[0m\u001b[0m\n\u001b[1;32m     81\u001b[0m                 \u001b[0mself\u001b[0m\u001b[0;34m.\u001b[0m\u001b[0mngev\u001b[0m \u001b[0;34m+=\u001b[0m \u001b[0;36m1\u001b[0m\u001b[0;34m\u001b[0m\u001b[0;34m\u001b[0m\u001b[0m\n\u001b[0;32m---> 82\u001b[0;31m                 \u001b[0;32mreturn\u001b[0m \u001b[0mnp\u001b[0m\u001b[0;34m.\u001b[0m\u001b[0matleast_1d\u001b[0m\u001b[0;34m(\u001b[0m\u001b[0mgrad\u001b[0m\u001b[0;34m(\u001b[0m\u001b[0mx\u001b[0m\u001b[0;34m,\u001b[0m \u001b[0;34m*\u001b[0m\u001b[0margs\u001b[0m\u001b[0;34m)\u001b[0m\u001b[0;34m)\u001b[0m\u001b[0;34m\u001b[0m\u001b[0;34m\u001b[0m\u001b[0m\n\u001b[0m\u001b[1;32m     83\u001b[0m \u001b[0;34m\u001b[0m\u001b[0m\n\u001b[1;32m     84\u001b[0m             \u001b[0;32mdef\u001b[0m \u001b[0mupdate_grad\u001b[0m\u001b[0;34m(\u001b[0m\u001b[0;34m)\u001b[0m\u001b[0;34m:\u001b[0m\u001b[0;34m\u001b[0m\u001b[0;34m\u001b[0m\u001b[0m\n",
      "\u001b[0;32m<__array_function__ internals>\u001b[0m in \u001b[0;36matleast_1d\u001b[0;34m(*args, **kwargs)\u001b[0m\n",
      "\u001b[0;32m~/.local/lib/python3.6/site-packages/numpy/core/shape_base.py\u001b[0m in \u001b[0;36matleast_1d\u001b[0;34m(*arys)\u001b[0m\n\u001b[1;32m     64\u001b[0m     \u001b[0mres\u001b[0m \u001b[0;34m=\u001b[0m \u001b[0;34m[\u001b[0m\u001b[0;34m]\u001b[0m\u001b[0;34m\u001b[0m\u001b[0;34m\u001b[0m\u001b[0m\n\u001b[1;32m     65\u001b[0m     \u001b[0;32mfor\u001b[0m \u001b[0mary\u001b[0m \u001b[0;32min\u001b[0m \u001b[0marys\u001b[0m\u001b[0;34m:\u001b[0m\u001b[0;34m\u001b[0m\u001b[0;34m\u001b[0m\u001b[0m\n\u001b[0;32m---> 66\u001b[0;31m         \u001b[0mary\u001b[0m \u001b[0;34m=\u001b[0m \u001b[0masanyarray\u001b[0m\u001b[0;34m(\u001b[0m\u001b[0mary\u001b[0m\u001b[0;34m)\u001b[0m\u001b[0;34m\u001b[0m\u001b[0;34m\u001b[0m\u001b[0m\n\u001b[0m\u001b[1;32m     67\u001b[0m         \u001b[0;32mif\u001b[0m \u001b[0mary\u001b[0m\u001b[0;34m.\u001b[0m\u001b[0mndim\u001b[0m \u001b[0;34m==\u001b[0m \u001b[0;36m0\u001b[0m\u001b[0;34m:\u001b[0m\u001b[0;34m\u001b[0m\u001b[0;34m\u001b[0m\u001b[0m\n\u001b[1;32m     68\u001b[0m             \u001b[0mresult\u001b[0m \u001b[0;34m=\u001b[0m \u001b[0mary\u001b[0m\u001b[0;34m.\u001b[0m\u001b[0mreshape\u001b[0m\u001b[0;34m(\u001b[0m\u001b[0;36m1\u001b[0m\u001b[0;34m)\u001b[0m\u001b[0;34m\u001b[0m\u001b[0;34m\u001b[0m\u001b[0m\n",
      "\u001b[0;32m~/.local/lib/python3.6/site-packages/numpy/core/_asarray.py\u001b[0m in \u001b[0;36masanyarray\u001b[0;34m(a, dtype, order)\u001b[0m\n\u001b[1;32m    134\u001b[0m \u001b[0;34m\u001b[0m\u001b[0m\n\u001b[1;32m    135\u001b[0m     \"\"\"\n\u001b[0;32m--> 136\u001b[0;31m     \u001b[0;32mreturn\u001b[0m \u001b[0marray\u001b[0m\u001b[0;34m(\u001b[0m\u001b[0ma\u001b[0m\u001b[0;34m,\u001b[0m \u001b[0mdtype\u001b[0m\u001b[0;34m,\u001b[0m \u001b[0mcopy\u001b[0m\u001b[0;34m=\u001b[0m\u001b[0;32mFalse\u001b[0m\u001b[0;34m,\u001b[0m \u001b[0morder\u001b[0m\u001b[0;34m=\u001b[0m\u001b[0morder\u001b[0m\u001b[0;34m,\u001b[0m \u001b[0msubok\u001b[0m\u001b[0;34m=\u001b[0m\u001b[0;32mTrue\u001b[0m\u001b[0;34m)\u001b[0m\u001b[0;34m\u001b[0m\u001b[0;34m\u001b[0m\u001b[0m\n\u001b[0m\u001b[1;32m    137\u001b[0m \u001b[0;34m\u001b[0m\u001b[0m\n\u001b[1;32m    138\u001b[0m \u001b[0;34m\u001b[0m\u001b[0m\n",
      "\u001b[0;32m~/.local/lib/python3.6/site-packages/jax/core.py\u001b[0m in \u001b[0;36m__array__\u001b[0;34m(self, *args, **kw)\u001b[0m\n\u001b[1;32m    467\u001b[0m \u001b[0;34m\u001b[0m\u001b[0m\n\u001b[1;32m    468\u001b[0m   \u001b[0;32mdef\u001b[0m \u001b[0m__array__\u001b[0m\u001b[0;34m(\u001b[0m\u001b[0mself\u001b[0m\u001b[0;34m,\u001b[0m \u001b[0;34m*\u001b[0m\u001b[0margs\u001b[0m\u001b[0;34m,\u001b[0m \u001b[0;34m**\u001b[0m\u001b[0mkw\u001b[0m\u001b[0;34m)\u001b[0m\u001b[0;34m:\u001b[0m\u001b[0;34m\u001b[0m\u001b[0;34m\u001b[0m\u001b[0m\n\u001b[0;32m--> 469\u001b[0;31m     \u001b[0;32mraise\u001b[0m \u001b[0mTracerArrayConversionError\u001b[0m\u001b[0;34m(\u001b[0m\u001b[0mself\u001b[0m\u001b[0;34m)\u001b[0m\u001b[0;34m\u001b[0m\u001b[0;34m\u001b[0m\u001b[0m\n\u001b[0m\u001b[1;32m    470\u001b[0m \u001b[0;34m\u001b[0m\u001b[0m\n\u001b[1;32m    471\u001b[0m   \u001b[0;32mdef\u001b[0m \u001b[0m__index__\u001b[0m\u001b[0;34m(\u001b[0m\u001b[0mself\u001b[0m\u001b[0;34m)\u001b[0m\u001b[0;34m:\u001b[0m\u001b[0;34m\u001b[0m\u001b[0;34m\u001b[0m\u001b[0m\n",
      "\u001b[0;31mTracerArrayConversionError\u001b[0m: The numpy.ndarray conversion method __array__() was called on the JAX Tracer object Traced<ConcreteArray([-15.96])>with<JVPTrace(level=2/0)>\n  with primal = DeviceArray([-15.96], dtype=float64)\n       tangent = Traced<ShapedArray(float64[1]):JaxprTrace(level=1/0)>\nSee https://jax.readthedocs.io/en/latest/errors.html#jax.errors.TracerArrayConversionError"
     ]
    }
   ],
   "source": [
    "min_x_with_grad(alpha, x0, None)"
   ]
  },
  {
   "cell_type": "code",
   "execution_count": 5,
   "metadata": {},
   "outputs": [],
   "source": [
    "def minimize_x(alpha, x0, beta):\n",
    "    # mini = minimize(my_func_with_grad, x0, args = (alpha, None), method = 'BFGS', jac = True)\n",
    "    mini_x = jax_minimize(func, x0, args = (alpha, None), method = 'BFGS').x\n",
    "\n",
    "    # gradient = jax.jacfwd(mini_x, argnums = 1)\n",
    "    # grad = gradient(x0, alpha, beta)\n",
    "\n",
    "    print(mini_x)\n",
    "    return mini_x"
   ]
  },
  {
   "cell_type": "code",
   "execution_count": 6,
   "metadata": {},
   "outputs": [],
   "source": [
    "# print(minimize_x(alpha, x0, None))\n",
    "\n",
    "gradient = jax.jacfwd(minimize_x, argnums = 0)\n",
    "# gradient(alpha, x0, None)"
   ]
  },
  {
   "cell_type": "code",
   "execution_count": 13,
   "metadata": {},
   "outputs": [
    {
     "name": "stdout",
     "output_type": "stream",
     "text": [
      "Traced<ConcreteArray([4.84])>with<JVPTrace(level=2/0)>\n",
      "  with primal = DeviceArray([4.84], dtype=float64)\n",
      "       tangent = Traced<ShapedArray(float64[1])>with<BatchTrace(level=1/0)>\n",
      "                   with val = DeviceArray([[4.4]], dtype=float64)\n",
      "                        batch_dim = 0\n"
     ]
    },
    {
     "data": {
      "text/plain": [
       "DeviceArray([[4.4]], dtype=float64)"
      ]
     },
     "execution_count": 13,
     "metadata": {},
     "output_type": "execute_result"
    }
   ],
   "source": [
    "alpha0 = np.array([2.2])\n",
    "x0 = np.array([0.1])\n",
    "\n",
    "gradient(alpha0, x0, None)"
   ]
  },
  {
   "cell_type": "code",
   "execution_count": 19,
   "metadata": {},
   "outputs": [
    {
     "name": "stdout",
     "output_type": "stream",
     "text": [
      "[2.2]\n",
      "[4.84]\n",
      "[4.84]\n",
      "Traced<ConcreteArray([4.84])>with<JVPTrace(level=2/0)>\n",
      "  with primal = DeviceArray([4.84], dtype=float64)\n",
      "       tangent = Traced<ShapedArray(float64[1])>with<BatchTrace(level=1/0)>\n",
      "                   with val = DeviceArray([[4.4]], dtype=float64)\n",
      "                        batch_dim = 0\n",
      "[[4.4]]\n",
      "Traced<ConcreteArray([4.84])>with<JVPTrace(level=2/0)>\n",
      "  with primal = DeviceArray([4.84], dtype=float64)\n",
      "       tangent = Traced<ShapedArray(float64[1])>with<BatchTrace(level=1/0)>\n",
      "                   with val = DeviceArray([[0.]], dtype=float64)\n",
      "                        batch_dim = 0\n",
      "[[0.]]\n"
     ]
    }
   ],
   "source": [
    "print(alpha0)\n",
    "x = minimize_x(alpha0, x0, None)\n",
    "print(x)\n",
    "\n",
    "print(gradient(alpha0, x0, None))\n",
    "\n",
    "print(gradient(alpha0, x, None))"
   ]
  },
  {
   "cell_type": "code",
   "execution_count": 8,
   "metadata": {},
   "outputs": [
    {
     "name": "stdout",
     "output_type": "stream",
     "text": [
      "Traced<ConcreteArray([4.84])>with<JVPTrace(level=2/0)>\n",
      "  with primal = DeviceArray([4.84], dtype=float64)\n",
      "       tangent = Traced<ShapedArray(float64[1]):JaxprTrace(level=1/0)>\n"
     ]
    },
    {
     "ename": "TypeError",
     "evalue": "Gradient only defined for scalar-output functions. Output had shape: (1,).",
     "output_type": "error",
     "traceback": [
      "\u001b[0;31m---------------------------------------------------------------------------\u001b[0m",
      "\u001b[0;31mUnfilteredStackTrace\u001b[0m                      Traceback (most recent call last)",
      "\u001b[0;32m<ipython-input-8-9e6838914815>\u001b[0m in \u001b[0;36m<module>\u001b[0;34m\u001b[0m\n\u001b[1;32m      2\u001b[0m \u001b[0;34m\u001b[0m\u001b[0m\n\u001b[0;32m----> 3\u001b[0;31m \u001b[0mjax_minimize\u001b[0m\u001b[0;34m(\u001b[0m\u001b[0mminimize_x\u001b[0m\u001b[0;34m,\u001b[0m \u001b[0malpha0\u001b[0m\u001b[0;34m,\u001b[0m \u001b[0margs\u001b[0m \u001b[0;34m=\u001b[0m \u001b[0;34m(\u001b[0m\u001b[0mx0\u001b[0m\u001b[0;34m,\u001b[0m \u001b[0;32mNone\u001b[0m\u001b[0;34m)\u001b[0m\u001b[0;34m,\u001b[0m \u001b[0mmethod\u001b[0m \u001b[0;34m=\u001b[0m \u001b[0;34m'BFGS'\u001b[0m\u001b[0;34m)\u001b[0m\u001b[0;34m\u001b[0m\u001b[0;34m\u001b[0m\u001b[0m\n\u001b[0m",
      "\u001b[0;32m~/.local/lib/python3.6/site-packages/jax/_src/scipy/optimize/minimize.py\u001b[0m in \u001b[0;36mminimize\u001b[0;34m(fun, x0, args, method, tol, options)\u001b[0m\n\u001b[1;32m    102\u001b[0m   \u001b[0;32mif\u001b[0m \u001b[0mmethod\u001b[0m\u001b[0;34m.\u001b[0m\u001b[0mlower\u001b[0m\u001b[0;34m(\u001b[0m\u001b[0;34m)\u001b[0m \u001b[0;34m==\u001b[0m \u001b[0;34m'bfgs'\u001b[0m\u001b[0;34m:\u001b[0m\u001b[0;34m\u001b[0m\u001b[0;34m\u001b[0m\u001b[0m\n\u001b[0;32m--> 103\u001b[0;31m     \u001b[0mresults\u001b[0m \u001b[0;34m=\u001b[0m \u001b[0mminimize_bfgs\u001b[0m\u001b[0;34m(\u001b[0m\u001b[0mfun_with_args\u001b[0m\u001b[0;34m,\u001b[0m \u001b[0mx0\u001b[0m\u001b[0;34m,\u001b[0m \u001b[0;34m**\u001b[0m\u001b[0moptions\u001b[0m\u001b[0;34m)\u001b[0m\u001b[0;34m\u001b[0m\u001b[0;34m\u001b[0m\u001b[0m\n\u001b[0m\u001b[1;32m    104\u001b[0m     \u001b[0msuccess\u001b[0m \u001b[0;34m=\u001b[0m \u001b[0mresults\u001b[0m\u001b[0;34m.\u001b[0m\u001b[0mconverged\u001b[0m \u001b[0;34m&\u001b[0m \u001b[0mjnp\u001b[0m\u001b[0;34m.\u001b[0m\u001b[0mlogical_not\u001b[0m\u001b[0;34m(\u001b[0m\u001b[0mresults\u001b[0m\u001b[0;34m.\u001b[0m\u001b[0mfailed\u001b[0m\u001b[0;34m)\u001b[0m\u001b[0;34m\u001b[0m\u001b[0;34m\u001b[0m\u001b[0m\n",
      "\u001b[0;32m~/.local/lib/python3.6/site-packages/jax/_src/scipy/optimize/bfgs.py\u001b[0m in \u001b[0;36mminimize_bfgs\u001b[0;34m(fun, x0, maxiter, norm, gtol, line_search_maxiter)\u001b[0m\n\u001b[1;32m     99\u001b[0m   \u001b[0minitial_H\u001b[0m \u001b[0;34m=\u001b[0m \u001b[0mjnp\u001b[0m\u001b[0;34m.\u001b[0m\u001b[0meye\u001b[0m\u001b[0;34m(\u001b[0m\u001b[0md\u001b[0m\u001b[0;34m)\u001b[0m\u001b[0;34m\u001b[0m\u001b[0;34m\u001b[0m\u001b[0m\n\u001b[0;32m--> 100\u001b[0;31m   \u001b[0mf_0\u001b[0m\u001b[0;34m,\u001b[0m \u001b[0mg_0\u001b[0m \u001b[0;34m=\u001b[0m \u001b[0mjax\u001b[0m\u001b[0;34m.\u001b[0m\u001b[0mvalue_and_grad\u001b[0m\u001b[0;34m(\u001b[0m\u001b[0mfun\u001b[0m\u001b[0;34m)\u001b[0m\u001b[0;34m(\u001b[0m\u001b[0mx0\u001b[0m\u001b[0;34m)\u001b[0m\u001b[0;34m\u001b[0m\u001b[0;34m\u001b[0m\u001b[0m\n\u001b[0m\u001b[1;32m    101\u001b[0m   state = _BFGSResults(\n",
      "    \u001b[0;31m[... skipping hidden 1 frame]\u001b[0m\n",
      "\u001b[0;32m~/.local/lib/python3.6/site-packages/jax/_src/api.py\u001b[0m in \u001b[0;36mvalue_and_grad_f\u001b[0;34m(*args, **kwargs)\u001b[0m\n\u001b[1;32m    904\u001b[0m           f_partial, *dyn_args, has_aux=True, reduce_axes=reduce_axes)\n\u001b[0;32m--> 905\u001b[0;31m     \u001b[0m_check_scalar\u001b[0m\u001b[0;34m(\u001b[0m\u001b[0mans\u001b[0m\u001b[0;34m)\u001b[0m\u001b[0;34m\u001b[0m\u001b[0;34m\u001b[0m\u001b[0m\n\u001b[0m\u001b[1;32m    906\u001b[0m     \u001b[0mdtype\u001b[0m \u001b[0;34m=\u001b[0m \u001b[0mdtypes\u001b[0m\u001b[0;34m.\u001b[0m\u001b[0mresult_type\u001b[0m\u001b[0;34m(\u001b[0m\u001b[0mans\u001b[0m\u001b[0;34m)\u001b[0m\u001b[0;34m\u001b[0m\u001b[0;34m\u001b[0m\u001b[0m\n",
      "\u001b[0;32m~/.local/lib/python3.6/site-packages/jax/_src/api.py\u001b[0m in \u001b[0;36m_check_scalar\u001b[0;34m(x)\u001b[0m\n\u001b[1;32m    925\u001b[0m       \u001b[0;32mif\u001b[0m \u001b[0maval\u001b[0m\u001b[0;34m.\u001b[0m\u001b[0mshape\u001b[0m \u001b[0;34m!=\u001b[0m \u001b[0;34m(\u001b[0m\u001b[0;34m)\u001b[0m\u001b[0;34m:\u001b[0m\u001b[0;34m\u001b[0m\u001b[0;34m\u001b[0m\u001b[0m\n\u001b[0;32m--> 926\u001b[0;31m         \u001b[0;32mraise\u001b[0m \u001b[0mTypeError\u001b[0m\u001b[0;34m(\u001b[0m\u001b[0mmsg\u001b[0m\u001b[0;34m(\u001b[0m\u001b[0;34mf\"had shape: {aval.shape}\"\u001b[0m\u001b[0;34m)\u001b[0m\u001b[0;34m)\u001b[0m\u001b[0;34m\u001b[0m\u001b[0;34m\u001b[0m\u001b[0m\n\u001b[0m\u001b[1;32m    927\u001b[0m     \u001b[0;32melse\u001b[0m\u001b[0;34m:\u001b[0m\u001b[0;34m\u001b[0m\u001b[0;34m\u001b[0m\u001b[0m\n",
      "\u001b[0;31mUnfilteredStackTrace\u001b[0m: TypeError: Gradient only defined for scalar-output functions. Output had shape: (1,).\n\nThe stack trace below excludes JAX-internal frames.\nThe preceding is the original exception that occurred, unmodified.\n\n--------------------",
      "\nThe above exception was the direct cause of the following exception:\n",
      "\u001b[0;31mTypeError\u001b[0m                                 Traceback (most recent call last)",
      "\u001b[0;32m<ipython-input-8-9e6838914815>\u001b[0m in \u001b[0;36m<module>\u001b[0;34m\u001b[0m\n\u001b[1;32m      1\u001b[0m \u001b[0malpha0\u001b[0m \u001b[0;34m=\u001b[0m \u001b[0mnp\u001b[0m\u001b[0;34m.\u001b[0m\u001b[0marray\u001b[0m\u001b[0;34m(\u001b[0m\u001b[0;34m[\u001b[0m\u001b[0;36m2.2\u001b[0m\u001b[0;34m]\u001b[0m\u001b[0;34m)\u001b[0m\u001b[0;34m\u001b[0m\u001b[0;34m\u001b[0m\u001b[0m\n\u001b[1;32m      2\u001b[0m \u001b[0;34m\u001b[0m\u001b[0m\n\u001b[0;32m----> 3\u001b[0;31m \u001b[0mjax_minimize\u001b[0m\u001b[0;34m(\u001b[0m\u001b[0mminimize_x\u001b[0m\u001b[0;34m,\u001b[0m \u001b[0malpha0\u001b[0m\u001b[0;34m,\u001b[0m \u001b[0margs\u001b[0m \u001b[0;34m=\u001b[0m \u001b[0;34m(\u001b[0m\u001b[0mx0\u001b[0m\u001b[0;34m,\u001b[0m \u001b[0;32mNone\u001b[0m\u001b[0;34m)\u001b[0m\u001b[0;34m,\u001b[0m \u001b[0mmethod\u001b[0m \u001b[0;34m=\u001b[0m \u001b[0;34m'BFGS'\u001b[0m\u001b[0;34m)\u001b[0m\u001b[0;34m\u001b[0m\u001b[0;34m\u001b[0m\u001b[0m\n\u001b[0m",
      "\u001b[0;32m~/.local/lib/python3.6/site-packages/jax/_src/scipy/optimize/minimize.py\u001b[0m in \u001b[0;36mminimize\u001b[0;34m(fun, x0, args, method, tol, options)\u001b[0m\n\u001b[1;32m    101\u001b[0m \u001b[0;34m\u001b[0m\u001b[0m\n\u001b[1;32m    102\u001b[0m   \u001b[0;32mif\u001b[0m \u001b[0mmethod\u001b[0m\u001b[0;34m.\u001b[0m\u001b[0mlower\u001b[0m\u001b[0;34m(\u001b[0m\u001b[0;34m)\u001b[0m \u001b[0;34m==\u001b[0m \u001b[0;34m'bfgs'\u001b[0m\u001b[0;34m:\u001b[0m\u001b[0;34m\u001b[0m\u001b[0;34m\u001b[0m\u001b[0m\n\u001b[0;32m--> 103\u001b[0;31m     \u001b[0mresults\u001b[0m \u001b[0;34m=\u001b[0m \u001b[0mminimize_bfgs\u001b[0m\u001b[0;34m(\u001b[0m\u001b[0mfun_with_args\u001b[0m\u001b[0;34m,\u001b[0m \u001b[0mx0\u001b[0m\u001b[0;34m,\u001b[0m \u001b[0;34m**\u001b[0m\u001b[0moptions\u001b[0m\u001b[0;34m)\u001b[0m\u001b[0;34m\u001b[0m\u001b[0;34m\u001b[0m\u001b[0m\n\u001b[0m\u001b[1;32m    104\u001b[0m     \u001b[0msuccess\u001b[0m \u001b[0;34m=\u001b[0m \u001b[0mresults\u001b[0m\u001b[0;34m.\u001b[0m\u001b[0mconverged\u001b[0m \u001b[0;34m&\u001b[0m \u001b[0mjnp\u001b[0m\u001b[0;34m.\u001b[0m\u001b[0mlogical_not\u001b[0m\u001b[0;34m(\u001b[0m\u001b[0mresults\u001b[0m\u001b[0;34m.\u001b[0m\u001b[0mfailed\u001b[0m\u001b[0;34m)\u001b[0m\u001b[0;34m\u001b[0m\u001b[0;34m\u001b[0m\u001b[0m\n\u001b[1;32m    105\u001b[0m     return OptimizeResults(x=results.x_k,\n",
      "\u001b[0;32m~/.local/lib/python3.6/site-packages/jax/_src/scipy/optimize/bfgs.py\u001b[0m in \u001b[0;36mminimize_bfgs\u001b[0;34m(fun, x0, maxiter, norm, gtol, line_search_maxiter)\u001b[0m\n\u001b[1;32m     98\u001b[0m \u001b[0;34m\u001b[0m\u001b[0m\n\u001b[1;32m     99\u001b[0m   \u001b[0minitial_H\u001b[0m \u001b[0;34m=\u001b[0m \u001b[0mjnp\u001b[0m\u001b[0;34m.\u001b[0m\u001b[0meye\u001b[0m\u001b[0;34m(\u001b[0m\u001b[0md\u001b[0m\u001b[0;34m)\u001b[0m\u001b[0;34m\u001b[0m\u001b[0;34m\u001b[0m\u001b[0m\n\u001b[0;32m--> 100\u001b[0;31m   \u001b[0mf_0\u001b[0m\u001b[0;34m,\u001b[0m \u001b[0mg_0\u001b[0m \u001b[0;34m=\u001b[0m \u001b[0mjax\u001b[0m\u001b[0;34m.\u001b[0m\u001b[0mvalue_and_grad\u001b[0m\u001b[0;34m(\u001b[0m\u001b[0mfun\u001b[0m\u001b[0;34m)\u001b[0m\u001b[0;34m(\u001b[0m\u001b[0mx0\u001b[0m\u001b[0;34m)\u001b[0m\u001b[0;34m\u001b[0m\u001b[0;34m\u001b[0m\u001b[0m\n\u001b[0m\u001b[1;32m    101\u001b[0m   state = _BFGSResults(\n\u001b[1;32m    102\u001b[0m       \u001b[0mconverged\u001b[0m\u001b[0;34m=\u001b[0m\u001b[0mjnp\u001b[0m\u001b[0;34m.\u001b[0m\u001b[0mlinalg\u001b[0m\u001b[0;34m.\u001b[0m\u001b[0mnorm\u001b[0m\u001b[0;34m(\u001b[0m\u001b[0mg_0\u001b[0m\u001b[0;34m,\u001b[0m \u001b[0mord\u001b[0m\u001b[0;34m=\u001b[0m\u001b[0mnorm\u001b[0m\u001b[0;34m)\u001b[0m \u001b[0;34m<\u001b[0m \u001b[0mgtol\u001b[0m\u001b[0;34m,\u001b[0m\u001b[0;34m\u001b[0m\u001b[0;34m\u001b[0m\u001b[0m\n",
      "\u001b[0;32m~/.local/lib/python3.6/site-packages/jax/_src/api.py\u001b[0m in \u001b[0;36m_check_scalar\u001b[0;34m(x)\u001b[0m\n\u001b[1;32m    924\u001b[0m     \u001b[0;32mif\u001b[0m \u001b[0misinstance\u001b[0m\u001b[0;34m(\u001b[0m\u001b[0maval\u001b[0m\u001b[0;34m,\u001b[0m \u001b[0mShapedArray\u001b[0m\u001b[0;34m)\u001b[0m\u001b[0;34m:\u001b[0m\u001b[0;34m\u001b[0m\u001b[0;34m\u001b[0m\u001b[0m\n\u001b[1;32m    925\u001b[0m       \u001b[0;32mif\u001b[0m \u001b[0maval\u001b[0m\u001b[0;34m.\u001b[0m\u001b[0mshape\u001b[0m \u001b[0;34m!=\u001b[0m \u001b[0;34m(\u001b[0m\u001b[0;34m)\u001b[0m\u001b[0;34m:\u001b[0m\u001b[0;34m\u001b[0m\u001b[0;34m\u001b[0m\u001b[0m\n\u001b[0;32m--> 926\u001b[0;31m         \u001b[0;32mraise\u001b[0m \u001b[0mTypeError\u001b[0m\u001b[0;34m(\u001b[0m\u001b[0mmsg\u001b[0m\u001b[0;34m(\u001b[0m\u001b[0;34mf\"had shape: {aval.shape}\"\u001b[0m\u001b[0;34m)\u001b[0m\u001b[0;34m)\u001b[0m\u001b[0;34m\u001b[0m\u001b[0;34m\u001b[0m\u001b[0m\n\u001b[0m\u001b[1;32m    927\u001b[0m     \u001b[0;32melse\u001b[0m\u001b[0;34m:\u001b[0m\u001b[0;34m\u001b[0m\u001b[0;34m\u001b[0m\u001b[0m\n\u001b[1;32m    928\u001b[0m       \u001b[0;32mraise\u001b[0m \u001b[0mTypeError\u001b[0m\u001b[0;34m(\u001b[0m\u001b[0mmsg\u001b[0m\u001b[0;34m(\u001b[0m\u001b[0;34mf\"had abstract value {aval}\"\u001b[0m\u001b[0;34m)\u001b[0m\u001b[0;34m)\u001b[0m\u001b[0;34m\u001b[0m\u001b[0;34m\u001b[0m\u001b[0m\n",
      "\u001b[0;31mTypeError\u001b[0m: Gradient only defined for scalar-output functions. Output had shape: (1,)."
     ]
    }
   ],
   "source": [
    "alpha0 = np.array([2.2])\n",
    "\n",
    "jax_minimize(minimize_x, alpha0, args = (x0, None), method = 'BFGS')"
   ]
  },
  {
   "cell_type": "code",
   "execution_count": 20,
   "metadata": {},
   "outputs": [],
   "source": [
    "def minimize_x_with_grad(alpha, x0, beta):\n",
    "    x = minimize_x(alpha, x0, None)\n",
    "    # gradient = jax.jacfwd(minimize_x, argnums = 0)\n",
    "    grad = gradient(alpha, x0, None)#[0]\n",
    "    print(grad)\n",
    "    return x, grad"
   ]
  },
  {
   "cell_type": "code",
   "execution_count": 21,
   "metadata": {},
   "outputs": [
    {
     "name": "stdout",
     "output_type": "stream",
     "text": [
      "[4.84]\n",
      "Traced<ConcreteArray([4.84])>with<JVPTrace(level=2/0)>\n",
      "  with primal = DeviceArray([4.84], dtype=float64)\n",
      "       tangent = Traced<ShapedArray(float64[1])>with<BatchTrace(level=1/0)>\n",
      "                   with val = DeviceArray([[4.4]], dtype=float64)\n",
      "                        batch_dim = 0\n",
      "[[4.4]]\n"
     ]
    },
    {
     "data": {
      "text/plain": [
       "(DeviceArray([4.84], dtype=float64), DeviceArray([[4.4]], dtype=float64))"
      ]
     },
     "execution_count": 21,
     "metadata": {},
     "output_type": "execute_result"
    }
   ],
   "source": [
    "minimize_x_with_grad(alpha0, x0, None)"
   ]
  },
  {
   "cell_type": "code",
   "execution_count": 29,
   "metadata": {},
   "outputs": [
    {
     "name": "stdout",
     "output_type": "stream",
     "text": [
      "[2.2] [0.01] [2.2]\n",
      "[4.84]\n",
      "[4.84]\n",
      "Traced<ConcreteArray([4.84])>with<JVPTrace(level=2/0)>\n",
      "  with primal = DeviceArray([4.84], dtype=float64)\n",
      "       tangent = Traced<ShapedArray(float64[1])>with<BatchTrace(level=1/0)>\n",
      "                   with val = DeviceArray([[0.]], dtype=float64)\n",
      "                        batch_dim = 0\n",
      "grad:  [0.]\n"
     ]
    }
   ],
   "source": [
    "alpha = alpha0\n",
    "print(alpha0, x0, alpha)\n",
    "\n",
    "x = minimize_x(alpha0, x0, None)\n",
    "print(x)\n",
    "\n",
    "gradient = jax.jacfwd(minimize_x, argnums = 0)\n",
    "\n",
    "alpha = np.array([2.2])\n",
    "grad = gradient(alpha, x, None)[0]\n",
    "print('grad: ',grad)"
   ]
  },
  {
   "cell_type": "code",
   "execution_count": 35,
   "metadata": {},
   "outputs": [
    {
     "name": "stdout",
     "output_type": "stream",
     "text": [
      "Traced<ConcreteArray([4.84])>with<JVPTrace(level=2/0)>\n",
      "  with primal = DeviceArray([4.84], dtype=float64)\n",
      "       tangent = Traced<ShapedArray(float64[1])>with<BatchTrace(level=1/0)>\n",
      "                   with val = DeviceArray([[0.]], dtype=float64)\n",
      "                        batch_dim = 0\n"
     ]
    },
    {
     "data": {
      "text/plain": [
       "DeviceArray([0.], dtype=float64)"
      ]
     },
     "execution_count": 35,
     "metadata": {},
     "output_type": "execute_result"
    }
   ],
   "source": [
    "grad = gradient(np.array([2.2]), x, None)[0]\n",
    "grad"
   ]
  },
  {
   "cell_type": "code",
   "execution_count": 36,
   "metadata": {},
   "outputs": [
    {
     "name": "stdout",
     "output_type": "stream",
     "text": [
      "Traced<ConcreteArray([27.04])>with<JVPTrace(level=2/0)>\n",
      "  with primal = DeviceArray([27.04], dtype=float64)\n",
      "       tangent = Traced<ShapedArray(float64[1])>with<BatchTrace(level=1/0)>\n",
      "                   with val = DeviceArray([[-10.4]], dtype=float64)\n",
      "                        batch_dim = 0\n",
      "Traced<ConcreteArray([17.64])>with<JVPTrace(level=2/0)>\n",
      "  with primal = DeviceArray([17.64], dtype=float64)\n",
      "       tangent = Traced<ShapedArray(float64[1])>with<BatchTrace(level=1/0)>\n",
      "                   with val = DeviceArray([[-8.4]], dtype=float64)\n",
      "                        batch_dim = 0\n",
      "Traced<ConcreteArray([10.24])>with<JVPTrace(level=2/0)>\n",
      "  with primal = DeviceArray([10.24], dtype=float64)\n",
      "       tangent = Traced<ShapedArray(float64[1])>with<BatchTrace(level=1/0)>\n",
      "                   with val = DeviceArray([[-6.4]], dtype=float64)\n",
      "                        batch_dim = 0\n",
      "Traced<ConcreteArray([4.84])>with<JVPTrace(level=2/0)>\n",
      "  with primal = DeviceArray([4.84], dtype=float64)\n",
      "       tangent = Traced<ShapedArray(float64[1])>with<BatchTrace(level=1/0)>\n",
      "                   with val = DeviceArray([[0.]], dtype=float64)\n",
      "                        batch_dim = 0\n",
      "Traced<ConcreteArray([1.44])>with<JVPTrace(level=2/0)>\n",
      "  with primal = DeviceArray([1.44], dtype=float64)\n",
      "       tangent = Traced<ShapedArray(float64[1])>with<BatchTrace(level=1/0)>\n",
      "                   with val = DeviceArray([[-2.4]], dtype=float64)\n",
      "                        batch_dim = 0\n",
      "Traced<ConcreteArray([0.04])>with<JVPTrace(level=2/0)>\n",
      "  with primal = DeviceArray([0.04], dtype=float64)\n",
      "       tangent = Traced<ShapedArray(float64[1])>with<BatchTrace(level=1/0)>\n",
      "                   with val = DeviceArray([[-0.4]], dtype=float64)\n",
      "                        batch_dim = 0\n",
      "Traced<ConcreteArray([0.64])>with<JVPTrace(level=2/0)>\n",
      "  with primal = DeviceArray([0.64], dtype=float64)\n",
      "       tangent = Traced<ShapedArray(float64[1])>with<BatchTrace(level=1/0)>\n",
      "                   with val = DeviceArray([[1.6]], dtype=float64)\n",
      "                        batch_dim = 0\n",
      "Traced<ConcreteArray([3.24])>with<JVPTrace(level=2/0)>\n",
      "  with primal = DeviceArray([3.24], dtype=float64)\n",
      "       tangent = Traced<ShapedArray(float64[1])>with<BatchTrace(level=1/0)>\n",
      "                   with val = DeviceArray([[3.6]], dtype=float64)\n",
      "                        batch_dim = 0\n",
      "Traced<ConcreteArray([7.84])>with<JVPTrace(level=2/0)>\n",
      "  with primal = DeviceArray([7.84], dtype=float64)\n",
      "       tangent = Traced<ShapedArray(float64[1])>with<BatchTrace(level=1/0)>\n",
      "                   with val = DeviceArray([[5.6]], dtype=float64)\n",
      "                        batch_dim = 0\n",
      "Traced<ConcreteArray([14.44])>with<JVPTrace(level=2/0)>\n",
      "  with primal = DeviceArray([14.44], dtype=float64)\n",
      "       tangent = Traced<ShapedArray(float64[1])>with<BatchTrace(level=1/0)>\n",
      "                   with val = DeviceArray([[7.6]], dtype=float64)\n",
      "                        batch_dim = 0\n",
      "Traced<ConcreteArray([23.04])>with<JVPTrace(level=2/0)>\n",
      "  with primal = DeviceArray([23.04], dtype=float64)\n",
      "       tangent = Traced<ShapedArray(float64[1])>with<BatchTrace(level=1/0)>\n",
      "                   with val = DeviceArray([[9.6]], dtype=float64)\n",
      "                        batch_dim = 0\n"
     ]
    },
    {
     "data": {
      "image/png": "[encoded data removed]",
      "text/plain": [
       "<Figure size 432x288 with 1 Axes>"
      ]
     },
     "metadata": {
      "needs_background": "light"
     },
     "output_type": "display_data"
    }
   ],
   "source": [
    "alphas = np.arange(-5.2,5.2,1.0)\n",
    "\n",
    "my_list = []\n",
    "for alpha in alphas:\n",
    "    my_list.append(gradient(np.array([alpha]), x, None)[0])\n",
    "\n",
    "plt.plot(alphas, my_list,'.-')\n",
    "plt.grid()"
   ]
  },
  {
   "cell_type": "code",
   "execution_count": 18,
   "metadata": {},
   "outputs": [
    {
     "name": "stdout",
     "output_type": "stream",
     "text": [
      "[2.25]\n",
      "Traced<ConcreteArray([2.25])>with<JVPTrace(level=2/0)>\n",
      "  with primal = DeviceArray([2.25], dtype=float64)\n",
      "       tangent = Traced<ShapedArray(float64[1])>with<BatchTrace(level=1/0)>\n",
      "                   with val = DeviceArray([[0.]], dtype=float64)\n",
      "                        batch_dim = 0\n",
      "[0.]\n"
     ]
    },
    {
     "data": {
      "text/plain": [
       "(DeviceArray([2.25], dtype=float64), DeviceArray([0.], dtype=float64))"
      ]
     },
     "execution_count": 18,
     "metadata": {},
     "output_type": "execute_result"
    }
   ],
   "source": [
    "minimize_x_with_grad(alpha, x0, None)"
   ]
  },
  {
   "cell_type": "code",
   "execution_count": 16,
   "metadata": {},
   "outputs": [
    {
     "name": "stdout",
     "output_type": "stream",
     "text": [
      "[4.84]\n",
      "Traced<ConcreteArray([4.84])>with<JVPTrace(level=2/0)>\n",
      "  with primal = DeviceArray([4.84], dtype=float64)\n",
      "       tangent = Traced<ShapedArray(float64[1])>with<BatchTrace(level=1/0)>\n",
      "                   with val = DeviceArray([[0.]], dtype=float64)\n",
      "                        batch_dim = 0\n",
      "[0.]\n"
     ]
    },
    {
     "data": {
      "text/plain": [
       "      fun: 4.840000000000001\n",
       " hess_inv: array([[1]])\n",
       "      jac: array([0.])\n",
       "  message: 'Optimization terminated successfully.'\n",
       "     nfev: 1\n",
       "      nit: 0\n",
       "     njev: 1\n",
       "   status: 0\n",
       "  success: True\n",
       "        x: array([2.2])"
      ]
     },
     "execution_count": 16,
     "metadata": {},
     "output_type": "execute_result"
    }
   ],
   "source": [
    "minimize(minimize_x_with_grad, alpha0, args = (x0, None), method = 'BFGS', jac = True)"
   ]
  },
  {
   "cell_type": "code",
   "execution_count": 55,
   "metadata": {},
   "outputs": [
    {
     "name": "stdout",
     "output_type": "stream",
     "text": [
      "[16.]\n",
      "Traced<ConcreteArray([16.])>with<JVPTrace(level=2/0)>\n",
      "  with primal = DeviceArray([16.], dtype=float64)\n",
      "       tangent = Traced<ShapedArray(float64[1])>with<BatchTrace(level=1/0)>\n",
      "                   with val = DeviceArray([[0.]], dtype=float64)\n",
      "                        batch_dim = 0\n"
     ]
    },
    {
     "data": {
      "text/plain": [
       "DeviceArray([[0.]], dtype=float64)"
      ]
     },
     "execution_count": 55,
     "metadata": {},
     "output_type": "execute_result"
    }
   ],
   "source": [
    "x = minimize_x(alpha, x0, None)\n",
    "# gradient = jax.grad(minimize_x, argnums = 0)\n",
    "gradient = jax.jacfwd(minimize_x, argnums = 0)\n",
    "\n",
    "gradient(alpha, x, None)"
   ]
  },
  {
   "cell_type": "code",
   "execution_count": 51,
   "metadata": {},
   "outputs": [
    {
     "name": "stdout",
     "output_type": "stream",
     "text": [
      "[16.]\n",
      "Traced<ConcreteArray([16.])>with<JVPTrace(level=2/0)>\n",
      "  with primal = DeviceArray([16.], dtype=float64)\n",
      "       tangent = Traced<ShapedArray(float64[1])>with<BatchTrace(level=1/0)>\n",
      "                   with val = DeviceArray([[0.]], dtype=float64)\n",
      "                        batch_dim = 0\n",
      "[0.]\n"
     ]
    },
    {
     "data": {
      "text/plain": [
       "(DeviceArray([16.], dtype=float64), DeviceArray([0.], dtype=float64))"
      ]
     },
     "execution_count": 51,
     "metadata": {},
     "output_type": "execute_result"
    }
   ],
   "source": [
    "alpha = np.array([4.0])\n",
    "minimize_x_with_grad(alpha, x0, None)"
   ]
  },
  {
   "cell_type": "code",
   "execution_count": 48,
   "metadata": {},
   "outputs": [
    {
     "name": "stdout",
     "output_type": "stream",
     "text": [
      "[25.]\n",
      "Traced<ConcreteArray([25.])>with<JVPTrace(level=2/0)>\n",
      "  with primal = DeviceArray([25.], dtype=float64)\n",
      "       tangent = Traced<ShapedArray(float64[1])>with<BatchTrace(level=1/0)>\n",
      "                   with val = DeviceArray([[0.]], dtype=float64)\n",
      "                        batch_dim = 0\n",
      "[0.]\n",
      "[20.25]\n",
      "Traced<ConcreteArray([20.25])>with<JVPTrace(level=2/0)>\n",
      "  with primal = DeviceArray([20.25], dtype=float64)\n",
      "       tangent = Traced<ShapedArray(float64[1])>with<BatchTrace(level=1/0)>\n",
      "                   with val = DeviceArray([[0.]], dtype=float64)\n",
      "                        batch_dim = 0\n",
      "[0.]\n",
      "[16.]\n",
      "Traced<ConcreteArray([16.])>with<JVPTrace(level=2/0)>\n",
      "  with primal = DeviceArray([16.], dtype=float64)\n",
      "       tangent = Traced<ShapedArray(float64[1])>with<BatchTrace(level=1/0)>\n",
      "                   with val = DeviceArray([[0.]], dtype=float64)\n",
      "                        batch_dim = 0\n",
      "[0.]\n",
      "[12.25]\n",
      "Traced<ConcreteArray([12.25])>with<JVPTrace(level=2/0)>\n",
      "  with primal = DeviceArray([12.25], dtype=float64)\n",
      "       tangent = Traced<ShapedArray(float64[1])>with<BatchTrace(level=1/0)>\n",
      "                   with val = DeviceArray([[0.]], dtype=float64)\n",
      "                        batch_dim = 0\n",
      "[0.]\n",
      "[9.]\n",
      "Traced<ConcreteArray([9.])>with<JVPTrace(level=2/0)>\n",
      "  with primal = DeviceArray([9.], dtype=float64)\n",
      "       tangent = Traced<ShapedArray(float64[1])>with<BatchTrace(level=1/0)>\n",
      "                   with val = DeviceArray([[0.]], dtype=float64)\n",
      "                        batch_dim = 0\n",
      "[0.]\n",
      "[6.25]\n",
      "Traced<ConcreteArray([6.25])>with<JVPTrace(level=2/0)>\n",
      "  with primal = DeviceArray([6.25], dtype=float64)\n",
      "       tangent = Traced<ShapedArray(float64[1])>with<BatchTrace(level=1/0)>\n",
      "                   with val = DeviceArray([[0.]], dtype=float64)\n",
      "                        batch_dim = 0\n",
      "[0.]\n",
      "[4.]\n",
      "Traced<ConcreteArray([4.])>with<JVPTrace(level=2/0)>\n",
      "  with primal = DeviceArray([4.], dtype=float64)\n",
      "       tangent = Traced<ShapedArray(float64[1])>with<BatchTrace(level=1/0)>\n",
      "                   with val = DeviceArray([[0.]], dtype=float64)\n",
      "                        batch_dim = 0\n",
      "[0.]\n",
      "[2.25]\n",
      "Traced<ConcreteArray([2.25])>with<JVPTrace(level=2/0)>\n",
      "  with primal = DeviceArray([2.25], dtype=float64)\n",
      "       tangent = Traced<ShapedArray(float64[1])>with<BatchTrace(level=1/0)>\n",
      "                   with val = DeviceArray([[0.]], dtype=float64)\n",
      "                        batch_dim = 0\n",
      "[0.]\n",
      "[1.]\n",
      "Traced<ConcreteArray([1.])>with<JVPTrace(level=2/0)>\n",
      "  with primal = DeviceArray([1.], dtype=float64)\n",
      "       tangent = Traced<ShapedArray(float64[1])>with<BatchTrace(level=1/0)>\n",
      "                   with val = DeviceArray([[0.]], dtype=float64)\n",
      "                        batch_dim = 0\n",
      "[0.]\n",
      "[0.25]\n",
      "Traced<ConcreteArray([0.25])>with<JVPTrace(level=2/0)>\n",
      "  with primal = DeviceArray([0.25], dtype=float64)\n",
      "       tangent = Traced<ShapedArray(float64[1])>with<BatchTrace(level=1/0)>\n",
      "                   with val = DeviceArray([[0.]], dtype=float64)\n",
      "                        batch_dim = 0\n",
      "[0.]\n",
      "[0.01]\n",
      "Traced<ConcreteArray([0.01])>with<JVPTrace(level=2/0)>\n",
      "  with primal = DeviceArray([0.01], dtype=float64)\n",
      "       tangent = Traced<ShapedArray(float64[1])>with<BatchTrace(level=1/0)>\n",
      "                   with val = DeviceArray([[0.]], dtype=float64)\n",
      "                        batch_dim = 0\n",
      "[0.]\n",
      "[0.25]\n",
      "Traced<ConcreteArray([0.25])>with<JVPTrace(level=2/0)>\n",
      "  with primal = DeviceArray([0.25], dtype=float64)\n",
      "       tangent = Traced<ShapedArray(float64[1])>with<BatchTrace(level=1/0)>\n",
      "                   with val = DeviceArray([[0.]], dtype=float64)\n",
      "                        batch_dim = 0\n",
      "[0.]\n",
      "[1.]\n",
      "Traced<ConcreteArray([1.])>with<JVPTrace(level=2/0)>\n",
      "  with primal = DeviceArray([1.], dtype=float64)\n",
      "       tangent = Traced<ShapedArray(float64[1])>with<BatchTrace(level=1/0)>\n",
      "                   with val = DeviceArray([[0.]], dtype=float64)\n",
      "                        batch_dim = 0\n",
      "[0.]\n",
      "[2.25]\n",
      "Traced<ConcreteArray([2.25])>with<JVPTrace(level=2/0)>\n",
      "  with primal = DeviceArray([2.25], dtype=float64)\n",
      "       tangent = Traced<ShapedArray(float64[1])>with<BatchTrace(level=1/0)>\n",
      "                   with val = DeviceArray([[0.]], dtype=float64)\n",
      "                        batch_dim = 0\n",
      "[0.]\n",
      "[4.]\n",
      "Traced<ConcreteArray([4.])>with<JVPTrace(level=2/0)>\n",
      "  with primal = DeviceArray([4.], dtype=float64)\n",
      "       tangent = Traced<ShapedArray(float64[1])>with<BatchTrace(level=1/0)>\n",
      "                   with val = DeviceArray([[0.]], dtype=float64)\n",
      "                        batch_dim = 0\n",
      "[0.]\n",
      "[6.25]\n",
      "Traced<ConcreteArray([6.25])>with<JVPTrace(level=2/0)>\n",
      "  with primal = DeviceArray([6.25], dtype=float64)\n",
      "       tangent = Traced<ShapedArray(float64[1])>with<BatchTrace(level=1/0)>\n",
      "                   with val = DeviceArray([[0.]], dtype=float64)\n",
      "                        batch_dim = 0\n",
      "[0.]\n",
      "[9.]\n",
      "Traced<ConcreteArray([9.])>with<JVPTrace(level=2/0)>\n",
      "  with primal = DeviceArray([9.], dtype=float64)\n",
      "       tangent = Traced<ShapedArray(float64[1])>with<BatchTrace(level=1/0)>\n",
      "                   with val = DeviceArray([[0.]], dtype=float64)\n",
      "                        batch_dim = 0\n",
      "[0.]\n",
      "[12.25]\n",
      "Traced<ConcreteArray([12.25])>with<JVPTrace(level=2/0)>\n",
      "  with primal = DeviceArray([12.25], dtype=float64)\n",
      "       tangent = Traced<ShapedArray(float64[1])>with<BatchTrace(level=1/0)>\n",
      "                   with val = DeviceArray([[0.]], dtype=float64)\n",
      "                        batch_dim = 0\n",
      "[0.]\n",
      "[16.]\n",
      "Traced<ConcreteArray([16.])>with<JVPTrace(level=2/0)>\n",
      "  with primal = DeviceArray([16.], dtype=float64)\n",
      "       tangent = Traced<ShapedArray(float64[1])>with<BatchTrace(level=1/0)>\n",
      "                   with val = DeviceArray([[0.]], dtype=float64)\n",
      "                        batch_dim = 0\n",
      "[0.]\n",
      "[20.25]\n",
      "Traced<ConcreteArray([20.25])>with<JVPTrace(level=2/0)>\n",
      "  with primal = DeviceArray([20.25], dtype=float64)\n",
      "       tangent = Traced<ShapedArray(float64[1])>with<BatchTrace(level=1/0)>\n",
      "                   with val = DeviceArray([[0.]], dtype=float64)\n",
      "                        batch_dim = 0\n",
      "[0.]\n"
     ]
    },
    {
     "data": {
      "text/plain": [
       "[<matplotlib.lines.Line2D at 0x7fa72d6eb4e0>]"
      ]
     },
     "execution_count": 48,
     "metadata": {},
     "output_type": "execute_result"
    },
    {
     "data": {
      "image/png": "[encoded data removed]",
      "text/plain": [
       "<Figure size 432x288 with 1 Axes>"
      ]
     },
     "metadata": {
      "needs_background": "light"
     },
     "output_type": "display_data"
    }
   ],
   "source": [
    "alphas = np.arange(-5,5,0.5)\n",
    "\n",
    "xs = []\n",
    "for alpha in alphas:\n",
    "    xs.append(minimize_x_with_grad(np.array([alpha]), x0, None)[0])\n",
    "\n",
    "plt.plot(alphas,xs,'.-')"
   ]
  },
  {
   "cell_type": "code",
   "execution_count": 45,
   "metadata": {},
   "outputs": [
    {
     "name": "stdout",
     "output_type": "stream",
     "text": [
      "[4.]\n",
      "Traced<ConcreteArray([4.])>with<JVPTrace(level=2/0)>\n",
      "  with primal = DeviceArray([4.], dtype=float64)\n",
      "       tangent = Traced<ShapedArray(float64[1])>with<BatchTrace(level=1/0)>\n",
      "                   with val = DeviceArray([[0.]], dtype=float64)\n",
      "                        batch_dim = 0\n",
      "[0.]\n"
     ]
    }
   ],
   "source": [
    "mini = minimize(minimize_x_with_grad, alpha, args =(x0, None), method = 'BFGS', jac = True)"
   ]
  },
  {
   "cell_type": "code",
   "execution_count": 46,
   "metadata": {},
   "outputs": [
    {
     "data": {
      "text/plain": [
       "      fun: 4.0\n",
       " hess_inv: array([[1]])\n",
       "      jac: array([0.])\n",
       "  message: 'Optimization terminated successfully.'\n",
       "     nfev: 1\n",
       "      nit: 0\n",
       "     njev: 1\n",
       "   status: 0\n",
       "  success: True\n",
       "        x: array([2.])"
      ]
     },
     "execution_count": 46,
     "metadata": {},
     "output_type": "execute_result"
    }
   ],
   "source": [
    "mini"
   ]
  },
  {
   "cell_type": "code",
   "execution_count": 16,
   "metadata": {},
   "outputs": [
    {
     "ename": "KeyboardInterrupt",
     "evalue": "",
     "output_type": "error",
     "traceback": [
      "\u001b[0;31m---------------------------------------------------------------------------\u001b[0m",
      "\u001b[0;31mKeyboardInterrupt\u001b[0m                         Traceback (most recent call last)",
      "\u001b[0;32m<ipython-input-16-b686da235816>\u001b[0m in \u001b[0;36m<module>\u001b[0;34m\u001b[0m\n\u001b[0;32m----> 1\u001b[0;31m \u001b[0mminimize\u001b[0m\u001b[0;34m(\u001b[0m\u001b[0mminimize_x\u001b[0m\u001b[0;34m,\u001b[0m \u001b[0malpha\u001b[0m\u001b[0;34m,\u001b[0m \u001b[0margs\u001b[0m \u001b[0;34m=\u001b[0m\u001b[0;34m(\u001b[0m\u001b[0mx0\u001b[0m\u001b[0;34m,\u001b[0m \u001b[0;32mNone\u001b[0m\u001b[0;34m)\u001b[0m\u001b[0;34m,\u001b[0m \u001b[0mmethod\u001b[0m \u001b[0;34m=\u001b[0m \u001b[0;34m'BFGS'\u001b[0m\u001b[0;34m,\u001b[0m \u001b[0mjac\u001b[0m \u001b[0;34m=\u001b[0m \u001b[0;32mTrue\u001b[0m\u001b[0;34m)\u001b[0m\u001b[0;34m\u001b[0m\u001b[0;34m\u001b[0m\u001b[0m\n\u001b[0m",
      "\u001b[0;32m~/.local/lib/python3.6/site-packages/scipy/optimize/_minimize.py\u001b[0m in \u001b[0;36mminimize\u001b[0;34m(fun, x0, args, method, jac, hess, hessp, bounds, constraints, tol, callback, options)\u001b[0m\n\u001b[1;32m    610\u001b[0m         \u001b[0;32mreturn\u001b[0m \u001b[0m_minimize_cg\u001b[0m\u001b[0;34m(\u001b[0m\u001b[0mfun\u001b[0m\u001b[0;34m,\u001b[0m \u001b[0mx0\u001b[0m\u001b[0;34m,\u001b[0m \u001b[0margs\u001b[0m\u001b[0;34m,\u001b[0m \u001b[0mjac\u001b[0m\u001b[0;34m,\u001b[0m \u001b[0mcallback\u001b[0m\u001b[0;34m,\u001b[0m \u001b[0;34m**\u001b[0m\u001b[0moptions\u001b[0m\u001b[0;34m)\u001b[0m\u001b[0;34m\u001b[0m\u001b[0;34m\u001b[0m\u001b[0m\n\u001b[1;32m    611\u001b[0m     \u001b[0;32melif\u001b[0m \u001b[0mmeth\u001b[0m \u001b[0;34m==\u001b[0m \u001b[0;34m'bfgs'\u001b[0m\u001b[0;34m:\u001b[0m\u001b[0;34m\u001b[0m\u001b[0;34m\u001b[0m\u001b[0m\n\u001b[0;32m--> 612\u001b[0;31m         \u001b[0;32mreturn\u001b[0m \u001b[0m_minimize_bfgs\u001b[0m\u001b[0;34m(\u001b[0m\u001b[0mfun\u001b[0m\u001b[0;34m,\u001b[0m \u001b[0mx0\u001b[0m\u001b[0;34m,\u001b[0m \u001b[0margs\u001b[0m\u001b[0;34m,\u001b[0m \u001b[0mjac\u001b[0m\u001b[0;34m,\u001b[0m \u001b[0mcallback\u001b[0m\u001b[0;34m,\u001b[0m \u001b[0;34m**\u001b[0m\u001b[0moptions\u001b[0m\u001b[0;34m)\u001b[0m\u001b[0;34m\u001b[0m\u001b[0;34m\u001b[0m\u001b[0m\n\u001b[0m\u001b[1;32m    613\u001b[0m     \u001b[0;32melif\u001b[0m \u001b[0mmeth\u001b[0m \u001b[0;34m==\u001b[0m \u001b[0;34m'newton-cg'\u001b[0m\u001b[0;34m:\u001b[0m\u001b[0;34m\u001b[0m\u001b[0;34m\u001b[0m\u001b[0m\n\u001b[1;32m    614\u001b[0m         return _minimize_newtoncg(fun, x0, args, jac, hess, hessp, callback,\n",
      "\u001b[0;32m~/.local/lib/python3.6/site-packages/scipy/optimize/optimize.py\u001b[0m in \u001b[0;36m_minimize_bfgs\u001b[0;34m(fun, x0, args, jac, callback, gtol, norm, eps, maxiter, disp, return_all, finite_diff_rel_step, **unknown_options)\u001b[0m\n\u001b[1;32m   1100\u001b[0m \u001b[0;34m\u001b[0m\u001b[0m\n\u001b[1;32m   1101\u001b[0m     sf = _prepare_scalar_function(fun, x0, jac, args=args, epsilon=eps,\n\u001b[0;32m-> 1102\u001b[0;31m                                   finite_diff_rel_step=finite_diff_rel_step)\n\u001b[0m\u001b[1;32m   1103\u001b[0m \u001b[0;34m\u001b[0m\u001b[0m\n\u001b[1;32m   1104\u001b[0m     \u001b[0mf\u001b[0m \u001b[0;34m=\u001b[0m \u001b[0msf\u001b[0m\u001b[0;34m.\u001b[0m\u001b[0mfun\u001b[0m\u001b[0;34m\u001b[0m\u001b[0;34m\u001b[0m\u001b[0m\n",
      "\u001b[0;32m~/.local/lib/python3.6/site-packages/scipy/optimize/optimize.py\u001b[0m in \u001b[0;36m_prepare_scalar_function\u001b[0;34m(fun, x0, jac, args, bounds, epsilon, finite_diff_rel_step, hess)\u001b[0m\n\u001b[1;32m    260\u001b[0m     \u001b[0;31m# calculation reduces overall function evaluations.\u001b[0m\u001b[0;34m\u001b[0m\u001b[0;34m\u001b[0m\u001b[0;34m\u001b[0m\u001b[0m\n\u001b[1;32m    261\u001b[0m     sf = ScalarFunction(fun, x0, args, grad, hess,\n\u001b[0;32m--> 262\u001b[0;31m                         finite_diff_rel_step, bounds, epsilon=epsilon)\n\u001b[0m\u001b[1;32m    263\u001b[0m \u001b[0;34m\u001b[0m\u001b[0m\n\u001b[1;32m    264\u001b[0m     \u001b[0;32mreturn\u001b[0m \u001b[0msf\u001b[0m\u001b[0;34m\u001b[0m\u001b[0;34m\u001b[0m\u001b[0m\n",
      "\u001b[0;32m~/.local/lib/python3.6/site-packages/scipy/optimize/_differentiable_functions.py\u001b[0m in \u001b[0;36m__init__\u001b[0;34m(self, fun, x0, args, grad, hess, finite_diff_rel_step, finite_diff_bounds, epsilon)\u001b[0m\n\u001b[1;32m     74\u001b[0m \u001b[0;34m\u001b[0m\u001b[0m\n\u001b[1;32m     75\u001b[0m         \u001b[0mself\u001b[0m\u001b[0;34m.\u001b[0m\u001b[0m_update_fun_impl\u001b[0m \u001b[0;34m=\u001b[0m \u001b[0mupdate_fun\u001b[0m\u001b[0;34m\u001b[0m\u001b[0;34m\u001b[0m\u001b[0m\n\u001b[0;32m---> 76\u001b[0;31m         \u001b[0mself\u001b[0m\u001b[0;34m.\u001b[0m\u001b[0m_update_fun\u001b[0m\u001b[0;34m(\u001b[0m\u001b[0;34m)\u001b[0m\u001b[0;34m\u001b[0m\u001b[0;34m\u001b[0m\u001b[0m\n\u001b[0m\u001b[1;32m     77\u001b[0m \u001b[0;34m\u001b[0m\u001b[0m\n\u001b[1;32m     78\u001b[0m         \u001b[0;31m# Gradient evaluation\u001b[0m\u001b[0;34m\u001b[0m\u001b[0;34m\u001b[0m\u001b[0;34m\u001b[0m\u001b[0m\n",
      "\u001b[0;32m~/.local/lib/python3.6/site-packages/scipy/optimize/_differentiable_functions.py\u001b[0m in \u001b[0;36m_update_fun\u001b[0;34m(self)\u001b[0m\n\u001b[1;32m    164\u001b[0m     \u001b[0;32mdef\u001b[0m \u001b[0m_update_fun\u001b[0m\u001b[0;34m(\u001b[0m\u001b[0mself\u001b[0m\u001b[0;34m)\u001b[0m\u001b[0;34m:\u001b[0m\u001b[0;34m\u001b[0m\u001b[0;34m\u001b[0m\u001b[0m\n\u001b[1;32m    165\u001b[0m         \u001b[0;32mif\u001b[0m \u001b[0;32mnot\u001b[0m \u001b[0mself\u001b[0m\u001b[0;34m.\u001b[0m\u001b[0mf_updated\u001b[0m\u001b[0;34m:\u001b[0m\u001b[0;34m\u001b[0m\u001b[0;34m\u001b[0m\u001b[0m\n\u001b[0;32m--> 166\u001b[0;31m             \u001b[0mself\u001b[0m\u001b[0;34m.\u001b[0m\u001b[0m_update_fun_impl\u001b[0m\u001b[0;34m(\u001b[0m\u001b[0;34m)\u001b[0m\u001b[0;34m\u001b[0m\u001b[0;34m\u001b[0m\u001b[0m\n\u001b[0m\u001b[1;32m    167\u001b[0m             \u001b[0mself\u001b[0m\u001b[0;34m.\u001b[0m\u001b[0mf_updated\u001b[0m \u001b[0;34m=\u001b[0m \u001b[0;32mTrue\u001b[0m\u001b[0;34m\u001b[0m\u001b[0;34m\u001b[0m\u001b[0m\n\u001b[1;32m    168\u001b[0m \u001b[0;34m\u001b[0m\u001b[0m\n",
      "\u001b[0;32m~/.local/lib/python3.6/site-packages/scipy/optimize/_differentiable_functions.py\u001b[0m in \u001b[0;36mupdate_fun\u001b[0;34m()\u001b[0m\n\u001b[1;32m     71\u001b[0m \u001b[0;34m\u001b[0m\u001b[0m\n\u001b[1;32m     72\u001b[0m         \u001b[0;32mdef\u001b[0m \u001b[0mupdate_fun\u001b[0m\u001b[0;34m(\u001b[0m\u001b[0;34m)\u001b[0m\u001b[0;34m:\u001b[0m\u001b[0;34m\u001b[0m\u001b[0;34m\u001b[0m\u001b[0m\n\u001b[0;32m---> 73\u001b[0;31m             \u001b[0mself\u001b[0m\u001b[0;34m.\u001b[0m\u001b[0mf\u001b[0m \u001b[0;34m=\u001b[0m \u001b[0mfun_wrapped\u001b[0m\u001b[0;34m(\u001b[0m\u001b[0mself\u001b[0m\u001b[0;34m.\u001b[0m\u001b[0mx\u001b[0m\u001b[0;34m)\u001b[0m\u001b[0;34m\u001b[0m\u001b[0;34m\u001b[0m\u001b[0m\n\u001b[0m\u001b[1;32m     74\u001b[0m \u001b[0;34m\u001b[0m\u001b[0m\n\u001b[1;32m     75\u001b[0m         \u001b[0mself\u001b[0m\u001b[0;34m.\u001b[0m\u001b[0m_update_fun_impl\u001b[0m \u001b[0;34m=\u001b[0m \u001b[0mupdate_fun\u001b[0m\u001b[0;34m\u001b[0m\u001b[0;34m\u001b[0m\u001b[0m\n",
      "\u001b[0;32m~/.local/lib/python3.6/site-packages/scipy/optimize/_differentiable_functions.py\u001b[0m in \u001b[0;36mfun_wrapped\u001b[0;34m(x)\u001b[0m\n\u001b[1;32m     68\u001b[0m         \u001b[0;32mdef\u001b[0m \u001b[0mfun_wrapped\u001b[0m\u001b[0;34m(\u001b[0m\u001b[0mx\u001b[0m\u001b[0;34m)\u001b[0m\u001b[0;34m:\u001b[0m\u001b[0;34m\u001b[0m\u001b[0;34m\u001b[0m\u001b[0m\n\u001b[1;32m     69\u001b[0m             \u001b[0mself\u001b[0m\u001b[0;34m.\u001b[0m\u001b[0mnfev\u001b[0m \u001b[0;34m+=\u001b[0m \u001b[0;36m1\u001b[0m\u001b[0;34m\u001b[0m\u001b[0;34m\u001b[0m\u001b[0m\n\u001b[0;32m---> 70\u001b[0;31m             \u001b[0;32mreturn\u001b[0m \u001b[0mfun\u001b[0m\u001b[0;34m(\u001b[0m\u001b[0mx\u001b[0m\u001b[0;34m,\u001b[0m \u001b[0;34m*\u001b[0m\u001b[0margs\u001b[0m\u001b[0;34m)\u001b[0m\u001b[0;34m\u001b[0m\u001b[0;34m\u001b[0m\u001b[0m\n\u001b[0m\u001b[1;32m     71\u001b[0m \u001b[0;34m\u001b[0m\u001b[0m\n\u001b[1;32m     72\u001b[0m         \u001b[0;32mdef\u001b[0m \u001b[0mupdate_fun\u001b[0m\u001b[0;34m(\u001b[0m\u001b[0;34m)\u001b[0m\u001b[0;34m:\u001b[0m\u001b[0;34m\u001b[0m\u001b[0;34m\u001b[0m\u001b[0m\n",
      "\u001b[0;32m~/.local/lib/python3.6/site-packages/scipy/optimize/optimize.py\u001b[0m in \u001b[0;36m__call__\u001b[0;34m(self, x, *args)\u001b[0m\n\u001b[1;32m     72\u001b[0m     \u001b[0;32mdef\u001b[0m \u001b[0m__call__\u001b[0m\u001b[0;34m(\u001b[0m\u001b[0mself\u001b[0m\u001b[0;34m,\u001b[0m \u001b[0mx\u001b[0m\u001b[0;34m,\u001b[0m \u001b[0;34m*\u001b[0m\u001b[0margs\u001b[0m\u001b[0;34m)\u001b[0m\u001b[0;34m:\u001b[0m\u001b[0;34m\u001b[0m\u001b[0;34m\u001b[0m\u001b[0m\n\u001b[1;32m     73\u001b[0m         \u001b[0;34m\"\"\" returns the the function value \"\"\"\u001b[0m\u001b[0;34m\u001b[0m\u001b[0;34m\u001b[0m\u001b[0m\n\u001b[0;32m---> 74\u001b[0;31m         \u001b[0mself\u001b[0m\u001b[0;34m.\u001b[0m\u001b[0m_compute_if_needed\u001b[0m\u001b[0;34m(\u001b[0m\u001b[0mx\u001b[0m\u001b[0;34m,\u001b[0m \u001b[0;34m*\u001b[0m\u001b[0margs\u001b[0m\u001b[0;34m)\u001b[0m\u001b[0;34m\u001b[0m\u001b[0;34m\u001b[0m\u001b[0m\n\u001b[0m\u001b[1;32m     75\u001b[0m         \u001b[0;32mreturn\u001b[0m \u001b[0mself\u001b[0m\u001b[0;34m.\u001b[0m\u001b[0m_value\u001b[0m\u001b[0;34m\u001b[0m\u001b[0;34m\u001b[0m\u001b[0m\n\u001b[1;32m     76\u001b[0m \u001b[0;34m\u001b[0m\u001b[0m\n",
      "\u001b[0;32m~/.local/lib/python3.6/site-packages/scipy/optimize/optimize.py\u001b[0m in \u001b[0;36m_compute_if_needed\u001b[0;34m(self, x, *args)\u001b[0m\n\u001b[1;32m     66\u001b[0m         \u001b[0;32mif\u001b[0m \u001b[0;32mnot\u001b[0m \u001b[0mnp\u001b[0m\u001b[0;34m.\u001b[0m\u001b[0mall\u001b[0m\u001b[0;34m(\u001b[0m\u001b[0mx\u001b[0m \u001b[0;34m==\u001b[0m \u001b[0mself\u001b[0m\u001b[0;34m.\u001b[0m\u001b[0mx\u001b[0m\u001b[0;34m)\u001b[0m \u001b[0;32mor\u001b[0m \u001b[0mself\u001b[0m\u001b[0;34m.\u001b[0m\u001b[0m_value\u001b[0m \u001b[0;32mis\u001b[0m \u001b[0;32mNone\u001b[0m \u001b[0;32mor\u001b[0m \u001b[0mself\u001b[0m\u001b[0;34m.\u001b[0m\u001b[0mjac\u001b[0m \u001b[0;32mis\u001b[0m \u001b[0;32mNone\u001b[0m\u001b[0;34m:\u001b[0m\u001b[0;34m\u001b[0m\u001b[0;34m\u001b[0m\u001b[0m\n\u001b[1;32m     67\u001b[0m             \u001b[0mself\u001b[0m\u001b[0;34m.\u001b[0m\u001b[0mx\u001b[0m \u001b[0;34m=\u001b[0m \u001b[0mnp\u001b[0m\u001b[0;34m.\u001b[0m\u001b[0masarray\u001b[0m\u001b[0;34m(\u001b[0m\u001b[0mx\u001b[0m\u001b[0;34m)\u001b[0m\u001b[0;34m.\u001b[0m\u001b[0mcopy\u001b[0m\u001b[0;34m(\u001b[0m\u001b[0;34m)\u001b[0m\u001b[0;34m\u001b[0m\u001b[0;34m\u001b[0m\u001b[0m\n\u001b[0;32m---> 68\u001b[0;31m             \u001b[0mfg\u001b[0m \u001b[0;34m=\u001b[0m \u001b[0mself\u001b[0m\u001b[0;34m.\u001b[0m\u001b[0mfun\u001b[0m\u001b[0;34m(\u001b[0m\u001b[0mx\u001b[0m\u001b[0;34m,\u001b[0m \u001b[0;34m*\u001b[0m\u001b[0margs\u001b[0m\u001b[0;34m)\u001b[0m\u001b[0;34m\u001b[0m\u001b[0;34m\u001b[0m\u001b[0m\n\u001b[0m\u001b[1;32m     69\u001b[0m             \u001b[0mself\u001b[0m\u001b[0;34m.\u001b[0m\u001b[0mjac\u001b[0m \u001b[0;34m=\u001b[0m \u001b[0mfg\u001b[0m\u001b[0;34m[\u001b[0m\u001b[0;36m1\u001b[0m\u001b[0;34m]\u001b[0m\u001b[0;34m\u001b[0m\u001b[0;34m\u001b[0m\u001b[0m\n\u001b[1;32m     70\u001b[0m             \u001b[0mself\u001b[0m\u001b[0;34m.\u001b[0m\u001b[0m_value\u001b[0m \u001b[0;34m=\u001b[0m \u001b[0mfg\u001b[0m\u001b[0;34m[\u001b[0m\u001b[0;36m0\u001b[0m\u001b[0;34m]\u001b[0m\u001b[0;34m\u001b[0m\u001b[0;34m\u001b[0m\u001b[0m\n",
      "\u001b[0;32m<ipython-input-13-dc9bdf77c4ce>\u001b[0m in \u001b[0;36mminimize_x\u001b[0;34m(alpha, x0, beta)\u001b[0m\n\u001b[1;32m      4\u001b[0m \u001b[0;34m\u001b[0m\u001b[0m\n\u001b[1;32m      5\u001b[0m     \u001b[0mgradient\u001b[0m \u001b[0;34m=\u001b[0m \u001b[0mjax\u001b[0m\u001b[0;34m.\u001b[0m\u001b[0mjacfwd\u001b[0m\u001b[0;34m(\u001b[0m\u001b[0mminimize_x\u001b[0m\u001b[0;34m,\u001b[0m \u001b[0margnums\u001b[0m \u001b[0;34m=\u001b[0m \u001b[0;36m0\u001b[0m\u001b[0;34m)\u001b[0m\u001b[0;34m\u001b[0m\u001b[0;34m\u001b[0m\u001b[0m\n\u001b[0;32m----> 6\u001b[0;31m     \u001b[0mgrad\u001b[0m \u001b[0;34m=\u001b[0m \u001b[0mgradient\u001b[0m\u001b[0;34m(\u001b[0m\u001b[0malpha\u001b[0m\u001b[0;34m,\u001b[0m \u001b[0mx0\u001b[0m\u001b[0;34m,\u001b[0m \u001b[0mbeta\u001b[0m\u001b[0;34m)\u001b[0m\u001b[0;34m\u001b[0m\u001b[0;34m\u001b[0m\u001b[0m\n\u001b[0m\u001b[1;32m      7\u001b[0m     \u001b[0mprint\u001b[0m\u001b[0;34m(\u001b[0m\u001b[0mmini\u001b[0m\u001b[0;34m.\u001b[0m\u001b[0mx\u001b[0m\u001b[0;34m)\u001b[0m\u001b[0;34m\u001b[0m\u001b[0;34m\u001b[0m\u001b[0m\n\u001b[1;32m      8\u001b[0m     \u001b[0;32mreturn\u001b[0m \u001b[0mmini\u001b[0m\u001b[0;34m.\u001b[0m\u001b[0mx\u001b[0m\u001b[0;34m,\u001b[0m \u001b[0mgrad\u001b[0m\u001b[0;34m\u001b[0m\u001b[0;34m\u001b[0m\u001b[0m\n",
      "\u001b[0;32m~/.local/lib/python3.6/site-packages/jax/_src/api.py\u001b[0m in \u001b[0;36mjacfun\u001b[0;34m(*args, **kwargs)\u001b[0m\n\u001b[1;32m    994\u001b[0m     \u001b[0mtree_map\u001b[0m\u001b[0;34m(\u001b[0m\u001b[0mpartial\u001b[0m\u001b[0;34m(\u001b[0m\u001b[0m_check_input_dtype_jacfwd\u001b[0m\u001b[0;34m,\u001b[0m \u001b[0mholomorphic\u001b[0m\u001b[0;34m)\u001b[0m\u001b[0;34m,\u001b[0m \u001b[0mdyn_args\u001b[0m\u001b[0;34m)\u001b[0m\u001b[0;34m\u001b[0m\u001b[0;34m\u001b[0m\u001b[0m\n\u001b[1;32m    995\u001b[0m     \u001b[0mpushfwd\u001b[0m \u001b[0;34m=\u001b[0m \u001b[0mpartial\u001b[0m\u001b[0;34m(\u001b[0m\u001b[0m_jvp\u001b[0m\u001b[0;34m,\u001b[0m \u001b[0mf_partial\u001b[0m\u001b[0;34m,\u001b[0m \u001b[0mdyn_args\u001b[0m\u001b[0;34m)\u001b[0m\u001b[0;34m\u001b[0m\u001b[0;34m\u001b[0m\u001b[0m\n\u001b[0;32m--> 996\u001b[0;31m     \u001b[0my\u001b[0m\u001b[0;34m,\u001b[0m \u001b[0mjac\u001b[0m \u001b[0;34m=\u001b[0m \u001b[0mvmap\u001b[0m\u001b[0;34m(\u001b[0m\u001b[0mpushfwd\u001b[0m\u001b[0;34m,\u001b[0m \u001b[0mout_axes\u001b[0m\u001b[0;34m=\u001b[0m\u001b[0;34m(\u001b[0m\u001b[0;32mNone\u001b[0m\u001b[0;34m,\u001b[0m \u001b[0;34m-\u001b[0m\u001b[0;36m1\u001b[0m\u001b[0;34m)\u001b[0m\u001b[0;34m)\u001b[0m\u001b[0;34m(\u001b[0m\u001b[0m_std_basis\u001b[0m\u001b[0;34m(\u001b[0m\u001b[0mdyn_args\u001b[0m\u001b[0;34m)\u001b[0m\u001b[0;34m)\u001b[0m\u001b[0;34m\u001b[0m\u001b[0;34m\u001b[0m\u001b[0m\n\u001b[0m\u001b[1;32m    997\u001b[0m     \u001b[0mtree_map\u001b[0m\u001b[0;34m(\u001b[0m\u001b[0mpartial\u001b[0m\u001b[0;34m(\u001b[0m\u001b[0m_check_output_dtype_jacfwd\u001b[0m\u001b[0;34m,\u001b[0m \u001b[0mholomorphic\u001b[0m\u001b[0;34m)\u001b[0m\u001b[0;34m,\u001b[0m \u001b[0my\u001b[0m\u001b[0;34m)\u001b[0m\u001b[0;34m\u001b[0m\u001b[0;34m\u001b[0m\u001b[0m\n\u001b[1;32m    998\u001b[0m     \u001b[0mexample_args\u001b[0m \u001b[0;34m=\u001b[0m \u001b[0mdyn_args\u001b[0m\u001b[0;34m[\u001b[0m\u001b[0;36m0\u001b[0m\u001b[0;34m]\u001b[0m \u001b[0;32mif\u001b[0m \u001b[0misinstance\u001b[0m\u001b[0;34m(\u001b[0m\u001b[0margnums\u001b[0m\u001b[0;34m,\u001b[0m \u001b[0mint\u001b[0m\u001b[0;34m)\u001b[0m \u001b[0;32melse\u001b[0m \u001b[0mdyn_args\u001b[0m\u001b[0;34m\u001b[0m\u001b[0;34m\u001b[0m\u001b[0m\n",
      "    \u001b[0;31m[... skipping hidden 1 frame]\u001b[0m\n",
      "\u001b[0;32m~/.local/lib/python3.6/site-packages/jax/_src/api.py\u001b[0m in \u001b[0;36mbatched_fun\u001b[0;34m(*args, **kwargs)\u001b[0m\n\u001b[1;32m   1315\u001b[0m         \u001b[0mflat_fun\u001b[0m\u001b[0;34m,\u001b[0m \u001b[0maxis_name\u001b[0m\u001b[0;34m,\u001b[0m \u001b[0maxis_size\u001b[0m\u001b[0;34m,\u001b[0m \u001b[0min_axes_flat\u001b[0m\u001b[0;34m,\u001b[0m\u001b[0;34m\u001b[0m\u001b[0;34m\u001b[0m\u001b[0m\n\u001b[1;32m   1316\u001b[0m         \u001b[0;32mlambda\u001b[0m\u001b[0;34m:\u001b[0m \u001b[0mflatten_axes\u001b[0m\u001b[0;34m(\u001b[0m\u001b[0;34m\"vmap out_axes\"\u001b[0m\u001b[0;34m,\u001b[0m \u001b[0mout_tree\u001b[0m\u001b[0;34m(\u001b[0m\u001b[0;34m)\u001b[0m\u001b[0;34m,\u001b[0m \u001b[0mout_axes\u001b[0m\u001b[0;34m)\u001b[0m\u001b[0;34m\u001b[0m\u001b[0;34m\u001b[0m\u001b[0m\n\u001b[0;32m-> 1317\u001b[0;31m     ).call_wrapped(*args_flat)\n\u001b[0m\u001b[1;32m   1318\u001b[0m     \u001b[0;32mreturn\u001b[0m \u001b[0mtree_unflatten\u001b[0m\u001b[0;34m(\u001b[0m\u001b[0mout_tree\u001b[0m\u001b[0;34m(\u001b[0m\u001b[0;34m)\u001b[0m\u001b[0;34m,\u001b[0m \u001b[0mout_flat\u001b[0m\u001b[0;34m)\u001b[0m\u001b[0;34m\u001b[0m\u001b[0;34m\u001b[0m\u001b[0m\n\u001b[1;32m   1319\u001b[0m \u001b[0;34m\u001b[0m\u001b[0m\n",
      "\u001b[0;32m~/.local/lib/python3.6/site-packages/jax/linear_util.py\u001b[0m in \u001b[0;36mcall_wrapped\u001b[0;34m(self, *args, **kwargs)\u001b[0m\n\u001b[1;32m    164\u001b[0m \u001b[0;34m\u001b[0m\u001b[0m\n\u001b[1;32m    165\u001b[0m     \u001b[0;32mtry\u001b[0m\u001b[0;34m:\u001b[0m\u001b[0;34m\u001b[0m\u001b[0;34m\u001b[0m\u001b[0m\n\u001b[0;32m--> 166\u001b[0;31m       \u001b[0mans\u001b[0m \u001b[0;34m=\u001b[0m \u001b[0mself\u001b[0m\u001b[0;34m.\u001b[0m\u001b[0mf\u001b[0m\u001b[0;34m(\u001b[0m\u001b[0;34m*\u001b[0m\u001b[0margs\u001b[0m\u001b[0;34m,\u001b[0m \u001b[0;34m**\u001b[0m\u001b[0mdict\u001b[0m\u001b[0;34m(\u001b[0m\u001b[0mself\u001b[0m\u001b[0;34m.\u001b[0m\u001b[0mparams\u001b[0m\u001b[0;34m,\u001b[0m \u001b[0;34m**\u001b[0m\u001b[0mkwargs\u001b[0m\u001b[0;34m)\u001b[0m\u001b[0;34m)\u001b[0m\u001b[0;34m\u001b[0m\u001b[0;34m\u001b[0m\u001b[0m\n\u001b[0m\u001b[1;32m    167\u001b[0m     \u001b[0;32mexcept\u001b[0m\u001b[0;34m:\u001b[0m\u001b[0;34m\u001b[0m\u001b[0;34m\u001b[0m\u001b[0m\n\u001b[1;32m    168\u001b[0m       \u001b[0;31m# Some transformations yield from inside context managers, so we have to\u001b[0m\u001b[0;34m\u001b[0m\u001b[0;34m\u001b[0m\u001b[0;34m\u001b[0m\u001b[0m\n",
      "\u001b[0;32m~/.local/lib/python3.6/site-packages/jax/_src/api.py\u001b[0m in \u001b[0;36m_jvp\u001b[0;34m(fun, primals, tangents)\u001b[0m\n\u001b[1;32m   1797\u001b[0m \u001b[0;34m\u001b[0m\u001b[0m\n\u001b[1;32m   1798\u001b[0m   \u001b[0mflat_fun\u001b[0m\u001b[0;34m,\u001b[0m \u001b[0mout_tree\u001b[0m \u001b[0;34m=\u001b[0m \u001b[0mflatten_fun_nokwargs\u001b[0m\u001b[0;34m(\u001b[0m\u001b[0mfun\u001b[0m\u001b[0;34m,\u001b[0m \u001b[0mtree_def\u001b[0m\u001b[0;34m)\u001b[0m\u001b[0;34m\u001b[0m\u001b[0;34m\u001b[0m\u001b[0m\n\u001b[0;32m-> 1799\u001b[0;31m   \u001b[0mout_primals\u001b[0m\u001b[0;34m,\u001b[0m \u001b[0mout_tangents\u001b[0m \u001b[0;34m=\u001b[0m \u001b[0mad\u001b[0m\u001b[0;34m.\u001b[0m\u001b[0mjvp\u001b[0m\u001b[0;34m(\u001b[0m\u001b[0mflat_fun\u001b[0m\u001b[0;34m)\u001b[0m\u001b[0;34m.\u001b[0m\u001b[0mcall_wrapped\u001b[0m\u001b[0;34m(\u001b[0m\u001b[0mps_flat\u001b[0m\u001b[0;34m,\u001b[0m \u001b[0mts_flat\u001b[0m\u001b[0;34m)\u001b[0m\u001b[0;34m\u001b[0m\u001b[0;34m\u001b[0m\u001b[0m\n\u001b[0m\u001b[1;32m   1800\u001b[0m   return (tree_unflatten(out_tree(), out_primals),\n\u001b[1;32m   1801\u001b[0m           tree_unflatten(out_tree(), out_tangents))\n",
      "\u001b[0;32m~/.local/lib/python3.6/site-packages/jax/linear_util.py\u001b[0m in \u001b[0;36mcall_wrapped\u001b[0;34m(self, *args, **kwargs)\u001b[0m\n\u001b[1;32m    164\u001b[0m \u001b[0;34m\u001b[0m\u001b[0m\n\u001b[1;32m    165\u001b[0m     \u001b[0;32mtry\u001b[0m\u001b[0;34m:\u001b[0m\u001b[0;34m\u001b[0m\u001b[0;34m\u001b[0m\u001b[0m\n\u001b[0;32m--> 166\u001b[0;31m       \u001b[0mans\u001b[0m \u001b[0;34m=\u001b[0m \u001b[0mself\u001b[0m\u001b[0;34m.\u001b[0m\u001b[0mf\u001b[0m\u001b[0;34m(\u001b[0m\u001b[0;34m*\u001b[0m\u001b[0margs\u001b[0m\u001b[0;34m,\u001b[0m \u001b[0;34m**\u001b[0m\u001b[0mdict\u001b[0m\u001b[0;34m(\u001b[0m\u001b[0mself\u001b[0m\u001b[0;34m.\u001b[0m\u001b[0mparams\u001b[0m\u001b[0;34m,\u001b[0m \u001b[0;34m**\u001b[0m\u001b[0mkwargs\u001b[0m\u001b[0;34m)\u001b[0m\u001b[0;34m)\u001b[0m\u001b[0;34m\u001b[0m\u001b[0;34m\u001b[0m\u001b[0m\n\u001b[0m\u001b[1;32m    167\u001b[0m     \u001b[0;32mexcept\u001b[0m\u001b[0;34m:\u001b[0m\u001b[0;34m\u001b[0m\u001b[0;34m\u001b[0m\u001b[0m\n\u001b[1;32m    168\u001b[0m       \u001b[0;31m# Some transformations yield from inside context managers, so we have to\u001b[0m\u001b[0;34m\u001b[0m\u001b[0;34m\u001b[0m\u001b[0;34m\u001b[0m\u001b[0m\n",
      "\u001b[0;32m<ipython-input-13-dc9bdf77c4ce>\u001b[0m in \u001b[0;36mminimize_x\u001b[0;34m(alpha, x0, beta)\u001b[0m\n\u001b[1;32m      4\u001b[0m \u001b[0;34m\u001b[0m\u001b[0m\n\u001b[1;32m      5\u001b[0m     \u001b[0mgradient\u001b[0m \u001b[0;34m=\u001b[0m \u001b[0mjax\u001b[0m\u001b[0;34m.\u001b[0m\u001b[0mjacfwd\u001b[0m\u001b[0;34m(\u001b[0m\u001b[0mminimize_x\u001b[0m\u001b[0;34m,\u001b[0m \u001b[0margnums\u001b[0m \u001b[0;34m=\u001b[0m \u001b[0;36m0\u001b[0m\u001b[0;34m)\u001b[0m\u001b[0;34m\u001b[0m\u001b[0;34m\u001b[0m\u001b[0m\n\u001b[0;32m----> 6\u001b[0;31m     \u001b[0mgrad\u001b[0m \u001b[0;34m=\u001b[0m \u001b[0mgradient\u001b[0m\u001b[0;34m(\u001b[0m\u001b[0malpha\u001b[0m\u001b[0;34m,\u001b[0m \u001b[0mx0\u001b[0m\u001b[0;34m,\u001b[0m \u001b[0mbeta\u001b[0m\u001b[0;34m)\u001b[0m\u001b[0;34m\u001b[0m\u001b[0;34m\u001b[0m\u001b[0m\n\u001b[0m\u001b[1;32m      7\u001b[0m     \u001b[0mprint\u001b[0m\u001b[0;34m(\u001b[0m\u001b[0mmini\u001b[0m\u001b[0;34m.\u001b[0m\u001b[0mx\u001b[0m\u001b[0;34m)\u001b[0m\u001b[0;34m\u001b[0m\u001b[0;34m\u001b[0m\u001b[0m\n\u001b[1;32m      8\u001b[0m     \u001b[0;32mreturn\u001b[0m \u001b[0mmini\u001b[0m\u001b[0;34m.\u001b[0m\u001b[0mx\u001b[0m\u001b[0;34m,\u001b[0m \u001b[0mgrad\u001b[0m\u001b[0;34m\u001b[0m\u001b[0;34m\u001b[0m\u001b[0m\n",
      "\u001b[0;32m~/.local/lib/python3.6/site-packages/jax/_src/api.py\u001b[0m in \u001b[0;36mjacfun\u001b[0;34m(*args, **kwargs)\u001b[0m\n\u001b[1;32m    994\u001b[0m     \u001b[0mtree_map\u001b[0m\u001b[0;34m(\u001b[0m\u001b[0mpartial\u001b[0m\u001b[0;34m(\u001b[0m\u001b[0m_check_input_dtype_jacfwd\u001b[0m\u001b[0;34m,\u001b[0m \u001b[0mholomorphic\u001b[0m\u001b[0;34m)\u001b[0m\u001b[0;34m,\u001b[0m \u001b[0mdyn_args\u001b[0m\u001b[0;34m)\u001b[0m\u001b[0;34m\u001b[0m\u001b[0;34m\u001b[0m\u001b[0m\n\u001b[1;32m    995\u001b[0m     \u001b[0mpushfwd\u001b[0m \u001b[0;34m=\u001b[0m \u001b[0mpartial\u001b[0m\u001b[0;34m(\u001b[0m\u001b[0m_jvp\u001b[0m\u001b[0;34m,\u001b[0m \u001b[0mf_partial\u001b[0m\u001b[0;34m,\u001b[0m \u001b[0mdyn_args\u001b[0m\u001b[0;34m)\u001b[0m\u001b[0;34m\u001b[0m\u001b[0;34m\u001b[0m\u001b[0m\n\u001b[0;32m--> 996\u001b[0;31m     \u001b[0my\u001b[0m\u001b[0;34m,\u001b[0m \u001b[0mjac\u001b[0m \u001b[0;34m=\u001b[0m \u001b[0mvmap\u001b[0m\u001b[0;34m(\u001b[0m\u001b[0mpushfwd\u001b[0m\u001b[0;34m,\u001b[0m \u001b[0mout_axes\u001b[0m\u001b[0;34m=\u001b[0m\u001b[0;34m(\u001b[0m\u001b[0;32mNone\u001b[0m\u001b[0;34m,\u001b[0m \u001b[0;34m-\u001b[0m\u001b[0;36m1\u001b[0m\u001b[0;34m)\u001b[0m\u001b[0;34m)\u001b[0m\u001b[0;34m(\u001b[0m\u001b[0m_std_basis\u001b[0m\u001b[0;34m(\u001b[0m\u001b[0mdyn_args\u001b[0m\u001b[0;34m)\u001b[0m\u001b[0;34m)\u001b[0m\u001b[0;34m\u001b[0m\u001b[0;34m\u001b[0m\u001b[0m\n\u001b[0m\u001b[1;32m    997\u001b[0m     \u001b[0mtree_map\u001b[0m\u001b[0;34m(\u001b[0m\u001b[0mpartial\u001b[0m\u001b[0;34m(\u001b[0m\u001b[0m_check_output_dtype_jacfwd\u001b[0m\u001b[0;34m,\u001b[0m \u001b[0mholomorphic\u001b[0m\u001b[0;34m)\u001b[0m\u001b[0;34m,\u001b[0m \u001b[0my\u001b[0m\u001b[0;34m)\u001b[0m\u001b[0;34m\u001b[0m\u001b[0;34m\u001b[0m\u001b[0m\n\u001b[1;32m    998\u001b[0m     \u001b[0mexample_args\u001b[0m \u001b[0;34m=\u001b[0m \u001b[0mdyn_args\u001b[0m\u001b[0;34m[\u001b[0m\u001b[0;36m0\u001b[0m\u001b[0;34m]\u001b[0m \u001b[0;32mif\u001b[0m \u001b[0misinstance\u001b[0m\u001b[0;34m(\u001b[0m\u001b[0margnums\u001b[0m\u001b[0;34m,\u001b[0m \u001b[0mint\u001b[0m\u001b[0;34m)\u001b[0m \u001b[0;32melse\u001b[0m \u001b[0mdyn_args\u001b[0m\u001b[0;34m\u001b[0m\u001b[0;34m\u001b[0m\u001b[0m\n",
      "    \u001b[0;31m[... skipping hidden 1 frame]\u001b[0m\n",
      "\u001b[0;32m~/.local/lib/python3.6/site-packages/jax/_src/api.py\u001b[0m in \u001b[0;36mbatched_fun\u001b[0;34m(*args, **kwargs)\u001b[0m\n\u001b[1;32m   1315\u001b[0m         \u001b[0mflat_fun\u001b[0m\u001b[0;34m,\u001b[0m \u001b[0maxis_name\u001b[0m\u001b[0;34m,\u001b[0m \u001b[0maxis_size\u001b[0m\u001b[0;34m,\u001b[0m \u001b[0min_axes_flat\u001b[0m\u001b[0;34m,\u001b[0m\u001b[0;34m\u001b[0m\u001b[0;34m\u001b[0m\u001b[0m\n\u001b[1;32m   1316\u001b[0m         \u001b[0;32mlambda\u001b[0m\u001b[0;34m:\u001b[0m \u001b[0mflatten_axes\u001b[0m\u001b[0;34m(\u001b[0m\u001b[0;34m\"vmap out_axes\"\u001b[0m\u001b[0;34m,\u001b[0m \u001b[0mout_tree\u001b[0m\u001b[0;34m(\u001b[0m\u001b[0;34m)\u001b[0m\u001b[0;34m,\u001b[0m \u001b[0mout_axes\u001b[0m\u001b[0;34m)\u001b[0m\u001b[0;34m\u001b[0m\u001b[0;34m\u001b[0m\u001b[0m\n\u001b[0;32m-> 1317\u001b[0;31m     ).call_wrapped(*args_flat)\n\u001b[0m\u001b[1;32m   1318\u001b[0m     \u001b[0;32mreturn\u001b[0m \u001b[0mtree_unflatten\u001b[0m\u001b[0;34m(\u001b[0m\u001b[0mout_tree\u001b[0m\u001b[0;34m(\u001b[0m\u001b[0;34m)\u001b[0m\u001b[0;34m,\u001b[0m \u001b[0mout_flat\u001b[0m\u001b[0;34m)\u001b[0m\u001b[0;34m\u001b[0m\u001b[0;34m\u001b[0m\u001b[0m\n\u001b[1;32m   1319\u001b[0m \u001b[0;34m\u001b[0m\u001b[0m\n",
      "\u001b[0;32m~/.local/lib/python3.6/site-packages/jax/linear_util.py\u001b[0m in \u001b[0;36mcall_wrapped\u001b[0;34m(self, *args, **kwargs)\u001b[0m\n\u001b[1;32m    164\u001b[0m \u001b[0;34m\u001b[0m\u001b[0m\n\u001b[1;32m    165\u001b[0m     \u001b[0;32mtry\u001b[0m\u001b[0;34m:\u001b[0m\u001b[0;34m\u001b[0m\u001b[0;34m\u001b[0m\u001b[0m\n\u001b[0;32m--> 166\u001b[0;31m       \u001b[0mans\u001b[0m \u001b[0;34m=\u001b[0m \u001b[0mself\u001b[0m\u001b[0;34m.\u001b[0m\u001b[0mf\u001b[0m\u001b[0;34m(\u001b[0m\u001b[0;34m*\u001b[0m\u001b[0margs\u001b[0m\u001b[0;34m,\u001b[0m \u001b[0;34m**\u001b[0m\u001b[0mdict\u001b[0m\u001b[0;34m(\u001b[0m\u001b[0mself\u001b[0m\u001b[0;34m.\u001b[0m\u001b[0mparams\u001b[0m\u001b[0;34m,\u001b[0m \u001b[0;34m**\u001b[0m\u001b[0mkwargs\u001b[0m\u001b[0;34m)\u001b[0m\u001b[0;34m)\u001b[0m\u001b[0;34m\u001b[0m\u001b[0;34m\u001b[0m\u001b[0m\n\u001b[0m\u001b[1;32m    167\u001b[0m     \u001b[0;32mexcept\u001b[0m\u001b[0;34m:\u001b[0m\u001b[0;34m\u001b[0m\u001b[0;34m\u001b[0m\u001b[0m\n\u001b[1;32m    168\u001b[0m       \u001b[0;31m# Some transformations yield from inside context managers, so we have to\u001b[0m\u001b[0;34m\u001b[0m\u001b[0;34m\u001b[0m\u001b[0;34m\u001b[0m\u001b[0m\n",
      "\u001b[0;32m~/.local/lib/python3.6/site-packages/jax/_src/api.py\u001b[0m in \u001b[0;36m_jvp\u001b[0;34m(fun, primals, tangents)\u001b[0m\n\u001b[1;32m   1797\u001b[0m \u001b[0;34m\u001b[0m\u001b[0m\n\u001b[1;32m   1798\u001b[0m   \u001b[0mflat_fun\u001b[0m\u001b[0;34m,\u001b[0m \u001b[0mout_tree\u001b[0m \u001b[0;34m=\u001b[0m \u001b[0mflatten_fun_nokwargs\u001b[0m\u001b[0;34m(\u001b[0m\u001b[0mfun\u001b[0m\u001b[0;34m,\u001b[0m \u001b[0mtree_def\u001b[0m\u001b[0;34m)\u001b[0m\u001b[0;34m\u001b[0m\u001b[0;34m\u001b[0m\u001b[0m\n\u001b[0;32m-> 1799\u001b[0;31m   \u001b[0mout_primals\u001b[0m\u001b[0;34m,\u001b[0m \u001b[0mout_tangents\u001b[0m \u001b[0;34m=\u001b[0m \u001b[0mad\u001b[0m\u001b[0;34m.\u001b[0m\u001b[0mjvp\u001b[0m\u001b[0;34m(\u001b[0m\u001b[0mflat_fun\u001b[0m\u001b[0;34m)\u001b[0m\u001b[0;34m.\u001b[0m\u001b[0mcall_wrapped\u001b[0m\u001b[0;34m(\u001b[0m\u001b[0mps_flat\u001b[0m\u001b[0;34m,\u001b[0m \u001b[0mts_flat\u001b[0m\u001b[0;34m)\u001b[0m\u001b[0;34m\u001b[0m\u001b[0;34m\u001b[0m\u001b[0m\n\u001b[0m\u001b[1;32m   1800\u001b[0m   return (tree_unflatten(out_tree(), out_primals),\n\u001b[1;32m   1801\u001b[0m           tree_unflatten(out_tree(), out_tangents))\n",
      "\u001b[0;32m~/.local/lib/python3.6/site-packages/jax/linear_util.py\u001b[0m in \u001b[0;36mcall_wrapped\u001b[0;34m(self, *args, **kwargs)\u001b[0m\n\u001b[1;32m    164\u001b[0m \u001b[0;34m\u001b[0m\u001b[0m\n\u001b[1;32m    165\u001b[0m     \u001b[0;32mtry\u001b[0m\u001b[0;34m:\u001b[0m\u001b[0;34m\u001b[0m\u001b[0;34m\u001b[0m\u001b[0m\n\u001b[0;32m--> 166\u001b[0;31m       \u001b[0mans\u001b[0m \u001b[0;34m=\u001b[0m \u001b[0mself\u001b[0m\u001b[0;34m.\u001b[0m\u001b[0mf\u001b[0m\u001b[0;34m(\u001b[0m\u001b[0;34m*\u001b[0m\u001b[0margs\u001b[0m\u001b[0;34m,\u001b[0m \u001b[0;34m**\u001b[0m\u001b[0mdict\u001b[0m\u001b[0;34m(\u001b[0m\u001b[0mself\u001b[0m\u001b[0;34m.\u001b[0m\u001b[0mparams\u001b[0m\u001b[0;34m,\u001b[0m \u001b[0;34m**\u001b[0m\u001b[0mkwargs\u001b[0m\u001b[0;34m)\u001b[0m\u001b[0;34m)\u001b[0m\u001b[0;34m\u001b[0m\u001b[0;34m\u001b[0m\u001b[0m\n\u001b[0m\u001b[1;32m    167\u001b[0m     \u001b[0;32mexcept\u001b[0m\u001b[0;34m:\u001b[0m\u001b[0;34m\u001b[0m\u001b[0;34m\u001b[0m\u001b[0m\n\u001b[1;32m    168\u001b[0m       \u001b[0;31m# Some transformations yield from inside context managers, so we have to\u001b[0m\u001b[0;34m\u001b[0m\u001b[0;34m\u001b[0m\u001b[0;34m\u001b[0m\u001b[0m\n",
      "\u001b[0;32m<ipython-input-13-dc9bdf77c4ce>\u001b[0m in \u001b[0;36mminimize_x\u001b[0;34m(alpha, x0, beta)\u001b[0m\n\u001b[1;32m      4\u001b[0m \u001b[0;34m\u001b[0m\u001b[0m\n\u001b[1;32m      5\u001b[0m     \u001b[0mgradient\u001b[0m \u001b[0;34m=\u001b[0m \u001b[0mjax\u001b[0m\u001b[0;34m.\u001b[0m\u001b[0mjacfwd\u001b[0m\u001b[0;34m(\u001b[0m\u001b[0mminimize_x\u001b[0m\u001b[0;34m,\u001b[0m \u001b[0margnums\u001b[0m \u001b[0;34m=\u001b[0m \u001b[0;36m0\u001b[0m\u001b[0;34m)\u001b[0m\u001b[0;34m\u001b[0m\u001b[0;34m\u001b[0m\u001b[0m\n\u001b[0;32m----> 6\u001b[0;31m     \u001b[0mgrad\u001b[0m \u001b[0;34m=\u001b[0m \u001b[0mgradient\u001b[0m\u001b[0;34m(\u001b[0m\u001b[0malpha\u001b[0m\u001b[0;34m,\u001b[0m \u001b[0mx0\u001b[0m\u001b[0;34m,\u001b[0m \u001b[0mbeta\u001b[0m\u001b[0;34m)\u001b[0m\u001b[0;34m\u001b[0m\u001b[0;34m\u001b[0m\u001b[0m\n\u001b[0m\u001b[1;32m      7\u001b[0m     \u001b[0mprint\u001b[0m\u001b[0;34m(\u001b[0m\u001b[0mmini\u001b[0m\u001b[0;34m.\u001b[0m\u001b[0mx\u001b[0m\u001b[0;34m)\u001b[0m\u001b[0;34m\u001b[0m\u001b[0;34m\u001b[0m\u001b[0m\n\u001b[1;32m      8\u001b[0m     \u001b[0;32mreturn\u001b[0m \u001b[0mmini\u001b[0m\u001b[0;34m.\u001b[0m\u001b[0mx\u001b[0m\u001b[0;34m,\u001b[0m \u001b[0mgrad\u001b[0m\u001b[0;34m\u001b[0m\u001b[0;34m\u001b[0m\u001b[0m\n",
      "\u001b[0;32m~/.local/lib/python3.6/site-packages/jax/_src/api.py\u001b[0m in \u001b[0;36mjacfun\u001b[0;34m(*args, **kwargs)\u001b[0m\n\u001b[1;32m    994\u001b[0m     \u001b[0mtree_map\u001b[0m\u001b[0;34m(\u001b[0m\u001b[0mpartial\u001b[0m\u001b[0;34m(\u001b[0m\u001b[0m_check_input_dtype_jacfwd\u001b[0m\u001b[0;34m,\u001b[0m \u001b[0mholomorphic\u001b[0m\u001b[0;34m)\u001b[0m\u001b[0;34m,\u001b[0m \u001b[0mdyn_args\u001b[0m\u001b[0;34m)\u001b[0m\u001b[0;34m\u001b[0m\u001b[0;34m\u001b[0m\u001b[0m\n\u001b[1;32m    995\u001b[0m     \u001b[0mpushfwd\u001b[0m \u001b[0;34m=\u001b[0m \u001b[0mpartial\u001b[0m\u001b[0;34m(\u001b[0m\u001b[0m_jvp\u001b[0m\u001b[0;34m,\u001b[0m \u001b[0mf_partial\u001b[0m\u001b[0;34m,\u001b[0m \u001b[0mdyn_args\u001b[0m\u001b[0;34m)\u001b[0m\u001b[0;34m\u001b[0m\u001b[0;34m\u001b[0m\u001b[0m\n\u001b[0;32m--> 996\u001b[0;31m     \u001b[0my\u001b[0m\u001b[0;34m,\u001b[0m \u001b[0mjac\u001b[0m \u001b[0;34m=\u001b[0m \u001b[0mvmap\u001b[0m\u001b[0;34m(\u001b[0m\u001b[0mpushfwd\u001b[0m\u001b[0;34m,\u001b[0m \u001b[0mout_axes\u001b[0m\u001b[0;34m=\u001b[0m\u001b[0;34m(\u001b[0m\u001b[0;32mNone\u001b[0m\u001b[0;34m,\u001b[0m \u001b[0;34m-\u001b[0m\u001b[0;36m1\u001b[0m\u001b[0;34m)\u001b[0m\u001b[0;34m)\u001b[0m\u001b[0;34m(\u001b[0m\u001b[0m_std_basis\u001b[0m\u001b[0;34m(\u001b[0m\u001b[0mdyn_args\u001b[0m\u001b[0;34m)\u001b[0m\u001b[0;34m)\u001b[0m\u001b[0;34m\u001b[0m\u001b[0;34m\u001b[0m\u001b[0m\n\u001b[0m\u001b[1;32m    997\u001b[0m     \u001b[0mtree_map\u001b[0m\u001b[0;34m(\u001b[0m\u001b[0mpartial\u001b[0m\u001b[0;34m(\u001b[0m\u001b[0m_check_output_dtype_jacfwd\u001b[0m\u001b[0;34m,\u001b[0m \u001b[0mholomorphic\u001b[0m\u001b[0;34m)\u001b[0m\u001b[0;34m,\u001b[0m \u001b[0my\u001b[0m\u001b[0;34m)\u001b[0m\u001b[0;34m\u001b[0m\u001b[0;34m\u001b[0m\u001b[0m\n\u001b[1;32m    998\u001b[0m     \u001b[0mexample_args\u001b[0m \u001b[0;34m=\u001b[0m \u001b[0mdyn_args\u001b[0m\u001b[0;34m[\u001b[0m\u001b[0;36m0\u001b[0m\u001b[0;34m]\u001b[0m \u001b[0;32mif\u001b[0m \u001b[0misinstance\u001b[0m\u001b[0;34m(\u001b[0m\u001b[0margnums\u001b[0m\u001b[0;34m,\u001b[0m \u001b[0mint\u001b[0m\u001b[0;34m)\u001b[0m \u001b[0;32melse\u001b[0m \u001b[0mdyn_args\u001b[0m\u001b[0;34m\u001b[0m\u001b[0;34m\u001b[0m\u001b[0m\n",
      "    \u001b[0;31m[... skipping hidden 1 frame]\u001b[0m\n",
      "\u001b[0;32m~/.local/lib/python3.6/site-packages/jax/_src/api.py\u001b[0m in \u001b[0;36mbatched_fun\u001b[0;34m(*args, **kwargs)\u001b[0m\n\u001b[1;32m   1315\u001b[0m         \u001b[0mflat_fun\u001b[0m\u001b[0;34m,\u001b[0m \u001b[0maxis_name\u001b[0m\u001b[0;34m,\u001b[0m \u001b[0maxis_size\u001b[0m\u001b[0;34m,\u001b[0m \u001b[0min_axes_flat\u001b[0m\u001b[0;34m,\u001b[0m\u001b[0;34m\u001b[0m\u001b[0;34m\u001b[0m\u001b[0m\n\u001b[1;32m   1316\u001b[0m         \u001b[0;32mlambda\u001b[0m\u001b[0;34m:\u001b[0m \u001b[0mflatten_axes\u001b[0m\u001b[0;34m(\u001b[0m\u001b[0;34m\"vmap out_axes\"\u001b[0m\u001b[0;34m,\u001b[0m \u001b[0mout_tree\u001b[0m\u001b[0;34m(\u001b[0m\u001b[0;34m)\u001b[0m\u001b[0;34m,\u001b[0m \u001b[0mout_axes\u001b[0m\u001b[0;34m)\u001b[0m\u001b[0;34m\u001b[0m\u001b[0;34m\u001b[0m\u001b[0m\n\u001b[0;32m-> 1317\u001b[0;31m     ).call_wrapped(*args_flat)\n\u001b[0m\u001b[1;32m   1318\u001b[0m     \u001b[0;32mreturn\u001b[0m \u001b[0mtree_unflatten\u001b[0m\u001b[0;34m(\u001b[0m\u001b[0mout_tree\u001b[0m\u001b[0;34m(\u001b[0m\u001b[0;34m)\u001b[0m\u001b[0;34m,\u001b[0m \u001b[0mout_flat\u001b[0m\u001b[0;34m)\u001b[0m\u001b[0;34m\u001b[0m\u001b[0;34m\u001b[0m\u001b[0m\n\u001b[1;32m   1319\u001b[0m \u001b[0;34m\u001b[0m\u001b[0m\n",
      "\u001b[0;32m~/.local/lib/python3.6/site-packages/jax/linear_util.py\u001b[0m in \u001b[0;36mcall_wrapped\u001b[0;34m(self, *args, **kwargs)\u001b[0m\n\u001b[1;32m    164\u001b[0m \u001b[0;34m\u001b[0m\u001b[0m\n\u001b[1;32m    165\u001b[0m     \u001b[0;32mtry\u001b[0m\u001b[0;34m:\u001b[0m\u001b[0;34m\u001b[0m\u001b[0;34m\u001b[0m\u001b[0m\n\u001b[0;32m--> 166\u001b[0;31m       \u001b[0mans\u001b[0m \u001b[0;34m=\u001b[0m \u001b[0mself\u001b[0m\u001b[0;34m.\u001b[0m\u001b[0mf\u001b[0m\u001b[0;34m(\u001b[0m\u001b[0;34m*\u001b[0m\u001b[0margs\u001b[0m\u001b[0;34m,\u001b[0m \u001b[0;34m**\u001b[0m\u001b[0mdict\u001b[0m\u001b[0;34m(\u001b[0m\u001b[0mself\u001b[0m\u001b[0;34m.\u001b[0m\u001b[0mparams\u001b[0m\u001b[0;34m,\u001b[0m \u001b[0;34m**\u001b[0m\u001b[0mkwargs\u001b[0m\u001b[0;34m)\u001b[0m\u001b[0;34m)\u001b[0m\u001b[0;34m\u001b[0m\u001b[0;34m\u001b[0m\u001b[0m\n\u001b[0m\u001b[1;32m    167\u001b[0m     \u001b[0;32mexcept\u001b[0m\u001b[0;34m:\u001b[0m\u001b[0;34m\u001b[0m\u001b[0;34m\u001b[0m\u001b[0m\n\u001b[1;32m    168\u001b[0m       \u001b[0;31m# Some transformations yield from inside context managers, so we have to\u001b[0m\u001b[0;34m\u001b[0m\u001b[0;34m\u001b[0m\u001b[0;34m\u001b[0m\u001b[0m\n",
      "\u001b[0;32m~/.local/lib/python3.6/site-packages/jax/_src/api.py\u001b[0m in \u001b[0;36m_jvp\u001b[0;34m(fun, primals, tangents)\u001b[0m\n\u001b[1;32m   1797\u001b[0m \u001b[0;34m\u001b[0m\u001b[0m\n\u001b[1;32m   1798\u001b[0m   \u001b[0mflat_fun\u001b[0m\u001b[0;34m,\u001b[0m \u001b[0mout_tree\u001b[0m \u001b[0;34m=\u001b[0m \u001b[0mflatten_fun_nokwargs\u001b[0m\u001b[0;34m(\u001b[0m\u001b[0mfun\u001b[0m\u001b[0;34m,\u001b[0m \u001b[0mtree_def\u001b[0m\u001b[0;34m)\u001b[0m\u001b[0;34m\u001b[0m\u001b[0;34m\u001b[0m\u001b[0m\n\u001b[0;32m-> 1799\u001b[0;31m   \u001b[0mout_primals\u001b[0m\u001b[0;34m,\u001b[0m \u001b[0mout_tangents\u001b[0m \u001b[0;34m=\u001b[0m \u001b[0mad\u001b[0m\u001b[0;34m.\u001b[0m\u001b[0mjvp\u001b[0m\u001b[0;34m(\u001b[0m\u001b[0mflat_fun\u001b[0m\u001b[0;34m)\u001b[0m\u001b[0;34m.\u001b[0m\u001b[0mcall_wrapped\u001b[0m\u001b[0;34m(\u001b[0m\u001b[0mps_flat\u001b[0m\u001b[0;34m,\u001b[0m \u001b[0mts_flat\u001b[0m\u001b[0;34m)\u001b[0m\u001b[0;34m\u001b[0m\u001b[0;34m\u001b[0m\u001b[0m\n\u001b[0m\u001b[1;32m   1800\u001b[0m   return (tree_unflatten(out_tree(), out_primals),\n\u001b[1;32m   1801\u001b[0m           tree_unflatten(out_tree(), out_tangents))\n",
      "\u001b[0;32m~/.local/lib/python3.6/site-packages/jax/linear_util.py\u001b[0m in \u001b[0;36mcall_wrapped\u001b[0;34m(self, *args, **kwargs)\u001b[0m\n\u001b[1;32m    164\u001b[0m \u001b[0;34m\u001b[0m\u001b[0m\n\u001b[1;32m    165\u001b[0m     \u001b[0;32mtry\u001b[0m\u001b[0;34m:\u001b[0m\u001b[0;34m\u001b[0m\u001b[0;34m\u001b[0m\u001b[0m\n\u001b[0;32m--> 166\u001b[0;31m       \u001b[0mans\u001b[0m \u001b[0;34m=\u001b[0m \u001b[0mself\u001b[0m\u001b[0;34m.\u001b[0m\u001b[0mf\u001b[0m\u001b[0;34m(\u001b[0m\u001b[0;34m*\u001b[0m\u001b[0margs\u001b[0m\u001b[0;34m,\u001b[0m \u001b[0;34m**\u001b[0m\u001b[0mdict\u001b[0m\u001b[0;34m(\u001b[0m\u001b[0mself\u001b[0m\u001b[0;34m.\u001b[0m\u001b[0mparams\u001b[0m\u001b[0;34m,\u001b[0m \u001b[0;34m**\u001b[0m\u001b[0mkwargs\u001b[0m\u001b[0;34m)\u001b[0m\u001b[0;34m)\u001b[0m\u001b[0;34m\u001b[0m\u001b[0;34m\u001b[0m\u001b[0m\n\u001b[0m\u001b[1;32m    167\u001b[0m     \u001b[0;32mexcept\u001b[0m\u001b[0;34m:\u001b[0m\u001b[0;34m\u001b[0m\u001b[0;34m\u001b[0m\u001b[0m\n\u001b[1;32m    168\u001b[0m       \u001b[0;31m# Some transformations yield from inside context managers, so we have to\u001b[0m\u001b[0;34m\u001b[0m\u001b[0;34m\u001b[0m\u001b[0;34m\u001b[0m\u001b[0m\n",
      "\u001b[0;32m<ipython-input-13-dc9bdf77c4ce>\u001b[0m in \u001b[0;36mminimize_x\u001b[0;34m(alpha, x0, beta)\u001b[0m\n\u001b[1;32m      1\u001b[0m \u001b[0;32mdef\u001b[0m \u001b[0mminimize_x\u001b[0m\u001b[0;34m(\u001b[0m\u001b[0malpha\u001b[0m\u001b[0;34m,\u001b[0m \u001b[0mx0\u001b[0m\u001b[0;34m,\u001b[0m \u001b[0mbeta\u001b[0m\u001b[0;34m)\u001b[0m\u001b[0;34m:\u001b[0m\u001b[0;34m\u001b[0m\u001b[0;34m\u001b[0m\u001b[0m\n\u001b[1;32m      2\u001b[0m     \u001b[0;31m# mini = minimize(my_func_with_grad, x0, args = (alpha, None), method = 'BFGS', jac = True)\u001b[0m\u001b[0;34m\u001b[0m\u001b[0;34m\u001b[0m\u001b[0;34m\u001b[0m\u001b[0m\n\u001b[0;32m----> 3\u001b[0;31m     \u001b[0mmini\u001b[0m \u001b[0;34m=\u001b[0m \u001b[0mjax_minimize\u001b[0m\u001b[0;34m(\u001b[0m\u001b[0mfunc\u001b[0m\u001b[0;34m,\u001b[0m \u001b[0mx0\u001b[0m\u001b[0;34m,\u001b[0m \u001b[0margs\u001b[0m \u001b[0;34m=\u001b[0m \u001b[0;34m(\u001b[0m\u001b[0malpha\u001b[0m\u001b[0;34m,\u001b[0m \u001b[0;32mNone\u001b[0m\u001b[0;34m)\u001b[0m\u001b[0;34m,\u001b[0m \u001b[0mmethod\u001b[0m \u001b[0;34m=\u001b[0m \u001b[0;34m'BFGS'\u001b[0m\u001b[0;34m)\u001b[0m\u001b[0;34m\u001b[0m\u001b[0;34m\u001b[0m\u001b[0m\n\u001b[0m\u001b[1;32m      4\u001b[0m \u001b[0;34m\u001b[0m\u001b[0m\n\u001b[1;32m      5\u001b[0m     \u001b[0mgradient\u001b[0m \u001b[0;34m=\u001b[0m \u001b[0mjax\u001b[0m\u001b[0;34m.\u001b[0m\u001b[0mjacfwd\u001b[0m\u001b[0;34m(\u001b[0m\u001b[0mminimize_x\u001b[0m\u001b[0;34m,\u001b[0m \u001b[0margnums\u001b[0m \u001b[0;34m=\u001b[0m \u001b[0;36m0\u001b[0m\u001b[0;34m)\u001b[0m\u001b[0;34m\u001b[0m\u001b[0;34m\u001b[0m\u001b[0m\n",
      "\u001b[0;32m~/.local/lib/python3.6/site-packages/jax/_src/scipy/optimize/minimize.py\u001b[0m in \u001b[0;36mminimize\u001b[0;34m(fun, x0, args, method, tol, options)\u001b[0m\n\u001b[1;32m    101\u001b[0m \u001b[0;34m\u001b[0m\u001b[0m\n\u001b[1;32m    102\u001b[0m   \u001b[0;32mif\u001b[0m \u001b[0mmethod\u001b[0m\u001b[0;34m.\u001b[0m\u001b[0mlower\u001b[0m\u001b[0;34m(\u001b[0m\u001b[0;34m)\u001b[0m \u001b[0;34m==\u001b[0m \u001b[0;34m'bfgs'\u001b[0m\u001b[0;34m:\u001b[0m\u001b[0;34m\u001b[0m\u001b[0;34m\u001b[0m\u001b[0m\n\u001b[0;32m--> 103\u001b[0;31m     \u001b[0mresults\u001b[0m \u001b[0;34m=\u001b[0m \u001b[0mminimize_bfgs\u001b[0m\u001b[0;34m(\u001b[0m\u001b[0mfun_with_args\u001b[0m\u001b[0;34m,\u001b[0m \u001b[0mx0\u001b[0m\u001b[0;34m,\u001b[0m \u001b[0;34m**\u001b[0m\u001b[0moptions\u001b[0m\u001b[0;34m)\u001b[0m\u001b[0;34m\u001b[0m\u001b[0;34m\u001b[0m\u001b[0m\n\u001b[0m\u001b[1;32m    104\u001b[0m     \u001b[0msuccess\u001b[0m \u001b[0;34m=\u001b[0m \u001b[0mresults\u001b[0m\u001b[0;34m.\u001b[0m\u001b[0mconverged\u001b[0m \u001b[0;34m&\u001b[0m \u001b[0mjnp\u001b[0m\u001b[0;34m.\u001b[0m\u001b[0mlogical_not\u001b[0m\u001b[0;34m(\u001b[0m\u001b[0mresults\u001b[0m\u001b[0;34m.\u001b[0m\u001b[0mfailed\u001b[0m\u001b[0;34m)\u001b[0m\u001b[0;34m\u001b[0m\u001b[0;34m\u001b[0m\u001b[0m\n\u001b[1;32m    105\u001b[0m     return OptimizeResults(x=results.x_k,\n",
      "\u001b[0;32m~/.local/lib/python3.6/site-packages/jax/_src/scipy/optimize/bfgs.py\u001b[0m in \u001b[0;36mminimize_bfgs\u001b[0;34m(fun, x0, maxiter, norm, gtol, line_search_maxiter)\u001b[0m\n\u001b[1;32m    162\u001b[0m     \u001b[0;32mreturn\u001b[0m \u001b[0mstate\u001b[0m\u001b[0;34m\u001b[0m\u001b[0;34m\u001b[0m\u001b[0m\n\u001b[1;32m    163\u001b[0m \u001b[0;34m\u001b[0m\u001b[0m\n\u001b[0;32m--> 164\u001b[0;31m   \u001b[0mstate\u001b[0m \u001b[0;34m=\u001b[0m \u001b[0mlax\u001b[0m\u001b[0;34m.\u001b[0m\u001b[0mwhile_loop\u001b[0m\u001b[0;34m(\u001b[0m\u001b[0mcond_fun\u001b[0m\u001b[0;34m,\u001b[0m \u001b[0mbody_fun\u001b[0m\u001b[0;34m,\u001b[0m \u001b[0mstate\u001b[0m\u001b[0;34m)\u001b[0m\u001b[0;34m\u001b[0m\u001b[0;34m\u001b[0m\u001b[0m\n\u001b[0m\u001b[1;32m    165\u001b[0m   status = jnp.where(\n\u001b[1;32m    166\u001b[0m       \u001b[0mstate\u001b[0m\u001b[0;34m.\u001b[0m\u001b[0mconverged\u001b[0m\u001b[0;34m,\u001b[0m\u001b[0;34m\u001b[0m\u001b[0;34m\u001b[0m\u001b[0m\n",
      "    \u001b[0;31m[... skipping hidden 1 frame]\u001b[0m\n",
      "\u001b[0;32m~/.local/lib/python3.6/site-packages/jax/_src/lax/control_flow.py\u001b[0m in \u001b[0;36mwhile_loop\u001b[0;34m(cond_fun, body_fun, init_val)\u001b[0m\n\u001b[1;32m    312\u001b[0m   outs = while_p.bind(*itertools.chain(cond_consts, body_consts, init_vals),\n\u001b[1;32m    313\u001b[0m                       \u001b[0mcond_nconsts\u001b[0m\u001b[0;34m=\u001b[0m\u001b[0mlen\u001b[0m\u001b[0;34m(\u001b[0m\u001b[0mcond_consts\u001b[0m\u001b[0;34m)\u001b[0m\u001b[0;34m,\u001b[0m \u001b[0mcond_jaxpr\u001b[0m\u001b[0;34m=\u001b[0m\u001b[0mcond_jaxpr\u001b[0m\u001b[0;34m,\u001b[0m\u001b[0;34m\u001b[0m\u001b[0;34m\u001b[0m\u001b[0m\n\u001b[0;32m--> 314\u001b[0;31m                       body_nconsts=len(body_consts), body_jaxpr=body_jaxpr)\n\u001b[0m\u001b[1;32m    315\u001b[0m   \u001b[0;32mreturn\u001b[0m \u001b[0mtree_unflatten\u001b[0m\u001b[0;34m(\u001b[0m\u001b[0mbody_tree\u001b[0m\u001b[0;34m,\u001b[0m \u001b[0mouts\u001b[0m\u001b[0;34m)\u001b[0m\u001b[0;34m\u001b[0m\u001b[0;34m\u001b[0m\u001b[0m\n\u001b[1;32m    316\u001b[0m \u001b[0;34m\u001b[0m\u001b[0m\n",
      "\u001b[0;32m~/.local/lib/python3.6/site-packages/jax/core.py\u001b[0m in \u001b[0;36mbind\u001b[0;34m(self, *args, **params)\u001b[0m\n\u001b[1;32m    262\u001b[0m         args, used_axis_names(self, params) if self._dispatch_on_params else None)\n\u001b[1;32m    263\u001b[0m     \u001b[0mtracers\u001b[0m \u001b[0;34m=\u001b[0m \u001b[0mmap\u001b[0m\u001b[0;34m(\u001b[0m\u001b[0mtop_trace\u001b[0m\u001b[0;34m.\u001b[0m\u001b[0mfull_raise\u001b[0m\u001b[0;34m,\u001b[0m \u001b[0margs\u001b[0m\u001b[0;34m)\u001b[0m\u001b[0;34m\u001b[0m\u001b[0;34m\u001b[0m\u001b[0m\n\u001b[0;32m--> 264\u001b[0;31m     \u001b[0mout\u001b[0m \u001b[0;34m=\u001b[0m \u001b[0mtop_trace\u001b[0m\u001b[0;34m.\u001b[0m\u001b[0mprocess_primitive\u001b[0m\u001b[0;34m(\u001b[0m\u001b[0mself\u001b[0m\u001b[0;34m,\u001b[0m \u001b[0mtracers\u001b[0m\u001b[0;34m,\u001b[0m \u001b[0mparams\u001b[0m\u001b[0;34m)\u001b[0m\u001b[0;34m\u001b[0m\u001b[0;34m\u001b[0m\u001b[0m\n\u001b[0m\u001b[1;32m    265\u001b[0m     \u001b[0;32mreturn\u001b[0m \u001b[0mmap\u001b[0m\u001b[0;34m(\u001b[0m\u001b[0mfull_lower\u001b[0m\u001b[0;34m,\u001b[0m \u001b[0mout\u001b[0m\u001b[0;34m)\u001b[0m \u001b[0;32mif\u001b[0m \u001b[0mself\u001b[0m\u001b[0;34m.\u001b[0m\u001b[0mmultiple_results\u001b[0m \u001b[0;32melse\u001b[0m \u001b[0mfull_lower\u001b[0m\u001b[0;34m(\u001b[0m\u001b[0mout\u001b[0m\u001b[0;34m)\u001b[0m\u001b[0;34m\u001b[0m\u001b[0;34m\u001b[0m\u001b[0m\n\u001b[1;32m    266\u001b[0m \u001b[0;34m\u001b[0m\u001b[0m\n",
      "\u001b[0;32m~/.local/lib/python3.6/site-packages/jax/interpreters/ad.py\u001b[0m in \u001b[0;36mprocess_primitive\u001b[0;34m(self, primitive, tracers, params)\u001b[0m\n\u001b[1;32m    281\u001b[0m       \u001b[0mmsg\u001b[0m \u001b[0;34m=\u001b[0m \u001b[0;34mf\"Differentiation rule for '{primitive}' not implemented\"\u001b[0m\u001b[0;34m\u001b[0m\u001b[0;34m\u001b[0m\u001b[0m\n\u001b[1;32m    282\u001b[0m       \u001b[0;32mraise\u001b[0m \u001b[0mNotImplementedError\u001b[0m\u001b[0;34m(\u001b[0m\u001b[0mmsg\u001b[0m\u001b[0;34m)\u001b[0m\u001b[0;34m\u001b[0m\u001b[0;34m\u001b[0m\u001b[0m\n\u001b[0;32m--> 283\u001b[0;31m     \u001b[0mprimal_out\u001b[0m\u001b[0;34m,\u001b[0m \u001b[0mtangent_out\u001b[0m \u001b[0;34m=\u001b[0m \u001b[0mjvp\u001b[0m\u001b[0;34m(\u001b[0m\u001b[0mprimals_in\u001b[0m\u001b[0;34m,\u001b[0m \u001b[0mtangents_in\u001b[0m\u001b[0;34m,\u001b[0m \u001b[0;34m**\u001b[0m\u001b[0mparams\u001b[0m\u001b[0;34m)\u001b[0m\u001b[0;34m\u001b[0m\u001b[0;34m\u001b[0m\u001b[0m\n\u001b[0m\u001b[1;32m    284\u001b[0m     \u001b[0;32mif\u001b[0m \u001b[0mprimitive\u001b[0m\u001b[0;34m.\u001b[0m\u001b[0mmultiple_results\u001b[0m\u001b[0;34m:\u001b[0m\u001b[0;34m\u001b[0m\u001b[0;34m\u001b[0m\u001b[0m\n\u001b[1;32m    285\u001b[0m       \u001b[0;32mreturn\u001b[0m \u001b[0;34m[\u001b[0m\u001b[0mJVPTracer\u001b[0m\u001b[0;34m(\u001b[0m\u001b[0mself\u001b[0m\u001b[0;34m,\u001b[0m \u001b[0mx\u001b[0m\u001b[0;34m,\u001b[0m \u001b[0mt\u001b[0m\u001b[0;34m)\u001b[0m \u001b[0;32mfor\u001b[0m \u001b[0mx\u001b[0m\u001b[0;34m,\u001b[0m \u001b[0mt\u001b[0m \u001b[0;32min\u001b[0m \u001b[0mzip\u001b[0m\u001b[0;34m(\u001b[0m\u001b[0mprimal_out\u001b[0m\u001b[0;34m,\u001b[0m \u001b[0mtangent_out\u001b[0m\u001b[0;34m)\u001b[0m\u001b[0;34m]\u001b[0m\u001b[0;34m\u001b[0m\u001b[0;34m\u001b[0m\u001b[0m\n",
      "\u001b[0;32m~/.local/lib/python3.6/site-packages/jax/_src/lax/control_flow.py\u001b[0m in \u001b[0;36m_while_loop_jvp\u001b[0;34m(primals, tangents, cond_nconsts, cond_jaxpr, body_nconsts, body_jaxpr)\u001b[0m\n\u001b[1;32m    468\u001b[0m       \u001b[0mcond_jaxpr\u001b[0m\u001b[0;34m=\u001b[0m\u001b[0mcond_jaxpr_augmented\u001b[0m\u001b[0;34m,\u001b[0m\u001b[0;34m\u001b[0m\u001b[0;34m\u001b[0m\u001b[0m\n\u001b[1;32m    469\u001b[0m       \u001b[0mbody_nconsts\u001b[0m\u001b[0;34m=\u001b[0m\u001b[0mlen\u001b[0m\u001b[0;34m(\u001b[0m\u001b[0mbconst\u001b[0m\u001b[0;34m)\u001b[0m \u001b[0;34m+\u001b[0m \u001b[0mlen\u001b[0m\u001b[0;34m(\u001b[0m\u001b[0mbconst_dot\u001b[0m\u001b[0;34m)\u001b[0m\u001b[0;34m,\u001b[0m\u001b[0;34m\u001b[0m\u001b[0;34m\u001b[0m\u001b[0m\n\u001b[0;32m--> 470\u001b[0;31m       body_jaxpr=body_jvp_rearranged)\n\u001b[0m\u001b[1;32m    471\u001b[0m \u001b[0;34m\u001b[0m\u001b[0m\n\u001b[1;32m    472\u001b[0m   \u001b[0mout_carry\u001b[0m\u001b[0;34m,\u001b[0m \u001b[0mout_carry_dot\u001b[0m \u001b[0;34m=\u001b[0m \u001b[0msplit_list\u001b[0m\u001b[0;34m(\u001b[0m\u001b[0mout\u001b[0m\u001b[0;34m,\u001b[0m \u001b[0;34m[\u001b[0m\u001b[0mnum_carry\u001b[0m\u001b[0;34m]\u001b[0m\u001b[0;34m)\u001b[0m\u001b[0;34m\u001b[0m\u001b[0;34m\u001b[0m\u001b[0m\n",
      "\u001b[0;32m~/.local/lib/python3.6/site-packages/jax/core.py\u001b[0m in \u001b[0;36mbind\u001b[0;34m(self, *args, **params)\u001b[0m\n\u001b[1;32m    262\u001b[0m         args, used_axis_names(self, params) if self._dispatch_on_params else None)\n\u001b[1;32m    263\u001b[0m     \u001b[0mtracers\u001b[0m \u001b[0;34m=\u001b[0m \u001b[0mmap\u001b[0m\u001b[0;34m(\u001b[0m\u001b[0mtop_trace\u001b[0m\u001b[0;34m.\u001b[0m\u001b[0mfull_raise\u001b[0m\u001b[0;34m,\u001b[0m \u001b[0margs\u001b[0m\u001b[0;34m)\u001b[0m\u001b[0;34m\u001b[0m\u001b[0;34m\u001b[0m\u001b[0m\n\u001b[0;32m--> 264\u001b[0;31m     \u001b[0mout\u001b[0m \u001b[0;34m=\u001b[0m \u001b[0mtop_trace\u001b[0m\u001b[0;34m.\u001b[0m\u001b[0mprocess_primitive\u001b[0m\u001b[0;34m(\u001b[0m\u001b[0mself\u001b[0m\u001b[0;34m,\u001b[0m \u001b[0mtracers\u001b[0m\u001b[0;34m,\u001b[0m \u001b[0mparams\u001b[0m\u001b[0;34m)\u001b[0m\u001b[0;34m\u001b[0m\u001b[0;34m\u001b[0m\u001b[0m\n\u001b[0m\u001b[1;32m    265\u001b[0m     \u001b[0;32mreturn\u001b[0m \u001b[0mmap\u001b[0m\u001b[0;34m(\u001b[0m\u001b[0mfull_lower\u001b[0m\u001b[0;34m,\u001b[0m \u001b[0mout\u001b[0m\u001b[0;34m)\u001b[0m \u001b[0;32mif\u001b[0m \u001b[0mself\u001b[0m\u001b[0;34m.\u001b[0m\u001b[0mmultiple_results\u001b[0m \u001b[0;32melse\u001b[0m \u001b[0mfull_lower\u001b[0m\u001b[0;34m(\u001b[0m\u001b[0mout\u001b[0m\u001b[0;34m)\u001b[0m\u001b[0;34m\u001b[0m\u001b[0;34m\u001b[0m\u001b[0m\n\u001b[1;32m    266\u001b[0m \u001b[0;34m\u001b[0m\u001b[0m\n",
      "\u001b[0;32m~/.local/lib/python3.6/site-packages/jax/interpreters/batching.py\u001b[0m in \u001b[0;36mprocess_primitive\u001b[0;34m(self, primitive, tracers, params)\u001b[0m\n\u001b[1;32m    143\u001b[0m     \u001b[0;32melse\u001b[0m\u001b[0;34m:\u001b[0m\u001b[0;34m\u001b[0m\u001b[0;34m\u001b[0m\u001b[0m\n\u001b[1;32m    144\u001b[0m       \u001b[0mbatched_primitive\u001b[0m \u001b[0;34m=\u001b[0m \u001b[0mself\u001b[0m\u001b[0;34m.\u001b[0m\u001b[0mget_primitive_batcher\u001b[0m\u001b[0;34m(\u001b[0m\u001b[0mprimitive\u001b[0m\u001b[0;34m)\u001b[0m\u001b[0;34m\u001b[0m\u001b[0;34m\u001b[0m\u001b[0m\n\u001b[0;32m--> 145\u001b[0;31m       \u001b[0mval_out\u001b[0m\u001b[0;34m,\u001b[0m \u001b[0mdim_out\u001b[0m \u001b[0;34m=\u001b[0m \u001b[0mbatched_primitive\u001b[0m\u001b[0;34m(\u001b[0m\u001b[0mvals_in\u001b[0m\u001b[0;34m,\u001b[0m \u001b[0mdims_in\u001b[0m\u001b[0;34m,\u001b[0m \u001b[0;34m**\u001b[0m\u001b[0mparams\u001b[0m\u001b[0;34m)\u001b[0m\u001b[0;34m\u001b[0m\u001b[0;34m\u001b[0m\u001b[0m\n\u001b[0m\u001b[1;32m    146\u001b[0m     \u001b[0;32mif\u001b[0m \u001b[0mprimitive\u001b[0m\u001b[0;34m.\u001b[0m\u001b[0mmultiple_results\u001b[0m\u001b[0;34m:\u001b[0m\u001b[0;34m\u001b[0m\u001b[0;34m\u001b[0m\u001b[0m\n\u001b[1;32m    147\u001b[0m       \u001b[0;32mreturn\u001b[0m \u001b[0mmap\u001b[0m\u001b[0;34m(\u001b[0m\u001b[0mpartial\u001b[0m\u001b[0;34m(\u001b[0m\u001b[0mBatchTracer\u001b[0m\u001b[0;34m,\u001b[0m \u001b[0mself\u001b[0m\u001b[0;34m)\u001b[0m\u001b[0;34m,\u001b[0m \u001b[0mval_out\u001b[0m\u001b[0;34m,\u001b[0m \u001b[0mdim_out\u001b[0m\u001b[0;34m)\u001b[0m\u001b[0;34m\u001b[0m\u001b[0;34m\u001b[0m\u001b[0m\n",
      "\u001b[0;32m~/.local/lib/python3.6/site-packages/jax/_src/lax/control_flow.py\u001b[0m in \u001b[0;36m_while_loop_batching_rule\u001b[0;34m(args, dims, axis_name, main_type, cond_nconsts, cond_jaxpr, body_nconsts, body_jaxpr)\u001b[0m\n\u001b[1;32m    418\u001b[0m   outs = while_p.bind(*(new_consts + new_init),\n\u001b[1;32m    419\u001b[0m                       \u001b[0mcond_nconsts\u001b[0m\u001b[0;34m=\u001b[0m\u001b[0mcond_nconsts\u001b[0m\u001b[0;34m,\u001b[0m \u001b[0mcond_jaxpr\u001b[0m\u001b[0;34m=\u001b[0m\u001b[0mcond_jaxpr_batched\u001b[0m\u001b[0;34m,\u001b[0m\u001b[0;34m\u001b[0m\u001b[0;34m\u001b[0m\u001b[0m\n\u001b[0;32m--> 420\u001b[0;31m                       body_nconsts=body_nconsts, body_jaxpr=body_jaxpr_batched)\n\u001b[0m\u001b[1;32m    421\u001b[0m   \u001b[0mout_bdims\u001b[0m \u001b[0;34m=\u001b[0m \u001b[0;34m[\u001b[0m\u001b[0;36m0\u001b[0m \u001b[0;32mif\u001b[0m \u001b[0mb\u001b[0m \u001b[0;32melse\u001b[0m \u001b[0mbatching\u001b[0m\u001b[0;34m.\u001b[0m\u001b[0mnot_mapped\u001b[0m \u001b[0;32mfor\u001b[0m \u001b[0mb\u001b[0m \u001b[0;32min\u001b[0m \u001b[0mcarry_bat\u001b[0m\u001b[0;34m]\u001b[0m\u001b[0;34m\u001b[0m\u001b[0;34m\u001b[0m\u001b[0m\n\u001b[1;32m    422\u001b[0m   \u001b[0;32mreturn\u001b[0m \u001b[0mouts\u001b[0m\u001b[0;34m,\u001b[0m \u001b[0mout_bdims\u001b[0m\u001b[0;34m\u001b[0m\u001b[0;34m\u001b[0m\u001b[0m\n",
      "\u001b[0;32m~/.local/lib/python3.6/site-packages/jax/core.py\u001b[0m in \u001b[0;36mbind\u001b[0;34m(self, *args, **params)\u001b[0m\n\u001b[1;32m    262\u001b[0m         args, used_axis_names(self, params) if self._dispatch_on_params else None)\n\u001b[1;32m    263\u001b[0m     \u001b[0mtracers\u001b[0m \u001b[0;34m=\u001b[0m \u001b[0mmap\u001b[0m\u001b[0;34m(\u001b[0m\u001b[0mtop_trace\u001b[0m\u001b[0;34m.\u001b[0m\u001b[0mfull_raise\u001b[0m\u001b[0;34m,\u001b[0m \u001b[0margs\u001b[0m\u001b[0;34m)\u001b[0m\u001b[0;34m\u001b[0m\u001b[0;34m\u001b[0m\u001b[0m\n\u001b[0;32m--> 264\u001b[0;31m     \u001b[0mout\u001b[0m \u001b[0;34m=\u001b[0m \u001b[0mtop_trace\u001b[0m\u001b[0;34m.\u001b[0m\u001b[0mprocess_primitive\u001b[0m\u001b[0;34m(\u001b[0m\u001b[0mself\u001b[0m\u001b[0;34m,\u001b[0m \u001b[0mtracers\u001b[0m\u001b[0;34m,\u001b[0m \u001b[0mparams\u001b[0m\u001b[0;34m)\u001b[0m\u001b[0;34m\u001b[0m\u001b[0;34m\u001b[0m\u001b[0m\n\u001b[0m\u001b[1;32m    265\u001b[0m     \u001b[0;32mreturn\u001b[0m \u001b[0mmap\u001b[0m\u001b[0;34m(\u001b[0m\u001b[0mfull_lower\u001b[0m\u001b[0;34m,\u001b[0m \u001b[0mout\u001b[0m\u001b[0;34m)\u001b[0m \u001b[0;32mif\u001b[0m \u001b[0mself\u001b[0m\u001b[0;34m.\u001b[0m\u001b[0mmultiple_results\u001b[0m \u001b[0;32melse\u001b[0m \u001b[0mfull_lower\u001b[0m\u001b[0;34m(\u001b[0m\u001b[0mout\u001b[0m\u001b[0;34m)\u001b[0m\u001b[0;34m\u001b[0m\u001b[0;34m\u001b[0m\u001b[0m\n\u001b[1;32m    266\u001b[0m \u001b[0;34m\u001b[0m\u001b[0m\n",
      "\u001b[0;32m~/.local/lib/python3.6/site-packages/jax/interpreters/ad.py\u001b[0m in \u001b[0;36mprocess_primitive\u001b[0;34m(self, primitive, tracers, params)\u001b[0m\n\u001b[1;32m    281\u001b[0m       \u001b[0mmsg\u001b[0m \u001b[0;34m=\u001b[0m \u001b[0;34mf\"Differentiation rule for '{primitive}' not implemented\"\u001b[0m\u001b[0;34m\u001b[0m\u001b[0;34m\u001b[0m\u001b[0m\n\u001b[1;32m    282\u001b[0m       \u001b[0;32mraise\u001b[0m \u001b[0mNotImplementedError\u001b[0m\u001b[0;34m(\u001b[0m\u001b[0mmsg\u001b[0m\u001b[0;34m)\u001b[0m\u001b[0;34m\u001b[0m\u001b[0;34m\u001b[0m\u001b[0m\n\u001b[0;32m--> 283\u001b[0;31m     \u001b[0mprimal_out\u001b[0m\u001b[0;34m,\u001b[0m \u001b[0mtangent_out\u001b[0m \u001b[0;34m=\u001b[0m \u001b[0mjvp\u001b[0m\u001b[0;34m(\u001b[0m\u001b[0mprimals_in\u001b[0m\u001b[0;34m,\u001b[0m \u001b[0mtangents_in\u001b[0m\u001b[0;34m,\u001b[0m \u001b[0;34m**\u001b[0m\u001b[0mparams\u001b[0m\u001b[0;34m)\u001b[0m\u001b[0;34m\u001b[0m\u001b[0;34m\u001b[0m\u001b[0m\n\u001b[0m\u001b[1;32m    284\u001b[0m     \u001b[0;32mif\u001b[0m \u001b[0mprimitive\u001b[0m\u001b[0;34m.\u001b[0m\u001b[0mmultiple_results\u001b[0m\u001b[0;34m:\u001b[0m\u001b[0;34m\u001b[0m\u001b[0;34m\u001b[0m\u001b[0m\n\u001b[1;32m    285\u001b[0m       \u001b[0;32mreturn\u001b[0m \u001b[0;34m[\u001b[0m\u001b[0mJVPTracer\u001b[0m\u001b[0;34m(\u001b[0m\u001b[0mself\u001b[0m\u001b[0;34m,\u001b[0m \u001b[0mx\u001b[0m\u001b[0;34m,\u001b[0m \u001b[0mt\u001b[0m\u001b[0;34m)\u001b[0m \u001b[0;32mfor\u001b[0m \u001b[0mx\u001b[0m\u001b[0;34m,\u001b[0m \u001b[0mt\u001b[0m \u001b[0;32min\u001b[0m \u001b[0mzip\u001b[0m\u001b[0;34m(\u001b[0m\u001b[0mprimal_out\u001b[0m\u001b[0;34m,\u001b[0m \u001b[0mtangent_out\u001b[0m\u001b[0;34m)\u001b[0m\u001b[0;34m]\u001b[0m\u001b[0;34m\u001b[0m\u001b[0;34m\u001b[0m\u001b[0m\n",
      "\u001b[0;32m~/.local/lib/python3.6/site-packages/jax/_src/lax/control_flow.py\u001b[0m in \u001b[0;36m_while_loop_jvp\u001b[0;34m(primals, tangents, cond_nconsts, cond_jaxpr, body_nconsts, body_jaxpr)\u001b[0m\n\u001b[1;32m    468\u001b[0m       \u001b[0mcond_jaxpr\u001b[0m\u001b[0;34m=\u001b[0m\u001b[0mcond_jaxpr_augmented\u001b[0m\u001b[0;34m,\u001b[0m\u001b[0;34m\u001b[0m\u001b[0;34m\u001b[0m\u001b[0m\n\u001b[1;32m    469\u001b[0m       \u001b[0mbody_nconsts\u001b[0m\u001b[0;34m=\u001b[0m\u001b[0mlen\u001b[0m\u001b[0;34m(\u001b[0m\u001b[0mbconst\u001b[0m\u001b[0;34m)\u001b[0m \u001b[0;34m+\u001b[0m \u001b[0mlen\u001b[0m\u001b[0;34m(\u001b[0m\u001b[0mbconst_dot\u001b[0m\u001b[0;34m)\u001b[0m\u001b[0;34m,\u001b[0m\u001b[0;34m\u001b[0m\u001b[0;34m\u001b[0m\u001b[0m\n\u001b[0;32m--> 470\u001b[0;31m       body_jaxpr=body_jvp_rearranged)\n\u001b[0m\u001b[1;32m    471\u001b[0m \u001b[0;34m\u001b[0m\u001b[0m\n\u001b[1;32m    472\u001b[0m   \u001b[0mout_carry\u001b[0m\u001b[0;34m,\u001b[0m \u001b[0mout_carry_dot\u001b[0m \u001b[0;34m=\u001b[0m \u001b[0msplit_list\u001b[0m\u001b[0;34m(\u001b[0m\u001b[0mout\u001b[0m\u001b[0;34m,\u001b[0m \u001b[0;34m[\u001b[0m\u001b[0mnum_carry\u001b[0m\u001b[0;34m]\u001b[0m\u001b[0;34m)\u001b[0m\u001b[0;34m\u001b[0m\u001b[0;34m\u001b[0m\u001b[0m\n",
      "\u001b[0;32m~/.local/lib/python3.6/site-packages/jax/core.py\u001b[0m in \u001b[0;36mbind\u001b[0;34m(self, *args, **params)\u001b[0m\n\u001b[1;32m    262\u001b[0m         args, used_axis_names(self, params) if self._dispatch_on_params else None)\n\u001b[1;32m    263\u001b[0m     \u001b[0mtracers\u001b[0m \u001b[0;34m=\u001b[0m \u001b[0mmap\u001b[0m\u001b[0;34m(\u001b[0m\u001b[0mtop_trace\u001b[0m\u001b[0;34m.\u001b[0m\u001b[0mfull_raise\u001b[0m\u001b[0;34m,\u001b[0m \u001b[0margs\u001b[0m\u001b[0;34m)\u001b[0m\u001b[0;34m\u001b[0m\u001b[0;34m\u001b[0m\u001b[0m\n\u001b[0;32m--> 264\u001b[0;31m     \u001b[0mout\u001b[0m \u001b[0;34m=\u001b[0m \u001b[0mtop_trace\u001b[0m\u001b[0;34m.\u001b[0m\u001b[0mprocess_primitive\u001b[0m\u001b[0;34m(\u001b[0m\u001b[0mself\u001b[0m\u001b[0;34m,\u001b[0m \u001b[0mtracers\u001b[0m\u001b[0;34m,\u001b[0m \u001b[0mparams\u001b[0m\u001b[0;34m)\u001b[0m\u001b[0;34m\u001b[0m\u001b[0;34m\u001b[0m\u001b[0m\n\u001b[0m\u001b[1;32m    265\u001b[0m     \u001b[0;32mreturn\u001b[0m \u001b[0mmap\u001b[0m\u001b[0;34m(\u001b[0m\u001b[0mfull_lower\u001b[0m\u001b[0;34m,\u001b[0m \u001b[0mout\u001b[0m\u001b[0;34m)\u001b[0m \u001b[0;32mif\u001b[0m \u001b[0mself\u001b[0m\u001b[0;34m.\u001b[0m\u001b[0mmultiple_results\u001b[0m \u001b[0;32melse\u001b[0m \u001b[0mfull_lower\u001b[0m\u001b[0;34m(\u001b[0m\u001b[0mout\u001b[0m\u001b[0;34m)\u001b[0m\u001b[0;34m\u001b[0m\u001b[0;34m\u001b[0m\u001b[0m\n\u001b[1;32m    266\u001b[0m \u001b[0;34m\u001b[0m\u001b[0m\n",
      "\u001b[0;32m~/.local/lib/python3.6/site-packages/jax/interpreters/batching.py\u001b[0m in \u001b[0;36mprocess_primitive\u001b[0;34m(self, primitive, tracers, params)\u001b[0m\n\u001b[1;32m    143\u001b[0m     \u001b[0;32melse\u001b[0m\u001b[0;34m:\u001b[0m\u001b[0;34m\u001b[0m\u001b[0;34m\u001b[0m\u001b[0m\n\u001b[1;32m    144\u001b[0m       \u001b[0mbatched_primitive\u001b[0m \u001b[0;34m=\u001b[0m \u001b[0mself\u001b[0m\u001b[0;34m.\u001b[0m\u001b[0mget_primitive_batcher\u001b[0m\u001b[0;34m(\u001b[0m\u001b[0mprimitive\u001b[0m\u001b[0;34m)\u001b[0m\u001b[0;34m\u001b[0m\u001b[0;34m\u001b[0m\u001b[0m\n\u001b[0;32m--> 145\u001b[0;31m       \u001b[0mval_out\u001b[0m\u001b[0;34m,\u001b[0m \u001b[0mdim_out\u001b[0m \u001b[0;34m=\u001b[0m \u001b[0mbatched_primitive\u001b[0m\u001b[0;34m(\u001b[0m\u001b[0mvals_in\u001b[0m\u001b[0;34m,\u001b[0m \u001b[0mdims_in\u001b[0m\u001b[0;34m,\u001b[0m \u001b[0;34m**\u001b[0m\u001b[0mparams\u001b[0m\u001b[0;34m)\u001b[0m\u001b[0;34m\u001b[0m\u001b[0;34m\u001b[0m\u001b[0m\n\u001b[0m\u001b[1;32m    146\u001b[0m     \u001b[0;32mif\u001b[0m \u001b[0mprimitive\u001b[0m\u001b[0;34m.\u001b[0m\u001b[0mmultiple_results\u001b[0m\u001b[0;34m:\u001b[0m\u001b[0;34m\u001b[0m\u001b[0;34m\u001b[0m\u001b[0m\n\u001b[1;32m    147\u001b[0m       \u001b[0;32mreturn\u001b[0m \u001b[0mmap\u001b[0m\u001b[0;34m(\u001b[0m\u001b[0mpartial\u001b[0m\u001b[0;34m(\u001b[0m\u001b[0mBatchTracer\u001b[0m\u001b[0;34m,\u001b[0m \u001b[0mself\u001b[0m\u001b[0;34m)\u001b[0m\u001b[0;34m,\u001b[0m \u001b[0mval_out\u001b[0m\u001b[0;34m,\u001b[0m \u001b[0mdim_out\u001b[0m\u001b[0;34m)\u001b[0m\u001b[0;34m\u001b[0m\u001b[0;34m\u001b[0m\u001b[0m\n",
      "\u001b[0;32m~/.local/lib/python3.6/site-packages/jax/_src/lax/control_flow.py\u001b[0m in \u001b[0;36m_while_loop_batching_rule\u001b[0;34m(args, dims, axis_name, main_type, cond_nconsts, cond_jaxpr, body_nconsts, body_jaxpr)\u001b[0m\n\u001b[1;32m    395\u001b[0m     body_jaxpr_batched, carry_bat_out = batching.batch_jaxpr(\n\u001b[1;32m    396\u001b[0m         \u001b[0mbody_jaxpr\u001b[0m\u001b[0;34m,\u001b[0m \u001b[0msize\u001b[0m\u001b[0;34m,\u001b[0m \u001b[0mbatched\u001b[0m\u001b[0;34m,\u001b[0m \u001b[0minstantiate\u001b[0m\u001b[0;34m=\u001b[0m\u001b[0mcarry_bat\u001b[0m\u001b[0;34m,\u001b[0m\u001b[0;34m\u001b[0m\u001b[0;34m\u001b[0m\u001b[0m\n\u001b[0;32m--> 397\u001b[0;31m         axis_name=axis_name, main_type=main_type)\n\u001b[0m\u001b[1;32m    398\u001b[0m     cond_jaxpr_batched, (pred_bat,) = batching.batch_jaxpr(\n\u001b[1;32m    399\u001b[0m         \u001b[0mcond_jaxpr\u001b[0m\u001b[0;34m,\u001b[0m \u001b[0msize\u001b[0m\u001b[0;34m,\u001b[0m \u001b[0mcconst_bat\u001b[0m \u001b[0;34m+\u001b[0m \u001b[0mcarry_bat\u001b[0m\u001b[0;34m,\u001b[0m\u001b[0;34m\u001b[0m\u001b[0;34m\u001b[0m\u001b[0m\n",
      "\u001b[0;32m~/.local/lib/python3.6/site-packages/jax/interpreters/batching.py\u001b[0m in \u001b[0;36mbatch_jaxpr\u001b[0;34m(closed_jaxpr, axis_size, in_batched, instantiate, axis_name, main_type)\u001b[0m\n\u001b[1;32m    460\u001b[0m   avals_in = [core.unmapped_aval(axis_size, 0, aval) if b else aval\n\u001b[1;32m    461\u001b[0m               for aval, b in zip(closed_jaxpr.in_avals, in_batched)]\n\u001b[0;32m--> 462\u001b[0;31m   \u001b[0mjaxpr_out\u001b[0m\u001b[0;34m,\u001b[0m \u001b[0m_\u001b[0m\u001b[0;34m,\u001b[0m \u001b[0mconsts\u001b[0m \u001b[0;34m=\u001b[0m \u001b[0mpe\u001b[0m\u001b[0;34m.\u001b[0m\u001b[0mtrace_to_jaxpr_dynamic\u001b[0m\u001b[0;34m(\u001b[0m\u001b[0mf\u001b[0m\u001b[0;34m,\u001b[0m \u001b[0mavals_in\u001b[0m\u001b[0;34m)\u001b[0m\u001b[0;34m\u001b[0m\u001b[0;34m\u001b[0m\u001b[0m\n\u001b[0m\u001b[1;32m    463\u001b[0m   \u001b[0;32mreturn\u001b[0m \u001b[0mcore\u001b[0m\u001b[0;34m.\u001b[0m\u001b[0mClosedJaxpr\u001b[0m\u001b[0;34m(\u001b[0m\u001b[0mjaxpr_out\u001b[0m\u001b[0;34m,\u001b[0m \u001b[0mconsts\u001b[0m\u001b[0;34m)\u001b[0m\u001b[0;34m,\u001b[0m \u001b[0mout_batched\u001b[0m\u001b[0;34m(\u001b[0m\u001b[0;34m)\u001b[0m\u001b[0;34m\u001b[0m\u001b[0;34m\u001b[0m\u001b[0m\n\u001b[1;32m    464\u001b[0m \u001b[0;34m\u001b[0m\u001b[0m\n",
      "\u001b[0;32m~/.local/lib/python3.6/site-packages/jax/interpreters/partial_eval.py\u001b[0m in \u001b[0;36mtrace_to_jaxpr_dynamic\u001b[0;34m(fun, in_avals, debug_info)\u001b[0m\n\u001b[1;32m   1250\u001b[0m     \u001b[0mmain\u001b[0m\u001b[0;34m.\u001b[0m\u001b[0mdebug_info\u001b[0m \u001b[0;34m=\u001b[0m \u001b[0mdebug_info\u001b[0m  \u001b[0;31m# type: ignore\u001b[0m\u001b[0;34m\u001b[0m\u001b[0;34m\u001b[0m\u001b[0m\n\u001b[1;32m   1251\u001b[0m     \u001b[0mmain\u001b[0m\u001b[0;34m.\u001b[0m\u001b[0mjaxpr_stack\u001b[0m \u001b[0;34m=\u001b[0m \u001b[0;34m(\u001b[0m\u001b[0;34m)\u001b[0m  \u001b[0;31m# type: ignore\u001b[0m\u001b[0;34m\u001b[0m\u001b[0;34m\u001b[0m\u001b[0m\n\u001b[0;32m-> 1252\u001b[0;31m     \u001b[0mjaxpr\u001b[0m\u001b[0;34m,\u001b[0m \u001b[0mout_avals\u001b[0m\u001b[0;34m,\u001b[0m \u001b[0mconsts\u001b[0m \u001b[0;34m=\u001b[0m \u001b[0mtrace_to_subjaxpr_dynamic\u001b[0m\u001b[0;34m(\u001b[0m\u001b[0mfun\u001b[0m\u001b[0;34m,\u001b[0m \u001b[0mmain\u001b[0m\u001b[0;34m,\u001b[0m \u001b[0min_avals\u001b[0m\u001b[0;34m)\u001b[0m\u001b[0;34m\u001b[0m\u001b[0;34m\u001b[0m\u001b[0m\n\u001b[0m\u001b[1;32m   1253\u001b[0m     \u001b[0;32mdel\u001b[0m \u001b[0mmain\u001b[0m\u001b[0;34m,\u001b[0m \u001b[0mfun\u001b[0m\u001b[0;34m\u001b[0m\u001b[0;34m\u001b[0m\u001b[0m\n\u001b[1;32m   1254\u001b[0m   \u001b[0;32mreturn\u001b[0m \u001b[0mjaxpr\u001b[0m\u001b[0;34m,\u001b[0m \u001b[0mout_avals\u001b[0m\u001b[0;34m,\u001b[0m \u001b[0mconsts\u001b[0m\u001b[0;34m\u001b[0m\u001b[0;34m\u001b[0m\u001b[0m\n",
      "\u001b[0;32m~/.local/lib/python3.6/site-packages/jax/interpreters/partial_eval.py\u001b[0m in \u001b[0;36mtrace_to_subjaxpr_dynamic\u001b[0;34m(fun, main, in_avals)\u001b[0m\n\u001b[1;32m   1260\u001b[0m     \u001b[0mtrace\u001b[0m \u001b[0;34m=\u001b[0m \u001b[0mDynamicJaxprTrace\u001b[0m\u001b[0;34m(\u001b[0m\u001b[0mmain\u001b[0m\u001b[0;34m,\u001b[0m \u001b[0mcore\u001b[0m\u001b[0;34m.\u001b[0m\u001b[0mcur_sublevel\u001b[0m\u001b[0;34m(\u001b[0m\u001b[0;34m)\u001b[0m\u001b[0;34m)\u001b[0m\u001b[0;34m\u001b[0m\u001b[0;34m\u001b[0m\u001b[0m\n\u001b[1;32m   1261\u001b[0m     \u001b[0min_tracers\u001b[0m \u001b[0;34m=\u001b[0m \u001b[0mmap\u001b[0m\u001b[0;34m(\u001b[0m\u001b[0mtrace\u001b[0m\u001b[0;34m.\u001b[0m\u001b[0mnew_arg\u001b[0m\u001b[0;34m,\u001b[0m \u001b[0min_avals\u001b[0m\u001b[0;34m)\u001b[0m\u001b[0;34m\u001b[0m\u001b[0;34m\u001b[0m\u001b[0m\n\u001b[0;32m-> 1262\u001b[0;31m     \u001b[0mans\u001b[0m \u001b[0;34m=\u001b[0m \u001b[0mfun\u001b[0m\u001b[0;34m.\u001b[0m\u001b[0mcall_wrapped\u001b[0m\u001b[0;34m(\u001b[0m\u001b[0;34m*\u001b[0m\u001b[0min_tracers\u001b[0m\u001b[0;34m)\u001b[0m\u001b[0;34m\u001b[0m\u001b[0;34m\u001b[0m\u001b[0m\n\u001b[0m\u001b[1;32m   1263\u001b[0m     \u001b[0mout_tracers\u001b[0m \u001b[0;34m=\u001b[0m \u001b[0mmap\u001b[0m\u001b[0;34m(\u001b[0m\u001b[0mtrace\u001b[0m\u001b[0;34m.\u001b[0m\u001b[0mfull_raise\u001b[0m\u001b[0;34m,\u001b[0m \u001b[0mans\u001b[0m\u001b[0;34m)\u001b[0m\u001b[0;34m\u001b[0m\u001b[0;34m\u001b[0m\u001b[0m\n\u001b[1;32m   1264\u001b[0m     \u001b[0mjaxpr\u001b[0m\u001b[0;34m,\u001b[0m \u001b[0mout_avals\u001b[0m\u001b[0;34m,\u001b[0m \u001b[0mconsts\u001b[0m \u001b[0;34m=\u001b[0m \u001b[0mframe\u001b[0m\u001b[0;34m.\u001b[0m\u001b[0mto_jaxpr\u001b[0m\u001b[0;34m(\u001b[0m\u001b[0min_tracers\u001b[0m\u001b[0;34m,\u001b[0m \u001b[0mout_tracers\u001b[0m\u001b[0;34m)\u001b[0m\u001b[0;34m\u001b[0m\u001b[0;34m\u001b[0m\u001b[0m\n",
      "\u001b[0;32m~/.local/lib/python3.6/site-packages/jax/linear_util.py\u001b[0m in \u001b[0;36mcall_wrapped\u001b[0;34m(self, *args, **kwargs)\u001b[0m\n\u001b[1;32m    164\u001b[0m \u001b[0;34m\u001b[0m\u001b[0m\n\u001b[1;32m    165\u001b[0m     \u001b[0;32mtry\u001b[0m\u001b[0;34m:\u001b[0m\u001b[0;34m\u001b[0m\u001b[0;34m\u001b[0m\u001b[0m\n\u001b[0;32m--> 166\u001b[0;31m       \u001b[0mans\u001b[0m \u001b[0;34m=\u001b[0m \u001b[0mself\u001b[0m\u001b[0;34m.\u001b[0m\u001b[0mf\u001b[0m\u001b[0;34m(\u001b[0m\u001b[0;34m*\u001b[0m\u001b[0margs\u001b[0m\u001b[0;34m,\u001b[0m \u001b[0;34m**\u001b[0m\u001b[0mdict\u001b[0m\u001b[0;34m(\u001b[0m\u001b[0mself\u001b[0m\u001b[0;34m.\u001b[0m\u001b[0mparams\u001b[0m\u001b[0;34m,\u001b[0m \u001b[0;34m**\u001b[0m\u001b[0mkwargs\u001b[0m\u001b[0;34m)\u001b[0m\u001b[0;34m)\u001b[0m\u001b[0;34m\u001b[0m\u001b[0;34m\u001b[0m\u001b[0m\n\u001b[0m\u001b[1;32m    167\u001b[0m     \u001b[0;32mexcept\u001b[0m\u001b[0;34m:\u001b[0m\u001b[0;34m\u001b[0m\u001b[0;34m\u001b[0m\u001b[0m\n\u001b[1;32m    168\u001b[0m       \u001b[0;31m# Some transformations yield from inside context managers, so we have to\u001b[0m\u001b[0;34m\u001b[0m\u001b[0;34m\u001b[0m\u001b[0;34m\u001b[0m\u001b[0m\n",
      "\u001b[0;32m~/.local/lib/python3.6/site-packages/jax/core.py\u001b[0m in \u001b[0;36mjaxpr_as_fun\u001b[0;34m(closed_jaxpr, *args)\u001b[0m\n\u001b[1;32m    130\u001b[0m \u001b[0;34m@\u001b[0m\u001b[0mcurry\u001b[0m\u001b[0;34m\u001b[0m\u001b[0;34m\u001b[0m\u001b[0m\n\u001b[1;32m    131\u001b[0m \u001b[0;32mdef\u001b[0m \u001b[0mjaxpr_as_fun\u001b[0m\u001b[0;34m(\u001b[0m\u001b[0mclosed_jaxpr\u001b[0m\u001b[0;34m:\u001b[0m \u001b[0mClosedJaxpr\u001b[0m\u001b[0;34m,\u001b[0m \u001b[0;34m*\u001b[0m\u001b[0margs\u001b[0m\u001b[0;34m)\u001b[0m\u001b[0;34m:\u001b[0m\u001b[0;34m\u001b[0m\u001b[0;34m\u001b[0m\u001b[0m\n\u001b[0;32m--> 132\u001b[0;31m   \u001b[0;32mreturn\u001b[0m \u001b[0meval_jaxpr\u001b[0m\u001b[0;34m(\u001b[0m\u001b[0mclosed_jaxpr\u001b[0m\u001b[0;34m.\u001b[0m\u001b[0mjaxpr\u001b[0m\u001b[0;34m,\u001b[0m \u001b[0mclosed_jaxpr\u001b[0m\u001b[0;34m.\u001b[0m\u001b[0mconsts\u001b[0m\u001b[0;34m,\u001b[0m \u001b[0;34m*\u001b[0m\u001b[0margs\u001b[0m\u001b[0;34m)\u001b[0m\u001b[0;34m\u001b[0m\u001b[0;34m\u001b[0m\u001b[0m\n\u001b[0m\u001b[1;32m    133\u001b[0m \u001b[0;34m\u001b[0m\u001b[0m\n\u001b[1;32m    134\u001b[0m \u001b[0;34m\u001b[0m\u001b[0m\n",
      "\u001b[0;32m~/.local/lib/python3.6/site-packages/jax/core.py\u001b[0m in \u001b[0;36meval_jaxpr\u001b[0;34m(jaxpr, consts, *args)\u001b[0m\n\u001b[1;32m    345\u001b[0m       \u001b[0mbind_params\u001b[0m \u001b[0;34m=\u001b[0m \u001b[0mparams\u001b[0m\u001b[0;34m\u001b[0m\u001b[0;34m\u001b[0m\u001b[0m\n\u001b[1;32m    346\u001b[0m     \u001b[0;32mwith\u001b[0m \u001b[0msource_info_util\u001b[0m\u001b[0;34m.\u001b[0m\u001b[0muser_context\u001b[0m\u001b[0;34m(\u001b[0m\u001b[0meqn\u001b[0m\u001b[0;34m.\u001b[0m\u001b[0msource_info\u001b[0m\u001b[0;34m)\u001b[0m\u001b[0;34m:\u001b[0m\u001b[0;34m\u001b[0m\u001b[0;34m\u001b[0m\u001b[0m\n\u001b[0;32m--> 347\u001b[0;31m       \u001b[0mans\u001b[0m \u001b[0;34m=\u001b[0m \u001b[0meqn\u001b[0m\u001b[0;34m.\u001b[0m\u001b[0mprimitive\u001b[0m\u001b[0;34m.\u001b[0m\u001b[0mbind\u001b[0m\u001b[0;34m(\u001b[0m\u001b[0;34m*\u001b[0m\u001b[0;34m(\u001b[0m\u001b[0msubfuns\u001b[0m \u001b[0;34m+\u001b[0m \u001b[0min_vals\u001b[0m\u001b[0;34m)\u001b[0m\u001b[0;34m,\u001b[0m \u001b[0;34m**\u001b[0m\u001b[0mbind_params\u001b[0m\u001b[0;34m)\u001b[0m\u001b[0;34m\u001b[0m\u001b[0;34m\u001b[0m\u001b[0m\n\u001b[0m\u001b[1;32m    348\u001b[0m     \u001b[0;32mif\u001b[0m \u001b[0meqn\u001b[0m\u001b[0;34m.\u001b[0m\u001b[0mprimitive\u001b[0m\u001b[0;34m.\u001b[0m\u001b[0mmultiple_results\u001b[0m\u001b[0;34m:\u001b[0m\u001b[0;34m\u001b[0m\u001b[0;34m\u001b[0m\u001b[0m\n\u001b[1;32m    349\u001b[0m       \u001b[0mmap\u001b[0m\u001b[0;34m(\u001b[0m\u001b[0mwrite\u001b[0m\u001b[0;34m,\u001b[0m \u001b[0meqn\u001b[0m\u001b[0;34m.\u001b[0m\u001b[0moutvars\u001b[0m\u001b[0;34m,\u001b[0m \u001b[0mans\u001b[0m\u001b[0;34m)\u001b[0m\u001b[0;34m\u001b[0m\u001b[0;34m\u001b[0m\u001b[0m\n",
      "\u001b[0;32m~/.local/lib/python3.6/site-packages/jax/core.py\u001b[0m in \u001b[0;36mbind\u001b[0;34m(self, *args, **params)\u001b[0m\n\u001b[1;32m    262\u001b[0m         args, used_axis_names(self, params) if self._dispatch_on_params else None)\n\u001b[1;32m    263\u001b[0m     \u001b[0mtracers\u001b[0m \u001b[0;34m=\u001b[0m \u001b[0mmap\u001b[0m\u001b[0;34m(\u001b[0m\u001b[0mtop_trace\u001b[0m\u001b[0;34m.\u001b[0m\u001b[0mfull_raise\u001b[0m\u001b[0;34m,\u001b[0m \u001b[0margs\u001b[0m\u001b[0;34m)\u001b[0m\u001b[0;34m\u001b[0m\u001b[0;34m\u001b[0m\u001b[0m\n\u001b[0;32m--> 264\u001b[0;31m     \u001b[0mout\u001b[0m \u001b[0;34m=\u001b[0m \u001b[0mtop_trace\u001b[0m\u001b[0;34m.\u001b[0m\u001b[0mprocess_primitive\u001b[0m\u001b[0;34m(\u001b[0m\u001b[0mself\u001b[0m\u001b[0;34m,\u001b[0m \u001b[0mtracers\u001b[0m\u001b[0;34m,\u001b[0m \u001b[0mparams\u001b[0m\u001b[0;34m)\u001b[0m\u001b[0;34m\u001b[0m\u001b[0;34m\u001b[0m\u001b[0m\n\u001b[0m\u001b[1;32m    265\u001b[0m     \u001b[0;32mreturn\u001b[0m \u001b[0mmap\u001b[0m\u001b[0;34m(\u001b[0m\u001b[0mfull_lower\u001b[0m\u001b[0;34m,\u001b[0m \u001b[0mout\u001b[0m\u001b[0;34m)\u001b[0m \u001b[0;32mif\u001b[0m \u001b[0mself\u001b[0m\u001b[0;34m.\u001b[0m\u001b[0mmultiple_results\u001b[0m \u001b[0;32melse\u001b[0m \u001b[0mfull_lower\u001b[0m\u001b[0;34m(\u001b[0m\u001b[0mout\u001b[0m\u001b[0;34m)\u001b[0m\u001b[0;34m\u001b[0m\u001b[0;34m\u001b[0m\u001b[0m\n\u001b[1;32m    266\u001b[0m \u001b[0;34m\u001b[0m\u001b[0m\n",
      "\u001b[0;32m~/.local/lib/python3.6/site-packages/jax/interpreters/batching.py\u001b[0m in \u001b[0;36mprocess_primitive\u001b[0;34m(self, primitive, tracers, params)\u001b[0m\n\u001b[1;32m    143\u001b[0m     \u001b[0;32melse\u001b[0m\u001b[0;34m:\u001b[0m\u001b[0;34m\u001b[0m\u001b[0;34m\u001b[0m\u001b[0m\n\u001b[1;32m    144\u001b[0m       \u001b[0mbatched_primitive\u001b[0m \u001b[0;34m=\u001b[0m \u001b[0mself\u001b[0m\u001b[0;34m.\u001b[0m\u001b[0mget_primitive_batcher\u001b[0m\u001b[0;34m(\u001b[0m\u001b[0mprimitive\u001b[0m\u001b[0;34m)\u001b[0m\u001b[0;34m\u001b[0m\u001b[0;34m\u001b[0m\u001b[0m\n\u001b[0;32m--> 145\u001b[0;31m       \u001b[0mval_out\u001b[0m\u001b[0;34m,\u001b[0m \u001b[0mdim_out\u001b[0m \u001b[0;34m=\u001b[0m \u001b[0mbatched_primitive\u001b[0m\u001b[0;34m(\u001b[0m\u001b[0mvals_in\u001b[0m\u001b[0;34m,\u001b[0m \u001b[0mdims_in\u001b[0m\u001b[0;34m,\u001b[0m \u001b[0;34m**\u001b[0m\u001b[0mparams\u001b[0m\u001b[0;34m)\u001b[0m\u001b[0;34m\u001b[0m\u001b[0;34m\u001b[0m\u001b[0m\n\u001b[0m\u001b[1;32m    146\u001b[0m     \u001b[0;32mif\u001b[0m \u001b[0mprimitive\u001b[0m\u001b[0;34m.\u001b[0m\u001b[0mmultiple_results\u001b[0m\u001b[0;34m:\u001b[0m\u001b[0;34m\u001b[0m\u001b[0;34m\u001b[0m\u001b[0m\n\u001b[1;32m    147\u001b[0m       \u001b[0;32mreturn\u001b[0m \u001b[0mmap\u001b[0m\u001b[0;34m(\u001b[0m\u001b[0mpartial\u001b[0m\u001b[0;34m(\u001b[0m\u001b[0mBatchTracer\u001b[0m\u001b[0;34m,\u001b[0m \u001b[0mself\u001b[0m\u001b[0;34m)\u001b[0m\u001b[0;34m,\u001b[0m \u001b[0mval_out\u001b[0m\u001b[0;34m,\u001b[0m \u001b[0mdim_out\u001b[0m\u001b[0;34m)\u001b[0m\u001b[0;34m\u001b[0m\u001b[0;34m\u001b[0m\u001b[0m\n",
      "\u001b[0;32m~/.local/lib/python3.6/site-packages/jax/interpreters/batching.py\u001b[0m in \u001b[0;36mbroadcast_batcher\u001b[0;34m(prim, args, dims, **params)\u001b[0m\n\u001b[1;32m    365\u001b[0m     \u001b[0msize\u001b[0m\u001b[0;34m,\u001b[0m \u001b[0;34m=\u001b[0m \u001b[0;34m{\u001b[0m\u001b[0mshape\u001b[0m\u001b[0;34m[\u001b[0m\u001b[0md\u001b[0m\u001b[0;34m]\u001b[0m \u001b[0;32mfor\u001b[0m \u001b[0mshape\u001b[0m\u001b[0;34m,\u001b[0m \u001b[0md\u001b[0m \u001b[0;32min\u001b[0m \u001b[0mshapes\u001b[0m \u001b[0;32mif\u001b[0m \u001b[0md\u001b[0m \u001b[0;32mis\u001b[0m \u001b[0;32mnot\u001b[0m \u001b[0mnot_mapped\u001b[0m\u001b[0;34m}\u001b[0m\u001b[0;34m\u001b[0m\u001b[0;34m\u001b[0m\u001b[0m\n\u001b[1;32m    366\u001b[0m     args = [bdim_at_front(x, d, size) if np.ndim(x) else x\n\u001b[0;32m--> 367\u001b[0;31m             for x, d in zip(args, dims)]\n\u001b[0m\u001b[1;32m    368\u001b[0m     \u001b[0mndim\u001b[0m \u001b[0;34m=\u001b[0m \u001b[0mmax\u001b[0m\u001b[0;34m(\u001b[0m\u001b[0mnp\u001b[0m\u001b[0;34m.\u001b[0m\u001b[0mndim\u001b[0m\u001b[0;34m(\u001b[0m\u001b[0mx\u001b[0m\u001b[0;34m)\u001b[0m \u001b[0;32mfor\u001b[0m \u001b[0mx\u001b[0m \u001b[0;32min\u001b[0m \u001b[0margs\u001b[0m\u001b[0;34m)\u001b[0m  \u001b[0;31m# special-case scalar broadcasting\u001b[0m\u001b[0;34m\u001b[0m\u001b[0;34m\u001b[0m\u001b[0m\n\u001b[1;32m    369\u001b[0m     \u001b[0margs\u001b[0m \u001b[0;34m=\u001b[0m \u001b[0;34m[\u001b[0m\u001b[0m_handle_scalar_broadcasting\u001b[0m\u001b[0;34m(\u001b[0m\u001b[0mndim\u001b[0m\u001b[0;34m,\u001b[0m \u001b[0mx\u001b[0m\u001b[0;34m,\u001b[0m \u001b[0md\u001b[0m\u001b[0;34m)\u001b[0m \u001b[0;32mfor\u001b[0m \u001b[0mx\u001b[0m\u001b[0;34m,\u001b[0m \u001b[0md\u001b[0m \u001b[0;32min\u001b[0m \u001b[0mzip\u001b[0m\u001b[0;34m(\u001b[0m\u001b[0margs\u001b[0m\u001b[0;34m,\u001b[0m \u001b[0mdims\u001b[0m\u001b[0;34m)\u001b[0m\u001b[0;34m]\u001b[0m\u001b[0;34m\u001b[0m\u001b[0;34m\u001b[0m\u001b[0m\n",
      "\u001b[0;32m~/.local/lib/python3.6/site-packages/jax/interpreters/batching.py\u001b[0m in \u001b[0;36m<listcomp>\u001b[0;34m(.0)\u001b[0m\n\u001b[1;32m    365\u001b[0m     \u001b[0msize\u001b[0m\u001b[0;34m,\u001b[0m \u001b[0;34m=\u001b[0m \u001b[0;34m{\u001b[0m\u001b[0mshape\u001b[0m\u001b[0;34m[\u001b[0m\u001b[0md\u001b[0m\u001b[0;34m]\u001b[0m \u001b[0;32mfor\u001b[0m \u001b[0mshape\u001b[0m\u001b[0;34m,\u001b[0m \u001b[0md\u001b[0m \u001b[0;32min\u001b[0m \u001b[0mshapes\u001b[0m \u001b[0;32mif\u001b[0m \u001b[0md\u001b[0m \u001b[0;32mis\u001b[0m \u001b[0;32mnot\u001b[0m \u001b[0mnot_mapped\u001b[0m\u001b[0;34m}\u001b[0m\u001b[0;34m\u001b[0m\u001b[0;34m\u001b[0m\u001b[0m\n\u001b[1;32m    366\u001b[0m     args = [bdim_at_front(x, d, size) if np.ndim(x) else x\n\u001b[0;32m--> 367\u001b[0;31m             for x, d in zip(args, dims)]\n\u001b[0m\u001b[1;32m    368\u001b[0m     \u001b[0mndim\u001b[0m \u001b[0;34m=\u001b[0m \u001b[0mmax\u001b[0m\u001b[0;34m(\u001b[0m\u001b[0mnp\u001b[0m\u001b[0;34m.\u001b[0m\u001b[0mndim\u001b[0m\u001b[0;34m(\u001b[0m\u001b[0mx\u001b[0m\u001b[0;34m)\u001b[0m \u001b[0;32mfor\u001b[0m \u001b[0mx\u001b[0m \u001b[0;32min\u001b[0m \u001b[0margs\u001b[0m\u001b[0;34m)\u001b[0m  \u001b[0;31m# special-case scalar broadcasting\u001b[0m\u001b[0;34m\u001b[0m\u001b[0;34m\u001b[0m\u001b[0m\n\u001b[1;32m    369\u001b[0m     \u001b[0margs\u001b[0m \u001b[0;34m=\u001b[0m \u001b[0;34m[\u001b[0m\u001b[0m_handle_scalar_broadcasting\u001b[0m\u001b[0;34m(\u001b[0m\u001b[0mndim\u001b[0m\u001b[0;34m,\u001b[0m \u001b[0mx\u001b[0m\u001b[0;34m,\u001b[0m \u001b[0md\u001b[0m\u001b[0;34m)\u001b[0m \u001b[0;32mfor\u001b[0m \u001b[0mx\u001b[0m\u001b[0;34m,\u001b[0m \u001b[0md\u001b[0m \u001b[0;32min\u001b[0m \u001b[0mzip\u001b[0m\u001b[0;34m(\u001b[0m\u001b[0margs\u001b[0m\u001b[0;34m,\u001b[0m \u001b[0mdims\u001b[0m\u001b[0;34m)\u001b[0m\u001b[0;34m]\u001b[0m\u001b[0;34m\u001b[0m\u001b[0;34m\u001b[0m\u001b[0m\n",
      "\u001b[0;32m~/.local/lib/python3.6/site-packages/jax/interpreters/batching.py\u001b[0m in \u001b[0;36mbdim_at_front\u001b[0;34m(x, bdim, size)\u001b[0m\n\u001b[1;32m    449\u001b[0m     \u001b[0;32mreturn\u001b[0m \u001b[0mcore\u001b[0m\u001b[0;34m.\u001b[0m\u001b[0munit\u001b[0m\u001b[0;34m\u001b[0m\u001b[0;34m\u001b[0m\u001b[0m\n\u001b[1;32m    450\u001b[0m   \u001b[0;32mif\u001b[0m \u001b[0mbdim\u001b[0m \u001b[0;32mis\u001b[0m \u001b[0mnot_mapped\u001b[0m\u001b[0;34m:\u001b[0m\u001b[0;34m\u001b[0m\u001b[0;34m\u001b[0m\u001b[0m\n\u001b[0;32m--> 451\u001b[0;31m     \u001b[0;32mreturn\u001b[0m \u001b[0mbroadcast\u001b[0m\u001b[0;34m(\u001b[0m\u001b[0mx\u001b[0m\u001b[0;34m,\u001b[0m \u001b[0msize\u001b[0m\u001b[0;34m,\u001b[0m \u001b[0;36m0\u001b[0m\u001b[0;34m)\u001b[0m\u001b[0;34m\u001b[0m\u001b[0;34m\u001b[0m\u001b[0m\n\u001b[0m\u001b[1;32m    452\u001b[0m   \u001b[0;32melse\u001b[0m\u001b[0;34m:\u001b[0m\u001b[0;34m\u001b[0m\u001b[0;34m\u001b[0m\u001b[0m\n\u001b[1;32m    453\u001b[0m     \u001b[0;32mreturn\u001b[0m \u001b[0mmoveaxis\u001b[0m\u001b[0;34m(\u001b[0m\u001b[0mx\u001b[0m\u001b[0;34m,\u001b[0m \u001b[0mbdim\u001b[0m\u001b[0;34m,\u001b[0m \u001b[0;36m0\u001b[0m\u001b[0;34m)\u001b[0m\u001b[0;34m\u001b[0m\u001b[0;34m\u001b[0m\u001b[0m\n",
      "\u001b[0;32m~/.local/lib/python3.6/site-packages/jax/interpreters/batching.py\u001b[0m in \u001b[0;36mbroadcast\u001b[0;34m(x, sz, axis)\u001b[0m\n\u001b[1;32m    422\u001b[0m   \u001b[0mshape\u001b[0m \u001b[0;34m=\u001b[0m \u001b[0mlist\u001b[0m\u001b[0;34m(\u001b[0m\u001b[0mnp\u001b[0m\u001b[0;34m.\u001b[0m\u001b[0mshape\u001b[0m\u001b[0;34m(\u001b[0m\u001b[0mx\u001b[0m\u001b[0;34m)\u001b[0m\u001b[0;34m)\u001b[0m\u001b[0;34m\u001b[0m\u001b[0;34m\u001b[0m\u001b[0m\n\u001b[1;32m    423\u001b[0m   \u001b[0mshape\u001b[0m\u001b[0;34m.\u001b[0m\u001b[0minsert\u001b[0m\u001b[0;34m(\u001b[0m\u001b[0maxis\u001b[0m\u001b[0;34m,\u001b[0m \u001b[0msz\u001b[0m\u001b[0;34m)\u001b[0m\u001b[0;34m\u001b[0m\u001b[0;34m\u001b[0m\u001b[0m\n\u001b[0;32m--> 424\u001b[0;31m   \u001b[0mbroadcast_dims\u001b[0m \u001b[0;34m=\u001b[0m \u001b[0mtuple\u001b[0m\u001b[0;34m(\u001b[0m\u001b[0mnp\u001b[0m\u001b[0;34m.\u001b[0m\u001b[0mdelete\u001b[0m\u001b[0;34m(\u001b[0m\u001b[0mnp\u001b[0m\u001b[0;34m.\u001b[0m\u001b[0marange\u001b[0m\u001b[0;34m(\u001b[0m\u001b[0mlen\u001b[0m\u001b[0;34m(\u001b[0m\u001b[0mshape\u001b[0m\u001b[0;34m)\u001b[0m\u001b[0;34m)\u001b[0m\u001b[0;34m,\u001b[0m \u001b[0maxis\u001b[0m\u001b[0;34m)\u001b[0m\u001b[0;34m)\u001b[0m\u001b[0;34m\u001b[0m\u001b[0;34m\u001b[0m\u001b[0m\n\u001b[0m\u001b[1;32m    425\u001b[0m   \u001b[0;32mreturn\u001b[0m \u001b[0mjax\u001b[0m\u001b[0;34m.\u001b[0m\u001b[0mlax\u001b[0m\u001b[0;34m.\u001b[0m\u001b[0mbroadcast_in_dim\u001b[0m\u001b[0;34m(\u001b[0m\u001b[0mx\u001b[0m\u001b[0;34m,\u001b[0m \u001b[0mshape\u001b[0m\u001b[0;34m,\u001b[0m \u001b[0mbroadcast_dims\u001b[0m\u001b[0;34m)\u001b[0m\u001b[0;34m\u001b[0m\u001b[0;34m\u001b[0m\u001b[0m\n\u001b[1;32m    426\u001b[0m \u001b[0;34m\u001b[0m\u001b[0m\n",
      "\u001b[0;31mKeyboardInterrupt\u001b[0m: "
     ]
    }
   ],
   "source": [
    "minimize(minimize_x, alpha, args =(x0, None), method = 'BFGS', jac = True)"
   ]
  },
  {
   "cell_type": "code",
   "execution_count": 10,
   "metadata": {},
   "outputs": [],
   "source": [
    "def my_func(x,alpha,beta):\n",
    "    f = func(x, alpha)#1/2*(alpha[0]*x[0])**2 - x[0]*alpha[0]**4 + alpha[0]\n",
    "    # f = np.float64(f)\n",
    "    print('x, alpha, f:',x,alpha,f)\n",
    "    return f"
   ]
  },
  {
   "cell_type": "code",
   "execution_count": 11,
   "metadata": {},
   "outputs": [],
   "source": [
    "df_dx = jax.grad(my_func, argnums = 0)"
   ]
  },
  {
   "cell_type": "code",
   "execution_count": 21,
   "metadata": {},
   "outputs": [
    {
     "name": "stdout",
     "output_type": "stream",
     "text": [
      "x, alpha, f: Traced<ConcreteArray([0.1])>with<JVPTrace(level=2/0)>\n",
      "  with primal = Traced<ConcreteArray([0.1]):JaxprTrace(level=1/0)>\n",
      "       tangent = Traced<ShapedArray(float64[1]):JaxprTrace(level=1/0)> [2.] Traced<ConcreteArray(0.41999999999999993)>with<JVPTrace(level=2/0)>\n",
      "  with primal = DeviceArray(0.42, dtype=float64)\n",
      "       tangent = Traced<ShapedArray(float64[]):JaxprTrace(level=1/0)>\n"
     ]
    },
    {
     "data": {
      "text/plain": [
       "DeviceArray([-15.6], dtype=float64)"
      ]
     },
     "execution_count": 21,
     "metadata": {},
     "output_type": "execute_result"
    }
   ],
   "source": [
    "x0 = np.array([0.1])\n",
    "alpha = np.array([2.0])\n",
    "\n",
    "df_dx(x0, alpha, None)"
   ]
  },
  {
   "cell_type": "code",
   "execution_count": 32,
   "metadata": {},
   "outputs": [],
   "source": [
    "def min_x_func(alpha, beta):\n",
    "    mini = jax_minimize(my_func, x0, args = (alpha, beta), method = 'BFGS')#, options = {'gtol': 1e-3})\n",
    "    min_x = mini.x[0]\n",
    "    return min_x"
   ]
  },
  {
   "cell_type": "code",
   "execution_count": 34,
   "metadata": {},
   "outputs": [
    {
     "name": "stdout",
     "output_type": "stream",
     "text": [
      "x, alpha, f: Traced<ConcreteArray([0.01])>with<JVPTrace(level=2/0)>\n",
      "  with primal = Traced<ConcreteArray([0.01]):JaxprTrace(level=1/0)>\n",
      "       tangent = Traced<ShapedArray(float64[1]):JaxprTrace(level=1/0)> [0.01] Traced<ConcreteArray(0.0100000049)>with<JVPTrace(level=2/0)>\n",
      "  with primal = DeviceArray(0.01, dtype=float64)\n",
      "       tangent = Traced<ShapedArray(float64[]):JaxprTrace(level=1/0)>\n",
      "x, alpha, f: Traced<ShapedArray(float64[1])>with<JVPTrace(level=4/0)>\n",
      "  with primal = Traced<ShapedArray(float64[1]):JaxprTrace(level=3/0)>\n",
      "       tangent = Traced<ShapedArray(float64[1]):JaxprTrace(level=3/0)> [0.01] Traced<ShapedArray(float64[])>with<JVPTrace(level=4/0)>\n",
      "  with primal = Traced<ShapedArray(float64[])>with<DynamicJaxprTrace(level=2/0)>\n",
      "       tangent = Traced<ShapedArray(float64[]):JaxprTrace(level=3/0)>\n",
      "x, alpha, f: Traced<ShapedArray(float64[1])>with<JVPTrace(level=5/0)>\n",
      "  with primal = Traced<ShapedArray(float64[1]):JaxprTrace(level=4/0)>\n",
      "       tangent = Traced<ShapedArray(float64[1]):JaxprTrace(level=4/0)> [0.01] Traced<ShapedArray(float64[])>with<JVPTrace(level=5/0)>\n",
      "  with primal = Traced<ShapedArray(float64[])>with<DynamicJaxprTrace(level=3/0)>\n",
      "       tangent = Traced<ShapedArray(float64[]):JaxprTrace(level=4/0)>\n",
      "x, alpha, f: Traced<ShapedArray(float64[1])>with<JVPTrace(level=5/0)>\n",
      "  with primal = Traced<ShapedArray(float64[1]):JaxprTrace(level=4/0)>\n",
      "       tangent = Traced<ShapedArray(float64[1]):JaxprTrace(level=4/0)> [0.01] Traced<ShapedArray(float64[])>with<JVPTrace(level=5/0)>\n",
      "  with primal = Traced<ShapedArray(float64[])>with<DynamicJaxprTrace(level=3/0)>\n",
      "       tangent = Traced<ShapedArray(float64[]):JaxprTrace(level=4/0)>\n"
     ]
    }
   ],
   "source": [
    "x = min_x_func(np.array([0.01]),None)"
   ]
  },
  {
   "cell_type": "code",
   "execution_count": 9,
   "metadata": {},
   "outputs": [
    {
     "name": "stdout",
     "output_type": "stream",
     "text": [
      "[-1.00000000e+00 -9.00000000e-01 -8.00000000e-01 -7.00000000e-01\n",
      " -6.00000000e-01 -5.00000000e-01 -4.00000000e-01 -3.00000000e-01\n",
      " -2.00000000e-01 -1.00000000e-01 -2.22044605e-16  1.00000000e-01\n",
      "  2.00000000e-01  3.00000000e-01  4.00000000e-01  5.00000000e-01\n",
      "  6.00000000e-01  7.00000000e-01  8.00000000e-01  9.00000000e-01]\n",
      "x, alpha, f: Traced<ConcreteArray([0.1])>with<JVPTrace(level=2/0)>\n",
      "  with primal = Traced<ConcreteArray([0.1]):JaxprTrace(level=1/0)>\n",
      "       tangent = Traced<ShapedArray(float64[1]):JaxprTrace(level=1/0)> [-1.] Traced<ConcreteArray(-1.095)>with<JVPTrace(level=2/0)>\n",
      "  with primal = DeviceArray(-1.095, dtype=float64)\n",
      "       tangent = Traced<ShapedArray(float64[]):JaxprTrace(level=1/0)>\n",
      "x, alpha, f: Traced<ShapedArray(float64[1])>with<JVPTrace(level=4/0)>\n",
      "  with primal = Traced<ShapedArray(float64[1]):JaxprTrace(level=3/0)>\n",
      "       tangent = Traced<ShapedArray(float64[1]):JaxprTrace(level=3/0)> [-1.] Traced<ShapedArray(float64[])>with<JVPTrace(level=4/0)>\n",
      "  with primal = Traced<ShapedArray(float64[])>with<DynamicJaxprTrace(level=2/0)>\n",
      "       tangent = Traced<ShapedArray(float64[]):JaxprTrace(level=3/0)>\n",
      "x, alpha, f: Traced<ShapedArray(float64[1])>with<JVPTrace(level=5/0)>\n",
      "  with primal = Traced<ShapedArray(float64[1]):JaxprTrace(level=4/0)>\n",
      "       tangent = Traced<ShapedArray(float64[1]):JaxprTrace(level=4/0)> [-1.] Traced<ShapedArray(float64[])>with<JVPTrace(level=5/0)>\n",
      "  with primal = Traced<ShapedArray(float64[])>with<DynamicJaxprTrace(level=3/0)>\n",
      "       tangent = Traced<ShapedArray(float64[]):JaxprTrace(level=4/0)>\n",
      "x, alpha, f: Traced<ShapedArray(float64[1])>with<JVPTrace(level=5/0)>\n",
      "  with primal = Traced<ShapedArray(float64[1]):JaxprTrace(level=4/0)>\n",
      "       tangent = Traced<ShapedArray(float64[1]):JaxprTrace(level=4/0)> [-1.] Traced<ShapedArray(float64[])>with<JVPTrace(level=5/0)>\n",
      "  with primal = Traced<ShapedArray(float64[])>with<DynamicJaxprTrace(level=3/0)>\n",
      "       tangent = Traced<ShapedArray(float64[]):JaxprTrace(level=4/0)>\n",
      "-1.0 1.0\n",
      "x, alpha, f: Traced<ConcreteArray([0.1])>with<JVPTrace(level=2/0)>\n",
      "  with primal = Traced<ConcreteArray([0.1]):JaxprTrace(level=1/0)>\n",
      "       tangent = Traced<ShapedArray(float64[1]):JaxprTrace(level=1/0)> [-0.9] Traced<ConcreteArray(-0.9615600000000001)>with<JVPTrace(level=2/0)>\n",
      "  with primal = DeviceArray(-0.96156, dtype=float64)\n",
      "       tangent = Traced<ShapedArray(float64[]):JaxprTrace(level=1/0)>\n",
      "x, alpha, f: Traced<ShapedArray(float64[1])>with<JVPTrace(level=4/0)>\n",
      "  with primal = Traced<ShapedArray(float64[1]):JaxprTrace(level=3/0)>\n",
      "       tangent = Traced<ShapedArray(float64[1]):JaxprTrace(level=3/0)> [-0.9] Traced<ShapedArray(float64[])>with<JVPTrace(level=4/0)>\n",
      "  with primal = Traced<ShapedArray(float64[])>with<DynamicJaxprTrace(level=2/0)>\n",
      "       tangent = Traced<ShapedArray(float64[]):JaxprTrace(level=3/0)>\n",
      "x, alpha, f: Traced<ShapedArray(float64[1])>with<JVPTrace(level=5/0)>\n",
      "  with primal = Traced<ShapedArray(float64[1]):JaxprTrace(level=4/0)>\n",
      "       tangent = Traced<ShapedArray(float64[1]):JaxprTrace(level=4/0)> [-0.9] Traced<ShapedArray(float64[])>with<JVPTrace(level=5/0)>\n",
      "  with primal = Traced<ShapedArray(float64[])>with<DynamicJaxprTrace(level=3/0)>\n",
      "       tangent = Traced<ShapedArray(float64[]):JaxprTrace(level=4/0)>\n",
      "x, alpha, f: Traced<ShapedArray(float64[1])>with<JVPTrace(level=5/0)>\n",
      "  with primal = Traced<ShapedArray(float64[1]):JaxprTrace(level=4/0)>\n",
      "       tangent = Traced<ShapedArray(float64[1]):JaxprTrace(level=4/0)> [-0.9] Traced<ShapedArray(float64[])>with<JVPTrace(level=5/0)>\n",
      "  with primal = Traced<ShapedArray(float64[])>with<DynamicJaxprTrace(level=3/0)>\n",
      "       tangent = Traced<ShapedArray(float64[]):JaxprTrace(level=4/0)>\n",
      "-0.9 0.81\n",
      "x, alpha, f: Traced<ConcreteArray([0.1])>with<JVPTrace(level=2/0)>\n",
      "  with primal = Traced<ConcreteArray([0.1]):JaxprTrace(level=1/0)>\n",
      "       tangent = Traced<ShapedArray(float64[1]):JaxprTrace(level=1/0)> [-0.8] Traced<ConcreteArray(-0.8377600000000001)>with<JVPTrace(level=2/0)>\n",
      "  with primal = DeviceArray(-0.83776, dtype=float64)\n",
      "       tangent = Traced<ShapedArray(float64[]):JaxprTrace(level=1/0)>\n",
      "x, alpha, f: Traced<ShapedArray(float64[1])>with<JVPTrace(level=4/0)>\n",
      "  with primal = Traced<ShapedArray(float64[1]):JaxprTrace(level=3/0)>\n",
      "       tangent = Traced<ShapedArray(float64[1]):JaxprTrace(level=3/0)> [-0.8] Traced<ShapedArray(float64[])>with<JVPTrace(level=4/0)>\n",
      "  with primal = Traced<ShapedArray(float64[])>with<DynamicJaxprTrace(level=2/0)>\n",
      "       tangent = Traced<ShapedArray(float64[]):JaxprTrace(level=3/0)>\n",
      "x, alpha, f: Traced<ShapedArray(float64[1])>with<JVPTrace(level=5/0)>\n",
      "  with primal = Traced<ShapedArray(float64[1]):JaxprTrace(level=4/0)>\n",
      "       tangent = Traced<ShapedArray(float64[1]):JaxprTrace(level=4/0)> [-0.8] Traced<ShapedArray(float64[])>with<JVPTrace(level=5/0)>\n",
      "  with primal = Traced<ShapedArray(float64[])>with<DynamicJaxprTrace(level=3/0)>\n",
      "       tangent = Traced<ShapedArray(float64[]):JaxprTrace(level=4/0)>\n",
      "x, alpha, f: Traced<ShapedArray(float64[1])>with<JVPTrace(level=5/0)>\n",
      "  with primal = Traced<ShapedArray(float64[1]):JaxprTrace(level=4/0)>\n",
      "       tangent = Traced<ShapedArray(float64[1]):JaxprTrace(level=4/0)> [-0.8] Traced<ShapedArray(float64[])>with<JVPTrace(level=5/0)>\n",
      "  with primal = Traced<ShapedArray(float64[])>with<DynamicJaxprTrace(level=3/0)>\n",
      "       tangent = Traced<ShapedArray(float64[]):JaxprTrace(level=4/0)>\n",
      "-0.8 0.6400000000000001\n",
      "x, alpha, f: Traced<ConcreteArray([0.1])>with<JVPTrace(level=2/0)>\n",
      "  with primal = Traced<ConcreteArray([0.1]):JaxprTrace(level=1/0)>\n",
      "       tangent = Traced<ShapedArray(float64[1]):JaxprTrace(level=1/0)> [-0.7] Traced<ConcreteArray(-0.7215600000000001)>with<JVPTrace(level=2/0)>\n",
      "  with primal = DeviceArray(-0.72156, dtype=float64)\n",
      "       tangent = Traced<ShapedArray(float64[]):JaxprTrace(level=1/0)>\n",
      "x, alpha, f: Traced<ShapedArray(float64[1])>with<JVPTrace(level=4/0)>\n",
      "  with primal = Traced<ShapedArray(float64[1]):JaxprTrace(level=3/0)>\n",
      "       tangent = Traced<ShapedArray(float64[1]):JaxprTrace(level=3/0)> [-0.7] Traced<ShapedArray(float64[])>with<JVPTrace(level=4/0)>\n",
      "  with primal = Traced<ShapedArray(float64[])>with<DynamicJaxprTrace(level=2/0)>\n",
      "       tangent = Traced<ShapedArray(float64[]):JaxprTrace(level=3/0)>\n",
      "x, alpha, f: Traced<ShapedArray(float64[1])>with<JVPTrace(level=5/0)>\n",
      "  with primal = Traced<ShapedArray(float64[1]):JaxprTrace(level=4/0)>\n",
      "       tangent = Traced<ShapedArray(float64[1]):JaxprTrace(level=4/0)> [-0.7] Traced<ShapedArray(float64[])>with<JVPTrace(level=5/0)>\n",
      "  with primal = Traced<ShapedArray(float64[])>with<DynamicJaxprTrace(level=3/0)>\n",
      "       tangent = Traced<ShapedArray(float64[]):JaxprTrace(level=4/0)>\n",
      "x, alpha, f: Traced<ShapedArray(float64[1])>with<JVPTrace(level=5/0)>\n",
      "  with primal = Traced<ShapedArray(float64[1]):JaxprTrace(level=4/0)>\n",
      "       tangent = Traced<ShapedArray(float64[1]):JaxprTrace(level=4/0)> [-0.7] Traced<ShapedArray(float64[])>with<JVPTrace(level=5/0)>\n",
      "  with primal = Traced<ShapedArray(float64[])>with<DynamicJaxprTrace(level=3/0)>\n",
      "       tangent = Traced<ShapedArray(float64[]):JaxprTrace(level=4/0)>\n",
      "-0.7000000000000001 0.4900000000000001\n",
      "x, alpha, f: Traced<ConcreteArray([0.1])>with<JVPTrace(level=2/0)>\n",
      "  with primal = Traced<ConcreteArray([0.1]):JaxprTrace(level=1/0)>\n",
      "       tangent = Traced<ShapedArray(float64[1]):JaxprTrace(level=1/0)> [-0.6] Traced<ConcreteArray(-0.6111600000000001)>with<JVPTrace(level=2/0)>\n",
      "  with primal = DeviceArray(-0.61116, dtype=float64)\n",
      "       tangent = Traced<ShapedArray(float64[]):JaxprTrace(level=1/0)>\n",
      "x, alpha, f: Traced<ShapedArray(float64[1])>with<JVPTrace(level=4/0)>\n",
      "  with primal = Traced<ShapedArray(float64[1]):JaxprTrace(level=3/0)>\n",
      "       tangent = Traced<ShapedArray(float64[1]):JaxprTrace(level=3/0)> [-0.6] Traced<ShapedArray(float64[])>with<JVPTrace(level=4/0)>\n",
      "  with primal = Traced<ShapedArray(float64[])>with<DynamicJaxprTrace(level=2/0)>\n",
      "       tangent = Traced<ShapedArray(float64[]):JaxprTrace(level=3/0)>\n",
      "x, alpha, f: Traced<ShapedArray(float64[1])>with<JVPTrace(level=5/0)>\n",
      "  with primal = Traced<ShapedArray(float64[1]):JaxprTrace(level=4/0)>\n",
      "       tangent = Traced<ShapedArray(float64[1]):JaxprTrace(level=4/0)> [-0.6] Traced<ShapedArray(float64[])>with<JVPTrace(level=5/0)>\n",
      "  with primal = Traced<ShapedArray(float64[])>with<DynamicJaxprTrace(level=3/0)>\n",
      "       tangent = Traced<ShapedArray(float64[]):JaxprTrace(level=4/0)>\n",
      "x, alpha, f: Traced<ShapedArray(float64[1])>with<JVPTrace(level=5/0)>\n",
      "  with primal = Traced<ShapedArray(float64[1]):JaxprTrace(level=4/0)>\n",
      "       tangent = Traced<ShapedArray(float64[1]):JaxprTrace(level=4/0)> [-0.6] Traced<ShapedArray(float64[])>with<JVPTrace(level=5/0)>\n",
      "  with primal = Traced<ShapedArray(float64[])>with<DynamicJaxprTrace(level=3/0)>\n",
      "       tangent = Traced<ShapedArray(float64[]):JaxprTrace(level=4/0)>\n",
      "-0.6000000000000001 0.3600000000000001\n",
      "x, alpha, f: Traced<ConcreteArray([0.1])>with<JVPTrace(level=2/0)>\n",
      "  with primal = Traced<ConcreteArray([0.1]):JaxprTrace(level=1/0)>\n",
      "       tangent = Traced<ShapedArray(float64[1]):JaxprTrace(level=1/0)> [-0.5] Traced<ConcreteArray(-0.5050000000000001)>with<JVPTrace(level=2/0)>\n",
      "  with primal = DeviceArray(-0.505, dtype=float64)\n",
      "       tangent = Traced<ShapedArray(float64[]):JaxprTrace(level=1/0)>\n",
      "x, alpha, f: Traced<ShapedArray(float64[1])>with<JVPTrace(level=4/0)>\n",
      "  with primal = Traced<ShapedArray(float64[1]):JaxprTrace(level=3/0)>\n",
      "       tangent = Traced<ShapedArray(float64[1]):JaxprTrace(level=3/0)> [-0.5] Traced<ShapedArray(float64[])>with<JVPTrace(level=4/0)>\n",
      "  with primal = Traced<ShapedArray(float64[])>with<DynamicJaxprTrace(level=2/0)>\n",
      "       tangent = Traced<ShapedArray(float64[]):JaxprTrace(level=3/0)>\n",
      "x, alpha, f: Traced<ShapedArray(float64[1])>with<JVPTrace(level=5/0)>\n",
      "  with primal = Traced<ShapedArray(float64[1]):JaxprTrace(level=4/0)>\n",
      "       tangent = Traced<ShapedArray(float64[1]):JaxprTrace(level=4/0)> [-0.5] Traced<ShapedArray(float64[])>with<JVPTrace(level=5/0)>\n",
      "  with primal = Traced<ShapedArray(float64[])>with<DynamicJaxprTrace(level=3/0)>\n",
      "       tangent = Traced<ShapedArray(float64[]):JaxprTrace(level=4/0)>\n",
      "x, alpha, f: Traced<ShapedArray(float64[1])>with<JVPTrace(level=5/0)>\n",
      "  with primal = Traced<ShapedArray(float64[1]):JaxprTrace(level=4/0)>\n",
      "       tangent = Traced<ShapedArray(float64[1]):JaxprTrace(level=4/0)> [-0.5] Traced<ShapedArray(float64[])>with<JVPTrace(level=5/0)>\n",
      "  with primal = Traced<ShapedArray(float64[])>with<DynamicJaxprTrace(level=3/0)>\n",
      "       tangent = Traced<ShapedArray(float64[]):JaxprTrace(level=4/0)>\n",
      "-0.5000000000000001 0.2500000000000001\n",
      "x, alpha, f: Traced<ConcreteArray([0.1])>with<JVPTrace(level=2/0)>\n",
      "  with primal = Traced<ConcreteArray([0.1]):JaxprTrace(level=1/0)>\n",
      "       tangent = Traced<ShapedArray(float64[1]):JaxprTrace(level=1/0)> [-0.4] Traced<ConcreteArray(-0.4017600000000001)>with<JVPTrace(level=2/0)>\n",
      "  with primal = DeviceArray(-0.40176, dtype=float64)\n",
      "       tangent = Traced<ShapedArray(float64[]):JaxprTrace(level=1/0)>\n",
      "x, alpha, f: Traced<ShapedArray(float64[1])>with<JVPTrace(level=4/0)>\n",
      "  with primal = Traced<ShapedArray(float64[1]):JaxprTrace(level=3/0)>\n",
      "       tangent = Traced<ShapedArray(float64[1]):JaxprTrace(level=3/0)> [-0.4] Traced<ShapedArray(float64[])>with<JVPTrace(level=4/0)>\n",
      "  with primal = Traced<ShapedArray(float64[])>with<DynamicJaxprTrace(level=2/0)>\n",
      "       tangent = Traced<ShapedArray(float64[]):JaxprTrace(level=3/0)>\n",
      "x, alpha, f: Traced<ShapedArray(float64[1])>with<JVPTrace(level=5/0)>\n",
      "  with primal = Traced<ShapedArray(float64[1]):JaxprTrace(level=4/0)>\n",
      "       tangent = Traced<ShapedArray(float64[1]):JaxprTrace(level=4/0)> [-0.4] Traced<ShapedArray(float64[])>with<JVPTrace(level=5/0)>\n",
      "  with primal = Traced<ShapedArray(float64[])>with<DynamicJaxprTrace(level=3/0)>\n",
      "       tangent = Traced<ShapedArray(float64[]):JaxprTrace(level=4/0)>\n",
      "x, alpha, f: Traced<ShapedArray(float64[1])>with<JVPTrace(level=5/0)>\n",
      "  with primal = Traced<ShapedArray(float64[1]):JaxprTrace(level=4/0)>\n",
      "       tangent = Traced<ShapedArray(float64[1]):JaxprTrace(level=4/0)> [-0.4] Traced<ShapedArray(float64[])>with<JVPTrace(level=5/0)>\n",
      "  with primal = Traced<ShapedArray(float64[])>with<DynamicJaxprTrace(level=3/0)>\n",
      "       tangent = Traced<ShapedArray(float64[]):JaxprTrace(level=4/0)>\n",
      "-0.40000000000000013 0.1600000000000001\n",
      "x, alpha, f: Traced<ConcreteArray([0.1])>with<JVPTrace(level=2/0)>\n",
      "  with primal = Traced<ConcreteArray([0.1]):JaxprTrace(level=1/0)>\n",
      "       tangent = Traced<ShapedArray(float64[1]):JaxprTrace(level=1/0)> [-0.3] Traced<ConcreteArray(-0.3003600000000002)>with<JVPTrace(level=2/0)>\n",
      "  with primal = DeviceArray(-0.30036, dtype=float64)\n",
      "       tangent = Traced<ShapedArray(float64[]):JaxprTrace(level=1/0)>\n",
      "x, alpha, f: Traced<ShapedArray(float64[1])>with<JVPTrace(level=4/0)>\n",
      "  with primal = Traced<ShapedArray(float64[1]):JaxprTrace(level=3/0)>\n",
      "       tangent = Traced<ShapedArray(float64[1]):JaxprTrace(level=3/0)> [-0.3] Traced<ShapedArray(float64[])>with<JVPTrace(level=4/0)>\n",
      "  with primal = Traced<ShapedArray(float64[])>with<DynamicJaxprTrace(level=2/0)>\n",
      "       tangent = Traced<ShapedArray(float64[]):JaxprTrace(level=3/0)>\n",
      "x, alpha, f: Traced<ShapedArray(float64[1])>with<JVPTrace(level=5/0)>\n",
      "  with primal = Traced<ShapedArray(float64[1]):JaxprTrace(level=4/0)>\n",
      "       tangent = Traced<ShapedArray(float64[1]):JaxprTrace(level=4/0)> [-0.3] Traced<ShapedArray(float64[])>with<JVPTrace(level=5/0)>\n",
      "  with primal = Traced<ShapedArray(float64[])>with<DynamicJaxprTrace(level=3/0)>\n",
      "       tangent = Traced<ShapedArray(float64[]):JaxprTrace(level=4/0)>\n",
      "x, alpha, f: Traced<ShapedArray(float64[1])>with<JVPTrace(level=5/0)>\n",
      "  with primal = Traced<ShapedArray(float64[1]):JaxprTrace(level=4/0)>\n",
      "       tangent = Traced<ShapedArray(float64[1]):JaxprTrace(level=4/0)> [-0.3] Traced<ShapedArray(float64[])>with<JVPTrace(level=5/0)>\n",
      "  with primal = Traced<ShapedArray(float64[])>with<DynamicJaxprTrace(level=3/0)>\n",
      "       tangent = Traced<ShapedArray(float64[]):JaxprTrace(level=4/0)>\n",
      "-0.30000000000000016 0.1\n",
      "x, alpha, f: Traced<ConcreteArray([0.1])>with<JVPTrace(level=2/0)>\n",
      "  with primal = Traced<ConcreteArray([0.1]):JaxprTrace(level=1/0)>\n",
      "       tangent = Traced<ShapedArray(float64[1]):JaxprTrace(level=1/0)> [-0.2] Traced<ConcreteArray(-0.19996000000000017)>with<JVPTrace(level=2/0)>\n",
      "  with primal = DeviceArray(-0.19996, dtype=float64)\n",
      "       tangent = Traced<ShapedArray(float64[]):JaxprTrace(level=1/0)>\n",
      "x, alpha, f: Traced<ShapedArray(float64[1])>with<JVPTrace(level=4/0)>\n",
      "  with primal = Traced<ShapedArray(float64[1]):JaxprTrace(level=3/0)>\n",
      "       tangent = Traced<ShapedArray(float64[1]):JaxprTrace(level=3/0)> [-0.2] Traced<ShapedArray(float64[])>with<JVPTrace(level=4/0)>\n",
      "  with primal = Traced<ShapedArray(float64[])>with<DynamicJaxprTrace(level=2/0)>\n",
      "       tangent = Traced<ShapedArray(float64[]):JaxprTrace(level=3/0)>\n",
      "x, alpha, f: Traced<ShapedArray(float64[1])>with<JVPTrace(level=5/0)>\n",
      "  with primal = Traced<ShapedArray(float64[1]):JaxprTrace(level=4/0)>\n",
      "       tangent = Traced<ShapedArray(float64[1]):JaxprTrace(level=4/0)> [-0.2] Traced<ShapedArray(float64[])>with<JVPTrace(level=5/0)>\n",
      "  with primal = Traced<ShapedArray(float64[])>with<DynamicJaxprTrace(level=3/0)>\n",
      "       tangent = Traced<ShapedArray(float64[]):JaxprTrace(level=4/0)>\n",
      "x, alpha, f: Traced<ShapedArray(float64[1])>with<JVPTrace(level=5/0)>\n",
      "  with primal = Traced<ShapedArray(float64[1]):JaxprTrace(level=4/0)>\n",
      "       tangent = Traced<ShapedArray(float64[1]):JaxprTrace(level=4/0)> [-0.2] Traced<ShapedArray(float64[])>with<JVPTrace(level=5/0)>\n",
      "  with primal = Traced<ShapedArray(float64[])>with<DynamicJaxprTrace(level=3/0)>\n",
      "       tangent = Traced<ShapedArray(float64[]):JaxprTrace(level=4/0)>\n",
      "-0.20000000000000018 0.04000000000000009\n",
      "x, alpha, f: Traced<ConcreteArray([0.1])>with<JVPTrace(level=2/0)>\n",
      "  with primal = Traced<ConcreteArray([0.1]):JaxprTrace(level=1/0)>\n",
      "       tangent = Traced<ShapedArray(float64[1]):JaxprTrace(level=1/0)> [-0.1] Traced<ConcreteArray(-0.0999600000000002)>with<JVPTrace(level=2/0)>\n",
      "  with primal = DeviceArray(-0.09996, dtype=float64)\n",
      "       tangent = Traced<ShapedArray(float64[]):JaxprTrace(level=1/0)>\n",
      "x, alpha, f: Traced<ShapedArray(float64[1])>with<JVPTrace(level=4/0)>\n",
      "  with primal = Traced<ShapedArray(float64[1]):JaxprTrace(level=3/0)>\n",
      "       tangent = Traced<ShapedArray(float64[1]):JaxprTrace(level=3/0)> [-0.1] Traced<ShapedArray(float64[])>with<JVPTrace(level=4/0)>\n",
      "  with primal = Traced<ShapedArray(float64[])>with<DynamicJaxprTrace(level=2/0)>\n",
      "       tangent = Traced<ShapedArray(float64[]):JaxprTrace(level=3/0)>\n",
      "x, alpha, f: Traced<ShapedArray(float64[1])>with<JVPTrace(level=5/0)>\n",
      "  with primal = Traced<ShapedArray(float64[1]):JaxprTrace(level=4/0)>\n",
      "       tangent = Traced<ShapedArray(float64[1]):JaxprTrace(level=4/0)> [-0.1] Traced<ShapedArray(float64[])>with<JVPTrace(level=5/0)>\n",
      "  with primal = Traced<ShapedArray(float64[])>with<DynamicJaxprTrace(level=3/0)>\n",
      "       tangent = Traced<ShapedArray(float64[]):JaxprTrace(level=4/0)>\n",
      "x, alpha, f: Traced<ShapedArray(float64[1])>with<JVPTrace(level=5/0)>\n",
      "  with primal = Traced<ShapedArray(float64[1]):JaxprTrace(level=4/0)>\n",
      "       tangent = Traced<ShapedArray(float64[1]):JaxprTrace(level=4/0)> [-0.1] Traced<ShapedArray(float64[])>with<JVPTrace(level=5/0)>\n",
      "  with primal = Traced<ShapedArray(float64[])>with<DynamicJaxprTrace(level=3/0)>\n",
      "       tangent = Traced<ShapedArray(float64[]):JaxprTrace(level=4/0)>\n",
      "-0.1000000000000002 0.1\n",
      "x, alpha, f: Traced<ConcreteArray([0.1])>with<JVPTrace(level=2/0)>\n",
      "  with primal = Traced<ConcreteArray([0.1]):JaxprTrace(level=1/0)>\n",
      "       tangent = Traced<ShapedArray(float64[1]):JaxprTrace(level=1/0)> [-2.22044605e-16] Traced<ConcreteArray(-2.220446049250313e-16)>with<JVPTrace(level=2/0)>\n",
      "  with primal = DeviceArray(-2.22044605e-16, dtype=float64)\n",
      "       tangent = Traced<ShapedArray(float64[]):JaxprTrace(level=1/0)>\n",
      "x, alpha, f: Traced<ShapedArray(float64[1])>with<JVPTrace(level=4/0)>\n",
      "  with primal = Traced<ShapedArray(float64[1]):JaxprTrace(level=3/0)>\n",
      "       tangent = Traced<ShapedArray(float64[1]):JaxprTrace(level=3/0)> [-2.22044605e-16] Traced<ShapedArray(float64[])>with<JVPTrace(level=4/0)>\n",
      "  with primal = Traced<ShapedArray(float64[])>with<DynamicJaxprTrace(level=2/0)>\n",
      "       tangent = Traced<ShapedArray(float64[]):JaxprTrace(level=3/0)>\n",
      "x, alpha, f: Traced<ShapedArray(float64[1])>with<JVPTrace(level=5/0)>\n",
      "  with primal = Traced<ShapedArray(float64[1]):JaxprTrace(level=4/0)>\n",
      "       tangent = Traced<ShapedArray(float64[1]):JaxprTrace(level=4/0)> [-2.22044605e-16] Traced<ShapedArray(float64[])>with<JVPTrace(level=5/0)>\n",
      "  with primal = Traced<ShapedArray(float64[])>with<DynamicJaxprTrace(level=3/0)>\n",
      "       tangent = Traced<ShapedArray(float64[]):JaxprTrace(level=4/0)>\n",
      "x, alpha, f: Traced<ShapedArray(float64[1])>with<JVPTrace(level=5/0)>\n",
      "  with primal = Traced<ShapedArray(float64[1]):JaxprTrace(level=4/0)>\n",
      "       tangent = Traced<ShapedArray(float64[1]):JaxprTrace(level=4/0)> [-2.22044605e-16] Traced<ShapedArray(float64[])>with<JVPTrace(level=5/0)>\n",
      "  with primal = Traced<ShapedArray(float64[])>with<DynamicJaxprTrace(level=3/0)>\n",
      "       tangent = Traced<ShapedArray(float64[]):JaxprTrace(level=4/0)>\n",
      "-2.220446049250313e-16 0.1\n",
      "x, alpha, f: Traced<ConcreteArray([0.1])>with<JVPTrace(level=2/0)>\n",
      "  with primal = Traced<ConcreteArray([0.1]):JaxprTrace(level=1/0)>\n",
      "       tangent = Traced<ShapedArray(float64[1]):JaxprTrace(level=1/0)> [0.1] Traced<ConcreteArray(0.10003999999999964)>with<JVPTrace(level=2/0)>\n",
      "  with primal = DeviceArray(0.10004, dtype=float64)\n",
      "       tangent = Traced<ShapedArray(float64[]):JaxprTrace(level=1/0)>\n",
      "x, alpha, f: Traced<ShapedArray(float64[1])>with<JVPTrace(level=4/0)>\n",
      "  with primal = Traced<ShapedArray(float64[1]):JaxprTrace(level=3/0)>\n",
      "       tangent = Traced<ShapedArray(float64[1]):JaxprTrace(level=3/0)> [0.1] Traced<ShapedArray(float64[])>with<JVPTrace(level=4/0)>\n",
      "  with primal = Traced<ShapedArray(float64[])>with<DynamicJaxprTrace(level=2/0)>\n",
      "       tangent = Traced<ShapedArray(float64[]):JaxprTrace(level=3/0)>\n",
      "x, alpha, f: Traced<ShapedArray(float64[1])>with<JVPTrace(level=5/0)>\n",
      "  with primal = Traced<ShapedArray(float64[1]):JaxprTrace(level=4/0)>\n",
      "       tangent = Traced<ShapedArray(float64[1]):JaxprTrace(level=4/0)> [0.1] Traced<ShapedArray(float64[])>with<JVPTrace(level=5/0)>\n",
      "  with primal = Traced<ShapedArray(float64[])>with<DynamicJaxprTrace(level=3/0)>\n",
      "       tangent = Traced<ShapedArray(float64[]):JaxprTrace(level=4/0)>\n",
      "x, alpha, f: Traced<ShapedArray(float64[1])>with<JVPTrace(level=5/0)>\n",
      "  with primal = Traced<ShapedArray(float64[1]):JaxprTrace(level=4/0)>\n",
      "       tangent = Traced<ShapedArray(float64[1]):JaxprTrace(level=4/0)> [0.1] Traced<ShapedArray(float64[])>with<JVPTrace(level=5/0)>\n",
      "  with primal = Traced<ShapedArray(float64[])>with<DynamicJaxprTrace(level=3/0)>\n",
      "       tangent = Traced<ShapedArray(float64[]):JaxprTrace(level=4/0)>\n",
      "0.09999999999999964 0.1\n",
      "x, alpha, f: Traced<ConcreteArray([0.1])>with<JVPTrace(level=2/0)>\n",
      "  with primal = Traced<ConcreteArray([0.1]):JaxprTrace(level=1/0)>\n",
      "       tangent = Traced<ShapedArray(float64[1]):JaxprTrace(level=1/0)> [0.2] Traced<ConcreteArray(0.20003999999999975)>with<JVPTrace(level=2/0)>\n",
      "  with primal = DeviceArray(0.20004, dtype=float64)\n",
      "       tangent = Traced<ShapedArray(float64[]):JaxprTrace(level=1/0)>\n",
      "x, alpha, f: Traced<ShapedArray(float64[1])>with<JVPTrace(level=4/0)>\n",
      "  with primal = Traced<ShapedArray(float64[1]):JaxprTrace(level=3/0)>\n",
      "       tangent = Traced<ShapedArray(float64[1]):JaxprTrace(level=3/0)> [0.2] Traced<ShapedArray(float64[])>with<JVPTrace(level=4/0)>\n",
      "  with primal = Traced<ShapedArray(float64[])>with<DynamicJaxprTrace(level=2/0)>\n",
      "       tangent = Traced<ShapedArray(float64[]):JaxprTrace(level=3/0)>\n",
      "x, alpha, f: Traced<ShapedArray(float64[1])>with<JVPTrace(level=5/0)>\n",
      "  with primal = Traced<ShapedArray(float64[1]):JaxprTrace(level=4/0)>\n",
      "       tangent = Traced<ShapedArray(float64[1]):JaxprTrace(level=4/0)> [0.2] Traced<ShapedArray(float64[])>with<JVPTrace(level=5/0)>\n",
      "  with primal = Traced<ShapedArray(float64[])>with<DynamicJaxprTrace(level=3/0)>\n",
      "       tangent = Traced<ShapedArray(float64[]):JaxprTrace(level=4/0)>\n",
      "x, alpha, f: Traced<ShapedArray(float64[1])>with<JVPTrace(level=5/0)>\n",
      "  with primal = Traced<ShapedArray(float64[1]):JaxprTrace(level=4/0)>\n",
      "       tangent = Traced<ShapedArray(float64[1]):JaxprTrace(level=4/0)> [0.2] Traced<ShapedArray(float64[])>with<JVPTrace(level=5/0)>\n",
      "  with primal = Traced<ShapedArray(float64[])>with<DynamicJaxprTrace(level=3/0)>\n",
      "       tangent = Traced<ShapedArray(float64[]):JaxprTrace(level=4/0)>\n",
      "0.19999999999999973 0.039999999999999925\n",
      "x, alpha, f: Traced<ConcreteArray([0.1])>with<JVPTrace(level=2/0)>\n",
      "  with primal = Traced<ConcreteArray([0.1]):JaxprTrace(level=1/0)>\n",
      "       tangent = Traced<ShapedArray(float64[1]):JaxprTrace(level=1/0)> [0.3] Traced<ConcreteArray(0.29963999999999985)>with<JVPTrace(level=2/0)>\n",
      "  with primal = DeviceArray(0.29964, dtype=float64)\n",
      "       tangent = Traced<ShapedArray(float64[]):JaxprTrace(level=1/0)>\n",
      "x, alpha, f: Traced<ShapedArray(float64[1])>with<JVPTrace(level=4/0)>\n",
      "  with primal = Traced<ShapedArray(float64[1]):JaxprTrace(level=3/0)>\n",
      "       tangent = Traced<ShapedArray(float64[1]):JaxprTrace(level=3/0)> [0.3] Traced<ShapedArray(float64[])>with<JVPTrace(level=4/0)>\n",
      "  with primal = Traced<ShapedArray(float64[])>with<DynamicJaxprTrace(level=2/0)>\n",
      "       tangent = Traced<ShapedArray(float64[]):JaxprTrace(level=3/0)>\n",
      "x, alpha, f: Traced<ShapedArray(float64[1])>with<JVPTrace(level=5/0)>\n",
      "  with primal = Traced<ShapedArray(float64[1]):JaxprTrace(level=4/0)>\n",
      "       tangent = Traced<ShapedArray(float64[1]):JaxprTrace(level=4/0)> [0.3] Traced<ShapedArray(float64[])>with<JVPTrace(level=5/0)>\n",
      "  with primal = Traced<ShapedArray(float64[])>with<DynamicJaxprTrace(level=3/0)>\n",
      "       tangent = Traced<ShapedArray(float64[]):JaxprTrace(level=4/0)>\n",
      "x, alpha, f: Traced<ShapedArray(float64[1])>with<JVPTrace(level=5/0)>\n",
      "  with primal = Traced<ShapedArray(float64[1]):JaxprTrace(level=4/0)>\n",
      "       tangent = Traced<ShapedArray(float64[1]):JaxprTrace(level=4/0)> [0.3] Traced<ShapedArray(float64[])>with<JVPTrace(level=5/0)>\n",
      "  with primal = Traced<ShapedArray(float64[])>with<DynamicJaxprTrace(level=3/0)>\n",
      "       tangent = Traced<ShapedArray(float64[]):JaxprTrace(level=4/0)>\n",
      "0.2999999999999998 0.1\n",
      "x, alpha, f: Traced<ConcreteArray([0.1])>with<JVPTrace(level=2/0)>\n",
      "  with primal = Traced<ConcreteArray([0.1]):JaxprTrace(level=1/0)>\n",
      "       tangent = Traced<ShapedArray(float64[1]):JaxprTrace(level=1/0)> [0.4] Traced<ConcreteArray(0.3982399999999997)>with<JVPTrace(level=2/0)>\n",
      "  with primal = DeviceArray(0.39824, dtype=float64)\n",
      "       tangent = Traced<ShapedArray(float64[]):JaxprTrace(level=1/0)>\n",
      "x, alpha, f: Traced<ShapedArray(float64[1])>with<JVPTrace(level=4/0)>\n",
      "  with primal = Traced<ShapedArray(float64[1]):JaxprTrace(level=3/0)>\n",
      "       tangent = Traced<ShapedArray(float64[1]):JaxprTrace(level=3/0)> [0.4] Traced<ShapedArray(float64[])>with<JVPTrace(level=4/0)>\n",
      "  with primal = Traced<ShapedArray(float64[])>with<DynamicJaxprTrace(level=2/0)>\n",
      "       tangent = Traced<ShapedArray(float64[]):JaxprTrace(level=3/0)>\n",
      "x, alpha, f: Traced<ShapedArray(float64[1])>with<JVPTrace(level=5/0)>\n",
      "  with primal = Traced<ShapedArray(float64[1]):JaxprTrace(level=4/0)>\n",
      "       tangent = Traced<ShapedArray(float64[1]):JaxprTrace(level=4/0)> [0.4] Traced<ShapedArray(float64[])>with<JVPTrace(level=5/0)>\n",
      "  with primal = Traced<ShapedArray(float64[])>with<DynamicJaxprTrace(level=3/0)>\n",
      "       tangent = Traced<ShapedArray(float64[]):JaxprTrace(level=4/0)>\n",
      "x, alpha, f: Traced<ShapedArray(float64[1])>with<JVPTrace(level=5/0)>\n",
      "  with primal = Traced<ShapedArray(float64[1]):JaxprTrace(level=4/0)>\n",
      "       tangent = Traced<ShapedArray(float64[1]):JaxprTrace(level=4/0)> [0.4] Traced<ShapedArray(float64[])>with<JVPTrace(level=5/0)>\n",
      "  with primal = Traced<ShapedArray(float64[])>with<DynamicJaxprTrace(level=3/0)>\n",
      "       tangent = Traced<ShapedArray(float64[]):JaxprTrace(level=4/0)>\n",
      "0.3999999999999997 0.15999999999999975\n",
      "x, alpha, f: Traced<ConcreteArray([0.1])>with<JVPTrace(level=2/0)>\n",
      "  with primal = Traced<ConcreteArray([0.1]):JaxprTrace(level=1/0)>\n",
      "       tangent = Traced<ShapedArray(float64[1]):JaxprTrace(level=1/0)> [0.5] Traced<ConcreteArray(0.49499999999999955)>with<JVPTrace(level=2/0)>\n",
      "  with primal = DeviceArray(0.495, dtype=float64)\n",
      "       tangent = Traced<ShapedArray(float64[]):JaxprTrace(level=1/0)>\n",
      "x, alpha, f: Traced<ShapedArray(float64[1])>with<JVPTrace(level=4/0)>\n",
      "  with primal = Traced<ShapedArray(float64[1]):JaxprTrace(level=3/0)>\n",
      "       tangent = Traced<ShapedArray(float64[1]):JaxprTrace(level=3/0)> [0.5] Traced<ShapedArray(float64[])>with<JVPTrace(level=4/0)>\n",
      "  with primal = Traced<ShapedArray(float64[])>with<DynamicJaxprTrace(level=2/0)>\n",
      "       tangent = Traced<ShapedArray(float64[]):JaxprTrace(level=3/0)>\n",
      "x, alpha, f: Traced<ShapedArray(float64[1])>with<JVPTrace(level=5/0)>\n",
      "  with primal = Traced<ShapedArray(float64[1]):JaxprTrace(level=4/0)>\n",
      "       tangent = Traced<ShapedArray(float64[1]):JaxprTrace(level=4/0)> [0.5] Traced<ShapedArray(float64[])>with<JVPTrace(level=5/0)>\n",
      "  with primal = Traced<ShapedArray(float64[])>with<DynamicJaxprTrace(level=3/0)>\n",
      "       tangent = Traced<ShapedArray(float64[]):JaxprTrace(level=4/0)>\n",
      "x, alpha, f: Traced<ShapedArray(float64[1])>with<JVPTrace(level=5/0)>\n",
      "  with primal = Traced<ShapedArray(float64[1]):JaxprTrace(level=4/0)>\n",
      "       tangent = Traced<ShapedArray(float64[1]):JaxprTrace(level=4/0)> [0.5] Traced<ShapedArray(float64[])>with<JVPTrace(level=5/0)>\n",
      "  with primal = Traced<ShapedArray(float64[])>with<DynamicJaxprTrace(level=3/0)>\n",
      "       tangent = Traced<ShapedArray(float64[]):JaxprTrace(level=4/0)>\n",
      "0.49999999999999956 0.24999999999999956\n",
      "x, alpha, f: Traced<ConcreteArray([0.1])>with<JVPTrace(level=2/0)>\n",
      "  with primal = Traced<ConcreteArray([0.1]):JaxprTrace(level=1/0)>\n",
      "       tangent = Traced<ShapedArray(float64[1]):JaxprTrace(level=1/0)> [0.6] Traced<ConcreteArray(0.5888399999999997)>with<JVPTrace(level=2/0)>\n",
      "  with primal = DeviceArray(0.58884, dtype=float64)\n",
      "       tangent = Traced<ShapedArray(float64[]):JaxprTrace(level=1/0)>\n",
      "x, alpha, f: Traced<ShapedArray(float64[1])>with<JVPTrace(level=4/0)>\n",
      "  with primal = Traced<ShapedArray(float64[1]):JaxprTrace(level=3/0)>\n",
      "       tangent = Traced<ShapedArray(float64[1]):JaxprTrace(level=3/0)> [0.6] Traced<ShapedArray(float64[])>with<JVPTrace(level=4/0)>\n",
      "  with primal = Traced<ShapedArray(float64[])>with<DynamicJaxprTrace(level=2/0)>\n",
      "       tangent = Traced<ShapedArray(float64[]):JaxprTrace(level=3/0)>\n",
      "x, alpha, f: Traced<ShapedArray(float64[1])>with<JVPTrace(level=5/0)>\n",
      "  with primal = Traced<ShapedArray(float64[1]):JaxprTrace(level=4/0)>\n",
      "       tangent = Traced<ShapedArray(float64[1]):JaxprTrace(level=4/0)> [0.6] Traced<ShapedArray(float64[])>with<JVPTrace(level=5/0)>\n",
      "  with primal = Traced<ShapedArray(float64[])>with<DynamicJaxprTrace(level=3/0)>\n",
      "       tangent = Traced<ShapedArray(float64[]):JaxprTrace(level=4/0)>\n",
      "x, alpha, f: Traced<ShapedArray(float64[1])>with<JVPTrace(level=5/0)>\n",
      "  with primal = Traced<ShapedArray(float64[1]):JaxprTrace(level=4/0)>\n",
      "       tangent = Traced<ShapedArray(float64[1]):JaxprTrace(level=4/0)> [0.6] Traced<ShapedArray(float64[])>with<JVPTrace(level=5/0)>\n",
      "  with primal = Traced<ShapedArray(float64[])>with<DynamicJaxprTrace(level=3/0)>\n",
      "       tangent = Traced<ShapedArray(float64[]):JaxprTrace(level=4/0)>\n",
      "0.5999999999999996 0.35999999999999954\n",
      "x, alpha, f: Traced<ConcreteArray([0.1])>with<JVPTrace(level=2/0)>\n",
      "  with primal = Traced<ConcreteArray([0.1]):JaxprTrace(level=1/0)>\n",
      "       tangent = Traced<ShapedArray(float64[1]):JaxprTrace(level=1/0)> [0.7] Traced<ConcreteArray(0.6784399999999998)>with<JVPTrace(level=2/0)>\n",
      "  with primal = DeviceArray(0.67844, dtype=float64)\n",
      "       tangent = Traced<ShapedArray(float64[]):JaxprTrace(level=1/0)>\n",
      "x, alpha, f: Traced<ShapedArray(float64[1])>with<JVPTrace(level=4/0)>\n",
      "  with primal = Traced<ShapedArray(float64[1]):JaxprTrace(level=3/0)>\n",
      "       tangent = Traced<ShapedArray(float64[1]):JaxprTrace(level=3/0)> [0.7] Traced<ShapedArray(float64[])>with<JVPTrace(level=4/0)>\n",
      "  with primal = Traced<ShapedArray(float64[])>with<DynamicJaxprTrace(level=2/0)>\n",
      "       tangent = Traced<ShapedArray(float64[]):JaxprTrace(level=3/0)>\n",
      "x, alpha, f: Traced<ShapedArray(float64[1])>with<JVPTrace(level=5/0)>\n",
      "  with primal = Traced<ShapedArray(float64[1]):JaxprTrace(level=4/0)>\n",
      "       tangent = Traced<ShapedArray(float64[1]):JaxprTrace(level=4/0)> [0.7] Traced<ShapedArray(float64[])>with<JVPTrace(level=5/0)>\n",
      "  with primal = Traced<ShapedArray(float64[])>with<DynamicJaxprTrace(level=3/0)>\n",
      "       tangent = Traced<ShapedArray(float64[]):JaxprTrace(level=4/0)>\n",
      "x, alpha, f: Traced<ShapedArray(float64[1])>with<JVPTrace(level=5/0)>\n",
      "  with primal = Traced<ShapedArray(float64[1]):JaxprTrace(level=4/0)>\n",
      "       tangent = Traced<ShapedArray(float64[1]):JaxprTrace(level=4/0)> [0.7] Traced<ShapedArray(float64[])>with<JVPTrace(level=5/0)>\n",
      "  with primal = Traced<ShapedArray(float64[])>with<DynamicJaxprTrace(level=3/0)>\n",
      "       tangent = Traced<ShapedArray(float64[]):JaxprTrace(level=4/0)>\n",
      "0.6999999999999997 0.48999999999999955\n",
      "x, alpha, f: Traced<ConcreteArray([0.1])>with<JVPTrace(level=2/0)>\n",
      "  with primal = Traced<ConcreteArray([0.1]):JaxprTrace(level=1/0)>\n",
      "       tangent = Traced<ShapedArray(float64[1]):JaxprTrace(level=1/0)> [0.8] Traced<ConcreteArray(0.7622399999999997)>with<JVPTrace(level=2/0)>\n",
      "  with primal = DeviceArray(0.76224, dtype=float64)\n",
      "       tangent = Traced<ShapedArray(float64[]):JaxprTrace(level=1/0)>\n",
      "x, alpha, f: Traced<ShapedArray(float64[1])>with<JVPTrace(level=4/0)>\n",
      "  with primal = Traced<ShapedArray(float64[1]):JaxprTrace(level=3/0)>\n",
      "       tangent = Traced<ShapedArray(float64[1]):JaxprTrace(level=3/0)> [0.8] Traced<ShapedArray(float64[])>with<JVPTrace(level=4/0)>\n",
      "  with primal = Traced<ShapedArray(float64[])>with<DynamicJaxprTrace(level=2/0)>\n",
      "       tangent = Traced<ShapedArray(float64[]):JaxprTrace(level=3/0)>\n",
      "x, alpha, f: Traced<ShapedArray(float64[1])>with<JVPTrace(level=5/0)>\n",
      "  with primal = Traced<ShapedArray(float64[1]):JaxprTrace(level=4/0)>\n",
      "       tangent = Traced<ShapedArray(float64[1]):JaxprTrace(level=4/0)> [0.8] Traced<ShapedArray(float64[])>with<JVPTrace(level=5/0)>\n",
      "  with primal = Traced<ShapedArray(float64[])>with<DynamicJaxprTrace(level=3/0)>\n",
      "       tangent = Traced<ShapedArray(float64[]):JaxprTrace(level=4/0)>\n",
      "x, alpha, f: Traced<ShapedArray(float64[1])>with<JVPTrace(level=5/0)>\n",
      "  with primal = Traced<ShapedArray(float64[1]):JaxprTrace(level=4/0)>\n",
      "       tangent = Traced<ShapedArray(float64[1]):JaxprTrace(level=4/0)> [0.8] Traced<ShapedArray(float64[])>with<JVPTrace(level=5/0)>\n",
      "  with primal = Traced<ShapedArray(float64[])>with<DynamicJaxprTrace(level=3/0)>\n",
      "       tangent = Traced<ShapedArray(float64[]):JaxprTrace(level=4/0)>\n",
      "0.7999999999999996 0.6399999999999995\n",
      "x, alpha, f: Traced<ConcreteArray([0.1])>with<JVPTrace(level=2/0)>\n",
      "  with primal = Traced<ConcreteArray([0.1]):JaxprTrace(level=1/0)>\n",
      "       tangent = Traced<ShapedArray(float64[1]):JaxprTrace(level=1/0)> [0.9] Traced<ConcreteArray(0.8384399999999996)>with<JVPTrace(level=2/0)>\n",
      "  with primal = DeviceArray(0.83844, dtype=float64)\n",
      "       tangent = Traced<ShapedArray(float64[]):JaxprTrace(level=1/0)>\n",
      "x, alpha, f: Traced<ShapedArray(float64[1])>with<JVPTrace(level=4/0)>\n",
      "  with primal = Traced<ShapedArray(float64[1]):JaxprTrace(level=3/0)>\n",
      "       tangent = Traced<ShapedArray(float64[1]):JaxprTrace(level=3/0)> [0.9] Traced<ShapedArray(float64[])>with<JVPTrace(level=4/0)>\n",
      "  with primal = Traced<ShapedArray(float64[])>with<DynamicJaxprTrace(level=2/0)>\n",
      "       tangent = Traced<ShapedArray(float64[]):JaxprTrace(level=3/0)>\n",
      "x, alpha, f: Traced<ShapedArray(float64[1])>with<JVPTrace(level=5/0)>\n",
      "  with primal = Traced<ShapedArray(float64[1]):JaxprTrace(level=4/0)>\n",
      "       tangent = Traced<ShapedArray(float64[1]):JaxprTrace(level=4/0)> [0.9] Traced<ShapedArray(float64[])>with<JVPTrace(level=5/0)>\n",
      "  with primal = Traced<ShapedArray(float64[])>with<DynamicJaxprTrace(level=3/0)>\n",
      "       tangent = Traced<ShapedArray(float64[]):JaxprTrace(level=4/0)>\n",
      "x, alpha, f: Traced<ShapedArray(float64[1])>with<JVPTrace(level=5/0)>\n",
      "  with primal = Traced<ShapedArray(float64[1]):JaxprTrace(level=4/0)>\n",
      "       tangent = Traced<ShapedArray(float64[1]):JaxprTrace(level=4/0)> [0.9] Traced<ShapedArray(float64[])>with<JVPTrace(level=5/0)>\n",
      "  with primal = Traced<ShapedArray(float64[])>with<DynamicJaxprTrace(level=3/0)>\n",
      "       tangent = Traced<ShapedArray(float64[]):JaxprTrace(level=4/0)>\n",
      "0.8999999999999995 0.8099999999999992\n"
     ]
    },
    {
     "data": {
      "text/plain": [
       "[<matplotlib.lines.Line2D at 0x7fa2544c3128>]"
      ]
     },
     "execution_count": 9,
     "metadata": {},
     "output_type": "execute_result"
    },
    {
     "data": {
      "image/png": "[encoded data removed]",
      "text/plain": [
       "<Figure size 432x288 with 1 Axes>"
      ]
     },
     "metadata": {
      "needs_background": "light"
     },
     "output_type": "display_data"
    }
   ],
   "source": [
    "alphas = np.arange(-1,1,0.1)\n",
    "print(alphas)\n",
    "\n",
    "my_list = []\n",
    "for alpha in alphas:\n",
    "    f = min_x_func(np.array([alpha]),None)\n",
    "    print(alpha, f)\n",
    "    my_list.append(f)\n",
    "\n",
    "plt.plot(alphas, my_list, '.-')"
   ]
  },
  {
   "cell_type": "code",
   "execution_count": 153,
   "metadata": {},
   "outputs": [],
   "source": [
    "dx_dalpha = jax.jacfwd(min_x_func, argnums = 0)\n",
    "# gradient = jax.grad(min_x_func, argnums = 0)\n",
    "# gradient = jax.jacrev(min_x_func, argnums = 0)"
   ]
  },
  {
   "cell_type": "code",
   "execution_count": 154,
   "metadata": {},
   "outputs": [
    {
     "name": "stdout",
     "output_type": "stream",
     "text": [
      "x, alpha, f: Traced<ConcreteArray([0.1])>with<JVPTrace(level=4/0)>\n",
      "  with primal = Traced<ConcreteArray([0.1]):JaxprTrace(level=3/0)>\n",
      "       tangent = Traced<ShapedArray(float64[1]):JaxprTrace(level=3/0)> Traced<ConcreteArray([1.])>with<JVPTrace(level=2/0)>\n",
      "  with primal = DeviceArray([1.], dtype=float64)\n",
      "       tangent = Traced<ShapedArray(float64[1])>with<BatchTrace(level=1/0)>\n",
      "                   with val = array([[1.]])\n",
      "                        batch_dim = 0 Traced<ConcreteArray(0.905)>with<JVPTrace(level=4/0)>\n",
      "  with primal = Traced<ConcreteArray(0.905)>with<JVPTrace(level=2/0)>\n",
      "                  with primal = DeviceArray(0.905, dtype=float64)\n",
      "                       tangent = Traced<ShapedArray(float64[])>with<BatchTrace(level=1/0)>\n",
      "                                   with val = DeviceArray([0.61], dtype=float64)\n",
      "                                        batch_dim = 0\n",
      "       tangent = Traced<ShapedArray(float64[]):JaxprTrace(level=3/0)>\n",
      "x, alpha, f: Traced<ShapedArray(float64[1])>with<JVPTrace(level=6/0)>\n",
      "  with primal = Traced<ShapedArray(float64[1]):JaxprTrace(level=5/0)>\n",
      "       tangent = Traced<ShapedArray(float64[1]):JaxprTrace(level=5/0)> Traced<ConcreteArray([1.])>with<JVPTrace(level=2/0)>\n",
      "  with primal = DeviceArray([1.], dtype=float64)\n",
      "       tangent = Traced<ShapedArray(float64[1])>with<BatchTrace(level=1/0)>\n",
      "                   with val = array([[1.]])\n",
      "                        batch_dim = 0 Traced<ShapedArray(float64[])>with<JVPTrace(level=6/0)>\n",
      "  with primal = Traced<ShapedArray(float64[])>with<DynamicJaxprTrace(level=4/0)>\n",
      "       tangent = Traced<ShapedArray(float64[]):JaxprTrace(level=5/0)>\n",
      "x, alpha, f: Traced<ShapedArray(float64[1])>with<JVPTrace(level=7/0)>\n",
      "  with primal = Traced<ShapedArray(float64[1]):JaxprTrace(level=6/0)>\n",
      "       tangent = Traced<ShapedArray(float64[1]):JaxprTrace(level=6/0)> Traced<ConcreteArray([1.])>with<JVPTrace(level=2/0)>\n",
      "  with primal = DeviceArray([1.], dtype=float64)\n",
      "       tangent = Traced<ShapedArray(float64[1])>with<BatchTrace(level=1/0)>\n",
      "                   with val = array([[1.]])\n",
      "                        batch_dim = 0 Traced<ShapedArray(float64[])>with<JVPTrace(level=7/0)>\n",
      "  with primal = Traced<ShapedArray(float64[])>with<DynamicJaxprTrace(level=5/0)>\n",
      "       tangent = Traced<ShapedArray(float64[]):JaxprTrace(level=6/0)>\n",
      "x, alpha, f: Traced<ShapedArray(float64[1])>with<JVPTrace(level=7/0)>\n",
      "  with primal = Traced<ShapedArray(float64[1]):JaxprTrace(level=6/0)>\n",
      "       tangent = Traced<ShapedArray(float64[1]):JaxprTrace(level=6/0)> Traced<ConcreteArray([1.])>with<JVPTrace(level=2/0)>\n",
      "  with primal = DeviceArray([1.], dtype=float64)\n",
      "       tangent = Traced<ShapedArray(float64[1])>with<BatchTrace(level=1/0)>\n",
      "                   with val = array([[1.]])\n",
      "                        batch_dim = 0 Traced<ShapedArray(float64[])>with<JVPTrace(level=7/0)>\n",
      "  with primal = Traced<ShapedArray(float64[])>with<DynamicJaxprTrace(level=5/0)>\n",
      "       tangent = Traced<ShapedArray(float64[]):JaxprTrace(level=6/0)>\n"
     ]
    },
    {
     "data": {
      "text/plain": [
       "DeviceArray([3.8], dtype=float64)"
      ]
     },
     "execution_count": 154,
     "metadata": {},
     "output_type": "execute_result"
    }
   ],
   "source": [
    "dx_dalpha(np.array([1.0]),None)"
   ]
  },
  {
   "cell_type": "code",
   "execution_count": 40,
   "metadata": {},
   "outputs": [],
   "source": [
    "def min_x_func_with_grad(alpha, beta):\n",
    "    x = min_x_func(alpha, beta)\n",
    "\n",
    "    dx_dalpha = jax.jacfwd(min_x_func, argnums = 0)\n",
    "    grad = dx_dalpha(alpha, beta)\n",
    "\n",
    "    print('alpha, grad: ',alpha,grad)\n",
    "    return x, grad"
   ]
  },
  {
   "cell_type": "code",
   "execution_count": null,
   "metadata": {},
   "outputs": [],
   "source": [
    "def min_x_func_with_grad(alpha, beta):\n",
    "    mini = minimize(min_x_func_with_grad(alpha, beta))\n",
    "    \n",
    "\n",
    "    dx_dalpha = jax.jacfwd(min_x_func, argnums = 0)\n",
    "    grad = dx_dalpha(alpha, beta)\n",
    "\n",
    "    print('alpha, grad: ',alpha,grad)\n",
    "    return x, grad"
   ]
  },
  {
   "cell_type": "code",
   "execution_count": 41,
   "metadata": {},
   "outputs": [
    {
     "name": "stdout",
     "output_type": "stream",
     "text": [
      "x, alpha, f: Traced<ConcreteArray([0.01])>with<JVPTrace(level=2/0)>\n",
      "  with primal = Traced<ConcreteArray([0.01]):JaxprTrace(level=1/0)>\n",
      "       tangent = Traced<ShapedArray(float64[1]):JaxprTrace(level=1/0)> [2.] Traced<ConcreteArray(1.8402)>with<JVPTrace(level=2/0)>\n",
      "  with primal = DeviceArray(1.8402, dtype=float64)\n",
      "       tangent = Traced<ShapedArray(float64[]):JaxprTrace(level=1/0)>\n",
      "x, alpha, f: Traced<ShapedArray(float64[1])>with<JVPTrace(level=4/0)>\n",
      "  with primal = Traced<ShapedArray(float64[1]):JaxprTrace(level=3/0)>\n",
      "       tangent = Traced<ShapedArray(float64[1]):JaxprTrace(level=3/0)> [2.] Traced<ShapedArray(float64[])>with<JVPTrace(level=4/0)>\n",
      "  with primal = Traced<ShapedArray(float64[])>with<DynamicJaxprTrace(level=2/0)>\n",
      "       tangent = Traced<ShapedArray(float64[]):JaxprTrace(level=3/0)>\n",
      "x, alpha, f: Traced<ShapedArray(float64[1])>with<JVPTrace(level=5/0)>\n",
      "  with primal = Traced<ShapedArray(float64[1]):JaxprTrace(level=4/0)>\n",
      "       tangent = Traced<ShapedArray(float64[1]):JaxprTrace(level=4/0)> [2.] Traced<ShapedArray(float64[])>with<JVPTrace(level=5/0)>\n",
      "  with primal = Traced<ShapedArray(float64[])>with<DynamicJaxprTrace(level=3/0)>\n",
      "       tangent = Traced<ShapedArray(float64[]):JaxprTrace(level=4/0)>\n",
      "x, alpha, f: Traced<ShapedArray(float64[1])>with<JVPTrace(level=5/0)>\n",
      "  with primal = Traced<ShapedArray(float64[1]):JaxprTrace(level=4/0)>\n",
      "       tangent = Traced<ShapedArray(float64[1]):JaxprTrace(level=4/0)> [2.] Traced<ShapedArray(float64[])>with<JVPTrace(level=5/0)>\n",
      "  with primal = Traced<ShapedArray(float64[])>with<DynamicJaxprTrace(level=3/0)>\n",
      "       tangent = Traced<ShapedArray(float64[]):JaxprTrace(level=4/0)>\n",
      "x, alpha, f: Traced<ConcreteArray([0.01])>with<JVPTrace(level=4/0)>\n",
      "  with primal = Traced<ConcreteArray([0.01]):JaxprTrace(level=3/0)>\n",
      "       tangent = Traced<ShapedArray(float64[1]):JaxprTrace(level=3/0)> Traced<ConcreteArray([2.])>with<JVPTrace(level=2/0)>\n",
      "  with primal = array([2.])\n",
      "       tangent = Traced<ShapedArray(float64[1])>with<BatchTrace(level=1/0)>\n",
      "                   with val = array([[1.]])\n",
      "                        batch_dim = 0 Traced<ConcreteArray(1.8402)>with<JVPTrace(level=4/0)>\n",
      "  with primal = Traced<ConcreteArray(1.8402)>with<JVPTrace(level=2/0)>\n",
      "                  with primal = DeviceArray(1.8402, dtype=float64)\n",
      "                       tangent = Traced<ShapedArray(float64[])>with<BatchTrace(level=1/0)>\n",
      "                                   with val = DeviceArray([0.6802], dtype=float64)\n",
      "                                        batch_dim = 0\n",
      "       tangent = Traced<ShapedArray(float64[]):JaxprTrace(level=3/0)>\n",
      "x, alpha, f: Traced<ShapedArray(float64[1])>with<JVPTrace(level=6/0)>\n",
      "  with primal = Traced<ShapedArray(float64[1]):JaxprTrace(level=5/0)>\n",
      "       tangent = Traced<ShapedArray(float64[1]):JaxprTrace(level=5/0)> Traced<ConcreteArray([2.])>with<JVPTrace(level=2/0)>\n",
      "  with primal = array([2.])\n",
      "       tangent = Traced<ShapedArray(float64[1])>with<BatchTrace(level=1/0)>\n",
      "                   with val = array([[1.]])\n",
      "                        batch_dim = 0 Traced<ShapedArray(float64[])>with<JVPTrace(level=6/0)>\n",
      "  with primal = Traced<ShapedArray(float64[])>with<DynamicJaxprTrace(level=4/0)>\n",
      "       tangent = Traced<ShapedArray(float64[]):JaxprTrace(level=5/0)>\n",
      "x, alpha, f: Traced<ShapedArray(float64[1])>with<JVPTrace(level=7/0)>\n",
      "  with primal = Traced<ShapedArray(float64[1]):JaxprTrace(level=6/0)>\n",
      "       tangent = Traced<ShapedArray(float64[1]):JaxprTrace(level=6/0)> Traced<ConcreteArray([2.])>with<JVPTrace(level=2/0)>\n",
      "  with primal = array([2.])\n",
      "       tangent = Traced<ShapedArray(float64[1])>with<BatchTrace(level=1/0)>\n",
      "                   with val = array([[1.]])\n",
      "                        batch_dim = 0 Traced<ShapedArray(float64[])>with<JVPTrace(level=7/0)>\n",
      "  with primal = Traced<ShapedArray(float64[])>with<DynamicJaxprTrace(level=5/0)>\n",
      "       tangent = Traced<ShapedArray(float64[]):JaxprTrace(level=6/0)>\n",
      "x, alpha, f: Traced<ShapedArray(float64[1])>with<JVPTrace(level=7/0)>\n",
      "  with primal = Traced<ShapedArray(float64[1]):JaxprTrace(level=6/0)>\n",
      "       tangent = Traced<ShapedArray(float64[1]):JaxprTrace(level=6/0)> Traced<ConcreteArray([2.])>with<JVPTrace(level=2/0)>\n",
      "  with primal = array([2.])\n",
      "       tangent = Traced<ShapedArray(float64[1])>with<BatchTrace(level=1/0)>\n",
      "                   with val = array([[1.]])\n",
      "                        batch_dim = 0 Traced<ShapedArray(float64[])>with<JVPTrace(level=7/0)>\n",
      "  with primal = Traced<ShapedArray(float64[])>with<DynamicJaxprTrace(level=5/0)>\n",
      "       tangent = Traced<ShapedArray(float64[]):JaxprTrace(level=6/0)>\n",
      "alpha, grad:  [2.] [4.]\n",
      "x, alpha, f: Traced<ConcreteArray([0.01])>with<JVPTrace(level=2/0)>\n",
      "  with primal = Traced<ConcreteArray([0.01]):JaxprTrace(level=1/0)>\n",
      "       tangent = Traced<ShapedArray(float64[1]):JaxprTrace(level=1/0)> [0.99] Traced<ConcreteArray(0.9804430449)>with<JVPTrace(level=2/0)>\n",
      "  with primal = DeviceArray(0.98044304, dtype=float64)\n",
      "       tangent = Traced<ShapedArray(float64[]):JaxprTrace(level=1/0)>\n",
      "x, alpha, f: Traced<ShapedArray(float64[1])>with<JVPTrace(level=4/0)>\n",
      "  with primal = Traced<ShapedArray(float64[1]):JaxprTrace(level=3/0)>\n",
      "       tangent = Traced<ShapedArray(float64[1]):JaxprTrace(level=3/0)> [0.99] Traced<ShapedArray(float64[])>with<JVPTrace(level=4/0)>\n",
      "  with primal = Traced<ShapedArray(float64[])>with<DynamicJaxprTrace(level=2/0)>\n",
      "       tangent = Traced<ShapedArray(float64[]):JaxprTrace(level=3/0)>\n",
      "x, alpha, f: Traced<ShapedArray(float64[1])>with<JVPTrace(level=5/0)>\n",
      "  with primal = Traced<ShapedArray(float64[1]):JaxprTrace(level=4/0)>\n",
      "       tangent = Traced<ShapedArray(float64[1]):JaxprTrace(level=4/0)> [0.99] Traced<ShapedArray(float64[])>with<JVPTrace(level=5/0)>\n",
      "  with primal = Traced<ShapedArray(float64[])>with<DynamicJaxprTrace(level=3/0)>\n",
      "       tangent = Traced<ShapedArray(float64[]):JaxprTrace(level=4/0)>\n",
      "x, alpha, f: Traced<ShapedArray(float64[1])>with<JVPTrace(level=5/0)>\n",
      "  with primal = Traced<ShapedArray(float64[1]):JaxprTrace(level=4/0)>\n",
      "       tangent = Traced<ShapedArray(float64[1]):JaxprTrace(level=4/0)> [0.99] Traced<ShapedArray(float64[])>with<JVPTrace(level=5/0)>\n",
      "  with primal = Traced<ShapedArray(float64[])>with<DynamicJaxprTrace(level=3/0)>\n",
      "       tangent = Traced<ShapedArray(float64[]):JaxprTrace(level=4/0)>\n",
      "x, alpha, f: Traced<ConcreteArray([0.01])>with<JVPTrace(level=4/0)>\n",
      "  with primal = Traced<ConcreteArray([0.01]):JaxprTrace(level=3/0)>\n",
      "       tangent = Traced<ShapedArray(float64[1]):JaxprTrace(level=3/0)> Traced<ConcreteArray([0.99])>with<JVPTrace(level=2/0)>\n",
      "  with primal = array([0.99])\n",
      "       tangent = Traced<ShapedArray(float64[1])>with<BatchTrace(level=1/0)>\n",
      "                   with val = array([[1.]])\n",
      "                        batch_dim = 0 Traced<ConcreteArray(0.9804430449)>with<JVPTrace(level=4/0)>\n",
      "  with primal = Traced<ConcreteArray(0.9804430449)>with<JVPTrace(level=2/0)>\n",
      "                  with primal = DeviceArray(0.98044304, dtype=float64)\n",
      "                       tangent = Traced<ShapedArray(float64[])>with<BatchTrace(level=1/0)>\n",
      "                                   with val = DeviceArray([0.96128704], dtype=float64)\n",
      "                                        batch_dim = 0\n",
      "       tangent = Traced<ShapedArray(float64[]):JaxprTrace(level=3/0)>\n",
      "x, alpha, f: Traced<ShapedArray(float64[1])>with<JVPTrace(level=6/0)>\n",
      "  with primal = Traced<ShapedArray(float64[1]):JaxprTrace(level=5/0)>\n",
      "       tangent = Traced<ShapedArray(float64[1]):JaxprTrace(level=5/0)> Traced<ConcreteArray([0.99])>with<JVPTrace(level=2/0)>\n",
      "  with primal = array([0.99])\n",
      "       tangent = Traced<ShapedArray(float64[1])>with<BatchTrace(level=1/0)>\n",
      "                   with val = array([[1.]])\n",
      "                        batch_dim = 0 Traced<ShapedArray(float64[])>with<JVPTrace(level=6/0)>\n",
      "  with primal = Traced<ShapedArray(float64[])>with<DynamicJaxprTrace(level=4/0)>\n",
      "       tangent = Traced<ShapedArray(float64[]):JaxprTrace(level=5/0)>\n",
      "x, alpha, f: Traced<ShapedArray(float64[1])>with<JVPTrace(level=7/0)>\n",
      "  with primal = Traced<ShapedArray(float64[1]):JaxprTrace(level=6/0)>\n",
      "       tangent = Traced<ShapedArray(float64[1]):JaxprTrace(level=6/0)> Traced<ConcreteArray([0.99])>with<JVPTrace(level=2/0)>\n",
      "  with primal = array([0.99])\n",
      "       tangent = Traced<ShapedArray(float64[1])>with<BatchTrace(level=1/0)>\n",
      "                   with val = array([[1.]])\n",
      "                        batch_dim = 0 Traced<ShapedArray(float64[])>with<JVPTrace(level=7/0)>\n",
      "  with primal = Traced<ShapedArray(float64[])>with<DynamicJaxprTrace(level=5/0)>\n",
      "       tangent = Traced<ShapedArray(float64[]):JaxprTrace(level=6/0)>\n",
      "x, alpha, f: Traced<ShapedArray(float64[1])>with<JVPTrace(level=7/0)>\n",
      "  with primal = Traced<ShapedArray(float64[1]):JaxprTrace(level=6/0)>\n",
      "       tangent = Traced<ShapedArray(float64[1]):JaxprTrace(level=6/0)> Traced<ConcreteArray([0.99])>with<JVPTrace(level=2/0)>\n",
      "  with primal = array([0.99])\n",
      "       tangent = Traced<ShapedArray(float64[1])>with<BatchTrace(level=1/0)>\n",
      "                   with val = array([[1.]])\n",
      "                        batch_dim = 0 Traced<ShapedArray(float64[])>with<JVPTrace(level=7/0)>\n",
      "  with primal = Traced<ShapedArray(float64[])>with<DynamicJaxprTrace(level=5/0)>\n",
      "       tangent = Traced<ShapedArray(float64[]):JaxprTrace(level=6/0)>\n",
      "alpha, grad:  [0.99] [1.98]\n",
      "x, alpha, f: Traced<ConcreteArray([0.01])>with<JVPTrace(level=2/0)>\n",
      "  with primal = Traced<ConcreteArray([0.01]):JaxprTrace(level=1/0)>\n",
      "       tangent = Traced<ShapedArray(float64[1]):JaxprTrace(level=1/0)> [0.] Traced<ConcreteArray(0.0)>with<JVPTrace(level=2/0)>\n",
      "  with primal = DeviceArray(0., dtype=float64)\n",
      "       tangent = Traced<ShapedArray(float64[]):JaxprTrace(level=1/0)>\n",
      "x, alpha, f: Traced<ShapedArray(float64[1])>with<JVPTrace(level=4/0)>\n",
      "  with primal = Traced<ShapedArray(float64[1]):JaxprTrace(level=3/0)>\n",
      "       tangent = Traced<ShapedArray(float64[1]):JaxprTrace(level=3/0)> [0.] Traced<ShapedArray(float64[])>with<JVPTrace(level=4/0)>\n",
      "  with primal = Traced<ShapedArray(float64[])>with<DynamicJaxprTrace(level=2/0)>\n",
      "       tangent = Traced<ShapedArray(float64[]):JaxprTrace(level=3/0)>\n",
      "x, alpha, f: Traced<ShapedArray(float64[1])>with<JVPTrace(level=5/0)>\n",
      "  with primal = Traced<ShapedArray(float64[1]):JaxprTrace(level=4/0)>\n",
      "       tangent = Traced<ShapedArray(float64[1]):JaxprTrace(level=4/0)> [0.] Traced<ShapedArray(float64[])>with<JVPTrace(level=5/0)>\n",
      "  with primal = Traced<ShapedArray(float64[])>with<DynamicJaxprTrace(level=3/0)>\n",
      "       tangent = Traced<ShapedArray(float64[]):JaxprTrace(level=4/0)>\n",
      "x, alpha, f: Traced<ShapedArray(float64[1])>with<JVPTrace(level=5/0)>\n",
      "  with primal = Traced<ShapedArray(float64[1]):JaxprTrace(level=4/0)>\n",
      "       tangent = Traced<ShapedArray(float64[1]):JaxprTrace(level=4/0)> [0.] Traced<ShapedArray(float64[])>with<JVPTrace(level=5/0)>\n",
      "  with primal = Traced<ShapedArray(float64[])>with<DynamicJaxprTrace(level=3/0)>\n",
      "       tangent = Traced<ShapedArray(float64[]):JaxprTrace(level=4/0)>\n",
      "x, alpha, f: Traced<ConcreteArray([0.01])>with<JVPTrace(level=4/0)>\n",
      "  with primal = Traced<ConcreteArray([0.01]):JaxprTrace(level=3/0)>\n",
      "       tangent = Traced<ShapedArray(float64[1]):JaxprTrace(level=3/0)> Traced<ConcreteArray([0.])>with<JVPTrace(level=2/0)>\n",
      "  with primal = array([0.])\n",
      "       tangent = Traced<ShapedArray(float64[1])>with<BatchTrace(level=1/0)>\n",
      "                   with val = array([[1.]])\n",
      "                        batch_dim = 0 Traced<ConcreteArray(0.0)>with<JVPTrace(level=4/0)>\n",
      "  with primal = Traced<ConcreteArray(0.0)>with<JVPTrace(level=2/0)>\n",
      "                  with primal = DeviceArray(0., dtype=float64)\n",
      "                       tangent = Traced<ShapedArray(float64[])>with<BatchTrace(level=1/0)>\n",
      "                                   with val = DeviceArray([1.], dtype=float64)\n",
      "                                        batch_dim = 0\n",
      "       tangent = Traced<ShapedArray(float64[]):JaxprTrace(level=3/0)>\n",
      "x, alpha, f: Traced<ShapedArray(float64[1])>with<JVPTrace(level=6/0)>\n",
      "  with primal = Traced<ShapedArray(float64[1]):JaxprTrace(level=5/0)>\n",
      "       tangent = Traced<ShapedArray(float64[1]):JaxprTrace(level=5/0)> Traced<ConcreteArray([0.])>with<JVPTrace(level=2/0)>\n",
      "  with primal = array([0.])\n",
      "       tangent = Traced<ShapedArray(float64[1])>with<BatchTrace(level=1/0)>\n",
      "                   with val = array([[1.]])\n",
      "                        batch_dim = 0 Traced<ShapedArray(float64[])>with<JVPTrace(level=6/0)>\n",
      "  with primal = Traced<ShapedArray(float64[])>with<DynamicJaxprTrace(level=4/0)>\n",
      "       tangent = Traced<ShapedArray(float64[]):JaxprTrace(level=5/0)>\n",
      "x, alpha, f: Traced<ShapedArray(float64[1])>with<JVPTrace(level=7/0)>\n",
      "  with primal = Traced<ShapedArray(float64[1]):JaxprTrace(level=6/0)>\n",
      "       tangent = Traced<ShapedArray(float64[1]):JaxprTrace(level=6/0)> Traced<ConcreteArray([0.])>with<JVPTrace(level=2/0)>\n",
      "  with primal = array([0.])\n",
      "       tangent = Traced<ShapedArray(float64[1])>with<BatchTrace(level=1/0)>\n",
      "                   with val = array([[1.]])\n",
      "                        batch_dim = 0 Traced<ShapedArray(float64[])>with<JVPTrace(level=7/0)>\n",
      "  with primal = Traced<ShapedArray(float64[])>with<DynamicJaxprTrace(level=5/0)>\n",
      "       tangent = Traced<ShapedArray(float64[]):JaxprTrace(level=6/0)>\n",
      "x, alpha, f: Traced<ShapedArray(float64[1])>with<JVPTrace(level=7/0)>\n",
      "  with primal = Traced<ShapedArray(float64[1]):JaxprTrace(level=6/0)>\n",
      "       tangent = Traced<ShapedArray(float64[1]):JaxprTrace(level=6/0)> Traced<ConcreteArray([0.])>with<JVPTrace(level=2/0)>\n",
      "  with primal = array([0.])\n",
      "       tangent = Traced<ShapedArray(float64[1])>with<BatchTrace(level=1/0)>\n",
      "                   with val = array([[1.]])\n",
      "                        batch_dim = 0 Traced<ShapedArray(float64[])>with<JVPTrace(level=7/0)>\n",
      "  with primal = Traced<ShapedArray(float64[])>with<DynamicJaxprTrace(level=5/0)>\n",
      "       tangent = Traced<ShapedArray(float64[]):JaxprTrace(level=6/0)>\n",
      "alpha, grad:  [0.] [0.]\n"
     ]
    }
   ],
   "source": [
    "mini = minimize(min_x_func_with_grad, alpha, args = (None), method = 'BFGS', jac = True, options =  {'gtol': 1e-3})"
   ]
  },
  {
   "cell_type": "code",
   "execution_count": 42,
   "metadata": {},
   "outputs": [
    {
     "data": {
      "text/plain": [
       "      fun: 0.01\n",
       " hess_inv: array([[0.5]])\n",
       "      jac: array([0.])\n",
       "  message: 'Optimization terminated successfully.'\n",
       "     nfev: 3\n",
       "      nit: 2\n",
       "     njev: 3\n",
       "   status: 0\n",
       "  success: True\n",
       "        x: array([0.])"
      ]
     },
     "execution_count": 42,
     "metadata": {},
     "output_type": "execute_result"
    }
   ],
   "source": [
    "mini"
   ]
  },
  {
   "cell_type": "code",
   "execution_count": 152,
   "metadata": {},
   "outputs": [
    {
     "name": "stdout",
     "output_type": "stream",
     "text": [
      "[-2.22044605e-16]\n",
      "0.1\n",
      "x, alpha, f: Traced<ConcreteArray([0.1])>with<JVPTrace(level=2/0)>\n",
      "  with primal = Traced<ConcreteArray([0.1]):JaxprTrace(level=1/0)>\n",
      "       tangent = Traced<ShapedArray(float64[1]):JaxprTrace(level=1/0)> [-2.22044605e-16] Traced<ConcreteArray(-2.220446049250313e-16)>with<JVPTrace(level=2/0)>\n",
      "  with primal = DeviceArray(-2.22044605e-16, dtype=float64)\n",
      "       tangent = Traced<ShapedArray(float64[]):JaxprTrace(level=1/0)>\n",
      "x, alpha, f: Traced<ShapedArray(float64[1])>with<JVPTrace(level=4/0)>\n",
      "  with primal = Traced<ShapedArray(float64[1]):JaxprTrace(level=3/0)>\n",
      "       tangent = Traced<ShapedArray(float64[1]):JaxprTrace(level=3/0)> [-2.22044605e-16] Traced<ShapedArray(float64[])>with<JVPTrace(level=4/0)>\n",
      "  with primal = Traced<ShapedArray(float64[])>with<DynamicJaxprTrace(level=2/0)>\n",
      "       tangent = Traced<ShapedArray(float64[]):JaxprTrace(level=3/0)>\n",
      "x, alpha, f: Traced<ShapedArray(float64[1])>with<JVPTrace(level=5/0)>\n",
      "  with primal = Traced<ShapedArray(float64[1]):JaxprTrace(level=4/0)>\n",
      "       tangent = Traced<ShapedArray(float64[1]):JaxprTrace(level=4/0)> [-2.22044605e-16] Traced<ShapedArray(float64[])>with<JVPTrace(level=5/0)>\n",
      "  with primal = Traced<ShapedArray(float64[])>with<DynamicJaxprTrace(level=3/0)>\n",
      "       tangent = Traced<ShapedArray(float64[]):JaxprTrace(level=4/0)>\n",
      "x, alpha, f: Traced<ShapedArray(float64[1])>with<JVPTrace(level=5/0)>\n",
      "  with primal = Traced<ShapedArray(float64[1]):JaxprTrace(level=4/0)>\n",
      "       tangent = Traced<ShapedArray(float64[1]):JaxprTrace(level=4/0)> [-2.22044605e-16] Traced<ShapedArray(float64[])>with<JVPTrace(level=5/0)>\n",
      "  with primal = Traced<ShapedArray(float64[])>with<DynamicJaxprTrace(level=3/0)>\n",
      "       tangent = Traced<ShapedArray(float64[]):JaxprTrace(level=4/0)>\n",
      "x, alpha, f: Traced<ConcreteArray([0.1])>with<JVPTrace(level=4/0)>\n",
      "  with primal = Traced<ConcreteArray([0.1]):JaxprTrace(level=3/0)>\n",
      "       tangent = Traced<ShapedArray(float64[1]):JaxprTrace(level=3/0)> Traced<ConcreteArray([-2.22044605e-16])>with<JVPTrace(level=2/0)>\n",
      "  with primal = array([-2.22044605e-16])\n",
      "       tangent = Traced<ShapedArray(float64[1])>with<BatchTrace(level=1/0)>\n",
      "                   with val = array([[1.]])\n",
      "                        batch_dim = 0 Traced<ConcreteArray(-2.220446049250313e-16)>with<JVPTrace(level=4/0)>\n",
      "  with primal = Traced<ConcreteArray(-2.220446049250313e-16)>with<JVPTrace(level=2/0)>\n",
      "                  with primal = DeviceArray(-2.22044605e-16, dtype=float64)\n",
      "                       tangent = Traced<ShapedArray(float64[])>with<BatchTrace(level=1/0)>\n",
      "                                   with val = DeviceArray([1.], dtype=float64)\n",
      "                                        batch_dim = 0\n",
      "       tangent = Traced<ShapedArray(float64[]):JaxprTrace(level=3/0)>\n",
      "x, alpha, f: Traced<ShapedArray(float64[1])>with<JVPTrace(level=6/0)>\n",
      "  with primal = Traced<ShapedArray(float64[1]):JaxprTrace(level=5/0)>\n",
      "       tangent = Traced<ShapedArray(float64[1]):JaxprTrace(level=5/0)> Traced<ConcreteArray([-2.22044605e-16])>with<JVPTrace(level=2/0)>\n",
      "  with primal = array([-2.22044605e-16])\n",
      "       tangent = Traced<ShapedArray(float64[1])>with<BatchTrace(level=1/0)>\n",
      "                   with val = array([[1.]])\n",
      "                        batch_dim = 0 Traced<ShapedArray(float64[])>with<JVPTrace(level=6/0)>\n",
      "  with primal = Traced<ShapedArray(float64[])>with<DynamicJaxprTrace(level=4/0)>\n",
      "       tangent = Traced<ShapedArray(float64[]):JaxprTrace(level=5/0)>\n",
      "x, alpha, f: Traced<ShapedArray(float64[1])>with<JVPTrace(level=7/0)>\n",
      "  with primal = Traced<ShapedArray(float64[1]):JaxprTrace(level=6/0)>\n",
      "       tangent = Traced<ShapedArray(float64[1]):JaxprTrace(level=6/0)> Traced<ConcreteArray([-2.22044605e-16])>with<JVPTrace(level=2/0)>\n",
      "  with primal = array([-2.22044605e-16])\n",
      "       tangent = Traced<ShapedArray(float64[1])>with<BatchTrace(level=1/0)>\n",
      "                   with val = array([[1.]])\n",
      "                        batch_dim = 0 Traced<ShapedArray(float64[])>with<JVPTrace(level=7/0)>\n",
      "  with primal = Traced<ShapedArray(float64[])>with<DynamicJaxprTrace(level=5/0)>\n",
      "       tangent = Traced<ShapedArray(float64[]):JaxprTrace(level=6/0)>\n",
      "x, alpha, f: Traced<ShapedArray(float64[1])>with<JVPTrace(level=7/0)>\n",
      "  with primal = Traced<ShapedArray(float64[1]):JaxprTrace(level=6/0)>\n",
      "       tangent = Traced<ShapedArray(float64[1]):JaxprTrace(level=6/0)> Traced<ConcreteArray([-2.22044605e-16])>with<JVPTrace(level=2/0)>\n",
      "  with primal = array([-2.22044605e-16])\n",
      "       tangent = Traced<ShapedArray(float64[1])>with<BatchTrace(level=1/0)>\n",
      "                   with val = array([[1.]])\n",
      "                        batch_dim = 0 Traced<ShapedArray(float64[])>with<JVPTrace(level=7/0)>\n",
      "  with primal = Traced<ShapedArray(float64[])>with<DynamicJaxprTrace(level=5/0)>\n",
      "       tangent = Traced<ShapedArray(float64[]):JaxprTrace(level=6/0)>\n"
     ]
    },
    {
     "data": {
      "text/plain": [
       "(DeviceArray(0.1, dtype=float64), DeviceArray([0.], dtype=float64))"
      ]
     },
     "execution_count": 152,
     "metadata": {},
     "output_type": "execute_result"
    }
   ],
   "source": [
    "x = mini.x\n",
    "print(x)\n",
    "\n",
    "print(mini.fun)\n",
    "\n",
    "min_x_func_with_grad(x,None)"
   ]
  },
  {
   "cell_type": "markdown",
   "metadata": {},
   "source": [
    "#### ..."
   ]
  },
  {
   "cell_type": "code",
   "execution_count": 113,
   "metadata": {},
   "outputs": [],
   "source": [
    "def my_func(x,alpha,beta):\n",
    "    f = 1/2*(alpha[0]*x[0])**2 - x[0]*alpha[0]**4 + alpha[0]\n",
    "    f = np.float64(f)\n",
    "    print('x, alpha, f:',x,alpha,f)\n",
    "    return f"
   ]
  },
  {
   "cell_type": "code",
   "execution_count": 114,
   "metadata": {},
   "outputs": [],
   "source": [
    "from jax.scipy.optimize import minimize\n",
    "# from scipy.optimize import minimize"
   ]
  },
  {
   "cell_type": "code",
   "execution_count": 115,
   "metadata": {},
   "outputs": [],
   "source": [
    "x0 = np.array([0.1])\n",
    "alpha = np.array([2.0])\n",
    "\n",
    "beta = None\n",
    "gamma = None\n",
    "\n",
    "def min_x(alpha, beta, gamma):\n",
    "    beta = None\n",
    "    mini = minimize(my_func, x0, args = (alpha, beta), method = 'BFGS', options = {'gtol': 1e-3})\n",
    "    min_x = mini.x[0]\n",
    "    return min_x"
   ]
  },
  {
   "cell_type": "code",
   "execution_count": 116,
   "metadata": {},
   "outputs": [
    {
     "name": "stdout",
     "output_type": "stream",
     "text": [
      "x, alpha, f: Traced<ConcreteArray([0.1])>with<JVPTrace(level=2/0)>\n",
      "  with primal = Traced<ConcreteArray([0.1]):JaxprTrace(level=1/0)>\n",
      "       tangent = Traced<ShapedArray(float64[1]):JaxprTrace(level=1/0)> [2.] Traced<ConcreteArray(0.41999999999999993)>with<JVPTrace(level=2/0)>\n",
      "  with primal = DeviceArray(0.42, dtype=float64)\n",
      "       tangent = Traced<ShapedArray(float64[]):JaxprTrace(level=1/0)>\n",
      "x, alpha, f: Traced<ShapedArray(float64[1])>with<JVPTrace(level=4/0)>\n",
      "  with primal = Traced<ShapedArray(float64[1]):JaxprTrace(level=3/0)>\n",
      "       tangent = Traced<ShapedArray(float64[1]):JaxprTrace(level=3/0)> [2.] Traced<ShapedArray(float64[])>with<JVPTrace(level=4/0)>\n",
      "  with primal = Traced<ShapedArray(float64[])>with<DynamicJaxprTrace(level=2/0)>\n",
      "       tangent = Traced<ShapedArray(float64[]):JaxprTrace(level=3/0)>\n",
      "x, alpha, f: Traced<ShapedArray(float64[1])>with<JVPTrace(level=5/0)>\n",
      "  with primal = Traced<ShapedArray(float64[1]):JaxprTrace(level=4/0)>\n",
      "       tangent = Traced<ShapedArray(float64[1]):JaxprTrace(level=4/0)> [2.] Traced<ShapedArray(float64[])>with<JVPTrace(level=5/0)>\n",
      "  with primal = Traced<ShapedArray(float64[])>with<DynamicJaxprTrace(level=3/0)>\n",
      "       tangent = Traced<ShapedArray(float64[]):JaxprTrace(level=4/0)>\n",
      "x, alpha, f: Traced<ShapedArray(float64[1])>with<JVPTrace(level=5/0)>\n",
      "  with primal = Traced<ShapedArray(float64[1]):JaxprTrace(level=4/0)>\n",
      "       tangent = Traced<ShapedArray(float64[1]):JaxprTrace(level=4/0)> [2.] Traced<ShapedArray(float64[])>with<JVPTrace(level=5/0)>\n",
      "  with primal = Traced<ShapedArray(float64[])>with<DynamicJaxprTrace(level=3/0)>\n",
      "       tangent = Traced<ShapedArray(float64[]):JaxprTrace(level=4/0)>\n"
     ]
    },
    {
     "data": {
      "text/plain": [
       "DeviceArray(4., dtype=float64)"
      ]
     },
     "execution_count": 116,
     "metadata": {},
     "output_type": "execute_result"
    }
   ],
   "source": [
    "min_x(alpha,beta,gamma)"
   ]
  },
  {
   "cell_type": "code",
   "execution_count": 59,
   "metadata": {},
   "outputs": [
    {
     "name": "stdout",
     "output_type": "stream",
     "text": [
      "Traced<ConcreteArray(3.62)>with<JVPTrace(level=4/0)>\n",
      "  with primal = Traced<ConcreteArray(3.62)>with<JVPTrace(level=2/0)>\n",
      "                  with primal = DeviceArray(3.62, dtype=float64)\n",
      "                       tangent = Traced<ShapedArray(float64[]):JaxprTrace(level=1/0)>\n",
      "       tangent = Traced<ShapedArray(float64[]):JaxprTrace(level=3/0)>\n",
      "Traced<ShapedArray(float64[])>with<JVPTrace(level=6/0)>\n",
      "  with primal = Traced<ShapedArray(float64[])>with<DynamicJaxprTrace(level=4/0)>\n",
      "       tangent = Traced<ShapedArray(float64[]):JaxprTrace(level=5/0)>\n",
      "Traced<ShapedArray(float64[])>with<JVPTrace(level=7/0)>\n",
      "  with primal = Traced<ShapedArray(float64[])>with<DynamicJaxprTrace(level=5/0)>\n",
      "       tangent = Traced<ShapedArray(float64[]):JaxprTrace(level=6/0)>\n",
      "Traced<ShapedArray(float64[])>with<JVPTrace(level=7/0)>\n",
      "  with primal = Traced<ShapedArray(float64[])>with<DynamicJaxprTrace(level=5/0)>\n",
      "       tangent = Traced<ShapedArray(float64[]):JaxprTrace(level=6/0)>\n"
     ]
    },
    {
     "ename": "ValueError",
     "evalue": "Reverse-mode differentiation does not work for lax.while_loop or lax.fori_loop. Try using lax.scan instead.",
     "output_type": "error",
     "traceback": [
      "\u001b[0;31m---------------------------------------------------------------------------\u001b[0m",
      "\u001b[0;31mJaxStackTraceBeforeTransformation\u001b[0m         Traceback (most recent call last)",
      "\u001b[0;32m/usr/lib64/python3.6/runpy.py\u001b[0m in \u001b[0;36m_run_module_as_main\u001b[0;34m(***failed resolving arguments***)\u001b[0m\n\u001b[1;32m    192\u001b[0m     return _run_code(code, main_globals, None,\n\u001b[0;32m--> 193\u001b[0;31m                      \"__main__\", mod_spec)\n\u001b[0m\u001b[1;32m    194\u001b[0m \u001b[0;34m\u001b[0m\u001b[0m\n",
      "\u001b[0;32m/usr/lib64/python3.6/runpy.py\u001b[0m in \u001b[0;36m_run_code\u001b[0;34m(***failed resolving arguments***)\u001b[0m\n\u001b[1;32m     84\u001b[0m                        __spec__ = mod_spec)\n\u001b[0;32m---> 85\u001b[0;31m     \u001b[0mexec\u001b[0m\u001b[0;34m(\u001b[0m\u001b[0mcode\u001b[0m\u001b[0;34m,\u001b[0m \u001b[0mrun_globals\u001b[0m\u001b[0;34m)\u001b[0m\u001b[0;34m\u001b[0m\u001b[0;34m\u001b[0m\u001b[0m\n\u001b[0m\u001b[1;32m     86\u001b[0m     \u001b[0;32mreturn\u001b[0m \u001b[0mrun_globals\u001b[0m\u001b[0;34m\u001b[0m\u001b[0;34m\u001b[0m\u001b[0m\n",
      "\u001b[0;32m~/.local/lib/python3.6/site-packages/ipykernel_launcher.py\u001b[0m in \u001b[0;36m<module>\u001b[0;34m\u001b[0m\n\u001b[1;32m     15\u001b[0m     \u001b[0;32mfrom\u001b[0m \u001b[0mipykernel\u001b[0m \u001b[0;32mimport\u001b[0m \u001b[0mkernelapp\u001b[0m \u001b[0;32mas\u001b[0m \u001b[0mapp\u001b[0m\u001b[0;34m\u001b[0m\u001b[0;34m\u001b[0m\u001b[0m\n\u001b[0;32m---> 16\u001b[0;31m     \u001b[0mapp\u001b[0m\u001b[0;34m.\u001b[0m\u001b[0mlaunch_new_instance\u001b[0m\u001b[0;34m(\u001b[0m\u001b[0;34m)\u001b[0m\u001b[0;34m\u001b[0m\u001b[0;34m\u001b[0m\u001b[0m\n\u001b[0m",
      "\u001b[0;32m~/.local/lib/python3.6/site-packages/traitlets/config/application.py\u001b[0m in \u001b[0;36mlaunch_instance\u001b[0;34m(***failed resolving arguments***)\u001b[0m\n\u001b[1;32m    663\u001b[0m         \u001b[0mapp\u001b[0m\u001b[0;34m.\u001b[0m\u001b[0minitialize\u001b[0m\u001b[0;34m(\u001b[0m\u001b[0margv\u001b[0m\u001b[0;34m)\u001b[0m\u001b[0;34m\u001b[0m\u001b[0;34m\u001b[0m\u001b[0m\n\u001b[0;32m--> 664\u001b[0;31m         \u001b[0mapp\u001b[0m\u001b[0;34m.\u001b[0m\u001b[0mstart\u001b[0m\u001b[0;34m(\u001b[0m\u001b[0;34m)\u001b[0m\u001b[0;34m\u001b[0m\u001b[0;34m\u001b[0m\u001b[0m\n\u001b[0m\u001b[1;32m    665\u001b[0m \u001b[0;34m\u001b[0m\u001b[0m\n",
      "\u001b[0;32m~/.local/lib/python3.6/site-packages/ipykernel/kernelapp.py\u001b[0m in \u001b[0;36mstart\u001b[0;34m(***failed resolving arguments***)\u001b[0m\n\u001b[1;32m    618\u001b[0m             \u001b[0;32mtry\u001b[0m\u001b[0;34m:\u001b[0m\u001b[0;34m\u001b[0m\u001b[0;34m\u001b[0m\u001b[0m\n\u001b[0;32m--> 619\u001b[0;31m                 \u001b[0mself\u001b[0m\u001b[0;34m.\u001b[0m\u001b[0mio_loop\u001b[0m\u001b[0;34m.\u001b[0m\u001b[0mstart\u001b[0m\u001b[0;34m(\u001b[0m\u001b[0;34m)\u001b[0m\u001b[0;34m\u001b[0m\u001b[0;34m\u001b[0m\u001b[0m\n\u001b[0m\u001b[1;32m    620\u001b[0m             \u001b[0;32mexcept\u001b[0m \u001b[0mKeyboardInterrupt\u001b[0m\u001b[0;34m:\u001b[0m\u001b[0;34m\u001b[0m\u001b[0;34m\u001b[0m\u001b[0m\n",
      "\u001b[0;32m~/.local/lib/python3.6/site-packages/tornado/platform/asyncio.py\u001b[0m in \u001b[0;36mstart\u001b[0;34m(***failed resolving arguments***)\u001b[0m\n\u001b[1;32m    198\u001b[0m             \u001b[0masyncio\u001b[0m\u001b[0;34m.\u001b[0m\u001b[0mset_event_loop\u001b[0m\u001b[0;34m(\u001b[0m\u001b[0mself\u001b[0m\u001b[0;34m.\u001b[0m\u001b[0masyncio_loop\u001b[0m\u001b[0;34m)\u001b[0m\u001b[0;34m\u001b[0m\u001b[0;34m\u001b[0m\u001b[0m\n\u001b[0;32m--> 199\u001b[0;31m             \u001b[0mself\u001b[0m\u001b[0;34m.\u001b[0m\u001b[0masyncio_loop\u001b[0m\u001b[0;34m.\u001b[0m\u001b[0mrun_forever\u001b[0m\u001b[0;34m(\u001b[0m\u001b[0;34m)\u001b[0m\u001b[0;34m\u001b[0m\u001b[0;34m\u001b[0m\u001b[0m\n\u001b[0m\u001b[1;32m    200\u001b[0m         \u001b[0;32mfinally\u001b[0m\u001b[0;34m:\u001b[0m\u001b[0;34m\u001b[0m\u001b[0;34m\u001b[0m\u001b[0m\n",
      "\u001b[0;32m/usr/lib64/python3.6/asyncio/base_events.py\u001b[0m in \u001b[0;36mrun_forever\u001b[0;34m(***failed resolving arguments***)\u001b[0m\n\u001b[1;32m    437\u001b[0m             \u001b[0;32mwhile\u001b[0m \u001b[0;32mTrue\u001b[0m\u001b[0;34m:\u001b[0m\u001b[0;34m\u001b[0m\u001b[0;34m\u001b[0m\u001b[0m\n\u001b[0;32m--> 438\u001b[0;31m                 \u001b[0mself\u001b[0m\u001b[0;34m.\u001b[0m\u001b[0m_run_once\u001b[0m\u001b[0;34m(\u001b[0m\u001b[0;34m)\u001b[0m\u001b[0;34m\u001b[0m\u001b[0;34m\u001b[0m\u001b[0m\n\u001b[0m\u001b[1;32m    439\u001b[0m                 \u001b[0;32mif\u001b[0m \u001b[0mself\u001b[0m\u001b[0;34m.\u001b[0m\u001b[0m_stopping\u001b[0m\u001b[0;34m:\u001b[0m\u001b[0;34m\u001b[0m\u001b[0;34m\u001b[0m\u001b[0m\n",
      "\u001b[0;32m/usr/lib64/python3.6/asyncio/base_events.py\u001b[0m in \u001b[0;36m_run_once\u001b[0;34m(***failed resolving arguments***)\u001b[0m\n\u001b[1;32m   1450\u001b[0m             \u001b[0;32melse\u001b[0m\u001b[0;34m:\u001b[0m\u001b[0;34m\u001b[0m\u001b[0;34m\u001b[0m\u001b[0m\n\u001b[0;32m-> 1451\u001b[0;31m                 \u001b[0mhandle\u001b[0m\u001b[0;34m.\u001b[0m\u001b[0m_run\u001b[0m\u001b[0;34m(\u001b[0m\u001b[0;34m)\u001b[0m\u001b[0;34m\u001b[0m\u001b[0;34m\u001b[0m\u001b[0m\n\u001b[0m\u001b[1;32m   1452\u001b[0m         \u001b[0mhandle\u001b[0m \u001b[0;34m=\u001b[0m \u001b[0;32mNone\u001b[0m  \u001b[0;31m# Needed to break cycles when an exception occurs.\u001b[0m\u001b[0;34m\u001b[0m\u001b[0;34m\u001b[0m\u001b[0m\n",
      "\u001b[0;32m/usr/lib64/python3.6/asyncio/events.py\u001b[0m in \u001b[0;36m_run\u001b[0;34m(***failed resolving arguments***)\u001b[0m\n\u001b[1;32m    144\u001b[0m         \u001b[0;32mtry\u001b[0m\u001b[0;34m:\u001b[0m\u001b[0;34m\u001b[0m\u001b[0;34m\u001b[0m\u001b[0m\n\u001b[0;32m--> 145\u001b[0;31m             \u001b[0mself\u001b[0m\u001b[0;34m.\u001b[0m\u001b[0m_callback\u001b[0m\u001b[0;34m(\u001b[0m\u001b[0;34m*\u001b[0m\u001b[0mself\u001b[0m\u001b[0;34m.\u001b[0m\u001b[0m_args\u001b[0m\u001b[0;34m)\u001b[0m\u001b[0;34m\u001b[0m\u001b[0;34m\u001b[0m\u001b[0m\n\u001b[0m\u001b[1;32m    146\u001b[0m         \u001b[0;32mexcept\u001b[0m \u001b[0mException\u001b[0m \u001b[0;32mas\u001b[0m \u001b[0mexc\u001b[0m\u001b[0;34m:\u001b[0m\u001b[0;34m\u001b[0m\u001b[0;34m\u001b[0m\u001b[0m\n",
      "\u001b[0;32m~/.local/lib/python3.6/site-packages/tornado/ioloop.py\u001b[0m in \u001b[0;36m<lambda>\u001b[0;34m(***failed resolving arguments***)\u001b[0m\n\u001b[1;32m    687\u001b[0m             future.add_done_callback(\n\u001b[0;32m--> 688\u001b[0;31m                 \u001b[0;32mlambda\u001b[0m \u001b[0mf\u001b[0m\u001b[0;34m:\u001b[0m \u001b[0mself\u001b[0m\u001b[0;34m.\u001b[0m\u001b[0m_run_callback\u001b[0m\u001b[0;34m(\u001b[0m\u001b[0mfunctools\u001b[0m\u001b[0;34m.\u001b[0m\u001b[0mpartial\u001b[0m\u001b[0;34m(\u001b[0m\u001b[0mcallback\u001b[0m\u001b[0;34m,\u001b[0m \u001b[0mfuture\u001b[0m\u001b[0;34m)\u001b[0m\u001b[0;34m)\u001b[0m\u001b[0;34m\u001b[0m\u001b[0;34m\u001b[0m\u001b[0m\n\u001b[0m\u001b[1;32m    689\u001b[0m             )\n",
      "\u001b[0;32m~/.local/lib/python3.6/site-packages/tornado/ioloop.py\u001b[0m in \u001b[0;36m_run_callback\u001b[0;34m(***failed resolving arguments***)\u001b[0m\n\u001b[1;32m    740\u001b[0m         \u001b[0;32mtry\u001b[0m\u001b[0;34m:\u001b[0m\u001b[0;34m\u001b[0m\u001b[0;34m\u001b[0m\u001b[0m\n\u001b[0;32m--> 741\u001b[0;31m             \u001b[0mret\u001b[0m \u001b[0;34m=\u001b[0m \u001b[0mcallback\u001b[0m\u001b[0;34m(\u001b[0m\u001b[0;34m)\u001b[0m\u001b[0;34m\u001b[0m\u001b[0;34m\u001b[0m\u001b[0m\n\u001b[0m\u001b[1;32m    742\u001b[0m             \u001b[0;32mif\u001b[0m \u001b[0mret\u001b[0m \u001b[0;32mis\u001b[0m \u001b[0;32mnot\u001b[0m \u001b[0;32mNone\u001b[0m\u001b[0;34m:\u001b[0m\u001b[0;34m\u001b[0m\u001b[0;34m\u001b[0m\u001b[0m\n",
      "\u001b[0;32m~/.local/lib/python3.6/site-packages/tornado/gen.py\u001b[0m in \u001b[0;36minner\u001b[0;34m(***failed resolving arguments***)\u001b[0m\n\u001b[1;32m    813\u001b[0m                 \u001b[0mf\u001b[0m \u001b[0;34m=\u001b[0m \u001b[0;32mNone\u001b[0m  \u001b[0;31m# noqa: F841\u001b[0m\u001b[0;34m\u001b[0m\u001b[0;34m\u001b[0m\u001b[0m\n\u001b[0;32m--> 814\u001b[0;31m                 \u001b[0mself\u001b[0m\u001b[0;34m.\u001b[0m\u001b[0mctx_run\u001b[0m\u001b[0;34m(\u001b[0m\u001b[0mself\u001b[0m\u001b[0;34m.\u001b[0m\u001b[0mrun\u001b[0m\u001b[0;34m)\u001b[0m\u001b[0;34m\u001b[0m\u001b[0;34m\u001b[0m\u001b[0m\n\u001b[0m\u001b[1;32m    815\u001b[0m \u001b[0;34m\u001b[0m\u001b[0m\n",
      "\u001b[0;32m~/.local/lib/python3.6/site-packages/tornado/gen.py\u001b[0m in \u001b[0;36m_fake_ctx_run\u001b[0;34m(***failed resolving arguments***)\u001b[0m\n\u001b[1;32m    161\u001b[0m \u001b[0;32mdef\u001b[0m \u001b[0m_fake_ctx_run\u001b[0m\u001b[0;34m(\u001b[0m\u001b[0mf\u001b[0m\u001b[0;34m:\u001b[0m \u001b[0mCallable\u001b[0m\u001b[0;34m[\u001b[0m\u001b[0;34m...\u001b[0m\u001b[0;34m,\u001b[0m \u001b[0m_T\u001b[0m\u001b[0;34m]\u001b[0m\u001b[0;34m,\u001b[0m \u001b[0;34m*\u001b[0m\u001b[0margs\u001b[0m\u001b[0;34m:\u001b[0m \u001b[0mAny\u001b[0m\u001b[0;34m,\u001b[0m \u001b[0;34m**\u001b[0m\u001b[0mkw\u001b[0m\u001b[0;34m:\u001b[0m \u001b[0mAny\u001b[0m\u001b[0;34m)\u001b[0m \u001b[0;34m->\u001b[0m \u001b[0m_T\u001b[0m\u001b[0;34m:\u001b[0m\u001b[0;34m\u001b[0m\u001b[0;34m\u001b[0m\u001b[0m\n\u001b[0;32m--> 162\u001b[0;31m     \u001b[0;32mreturn\u001b[0m \u001b[0mf\u001b[0m\u001b[0;34m(\u001b[0m\u001b[0;34m*\u001b[0m\u001b[0margs\u001b[0m\u001b[0;34m,\u001b[0m \u001b[0;34m**\u001b[0m\u001b[0mkw\u001b[0m\u001b[0;34m)\u001b[0m\u001b[0;34m\u001b[0m\u001b[0;34m\u001b[0m\u001b[0m\n\u001b[0m\u001b[1;32m    163\u001b[0m \u001b[0;34m\u001b[0m\u001b[0m\n",
      "\u001b[0;32m~/.local/lib/python3.6/site-packages/tornado/gen.py\u001b[0m in \u001b[0;36mrun\u001b[0;34m(***failed resolving arguments***)\u001b[0m\n\u001b[1;32m    774\u001b[0m                     \u001b[0;32melse\u001b[0m\u001b[0;34m:\u001b[0m\u001b[0;34m\u001b[0m\u001b[0;34m\u001b[0m\u001b[0m\n\u001b[0;32m--> 775\u001b[0;31m                         \u001b[0myielded\u001b[0m \u001b[0;34m=\u001b[0m \u001b[0mself\u001b[0m\u001b[0;34m.\u001b[0m\u001b[0mgen\u001b[0m\u001b[0;34m.\u001b[0m\u001b[0msend\u001b[0m\u001b[0;34m(\u001b[0m\u001b[0mvalue\u001b[0m\u001b[0;34m)\u001b[0m\u001b[0;34m\u001b[0m\u001b[0;34m\u001b[0m\u001b[0m\n\u001b[0m\u001b[1;32m    776\u001b[0m \u001b[0;34m\u001b[0m\u001b[0m\n",
      "\u001b[0;32m~/.local/lib/python3.6/site-packages/ipykernel/kernelbase.py\u001b[0m in \u001b[0;36mprocess_one\u001b[0;34m(***failed resolving arguments***)\u001b[0m\n\u001b[1;32m    360\u001b[0m                 \u001b[0;32mreturn\u001b[0m \u001b[0;32mNone\u001b[0m\u001b[0;34m\u001b[0m\u001b[0;34m\u001b[0m\u001b[0m\n\u001b[0;32m--> 361\u001b[0;31m         \u001b[0;32myield\u001b[0m \u001b[0mgen\u001b[0m\u001b[0;34m.\u001b[0m\u001b[0mmaybe_future\u001b[0m\u001b[0;34m(\u001b[0m\u001b[0mdispatch\u001b[0m\u001b[0;34m(\u001b[0m\u001b[0;34m*\u001b[0m\u001b[0margs\u001b[0m\u001b[0;34m)\u001b[0m\u001b[0;34m)\u001b[0m\u001b[0;34m\u001b[0m\u001b[0;34m\u001b[0m\u001b[0m\n\u001b[0m\u001b[1;32m    362\u001b[0m \u001b[0;34m\u001b[0m\u001b[0m\n",
      "\u001b[0;32m~/.local/lib/python3.6/site-packages/tornado/gen.py\u001b[0m in \u001b[0;36mwrapper\u001b[0;34m(***failed resolving arguments***)\u001b[0m\n\u001b[1;32m    233\u001b[0m                 \u001b[0;32mtry\u001b[0m\u001b[0;34m:\u001b[0m\u001b[0;34m\u001b[0m\u001b[0;34m\u001b[0m\u001b[0m\n\u001b[0;32m--> 234\u001b[0;31m                     \u001b[0myielded\u001b[0m \u001b[0;34m=\u001b[0m \u001b[0mctx_run\u001b[0m\u001b[0;34m(\u001b[0m\u001b[0mnext\u001b[0m\u001b[0;34m,\u001b[0m \u001b[0mresult\u001b[0m\u001b[0;34m)\u001b[0m\u001b[0;34m\u001b[0m\u001b[0;34m\u001b[0m\u001b[0m\n\u001b[0m\u001b[1;32m    235\u001b[0m                 \u001b[0;32mexcept\u001b[0m \u001b[0;34m(\u001b[0m\u001b[0mStopIteration\u001b[0m\u001b[0;34m,\u001b[0m \u001b[0mReturn\u001b[0m\u001b[0;34m)\u001b[0m \u001b[0;32mas\u001b[0m \u001b[0me\u001b[0m\u001b[0;34m:\u001b[0m\u001b[0;34m\u001b[0m\u001b[0;34m\u001b[0m\u001b[0m\n",
      "\u001b[0;32m~/.local/lib/python3.6/site-packages/tornado/gen.py\u001b[0m in \u001b[0;36m_fake_ctx_run\u001b[0;34m(***failed resolving arguments***)\u001b[0m\n\u001b[1;32m    161\u001b[0m \u001b[0;32mdef\u001b[0m \u001b[0m_fake_ctx_run\u001b[0m\u001b[0;34m(\u001b[0m\u001b[0mf\u001b[0m\u001b[0;34m:\u001b[0m \u001b[0mCallable\u001b[0m\u001b[0;34m[\u001b[0m\u001b[0;34m...\u001b[0m\u001b[0;34m,\u001b[0m \u001b[0m_T\u001b[0m\u001b[0;34m]\u001b[0m\u001b[0;34m,\u001b[0m \u001b[0;34m*\u001b[0m\u001b[0margs\u001b[0m\u001b[0;34m:\u001b[0m \u001b[0mAny\u001b[0m\u001b[0;34m,\u001b[0m \u001b[0;34m**\u001b[0m\u001b[0mkw\u001b[0m\u001b[0;34m:\u001b[0m \u001b[0mAny\u001b[0m\u001b[0;34m)\u001b[0m \u001b[0;34m->\u001b[0m \u001b[0m_T\u001b[0m\u001b[0;34m:\u001b[0m\u001b[0;34m\u001b[0m\u001b[0;34m\u001b[0m\u001b[0m\n\u001b[0;32m--> 162\u001b[0;31m     \u001b[0;32mreturn\u001b[0m \u001b[0mf\u001b[0m\u001b[0;34m(\u001b[0m\u001b[0;34m*\u001b[0m\u001b[0margs\u001b[0m\u001b[0;34m,\u001b[0m \u001b[0;34m**\u001b[0m\u001b[0mkw\u001b[0m\u001b[0;34m)\u001b[0m\u001b[0;34m\u001b[0m\u001b[0;34m\u001b[0m\u001b[0m\n\u001b[0m\u001b[1;32m    163\u001b[0m \u001b[0;34m\u001b[0m\u001b[0m\n",
      "\u001b[0;32m~/.local/lib/python3.6/site-packages/ipykernel/kernelbase.py\u001b[0m in \u001b[0;36mdispatch_shell\u001b[0;34m(***failed resolving arguments***)\u001b[0m\n\u001b[1;32m    260\u001b[0m             \u001b[0;32mtry\u001b[0m\u001b[0;34m:\u001b[0m\u001b[0;34m\u001b[0m\u001b[0;34m\u001b[0m\u001b[0m\n\u001b[0;32m--> 261\u001b[0;31m                 \u001b[0;32myield\u001b[0m \u001b[0mgen\u001b[0m\u001b[0;34m.\u001b[0m\u001b[0mmaybe_future\u001b[0m\u001b[0;34m(\u001b[0m\u001b[0mhandler\u001b[0m\u001b[0;34m(\u001b[0m\u001b[0mstream\u001b[0m\u001b[0;34m,\u001b[0m \u001b[0midents\u001b[0m\u001b[0;34m,\u001b[0m \u001b[0mmsg\u001b[0m\u001b[0;34m)\u001b[0m\u001b[0;34m)\u001b[0m\u001b[0;34m\u001b[0m\u001b[0;34m\u001b[0m\u001b[0m\n\u001b[0m\u001b[1;32m    262\u001b[0m             \u001b[0;32mexcept\u001b[0m \u001b[0mException\u001b[0m\u001b[0;34m:\u001b[0m\u001b[0;34m\u001b[0m\u001b[0;34m\u001b[0m\u001b[0m\n",
      "\u001b[0;32m~/.local/lib/python3.6/site-packages/tornado/gen.py\u001b[0m in \u001b[0;36mwrapper\u001b[0;34m(***failed resolving arguments***)\u001b[0m\n\u001b[1;32m    233\u001b[0m                 \u001b[0;32mtry\u001b[0m\u001b[0;34m:\u001b[0m\u001b[0;34m\u001b[0m\u001b[0;34m\u001b[0m\u001b[0m\n\u001b[0;32m--> 234\u001b[0;31m                     \u001b[0myielded\u001b[0m \u001b[0;34m=\u001b[0m \u001b[0mctx_run\u001b[0m\u001b[0;34m(\u001b[0m\u001b[0mnext\u001b[0m\u001b[0;34m,\u001b[0m \u001b[0mresult\u001b[0m\u001b[0;34m)\u001b[0m\u001b[0;34m\u001b[0m\u001b[0;34m\u001b[0m\u001b[0m\n\u001b[0m\u001b[1;32m    235\u001b[0m                 \u001b[0;32mexcept\u001b[0m \u001b[0;34m(\u001b[0m\u001b[0mStopIteration\u001b[0m\u001b[0;34m,\u001b[0m \u001b[0mReturn\u001b[0m\u001b[0;34m)\u001b[0m \u001b[0;32mas\u001b[0m \u001b[0me\u001b[0m\u001b[0;34m:\u001b[0m\u001b[0;34m\u001b[0m\u001b[0;34m\u001b[0m\u001b[0m\n",
      "\u001b[0;32m~/.local/lib/python3.6/site-packages/tornado/gen.py\u001b[0m in \u001b[0;36m_fake_ctx_run\u001b[0;34m(***failed resolving arguments***)\u001b[0m\n\u001b[1;32m    161\u001b[0m \u001b[0;32mdef\u001b[0m \u001b[0m_fake_ctx_run\u001b[0m\u001b[0;34m(\u001b[0m\u001b[0mf\u001b[0m\u001b[0;34m:\u001b[0m \u001b[0mCallable\u001b[0m\u001b[0;34m[\u001b[0m\u001b[0;34m...\u001b[0m\u001b[0;34m,\u001b[0m \u001b[0m_T\u001b[0m\u001b[0;34m]\u001b[0m\u001b[0;34m,\u001b[0m \u001b[0;34m*\u001b[0m\u001b[0margs\u001b[0m\u001b[0;34m:\u001b[0m \u001b[0mAny\u001b[0m\u001b[0;34m,\u001b[0m \u001b[0;34m**\u001b[0m\u001b[0mkw\u001b[0m\u001b[0;34m:\u001b[0m \u001b[0mAny\u001b[0m\u001b[0;34m)\u001b[0m \u001b[0;34m->\u001b[0m \u001b[0m_T\u001b[0m\u001b[0;34m:\u001b[0m\u001b[0;34m\u001b[0m\u001b[0;34m\u001b[0m\u001b[0m\n\u001b[0;32m--> 162\u001b[0;31m     \u001b[0;32mreturn\u001b[0m \u001b[0mf\u001b[0m\u001b[0;34m(\u001b[0m\u001b[0;34m*\u001b[0m\u001b[0margs\u001b[0m\u001b[0;34m,\u001b[0m \u001b[0;34m**\u001b[0m\u001b[0mkw\u001b[0m\u001b[0;34m)\u001b[0m\u001b[0;34m\u001b[0m\u001b[0;34m\u001b[0m\u001b[0m\n\u001b[0m\u001b[1;32m    163\u001b[0m \u001b[0;34m\u001b[0m\u001b[0m\n",
      "\u001b[0;32m~/.local/lib/python3.6/site-packages/ipykernel/kernelbase.py\u001b[0m in \u001b[0;36mexecute_request\u001b[0;34m(***failed resolving arguments***)\u001b[0m\n\u001b[1;32m    540\u001b[0m                 \u001b[0mcode\u001b[0m\u001b[0;34m,\u001b[0m \u001b[0msilent\u001b[0m\u001b[0;34m,\u001b[0m \u001b[0mstore_history\u001b[0m\u001b[0;34m,\u001b[0m\u001b[0;34m\u001b[0m\u001b[0;34m\u001b[0m\u001b[0m\n\u001b[0;32m--> 541\u001b[0;31m                 \u001b[0muser_expressions\u001b[0m\u001b[0;34m,\u001b[0m \u001b[0mallow_stdin\u001b[0m\u001b[0;34m,\u001b[0m\u001b[0;34m\u001b[0m\u001b[0;34m\u001b[0m\u001b[0m\n\u001b[0m\u001b[1;32m    542\u001b[0m             )\n",
      "\u001b[0;32m~/.local/lib/python3.6/site-packages/tornado/gen.py\u001b[0m in \u001b[0;36mwrapper\u001b[0;34m(***failed resolving arguments***)\u001b[0m\n\u001b[1;32m    233\u001b[0m                 \u001b[0;32mtry\u001b[0m\u001b[0;34m:\u001b[0m\u001b[0;34m\u001b[0m\u001b[0;34m\u001b[0m\u001b[0m\n\u001b[0;32m--> 234\u001b[0;31m                     \u001b[0myielded\u001b[0m \u001b[0;34m=\u001b[0m \u001b[0mctx_run\u001b[0m\u001b[0;34m(\u001b[0m\u001b[0mnext\u001b[0m\u001b[0;34m,\u001b[0m \u001b[0mresult\u001b[0m\u001b[0;34m)\u001b[0m\u001b[0;34m\u001b[0m\u001b[0;34m\u001b[0m\u001b[0m\n\u001b[0m\u001b[1;32m    235\u001b[0m                 \u001b[0;32mexcept\u001b[0m \u001b[0;34m(\u001b[0m\u001b[0mStopIteration\u001b[0m\u001b[0;34m,\u001b[0m \u001b[0mReturn\u001b[0m\u001b[0;34m)\u001b[0m \u001b[0;32mas\u001b[0m \u001b[0me\u001b[0m\u001b[0;34m:\u001b[0m\u001b[0;34m\u001b[0m\u001b[0;34m\u001b[0m\u001b[0m\n",
      "\u001b[0;32m~/.local/lib/python3.6/site-packages/tornado/gen.py\u001b[0m in \u001b[0;36m_fake_ctx_run\u001b[0;34m(***failed resolving arguments***)\u001b[0m\n\u001b[1;32m    161\u001b[0m \u001b[0;32mdef\u001b[0m \u001b[0m_fake_ctx_run\u001b[0m\u001b[0;34m(\u001b[0m\u001b[0mf\u001b[0m\u001b[0;34m:\u001b[0m \u001b[0mCallable\u001b[0m\u001b[0;34m[\u001b[0m\u001b[0;34m...\u001b[0m\u001b[0;34m,\u001b[0m \u001b[0m_T\u001b[0m\u001b[0;34m]\u001b[0m\u001b[0;34m,\u001b[0m \u001b[0;34m*\u001b[0m\u001b[0margs\u001b[0m\u001b[0;34m:\u001b[0m \u001b[0mAny\u001b[0m\u001b[0;34m,\u001b[0m \u001b[0;34m**\u001b[0m\u001b[0mkw\u001b[0m\u001b[0;34m:\u001b[0m \u001b[0mAny\u001b[0m\u001b[0;34m)\u001b[0m \u001b[0;34m->\u001b[0m \u001b[0m_T\u001b[0m\u001b[0;34m:\u001b[0m\u001b[0;34m\u001b[0m\u001b[0;34m\u001b[0m\u001b[0m\n\u001b[0;32m--> 162\u001b[0;31m     \u001b[0;32mreturn\u001b[0m \u001b[0mf\u001b[0m\u001b[0;34m(\u001b[0m\u001b[0;34m*\u001b[0m\u001b[0margs\u001b[0m\u001b[0;34m,\u001b[0m \u001b[0;34m**\u001b[0m\u001b[0mkw\u001b[0m\u001b[0;34m)\u001b[0m\u001b[0;34m\u001b[0m\u001b[0;34m\u001b[0m\u001b[0m\n\u001b[0m\u001b[1;32m    163\u001b[0m \u001b[0;34m\u001b[0m\u001b[0m\n",
      "\u001b[0;32m~/.local/lib/python3.6/site-packages/ipykernel/ipkernel.py\u001b[0m in \u001b[0;36mdo_execute\u001b[0;34m(***failed resolving arguments***)\u001b[0m\n\u001b[1;32m    301\u001b[0m                 \u001b[0;31m# letting shell dispatch to loop runners\u001b[0m\u001b[0;34m\u001b[0m\u001b[0;34m\u001b[0m\u001b[0;34m\u001b[0m\u001b[0m\n\u001b[0;32m--> 302\u001b[0;31m                 \u001b[0mres\u001b[0m \u001b[0;34m=\u001b[0m \u001b[0mshell\u001b[0m\u001b[0;34m.\u001b[0m\u001b[0mrun_cell\u001b[0m\u001b[0;34m(\u001b[0m\u001b[0mcode\u001b[0m\u001b[0;34m,\u001b[0m \u001b[0mstore_history\u001b[0m\u001b[0;34m=\u001b[0m\u001b[0mstore_history\u001b[0m\u001b[0;34m,\u001b[0m \u001b[0msilent\u001b[0m\u001b[0;34m=\u001b[0m\u001b[0msilent\u001b[0m\u001b[0;34m)\u001b[0m\u001b[0;34m\u001b[0m\u001b[0;34m\u001b[0m\u001b[0m\n\u001b[0m\u001b[1;32m    303\u001b[0m         \u001b[0;32mfinally\u001b[0m\u001b[0;34m:\u001b[0m\u001b[0;34m\u001b[0m\u001b[0;34m\u001b[0m\u001b[0m\n",
      "\u001b[0;32m~/.local/lib/python3.6/site-packages/ipykernel/zmqshell.py\u001b[0m in \u001b[0;36mrun_cell\u001b[0;34m(***failed resolving arguments***)\u001b[0m\n\u001b[1;32m    538\u001b[0m         \u001b[0mself\u001b[0m\u001b[0;34m.\u001b[0m\u001b[0m_last_traceback\u001b[0m \u001b[0;34m=\u001b[0m \u001b[0;32mNone\u001b[0m\u001b[0;34m\u001b[0m\u001b[0;34m\u001b[0m\u001b[0m\n\u001b[0;32m--> 539\u001b[0;31m         \u001b[0;32mreturn\u001b[0m \u001b[0msuper\u001b[0m\u001b[0;34m(\u001b[0m\u001b[0mZMQInteractiveShell\u001b[0m\u001b[0;34m,\u001b[0m \u001b[0mself\u001b[0m\u001b[0;34m)\u001b[0m\u001b[0;34m.\u001b[0m\u001b[0mrun_cell\u001b[0m\u001b[0;34m(\u001b[0m\u001b[0;34m*\u001b[0m\u001b[0margs\u001b[0m\u001b[0;34m,\u001b[0m \u001b[0;34m**\u001b[0m\u001b[0mkwargs\u001b[0m\u001b[0;34m)\u001b[0m\u001b[0;34m\u001b[0m\u001b[0;34m\u001b[0m\u001b[0m\n\u001b[0m\u001b[1;32m    540\u001b[0m \u001b[0;34m\u001b[0m\u001b[0m\n",
      "\u001b[0;32m~/.local/lib/python3.6/site-packages/IPython/core/interactiveshell.py\u001b[0m in \u001b[0;36mrun_cell\u001b[0;34m(***failed resolving arguments***)\u001b[0m\n\u001b[1;32m   2866\u001b[0m             result = self._run_cell(\n\u001b[0;32m-> 2867\u001b[0;31m                 raw_cell, store_history, silent, shell_futures)\n\u001b[0m\u001b[1;32m   2868\u001b[0m         \u001b[0;32mfinally\u001b[0m\u001b[0;34m:\u001b[0m\u001b[0;34m\u001b[0m\u001b[0;34m\u001b[0m\u001b[0m\n",
      "\u001b[0;32m~/.local/lib/python3.6/site-packages/IPython/core/interactiveshell.py\u001b[0m in \u001b[0;36m_run_cell\u001b[0;34m(***failed resolving arguments***)\u001b[0m\n\u001b[1;32m   2894\u001b[0m         \u001b[0;32mtry\u001b[0m\u001b[0;34m:\u001b[0m\u001b[0;34m\u001b[0m\u001b[0;34m\u001b[0m\u001b[0m\n\u001b[0;32m-> 2895\u001b[0;31m             \u001b[0;32mreturn\u001b[0m \u001b[0mrunner\u001b[0m\u001b[0;34m(\u001b[0m\u001b[0mcoro\u001b[0m\u001b[0;34m)\u001b[0m\u001b[0;34m\u001b[0m\u001b[0;34m\u001b[0m\u001b[0m\n\u001b[0m\u001b[1;32m   2896\u001b[0m         \u001b[0;32mexcept\u001b[0m \u001b[0mBaseException\u001b[0m \u001b[0;32mas\u001b[0m \u001b[0me\u001b[0m\u001b[0;34m:\u001b[0m\u001b[0;34m\u001b[0m\u001b[0;34m\u001b[0m\u001b[0m\n",
      "\u001b[0;32m~/.local/lib/python3.6/site-packages/IPython/core/async_helpers.py\u001b[0m in \u001b[0;36m_pseudo_sync_runner\u001b[0;34m(***failed resolving arguments***)\u001b[0m\n\u001b[1;32m     67\u001b[0m     \u001b[0;32mtry\u001b[0m\u001b[0;34m:\u001b[0m\u001b[0;34m\u001b[0m\u001b[0;34m\u001b[0m\u001b[0m\n\u001b[0;32m---> 68\u001b[0;31m         \u001b[0mcoro\u001b[0m\u001b[0;34m.\u001b[0m\u001b[0msend\u001b[0m\u001b[0;34m(\u001b[0m\u001b[0;32mNone\u001b[0m\u001b[0;34m)\u001b[0m\u001b[0;34m\u001b[0m\u001b[0;34m\u001b[0m\u001b[0m\n\u001b[0m\u001b[1;32m     69\u001b[0m     \u001b[0;32mexcept\u001b[0m \u001b[0mStopIteration\u001b[0m \u001b[0;32mas\u001b[0m \u001b[0mexc\u001b[0m\u001b[0;34m:\u001b[0m\u001b[0;34m\u001b[0m\u001b[0;34m\u001b[0m\u001b[0m\n",
      "\u001b[0;32m~/.local/lib/python3.6/site-packages/IPython/core/interactiveshell.py\u001b[0m in \u001b[0;36mrun_cell_async\u001b[0;34m(***failed resolving arguments***)\u001b[0m\n\u001b[1;32m   3071\u001b[0m                 has_raised = await self.run_ast_nodes(code_ast.body, cell_name,\n\u001b[0;32m-> 3072\u001b[0;31m                        interactivity=interactivity, compiler=compiler, result=result)\n\u001b[0m\u001b[1;32m   3073\u001b[0m \u001b[0;34m\u001b[0m\u001b[0m\n",
      "\u001b[0;32m~/.local/lib/python3.6/site-packages/IPython/core/interactiveshell.py\u001b[0m in \u001b[0;36mrun_ast_nodes\u001b[0;34m(***failed resolving arguments***)\u001b[0m\n\u001b[1;32m   3262\u001b[0m                         \u001b[0masy\u001b[0m \u001b[0;34m=\u001b[0m \u001b[0mcompare\u001b[0m\u001b[0;34m(\u001b[0m\u001b[0mcode\u001b[0m\u001b[0;34m)\u001b[0m\u001b[0;34m\u001b[0m\u001b[0;34m\u001b[0m\u001b[0m\n\u001b[0;32m-> 3263\u001b[0;31m                     \u001b[0;32mif\u001b[0m \u001b[0;34m(\u001b[0m\u001b[0mawait\u001b[0m \u001b[0mself\u001b[0m\u001b[0;34m.\u001b[0m\u001b[0mrun_code\u001b[0m\u001b[0;34m(\u001b[0m\u001b[0mcode\u001b[0m\u001b[0;34m,\u001b[0m \u001b[0mresult\u001b[0m\u001b[0;34m,\u001b[0m  \u001b[0masync_\u001b[0m\u001b[0;34m=\u001b[0m\u001b[0masy\u001b[0m\u001b[0;34m)\u001b[0m\u001b[0;34m)\u001b[0m\u001b[0;34m:\u001b[0m\u001b[0;34m\u001b[0m\u001b[0;34m\u001b[0m\u001b[0m\n\u001b[0m\u001b[1;32m   3264\u001b[0m                         \u001b[0;32mreturn\u001b[0m \u001b[0;32mTrue\u001b[0m\u001b[0;34m\u001b[0m\u001b[0;34m\u001b[0m\u001b[0m\n",
      "\u001b[0;32m~/.local/lib/python3.6/site-packages/IPython/core/interactiveshell.py\u001b[0m in \u001b[0;36mrun_code\u001b[0;34m(***failed resolving arguments***)\u001b[0m\n\u001b[1;32m   3342\u001b[0m                 \u001b[0;32melse\u001b[0m\u001b[0;34m:\u001b[0m\u001b[0;34m\u001b[0m\u001b[0;34m\u001b[0m\u001b[0m\n\u001b[0;32m-> 3343\u001b[0;31m                     \u001b[0mexec\u001b[0m\u001b[0;34m(\u001b[0m\u001b[0mcode_obj\u001b[0m\u001b[0;34m,\u001b[0m \u001b[0mself\u001b[0m\u001b[0;34m.\u001b[0m\u001b[0muser_global_ns\u001b[0m\u001b[0;34m,\u001b[0m \u001b[0mself\u001b[0m\u001b[0;34m.\u001b[0m\u001b[0muser_ns\u001b[0m\u001b[0;34m)\u001b[0m\u001b[0;34m\u001b[0m\u001b[0;34m\u001b[0m\u001b[0m\n\u001b[0m\u001b[1;32m   3344\u001b[0m             \u001b[0;32mfinally\u001b[0m\u001b[0;34m:\u001b[0m\u001b[0;34m\u001b[0m\u001b[0;34m\u001b[0m\u001b[0m\n",
      "\u001b[0;32m<ipython-input-59-ad9bad2c4170>\u001b[0m in \u001b[0;36m<module>\u001b[0;34m\u001b[0m\n\u001b[1;32m      3\u001b[0m \u001b[0;34m\u001b[0m\u001b[0m\n\u001b[0;32m----> 4\u001b[0;31m \u001b[0mminimize\u001b[0m\u001b[0;34m(\u001b[0m\u001b[0mmin_x\u001b[0m\u001b[0;34m,\u001b[0m \u001b[0malpha0\u001b[0m\u001b[0;34m,\u001b[0m \u001b[0margs\u001b[0m \u001b[0;34m=\u001b[0m \u001b[0;34m(\u001b[0m\u001b[0mbeta\u001b[0m\u001b[0;34m,\u001b[0m \u001b[0mgamma\u001b[0m\u001b[0;34m)\u001b[0m\u001b[0;34m,\u001b[0m \u001b[0mmethod\u001b[0m \u001b[0;34m=\u001b[0m \u001b[0;34m'BFGS'\u001b[0m\u001b[0;34m,\u001b[0m \u001b[0moptions\u001b[0m \u001b[0;34m=\u001b[0m \u001b[0;34m{\u001b[0m\u001b[0;34m'gtol'\u001b[0m\u001b[0;34m:\u001b[0m \u001b[0;36m1e-3\u001b[0m\u001b[0;34m,\u001b[0m \u001b[0;34m'maxiter'\u001b[0m\u001b[0;34m:\u001b[0m \u001b[0;36m10\u001b[0m\u001b[0;34m}\u001b[0m\u001b[0;34m)\u001b[0m\u001b[0;34m\u001b[0m\u001b[0;34m\u001b[0m\u001b[0m\n\u001b[0m",
      "\u001b[0;32m~/.local/lib/python3.6/site-packages/jax/_src/scipy/optimize/minimize.py\u001b[0m in \u001b[0;36mminimize\u001b[0;34m(***failed resolving arguments***)\u001b[0m\n\u001b[1;32m    102\u001b[0m   \u001b[0;32mif\u001b[0m \u001b[0mmethod\u001b[0m\u001b[0;34m.\u001b[0m\u001b[0mlower\u001b[0m\u001b[0;34m(\u001b[0m\u001b[0;34m)\u001b[0m \u001b[0;34m==\u001b[0m \u001b[0;34m'bfgs'\u001b[0m\u001b[0;34m:\u001b[0m\u001b[0;34m\u001b[0m\u001b[0;34m\u001b[0m\u001b[0m\n\u001b[0;32m--> 103\u001b[0;31m     \u001b[0mresults\u001b[0m \u001b[0;34m=\u001b[0m \u001b[0mminimize_bfgs\u001b[0m\u001b[0;34m(\u001b[0m\u001b[0mfun_with_args\u001b[0m\u001b[0;34m,\u001b[0m \u001b[0mx0\u001b[0m\u001b[0;34m,\u001b[0m \u001b[0;34m**\u001b[0m\u001b[0moptions\u001b[0m\u001b[0;34m)\u001b[0m\u001b[0;34m\u001b[0m\u001b[0;34m\u001b[0m\u001b[0m\n\u001b[0m\u001b[1;32m    104\u001b[0m     \u001b[0msuccess\u001b[0m \u001b[0;34m=\u001b[0m \u001b[0mresults\u001b[0m\u001b[0;34m.\u001b[0m\u001b[0mconverged\u001b[0m \u001b[0;34m&\u001b[0m \u001b[0mjnp\u001b[0m\u001b[0;34m.\u001b[0m\u001b[0mlogical_not\u001b[0m\u001b[0;34m(\u001b[0m\u001b[0mresults\u001b[0m\u001b[0;34m.\u001b[0m\u001b[0mfailed\u001b[0m\u001b[0;34m)\u001b[0m\u001b[0;34m\u001b[0m\u001b[0;34m\u001b[0m\u001b[0m\n",
      "\u001b[0;32m~/.local/lib/python3.6/site-packages/jax/_src/scipy/optimize/bfgs.py\u001b[0m in \u001b[0;36mminimize_bfgs\u001b[0;34m(***failed resolving arguments***)\u001b[0m\n\u001b[1;32m     99\u001b[0m   \u001b[0minitial_H\u001b[0m \u001b[0;34m=\u001b[0m \u001b[0mjnp\u001b[0m\u001b[0;34m.\u001b[0m\u001b[0meye\u001b[0m\u001b[0;34m(\u001b[0m\u001b[0md\u001b[0m\u001b[0;34m)\u001b[0m\u001b[0;34m\u001b[0m\u001b[0;34m\u001b[0m\u001b[0m\n\u001b[0;32m--> 100\u001b[0;31m   \u001b[0mf_0\u001b[0m\u001b[0;34m,\u001b[0m \u001b[0mg_0\u001b[0m \u001b[0;34m=\u001b[0m \u001b[0mjax\u001b[0m\u001b[0;34m.\u001b[0m\u001b[0mvalue_and_grad\u001b[0m\u001b[0;34m(\u001b[0m\u001b[0mfun\u001b[0m\u001b[0;34m)\u001b[0m\u001b[0;34m(\u001b[0m\u001b[0mx0\u001b[0m\u001b[0;34m)\u001b[0m\u001b[0;34m\u001b[0m\u001b[0;34m\u001b[0m\u001b[0m\n\u001b[0m\u001b[1;32m    101\u001b[0m   state = _BFGSResults(\n",
      "\u001b[0;32m~/.local/lib/python3.6/site-packages/jax/_src/scipy/optimize/minimize.py\u001b[0m in \u001b[0;36m<lambda>\u001b[0;34m(***failed resolving arguments***)\u001b[0m\n\u001b[1;32m     99\u001b[0m \u001b[0;34m\u001b[0m\u001b[0m\n\u001b[0;32m--> 100\u001b[0;31m   \u001b[0mfun_with_args\u001b[0m \u001b[0;34m=\u001b[0m \u001b[0;32mlambda\u001b[0m \u001b[0mx\u001b[0m\u001b[0;34m:\u001b[0m \u001b[0mfun\u001b[0m\u001b[0;34m(\u001b[0m\u001b[0mx\u001b[0m\u001b[0;34m,\u001b[0m \u001b[0;34m*\u001b[0m\u001b[0margs\u001b[0m\u001b[0;34m)\u001b[0m\u001b[0;34m\u001b[0m\u001b[0;34m\u001b[0m\u001b[0m\n\u001b[0m\u001b[1;32m    101\u001b[0m \u001b[0;34m\u001b[0m\u001b[0m\n",
      "\u001b[0;32m<ipython-input-56-e8c16c346208>\u001b[0m in \u001b[0;36mmin_x\u001b[0;34m(***failed resolving arguments***)\u001b[0m\n\u001b[1;32m      8\u001b[0m     \u001b[0mbeta\u001b[0m \u001b[0;34m=\u001b[0m \u001b[0;32mNone\u001b[0m\u001b[0;34m\u001b[0m\u001b[0;34m\u001b[0m\u001b[0m\n\u001b[0;32m----> 9\u001b[0;31m     \u001b[0mmini\u001b[0m \u001b[0;34m=\u001b[0m \u001b[0mminimize\u001b[0m\u001b[0;34m(\u001b[0m\u001b[0mmy_func\u001b[0m\u001b[0;34m,\u001b[0m \u001b[0mx0\u001b[0m\u001b[0;34m,\u001b[0m \u001b[0margs\u001b[0m \u001b[0;34m=\u001b[0m \u001b[0;34m(\u001b[0m\u001b[0malpha\u001b[0m\u001b[0;34m,\u001b[0m \u001b[0mbeta\u001b[0m\u001b[0;34m)\u001b[0m\u001b[0;34m,\u001b[0m \u001b[0mmethod\u001b[0m \u001b[0;34m=\u001b[0m \u001b[0;34m'BFGS'\u001b[0m\u001b[0;34m,\u001b[0m \u001b[0moptions\u001b[0m \u001b[0;34m=\u001b[0m \u001b[0;34m{\u001b[0m\u001b[0;34m'gtol'\u001b[0m\u001b[0;34m:\u001b[0m \u001b[0;36m1e-3\u001b[0m\u001b[0;34m}\u001b[0m\u001b[0;34m)\u001b[0m\u001b[0;34m\u001b[0m\u001b[0;34m\u001b[0m\u001b[0m\n\u001b[0m\u001b[1;32m     10\u001b[0m     \u001b[0mmin_x\u001b[0m \u001b[0;34m=\u001b[0m \u001b[0mmini\u001b[0m\u001b[0;34m.\u001b[0m\u001b[0mx\u001b[0m\u001b[0;34m[\u001b[0m\u001b[0;36m0\u001b[0m\u001b[0;34m]\u001b[0m\u001b[0;34m\u001b[0m\u001b[0;34m\u001b[0m\u001b[0m\n",
      "\u001b[0;32m~/.local/lib/python3.6/site-packages/jax/_src/scipy/optimize/minimize.py\u001b[0m in \u001b[0;36mminimize\u001b[0;34m(***failed resolving arguments***)\u001b[0m\n\u001b[1;32m    102\u001b[0m   \u001b[0;32mif\u001b[0m \u001b[0mmethod\u001b[0m\u001b[0;34m.\u001b[0m\u001b[0mlower\u001b[0m\u001b[0;34m(\u001b[0m\u001b[0;34m)\u001b[0m \u001b[0;34m==\u001b[0m \u001b[0;34m'bfgs'\u001b[0m\u001b[0;34m:\u001b[0m\u001b[0;34m\u001b[0m\u001b[0;34m\u001b[0m\u001b[0m\n\u001b[0;32m--> 103\u001b[0;31m     \u001b[0mresults\u001b[0m \u001b[0;34m=\u001b[0m \u001b[0mminimize_bfgs\u001b[0m\u001b[0;34m(\u001b[0m\u001b[0mfun_with_args\u001b[0m\u001b[0;34m,\u001b[0m \u001b[0mx0\u001b[0m\u001b[0;34m,\u001b[0m \u001b[0;34m**\u001b[0m\u001b[0moptions\u001b[0m\u001b[0;34m)\u001b[0m\u001b[0;34m\u001b[0m\u001b[0;34m\u001b[0m\u001b[0m\n\u001b[0m\u001b[1;32m    104\u001b[0m     \u001b[0msuccess\u001b[0m \u001b[0;34m=\u001b[0m \u001b[0mresults\u001b[0m\u001b[0;34m.\u001b[0m\u001b[0mconverged\u001b[0m \u001b[0;34m&\u001b[0m \u001b[0mjnp\u001b[0m\u001b[0;34m.\u001b[0m\u001b[0mlogical_not\u001b[0m\u001b[0;34m(\u001b[0m\u001b[0mresults\u001b[0m\u001b[0;34m.\u001b[0m\u001b[0mfailed\u001b[0m\u001b[0;34m)\u001b[0m\u001b[0;34m\u001b[0m\u001b[0;34m\u001b[0m\u001b[0m\n",
      "\u001b[0;32m~/.local/lib/python3.6/site-packages/jax/_src/scipy/optimize/bfgs.py\u001b[0m in \u001b[0;36mminimize_bfgs\u001b[0;34m(***failed resolving arguments***)\u001b[0m\n\u001b[1;32m    163\u001b[0m \u001b[0;34m\u001b[0m\u001b[0m\n\u001b[0;32m--> 164\u001b[0;31m   \u001b[0mstate\u001b[0m \u001b[0;34m=\u001b[0m \u001b[0mlax\u001b[0m\u001b[0;34m.\u001b[0m\u001b[0mwhile_loop\u001b[0m\u001b[0;34m(\u001b[0m\u001b[0mcond_fun\u001b[0m\u001b[0;34m,\u001b[0m \u001b[0mbody_fun\u001b[0m\u001b[0;34m,\u001b[0m \u001b[0mstate\u001b[0m\u001b[0;34m)\u001b[0m\u001b[0;34m\u001b[0m\u001b[0;34m\u001b[0m\u001b[0m\n\u001b[0m\u001b[1;32m    165\u001b[0m   status = jnp.where(\n",
      "\u001b[0;31mJaxStackTraceBeforeTransformation\u001b[0m: ValueError: Reverse-mode differentiation does not work for lax.while_loop or lax.fori_loop. Try using lax.scan instead.\n\nThe preceding stack trace is the source of the JAX operation that, once transformed by JAX, triggered the following exception.\n\n--------------------",
      "\nThe above exception was the direct cause of the following exception:\n",
      "\u001b[0;31mUnfilteredStackTrace\u001b[0m                      Traceback (most recent call last)",
      "\u001b[0;32m<ipython-input-59-ad9bad2c4170>\u001b[0m in \u001b[0;36m<module>\u001b[0;34m\u001b[0m\n\u001b[1;32m      3\u001b[0m \u001b[0;34m\u001b[0m\u001b[0m\n\u001b[0;32m----> 4\u001b[0;31m \u001b[0mminimize\u001b[0m\u001b[0;34m(\u001b[0m\u001b[0mmin_x\u001b[0m\u001b[0;34m,\u001b[0m \u001b[0malpha0\u001b[0m\u001b[0;34m,\u001b[0m \u001b[0margs\u001b[0m \u001b[0;34m=\u001b[0m \u001b[0;34m(\u001b[0m\u001b[0mbeta\u001b[0m\u001b[0;34m,\u001b[0m \u001b[0mgamma\u001b[0m\u001b[0;34m)\u001b[0m\u001b[0;34m,\u001b[0m \u001b[0mmethod\u001b[0m \u001b[0;34m=\u001b[0m \u001b[0;34m'BFGS'\u001b[0m\u001b[0;34m,\u001b[0m \u001b[0moptions\u001b[0m \u001b[0;34m=\u001b[0m \u001b[0;34m{\u001b[0m\u001b[0;34m'gtol'\u001b[0m\u001b[0;34m:\u001b[0m \u001b[0;36m1e-3\u001b[0m\u001b[0;34m,\u001b[0m \u001b[0;34m'maxiter'\u001b[0m\u001b[0;34m:\u001b[0m \u001b[0;36m10\u001b[0m\u001b[0;34m}\u001b[0m\u001b[0;34m)\u001b[0m\u001b[0;34m\u001b[0m\u001b[0;34m\u001b[0m\u001b[0m\n\u001b[0m",
      "\u001b[0;32m~/.local/lib/python3.6/site-packages/jax/_src/scipy/optimize/minimize.py\u001b[0m in \u001b[0;36mminimize\u001b[0;34m(fun, x0, args, method, tol, options)\u001b[0m\n\u001b[1;32m    102\u001b[0m   \u001b[0;32mif\u001b[0m \u001b[0mmethod\u001b[0m\u001b[0;34m.\u001b[0m\u001b[0mlower\u001b[0m\u001b[0;34m(\u001b[0m\u001b[0;34m)\u001b[0m \u001b[0;34m==\u001b[0m \u001b[0;34m'bfgs'\u001b[0m\u001b[0;34m:\u001b[0m\u001b[0;34m\u001b[0m\u001b[0;34m\u001b[0m\u001b[0m\n\u001b[0;32m--> 103\u001b[0;31m     \u001b[0mresults\u001b[0m \u001b[0;34m=\u001b[0m \u001b[0mminimize_bfgs\u001b[0m\u001b[0;34m(\u001b[0m\u001b[0mfun_with_args\u001b[0m\u001b[0;34m,\u001b[0m \u001b[0mx0\u001b[0m\u001b[0;34m,\u001b[0m \u001b[0;34m**\u001b[0m\u001b[0moptions\u001b[0m\u001b[0;34m)\u001b[0m\u001b[0;34m\u001b[0m\u001b[0;34m\u001b[0m\u001b[0m\n\u001b[0m\u001b[1;32m    104\u001b[0m     \u001b[0msuccess\u001b[0m \u001b[0;34m=\u001b[0m \u001b[0mresults\u001b[0m\u001b[0;34m.\u001b[0m\u001b[0mconverged\u001b[0m \u001b[0;34m&\u001b[0m \u001b[0mjnp\u001b[0m\u001b[0;34m.\u001b[0m\u001b[0mlogical_not\u001b[0m\u001b[0;34m(\u001b[0m\u001b[0mresults\u001b[0m\u001b[0;34m.\u001b[0m\u001b[0mfailed\u001b[0m\u001b[0;34m)\u001b[0m\u001b[0;34m\u001b[0m\u001b[0;34m\u001b[0m\u001b[0m\n",
      "\u001b[0;32m~/.local/lib/python3.6/site-packages/jax/_src/scipy/optimize/bfgs.py\u001b[0m in \u001b[0;36mminimize_bfgs\u001b[0;34m(fun, x0, maxiter, norm, gtol, line_search_maxiter)\u001b[0m\n\u001b[1;32m     99\u001b[0m   \u001b[0minitial_H\u001b[0m \u001b[0;34m=\u001b[0m \u001b[0mjnp\u001b[0m\u001b[0;34m.\u001b[0m\u001b[0meye\u001b[0m\u001b[0;34m(\u001b[0m\u001b[0md\u001b[0m\u001b[0;34m)\u001b[0m\u001b[0;34m\u001b[0m\u001b[0;34m\u001b[0m\u001b[0m\n\u001b[0;32m--> 100\u001b[0;31m   \u001b[0mf_0\u001b[0m\u001b[0;34m,\u001b[0m \u001b[0mg_0\u001b[0m \u001b[0;34m=\u001b[0m \u001b[0mjax\u001b[0m\u001b[0;34m.\u001b[0m\u001b[0mvalue_and_grad\u001b[0m\u001b[0;34m(\u001b[0m\u001b[0mfun\u001b[0m\u001b[0;34m)\u001b[0m\u001b[0;34m(\u001b[0m\u001b[0mx0\u001b[0m\u001b[0;34m)\u001b[0m\u001b[0;34m\u001b[0m\u001b[0;34m\u001b[0m\u001b[0m\n\u001b[0m\u001b[1;32m    101\u001b[0m   state = _BFGSResults(\n",
      "    \u001b[0;31m[... skipping hidden 1 frame]\u001b[0m\n",
      "\u001b[0;32m~/.local/lib/python3.6/site-packages/jax/_src/api.py\u001b[0m in \u001b[0;36mvalue_and_grad_f\u001b[0;34m(*args, **kwargs)\u001b[0m\n\u001b[1;32m    907\u001b[0m     \u001b[0mtree_map\u001b[0m\u001b[0;34m(\u001b[0m\u001b[0mpartial\u001b[0m\u001b[0;34m(\u001b[0m\u001b[0m_check_output_dtype_grad\u001b[0m\u001b[0;34m,\u001b[0m \u001b[0mholomorphic\u001b[0m\u001b[0;34m)\u001b[0m\u001b[0;34m,\u001b[0m \u001b[0mans\u001b[0m\u001b[0;34m)\u001b[0m\u001b[0;34m\u001b[0m\u001b[0;34m\u001b[0m\u001b[0m\n\u001b[0;32m--> 908\u001b[0;31m     \u001b[0mg\u001b[0m \u001b[0;34m=\u001b[0m \u001b[0mvjp_py\u001b[0m\u001b[0;34m(\u001b[0m\u001b[0mnp\u001b[0m\u001b[0;34m.\u001b[0m\u001b[0mones\u001b[0m\u001b[0;34m(\u001b[0m\u001b[0;34m(\u001b[0m\u001b[0;34m)\u001b[0m\u001b[0;34m,\u001b[0m \u001b[0mdtype\u001b[0m\u001b[0;34m=\u001b[0m\u001b[0mdtype\u001b[0m\u001b[0;34m)\u001b[0m\u001b[0;34m)\u001b[0m\u001b[0;34m\u001b[0m\u001b[0;34m\u001b[0m\u001b[0m\n\u001b[0m\u001b[1;32m    909\u001b[0m     \u001b[0mg\u001b[0m \u001b[0;34m=\u001b[0m \u001b[0mg\u001b[0m\u001b[0;34m[\u001b[0m\u001b[0;36m0\u001b[0m\u001b[0;34m]\u001b[0m \u001b[0;32mif\u001b[0m \u001b[0misinstance\u001b[0m\u001b[0;34m(\u001b[0m\u001b[0margnums\u001b[0m\u001b[0;34m,\u001b[0m \u001b[0mint\u001b[0m\u001b[0;34m)\u001b[0m \u001b[0;32melse\u001b[0m \u001b[0mg\u001b[0m\u001b[0;34m\u001b[0m\u001b[0;34m\u001b[0m\u001b[0m\n",
      "\u001b[0;32m~/.local/lib/python3.6/site-packages/jax/_src/api.py\u001b[0m in \u001b[0;36m_vjp_pullback_wrapper\u001b[0;34m(cotangent_dtypes, io_tree, fun, py_args)\u001b[0m\n\u001b[1;32m   1903\u001b[0m           f\"with dtype {_dtype(arg)}.\")\n\u001b[0;32m-> 1904\u001b[0;31m   \u001b[0mans\u001b[0m \u001b[0;34m=\u001b[0m \u001b[0mfun\u001b[0m\u001b[0;34m(\u001b[0m\u001b[0;34m*\u001b[0m\u001b[0margs\u001b[0m\u001b[0;34m)\u001b[0m\u001b[0;34m\u001b[0m\u001b[0;34m\u001b[0m\u001b[0m\n\u001b[0m\u001b[1;32m   1905\u001b[0m   \u001b[0;32mreturn\u001b[0m \u001b[0mtree_unflatten\u001b[0m\u001b[0;34m(\u001b[0m\u001b[0mout_tree\u001b[0m\u001b[0;34m,\u001b[0m \u001b[0mans\u001b[0m\u001b[0;34m)\u001b[0m\u001b[0;34m\u001b[0m\u001b[0;34m\u001b[0m\u001b[0m\n",
      "\u001b[0;32m~/.local/lib/python3.6/site-packages/jax/interpreters/ad.py\u001b[0m in \u001b[0;36munbound_vjp\u001b[0;34m(pvals, jaxpr, consts, *cts)\u001b[0m\n\u001b[1;32m    121\u001b[0m     \u001b[0mdummy_args\u001b[0m \u001b[0;34m=\u001b[0m \u001b[0;34m[\u001b[0m\u001b[0mUndefinedPrimal\u001b[0m\u001b[0;34m(\u001b[0m\u001b[0mv\u001b[0m\u001b[0;34m.\u001b[0m\u001b[0maval\u001b[0m\u001b[0;34m)\u001b[0m \u001b[0;32mfor\u001b[0m \u001b[0mv\u001b[0m \u001b[0;32min\u001b[0m \u001b[0mjaxpr\u001b[0m\u001b[0;34m.\u001b[0m\u001b[0minvars\u001b[0m\u001b[0;34m]\u001b[0m\u001b[0;34m\u001b[0m\u001b[0;34m\u001b[0m\u001b[0m\n\u001b[0;32m--> 122\u001b[0;31m     \u001b[0marg_cts\u001b[0m \u001b[0;34m=\u001b[0m \u001b[0mbackward_pass\u001b[0m\u001b[0;34m(\u001b[0m\u001b[0mjaxpr\u001b[0m\u001b[0;34m,\u001b[0m \u001b[0mreduce_axes\u001b[0m\u001b[0;34m,\u001b[0m \u001b[0mconsts\u001b[0m\u001b[0;34m,\u001b[0m \u001b[0mdummy_args\u001b[0m\u001b[0;34m,\u001b[0m \u001b[0mcts\u001b[0m\u001b[0;34m)\u001b[0m\u001b[0;34m\u001b[0m\u001b[0;34m\u001b[0m\u001b[0m\n\u001b[0m\u001b[1;32m    123\u001b[0m     \u001b[0;32mreturn\u001b[0m \u001b[0mmap\u001b[0m\u001b[0;34m(\u001b[0m\u001b[0minstantiate_zeros\u001b[0m\u001b[0;34m,\u001b[0m \u001b[0marg_cts\u001b[0m\u001b[0;34m)\u001b[0m\u001b[0;34m\u001b[0m\u001b[0;34m\u001b[0m\u001b[0m\n",
      "\u001b[0;32m~/.local/lib/python3.6/site-packages/jax/interpreters/ad.py\u001b[0m in \u001b[0;36mbackward_pass\u001b[0;34m(jaxpr, reduce_axes, consts, primals_in, cotangents_in)\u001b[0m\n\u001b[1;32m    227\u001b[0m         cts_out = get_primitive_transpose(eqn.primitive)(cts_in, *invals,\n\u001b[0;32m--> 228\u001b[0;31m                                                          **eqn.params)\n\u001b[0m\u001b[1;32m    229\u001b[0m     \u001b[0mcts_out\u001b[0m \u001b[0;34m=\u001b[0m \u001b[0;34m[\u001b[0m\u001b[0mZero\u001b[0m\u001b[0;34m(\u001b[0m\u001b[0mv\u001b[0m\u001b[0;34m.\u001b[0m\u001b[0maval\u001b[0m\u001b[0;34m)\u001b[0m \u001b[0;32mfor\u001b[0m \u001b[0mv\u001b[0m \u001b[0;32min\u001b[0m \u001b[0meqn\u001b[0m\u001b[0;34m.\u001b[0m\u001b[0minvars\u001b[0m\u001b[0;34m]\u001b[0m \u001b[0;32mif\u001b[0m \u001b[0mcts_out\u001b[0m \u001b[0;32mis\u001b[0m \u001b[0mZero\u001b[0m \u001b[0;32melse\u001b[0m \u001b[0mcts_out\u001b[0m\u001b[0;34m\u001b[0m\u001b[0;34m\u001b[0m\u001b[0m\n",
      "\u001b[0;32m~/.local/lib/python3.6/site-packages/jax/_src/lax/control_flow.py\u001b[0m in \u001b[0;36m_while_transpose_error\u001b[0;34m(*_, **kwargs)\u001b[0m\n\u001b[1;32m    549\u001b[0m \u001b[0;32mdef\u001b[0m \u001b[0m_while_transpose_error\u001b[0m\u001b[0;34m(\u001b[0m\u001b[0;34m*\u001b[0m\u001b[0m_\u001b[0m\u001b[0;34m,\u001b[0m \u001b[0;34m**\u001b[0m\u001b[0mkwargs\u001b[0m\u001b[0;34m)\u001b[0m\u001b[0;34m:\u001b[0m\u001b[0;34m\u001b[0m\u001b[0;34m\u001b[0m\u001b[0m\n\u001b[0;32m--> 550\u001b[0;31m   raise ValueError(\"Reverse-mode differentiation does not work for \"\n\u001b[0m\u001b[1;32m    551\u001b[0m                    \u001b[0;34m\"lax.while_loop or lax.fori_loop. \"\u001b[0m\u001b[0;34m\u001b[0m\u001b[0;34m\u001b[0m\u001b[0m\n",
      "\u001b[0;31mUnfilteredStackTrace\u001b[0m: ValueError: Reverse-mode differentiation does not work for lax.while_loop or lax.fori_loop. Try using lax.scan instead.\n\nThe stack trace below excludes JAX-internal frames.\nThe preceding is the original exception that occurred, unmodified.\n\n--------------------",
      "\nThe above exception was the direct cause of the following exception:\n",
      "\u001b[0;31mValueError\u001b[0m                                Traceback (most recent call last)",
      "\u001b[0;32m<ipython-input-59-ad9bad2c4170>\u001b[0m in \u001b[0;36m<module>\u001b[0;34m\u001b[0m\n\u001b[1;32m      2\u001b[0m \u001b[0mgamma\u001b[0m \u001b[0;34m=\u001b[0m \u001b[0;32mNone\u001b[0m\u001b[0;34m\u001b[0m\u001b[0;34m\u001b[0m\u001b[0m\n\u001b[1;32m      3\u001b[0m \u001b[0;34m\u001b[0m\u001b[0m\n\u001b[0;32m----> 4\u001b[0;31m \u001b[0mminimize\u001b[0m\u001b[0;34m(\u001b[0m\u001b[0mmin_x\u001b[0m\u001b[0;34m,\u001b[0m \u001b[0malpha0\u001b[0m\u001b[0;34m,\u001b[0m \u001b[0margs\u001b[0m \u001b[0;34m=\u001b[0m \u001b[0;34m(\u001b[0m\u001b[0mbeta\u001b[0m\u001b[0;34m,\u001b[0m \u001b[0mgamma\u001b[0m\u001b[0;34m)\u001b[0m\u001b[0;34m,\u001b[0m \u001b[0mmethod\u001b[0m \u001b[0;34m=\u001b[0m \u001b[0;34m'BFGS'\u001b[0m\u001b[0;34m,\u001b[0m \u001b[0moptions\u001b[0m \u001b[0;34m=\u001b[0m \u001b[0;34m{\u001b[0m\u001b[0;34m'gtol'\u001b[0m\u001b[0;34m:\u001b[0m \u001b[0;36m1e-3\u001b[0m\u001b[0;34m,\u001b[0m \u001b[0;34m'maxiter'\u001b[0m\u001b[0;34m:\u001b[0m \u001b[0;36m10\u001b[0m\u001b[0;34m}\u001b[0m\u001b[0;34m)\u001b[0m\u001b[0;34m\u001b[0m\u001b[0;34m\u001b[0m\u001b[0m\n\u001b[0m",
      "\u001b[0;32m~/.local/lib/python3.6/site-packages/jax/_src/scipy/optimize/minimize.py\u001b[0m in \u001b[0;36mminimize\u001b[0;34m(fun, x0, args, method, tol, options)\u001b[0m\n\u001b[1;32m    101\u001b[0m \u001b[0;34m\u001b[0m\u001b[0m\n\u001b[1;32m    102\u001b[0m   \u001b[0;32mif\u001b[0m \u001b[0mmethod\u001b[0m\u001b[0;34m.\u001b[0m\u001b[0mlower\u001b[0m\u001b[0;34m(\u001b[0m\u001b[0;34m)\u001b[0m \u001b[0;34m==\u001b[0m \u001b[0;34m'bfgs'\u001b[0m\u001b[0;34m:\u001b[0m\u001b[0;34m\u001b[0m\u001b[0;34m\u001b[0m\u001b[0m\n\u001b[0;32m--> 103\u001b[0;31m     \u001b[0mresults\u001b[0m \u001b[0;34m=\u001b[0m \u001b[0mminimize_bfgs\u001b[0m\u001b[0;34m(\u001b[0m\u001b[0mfun_with_args\u001b[0m\u001b[0;34m,\u001b[0m \u001b[0mx0\u001b[0m\u001b[0;34m,\u001b[0m \u001b[0;34m**\u001b[0m\u001b[0moptions\u001b[0m\u001b[0;34m)\u001b[0m\u001b[0;34m\u001b[0m\u001b[0;34m\u001b[0m\u001b[0m\n\u001b[0m\u001b[1;32m    104\u001b[0m     \u001b[0msuccess\u001b[0m \u001b[0;34m=\u001b[0m \u001b[0mresults\u001b[0m\u001b[0;34m.\u001b[0m\u001b[0mconverged\u001b[0m \u001b[0;34m&\u001b[0m \u001b[0mjnp\u001b[0m\u001b[0;34m.\u001b[0m\u001b[0mlogical_not\u001b[0m\u001b[0;34m(\u001b[0m\u001b[0mresults\u001b[0m\u001b[0;34m.\u001b[0m\u001b[0mfailed\u001b[0m\u001b[0;34m)\u001b[0m\u001b[0;34m\u001b[0m\u001b[0;34m\u001b[0m\u001b[0m\n\u001b[1;32m    105\u001b[0m     return OptimizeResults(x=results.x_k,\n",
      "\u001b[0;32m~/.local/lib/python3.6/site-packages/jax/_src/scipy/optimize/bfgs.py\u001b[0m in \u001b[0;36mminimize_bfgs\u001b[0;34m(fun, x0, maxiter, norm, gtol, line_search_maxiter)\u001b[0m\n\u001b[1;32m     98\u001b[0m \u001b[0;34m\u001b[0m\u001b[0m\n\u001b[1;32m     99\u001b[0m   \u001b[0minitial_H\u001b[0m \u001b[0;34m=\u001b[0m \u001b[0mjnp\u001b[0m\u001b[0;34m.\u001b[0m\u001b[0meye\u001b[0m\u001b[0;34m(\u001b[0m\u001b[0md\u001b[0m\u001b[0;34m)\u001b[0m\u001b[0;34m\u001b[0m\u001b[0;34m\u001b[0m\u001b[0m\n\u001b[0;32m--> 100\u001b[0;31m   \u001b[0mf_0\u001b[0m\u001b[0;34m,\u001b[0m \u001b[0mg_0\u001b[0m \u001b[0;34m=\u001b[0m \u001b[0mjax\u001b[0m\u001b[0;34m.\u001b[0m\u001b[0mvalue_and_grad\u001b[0m\u001b[0;34m(\u001b[0m\u001b[0mfun\u001b[0m\u001b[0;34m)\u001b[0m\u001b[0;34m(\u001b[0m\u001b[0mx0\u001b[0m\u001b[0;34m)\u001b[0m\u001b[0;34m\u001b[0m\u001b[0;34m\u001b[0m\u001b[0m\n\u001b[0m\u001b[1;32m    101\u001b[0m   state = _BFGSResults(\n\u001b[1;32m    102\u001b[0m       \u001b[0mconverged\u001b[0m\u001b[0;34m=\u001b[0m\u001b[0mjnp\u001b[0m\u001b[0;34m.\u001b[0m\u001b[0mlinalg\u001b[0m\u001b[0;34m.\u001b[0m\u001b[0mnorm\u001b[0m\u001b[0;34m(\u001b[0m\u001b[0mg_0\u001b[0m\u001b[0;34m,\u001b[0m \u001b[0mord\u001b[0m\u001b[0;34m=\u001b[0m\u001b[0mnorm\u001b[0m\u001b[0;34m)\u001b[0m \u001b[0;34m<\u001b[0m \u001b[0mgtol\u001b[0m\u001b[0;34m,\u001b[0m\u001b[0;34m\u001b[0m\u001b[0;34m\u001b[0m\u001b[0m\n",
      "\u001b[0;32m~/.local/lib/python3.6/site-packages/jax/_src/lax/control_flow.py\u001b[0m in \u001b[0;36m_while_transpose_error\u001b[0;34m(*_, **kwargs)\u001b[0m\n\u001b[1;32m    548\u001b[0m \u001b[0;34m\u001b[0m\u001b[0m\n\u001b[1;32m    549\u001b[0m \u001b[0;32mdef\u001b[0m \u001b[0m_while_transpose_error\u001b[0m\u001b[0;34m(\u001b[0m\u001b[0;34m*\u001b[0m\u001b[0m_\u001b[0m\u001b[0;34m,\u001b[0m \u001b[0;34m**\u001b[0m\u001b[0mkwargs\u001b[0m\u001b[0;34m)\u001b[0m\u001b[0;34m:\u001b[0m\u001b[0;34m\u001b[0m\u001b[0;34m\u001b[0m\u001b[0m\n\u001b[0;32m--> 550\u001b[0;31m   raise ValueError(\"Reverse-mode differentiation does not work for \"\n\u001b[0m\u001b[1;32m    551\u001b[0m                    \u001b[0;34m\"lax.while_loop or lax.fori_loop. \"\u001b[0m\u001b[0;34m\u001b[0m\u001b[0;34m\u001b[0m\u001b[0m\n\u001b[1;32m    552\u001b[0m                    \"Try using lax.scan instead.\")\n",
      "\u001b[0;31mValueError\u001b[0m: Reverse-mode differentiation does not work for lax.while_loop or lax.fori_loop. Try using lax.scan instead."
     ]
    }
   ],
   "source": [
    "alpha0 = np.array([2.0])\n",
    "gamma = None\n",
    "\n",
    "minimize(min_x, alpha0, args = (beta, gamma), method = 'BFGS', options = {'gtol': 1e-3, 'maxiter': 10})"
   ]
  },
  {
   "cell_type": "markdown",
   "metadata": {},
   "source": [
    "it seems that jax is not able to differentiate if the n. of loops is not fixed..."
   ]
  },
  {
   "cell_type": "code",
   "execution_count": 63,
   "metadata": {},
   "outputs": [
    {
     "name": "stdout",
     "output_type": "stream",
     "text": [
      "Traced<ConcreteArray(2.5)>with<JVPTrace(level=2/0)>\n",
      "  with primal = DeviceArray(2.5, dtype=float64)\n",
      "       tangent = Traced<ShapedArray(float64[]):JaxprTrace(level=1/0)>\n"
     ]
    },
    {
     "data": {
      "text/plain": [
       "[DeviceArray(2., dtype=float64)]"
      ]
     },
     "execution_count": 63,
     "metadata": {},
     "output_type": "execute_result"
    }
   ],
   "source": [
    "gradient = jax.grad(my_func, argnums = 0)\n",
    "gradient([1.0],[1.0],None)"
   ]
  },
  {
   "cell_type": "code",
   "execution_count": 64,
   "metadata": {},
   "outputs": [
    {
     "name": "stdout",
     "output_type": "stream",
     "text": [
      "Traced<ConcreteArray(2.5)>with<JVPTrace(level=4/0)>\n",
      "  with primal = Traced<ConcreteArray(2.5)>with<JVPTrace(level=2/0)>\n",
      "                  with primal = DeviceArray(2.5, dtype=float64)\n",
      "                       tangent = Traced<ShapedArray(float64[])>with<BatchTrace(level=1/0)>\n",
      "                                   with val = DeviceArray([2.], dtype=float64)\n",
      "                                        batch_dim = 0\n",
      "       tangent = Traced<ShapedArray(float64[]):JaxprTrace(level=3/0)>\n"
     ]
    },
    {
     "data": {
      "text/plain": [
       "[[DeviceArray(1., dtype=float64)]]"
      ]
     },
     "execution_count": 64,
     "metadata": {},
     "output_type": "execute_result"
    }
   ],
   "source": [
    "Hess = jax.hessian(my_func)\n",
    "\n",
    "Hess([1.0],[1.0],None)"
   ]
  },
  {
   "cell_type": "code",
   "execution_count": 117,
   "metadata": {},
   "outputs": [
    {
     "ename": "TypeError",
     "evalue": "min_x_func() takes 2 positional arguments but 3 were given",
     "output_type": "error",
     "traceback": [
      "\u001b[0;31m---------------------------------------------------------------------------\u001b[0m",
      "\u001b[0;31mUnfilteredStackTrace\u001b[0m                      Traceback (most recent call last)",
      "\u001b[0;32m<ipython-input-117-01ec22b469b9>\u001b[0m in \u001b[0;36m<module>\u001b[0;34m\u001b[0m\n\u001b[1;32m      1\u001b[0m \u001b[0mHessian\u001b[0m \u001b[0;34m=\u001b[0m \u001b[0mjax\u001b[0m\u001b[0;34m.\u001b[0m\u001b[0mjacfwd\u001b[0m\u001b[0;34m(\u001b[0m\u001b[0mgradient\u001b[0m\u001b[0;34m,\u001b[0m \u001b[0margnums\u001b[0m \u001b[0;34m=\u001b[0m \u001b[0;36m0\u001b[0m\u001b[0;34m)\u001b[0m\u001b[0;34m\u001b[0m\u001b[0;34m\u001b[0m\u001b[0m\n\u001b[0;32m----> 2\u001b[0;31m \u001b[0mHessian\u001b[0m\u001b[0;34m(\u001b[0m\u001b[0;34m[\u001b[0m\u001b[0;36m1.0\u001b[0m\u001b[0;34m]\u001b[0m\u001b[0;34m,\u001b[0m\u001b[0;34m[\u001b[0m\u001b[0;36m1.0\u001b[0m\u001b[0;34m]\u001b[0m\u001b[0;34m,\u001b[0m\u001b[0;32mNone\u001b[0m\u001b[0;34m)\u001b[0m\u001b[0;34m\u001b[0m\u001b[0;34m\u001b[0m\u001b[0m\n\u001b[0m",
      "    \u001b[0;31m[... skipping hidden 1 frame]\u001b[0m\n",
      "\u001b[0;32m~/.local/lib/python3.6/site-packages/jax/_src/api.py\u001b[0m in \u001b[0;36mbatched_fun\u001b[0;34m(*args, **kwargs)\u001b[0m\n\u001b[1;32m   1316\u001b[0m         \u001b[0;32mlambda\u001b[0m\u001b[0;34m:\u001b[0m \u001b[0mflatten_axes\u001b[0m\u001b[0;34m(\u001b[0m\u001b[0;34m\"vmap out_axes\"\u001b[0m\u001b[0;34m,\u001b[0m \u001b[0mout_tree\u001b[0m\u001b[0;34m(\u001b[0m\u001b[0;34m)\u001b[0m\u001b[0;34m,\u001b[0m \u001b[0mout_axes\u001b[0m\u001b[0;34m)\u001b[0m\u001b[0;34m\u001b[0m\u001b[0;34m\u001b[0m\u001b[0m\n\u001b[0;32m-> 1317\u001b[0;31m     ).call_wrapped(*args_flat)\n\u001b[0m\u001b[1;32m   1318\u001b[0m     \u001b[0;32mreturn\u001b[0m \u001b[0mtree_unflatten\u001b[0m\u001b[0;34m(\u001b[0m\u001b[0mout_tree\u001b[0m\u001b[0;34m(\u001b[0m\u001b[0;34m)\u001b[0m\u001b[0;34m,\u001b[0m \u001b[0mout_flat\u001b[0m\u001b[0;34m)\u001b[0m\u001b[0;34m\u001b[0m\u001b[0;34m\u001b[0m\u001b[0m\n",
      "\u001b[0;32m~/.local/lib/python3.6/site-packages/jax/linear_util.py\u001b[0m in \u001b[0;36mcall_wrapped\u001b[0;34m(self, *args, **kwargs)\u001b[0m\n\u001b[1;32m    165\u001b[0m     \u001b[0;32mtry\u001b[0m\u001b[0;34m:\u001b[0m\u001b[0;34m\u001b[0m\u001b[0;34m\u001b[0m\u001b[0m\n\u001b[0;32m--> 166\u001b[0;31m       \u001b[0mans\u001b[0m \u001b[0;34m=\u001b[0m \u001b[0mself\u001b[0m\u001b[0;34m.\u001b[0m\u001b[0mf\u001b[0m\u001b[0;34m(\u001b[0m\u001b[0;34m*\u001b[0m\u001b[0margs\u001b[0m\u001b[0;34m,\u001b[0m \u001b[0;34m**\u001b[0m\u001b[0mdict\u001b[0m\u001b[0;34m(\u001b[0m\u001b[0mself\u001b[0m\u001b[0;34m.\u001b[0m\u001b[0mparams\u001b[0m\u001b[0;34m,\u001b[0m \u001b[0;34m**\u001b[0m\u001b[0mkwargs\u001b[0m\u001b[0;34m)\u001b[0m\u001b[0;34m)\u001b[0m\u001b[0;34m\u001b[0m\u001b[0;34m\u001b[0m\u001b[0m\n\u001b[0m\u001b[1;32m    167\u001b[0m     \u001b[0;32mexcept\u001b[0m\u001b[0;34m:\u001b[0m\u001b[0;34m\u001b[0m\u001b[0;34m\u001b[0m\u001b[0m\n",
      "\u001b[0;32m~/.local/lib/python3.6/site-packages/jax/_src/api.py\u001b[0m in \u001b[0;36m_jvp\u001b[0;34m(fun, primals, tangents)\u001b[0m\n\u001b[1;32m   1798\u001b[0m   \u001b[0mflat_fun\u001b[0m\u001b[0;34m,\u001b[0m \u001b[0mout_tree\u001b[0m \u001b[0;34m=\u001b[0m \u001b[0mflatten_fun_nokwargs\u001b[0m\u001b[0;34m(\u001b[0m\u001b[0mfun\u001b[0m\u001b[0;34m,\u001b[0m \u001b[0mtree_def\u001b[0m\u001b[0;34m)\u001b[0m\u001b[0;34m\u001b[0m\u001b[0;34m\u001b[0m\u001b[0m\n\u001b[0;32m-> 1799\u001b[0;31m   \u001b[0mout_primals\u001b[0m\u001b[0;34m,\u001b[0m \u001b[0mout_tangents\u001b[0m \u001b[0;34m=\u001b[0m \u001b[0mad\u001b[0m\u001b[0;34m.\u001b[0m\u001b[0mjvp\u001b[0m\u001b[0;34m(\u001b[0m\u001b[0mflat_fun\u001b[0m\u001b[0;34m)\u001b[0m\u001b[0;34m.\u001b[0m\u001b[0mcall_wrapped\u001b[0m\u001b[0;34m(\u001b[0m\u001b[0mps_flat\u001b[0m\u001b[0;34m,\u001b[0m \u001b[0mts_flat\u001b[0m\u001b[0;34m)\u001b[0m\u001b[0;34m\u001b[0m\u001b[0;34m\u001b[0m\u001b[0m\n\u001b[0m\u001b[1;32m   1800\u001b[0m   return (tree_unflatten(out_tree(), out_primals),\n",
      "\u001b[0;32m~/.local/lib/python3.6/site-packages/jax/linear_util.py\u001b[0m in \u001b[0;36mcall_wrapped\u001b[0;34m(self, *args, **kwargs)\u001b[0m\n\u001b[1;32m    165\u001b[0m     \u001b[0;32mtry\u001b[0m\u001b[0;34m:\u001b[0m\u001b[0;34m\u001b[0m\u001b[0;34m\u001b[0m\u001b[0m\n\u001b[0;32m--> 166\u001b[0;31m       \u001b[0mans\u001b[0m \u001b[0;34m=\u001b[0m \u001b[0mself\u001b[0m\u001b[0;34m.\u001b[0m\u001b[0mf\u001b[0m\u001b[0;34m(\u001b[0m\u001b[0;34m*\u001b[0m\u001b[0margs\u001b[0m\u001b[0;34m,\u001b[0m \u001b[0;34m**\u001b[0m\u001b[0mdict\u001b[0m\u001b[0;34m(\u001b[0m\u001b[0mself\u001b[0m\u001b[0;34m.\u001b[0m\u001b[0mparams\u001b[0m\u001b[0;34m,\u001b[0m \u001b[0;34m**\u001b[0m\u001b[0mkwargs\u001b[0m\u001b[0;34m)\u001b[0m\u001b[0;34m)\u001b[0m\u001b[0;34m\u001b[0m\u001b[0;34m\u001b[0m\u001b[0m\n\u001b[0m\u001b[1;32m    167\u001b[0m     \u001b[0;32mexcept\u001b[0m\u001b[0;34m:\u001b[0m\u001b[0;34m\u001b[0m\u001b[0;34m\u001b[0m\u001b[0m\n",
      "\u001b[0;32m~/.local/lib/python3.6/site-packages/jax/_src/api.py\u001b[0m in \u001b[0;36mjacfun\u001b[0;34m(*args, **kwargs)\u001b[0m\n\u001b[1;32m    995\u001b[0m     \u001b[0mpushfwd\u001b[0m \u001b[0;34m=\u001b[0m \u001b[0mpartial\u001b[0m\u001b[0;34m(\u001b[0m\u001b[0m_jvp\u001b[0m\u001b[0;34m,\u001b[0m \u001b[0mf_partial\u001b[0m\u001b[0;34m,\u001b[0m \u001b[0mdyn_args\u001b[0m\u001b[0;34m)\u001b[0m\u001b[0;34m\u001b[0m\u001b[0;34m\u001b[0m\u001b[0m\n\u001b[0;32m--> 996\u001b[0;31m     \u001b[0my\u001b[0m\u001b[0;34m,\u001b[0m \u001b[0mjac\u001b[0m \u001b[0;34m=\u001b[0m \u001b[0mvmap\u001b[0m\u001b[0;34m(\u001b[0m\u001b[0mpushfwd\u001b[0m\u001b[0;34m,\u001b[0m \u001b[0mout_axes\u001b[0m\u001b[0;34m=\u001b[0m\u001b[0;34m(\u001b[0m\u001b[0;32mNone\u001b[0m\u001b[0;34m,\u001b[0m \u001b[0;34m-\u001b[0m\u001b[0;36m1\u001b[0m\u001b[0;34m)\u001b[0m\u001b[0;34m)\u001b[0m\u001b[0;34m(\u001b[0m\u001b[0m_std_basis\u001b[0m\u001b[0;34m(\u001b[0m\u001b[0mdyn_args\u001b[0m\u001b[0;34m)\u001b[0m\u001b[0;34m)\u001b[0m\u001b[0;34m\u001b[0m\u001b[0;34m\u001b[0m\u001b[0m\n\u001b[0m\u001b[1;32m    997\u001b[0m     \u001b[0mtree_map\u001b[0m\u001b[0;34m(\u001b[0m\u001b[0mpartial\u001b[0m\u001b[0;34m(\u001b[0m\u001b[0m_check_output_dtype_jacfwd\u001b[0m\u001b[0;34m,\u001b[0m \u001b[0mholomorphic\u001b[0m\u001b[0;34m)\u001b[0m\u001b[0;34m,\u001b[0m \u001b[0my\u001b[0m\u001b[0;34m)\u001b[0m\u001b[0;34m\u001b[0m\u001b[0;34m\u001b[0m\u001b[0m\n",
      "    \u001b[0;31m[... skipping hidden 1 frame]\u001b[0m\n",
      "\u001b[0;32m~/.local/lib/python3.6/site-packages/jax/_src/api.py\u001b[0m in \u001b[0;36mbatched_fun\u001b[0;34m(*args, **kwargs)\u001b[0m\n\u001b[1;32m   1316\u001b[0m         \u001b[0;32mlambda\u001b[0m\u001b[0;34m:\u001b[0m \u001b[0mflatten_axes\u001b[0m\u001b[0;34m(\u001b[0m\u001b[0;34m\"vmap out_axes\"\u001b[0m\u001b[0;34m,\u001b[0m \u001b[0mout_tree\u001b[0m\u001b[0;34m(\u001b[0m\u001b[0;34m)\u001b[0m\u001b[0;34m,\u001b[0m \u001b[0mout_axes\u001b[0m\u001b[0;34m)\u001b[0m\u001b[0;34m\u001b[0m\u001b[0;34m\u001b[0m\u001b[0m\n\u001b[0;32m-> 1317\u001b[0;31m     ).call_wrapped(*args_flat)\n\u001b[0m\u001b[1;32m   1318\u001b[0m     \u001b[0;32mreturn\u001b[0m \u001b[0mtree_unflatten\u001b[0m\u001b[0;34m(\u001b[0m\u001b[0mout_tree\u001b[0m\u001b[0;34m(\u001b[0m\u001b[0;34m)\u001b[0m\u001b[0;34m,\u001b[0m \u001b[0mout_flat\u001b[0m\u001b[0;34m)\u001b[0m\u001b[0;34m\u001b[0m\u001b[0;34m\u001b[0m\u001b[0m\n",
      "\u001b[0;32m~/.local/lib/python3.6/site-packages/jax/linear_util.py\u001b[0m in \u001b[0;36mcall_wrapped\u001b[0;34m(self, *args, **kwargs)\u001b[0m\n\u001b[1;32m    165\u001b[0m     \u001b[0;32mtry\u001b[0m\u001b[0;34m:\u001b[0m\u001b[0;34m\u001b[0m\u001b[0;34m\u001b[0m\u001b[0m\n\u001b[0;32m--> 166\u001b[0;31m       \u001b[0mans\u001b[0m \u001b[0;34m=\u001b[0m \u001b[0mself\u001b[0m\u001b[0;34m.\u001b[0m\u001b[0mf\u001b[0m\u001b[0;34m(\u001b[0m\u001b[0;34m*\u001b[0m\u001b[0margs\u001b[0m\u001b[0;34m,\u001b[0m \u001b[0;34m**\u001b[0m\u001b[0mdict\u001b[0m\u001b[0;34m(\u001b[0m\u001b[0mself\u001b[0m\u001b[0;34m.\u001b[0m\u001b[0mparams\u001b[0m\u001b[0;34m,\u001b[0m \u001b[0;34m**\u001b[0m\u001b[0mkwargs\u001b[0m\u001b[0;34m)\u001b[0m\u001b[0;34m)\u001b[0m\u001b[0;34m\u001b[0m\u001b[0;34m\u001b[0m\u001b[0m\n\u001b[0m\u001b[1;32m    167\u001b[0m     \u001b[0;32mexcept\u001b[0m\u001b[0;34m:\u001b[0m\u001b[0;34m\u001b[0m\u001b[0;34m\u001b[0m\u001b[0m\n",
      "\u001b[0;32m~/.local/lib/python3.6/site-packages/jax/_src/api.py\u001b[0m in \u001b[0;36m_jvp\u001b[0;34m(fun, primals, tangents)\u001b[0m\n\u001b[1;32m   1798\u001b[0m   \u001b[0mflat_fun\u001b[0m\u001b[0;34m,\u001b[0m \u001b[0mout_tree\u001b[0m \u001b[0;34m=\u001b[0m \u001b[0mflatten_fun_nokwargs\u001b[0m\u001b[0;34m(\u001b[0m\u001b[0mfun\u001b[0m\u001b[0;34m,\u001b[0m \u001b[0mtree_def\u001b[0m\u001b[0;34m)\u001b[0m\u001b[0;34m\u001b[0m\u001b[0;34m\u001b[0m\u001b[0m\n\u001b[0;32m-> 1799\u001b[0;31m   \u001b[0mout_primals\u001b[0m\u001b[0;34m,\u001b[0m \u001b[0mout_tangents\u001b[0m \u001b[0;34m=\u001b[0m \u001b[0mad\u001b[0m\u001b[0;34m.\u001b[0m\u001b[0mjvp\u001b[0m\u001b[0;34m(\u001b[0m\u001b[0mflat_fun\u001b[0m\u001b[0;34m)\u001b[0m\u001b[0;34m.\u001b[0m\u001b[0mcall_wrapped\u001b[0m\u001b[0;34m(\u001b[0m\u001b[0mps_flat\u001b[0m\u001b[0;34m,\u001b[0m \u001b[0mts_flat\u001b[0m\u001b[0;34m)\u001b[0m\u001b[0;34m\u001b[0m\u001b[0;34m\u001b[0m\u001b[0m\n\u001b[0m\u001b[1;32m   1800\u001b[0m   return (tree_unflatten(out_tree(), out_primals),\n",
      "\u001b[0;32m~/.local/lib/python3.6/site-packages/jax/linear_util.py\u001b[0m in \u001b[0;36mcall_wrapped\u001b[0;34m(self, *args, **kwargs)\u001b[0m\n\u001b[1;32m    165\u001b[0m     \u001b[0;32mtry\u001b[0m\u001b[0;34m:\u001b[0m\u001b[0;34m\u001b[0m\u001b[0;34m\u001b[0m\u001b[0m\n\u001b[0;32m--> 166\u001b[0;31m       \u001b[0mans\u001b[0m \u001b[0;34m=\u001b[0m \u001b[0mself\u001b[0m\u001b[0;34m.\u001b[0m\u001b[0mf\u001b[0m\u001b[0;34m(\u001b[0m\u001b[0;34m*\u001b[0m\u001b[0margs\u001b[0m\u001b[0;34m,\u001b[0m \u001b[0;34m**\u001b[0m\u001b[0mdict\u001b[0m\u001b[0;34m(\u001b[0m\u001b[0mself\u001b[0m\u001b[0;34m.\u001b[0m\u001b[0mparams\u001b[0m\u001b[0;34m,\u001b[0m \u001b[0;34m**\u001b[0m\u001b[0mkwargs\u001b[0m\u001b[0;34m)\u001b[0m\u001b[0;34m)\u001b[0m\u001b[0;34m\u001b[0m\u001b[0;34m\u001b[0m\u001b[0m\n\u001b[0m\u001b[1;32m    167\u001b[0m     \u001b[0;32mexcept\u001b[0m\u001b[0;34m:\u001b[0m\u001b[0;34m\u001b[0m\u001b[0;34m\u001b[0m\u001b[0m\n",
      "\u001b[0;31mUnfilteredStackTrace\u001b[0m: TypeError: min_x_func() takes 2 positional arguments but 3 were given\n\nThe stack trace below excludes JAX-internal frames.\nThe preceding is the original exception that occurred, unmodified.\n\n--------------------",
      "\nThe above exception was the direct cause of the following exception:\n",
      "\u001b[0;31mTypeError\u001b[0m                                 Traceback (most recent call last)",
      "\u001b[0;32m<ipython-input-117-01ec22b469b9>\u001b[0m in \u001b[0;36m<module>\u001b[0;34m\u001b[0m\n\u001b[1;32m      1\u001b[0m \u001b[0mHessian\u001b[0m \u001b[0;34m=\u001b[0m \u001b[0mjax\u001b[0m\u001b[0;34m.\u001b[0m\u001b[0mjacfwd\u001b[0m\u001b[0;34m(\u001b[0m\u001b[0mgradient\u001b[0m\u001b[0;34m,\u001b[0m \u001b[0margnums\u001b[0m \u001b[0;34m=\u001b[0m \u001b[0;36m0\u001b[0m\u001b[0;34m)\u001b[0m\u001b[0;34m\u001b[0m\u001b[0;34m\u001b[0m\u001b[0m\n\u001b[0;32m----> 2\u001b[0;31m \u001b[0mHessian\u001b[0m\u001b[0;34m(\u001b[0m\u001b[0;34m[\u001b[0m\u001b[0;36m1.0\u001b[0m\u001b[0;34m]\u001b[0m\u001b[0;34m,\u001b[0m\u001b[0;34m[\u001b[0m\u001b[0;36m1.0\u001b[0m\u001b[0;34m]\u001b[0m\u001b[0;34m,\u001b[0m\u001b[0;32mNone\u001b[0m\u001b[0;34m)\u001b[0m\u001b[0;34m\u001b[0m\u001b[0;34m\u001b[0m\u001b[0m\n\u001b[0m",
      "\u001b[0;32m~/.local/lib/python3.6/site-packages/jax/_src/api.py\u001b[0m in \u001b[0;36mjacfun\u001b[0;34m(*args, **kwargs)\u001b[0m\n\u001b[1;32m    994\u001b[0m     \u001b[0mtree_map\u001b[0m\u001b[0;34m(\u001b[0m\u001b[0mpartial\u001b[0m\u001b[0;34m(\u001b[0m\u001b[0m_check_input_dtype_jacfwd\u001b[0m\u001b[0;34m,\u001b[0m \u001b[0mholomorphic\u001b[0m\u001b[0;34m)\u001b[0m\u001b[0;34m,\u001b[0m \u001b[0mdyn_args\u001b[0m\u001b[0;34m)\u001b[0m\u001b[0;34m\u001b[0m\u001b[0;34m\u001b[0m\u001b[0m\n\u001b[1;32m    995\u001b[0m     \u001b[0mpushfwd\u001b[0m \u001b[0;34m=\u001b[0m \u001b[0mpartial\u001b[0m\u001b[0;34m(\u001b[0m\u001b[0m_jvp\u001b[0m\u001b[0;34m,\u001b[0m \u001b[0mf_partial\u001b[0m\u001b[0;34m,\u001b[0m \u001b[0mdyn_args\u001b[0m\u001b[0;34m)\u001b[0m\u001b[0;34m\u001b[0m\u001b[0;34m\u001b[0m\u001b[0m\n\u001b[0;32m--> 996\u001b[0;31m     \u001b[0my\u001b[0m\u001b[0;34m,\u001b[0m \u001b[0mjac\u001b[0m \u001b[0;34m=\u001b[0m \u001b[0mvmap\u001b[0m\u001b[0;34m(\u001b[0m\u001b[0mpushfwd\u001b[0m\u001b[0;34m,\u001b[0m \u001b[0mout_axes\u001b[0m\u001b[0;34m=\u001b[0m\u001b[0;34m(\u001b[0m\u001b[0;32mNone\u001b[0m\u001b[0;34m,\u001b[0m \u001b[0;34m-\u001b[0m\u001b[0;36m1\u001b[0m\u001b[0;34m)\u001b[0m\u001b[0;34m)\u001b[0m\u001b[0;34m(\u001b[0m\u001b[0m_std_basis\u001b[0m\u001b[0;34m(\u001b[0m\u001b[0mdyn_args\u001b[0m\u001b[0;34m)\u001b[0m\u001b[0;34m)\u001b[0m\u001b[0;34m\u001b[0m\u001b[0;34m\u001b[0m\u001b[0m\n\u001b[0m\u001b[1;32m    997\u001b[0m     \u001b[0mtree_map\u001b[0m\u001b[0;34m(\u001b[0m\u001b[0mpartial\u001b[0m\u001b[0;34m(\u001b[0m\u001b[0m_check_output_dtype_jacfwd\u001b[0m\u001b[0;34m,\u001b[0m \u001b[0mholomorphic\u001b[0m\u001b[0;34m)\u001b[0m\u001b[0;34m,\u001b[0m \u001b[0my\u001b[0m\u001b[0;34m)\u001b[0m\u001b[0;34m\u001b[0m\u001b[0;34m\u001b[0m\u001b[0m\n\u001b[1;32m    998\u001b[0m     \u001b[0mexample_args\u001b[0m \u001b[0;34m=\u001b[0m \u001b[0mdyn_args\u001b[0m\u001b[0;34m[\u001b[0m\u001b[0;36m0\u001b[0m\u001b[0;34m]\u001b[0m \u001b[0;32mif\u001b[0m \u001b[0misinstance\u001b[0m\u001b[0;34m(\u001b[0m\u001b[0margnums\u001b[0m\u001b[0;34m,\u001b[0m \u001b[0mint\u001b[0m\u001b[0;34m)\u001b[0m \u001b[0;32melse\u001b[0m \u001b[0mdyn_args\u001b[0m\u001b[0;34m\u001b[0m\u001b[0;34m\u001b[0m\u001b[0m\n",
      "\u001b[0;32m~/.local/lib/python3.6/site-packages/jax/linear_util.py\u001b[0m in \u001b[0;36mcall_wrapped\u001b[0;34m(self, *args, **kwargs)\u001b[0m\n\u001b[1;32m    164\u001b[0m \u001b[0;34m\u001b[0m\u001b[0m\n\u001b[1;32m    165\u001b[0m     \u001b[0;32mtry\u001b[0m\u001b[0;34m:\u001b[0m\u001b[0;34m\u001b[0m\u001b[0;34m\u001b[0m\u001b[0m\n\u001b[0;32m--> 166\u001b[0;31m       \u001b[0mans\u001b[0m \u001b[0;34m=\u001b[0m \u001b[0mself\u001b[0m\u001b[0;34m.\u001b[0m\u001b[0mf\u001b[0m\u001b[0;34m(\u001b[0m\u001b[0;34m*\u001b[0m\u001b[0margs\u001b[0m\u001b[0;34m,\u001b[0m \u001b[0;34m**\u001b[0m\u001b[0mdict\u001b[0m\u001b[0;34m(\u001b[0m\u001b[0mself\u001b[0m\u001b[0;34m.\u001b[0m\u001b[0mparams\u001b[0m\u001b[0;34m,\u001b[0m \u001b[0;34m**\u001b[0m\u001b[0mkwargs\u001b[0m\u001b[0;34m)\u001b[0m\u001b[0;34m)\u001b[0m\u001b[0;34m\u001b[0m\u001b[0;34m\u001b[0m\u001b[0m\n\u001b[0m\u001b[1;32m    167\u001b[0m     \u001b[0;32mexcept\u001b[0m\u001b[0;34m:\u001b[0m\u001b[0;34m\u001b[0m\u001b[0;34m\u001b[0m\u001b[0m\n\u001b[1;32m    168\u001b[0m       \u001b[0;31m# Some transformations yield from inside context managers, so we have to\u001b[0m\u001b[0;34m\u001b[0m\u001b[0;34m\u001b[0m\u001b[0;34m\u001b[0m\u001b[0m\n",
      "\u001b[0;31mTypeError\u001b[0m: min_x_func() takes 2 positional arguments but 3 were given"
     ]
    }
   ],
   "source": [
    "Hessian = jax.jacfwd(gradient, argnums = 0)\n",
    "Hessian([1.0],[1.0],None)"
   ]
  },
  {
   "cell_type": "markdown",
   "metadata": {},
   "source": [
    "jax is able to compute the derivative of the implicit function!!"
   ]
  },
  {
   "cell_type": "code",
   "execution_count": 118,
   "metadata": {},
   "outputs": [
    {
     "name": "stdout",
     "output_type": "stream",
     "text": [
      "x, alpha, f: Traced<ConcreteArray([0.1])>with<JVPTrace(level=4/0)>\n",
      "  with primal = Traced<ConcreteArray([0.1]):JaxprTrace(level=3/0)>\n",
      "       tangent = Traced<ShapedArray(float64[1]):JaxprTrace(level=3/0)> [Traced<ConcreteArray(1.0, weak_type=True)>with<JVPTrace(level=2/0)>\n",
      "  with primal = 1.0\n",
      "       tangent = Traced<ShapedArray(float64[])>with<BatchTrace(level=1/0)>\n",
      "                   with val = array([1.])\n",
      "                        batch_dim = 0] Traced<ConcreteArray(0.905)>with<JVPTrace(level=4/0)>\n",
      "  with primal = Traced<ConcreteArray(0.905)>with<JVPTrace(level=2/0)>\n",
      "                  with primal = DeviceArray(0.905, dtype=float64)\n",
      "                       tangent = Traced<ShapedArray(float64[])>with<BatchTrace(level=1/0)>\n",
      "                                   with val = DeviceArray([0.61], dtype=float64)\n",
      "                                        batch_dim = 0\n",
      "       tangent = Traced<ShapedArray(float64[]):JaxprTrace(level=3/0)>\n",
      "x, alpha, f: Traced<ShapedArray(float64[1])>with<JVPTrace(level=6/0)>\n",
      "  with primal = Traced<ShapedArray(float64[1]):JaxprTrace(level=5/0)>\n",
      "       tangent = Traced<ShapedArray(float64[1]):JaxprTrace(level=5/0)> [Traced<ConcreteArray(1.0, weak_type=True)>with<JVPTrace(level=2/0)>\n",
      "  with primal = 1.0\n",
      "       tangent = Traced<ShapedArray(float64[])>with<BatchTrace(level=1/0)>\n",
      "                   with val = array([1.])\n",
      "                        batch_dim = 0] Traced<ShapedArray(float64[])>with<JVPTrace(level=6/0)>\n",
      "  with primal = Traced<ShapedArray(float64[])>with<DynamicJaxprTrace(level=4/0)>\n",
      "       tangent = Traced<ShapedArray(float64[]):JaxprTrace(level=5/0)>\n",
      "x, alpha, f: Traced<ShapedArray(float64[1])>with<JVPTrace(level=7/0)>\n",
      "  with primal = Traced<ShapedArray(float64[1]):JaxprTrace(level=6/0)>\n",
      "       tangent = Traced<ShapedArray(float64[1]):JaxprTrace(level=6/0)> [Traced<ConcreteArray(1.0, weak_type=True)>with<JVPTrace(level=2/0)>\n",
      "  with primal = 1.0\n",
      "       tangent = Traced<ShapedArray(float64[])>with<BatchTrace(level=1/0)>\n",
      "                   with val = array([1.])\n",
      "                        batch_dim = 0] Traced<ShapedArray(float64[])>with<JVPTrace(level=7/0)>\n",
      "  with primal = Traced<ShapedArray(float64[])>with<DynamicJaxprTrace(level=5/0)>\n",
      "       tangent = Traced<ShapedArray(float64[]):JaxprTrace(level=6/0)>\n",
      "x, alpha, f: Traced<ShapedArray(float64[1])>with<JVPTrace(level=7/0)>\n",
      "  with primal = Traced<ShapedArray(float64[1]):JaxprTrace(level=6/0)>\n",
      "       tangent = Traced<ShapedArray(float64[1]):JaxprTrace(level=6/0)> [Traced<ConcreteArray(1.0, weak_type=True)>with<JVPTrace(level=2/0)>\n",
      "  with primal = 1.0\n",
      "       tangent = Traced<ShapedArray(float64[])>with<BatchTrace(level=1/0)>\n",
      "                   with val = array([1.])\n",
      "                        batch_dim = 0] Traced<ShapedArray(float64[])>with<JVPTrace(level=7/0)>\n",
      "  with primal = Traced<ShapedArray(float64[])>with<DynamicJaxprTrace(level=5/0)>\n",
      "       tangent = Traced<ShapedArray(float64[]):JaxprTrace(level=6/0)>\n",
      "[DeviceArray(3.8, dtype=float64)]\n"
     ]
    }
   ],
   "source": [
    "alpha = np.array([1.0])\n",
    "# np.gradient(min_x, argnums = 0)\n",
    "gradient = jax.jacfwd(min_x, argnums = 0)\n",
    "\n",
    "print(gradient([1.0],None,None))"
   ]
  },
  {
   "cell_type": "code",
   "execution_count": 86,
   "metadata": {},
   "outputs": [],
   "source": [
    "from scipy.optimize import minimize"
   ]
  },
  {
   "cell_type": "code",
   "execution_count": 84,
   "metadata": {},
   "outputs": [],
   "source": [
    "def min_x_with_grad(alpha, beta = None, gamma = None):\n",
    "    x = min_x(alpha, beta, gamma)\n",
    "    grad = gradient(alpha, beta, gamma)\n",
    "    return x, grad"
   ]
  },
  {
   "cell_type": "code",
   "execution_count": 87,
   "metadata": {},
   "outputs": [
    {
     "name": "stdout",
     "output_type": "stream",
     "text": [
      "x, alpha, f: [0.1] [2.] 3.62\n",
      "x, alpha, f: [0.10000001] [2.] 3.620000244379044\n",
      "x, alpha, f: [-0.91] [2.] -10.9038\n",
      "x, alpha, f: [-0.90999999] [2.] -10.903799815821648\n",
      "x, alpha, f: [-3.28363074] [2.] -28.973630171208484\n",
      "x, alpha, f: [-3.28363073] [2.] -28.97363012850955\n",
      "x, alpha, f: [-3.99999994] [2.] -29.999999999999993\n",
      "x, alpha, f: [-3.99999992] [2.] -29.99999999999999\n",
      "x, alpha, f: [0.1] Traced<ConcreteArray([2.])>with<JVPTrace(level=2/0)>\n",
      "  with primal = array([2.])\n",
      "       tangent = Traced<ShapedArray(float64[1])>with<BatchTrace(level=1/0)>\n",
      "                   with val = array([[1.]])\n",
      "                        batch_dim = 0 Traced<ConcreteArray(3.62)>with<JVPTrace(level=2/0)>\n",
      "  with primal = DeviceArray(3.62, dtype=float64)\n",
      "       tangent = Traced<ShapedArray(float64[])>with<BatchTrace(level=1/0)>\n",
      "                   with val = DeviceArray([4.22], dtype=float64)\n",
      "                        batch_dim = 0\n"
     ]
    },
    {
     "ename": "TracerArrayConversionError",
     "evalue": "The numpy.ndarray conversion method __array__() was called on the JAX Tracer object Traced<ConcreteArray(3.62)>with<JVPTrace(level=2/0)>\n  with primal = DeviceArray(3.62, dtype=float64)\n       tangent = Traced<ShapedArray(float64[])>with<BatchTrace(level=1/0)>\n                   with val = DeviceArray([4.22], dtype=float64)\n                        batch_dim = 0\nSee https://jax.readthedocs.io/en/latest/errors.html#jax.errors.TracerArrayConversionError",
     "output_type": "error",
     "traceback": [
      "\u001b[0;31m---------------------------------------------------------------------------\u001b[0m",
      "\u001b[0;31mUnfilteredStackTrace\u001b[0m                      Traceback (most recent call last)",
      "\u001b[0;32m<ipython-input-87-457d73010f34>\u001b[0m in \u001b[0;36m<module>\u001b[0;34m\u001b[0m\n\u001b[0;32m----> 1\u001b[0;31m \u001b[0mminimize\u001b[0m\u001b[0;34m(\u001b[0m\u001b[0mmin_x_with_grad\u001b[0m\u001b[0;34m,\u001b[0m \u001b[0malpha0\u001b[0m\u001b[0;34m,\u001b[0m \u001b[0margs\u001b[0m \u001b[0;34m=\u001b[0m \u001b[0;34m(\u001b[0m\u001b[0mbeta\u001b[0m\u001b[0;34m,\u001b[0m \u001b[0mgamma\u001b[0m\u001b[0;34m)\u001b[0m\u001b[0;34m,\u001b[0m \u001b[0mmethod\u001b[0m \u001b[0;34m=\u001b[0m \u001b[0;34m'BFGS'\u001b[0m\u001b[0;34m,\u001b[0m \u001b[0mjac\u001b[0m \u001b[0;34m=\u001b[0m \u001b[0;32mTrue\u001b[0m\u001b[0;34m,\u001b[0m \u001b[0moptions\u001b[0m \u001b[0;34m=\u001b[0m \u001b[0;34m{\u001b[0m\u001b[0;34m'gtol'\u001b[0m\u001b[0;34m:\u001b[0m \u001b[0;36m1e-3\u001b[0m\u001b[0;34m,\u001b[0m \u001b[0;34m'maxiter'\u001b[0m\u001b[0;34m:\u001b[0m \u001b[0;36m10\u001b[0m\u001b[0;34m}\u001b[0m\u001b[0;34m)\u001b[0m\u001b[0;34m\u001b[0m\u001b[0;34m\u001b[0m\u001b[0m\n\u001b[0m",
      "\u001b[0;32m~/.local/lib/python3.6/site-packages/scipy/optimize/_minimize.py\u001b[0m in \u001b[0;36mminimize\u001b[0;34m(fun, x0, args, method, jac, hess, hessp, bounds, constraints, tol, callback, options)\u001b[0m\n\u001b[1;32m    611\u001b[0m     \u001b[0;32melif\u001b[0m \u001b[0mmeth\u001b[0m \u001b[0;34m==\u001b[0m \u001b[0;34m'bfgs'\u001b[0m\u001b[0;34m:\u001b[0m\u001b[0;34m\u001b[0m\u001b[0;34m\u001b[0m\u001b[0m\n\u001b[0;32m--> 612\u001b[0;31m         \u001b[0;32mreturn\u001b[0m \u001b[0m_minimize_bfgs\u001b[0m\u001b[0;34m(\u001b[0m\u001b[0mfun\u001b[0m\u001b[0;34m,\u001b[0m \u001b[0mx0\u001b[0m\u001b[0;34m,\u001b[0m \u001b[0margs\u001b[0m\u001b[0;34m,\u001b[0m \u001b[0mjac\u001b[0m\u001b[0;34m,\u001b[0m \u001b[0mcallback\u001b[0m\u001b[0;34m,\u001b[0m \u001b[0;34m**\u001b[0m\u001b[0moptions\u001b[0m\u001b[0;34m)\u001b[0m\u001b[0;34m\u001b[0m\u001b[0;34m\u001b[0m\u001b[0m\n\u001b[0m\u001b[1;32m    613\u001b[0m     \u001b[0;32melif\u001b[0m \u001b[0mmeth\u001b[0m \u001b[0;34m==\u001b[0m \u001b[0;34m'newton-cg'\u001b[0m\u001b[0;34m:\u001b[0m\u001b[0;34m\u001b[0m\u001b[0;34m\u001b[0m\u001b[0m\n",
      "\u001b[0;32m~/.local/lib/python3.6/site-packages/scipy/optimize/optimize.py\u001b[0m in \u001b[0;36m_minimize_bfgs\u001b[0;34m(fun, x0, args, jac, callback, gtol, norm, eps, maxiter, disp, return_all, finite_diff_rel_step, **unknown_options)\u001b[0m\n\u001b[1;32m   1101\u001b[0m     sf = _prepare_scalar_function(fun, x0, jac, args=args, epsilon=eps,\n\u001b[0;32m-> 1102\u001b[0;31m                                   finite_diff_rel_step=finite_diff_rel_step)\n\u001b[0m\u001b[1;32m   1103\u001b[0m \u001b[0;34m\u001b[0m\u001b[0m\n",
      "\u001b[0;32m~/.local/lib/python3.6/site-packages/scipy/optimize/optimize.py\u001b[0m in \u001b[0;36m_prepare_scalar_function\u001b[0;34m(fun, x0, jac, args, bounds, epsilon, finite_diff_rel_step, hess)\u001b[0m\n\u001b[1;32m    261\u001b[0m     sf = ScalarFunction(fun, x0, args, grad, hess,\n\u001b[0;32m--> 262\u001b[0;31m                         finite_diff_rel_step, bounds, epsilon=epsilon)\n\u001b[0m\u001b[1;32m    263\u001b[0m \u001b[0;34m\u001b[0m\u001b[0m\n",
      "\u001b[0;32m~/.local/lib/python3.6/site-packages/scipy/optimize/_differentiable_functions.py\u001b[0m in \u001b[0;36m__init__\u001b[0;34m(self, fun, x0, args, grad, hess, finite_diff_rel_step, finite_diff_bounds, epsilon)\u001b[0m\n\u001b[1;32m     75\u001b[0m         \u001b[0mself\u001b[0m\u001b[0;34m.\u001b[0m\u001b[0m_update_fun_impl\u001b[0m \u001b[0;34m=\u001b[0m \u001b[0mupdate_fun\u001b[0m\u001b[0;34m\u001b[0m\u001b[0;34m\u001b[0m\u001b[0m\n\u001b[0;32m---> 76\u001b[0;31m         \u001b[0mself\u001b[0m\u001b[0;34m.\u001b[0m\u001b[0m_update_fun\u001b[0m\u001b[0;34m(\u001b[0m\u001b[0;34m)\u001b[0m\u001b[0;34m\u001b[0m\u001b[0;34m\u001b[0m\u001b[0m\n\u001b[0m\u001b[1;32m     77\u001b[0m \u001b[0;34m\u001b[0m\u001b[0m\n",
      "\u001b[0;32m~/.local/lib/python3.6/site-packages/scipy/optimize/_differentiable_functions.py\u001b[0m in \u001b[0;36m_update_fun\u001b[0;34m(self)\u001b[0m\n\u001b[1;32m    165\u001b[0m         \u001b[0;32mif\u001b[0m \u001b[0;32mnot\u001b[0m \u001b[0mself\u001b[0m\u001b[0;34m.\u001b[0m\u001b[0mf_updated\u001b[0m\u001b[0;34m:\u001b[0m\u001b[0;34m\u001b[0m\u001b[0;34m\u001b[0m\u001b[0m\n\u001b[0;32m--> 166\u001b[0;31m             \u001b[0mself\u001b[0m\u001b[0;34m.\u001b[0m\u001b[0m_update_fun_impl\u001b[0m\u001b[0;34m(\u001b[0m\u001b[0;34m)\u001b[0m\u001b[0;34m\u001b[0m\u001b[0;34m\u001b[0m\u001b[0m\n\u001b[0m\u001b[1;32m    167\u001b[0m             \u001b[0mself\u001b[0m\u001b[0;34m.\u001b[0m\u001b[0mf_updated\u001b[0m \u001b[0;34m=\u001b[0m \u001b[0;32mTrue\u001b[0m\u001b[0;34m\u001b[0m\u001b[0;34m\u001b[0m\u001b[0m\n",
      "\u001b[0;32m~/.local/lib/python3.6/site-packages/scipy/optimize/_differentiable_functions.py\u001b[0m in \u001b[0;36mupdate_fun\u001b[0;34m()\u001b[0m\n\u001b[1;32m     72\u001b[0m         \u001b[0;32mdef\u001b[0m \u001b[0mupdate_fun\u001b[0m\u001b[0;34m(\u001b[0m\u001b[0;34m)\u001b[0m\u001b[0;34m:\u001b[0m\u001b[0;34m\u001b[0m\u001b[0;34m\u001b[0m\u001b[0m\n\u001b[0;32m---> 73\u001b[0;31m             \u001b[0mself\u001b[0m\u001b[0;34m.\u001b[0m\u001b[0mf\u001b[0m \u001b[0;34m=\u001b[0m \u001b[0mfun_wrapped\u001b[0m\u001b[0;34m(\u001b[0m\u001b[0mself\u001b[0m\u001b[0;34m.\u001b[0m\u001b[0mx\u001b[0m\u001b[0;34m)\u001b[0m\u001b[0;34m\u001b[0m\u001b[0;34m\u001b[0m\u001b[0m\n\u001b[0m\u001b[1;32m     74\u001b[0m \u001b[0;34m\u001b[0m\u001b[0m\n",
      "\u001b[0;32m~/.local/lib/python3.6/site-packages/scipy/optimize/_differentiable_functions.py\u001b[0m in \u001b[0;36mfun_wrapped\u001b[0;34m(x)\u001b[0m\n\u001b[1;32m     69\u001b[0m             \u001b[0mself\u001b[0m\u001b[0;34m.\u001b[0m\u001b[0mnfev\u001b[0m \u001b[0;34m+=\u001b[0m \u001b[0;36m1\u001b[0m\u001b[0;34m\u001b[0m\u001b[0;34m\u001b[0m\u001b[0m\n\u001b[0;32m---> 70\u001b[0;31m             \u001b[0;32mreturn\u001b[0m \u001b[0mfun\u001b[0m\u001b[0;34m(\u001b[0m\u001b[0mx\u001b[0m\u001b[0;34m,\u001b[0m \u001b[0;34m*\u001b[0m\u001b[0margs\u001b[0m\u001b[0;34m)\u001b[0m\u001b[0;34m\u001b[0m\u001b[0;34m\u001b[0m\u001b[0m\n\u001b[0m\u001b[1;32m     71\u001b[0m \u001b[0;34m\u001b[0m\u001b[0m\n",
      "\u001b[0;32m~/.local/lib/python3.6/site-packages/scipy/optimize/optimize.py\u001b[0m in \u001b[0;36m__call__\u001b[0;34m(self, x, *args)\u001b[0m\n\u001b[1;32m     73\u001b[0m         \u001b[0;34m\"\"\" returns the the function value \"\"\"\u001b[0m\u001b[0;34m\u001b[0m\u001b[0;34m\u001b[0m\u001b[0m\n\u001b[0;32m---> 74\u001b[0;31m         \u001b[0mself\u001b[0m\u001b[0;34m.\u001b[0m\u001b[0m_compute_if_needed\u001b[0m\u001b[0;34m(\u001b[0m\u001b[0mx\u001b[0m\u001b[0;34m,\u001b[0m \u001b[0;34m*\u001b[0m\u001b[0margs\u001b[0m\u001b[0;34m)\u001b[0m\u001b[0;34m\u001b[0m\u001b[0;34m\u001b[0m\u001b[0m\n\u001b[0m\u001b[1;32m     75\u001b[0m         \u001b[0;32mreturn\u001b[0m \u001b[0mself\u001b[0m\u001b[0;34m.\u001b[0m\u001b[0m_value\u001b[0m\u001b[0;34m\u001b[0m\u001b[0;34m\u001b[0m\u001b[0m\n",
      "\u001b[0;32m~/.local/lib/python3.6/site-packages/scipy/optimize/optimize.py\u001b[0m in \u001b[0;36m_compute_if_needed\u001b[0;34m(self, x, *args)\u001b[0m\n\u001b[1;32m     67\u001b[0m             \u001b[0mself\u001b[0m\u001b[0;34m.\u001b[0m\u001b[0mx\u001b[0m \u001b[0;34m=\u001b[0m \u001b[0mnp\u001b[0m\u001b[0;34m.\u001b[0m\u001b[0masarray\u001b[0m\u001b[0;34m(\u001b[0m\u001b[0mx\u001b[0m\u001b[0;34m)\u001b[0m\u001b[0;34m.\u001b[0m\u001b[0mcopy\u001b[0m\u001b[0;34m(\u001b[0m\u001b[0;34m)\u001b[0m\u001b[0;34m\u001b[0m\u001b[0;34m\u001b[0m\u001b[0m\n\u001b[0;32m---> 68\u001b[0;31m             \u001b[0mfg\u001b[0m \u001b[0;34m=\u001b[0m \u001b[0mself\u001b[0m\u001b[0;34m.\u001b[0m\u001b[0mfun\u001b[0m\u001b[0;34m(\u001b[0m\u001b[0mx\u001b[0m\u001b[0;34m,\u001b[0m \u001b[0;34m*\u001b[0m\u001b[0margs\u001b[0m\u001b[0;34m)\u001b[0m\u001b[0;34m\u001b[0m\u001b[0;34m\u001b[0m\u001b[0m\n\u001b[0m\u001b[1;32m     69\u001b[0m             \u001b[0mself\u001b[0m\u001b[0;34m.\u001b[0m\u001b[0mjac\u001b[0m \u001b[0;34m=\u001b[0m \u001b[0mfg\u001b[0m\u001b[0;34m[\u001b[0m\u001b[0;36m1\u001b[0m\u001b[0;34m]\u001b[0m\u001b[0;34m\u001b[0m\u001b[0;34m\u001b[0m\u001b[0m\n",
      "\u001b[0;32m<ipython-input-84-c336dbb44d09>\u001b[0m in \u001b[0;36mmin_x_with_grad\u001b[0;34m(alpha, beta, gamma)\u001b[0m\n\u001b[1;32m      2\u001b[0m     \u001b[0mx\u001b[0m \u001b[0;34m=\u001b[0m \u001b[0mmin_x\u001b[0m\u001b[0;34m(\u001b[0m\u001b[0malpha\u001b[0m\u001b[0;34m,\u001b[0m \u001b[0mbeta\u001b[0m\u001b[0;34m,\u001b[0m \u001b[0mgamma\u001b[0m\u001b[0;34m)\u001b[0m\u001b[0;34m\u001b[0m\u001b[0;34m\u001b[0m\u001b[0m\n\u001b[0;32m----> 3\u001b[0;31m     \u001b[0mgrad\u001b[0m \u001b[0;34m=\u001b[0m \u001b[0mgradient\u001b[0m\u001b[0;34m(\u001b[0m\u001b[0malpha\u001b[0m\u001b[0;34m,\u001b[0m \u001b[0mbeta\u001b[0m\u001b[0;34m,\u001b[0m \u001b[0mgamma\u001b[0m\u001b[0;34m)\u001b[0m\u001b[0;34m\u001b[0m\u001b[0;34m\u001b[0m\u001b[0m\n\u001b[0m\u001b[1;32m      4\u001b[0m     \u001b[0;32mreturn\u001b[0m \u001b[0mx\u001b[0m\u001b[0;34m,\u001b[0m \u001b[0mgrad\u001b[0m\u001b[0;34m\u001b[0m\u001b[0;34m\u001b[0m\u001b[0m\n",
      "    \u001b[0;31m[... skipping hidden 1 frame]\u001b[0m\n",
      "\u001b[0;32m~/.local/lib/python3.6/site-packages/jax/_src/api.py\u001b[0m in \u001b[0;36mbatched_fun\u001b[0;34m(*args, **kwargs)\u001b[0m\n\u001b[1;32m   1316\u001b[0m         \u001b[0;32mlambda\u001b[0m\u001b[0;34m:\u001b[0m \u001b[0mflatten_axes\u001b[0m\u001b[0;34m(\u001b[0m\u001b[0;34m\"vmap out_axes\"\u001b[0m\u001b[0;34m,\u001b[0m \u001b[0mout_tree\u001b[0m\u001b[0;34m(\u001b[0m\u001b[0;34m)\u001b[0m\u001b[0;34m,\u001b[0m \u001b[0mout_axes\u001b[0m\u001b[0;34m)\u001b[0m\u001b[0;34m\u001b[0m\u001b[0;34m\u001b[0m\u001b[0m\n\u001b[0;32m-> 1317\u001b[0;31m     ).call_wrapped(*args_flat)\n\u001b[0m\u001b[1;32m   1318\u001b[0m     \u001b[0;32mreturn\u001b[0m \u001b[0mtree_unflatten\u001b[0m\u001b[0;34m(\u001b[0m\u001b[0mout_tree\u001b[0m\u001b[0;34m(\u001b[0m\u001b[0;34m)\u001b[0m\u001b[0;34m,\u001b[0m \u001b[0mout_flat\u001b[0m\u001b[0;34m)\u001b[0m\u001b[0;34m\u001b[0m\u001b[0;34m\u001b[0m\u001b[0m\n",
      "\u001b[0;32m~/.local/lib/python3.6/site-packages/jax/linear_util.py\u001b[0m in \u001b[0;36mcall_wrapped\u001b[0;34m(self, *args, **kwargs)\u001b[0m\n\u001b[1;32m    165\u001b[0m     \u001b[0;32mtry\u001b[0m\u001b[0;34m:\u001b[0m\u001b[0;34m\u001b[0m\u001b[0;34m\u001b[0m\u001b[0m\n\u001b[0;32m--> 166\u001b[0;31m       \u001b[0mans\u001b[0m \u001b[0;34m=\u001b[0m \u001b[0mself\u001b[0m\u001b[0;34m.\u001b[0m\u001b[0mf\u001b[0m\u001b[0;34m(\u001b[0m\u001b[0;34m*\u001b[0m\u001b[0margs\u001b[0m\u001b[0;34m,\u001b[0m \u001b[0;34m**\u001b[0m\u001b[0mdict\u001b[0m\u001b[0;34m(\u001b[0m\u001b[0mself\u001b[0m\u001b[0;34m.\u001b[0m\u001b[0mparams\u001b[0m\u001b[0;34m,\u001b[0m \u001b[0;34m**\u001b[0m\u001b[0mkwargs\u001b[0m\u001b[0;34m)\u001b[0m\u001b[0;34m)\u001b[0m\u001b[0;34m\u001b[0m\u001b[0;34m\u001b[0m\u001b[0m\n\u001b[0m\u001b[1;32m    167\u001b[0m     \u001b[0;32mexcept\u001b[0m\u001b[0;34m:\u001b[0m\u001b[0;34m\u001b[0m\u001b[0;34m\u001b[0m\u001b[0m\n",
      "\u001b[0;32m~/.local/lib/python3.6/site-packages/jax/_src/api.py\u001b[0m in \u001b[0;36m_jvp\u001b[0;34m(fun, primals, tangents)\u001b[0m\n\u001b[1;32m   1798\u001b[0m   \u001b[0mflat_fun\u001b[0m\u001b[0;34m,\u001b[0m \u001b[0mout_tree\u001b[0m \u001b[0;34m=\u001b[0m \u001b[0mflatten_fun_nokwargs\u001b[0m\u001b[0;34m(\u001b[0m\u001b[0mfun\u001b[0m\u001b[0;34m,\u001b[0m \u001b[0mtree_def\u001b[0m\u001b[0;34m)\u001b[0m\u001b[0;34m\u001b[0m\u001b[0;34m\u001b[0m\u001b[0m\n\u001b[0;32m-> 1799\u001b[0;31m   \u001b[0mout_primals\u001b[0m\u001b[0;34m,\u001b[0m \u001b[0mout_tangents\u001b[0m \u001b[0;34m=\u001b[0m \u001b[0mad\u001b[0m\u001b[0;34m.\u001b[0m\u001b[0mjvp\u001b[0m\u001b[0;34m(\u001b[0m\u001b[0mflat_fun\u001b[0m\u001b[0;34m)\u001b[0m\u001b[0;34m.\u001b[0m\u001b[0mcall_wrapped\u001b[0m\u001b[0;34m(\u001b[0m\u001b[0mps_flat\u001b[0m\u001b[0;34m,\u001b[0m \u001b[0mts_flat\u001b[0m\u001b[0;34m)\u001b[0m\u001b[0;34m\u001b[0m\u001b[0;34m\u001b[0m\u001b[0m\n\u001b[0m\u001b[1;32m   1800\u001b[0m   return (tree_unflatten(out_tree(), out_primals),\n",
      "\u001b[0;32m~/.local/lib/python3.6/site-packages/jax/linear_util.py\u001b[0m in \u001b[0;36mcall_wrapped\u001b[0;34m(self, *args, **kwargs)\u001b[0m\n\u001b[1;32m    165\u001b[0m     \u001b[0;32mtry\u001b[0m\u001b[0;34m:\u001b[0m\u001b[0;34m\u001b[0m\u001b[0;34m\u001b[0m\u001b[0m\n\u001b[0;32m--> 166\u001b[0;31m       \u001b[0mans\u001b[0m \u001b[0;34m=\u001b[0m \u001b[0mself\u001b[0m\u001b[0;34m.\u001b[0m\u001b[0mf\u001b[0m\u001b[0;34m(\u001b[0m\u001b[0;34m*\u001b[0m\u001b[0margs\u001b[0m\u001b[0;34m,\u001b[0m \u001b[0;34m**\u001b[0m\u001b[0mdict\u001b[0m\u001b[0;34m(\u001b[0m\u001b[0mself\u001b[0m\u001b[0;34m.\u001b[0m\u001b[0mparams\u001b[0m\u001b[0;34m,\u001b[0m \u001b[0;34m**\u001b[0m\u001b[0mkwargs\u001b[0m\u001b[0;34m)\u001b[0m\u001b[0;34m)\u001b[0m\u001b[0;34m\u001b[0m\u001b[0;34m\u001b[0m\u001b[0m\n\u001b[0m\u001b[1;32m    167\u001b[0m     \u001b[0;32mexcept\u001b[0m\u001b[0;34m:\u001b[0m\u001b[0;34m\u001b[0m\u001b[0;34m\u001b[0m\u001b[0m\n",
      "\u001b[0;32m<ipython-input-81-e8c16c346208>\u001b[0m in \u001b[0;36mmin_x\u001b[0;34m(alpha, beta, gamma)\u001b[0m\n\u001b[1;32m      8\u001b[0m     \u001b[0mbeta\u001b[0m \u001b[0;34m=\u001b[0m \u001b[0;32mNone\u001b[0m\u001b[0;34m\u001b[0m\u001b[0;34m\u001b[0m\u001b[0m\n\u001b[0;32m----> 9\u001b[0;31m     \u001b[0mmini\u001b[0m \u001b[0;34m=\u001b[0m \u001b[0mminimize\u001b[0m\u001b[0;34m(\u001b[0m\u001b[0mmy_func\u001b[0m\u001b[0;34m,\u001b[0m \u001b[0mx0\u001b[0m\u001b[0;34m,\u001b[0m \u001b[0margs\u001b[0m \u001b[0;34m=\u001b[0m \u001b[0;34m(\u001b[0m\u001b[0malpha\u001b[0m\u001b[0;34m,\u001b[0m \u001b[0mbeta\u001b[0m\u001b[0;34m)\u001b[0m\u001b[0;34m,\u001b[0m \u001b[0mmethod\u001b[0m \u001b[0;34m=\u001b[0m \u001b[0;34m'BFGS'\u001b[0m\u001b[0;34m,\u001b[0m \u001b[0moptions\u001b[0m \u001b[0;34m=\u001b[0m \u001b[0;34m{\u001b[0m\u001b[0;34m'gtol'\u001b[0m\u001b[0;34m:\u001b[0m \u001b[0;36m1e-3\u001b[0m\u001b[0;34m}\u001b[0m\u001b[0;34m)\u001b[0m\u001b[0;34m\u001b[0m\u001b[0;34m\u001b[0m\u001b[0m\n\u001b[0m\u001b[1;32m     10\u001b[0m     \u001b[0mmin_x\u001b[0m \u001b[0;34m=\u001b[0m \u001b[0mmini\u001b[0m\u001b[0;34m.\u001b[0m\u001b[0mx\u001b[0m\u001b[0;34m[\u001b[0m\u001b[0;36m0\u001b[0m\u001b[0;34m]\u001b[0m\u001b[0;34m\u001b[0m\u001b[0;34m\u001b[0m\u001b[0m\n",
      "\u001b[0;32m~/.local/lib/python3.6/site-packages/scipy/optimize/_minimize.py\u001b[0m in \u001b[0;36mminimize\u001b[0;34m(fun, x0, args, method, jac, hess, hessp, bounds, constraints, tol, callback, options)\u001b[0m\n\u001b[1;32m    611\u001b[0m     \u001b[0;32melif\u001b[0m \u001b[0mmeth\u001b[0m \u001b[0;34m==\u001b[0m \u001b[0;34m'bfgs'\u001b[0m\u001b[0;34m:\u001b[0m\u001b[0;34m\u001b[0m\u001b[0;34m\u001b[0m\u001b[0m\n\u001b[0;32m--> 612\u001b[0;31m         \u001b[0;32mreturn\u001b[0m \u001b[0m_minimize_bfgs\u001b[0m\u001b[0;34m(\u001b[0m\u001b[0mfun\u001b[0m\u001b[0;34m,\u001b[0m \u001b[0mx0\u001b[0m\u001b[0;34m,\u001b[0m \u001b[0margs\u001b[0m\u001b[0;34m,\u001b[0m \u001b[0mjac\u001b[0m\u001b[0;34m,\u001b[0m \u001b[0mcallback\u001b[0m\u001b[0;34m,\u001b[0m \u001b[0;34m**\u001b[0m\u001b[0moptions\u001b[0m\u001b[0;34m)\u001b[0m\u001b[0;34m\u001b[0m\u001b[0;34m\u001b[0m\u001b[0m\n\u001b[0m\u001b[1;32m    613\u001b[0m     \u001b[0;32melif\u001b[0m \u001b[0mmeth\u001b[0m \u001b[0;34m==\u001b[0m \u001b[0;34m'newton-cg'\u001b[0m\u001b[0;34m:\u001b[0m\u001b[0;34m\u001b[0m\u001b[0;34m\u001b[0m\u001b[0m\n",
      "\u001b[0;32m~/.local/lib/python3.6/site-packages/scipy/optimize/optimize.py\u001b[0m in \u001b[0;36m_minimize_bfgs\u001b[0;34m(fun, x0, args, jac, callback, gtol, norm, eps, maxiter, disp, return_all, finite_diff_rel_step, **unknown_options)\u001b[0m\n\u001b[1;32m   1101\u001b[0m     sf = _prepare_scalar_function(fun, x0, jac, args=args, epsilon=eps,\n\u001b[0;32m-> 1102\u001b[0;31m                                   finite_diff_rel_step=finite_diff_rel_step)\n\u001b[0m\u001b[1;32m   1103\u001b[0m \u001b[0;34m\u001b[0m\u001b[0m\n",
      "\u001b[0;32m~/.local/lib/python3.6/site-packages/scipy/optimize/optimize.py\u001b[0m in \u001b[0;36m_prepare_scalar_function\u001b[0;34m(fun, x0, jac, args, bounds, epsilon, finite_diff_rel_step, hess)\u001b[0m\n\u001b[1;32m    261\u001b[0m     sf = ScalarFunction(fun, x0, args, grad, hess,\n\u001b[0;32m--> 262\u001b[0;31m                         finite_diff_rel_step, bounds, epsilon=epsilon)\n\u001b[0m\u001b[1;32m    263\u001b[0m \u001b[0;34m\u001b[0m\u001b[0m\n",
      "\u001b[0;32m~/.local/lib/python3.6/site-packages/scipy/optimize/_differentiable_functions.py\u001b[0m in \u001b[0;36m__init__\u001b[0;34m(self, fun, x0, args, grad, hess, finite_diff_rel_step, finite_diff_bounds, epsilon)\u001b[0m\n\u001b[1;32m     94\u001b[0m         \u001b[0mself\u001b[0m\u001b[0;34m.\u001b[0m\u001b[0m_update_grad_impl\u001b[0m \u001b[0;34m=\u001b[0m \u001b[0mupdate_grad\u001b[0m\u001b[0;34m\u001b[0m\u001b[0;34m\u001b[0m\u001b[0m\n\u001b[0;32m---> 95\u001b[0;31m         \u001b[0mself\u001b[0m\u001b[0;34m.\u001b[0m\u001b[0m_update_grad\u001b[0m\u001b[0;34m(\u001b[0m\u001b[0;34m)\u001b[0m\u001b[0;34m\u001b[0m\u001b[0;34m\u001b[0m\u001b[0m\n\u001b[0m\u001b[1;32m     96\u001b[0m \u001b[0;34m\u001b[0m\u001b[0m\n",
      "\u001b[0;32m~/.local/lib/python3.6/site-packages/scipy/optimize/_differentiable_functions.py\u001b[0m in \u001b[0;36m_update_grad\u001b[0;34m(self)\u001b[0m\n\u001b[1;32m    170\u001b[0m         \u001b[0;32mif\u001b[0m \u001b[0;32mnot\u001b[0m \u001b[0mself\u001b[0m\u001b[0;34m.\u001b[0m\u001b[0mg_updated\u001b[0m\u001b[0;34m:\u001b[0m\u001b[0;34m\u001b[0m\u001b[0;34m\u001b[0m\u001b[0m\n\u001b[0;32m--> 171\u001b[0;31m             \u001b[0mself\u001b[0m\u001b[0;34m.\u001b[0m\u001b[0m_update_grad_impl\u001b[0m\u001b[0;34m(\u001b[0m\u001b[0;34m)\u001b[0m\u001b[0;34m\u001b[0m\u001b[0;34m\u001b[0m\u001b[0m\n\u001b[0m\u001b[1;32m    172\u001b[0m             \u001b[0mself\u001b[0m\u001b[0;34m.\u001b[0m\u001b[0mg_updated\u001b[0m \u001b[0;34m=\u001b[0m \u001b[0;32mTrue\u001b[0m\u001b[0;34m\u001b[0m\u001b[0;34m\u001b[0m\u001b[0m\n",
      "\u001b[0;32m~/.local/lib/python3.6/site-packages/scipy/optimize/_differentiable_functions.py\u001b[0m in \u001b[0;36mupdate_grad\u001b[0;34m()\u001b[0m\n\u001b[1;32m     91\u001b[0m                 self.g = approx_derivative(fun_wrapped, self.x, f0=self.f,\n\u001b[0;32m---> 92\u001b[0;31m                                            **finite_diff_options)\n\u001b[0m\u001b[1;32m     93\u001b[0m \u001b[0;34m\u001b[0m\u001b[0m\n",
      "\u001b[0;32m~/.local/lib/python3.6/site-packages/scipy/optimize/_numdiff.py\u001b[0m in \u001b[0;36mapprox_derivative\u001b[0;34m(fun, x0, method, rel_step, abs_step, f0, bounds, sparsity, as_linear_operator, args, kwargs)\u001b[0m\n\u001b[1;32m    385\u001b[0m     \u001b[0;32melse\u001b[0m\u001b[0;34m:\u001b[0m\u001b[0;34m\u001b[0m\u001b[0;34m\u001b[0m\u001b[0m\n\u001b[0;32m--> 386\u001b[0;31m         \u001b[0mf0\u001b[0m \u001b[0;34m=\u001b[0m \u001b[0mnp\u001b[0m\u001b[0;34m.\u001b[0m\u001b[0matleast_1d\u001b[0m\u001b[0;34m(\u001b[0m\u001b[0mf0\u001b[0m\u001b[0;34m)\u001b[0m\u001b[0;34m\u001b[0m\u001b[0;34m\u001b[0m\u001b[0m\n\u001b[0m\u001b[1;32m    387\u001b[0m         \u001b[0;32mif\u001b[0m \u001b[0mf0\u001b[0m\u001b[0;34m.\u001b[0m\u001b[0mndim\u001b[0m \u001b[0;34m>\u001b[0m \u001b[0;36m1\u001b[0m\u001b[0;34m:\u001b[0m\u001b[0;34m\u001b[0m\u001b[0;34m\u001b[0m\u001b[0m\n",
      "\u001b[0;32m<__array_function__ internals>\u001b[0m in \u001b[0;36matleast_1d\u001b[0;34m(*args, **kwargs)\u001b[0m\n",
      "\u001b[0;32m~/.local/lib/python3.6/site-packages/numpy/core/shape_base.py\u001b[0m in \u001b[0;36matleast_1d\u001b[0;34m(*arys)\u001b[0m\n\u001b[1;32m     65\u001b[0m     \u001b[0;32mfor\u001b[0m \u001b[0mary\u001b[0m \u001b[0;32min\u001b[0m \u001b[0marys\u001b[0m\u001b[0;34m:\u001b[0m\u001b[0;34m\u001b[0m\u001b[0;34m\u001b[0m\u001b[0m\n\u001b[0;32m---> 66\u001b[0;31m         \u001b[0mary\u001b[0m \u001b[0;34m=\u001b[0m \u001b[0masanyarray\u001b[0m\u001b[0;34m(\u001b[0m\u001b[0mary\u001b[0m\u001b[0;34m)\u001b[0m\u001b[0;34m\u001b[0m\u001b[0;34m\u001b[0m\u001b[0m\n\u001b[0m\u001b[1;32m     67\u001b[0m         \u001b[0;32mif\u001b[0m \u001b[0mary\u001b[0m\u001b[0;34m.\u001b[0m\u001b[0mndim\u001b[0m \u001b[0;34m==\u001b[0m \u001b[0;36m0\u001b[0m\u001b[0;34m:\u001b[0m\u001b[0;34m\u001b[0m\u001b[0;34m\u001b[0m\u001b[0m\n",
      "\u001b[0;32m~/.local/lib/python3.6/site-packages/numpy/core/_asarray.py\u001b[0m in \u001b[0;36masanyarray\u001b[0;34m(a, dtype, order)\u001b[0m\n\u001b[1;32m    135\u001b[0m     \"\"\"\n\u001b[0;32m--> 136\u001b[0;31m     \u001b[0;32mreturn\u001b[0m \u001b[0marray\u001b[0m\u001b[0;34m(\u001b[0m\u001b[0ma\u001b[0m\u001b[0;34m,\u001b[0m \u001b[0mdtype\u001b[0m\u001b[0;34m,\u001b[0m \u001b[0mcopy\u001b[0m\u001b[0;34m=\u001b[0m\u001b[0;32mFalse\u001b[0m\u001b[0;34m,\u001b[0m \u001b[0morder\u001b[0m\u001b[0;34m=\u001b[0m\u001b[0morder\u001b[0m\u001b[0;34m,\u001b[0m \u001b[0msubok\u001b[0m\u001b[0;34m=\u001b[0m\u001b[0;32mTrue\u001b[0m\u001b[0;34m)\u001b[0m\u001b[0;34m\u001b[0m\u001b[0;34m\u001b[0m\u001b[0m\n\u001b[0m\u001b[1;32m    137\u001b[0m \u001b[0;34m\u001b[0m\u001b[0m\n",
      "\u001b[0;32m~/.local/lib/python3.6/site-packages/jax/core.py\u001b[0m in \u001b[0;36m__array__\u001b[0;34m(self, *args, **kw)\u001b[0m\n\u001b[1;32m    468\u001b[0m   \u001b[0;32mdef\u001b[0m \u001b[0m__array__\u001b[0m\u001b[0;34m(\u001b[0m\u001b[0mself\u001b[0m\u001b[0;34m,\u001b[0m \u001b[0;34m*\u001b[0m\u001b[0margs\u001b[0m\u001b[0;34m,\u001b[0m \u001b[0;34m**\u001b[0m\u001b[0mkw\u001b[0m\u001b[0;34m)\u001b[0m\u001b[0;34m:\u001b[0m\u001b[0;34m\u001b[0m\u001b[0;34m\u001b[0m\u001b[0m\n\u001b[0;32m--> 469\u001b[0;31m     \u001b[0;32mraise\u001b[0m \u001b[0mTracerArrayConversionError\u001b[0m\u001b[0;34m(\u001b[0m\u001b[0mself\u001b[0m\u001b[0;34m)\u001b[0m\u001b[0;34m\u001b[0m\u001b[0;34m\u001b[0m\u001b[0m\n\u001b[0m\u001b[1;32m    470\u001b[0m \u001b[0;34m\u001b[0m\u001b[0m\n",
      "\u001b[0;31mUnfilteredStackTrace\u001b[0m: jax._src.errors.TracerArrayConversionError: The numpy.ndarray conversion method __array__() was called on the JAX Tracer object Traced<ConcreteArray(3.62)>with<JVPTrace(level=2/0)>\n  with primal = DeviceArray(3.62, dtype=float64)\n       tangent = Traced<ShapedArray(float64[])>with<BatchTrace(level=1/0)>\n                   with val = DeviceArray([4.22], dtype=float64)\n                        batch_dim = 0\nSee https://jax.readthedocs.io/en/latest/errors.html#jax.errors.TracerArrayConversionError\n\nThe stack trace below excludes JAX-internal frames.\nThe preceding is the original exception that occurred, unmodified.\n\n--------------------",
      "\nThe above exception was the direct cause of the following exception:\n",
      "\u001b[0;31mTracerArrayConversionError\u001b[0m                Traceback (most recent call last)",
      "\u001b[0;32m<ipython-input-87-457d73010f34>\u001b[0m in \u001b[0;36m<module>\u001b[0;34m\u001b[0m\n\u001b[0;32m----> 1\u001b[0;31m \u001b[0mminimize\u001b[0m\u001b[0;34m(\u001b[0m\u001b[0mmin_x_with_grad\u001b[0m\u001b[0;34m,\u001b[0m \u001b[0malpha0\u001b[0m\u001b[0;34m,\u001b[0m \u001b[0margs\u001b[0m \u001b[0;34m=\u001b[0m \u001b[0;34m(\u001b[0m\u001b[0mbeta\u001b[0m\u001b[0;34m,\u001b[0m \u001b[0mgamma\u001b[0m\u001b[0;34m)\u001b[0m\u001b[0;34m,\u001b[0m \u001b[0mmethod\u001b[0m \u001b[0;34m=\u001b[0m \u001b[0;34m'BFGS'\u001b[0m\u001b[0;34m,\u001b[0m \u001b[0mjac\u001b[0m \u001b[0;34m=\u001b[0m \u001b[0;32mTrue\u001b[0m\u001b[0;34m,\u001b[0m \u001b[0moptions\u001b[0m \u001b[0;34m=\u001b[0m \u001b[0;34m{\u001b[0m\u001b[0;34m'gtol'\u001b[0m\u001b[0;34m:\u001b[0m \u001b[0;36m1e-3\u001b[0m\u001b[0;34m,\u001b[0m \u001b[0;34m'maxiter'\u001b[0m\u001b[0;34m:\u001b[0m \u001b[0;36m10\u001b[0m\u001b[0;34m}\u001b[0m\u001b[0;34m)\u001b[0m\u001b[0;34m\u001b[0m\u001b[0;34m\u001b[0m\u001b[0m\n\u001b[0m",
      "\u001b[0;32m~/.local/lib/python3.6/site-packages/scipy/optimize/_minimize.py\u001b[0m in \u001b[0;36mminimize\u001b[0;34m(fun, x0, args, method, jac, hess, hessp, bounds, constraints, tol, callback, options)\u001b[0m\n\u001b[1;32m    610\u001b[0m         \u001b[0;32mreturn\u001b[0m \u001b[0m_minimize_cg\u001b[0m\u001b[0;34m(\u001b[0m\u001b[0mfun\u001b[0m\u001b[0;34m,\u001b[0m \u001b[0mx0\u001b[0m\u001b[0;34m,\u001b[0m \u001b[0margs\u001b[0m\u001b[0;34m,\u001b[0m \u001b[0mjac\u001b[0m\u001b[0;34m,\u001b[0m \u001b[0mcallback\u001b[0m\u001b[0;34m,\u001b[0m \u001b[0;34m**\u001b[0m\u001b[0moptions\u001b[0m\u001b[0;34m)\u001b[0m\u001b[0;34m\u001b[0m\u001b[0;34m\u001b[0m\u001b[0m\n\u001b[1;32m    611\u001b[0m     \u001b[0;32melif\u001b[0m \u001b[0mmeth\u001b[0m \u001b[0;34m==\u001b[0m \u001b[0;34m'bfgs'\u001b[0m\u001b[0;34m:\u001b[0m\u001b[0;34m\u001b[0m\u001b[0;34m\u001b[0m\u001b[0m\n\u001b[0;32m--> 612\u001b[0;31m         \u001b[0;32mreturn\u001b[0m \u001b[0m_minimize_bfgs\u001b[0m\u001b[0;34m(\u001b[0m\u001b[0mfun\u001b[0m\u001b[0;34m,\u001b[0m \u001b[0mx0\u001b[0m\u001b[0;34m,\u001b[0m \u001b[0margs\u001b[0m\u001b[0;34m,\u001b[0m \u001b[0mjac\u001b[0m\u001b[0;34m,\u001b[0m \u001b[0mcallback\u001b[0m\u001b[0;34m,\u001b[0m \u001b[0;34m**\u001b[0m\u001b[0moptions\u001b[0m\u001b[0;34m)\u001b[0m\u001b[0;34m\u001b[0m\u001b[0;34m\u001b[0m\u001b[0m\n\u001b[0m\u001b[1;32m    613\u001b[0m     \u001b[0;32melif\u001b[0m \u001b[0mmeth\u001b[0m \u001b[0;34m==\u001b[0m \u001b[0;34m'newton-cg'\u001b[0m\u001b[0;34m:\u001b[0m\u001b[0;34m\u001b[0m\u001b[0;34m\u001b[0m\u001b[0m\n\u001b[1;32m    614\u001b[0m         return _minimize_newtoncg(fun, x0, args, jac, hess, hessp, callback,\n",
      "\u001b[0;32m~/.local/lib/python3.6/site-packages/scipy/optimize/optimize.py\u001b[0m in \u001b[0;36m_minimize_bfgs\u001b[0;34m(fun, x0, args, jac, callback, gtol, norm, eps, maxiter, disp, return_all, finite_diff_rel_step, **unknown_options)\u001b[0m\n\u001b[1;32m   1100\u001b[0m \u001b[0;34m\u001b[0m\u001b[0m\n\u001b[1;32m   1101\u001b[0m     sf = _prepare_scalar_function(fun, x0, jac, args=args, epsilon=eps,\n\u001b[0;32m-> 1102\u001b[0;31m                                   finite_diff_rel_step=finite_diff_rel_step)\n\u001b[0m\u001b[1;32m   1103\u001b[0m \u001b[0;34m\u001b[0m\u001b[0m\n\u001b[1;32m   1104\u001b[0m     \u001b[0mf\u001b[0m \u001b[0;34m=\u001b[0m \u001b[0msf\u001b[0m\u001b[0;34m.\u001b[0m\u001b[0mfun\u001b[0m\u001b[0;34m\u001b[0m\u001b[0;34m\u001b[0m\u001b[0m\n",
      "\u001b[0;32m~/.local/lib/python3.6/site-packages/scipy/optimize/optimize.py\u001b[0m in \u001b[0;36m_prepare_scalar_function\u001b[0;34m(fun, x0, jac, args, bounds, epsilon, finite_diff_rel_step, hess)\u001b[0m\n\u001b[1;32m    260\u001b[0m     \u001b[0;31m# calculation reduces overall function evaluations.\u001b[0m\u001b[0;34m\u001b[0m\u001b[0;34m\u001b[0m\u001b[0;34m\u001b[0m\u001b[0m\n\u001b[1;32m    261\u001b[0m     sf = ScalarFunction(fun, x0, args, grad, hess,\n\u001b[0;32m--> 262\u001b[0;31m                         finite_diff_rel_step, bounds, epsilon=epsilon)\n\u001b[0m\u001b[1;32m    263\u001b[0m \u001b[0;34m\u001b[0m\u001b[0m\n\u001b[1;32m    264\u001b[0m     \u001b[0;32mreturn\u001b[0m \u001b[0msf\u001b[0m\u001b[0;34m\u001b[0m\u001b[0;34m\u001b[0m\u001b[0m\n",
      "\u001b[0;32m~/.local/lib/python3.6/site-packages/scipy/optimize/_differentiable_functions.py\u001b[0m in \u001b[0;36m__init__\u001b[0;34m(self, fun, x0, args, grad, hess, finite_diff_rel_step, finite_diff_bounds, epsilon)\u001b[0m\n\u001b[1;32m     74\u001b[0m \u001b[0;34m\u001b[0m\u001b[0m\n\u001b[1;32m     75\u001b[0m         \u001b[0mself\u001b[0m\u001b[0;34m.\u001b[0m\u001b[0m_update_fun_impl\u001b[0m \u001b[0;34m=\u001b[0m \u001b[0mupdate_fun\u001b[0m\u001b[0;34m\u001b[0m\u001b[0;34m\u001b[0m\u001b[0m\n\u001b[0;32m---> 76\u001b[0;31m         \u001b[0mself\u001b[0m\u001b[0;34m.\u001b[0m\u001b[0m_update_fun\u001b[0m\u001b[0;34m(\u001b[0m\u001b[0;34m)\u001b[0m\u001b[0;34m\u001b[0m\u001b[0;34m\u001b[0m\u001b[0m\n\u001b[0m\u001b[1;32m     77\u001b[0m \u001b[0;34m\u001b[0m\u001b[0m\n\u001b[1;32m     78\u001b[0m         \u001b[0;31m# Gradient evaluation\u001b[0m\u001b[0;34m\u001b[0m\u001b[0;34m\u001b[0m\u001b[0;34m\u001b[0m\u001b[0m\n",
      "\u001b[0;32m~/.local/lib/python3.6/site-packages/scipy/optimize/_differentiable_functions.py\u001b[0m in \u001b[0;36m_update_fun\u001b[0;34m(self)\u001b[0m\n\u001b[1;32m    164\u001b[0m     \u001b[0;32mdef\u001b[0m \u001b[0m_update_fun\u001b[0m\u001b[0;34m(\u001b[0m\u001b[0mself\u001b[0m\u001b[0;34m)\u001b[0m\u001b[0;34m:\u001b[0m\u001b[0;34m\u001b[0m\u001b[0;34m\u001b[0m\u001b[0m\n\u001b[1;32m    165\u001b[0m         \u001b[0;32mif\u001b[0m \u001b[0;32mnot\u001b[0m \u001b[0mself\u001b[0m\u001b[0;34m.\u001b[0m\u001b[0mf_updated\u001b[0m\u001b[0;34m:\u001b[0m\u001b[0;34m\u001b[0m\u001b[0;34m\u001b[0m\u001b[0m\n\u001b[0;32m--> 166\u001b[0;31m             \u001b[0mself\u001b[0m\u001b[0;34m.\u001b[0m\u001b[0m_update_fun_impl\u001b[0m\u001b[0;34m(\u001b[0m\u001b[0;34m)\u001b[0m\u001b[0;34m\u001b[0m\u001b[0;34m\u001b[0m\u001b[0m\n\u001b[0m\u001b[1;32m    167\u001b[0m             \u001b[0mself\u001b[0m\u001b[0;34m.\u001b[0m\u001b[0mf_updated\u001b[0m \u001b[0;34m=\u001b[0m \u001b[0;32mTrue\u001b[0m\u001b[0;34m\u001b[0m\u001b[0;34m\u001b[0m\u001b[0m\n\u001b[1;32m    168\u001b[0m \u001b[0;34m\u001b[0m\u001b[0m\n",
      "\u001b[0;32m~/.local/lib/python3.6/site-packages/scipy/optimize/_differentiable_functions.py\u001b[0m in \u001b[0;36mupdate_fun\u001b[0;34m()\u001b[0m\n\u001b[1;32m     71\u001b[0m \u001b[0;34m\u001b[0m\u001b[0m\n\u001b[1;32m     72\u001b[0m         \u001b[0;32mdef\u001b[0m \u001b[0mupdate_fun\u001b[0m\u001b[0;34m(\u001b[0m\u001b[0;34m)\u001b[0m\u001b[0;34m:\u001b[0m\u001b[0;34m\u001b[0m\u001b[0;34m\u001b[0m\u001b[0m\n\u001b[0;32m---> 73\u001b[0;31m             \u001b[0mself\u001b[0m\u001b[0;34m.\u001b[0m\u001b[0mf\u001b[0m \u001b[0;34m=\u001b[0m \u001b[0mfun_wrapped\u001b[0m\u001b[0;34m(\u001b[0m\u001b[0mself\u001b[0m\u001b[0;34m.\u001b[0m\u001b[0mx\u001b[0m\u001b[0;34m)\u001b[0m\u001b[0;34m\u001b[0m\u001b[0;34m\u001b[0m\u001b[0m\n\u001b[0m\u001b[1;32m     74\u001b[0m \u001b[0;34m\u001b[0m\u001b[0m\n\u001b[1;32m     75\u001b[0m         \u001b[0mself\u001b[0m\u001b[0;34m.\u001b[0m\u001b[0m_update_fun_impl\u001b[0m \u001b[0;34m=\u001b[0m \u001b[0mupdate_fun\u001b[0m\u001b[0;34m\u001b[0m\u001b[0;34m\u001b[0m\u001b[0m\n",
      "\u001b[0;32m~/.local/lib/python3.6/site-packages/scipy/optimize/_differentiable_functions.py\u001b[0m in \u001b[0;36mfun_wrapped\u001b[0;34m(x)\u001b[0m\n\u001b[1;32m     68\u001b[0m         \u001b[0;32mdef\u001b[0m \u001b[0mfun_wrapped\u001b[0m\u001b[0;34m(\u001b[0m\u001b[0mx\u001b[0m\u001b[0;34m)\u001b[0m\u001b[0;34m:\u001b[0m\u001b[0;34m\u001b[0m\u001b[0;34m\u001b[0m\u001b[0m\n\u001b[1;32m     69\u001b[0m             \u001b[0mself\u001b[0m\u001b[0;34m.\u001b[0m\u001b[0mnfev\u001b[0m \u001b[0;34m+=\u001b[0m \u001b[0;36m1\u001b[0m\u001b[0;34m\u001b[0m\u001b[0;34m\u001b[0m\u001b[0m\n\u001b[0;32m---> 70\u001b[0;31m             \u001b[0;32mreturn\u001b[0m \u001b[0mfun\u001b[0m\u001b[0;34m(\u001b[0m\u001b[0mx\u001b[0m\u001b[0;34m,\u001b[0m \u001b[0;34m*\u001b[0m\u001b[0margs\u001b[0m\u001b[0;34m)\u001b[0m\u001b[0;34m\u001b[0m\u001b[0;34m\u001b[0m\u001b[0m\n\u001b[0m\u001b[1;32m     71\u001b[0m \u001b[0;34m\u001b[0m\u001b[0m\n\u001b[1;32m     72\u001b[0m         \u001b[0;32mdef\u001b[0m \u001b[0mupdate_fun\u001b[0m\u001b[0;34m(\u001b[0m\u001b[0;34m)\u001b[0m\u001b[0;34m:\u001b[0m\u001b[0;34m\u001b[0m\u001b[0;34m\u001b[0m\u001b[0m\n",
      "\u001b[0;32m~/.local/lib/python3.6/site-packages/scipy/optimize/optimize.py\u001b[0m in \u001b[0;36m__call__\u001b[0;34m(self, x, *args)\u001b[0m\n\u001b[1;32m     72\u001b[0m     \u001b[0;32mdef\u001b[0m \u001b[0m__call__\u001b[0m\u001b[0;34m(\u001b[0m\u001b[0mself\u001b[0m\u001b[0;34m,\u001b[0m \u001b[0mx\u001b[0m\u001b[0;34m,\u001b[0m \u001b[0;34m*\u001b[0m\u001b[0margs\u001b[0m\u001b[0;34m)\u001b[0m\u001b[0;34m:\u001b[0m\u001b[0;34m\u001b[0m\u001b[0;34m\u001b[0m\u001b[0m\n\u001b[1;32m     73\u001b[0m         \u001b[0;34m\"\"\" returns the the function value \"\"\"\u001b[0m\u001b[0;34m\u001b[0m\u001b[0;34m\u001b[0m\u001b[0m\n\u001b[0;32m---> 74\u001b[0;31m         \u001b[0mself\u001b[0m\u001b[0;34m.\u001b[0m\u001b[0m_compute_if_needed\u001b[0m\u001b[0;34m(\u001b[0m\u001b[0mx\u001b[0m\u001b[0;34m,\u001b[0m \u001b[0;34m*\u001b[0m\u001b[0margs\u001b[0m\u001b[0;34m)\u001b[0m\u001b[0;34m\u001b[0m\u001b[0;34m\u001b[0m\u001b[0m\n\u001b[0m\u001b[1;32m     75\u001b[0m         \u001b[0;32mreturn\u001b[0m \u001b[0mself\u001b[0m\u001b[0;34m.\u001b[0m\u001b[0m_value\u001b[0m\u001b[0;34m\u001b[0m\u001b[0;34m\u001b[0m\u001b[0m\n\u001b[1;32m     76\u001b[0m \u001b[0;34m\u001b[0m\u001b[0m\n",
      "\u001b[0;32m~/.local/lib/python3.6/site-packages/scipy/optimize/optimize.py\u001b[0m in \u001b[0;36m_compute_if_needed\u001b[0;34m(self, x, *args)\u001b[0m\n\u001b[1;32m     66\u001b[0m         \u001b[0;32mif\u001b[0m \u001b[0;32mnot\u001b[0m \u001b[0mnp\u001b[0m\u001b[0;34m.\u001b[0m\u001b[0mall\u001b[0m\u001b[0;34m(\u001b[0m\u001b[0mx\u001b[0m \u001b[0;34m==\u001b[0m \u001b[0mself\u001b[0m\u001b[0;34m.\u001b[0m\u001b[0mx\u001b[0m\u001b[0;34m)\u001b[0m \u001b[0;32mor\u001b[0m \u001b[0mself\u001b[0m\u001b[0;34m.\u001b[0m\u001b[0m_value\u001b[0m \u001b[0;32mis\u001b[0m \u001b[0;32mNone\u001b[0m \u001b[0;32mor\u001b[0m \u001b[0mself\u001b[0m\u001b[0;34m.\u001b[0m\u001b[0mjac\u001b[0m \u001b[0;32mis\u001b[0m \u001b[0;32mNone\u001b[0m\u001b[0;34m:\u001b[0m\u001b[0;34m\u001b[0m\u001b[0;34m\u001b[0m\u001b[0m\n\u001b[1;32m     67\u001b[0m             \u001b[0mself\u001b[0m\u001b[0;34m.\u001b[0m\u001b[0mx\u001b[0m \u001b[0;34m=\u001b[0m \u001b[0mnp\u001b[0m\u001b[0;34m.\u001b[0m\u001b[0masarray\u001b[0m\u001b[0;34m(\u001b[0m\u001b[0mx\u001b[0m\u001b[0;34m)\u001b[0m\u001b[0;34m.\u001b[0m\u001b[0mcopy\u001b[0m\u001b[0;34m(\u001b[0m\u001b[0;34m)\u001b[0m\u001b[0;34m\u001b[0m\u001b[0;34m\u001b[0m\u001b[0m\n\u001b[0;32m---> 68\u001b[0;31m             \u001b[0mfg\u001b[0m \u001b[0;34m=\u001b[0m \u001b[0mself\u001b[0m\u001b[0;34m.\u001b[0m\u001b[0mfun\u001b[0m\u001b[0;34m(\u001b[0m\u001b[0mx\u001b[0m\u001b[0;34m,\u001b[0m \u001b[0;34m*\u001b[0m\u001b[0margs\u001b[0m\u001b[0;34m)\u001b[0m\u001b[0;34m\u001b[0m\u001b[0;34m\u001b[0m\u001b[0m\n\u001b[0m\u001b[1;32m     69\u001b[0m             \u001b[0mself\u001b[0m\u001b[0;34m.\u001b[0m\u001b[0mjac\u001b[0m \u001b[0;34m=\u001b[0m \u001b[0mfg\u001b[0m\u001b[0;34m[\u001b[0m\u001b[0;36m1\u001b[0m\u001b[0;34m]\u001b[0m\u001b[0;34m\u001b[0m\u001b[0;34m\u001b[0m\u001b[0m\n\u001b[1;32m     70\u001b[0m             \u001b[0mself\u001b[0m\u001b[0;34m.\u001b[0m\u001b[0m_value\u001b[0m \u001b[0;34m=\u001b[0m \u001b[0mfg\u001b[0m\u001b[0;34m[\u001b[0m\u001b[0;36m0\u001b[0m\u001b[0;34m]\u001b[0m\u001b[0;34m\u001b[0m\u001b[0;34m\u001b[0m\u001b[0m\n",
      "\u001b[0;32m<ipython-input-84-c336dbb44d09>\u001b[0m in \u001b[0;36mmin_x_with_grad\u001b[0;34m(alpha, beta, gamma)\u001b[0m\n\u001b[1;32m      1\u001b[0m \u001b[0;32mdef\u001b[0m \u001b[0mmin_x_with_grad\u001b[0m\u001b[0;34m(\u001b[0m\u001b[0malpha\u001b[0m\u001b[0;34m,\u001b[0m \u001b[0mbeta\u001b[0m \u001b[0;34m=\u001b[0m \u001b[0;32mNone\u001b[0m\u001b[0;34m,\u001b[0m \u001b[0mgamma\u001b[0m \u001b[0;34m=\u001b[0m \u001b[0;32mNone\u001b[0m\u001b[0;34m)\u001b[0m\u001b[0;34m:\u001b[0m\u001b[0;34m\u001b[0m\u001b[0;34m\u001b[0m\u001b[0m\n\u001b[1;32m      2\u001b[0m     \u001b[0mx\u001b[0m \u001b[0;34m=\u001b[0m \u001b[0mmin_x\u001b[0m\u001b[0;34m(\u001b[0m\u001b[0malpha\u001b[0m\u001b[0;34m,\u001b[0m \u001b[0mbeta\u001b[0m\u001b[0;34m,\u001b[0m \u001b[0mgamma\u001b[0m\u001b[0;34m)\u001b[0m\u001b[0;34m\u001b[0m\u001b[0;34m\u001b[0m\u001b[0m\n\u001b[0;32m----> 3\u001b[0;31m     \u001b[0mgrad\u001b[0m \u001b[0;34m=\u001b[0m \u001b[0mgradient\u001b[0m\u001b[0;34m(\u001b[0m\u001b[0malpha\u001b[0m\u001b[0;34m,\u001b[0m \u001b[0mbeta\u001b[0m\u001b[0;34m,\u001b[0m \u001b[0mgamma\u001b[0m\u001b[0;34m)\u001b[0m\u001b[0;34m\u001b[0m\u001b[0;34m\u001b[0m\u001b[0m\n\u001b[0m\u001b[1;32m      4\u001b[0m     \u001b[0;32mreturn\u001b[0m \u001b[0mx\u001b[0m\u001b[0;34m,\u001b[0m \u001b[0mgrad\u001b[0m\u001b[0;34m\u001b[0m\u001b[0;34m\u001b[0m\u001b[0m\n",
      "\u001b[0;32m~/.local/lib/python3.6/site-packages/jax/_src/api.py\u001b[0m in \u001b[0;36mjacfun\u001b[0;34m(*args, **kwargs)\u001b[0m\n\u001b[1;32m    994\u001b[0m     \u001b[0mtree_map\u001b[0m\u001b[0;34m(\u001b[0m\u001b[0mpartial\u001b[0m\u001b[0;34m(\u001b[0m\u001b[0m_check_input_dtype_jacfwd\u001b[0m\u001b[0;34m,\u001b[0m \u001b[0mholomorphic\u001b[0m\u001b[0;34m)\u001b[0m\u001b[0;34m,\u001b[0m \u001b[0mdyn_args\u001b[0m\u001b[0;34m)\u001b[0m\u001b[0;34m\u001b[0m\u001b[0;34m\u001b[0m\u001b[0m\n\u001b[1;32m    995\u001b[0m     \u001b[0mpushfwd\u001b[0m \u001b[0;34m=\u001b[0m \u001b[0mpartial\u001b[0m\u001b[0;34m(\u001b[0m\u001b[0m_jvp\u001b[0m\u001b[0;34m,\u001b[0m \u001b[0mf_partial\u001b[0m\u001b[0;34m,\u001b[0m \u001b[0mdyn_args\u001b[0m\u001b[0;34m)\u001b[0m\u001b[0;34m\u001b[0m\u001b[0;34m\u001b[0m\u001b[0m\n\u001b[0;32m--> 996\u001b[0;31m     \u001b[0my\u001b[0m\u001b[0;34m,\u001b[0m \u001b[0mjac\u001b[0m \u001b[0;34m=\u001b[0m \u001b[0mvmap\u001b[0m\u001b[0;34m(\u001b[0m\u001b[0mpushfwd\u001b[0m\u001b[0;34m,\u001b[0m \u001b[0mout_axes\u001b[0m\u001b[0;34m=\u001b[0m\u001b[0;34m(\u001b[0m\u001b[0;32mNone\u001b[0m\u001b[0;34m,\u001b[0m \u001b[0;34m-\u001b[0m\u001b[0;36m1\u001b[0m\u001b[0;34m)\u001b[0m\u001b[0;34m)\u001b[0m\u001b[0;34m(\u001b[0m\u001b[0m_std_basis\u001b[0m\u001b[0;34m(\u001b[0m\u001b[0mdyn_args\u001b[0m\u001b[0;34m)\u001b[0m\u001b[0;34m)\u001b[0m\u001b[0;34m\u001b[0m\u001b[0;34m\u001b[0m\u001b[0m\n\u001b[0m\u001b[1;32m    997\u001b[0m     \u001b[0mtree_map\u001b[0m\u001b[0;34m(\u001b[0m\u001b[0mpartial\u001b[0m\u001b[0;34m(\u001b[0m\u001b[0m_check_output_dtype_jacfwd\u001b[0m\u001b[0;34m,\u001b[0m \u001b[0mholomorphic\u001b[0m\u001b[0;34m)\u001b[0m\u001b[0;34m,\u001b[0m \u001b[0my\u001b[0m\u001b[0;34m)\u001b[0m\u001b[0;34m\u001b[0m\u001b[0;34m\u001b[0m\u001b[0m\n\u001b[1;32m    998\u001b[0m     \u001b[0mexample_args\u001b[0m \u001b[0;34m=\u001b[0m \u001b[0mdyn_args\u001b[0m\u001b[0;34m[\u001b[0m\u001b[0;36m0\u001b[0m\u001b[0;34m]\u001b[0m \u001b[0;32mif\u001b[0m \u001b[0misinstance\u001b[0m\u001b[0;34m(\u001b[0m\u001b[0margnums\u001b[0m\u001b[0;34m,\u001b[0m \u001b[0mint\u001b[0m\u001b[0;34m)\u001b[0m \u001b[0;32melse\u001b[0m \u001b[0mdyn_args\u001b[0m\u001b[0;34m\u001b[0m\u001b[0;34m\u001b[0m\u001b[0m\n",
      "\u001b[0;32m<ipython-input-81-e8c16c346208>\u001b[0m in \u001b[0;36mmin_x\u001b[0;34m(alpha, beta, gamma)\u001b[0m\n\u001b[1;32m      7\u001b[0m \u001b[0;32mdef\u001b[0m \u001b[0mmin_x\u001b[0m\u001b[0;34m(\u001b[0m\u001b[0malpha\u001b[0m\u001b[0;34m,\u001b[0m \u001b[0mbeta\u001b[0m\u001b[0;34m,\u001b[0m \u001b[0mgamma\u001b[0m\u001b[0;34m)\u001b[0m\u001b[0;34m:\u001b[0m\u001b[0;34m\u001b[0m\u001b[0;34m\u001b[0m\u001b[0m\n\u001b[1;32m      8\u001b[0m     \u001b[0mbeta\u001b[0m \u001b[0;34m=\u001b[0m \u001b[0;32mNone\u001b[0m\u001b[0;34m\u001b[0m\u001b[0;34m\u001b[0m\u001b[0m\n\u001b[0;32m----> 9\u001b[0;31m     \u001b[0mmini\u001b[0m \u001b[0;34m=\u001b[0m \u001b[0mminimize\u001b[0m\u001b[0;34m(\u001b[0m\u001b[0mmy_func\u001b[0m\u001b[0;34m,\u001b[0m \u001b[0mx0\u001b[0m\u001b[0;34m,\u001b[0m \u001b[0margs\u001b[0m \u001b[0;34m=\u001b[0m \u001b[0;34m(\u001b[0m\u001b[0malpha\u001b[0m\u001b[0;34m,\u001b[0m \u001b[0mbeta\u001b[0m\u001b[0;34m)\u001b[0m\u001b[0;34m,\u001b[0m \u001b[0mmethod\u001b[0m \u001b[0;34m=\u001b[0m \u001b[0;34m'BFGS'\u001b[0m\u001b[0;34m,\u001b[0m \u001b[0moptions\u001b[0m \u001b[0;34m=\u001b[0m \u001b[0;34m{\u001b[0m\u001b[0;34m'gtol'\u001b[0m\u001b[0;34m:\u001b[0m \u001b[0;36m1e-3\u001b[0m\u001b[0;34m}\u001b[0m\u001b[0;34m)\u001b[0m\u001b[0;34m\u001b[0m\u001b[0;34m\u001b[0m\u001b[0m\n\u001b[0m\u001b[1;32m     10\u001b[0m     \u001b[0mmin_x\u001b[0m \u001b[0;34m=\u001b[0m \u001b[0mmini\u001b[0m\u001b[0;34m.\u001b[0m\u001b[0mx\u001b[0m\u001b[0;34m[\u001b[0m\u001b[0;36m0\u001b[0m\u001b[0;34m]\u001b[0m\u001b[0;34m\u001b[0m\u001b[0;34m\u001b[0m\u001b[0m\n\u001b[1;32m     11\u001b[0m     \u001b[0;32mreturn\u001b[0m \u001b[0mmin_x\u001b[0m\u001b[0;34m\u001b[0m\u001b[0;34m\u001b[0m\u001b[0m\n",
      "\u001b[0;32m~/.local/lib/python3.6/site-packages/scipy/optimize/_minimize.py\u001b[0m in \u001b[0;36mminimize\u001b[0;34m(fun, x0, args, method, jac, hess, hessp, bounds, constraints, tol, callback, options)\u001b[0m\n\u001b[1;32m    610\u001b[0m         \u001b[0;32mreturn\u001b[0m \u001b[0m_minimize_cg\u001b[0m\u001b[0;34m(\u001b[0m\u001b[0mfun\u001b[0m\u001b[0;34m,\u001b[0m \u001b[0mx0\u001b[0m\u001b[0;34m,\u001b[0m \u001b[0margs\u001b[0m\u001b[0;34m,\u001b[0m \u001b[0mjac\u001b[0m\u001b[0;34m,\u001b[0m \u001b[0mcallback\u001b[0m\u001b[0;34m,\u001b[0m \u001b[0;34m**\u001b[0m\u001b[0moptions\u001b[0m\u001b[0;34m)\u001b[0m\u001b[0;34m\u001b[0m\u001b[0;34m\u001b[0m\u001b[0m\n\u001b[1;32m    611\u001b[0m     \u001b[0;32melif\u001b[0m \u001b[0mmeth\u001b[0m \u001b[0;34m==\u001b[0m \u001b[0;34m'bfgs'\u001b[0m\u001b[0;34m:\u001b[0m\u001b[0;34m\u001b[0m\u001b[0;34m\u001b[0m\u001b[0m\n\u001b[0;32m--> 612\u001b[0;31m         \u001b[0;32mreturn\u001b[0m \u001b[0m_minimize_bfgs\u001b[0m\u001b[0;34m(\u001b[0m\u001b[0mfun\u001b[0m\u001b[0;34m,\u001b[0m \u001b[0mx0\u001b[0m\u001b[0;34m,\u001b[0m \u001b[0margs\u001b[0m\u001b[0;34m,\u001b[0m \u001b[0mjac\u001b[0m\u001b[0;34m,\u001b[0m \u001b[0mcallback\u001b[0m\u001b[0;34m,\u001b[0m \u001b[0;34m**\u001b[0m\u001b[0moptions\u001b[0m\u001b[0;34m)\u001b[0m\u001b[0;34m\u001b[0m\u001b[0;34m\u001b[0m\u001b[0m\n\u001b[0m\u001b[1;32m    613\u001b[0m     \u001b[0;32melif\u001b[0m \u001b[0mmeth\u001b[0m \u001b[0;34m==\u001b[0m \u001b[0;34m'newton-cg'\u001b[0m\u001b[0;34m:\u001b[0m\u001b[0;34m\u001b[0m\u001b[0;34m\u001b[0m\u001b[0m\n\u001b[1;32m    614\u001b[0m         return _minimize_newtoncg(fun, x0, args, jac, hess, hessp, callback,\n",
      "\u001b[0;32m~/.local/lib/python3.6/site-packages/scipy/optimize/optimize.py\u001b[0m in \u001b[0;36m_minimize_bfgs\u001b[0;34m(fun, x0, args, jac, callback, gtol, norm, eps, maxiter, disp, return_all, finite_diff_rel_step, **unknown_options)\u001b[0m\n\u001b[1;32m   1100\u001b[0m \u001b[0;34m\u001b[0m\u001b[0m\n\u001b[1;32m   1101\u001b[0m     sf = _prepare_scalar_function(fun, x0, jac, args=args, epsilon=eps,\n\u001b[0;32m-> 1102\u001b[0;31m                                   finite_diff_rel_step=finite_diff_rel_step)\n\u001b[0m\u001b[1;32m   1103\u001b[0m \u001b[0;34m\u001b[0m\u001b[0m\n\u001b[1;32m   1104\u001b[0m     \u001b[0mf\u001b[0m \u001b[0;34m=\u001b[0m \u001b[0msf\u001b[0m\u001b[0;34m.\u001b[0m\u001b[0mfun\u001b[0m\u001b[0;34m\u001b[0m\u001b[0;34m\u001b[0m\u001b[0m\n",
      "\u001b[0;32m~/.local/lib/python3.6/site-packages/scipy/optimize/optimize.py\u001b[0m in \u001b[0;36m_prepare_scalar_function\u001b[0;34m(fun, x0, jac, args, bounds, epsilon, finite_diff_rel_step, hess)\u001b[0m\n\u001b[1;32m    260\u001b[0m     \u001b[0;31m# calculation reduces overall function evaluations.\u001b[0m\u001b[0;34m\u001b[0m\u001b[0;34m\u001b[0m\u001b[0;34m\u001b[0m\u001b[0m\n\u001b[1;32m    261\u001b[0m     sf = ScalarFunction(fun, x0, args, grad, hess,\n\u001b[0;32m--> 262\u001b[0;31m                         finite_diff_rel_step, bounds, epsilon=epsilon)\n\u001b[0m\u001b[1;32m    263\u001b[0m \u001b[0;34m\u001b[0m\u001b[0m\n\u001b[1;32m    264\u001b[0m     \u001b[0;32mreturn\u001b[0m \u001b[0msf\u001b[0m\u001b[0;34m\u001b[0m\u001b[0;34m\u001b[0m\u001b[0m\n",
      "\u001b[0;32m~/.local/lib/python3.6/site-packages/scipy/optimize/_differentiable_functions.py\u001b[0m in \u001b[0;36m__init__\u001b[0;34m(self, fun, x0, args, grad, hess, finite_diff_rel_step, finite_diff_bounds, epsilon)\u001b[0m\n\u001b[1;32m     93\u001b[0m \u001b[0;34m\u001b[0m\u001b[0m\n\u001b[1;32m     94\u001b[0m         \u001b[0mself\u001b[0m\u001b[0;34m.\u001b[0m\u001b[0m_update_grad_impl\u001b[0m \u001b[0;34m=\u001b[0m \u001b[0mupdate_grad\u001b[0m\u001b[0;34m\u001b[0m\u001b[0;34m\u001b[0m\u001b[0m\n\u001b[0;32m---> 95\u001b[0;31m         \u001b[0mself\u001b[0m\u001b[0;34m.\u001b[0m\u001b[0m_update_grad\u001b[0m\u001b[0;34m(\u001b[0m\u001b[0;34m)\u001b[0m\u001b[0;34m\u001b[0m\u001b[0;34m\u001b[0m\u001b[0m\n\u001b[0m\u001b[1;32m     96\u001b[0m \u001b[0;34m\u001b[0m\u001b[0m\n\u001b[1;32m     97\u001b[0m         \u001b[0;31m# Hessian Evaluation\u001b[0m\u001b[0;34m\u001b[0m\u001b[0;34m\u001b[0m\u001b[0;34m\u001b[0m\u001b[0m\n",
      "\u001b[0;32m~/.local/lib/python3.6/site-packages/scipy/optimize/_differentiable_functions.py\u001b[0m in \u001b[0;36m_update_grad\u001b[0;34m(self)\u001b[0m\n\u001b[1;32m    169\u001b[0m     \u001b[0;32mdef\u001b[0m \u001b[0m_update_grad\u001b[0m\u001b[0;34m(\u001b[0m\u001b[0mself\u001b[0m\u001b[0;34m)\u001b[0m\u001b[0;34m:\u001b[0m\u001b[0;34m\u001b[0m\u001b[0;34m\u001b[0m\u001b[0m\n\u001b[1;32m    170\u001b[0m         \u001b[0;32mif\u001b[0m \u001b[0;32mnot\u001b[0m \u001b[0mself\u001b[0m\u001b[0;34m.\u001b[0m\u001b[0mg_updated\u001b[0m\u001b[0;34m:\u001b[0m\u001b[0;34m\u001b[0m\u001b[0;34m\u001b[0m\u001b[0m\n\u001b[0;32m--> 171\u001b[0;31m             \u001b[0mself\u001b[0m\u001b[0;34m.\u001b[0m\u001b[0m_update_grad_impl\u001b[0m\u001b[0;34m(\u001b[0m\u001b[0;34m)\u001b[0m\u001b[0;34m\u001b[0m\u001b[0;34m\u001b[0m\u001b[0m\n\u001b[0m\u001b[1;32m    172\u001b[0m             \u001b[0mself\u001b[0m\u001b[0;34m.\u001b[0m\u001b[0mg_updated\u001b[0m \u001b[0;34m=\u001b[0m \u001b[0;32mTrue\u001b[0m\u001b[0;34m\u001b[0m\u001b[0;34m\u001b[0m\u001b[0m\n\u001b[1;32m    173\u001b[0m \u001b[0;34m\u001b[0m\u001b[0m\n",
      "\u001b[0;32m~/.local/lib/python3.6/site-packages/scipy/optimize/_differentiable_functions.py\u001b[0m in \u001b[0;36mupdate_grad\u001b[0;34m()\u001b[0m\n\u001b[1;32m     90\u001b[0m                 \u001b[0mself\u001b[0m\u001b[0;34m.\u001b[0m\u001b[0mngev\u001b[0m \u001b[0;34m+=\u001b[0m \u001b[0;36m1\u001b[0m\u001b[0;34m\u001b[0m\u001b[0;34m\u001b[0m\u001b[0m\n\u001b[1;32m     91\u001b[0m                 self.g = approx_derivative(fun_wrapped, self.x, f0=self.f,\n\u001b[0;32m---> 92\u001b[0;31m                                            **finite_diff_options)\n\u001b[0m\u001b[1;32m     93\u001b[0m \u001b[0;34m\u001b[0m\u001b[0m\n\u001b[1;32m     94\u001b[0m         \u001b[0mself\u001b[0m\u001b[0;34m.\u001b[0m\u001b[0m_update_grad_impl\u001b[0m \u001b[0;34m=\u001b[0m \u001b[0mupdate_grad\u001b[0m\u001b[0;34m\u001b[0m\u001b[0;34m\u001b[0m\u001b[0m\n",
      "\u001b[0;32m~/.local/lib/python3.6/site-packages/scipy/optimize/_numdiff.py\u001b[0m in \u001b[0;36mapprox_derivative\u001b[0;34m(fun, x0, method, rel_step, abs_step, f0, bounds, sparsity, as_linear_operator, args, kwargs)\u001b[0m\n\u001b[1;32m    384\u001b[0m         \u001b[0mf0\u001b[0m \u001b[0;34m=\u001b[0m \u001b[0mfun_wrapped\u001b[0m\u001b[0;34m(\u001b[0m\u001b[0mx0\u001b[0m\u001b[0;34m)\u001b[0m\u001b[0;34m\u001b[0m\u001b[0;34m\u001b[0m\u001b[0m\n\u001b[1;32m    385\u001b[0m     \u001b[0;32melse\u001b[0m\u001b[0;34m:\u001b[0m\u001b[0;34m\u001b[0m\u001b[0;34m\u001b[0m\u001b[0m\n\u001b[0;32m--> 386\u001b[0;31m         \u001b[0mf0\u001b[0m \u001b[0;34m=\u001b[0m \u001b[0mnp\u001b[0m\u001b[0;34m.\u001b[0m\u001b[0matleast_1d\u001b[0m\u001b[0;34m(\u001b[0m\u001b[0mf0\u001b[0m\u001b[0;34m)\u001b[0m\u001b[0;34m\u001b[0m\u001b[0;34m\u001b[0m\u001b[0m\n\u001b[0m\u001b[1;32m    387\u001b[0m         \u001b[0;32mif\u001b[0m \u001b[0mf0\u001b[0m\u001b[0;34m.\u001b[0m\u001b[0mndim\u001b[0m \u001b[0;34m>\u001b[0m \u001b[0;36m1\u001b[0m\u001b[0;34m:\u001b[0m\u001b[0;34m\u001b[0m\u001b[0;34m\u001b[0m\u001b[0m\n\u001b[1;32m    388\u001b[0m             \u001b[0;32mraise\u001b[0m \u001b[0mValueError\u001b[0m\u001b[0;34m(\u001b[0m\u001b[0;34m\"`f0` passed has more than 1 dimension.\"\u001b[0m\u001b[0;34m)\u001b[0m\u001b[0;34m\u001b[0m\u001b[0;34m\u001b[0m\u001b[0m\n",
      "\u001b[0;32m<__array_function__ internals>\u001b[0m in \u001b[0;36matleast_1d\u001b[0;34m(*args, **kwargs)\u001b[0m\n",
      "\u001b[0;32m~/.local/lib/python3.6/site-packages/numpy/core/shape_base.py\u001b[0m in \u001b[0;36matleast_1d\u001b[0;34m(*arys)\u001b[0m\n\u001b[1;32m     64\u001b[0m     \u001b[0mres\u001b[0m \u001b[0;34m=\u001b[0m \u001b[0;34m[\u001b[0m\u001b[0;34m]\u001b[0m\u001b[0;34m\u001b[0m\u001b[0;34m\u001b[0m\u001b[0m\n\u001b[1;32m     65\u001b[0m     \u001b[0;32mfor\u001b[0m \u001b[0mary\u001b[0m \u001b[0;32min\u001b[0m \u001b[0marys\u001b[0m\u001b[0;34m:\u001b[0m\u001b[0;34m\u001b[0m\u001b[0;34m\u001b[0m\u001b[0m\n\u001b[0;32m---> 66\u001b[0;31m         \u001b[0mary\u001b[0m \u001b[0;34m=\u001b[0m \u001b[0masanyarray\u001b[0m\u001b[0;34m(\u001b[0m\u001b[0mary\u001b[0m\u001b[0;34m)\u001b[0m\u001b[0;34m\u001b[0m\u001b[0;34m\u001b[0m\u001b[0m\n\u001b[0m\u001b[1;32m     67\u001b[0m         \u001b[0;32mif\u001b[0m \u001b[0mary\u001b[0m\u001b[0;34m.\u001b[0m\u001b[0mndim\u001b[0m \u001b[0;34m==\u001b[0m \u001b[0;36m0\u001b[0m\u001b[0;34m:\u001b[0m\u001b[0;34m\u001b[0m\u001b[0;34m\u001b[0m\u001b[0m\n\u001b[1;32m     68\u001b[0m             \u001b[0mresult\u001b[0m \u001b[0;34m=\u001b[0m \u001b[0mary\u001b[0m\u001b[0;34m.\u001b[0m\u001b[0mreshape\u001b[0m\u001b[0;34m(\u001b[0m\u001b[0;36m1\u001b[0m\u001b[0;34m)\u001b[0m\u001b[0;34m\u001b[0m\u001b[0;34m\u001b[0m\u001b[0m\n",
      "\u001b[0;32m~/.local/lib/python3.6/site-packages/numpy/core/_asarray.py\u001b[0m in \u001b[0;36masanyarray\u001b[0;34m(a, dtype, order)\u001b[0m\n\u001b[1;32m    134\u001b[0m \u001b[0;34m\u001b[0m\u001b[0m\n\u001b[1;32m    135\u001b[0m     \"\"\"\n\u001b[0;32m--> 136\u001b[0;31m     \u001b[0;32mreturn\u001b[0m \u001b[0marray\u001b[0m\u001b[0;34m(\u001b[0m\u001b[0ma\u001b[0m\u001b[0;34m,\u001b[0m \u001b[0mdtype\u001b[0m\u001b[0;34m,\u001b[0m \u001b[0mcopy\u001b[0m\u001b[0;34m=\u001b[0m\u001b[0;32mFalse\u001b[0m\u001b[0;34m,\u001b[0m \u001b[0morder\u001b[0m\u001b[0;34m=\u001b[0m\u001b[0morder\u001b[0m\u001b[0;34m,\u001b[0m \u001b[0msubok\u001b[0m\u001b[0;34m=\u001b[0m\u001b[0;32mTrue\u001b[0m\u001b[0;34m)\u001b[0m\u001b[0;34m\u001b[0m\u001b[0;34m\u001b[0m\u001b[0m\n\u001b[0m\u001b[1;32m    137\u001b[0m \u001b[0;34m\u001b[0m\u001b[0m\n\u001b[1;32m    138\u001b[0m \u001b[0;34m\u001b[0m\u001b[0m\n",
      "\u001b[0;31mTracerArrayConversionError\u001b[0m: The numpy.ndarray conversion method __array__() was called on the JAX Tracer object Traced<ConcreteArray(3.62)>with<JVPTrace(level=2/0)>\n  with primal = DeviceArray(3.62, dtype=float64)\n       tangent = Traced<ShapedArray(float64[])>with<BatchTrace(level=1/0)>\n                   with val = DeviceArray([4.22], dtype=float64)\n                        batch_dim = 0\nSee https://jax.readthedocs.io/en/latest/errors.html#jax.errors.TracerArrayConversionError"
     ]
    }
   ],
   "source": [
    "minimize(min_x_with_grad, alpha0, args = (beta, gamma), method = 'BFGS', jac = True, options = {'gtol': 1e-3, 'maxiter': 10})"
   ]
  },
  {
   "cell_type": "markdown",
   "metadata": {},
   "source": [
    "compute directly the Hessian"
   ]
  },
  {
   "cell_type": "code",
   "execution_count": null,
   "metadata": {},
   "outputs": [],
   "source": [
    "def my_func(lambdas, alpha):\n",
    "    A = np.identity(len(lambdas))*alpha\n",
    "    b = np.ones(len(lambdas))*alpha\n",
    "    f = np.einsum('i,ij,j',lambdas,A,lambdas)+np.dot(b,lambdas)\n",
    "    \n",
    "    return f"
   ]
  },
  {
   "cell_type": "code",
   "execution_count": null,
   "metadata": {},
   "outputs": [
    {
     "data": {
      "text/plain": [
       "DeviceArray([0.82396566, 0.47126652, 0.54341763, 0.81843911, 0.30040287],            dtype=float64)"
      ]
     },
     "metadata": {},
     "output_type": "display_data"
    }
   ],
   "source": [
    "key = jax.random.PRNGKey(140896)\n",
    "\n",
    "lambdas = jax.random.uniform(key, shape = (5,))\n",
    "lambdas"
   ]
  },
  {
   "cell_type": "code",
   "execution_count": null,
   "metadata": {},
   "outputs": [
    {
     "data": {
      "text/plain": [
       "DeviceArray([5.29586264, 3.88506607, 4.1736705 , 5.27375644, 3.20161148],            dtype=float64)"
      ]
     },
     "metadata": {},
     "output_type": "display_data"
    }
   ],
   "source": [
    "gradient = grad(my_func,argnums=0)\n",
    "\n",
    "alpha = 2.0\n",
    "\n",
    "gradient(lambdas,alpha)"
   ]
  },
  {
   "cell_type": "code",
   "execution_count": null,
   "metadata": {},
   "outputs": [
    {
     "ename": "TypeError",
     "evalue": "Gradient only defined for scalar-output functions. Output had shape: (5,).",
     "output_type": "error",
     "traceback": [
      "\u001b[0;31m---------------------------------------------------------------------------\u001b[0m\n",
      "\u001b[0;31mUnfilteredStackTrace\u001b[0m                      Traceback (most recent call last)\n",
      "\u001b[0;32m<ipython-input-149-1957de83a0b1>\u001b[0m in \u001b[0;36m<module>\u001b[0;34m\u001b[0m\n",
      "\u001b[1;32m      2\u001b[0m \u001b[0;34m\u001b[0m\u001b[0m\n",
      "\u001b[0;32m----> 3\u001b[0;31m \u001b[0md2f_dxdy\u001b[0m\u001b[0;34m(\u001b[0m\u001b[0mlambdas\u001b[0m\u001b[0;34m,\u001b[0m\u001b[0malpha\u001b[0m\u001b[0;34m)\u001b[0m\u001b[0;34m\u001b[0m\u001b[0;34m\u001b[0m\u001b[0m\n",
      "\u001b[0m\n",
      "    \u001b[0;31m[... skipping hidden 1 frame]\u001b[0m\n",
      "\n",
      "\u001b[0;32m~/.local/lib/python3.6/site-packages/jax/_src/api.py\u001b[0m in \u001b[0;36mgrad_f\u001b[0;34m(*args, **kwargs)\u001b[0m\n",
      "\u001b[1;32m    828\u001b[0m   \u001b[0;32mdef\u001b[0m \u001b[0mgrad_f\u001b[0m\u001b[0;34m(\u001b[0m\u001b[0;34m*\u001b[0m\u001b[0margs\u001b[0m\u001b[0;34m,\u001b[0m \u001b[0;34m**\u001b[0m\u001b[0mkwargs\u001b[0m\u001b[0;34m)\u001b[0m\u001b[0;34m:\u001b[0m\u001b[0;34m\u001b[0m\u001b[0;34m\u001b[0m\u001b[0m\n",
      "\u001b[0;32m--> 829\u001b[0;31m     \u001b[0m_\u001b[0m\u001b[0;34m,\u001b[0m \u001b[0mg\u001b[0m \u001b[0;34m=\u001b[0m \u001b[0mvalue_and_grad_f\u001b[0m\u001b[0;34m(\u001b[0m\u001b[0;34m*\u001b[0m\u001b[0margs\u001b[0m\u001b[0;34m,\u001b[0m \u001b[0;34m**\u001b[0m\u001b[0mkwargs\u001b[0m\u001b[0;34m)\u001b[0m\u001b[0;34m\u001b[0m\u001b[0;34m\u001b[0m\u001b[0m\n",
      "\u001b[0m\u001b[1;32m    830\u001b[0m     \u001b[0;32mreturn\u001b[0m \u001b[0mg\u001b[0m\u001b[0;34m\u001b[0m\u001b[0;34m\u001b[0m\u001b[0m\n",
      "\n",
      "    \u001b[0;31m[... skipping hidden 1 frame]\u001b[0m\n",
      "\n",
      "\u001b[0;32m~/.local/lib/python3.6/site-packages/jax/_src/api.py\u001b[0m in \u001b[0;36mvalue_and_grad_f\u001b[0;34m(*args, **kwargs)\u001b[0m\n",
      "\u001b[1;32m    904\u001b[0m           f_partial, *dyn_args, has_aux=True, reduce_axes=reduce_axes)\n",
      "\u001b[0;32m--> 905\u001b[0;31m     \u001b[0m_check_scalar\u001b[0m\u001b[0;34m(\u001b[0m\u001b[0mans\u001b[0m\u001b[0;34m)\u001b[0m\u001b[0;34m\u001b[0m\u001b[0;34m\u001b[0m\u001b[0m\n",
      "\u001b[0m\u001b[1;32m    906\u001b[0m     \u001b[0mdtype\u001b[0m \u001b[0;34m=\u001b[0m \u001b[0mdtypes\u001b[0m\u001b[0;34m.\u001b[0m\u001b[0mresult_type\u001b[0m\u001b[0;34m(\u001b[0m\u001b[0mans\u001b[0m\u001b[0;34m)\u001b[0m\u001b[0;34m\u001b[0m\u001b[0;34m\u001b[0m\u001b[0m\n",
      "\n",
      "\u001b[0;32m~/.local/lib/python3.6/site-packages/jax/_src/api.py\u001b[0m in \u001b[0;36m_check_scalar\u001b[0;34m(x)\u001b[0m\n",
      "\u001b[1;32m    925\u001b[0m       \u001b[0;32mif\u001b[0m \u001b[0maval\u001b[0m\u001b[0;34m.\u001b[0m\u001b[0mshape\u001b[0m \u001b[0;34m!=\u001b[0m \u001b[0;34m(\u001b[0m\u001b[0;34m)\u001b[0m\u001b[0;34m:\u001b[0m\u001b[0;34m\u001b[0m\u001b[0;34m\u001b[0m\u001b[0m\n",
      "\u001b[0;32m--> 926\u001b[0;31m         \u001b[0;32mraise\u001b[0m \u001b[0mTypeError\u001b[0m\u001b[0;34m(\u001b[0m\u001b[0mmsg\u001b[0m\u001b[0;34m(\u001b[0m\u001b[0;34mf\"had shape: {aval.shape}\"\u001b[0m\u001b[0;34m)\u001b[0m\u001b[0;34m)\u001b[0m\u001b[0;34m\u001b[0m\u001b[0;34m\u001b[0m\u001b[0m\n",
      "\u001b[0m\u001b[1;32m    927\u001b[0m     \u001b[0;32melse\u001b[0m\u001b[0;34m:\u001b[0m\u001b[0;34m\u001b[0m\u001b[0;34m\u001b[0m\u001b[0m\n",
      "\n",
      "\u001b[0;31mUnfilteredStackTrace\u001b[0m: TypeError: Gradient only defined for scalar-output functions. Output had shape: (5,).\n",
      "\n",
      "The stack trace below excludes JAX-internal frames.\n",
      "The preceding is the original exception that occurred, unmodified.\n",
      "\n",
      "--------------------\n",
      "\n",
      "The above exception was the direct cause of the following exception:\n",
      "\n",
      "\u001b[0;31mTypeError\u001b[0m                                 Traceback (most recent call last)\n",
      "\u001b[0;32m<ipython-input-149-1957de83a0b1>\u001b[0m in \u001b[0;36m<module>\u001b[0;34m\u001b[0m\n",
      "\u001b[1;32m      1\u001b[0m \u001b[0md2f_dxdy\u001b[0m \u001b[0;34m=\u001b[0m \u001b[0mgrad\u001b[0m\u001b[0;34m(\u001b[0m\u001b[0mgradient\u001b[0m\u001b[0;34m,\u001b[0m \u001b[0margnums\u001b[0m \u001b[0;34m=\u001b[0m \u001b[0;36m1\u001b[0m\u001b[0;34m)\u001b[0m\u001b[0;34m\u001b[0m\u001b[0;34m\u001b[0m\u001b[0m\n",
      "\u001b[1;32m      2\u001b[0m \u001b[0;34m\u001b[0m\u001b[0m\n",
      "\u001b[0;32m----> 3\u001b[0;31m \u001b[0md2f_dxdy\u001b[0m\u001b[0;34m(\u001b[0m\u001b[0mlambdas\u001b[0m\u001b[0;34m,\u001b[0m\u001b[0malpha\u001b[0m\u001b[0;34m)\u001b[0m\u001b[0;34m\u001b[0m\u001b[0;34m\u001b[0m\u001b[0m\n",
      "\u001b[0m\n",
      "\u001b[0;32m~/.local/lib/python3.6/site-packages/jax/_src/api.py\u001b[0m in \u001b[0;36m_check_scalar\u001b[0;34m(x)\u001b[0m\n",
      "\u001b[1;32m    924\u001b[0m     \u001b[0;32mif\u001b[0m \u001b[0misinstance\u001b[0m\u001b[0;34m(\u001b[0m\u001b[0maval\u001b[0m\u001b[0;34m,\u001b[0m \u001b[0mShapedArray\u001b[0m\u001b[0;34m)\u001b[0m\u001b[0;34m:\u001b[0m\u001b[0;34m\u001b[0m\u001b[0;34m\u001b[0m\u001b[0m\n",
      "\u001b[1;32m    925\u001b[0m       \u001b[0;32mif\u001b[0m \u001b[0maval\u001b[0m\u001b[0;34m.\u001b[0m\u001b[0mshape\u001b[0m \u001b[0;34m!=\u001b[0m \u001b[0;34m(\u001b[0m\u001b[0;34m)\u001b[0m\u001b[0;34m:\u001b[0m\u001b[0;34m\u001b[0m\u001b[0;34m\u001b[0m\u001b[0m\n",
      "\u001b[0;32m--> 926\u001b[0;31m         \u001b[0;32mraise\u001b[0m \u001b[0mTypeError\u001b[0m\u001b[0;34m(\u001b[0m\u001b[0mmsg\u001b[0m\u001b[0;34m(\u001b[0m\u001b[0;34mf\"had shape: {aval.shape}\"\u001b[0m\u001b[0;34m)\u001b[0m\u001b[0;34m)\u001b[0m\u001b[0;34m\u001b[0m\u001b[0;34m\u001b[0m\u001b[0m\n",
      "\u001b[0m\u001b[1;32m    927\u001b[0m     \u001b[0;32melse\u001b[0m\u001b[0;34m:\u001b[0m\u001b[0;34m\u001b[0m\u001b[0;34m\u001b[0m\u001b[0m\n",
      "\u001b[1;32m    928\u001b[0m       \u001b[0;32mraise\u001b[0m \u001b[0mTypeError\u001b[0m\u001b[0;34m(\u001b[0m\u001b[0mmsg\u001b[0m\u001b[0;34m(\u001b[0m\u001b[0;34mf\"had abstract value {aval}\"\u001b[0m\u001b[0;34m)\u001b[0m\u001b[0;34m)\u001b[0m\u001b[0;34m\u001b[0m\u001b[0;34m\u001b[0m\u001b[0m\n",
      "\n",
      "\u001b[0;31mTypeError\u001b[0m: Gradient only defined for scalar-output functions. Output had shape: (5,)."
     ]
    }
   ],
   "source": [
    "d2f_dxdy = grad(gradient, argnums = 1)\n",
    "\n",
    "d2f_dxdy(lambdas,alpha)\n"
   ]
  },
  {
   "cell_type": "code",
   "execution_count": null,
   "metadata": {},
   "outputs": [
    {
     "data": {
      "text/plain": [
       "DeviceArray([[4., 0., 0., 0., 0.],\n",
       "             [0., 4., 0., 0., 0.],\n",
       "             [0., 0., 4., 0., 0.],\n",
       "             [0., 0., 0., 4., 0.],\n",
       "             [0., 0., 0., 0., 4.]], dtype=float64)"
      ]
     },
     "metadata": {},
     "output_type": "display_data"
    }
   ],
   "source": [
    "Hess = hessian(my_func,argnums = 0)\n",
    "\n",
    "my_hessian = Hess(lambdas, alpha)\n",
    "\n",
    "Hess_inv = np.linalg.inv(my_hessian)\n",
    "np.einsum(Hess_inv,)"
   ]
  }
 ],
 "metadata": {
  "kernelspec": {
   "display_name": "Python 3.6.8 64-bit",
   "language": "python",
   "name": "python3"
  },
  "language_info": {
   "codemirror_mode": {
    "name": "ipython",
    "version": 3
   },
   "file_extension": ".py",
   "mimetype": "text/x-python",
   "name": "python",
   "nbconvert_exporter": "python",
   "pygments_lexer": "ipython3",
   "version": "3.6.8"
  },
  "orig_nbformat": 4,
  "vscode": {
   "interpreter": {
    "hash": "916dbcbb3f70747c44a77c7bcd40155683ae19c65e1c03b4aa3499c5328201f1"
   }
  }
 },
 "nbformat": 4,
 "nbformat_minor": 2
}
