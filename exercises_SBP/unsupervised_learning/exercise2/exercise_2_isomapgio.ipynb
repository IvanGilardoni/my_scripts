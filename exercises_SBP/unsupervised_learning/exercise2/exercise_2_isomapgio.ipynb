{
 "cells": [
  {
   "cell_type": "markdown",
   "id": "4d254f7f-d5a7-4587-99c7-46c846faa1fb",
   "metadata": {},
   "source": [
    "# Second Exercise\n",
    "Implement **ISOMAP**, project the data set into 2D and color by label"
   ]
  },
  {
   "cell_type": "code",
   "execution_count": 23,
   "id": "1d900fc5-7a9d-47f8-955d-5701753b97e1",
   "metadata": {},
   "outputs": [],
   "source": [
    "# Importing dependencies\n",
    "import pandas as pd\n",
    "import numpy as np\n",
    "import matplotlib.pyplot as plt\n",
    "import seaborn as sns\n",
    "from scipy.spatial import distance_matrix\n",
    "from sklearn.preprocessing import KernelCenterer\n",
    "from scipy.sparse.linalg import eigsh, eigs\n",
    "import time\n",
    "sns.set_theme()"
   ]
  },
  {
   "cell_type": "code",
   "execution_count": 24,
   "id": "8bfcd915-cdd3-412e-9161-0cf09f7624c1",
   "metadata": {},
   "outputs": [
    {
     "data": {
      "text/html": [
       "<div>\n",
       "<style scoped>\n",
       "    .dataframe tbody tr th:only-of-type {\n",
       "        vertical-align: middle;\n",
       "    }\n",
       "\n",
       "    .dataframe tbody tr th {\n",
       "        vertical-align: top;\n",
       "    }\n",
       "\n",
       "    .dataframe thead th {\n",
       "        text-align: right;\n",
       "    }\n",
       "</style>\n",
       "<table border=\"1\" class=\"dataframe\">\n",
       "  <thead>\n",
       "    <tr style=\"text-align: right;\">\n",
       "      <th></th>\n",
       "      <th>0</th>\n",
       "      <th>1</th>\n",
       "      <th>2</th>\n",
       "      <th>3</th>\n",
       "      <th>4</th>\n",
       "      <th>5</th>\n",
       "      <th>6</th>\n",
       "      <th>7</th>\n",
       "      <th>8</th>\n",
       "      <th>9</th>\n",
       "    </tr>\n",
       "  </thead>\n",
       "  <tbody>\n",
       "    <tr>\n",
       "      <th>0</th>\n",
       "      <td>-9.950660</td>\n",
       "      <td>-4.417700</td>\n",
       "      <td>0.007956</td>\n",
       "      <td>6.630160</td>\n",
       "      <td>-0.281363</td>\n",
       "      <td>-0.187473</td>\n",
       "      <td>0.525670</td>\n",
       "      <td>-27.901300</td>\n",
       "      <td>-8.253580</td>\n",
       "      <td>0.000631</td>\n",
       "    </tr>\n",
       "    <tr>\n",
       "      <th>1</th>\n",
       "      <td>-8.465530</td>\n",
       "      <td>0.746013</td>\n",
       "      <td>-0.602208</td>\n",
       "      <td>-2.513050</td>\n",
       "      <td>2.257880</td>\n",
       "      <td>-0.670265</td>\n",
       "      <td>1.733490</td>\n",
       "      <td>-21.894200</td>\n",
       "      <td>0.572752</td>\n",
       "      <td>-0.415401</td>\n",
       "    </tr>\n",
       "    <tr>\n",
       "      <th>2</th>\n",
       "      <td>0.253353</td>\n",
       "      <td>-0.016910</td>\n",
       "      <td>-4.777830</td>\n",
       "      <td>-0.065455</td>\n",
       "      <td>-1.100220</td>\n",
       "      <td>0.284246</td>\n",
       "      <td>0.127176</td>\n",
       "      <td>0.113354</td>\n",
       "      <td>-0.001955</td>\n",
       "      <td>-9.283100</td>\n",
       "    </tr>\n",
       "    <tr>\n",
       "      <th>3</th>\n",
       "      <td>0.390241</td>\n",
       "      <td>-0.279857</td>\n",
       "      <td>0.798763</td>\n",
       "      <td>-0.330472</td>\n",
       "      <td>0.558310</td>\n",
       "      <td>-0.472800</td>\n",
       "      <td>-0.262537</td>\n",
       "      <td>0.216694</td>\n",
       "      <td>-0.131599</td>\n",
       "      <td>0.634563</td>\n",
       "    </tr>\n",
       "    <tr>\n",
       "      <th>4</th>\n",
       "      <td>-8.274680</td>\n",
       "      <td>-4.399440</td>\n",
       "      <td>-0.716388</td>\n",
       "      <td>6.033570</td>\n",
       "      <td>2.434720</td>\n",
       "      <td>1.775300</td>\n",
       "      <td>-4.539370</td>\n",
       "      <td>-21.158000</td>\n",
       "      <td>-8.202450</td>\n",
       "      <td>-0.538976</td>\n",
       "    </tr>\n",
       "  </tbody>\n",
       "</table>\n",
       "</div>"
      ],
      "text/plain": [
       "          0         1         2         3         4         5         6  \\\n",
       "0 -9.950660 -4.417700  0.007956  6.630160 -0.281363 -0.187473  0.525670   \n",
       "1 -8.465530  0.746013 -0.602208 -2.513050  2.257880 -0.670265  1.733490   \n",
       "2  0.253353 -0.016910 -4.777830 -0.065455 -1.100220  0.284246  0.127176   \n",
       "3  0.390241 -0.279857  0.798763 -0.330472  0.558310 -0.472800 -0.262537   \n",
       "4 -8.274680 -4.399440 -0.716388  6.033570  2.434720  1.775300 -4.539370   \n",
       "\n",
       "           7         8         9  \n",
       "0 -27.901300 -8.253580  0.000631  \n",
       "1 -21.894200  0.572752 -0.415401  \n",
       "2   0.113354 -0.001955 -9.283100  \n",
       "3   0.216694 -0.131599  0.634563  \n",
       "4 -21.158000 -8.202450 -0.538976  "
      ]
     },
     "execution_count": 24,
     "metadata": {},
     "output_type": "execute_result"
    }
   ],
   "source": [
    "# Importing the dataset\n",
    "N = 500  # number of datapoints extracted\n",
    "\n",
    "df_X = pd.read_csv(\"Unsupervised-Learning-Datasets-main/data_kPCA.txt\", sep=\" \", header=None).drop(10,axis=1)\n",
    "X = df_X.values[0:n_points]\n",
    "n_features = X.shape[1]\n",
    "df_X.head()"
   ]
  },
  {
   "cell_type": "code",
   "execution_count": 25,
   "id": "49f1f90e-1e3d-495b-a64f-cb9f365d5240",
   "metadata": {},
   "outputs": [
    {
     "data": {
      "text/html": [
       "<div>\n",
       "<style scoped>\n",
       "    .dataframe tbody tr th:only-of-type {\n",
       "        vertical-align: middle;\n",
       "    }\n",
       "\n",
       "    .dataframe tbody tr th {\n",
       "        vertical-align: top;\n",
       "    }\n",
       "\n",
       "    .dataframe thead th {\n",
       "        text-align: right;\n",
       "    }\n",
       "</style>\n",
       "<table border=\"1\" class=\"dataframe\">\n",
       "  <thead>\n",
       "    <tr style=\"text-align: right;\">\n",
       "      <th></th>\n",
       "      <th>label</th>\n",
       "    </tr>\n",
       "  </thead>\n",
       "  <tbody>\n",
       "    <tr>\n",
       "      <th>0</th>\n",
       "      <td>0</td>\n",
       "    </tr>\n",
       "    <tr>\n",
       "      <th>1</th>\n",
       "      <td>3</td>\n",
       "    </tr>\n",
       "    <tr>\n",
       "      <th>2</th>\n",
       "      <td>3</td>\n",
       "    </tr>\n",
       "    <tr>\n",
       "      <th>3</th>\n",
       "      <td>2</td>\n",
       "    </tr>\n",
       "    <tr>\n",
       "      <th>4</th>\n",
       "      <td>0</td>\n",
       "    </tr>\n",
       "  </tbody>\n",
       "</table>\n",
       "</div>"
      ],
      "text/plain": [
       "   label\n",
       "0      0\n",
       "1      3\n",
       "2      3\n",
       "3      2\n",
       "4      0"
      ]
     },
     "execution_count": 25,
     "metadata": {},
     "output_type": "execute_result"
    }
   ],
   "source": [
    "df_y = pd.read_csv(\"Unsupervised-Learning-Datasets-main/labels_kPCA.txt\", sep=\" \", header=None)\n",
    "df_y.columns = [\"label\"]\n",
    "y = df_y.values[0:N]\n",
    "df_y.head()"
   ]
  },
  {
   "cell_type": "code",
   "execution_count": 26,
   "id": "545a7fab-0542-49f5-bb65-32439bd9b964",
   "metadata": {},
   "outputs": [
    {
     "data": {
      "text/html": [
       "<div>\n",
       "<style scoped>\n",
       "    .dataframe tbody tr th:only-of-type {\n",
       "        vertical-align: middle;\n",
       "    }\n",
       "\n",
       "    .dataframe tbody tr th {\n",
       "        vertical-align: top;\n",
       "    }\n",
       "\n",
       "    .dataframe thead th {\n",
       "        text-align: right;\n",
       "    }\n",
       "</style>\n",
       "<table border=\"1\" class=\"dataframe\">\n",
       "  <thead>\n",
       "    <tr style=\"text-align: right;\">\n",
       "      <th></th>\n",
       "      <th>0</th>\n",
       "      <th>1</th>\n",
       "      <th>2</th>\n",
       "      <th>3</th>\n",
       "      <th>4</th>\n",
       "      <th>5</th>\n",
       "      <th>6</th>\n",
       "      <th>7</th>\n",
       "      <th>8</th>\n",
       "      <th>9</th>\n",
       "      <th>label</th>\n",
       "    </tr>\n",
       "  </thead>\n",
       "  <tbody>\n",
       "    <tr>\n",
       "      <th>0</th>\n",
       "      <td>-9.950660</td>\n",
       "      <td>-4.417700</td>\n",
       "      <td>0.007956</td>\n",
       "      <td>6.630160</td>\n",
       "      <td>-0.281363</td>\n",
       "      <td>-0.187473</td>\n",
       "      <td>0.525670</td>\n",
       "      <td>-27.901300</td>\n",
       "      <td>-8.253580</td>\n",
       "      <td>0.000631</td>\n",
       "      <td>0</td>\n",
       "    </tr>\n",
       "    <tr>\n",
       "      <th>1</th>\n",
       "      <td>-8.465530</td>\n",
       "      <td>0.746013</td>\n",
       "      <td>-0.602208</td>\n",
       "      <td>-2.513050</td>\n",
       "      <td>2.257880</td>\n",
       "      <td>-0.670265</td>\n",
       "      <td>1.733490</td>\n",
       "      <td>-21.894200</td>\n",
       "      <td>0.572752</td>\n",
       "      <td>-0.415401</td>\n",
       "      <td>3</td>\n",
       "    </tr>\n",
       "    <tr>\n",
       "      <th>2</th>\n",
       "      <td>0.253353</td>\n",
       "      <td>-0.016910</td>\n",
       "      <td>-4.777830</td>\n",
       "      <td>-0.065455</td>\n",
       "      <td>-1.100220</td>\n",
       "      <td>0.284246</td>\n",
       "      <td>0.127176</td>\n",
       "      <td>0.113354</td>\n",
       "      <td>-0.001955</td>\n",
       "      <td>-9.283100</td>\n",
       "      <td>3</td>\n",
       "    </tr>\n",
       "    <tr>\n",
       "      <th>3</th>\n",
       "      <td>0.390241</td>\n",
       "      <td>-0.279857</td>\n",
       "      <td>0.798763</td>\n",
       "      <td>-0.330472</td>\n",
       "      <td>0.558310</td>\n",
       "      <td>-0.472800</td>\n",
       "      <td>-0.262537</td>\n",
       "      <td>0.216694</td>\n",
       "      <td>-0.131599</td>\n",
       "      <td>0.634563</td>\n",
       "      <td>2</td>\n",
       "    </tr>\n",
       "    <tr>\n",
       "      <th>4</th>\n",
       "      <td>-8.274680</td>\n",
       "      <td>-4.399440</td>\n",
       "      <td>-0.716388</td>\n",
       "      <td>6.033570</td>\n",
       "      <td>2.434720</td>\n",
       "      <td>1.775300</td>\n",
       "      <td>-4.539370</td>\n",
       "      <td>-21.158000</td>\n",
       "      <td>-8.202450</td>\n",
       "      <td>-0.538976</td>\n",
       "      <td>0</td>\n",
       "    </tr>\n",
       "  </tbody>\n",
       "</table>\n",
       "</div>"
      ],
      "text/plain": [
       "          0         1         2         3         4         5         6  \\\n",
       "0 -9.950660 -4.417700  0.007956  6.630160 -0.281363 -0.187473  0.525670   \n",
       "1 -8.465530  0.746013 -0.602208 -2.513050  2.257880 -0.670265  1.733490   \n",
       "2  0.253353 -0.016910 -4.777830 -0.065455 -1.100220  0.284246  0.127176   \n",
       "3  0.390241 -0.279857  0.798763 -0.330472  0.558310 -0.472800 -0.262537   \n",
       "4 -8.274680 -4.399440 -0.716388  6.033570  2.434720  1.775300 -4.539370   \n",
       "\n",
       "           7         8         9  label  \n",
       "0 -27.901300 -8.253580  0.000631      0  \n",
       "1 -21.894200  0.572752 -0.415401      3  \n",
       "2   0.113354 -0.001955 -9.283100      3  \n",
       "3   0.216694 -0.131599  0.634563      2  \n",
       "4 -21.158000 -8.202450 -0.538976      0  "
      ]
     },
     "execution_count": 26,
     "metadata": {},
     "output_type": "execute_result"
    }
   ],
   "source": [
    "# Concatenating the two dataframes\n",
    "df = pd.concat([df_X, df_y], axis=1)\n",
    "df.head()"
   ]
  },
  {
   "cell_type": "markdown",
   "id": "6580127b-33c2-4d08-93c3-eb96d2856f18",
   "metadata": {},
   "source": [
    "## 1. Data Preprocessing\n",
    "Preprocess the data in the first file by centering the variables and divide them by their standard deviation."
   ]
  },
  {
   "cell_type": "code",
   "execution_count": 27,
   "id": "805c2780-86bd-4a55-80bb-138c41d3ced9",
   "metadata": {},
   "outputs": [],
   "source": [
    "# Standardizing dataset\n",
    "std = X.std(axis=0)\n",
    "mean = X.mean(axis=0)\n",
    "X = (X-mean)/std"
   ]
  },
  {
   "cell_type": "markdown",
   "id": "ab8c10d9-9772-4ffe-9bdf-0a4e15397521",
   "metadata": {},
   "source": [
    "## ISOMAP\n",
    "Implementing Isomap algorithm"
   ]
  },
  {
   "cell_type": "code",
   "execution_count": 6,
   "id": "6d7bf1fd-6ef0-407d-b946-8128cd6f51a8",
   "metadata": {},
   "outputs": [],
   "source": [
    "# Distance matrix (euclidean distance between points)\n",
    "dist = distance_matrix(X, X, p=2)"
   ]
  },
  {
   "cell_type": "code",
   "execution_count": 7,
   "id": "6ee92f7e-ddc6-4a66-ae15-221b634758a7",
   "metadata": {
    "tags": []
   },
   "outputs": [],
   "source": [
    "# Computing the average distance from the 5-th nearest neighbor of each datapoint\n",
    "dist5_mean = 0\n",
    "for i in range(N):\n",
    "    dist_ordered = np.sort(dist[i,:])\n",
    "    # dist_ordered[5] is the distance to the fifth nearest-neighbor since the array includes the distance with itslef (which is zero)\n",
    "    dist5_mean = dist5_mean + dist_ordered[5]\n",
    "\n",
    "dist5_mean = dist5_mean/N"
   ]
  },
  {
   "cell_type": "code",
   "execution_count": 33,
   "id": "b6fa7586-859e-4585-8038-dc3d142378c3",
   "metadata": {},
   "outputs": [],
   "source": [
    "# I create a matrix delta_ij in which each element ij is equal to dist[i,j] if d[i,j]<dc, and otherwise it is equal to infinity\n",
    "dc = 10*dist5_mean  # critical lower distance\n",
    "delta = np.where(dist<dc, dist, np.Inf)"
   ]
  },
  {
   "cell_type": "code",
   "execution_count": 34,
   "id": "5b156109-126f-41da-8faf-62907cc0f2c5",
   "metadata": {},
   "outputs": [
    {
     "name": "stdout",
     "output_type": "stream",
     "text": [
      "---Elapsed time:  104.70368885993958\n"
     ]
    }
   ],
   "source": [
    "# Implementation of FLOYD algorithm\n",
    "start = time.time()\n",
    "for k in range(N):\n",
    "    for j in range(N):\n",
    "        for i in range(N):\n",
    "            if(delta[i,j]>delta[i,k]+delta[k,j]):\n",
    "                delta[i,j] = delta[i,k]+delta[k,j]\n",
    "print(\"---Elapsed time: \", time.time()-start)"
   ]
  },
  {
   "cell_type": "code",
   "execution_count": 35,
   "id": "17116cc7-8a34-49fa-94a9-8321e5a120ea",
   "metadata": {},
   "outputs": [
    {
     "data": {
      "text/plain": [
       "0"
      ]
     },
     "execution_count": 35,
     "metadata": {},
     "output_type": "execute_result"
    }
   ],
   "source": [
    "# Are still there Inf values?\n",
    "np.sum(np.isinf(delta))"
   ]
  },
  {
   "cell_type": "code",
   "execution_count": 36,
   "id": "65f6eba5-4673-44cb-b094-dfdeab0f0219",
   "metadata": {},
   "outputs": [],
   "source": [
    "# Centering\n",
    "I = np.identity(N)\n",
    "J_N = np.ones(N)/N\n",
    "H = I-J_N\n",
    "\n",
    "G = -0.5*(H @ delta**2 @ H)"
   ]
  },
  {
   "cell_type": "code",
   "execution_count": 56,
   "id": "e81e8710-6440-443d-b4ec-03b0dc045aea",
   "metadata": {},
   "outputs": [
    {
     "data": {
      "text/plain": [
       "array([-269.62648122, -166.98352713, -113.33752549,  116.75455684,\n",
       "        173.44586436,  235.82644464,  399.45157303, 1024.04293253,\n",
       "       1838.09761566, 2215.41814038])"
      ]
     },
     "execution_count": 56,
     "metadata": {},
     "output_type": "execute_result"
    }
   ],
   "source": [
    "# Computing the first 10 eigenvalues and eigenvectors of the Gram matrix\n",
    "eig_values, eig_vectors = eigsh(G, 10, which=\"LM\")\n",
    "eig_values"
   ]
  },
  {
   "cell_type": "code",
   "execution_count": 57,
   "id": "b3f2cc2d-11ec-4985-b87d-0b6391c77147",
   "metadata": {},
   "outputs": [
    {
     "name": "stderr",
     "output_type": "stream",
     "text": [
      "/tmp/ipykernel_38296/463834343.py:5: RuntimeWarning: invalid value encountered in sqrt\n",
      "  eig_vectors = eig_vectors*np.sqrt(eig_values)\n"
     ]
    },
    {
     "data": {
      "text/plain": [
       "(500, 10)"
      ]
     },
     "execution_count": 57,
     "metadata": {},
     "output_type": "execute_result"
    }
   ],
   "source": [
    "# Sorting eigenvalues and eigenvectors\n",
    "index_sort = np.argsort(eig_values)[::-1]  # getting indexes for sorting (eigenvalues in descending order)\n",
    "eig_values = eig_values[index_sort]\n",
    "eig_vectors = eig_vectors[:,index_sort]\n",
    "eig_vectors = eig_vectors*np.sqrt(eig_values)\n",
    "eig_vectors.shape"
   ]
  },
  {
   "cell_type": "code",
   "execution_count": 58,
   "id": "96e4b184-ecaf-42f2-a962-95d131dd5bf2",
   "metadata": {},
   "outputs": [
    {
     "data": {
      "text/html": [
       "<div>\n",
       "<style scoped>\n",
       "    .dataframe tbody tr th:only-of-type {\n",
       "        vertical-align: middle;\n",
       "    }\n",
       "\n",
       "    .dataframe tbody tr th {\n",
       "        vertical-align: top;\n",
       "    }\n",
       "\n",
       "    .dataframe thead th {\n",
       "        text-align: right;\n",
       "    }\n",
       "</style>\n",
       "<table border=\"1\" class=\"dataframe\">\n",
       "  <thead>\n",
       "    <tr style=\"text-align: right;\">\n",
       "      <th></th>\n",
       "      <th>PC_iso1</th>\n",
       "      <th>PC_iso2</th>\n",
       "      <th>PC_iso3</th>\n",
       "      <th>PC_iso4</th>\n",
       "      <th>PC_iso5</th>\n",
       "      <th>PC_iso6</th>\n",
       "      <th>PC_iso7</th>\n",
       "      <th>PC_iso8</th>\n",
       "      <th>PC_iso9</th>\n",
       "      <th>PC_iso10</th>\n",
       "      <th>label</th>\n",
       "    </tr>\n",
       "  </thead>\n",
       "  <tbody>\n",
       "    <tr>\n",
       "      <th>0</th>\n",
       "      <td>-5.437914</td>\n",
       "      <td>3.321946</td>\n",
       "      <td>-0.401593</td>\n",
       "      <td>-0.447802</td>\n",
       "      <td>0.809893</td>\n",
       "      <td>1.159885</td>\n",
       "      <td>0.236725</td>\n",
       "      <td>NaN</td>\n",
       "      <td>NaN</td>\n",
       "      <td>NaN</td>\n",
       "      <td>0</td>\n",
       "    </tr>\n",
       "    <tr>\n",
       "      <th>1</th>\n",
       "      <td>-2.165592</td>\n",
       "      <td>1.011583</td>\n",
       "      <td>-2.212034</td>\n",
       "      <td>-3.025152</td>\n",
       "      <td>-0.582877</td>\n",
       "      <td>0.920503</td>\n",
       "      <td>0.823911</td>\n",
       "      <td>NaN</td>\n",
       "      <td>NaN</td>\n",
       "      <td>NaN</td>\n",
       "      <td>3</td>\n",
       "    </tr>\n",
       "    <tr>\n",
       "      <th>2</th>\n",
       "      <td>1.567851</td>\n",
       "      <td>-0.708926</td>\n",
       "      <td>-1.419604</td>\n",
       "      <td>0.011152</td>\n",
       "      <td>-0.605498</td>\n",
       "      <td>-1.267751</td>\n",
       "      <td>-0.119548</td>\n",
       "      <td>NaN</td>\n",
       "      <td>NaN</td>\n",
       "      <td>NaN</td>\n",
       "      <td>3</td>\n",
       "    </tr>\n",
       "    <tr>\n",
       "      <th>3</th>\n",
       "      <td>-0.483566</td>\n",
       "      <td>-1.092165</td>\n",
       "      <td>-0.503753</td>\n",
       "      <td>0.509258</td>\n",
       "      <td>0.746155</td>\n",
       "      <td>0.553278</td>\n",
       "      <td>0.194921</td>\n",
       "      <td>NaN</td>\n",
       "      <td>NaN</td>\n",
       "      <td>NaN</td>\n",
       "      <td>2</td>\n",
       "    </tr>\n",
       "    <tr>\n",
       "      <th>4</th>\n",
       "      <td>-2.539764</td>\n",
       "      <td>4.386059</td>\n",
       "      <td>-0.939510</td>\n",
       "      <td>0.372467</td>\n",
       "      <td>-0.069980</td>\n",
       "      <td>-0.634615</td>\n",
       "      <td>0.309589</td>\n",
       "      <td>NaN</td>\n",
       "      <td>NaN</td>\n",
       "      <td>NaN</td>\n",
       "      <td>0</td>\n",
       "    </tr>\n",
       "  </tbody>\n",
       "</table>\n",
       "</div>"
      ],
      "text/plain": [
       "    PC_iso1   PC_iso2   PC_iso3   PC_iso4   PC_iso5   PC_iso6   PC_iso7  \\\n",
       "0 -5.437914  3.321946 -0.401593 -0.447802  0.809893  1.159885  0.236725   \n",
       "1 -2.165592  1.011583 -2.212034 -3.025152 -0.582877  0.920503  0.823911   \n",
       "2  1.567851 -0.708926 -1.419604  0.011152 -0.605498 -1.267751 -0.119548   \n",
       "3 -0.483566 -1.092165 -0.503753  0.509258  0.746155  0.553278  0.194921   \n",
       "4 -2.539764  4.386059 -0.939510  0.372467 -0.069980 -0.634615  0.309589   \n",
       "\n",
       "   PC_iso8  PC_iso9  PC_iso10  label  \n",
       "0      NaN      NaN       NaN      0  \n",
       "1      NaN      NaN       NaN      3  \n",
       "2      NaN      NaN       NaN      3  \n",
       "3      NaN      NaN       NaN      2  \n",
       "4      NaN      NaN       NaN      0  "
      ]
     },
     "execution_count": 58,
     "metadata": {},
     "output_type": "execute_result"
    }
   ],
   "source": [
    "X_isomap = eig_vectors.copy()\n",
    "# creating dataframe with projected features\n",
    "df_isomap = pd.DataFrame(X_isomap, columns=[\"PC_iso\"+str(i+1) for i in range(n_features)])\n",
    "df_isomap[[\"label\"]] = y.reshape((N,1))\n",
    "df_isomap.head()"
   ]
  },
  {
   "cell_type": "code",
   "execution_count": 59,
   "id": "25adf158-80af-43a9-8cfe-5a7ce0c89cce",
   "metadata": {},
   "outputs": [
    {
     "data": {
      "text/plain": [
       "Text(0, 0.5, '$\\\\lambda$')"
      ]
     },
     "execution_count": 59,
     "metadata": {},
     "output_type": "execute_result"
    },
    {
     "data": {
      "image/png": "[encoded data removed]",
      "text/plain": [
       "<Figure size 648x432 with 1 Axes>"
      ]
     },
     "metadata": {},
     "output_type": "display_data"
    }
   ],
   "source": [
    "# Plotting eigenvalues\n",
    "plt.subplots(figsize=(9,6))\n",
    "plt.plot(eig_values,'.',markersize=15)\n",
    "plt.title('Eigenvalues spectrum', fontsize=15)\n",
    "plt.ylabel(r'$\\lambda$', fontsize=18)\n",
    "# plt.yscale('log')"
   ]
  },
  {
   "cell_type": "code",
   "execution_count": 61,
   "id": "b57ad58c-cd59-40c0-a0fd-a1af7985950a",
   "metadata": {},
   "outputs": [
    {
     "data": {
      "image/png": "[encoded data removed]",
      "text/plain": [
       "<Figure size 720x504 with 1 Axes>"
      ]
     },
     "metadata": {},
     "output_type": "display_data"
    }
   ],
   "source": [
    "# Plot first two PCs, coloring data points by family\n",
    "plt.subplots(figsize=(10,7))\n",
    "sns.scatterplot(x=\"PC_iso1\", y=\"PC_iso2\", data=df_isomap, hue=\"label\")\n",
    "plt.show()"
   ]
  },
  {
   "cell_type": "markdown",
   "id": "78d3a251-d602-4205-8c3e-652e1d417b9e",
   "metadata": {},
   "source": [
    "-----\n",
    "## ISOMAP with scikit-learn"
   ]
  },
  {
   "cell_type": "code",
   "execution_count": 42,
   "id": "b6244393-9196-4a94-8141-8714eedb3195",
   "metadata": {},
   "outputs": [],
   "source": [
    "from sklearn.manifold import Isomap"
   ]
  },
  {
   "cell_type": "code",
   "execution_count": 43,
   "id": "bc47d58a-3855-4a2b-af7a-a416e31e2135",
   "metadata": {
    "tags": []
   },
   "outputs": [],
   "source": [
    "embedding = Isomap(n_components=10, path_method=\"FW\")\n",
    "X_iso_skl = embedding.fit_transform(X)"
   ]
  },
  {
   "cell_type": "code",
   "execution_count": 44,
   "id": "3552884a-7003-43f8-acce-e2452b0b02e2",
   "metadata": {},
   "outputs": [
    {
     "data": {
      "text/html": [
       "<div>\n",
       "<style scoped>\n",
       "    .dataframe tbody tr th:only-of-type {\n",
       "        vertical-align: middle;\n",
       "    }\n",
       "\n",
       "    .dataframe tbody tr th {\n",
       "        vertical-align: top;\n",
       "    }\n",
       "\n",
       "    .dataframe thead th {\n",
       "        text-align: right;\n",
       "    }\n",
       "</style>\n",
       "<table border=\"1\" class=\"dataframe\">\n",
       "  <thead>\n",
       "    <tr style=\"text-align: right;\">\n",
       "      <th></th>\n",
       "      <th>PC_iso1</th>\n",
       "      <th>PC_iso2</th>\n",
       "      <th>PC_iso3</th>\n",
       "      <th>PC_iso4</th>\n",
       "      <th>PC_iso5</th>\n",
       "      <th>PC_iso6</th>\n",
       "      <th>PC_iso7</th>\n",
       "      <th>PC_iso8</th>\n",
       "      <th>PC_iso9</th>\n",
       "      <th>PC_iso10</th>\n",
       "      <th>label</th>\n",
       "    </tr>\n",
       "  </thead>\n",
       "  <tbody>\n",
       "    <tr>\n",
       "      <th>0</th>\n",
       "      <td>16.957936</td>\n",
       "      <td>-1.783810</td>\n",
       "      <td>-0.884345</td>\n",
       "      <td>0.430076</td>\n",
       "      <td>1.952348</td>\n",
       "      <td>-1.640742</td>\n",
       "      <td>-0.586408</td>\n",
       "      <td>-0.420683</td>\n",
       "      <td>-0.630625</td>\n",
       "      <td>1.326939</td>\n",
       "      <td>0</td>\n",
       "    </tr>\n",
       "    <tr>\n",
       "      <th>1</th>\n",
       "      <td>11.772751</td>\n",
       "      <td>4.334431</td>\n",
       "      <td>-0.026892</td>\n",
       "      <td>-0.894869</td>\n",
       "      <td>1.151656</td>\n",
       "      <td>0.640159</td>\n",
       "      <td>-1.410502</td>\n",
       "      <td>-0.897772</td>\n",
       "      <td>0.945257</td>\n",
       "      <td>0.627925</td>\n",
       "      <td>3</td>\n",
       "    </tr>\n",
       "    <tr>\n",
       "      <th>2</th>\n",
       "      <td>3.292330</td>\n",
       "      <td>1.872334</td>\n",
       "      <td>0.842251</td>\n",
       "      <td>1.286526</td>\n",
       "      <td>0.007258</td>\n",
       "      <td>-0.357848</td>\n",
       "      <td>0.636531</td>\n",
       "      <td>-1.177063</td>\n",
       "      <td>0.061506</td>\n",
       "      <td>0.273395</td>\n",
       "      <td>3</td>\n",
       "    </tr>\n",
       "    <tr>\n",
       "      <th>3</th>\n",
       "      <td>-6.280935</td>\n",
       "      <td>0.409725</td>\n",
       "      <td>-1.707072</td>\n",
       "      <td>0.215868</td>\n",
       "      <td>-0.086592</td>\n",
       "      <td>-0.072842</td>\n",
       "      <td>-0.025874</td>\n",
       "      <td>-0.049773</td>\n",
       "      <td>0.042682</td>\n",
       "      <td>-0.017101</td>\n",
       "      <td>2</td>\n",
       "    </tr>\n",
       "    <tr>\n",
       "      <th>4</th>\n",
       "      <td>14.285082</td>\n",
       "      <td>-2.095994</td>\n",
       "      <td>-0.148696</td>\n",
       "      <td>-1.134364</td>\n",
       "      <td>0.286747</td>\n",
       "      <td>0.649179</td>\n",
       "      <td>-0.609259</td>\n",
       "      <td>-1.234837</td>\n",
       "      <td>0.803614</td>\n",
       "      <td>-0.593373</td>\n",
       "      <td>0</td>\n",
       "    </tr>\n",
       "  </tbody>\n",
       "</table>\n",
       "</div>"
      ],
      "text/plain": [
       "     PC_iso1   PC_iso2   PC_iso3   PC_iso4   PC_iso5   PC_iso6   PC_iso7  \\\n",
       "0  16.957936 -1.783810 -0.884345  0.430076  1.952348 -1.640742 -0.586408   \n",
       "1  11.772751  4.334431 -0.026892 -0.894869  1.151656  0.640159 -1.410502   \n",
       "2   3.292330  1.872334  0.842251  1.286526  0.007258 -0.357848  0.636531   \n",
       "3  -6.280935  0.409725 -1.707072  0.215868 -0.086592 -0.072842 -0.025874   \n",
       "4  14.285082 -2.095994 -0.148696 -1.134364  0.286747  0.649179 -0.609259   \n",
       "\n",
       "    PC_iso8   PC_iso9  PC_iso10  label  \n",
       "0 -0.420683 -0.630625  1.326939      0  \n",
       "1 -0.897772  0.945257  0.627925      3  \n",
       "2 -1.177063  0.061506  0.273395      3  \n",
       "3 -0.049773  0.042682 -0.017101      2  \n",
       "4 -1.234837  0.803614 -0.593373      0  "
      ]
     },
     "execution_count": 44,
     "metadata": {},
     "output_type": "execute_result"
    }
   ],
   "source": [
    "# creating dataframe with projected features\n",
    "df_isomap = pd.DataFrame(X_iso_skl, columns=[\"PC_iso\"+str(i+1) for i in range(n_features)])\n",
    "df_isomap[[\"label\"]] = y.reshape((N,1))\n",
    "df_isomap.head()"
   ]
  },
  {
   "cell_type": "code",
   "execution_count": 45,
   "id": "5875a10c-c41b-4784-a931-eb8e6ebd20e2",
   "metadata": {},
   "outputs": [
    {
     "data": {
      "image/png": "[encoded data removed]",
      "text/plain": [
       "<Figure size 720x504 with 1 Axes>"
      ]
     },
     "metadata": {},
     "output_type": "display_data"
    }
   ],
   "source": [
    "# Plot first two PCs, coloring data points by family\n",
    "plt.subplots(figsize=(10,7))\n",
    "sns.scatterplot(x=\"PC_iso1\", y=\"PC_iso2\", data=df_isomap, hue=\"label\")\n",
    "plt.show()"
   ]
  },
  {
   "cell_type": "code",
   "execution_count": null,
   "id": "4e00c6ed-e2fe-4cff-a1f1-3cd535970b1d",
   "metadata": {},
   "outputs": [],
   "source": []
  },
  {
   "cell_type": "code",
   "execution_count": null,
   "id": "e0a39ddf-71a7-4107-b9b4-d2c31160d6c0",
   "metadata": {},
   "outputs": [],
   "source": []
  }
 ],
 "metadata": {
  "kernelspec": {
   "display_name": "Python 3 (ipykernel)",
   "language": "python",
   "name": "python3"
  },
  "language_info": {
   "codemirror_mode": {
    "name": "ipython",
    "version": 3
   },
   "file_extension": ".py",
   "mimetype": "text/x-python",
   "name": "python",
   "nbconvert_exporter": "python",
   "pygments_lexer": "ipython3",
   "version": "3.9.7"
  }
 },
 "nbformat": 4,
 "nbformat_minor": 5
}
