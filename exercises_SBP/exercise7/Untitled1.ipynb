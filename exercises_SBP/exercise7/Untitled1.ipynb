{
 "cells": [
  {
   "cell_type": "markdown",
   "id": "3de1ce10",
   "metadata": {},
   "source": [
    "## Jarzynski equality and Monte Carlo"
   ]
  },
  {
   "cell_type": "code",
   "execution_count": 1,
   "id": "bfe11f51",
   "metadata": {},
   "outputs": [],
   "source": [
    "import matplotlib.pyplot as plt\n",
    "import numpy as np\n",
    "import random as rm"
   ]
  },
  {
   "cell_type": "code",
   "execution_count": 14,
   "id": "7020ba0c",
   "metadata": {},
   "outputs": [],
   "source": [
    "def kPar(k0,chk,i,nsteps,backw):\n",
    "    if chk: \n",
    "        return 1+lambdat(i,nsteps,backw)\n",
    "    return k0\n",
    "\n",
    "def cPar(c0,chp,q1,i,nsteps,backw):\n",
    "    if chp:\n",
    "        return lambdat(i,nsteps,backw)*q1\n",
    "    return c0\n",
    "\n",
    "def lambdat(i,nsteps,backw):\n",
    "    if backw:\n",
    "        return 1-i/nsteps\n",
    "    return i/nsteps    \n",
    "    \n",
    "def energy(k0,chk,c0,chp,q1,i,nsteps,backw):\n",
    "    return 0.5*kPar(k0,chk,i,nsteps,backw)*(q-cPar(c0,chp,q1,i,nsteps,backw))**2"
   ]
  },
  {
   "cell_type": "code",
   "execution_count": 2,
   "id": "cab8c1a8",
   "metadata": {},
   "outputs": [],
   "source": [
    "def MC2(kT=1,nsteps=1000,deltat=0.1,q0=0.0,k=1,c=1,q1=10.0,chk=False,chp=False,backw=False)\n",
    "    q=q0\n",
    "    icount=0\n",
    "    #c=icount/nsteps*q1\n",
    "    cold=0\n",
    "    ene0=0.5*k*q**2\n",
    "    work=0\n",
    "    \n",
    "    traj=[]\n",
    "    #cs=[]\n",
    "    #ks=[]\n",
    "    \n",
    "    for istep in range(nsteps):\n",
    "\n",
    "        icount+=1\n",
    "        ene=energy(k0,chk,c0,chp,q1,i=istep,nsteps,backw)\n",
    "        \n",
    "        qtry=q+(2*np.random.rand()-1)*deltat\n",
    "        \n",
    "        enetry=energy(k0,chk,c0,chp,q1,i=istep,nsteps,backw)#0.5*k*(qtry-c)**2\n",
    "        acc=np.exp(-(enetry-ene)/kT)\n",
    "        if acc>1.0:\n",
    "            acc=1.0\n",
    "        if acc>np.random.rand():\n",
    "            q=qtry\n",
    "            ene=enetry\n",
    "        #ene0=ene\n",
    "        work=ene-0.5*k*(q-cold)**2\n",
    "        cold=c\n",
    "        \n",
    "        traj.append(q)\n",
    "        \n",
    "        #cs.append(c)\n",
    "        #ks.append(k)\n",
    "        \n",
    "    return np.array(traj),work#,np.array(ks),work"
   ]
  },
  {
   "cell_type": "code",
   "execution_count": 3,
   "id": "f616ee03",
   "metadata": {},
   "outputs": [
    {
     "name": "stdout",
     "output_type": "stream",
     "text": [
      "0.06494731135506981\n"
     ]
    },
    {
     "data": {
      "image/png": "[encoded data removed]",
      "text/plain": [
       "<Figure size 432x288 with 1 Axes>"
      ]
     },
     "metadata": {
      "needs_background": "light"
     },
     "output_type": "display_data"
    }
   ],
   "source": [
    "traj,work=MC2()\n",
    "#print(cs)\n",
    "plt.plot(traj)\n",
    "print(work)"
   ]
  },
  {
   "cell_type": "code",
   "execution_count": 7,
   "id": "3b270418",
   "metadata": {},
   "outputs": [
    {
     "name": "stdout",
     "output_type": "stream",
     "text": [
      "[0.05189686 0.04088163 0.04880069 0.0580463  0.05252243 0.05293373\n",
      " 0.05140002]\n",
      "[0.94942679 0.95997281 0.95240757 0.94368039 0.94885677 0.94849757\n",
      " 0.94994674]\n"
     ]
    }
   ],
   "source": [
    "Ns=[1,2,5,10,20,50,100]\n",
    "kT=1\n",
    "avwork=np.zeros(len(Ns))\n",
    "avexpwork=np.zeros(len(Ns))\n",
    "\n",
    "for j in range(len(Ns)):\n",
    "    works=[]\n",
    "    for i in range(Ns[j]):\n",
    "        traj,work=MC2()\n",
    "        works.append(work)\n",
    "    avwork[j]=np.mean(np.array(works))\n",
    "    avexpwork[j]=np.mean(np.exp(-np.array(works)/kT))\n",
    "    \n",
    "print(avwork)\n",
    "print(avexpwork)"
   ]
  },
  {
   "cell_type": "code",
   "execution_count": 10,
   "id": "5ec9246d",
   "metadata": {},
   "outputs": [
    {
     "name": "stdout",
     "output_type": "stream",
     "text": [
      "[0.03024913 0.05452012 0.0503691  0.05031084 0.05059999 0.05199513\n",
      " 0.05211221]\n",
      "[0.97020379 0.94702317 0.95088241 0.95095282 0.95070565 0.94938249\n",
      " 0.94927566]\n"
     ]
    }
   ],
   "source": [
    "Ns=[1,2,5,10,20,50,100]\n",
    "kT=1\n",
    "avwork=np.zeros(len(Ns))\n",
    "avexpwork=np.zeros(len(Ns))\n",
    "\n",
    "for j in range(len(Ns)):\n",
    "    for i in range(Ns[j]):\n",
    "        traj,work=MC2()\n",
    "        avwork[j]+=work\n",
    "        avexpwork[j]+=np.exp(-work/kT)\n",
    "        #works.append(work)\n",
    "    avwork[j]=avwork[j]/Ns[j]\n",
    "    avexpwork[j]=avexpwork[j]/Ns[j]\n",
    "    \n",
    "    \n",
    "print(avwork)\n",
    "print(avexpwork)"
   ]
  },
  {
   "cell_type": "code",
   "execution_count": 8,
   "id": "829919c2",
   "metadata": {},
   "outputs": [
    {
     "data": {
      "text/plain": [
       "[<matplotlib.lines.Line2D at 0x7f4ac0561220>]"
      ]
     },
     "execution_count": 8,
     "metadata": {},
     "output_type": "execute_result"
    },
    {
     "data": {
      "image/png": "[encoded data removed]",
      "text/plain": [
       "<Figure size 432x288 with 1 Axes>"
      ]
     },
     "metadata": {
      "needs_background": "light"
     },
     "output_type": "display_data"
    }
   ],
   "source": [
    "plt.plot(Ns,avexpwork,'*b')"
   ]
  },
  {
   "cell_type": "code",
   "execution_count": null,
   "id": "e89b0be0",
   "metadata": {},
   "outputs": [],
   "source": []
  }
 ],
 "metadata": {
  "kernelspec": {
   "display_name": "Python 3 (ipykernel)",
   "language": "python",
   "name": "python3"
  },
  "language_info": {
   "codemirror_mode": {
    "name": "ipython",
    "version": 3
   },
   "file_extension": ".py",
   "mimetype": "text/x-python",
   "name": "python",
   "nbconvert_exporter": "python",
   "pygments_lexer": "ipython3",
   "version": "3.9.10"
  }
 },
 "nbformat": 4,
 "nbformat_minor": 5
}
