{
 "cells": [
  {
   "cell_type": "markdown",
   "id": "4854f021",
   "metadata": {},
   "source": [
    "4. Now modify the code such that you sample the position of two particles\n",
    "in 3D connected by a spring of equilibrium length L=4\n",
    "\n",
    "U (q1, q2) = 1/2 (|q1 −q2|−L)^2\n",
    "\n",
    "Notice that q1 and q2 are now vectors with three components each. (Hint:\n",
    "at every iteration, choose randomly one of the two particles and one of the\n",
    "three possible components and displace it by a random displacement uni-\n",
    "formly distributed in [−∆, +∆]). Compute the average distance |q1 −q2|\n",
    "between the two particles."
   ]
  },
  {
   "cell_type": "code",
   "execution_count": 1,
   "id": "c6f7c59b",
   "metadata": {},
   "outputs": [],
   "source": [
    "import matplotlib.pyplot as plt\n",
    "import numpy as np\n",
    "import random as rm"
   ]
  },
  {
   "cell_type": "code",
   "execution_count": 2,
   "id": "359a00af",
   "metadata": {},
   "outputs": [],
   "source": [
    "# uniform distribution [-delta,+delta]\n",
    "def trial(q1,q2,delta):\n",
    "    if (rm.randrange(0,2))==0:\n",
    "        q1+=(rm.random()*2-1)*delta\n",
    "    else:\n",
    "        q2+=(rm.random()*2-1)*delta\n",
    "    return q1,q2"
   ]
  },
  {
   "cell_type": "code",
   "execution_count": 3,
   "id": "216f9808",
   "metadata": {},
   "outputs": [],
   "source": [
    "# potential energy\n",
    "def u(q1,q2,L=4):\n",
    "    return 1/2*(np.abs(q1-q2)-L)**2"
   ]
  },
  {
   "cell_type": "code",
   "execution_count": 5,
   "id": "0c6e26e9",
   "metadata": {},
   "outputs": [],
   "source": [
    "def run(*,kT=1,delta=1,nsteps=100,q1=0.0,q2=1.0):\n",
    "\n",
    "    #traj1=[]\n",
    "    time=[]\n",
    "    distance=[]\n",
    "    avalpha=0\n",
    "\n",
    "\n",
    "    #traj1.append(q1)#,q2)\n",
    "    time.append(0)\n",
    "    distance.append(np.abs(q1-q2))\n",
    "    u0=u(q1,q2)\n",
    "\n",
    "    for istep in range(nsteps):\n",
    "        q1try,q2try=trial(q1,q2,delta)\n",
    "        norm=np.abs(q1-q2)\n",
    "        utry=u(q1,q2)\n",
    "        alpha=np.exp(-(utry-u0)/kT)\n",
    "        # if alpha>1: alpha=1\n",
    "        if alpha>rm.random():\n",
    "        #if utry<u0: # limit of zero temperature\n",
    "            avalpha+=1\n",
    "            q1=q1try\n",
    "            q2=q2try\n",
    "            u0=utry\n",
    "        \n",
    "        distance.append(np.abs(q1-q2))\n",
    "        #traj1.append(q1)\n",
    "        time.append(istep)\n",
    "\n",
    "    avalpha=avalpha/nsteps    \n",
    "\n",
    "    return np.array(time),distance,avalpha #np.array(traj),avalpha,q2mean"
   ]
  },
  {
   "cell_type": "code",
   "execution_count": 16,
   "id": "1287e26e",
   "metadata": {},
   "outputs": [
    {
     "name": "stdout",
     "output_type": "stream",
     "text": [
      "average acceptance:  0.9532\n",
      "mean distance:  2.2827537293171787\n"
     ]
    },
    {
     "data": {
      "image/png": "[encoded data removed]",
      "text/plain": [
       "<Figure size 432x288 with 1 Axes>"
      ]
     },
     "metadata": {
      "needs_background": "light"
     },
     "output_type": "display_data"
    },
    {
     "data": {
      "image/png": "[encoded data removed]",
      "text/plain": [
       "<Figure size 432x288 with 1 Axes>"
      ]
     },
     "metadata": {
      "needs_background": "light"
     },
     "output_type": "display_data"
    }
   ],
   "source": [
    "nsteps=10000\n",
    "kT=1\n",
    "delta=0.1\n",
    "q1=0.0\n",
    "q2=1.0\n",
    "\n",
    "time,distance,avalpha=run(kT=kT,delta=delta,nsteps=nsteps,q1=q1,q2=q2)\n",
    "print('average acceptance: ',avalpha)\n",
    "#print('distance:',distance)\n",
    "print('mean distance: ',np.mean(distance))\n",
    "#print('std distance: ',np.std(distance)/np.sqrt(nsteps))\n",
    "#print(distance)\n",
    "plt.figure(1)\n",
    "plt.plot(time,distance,'.r',label='distance(time)')\n",
    "\n",
    "plt.figure(2)\n",
    "nbins=100\n",
    "n, bins, patches = plt.hist(distance, nbins,facecolor='green', alpha=0.5)\n",
    "plt.grid(axis='both')\n",
    "plt.show()"
   ]
  },
  {
   "cell_type": "code",
   "execution_count": null,
   "id": "7d67d4cd",
   "metadata": {},
   "outputs": [],
   "source": []
  },
  {
   "cell_type": "code",
   "execution_count": 144,
   "id": "3d008b8f",
   "metadata": {},
   "outputs": [
    {
     "name": "stdout",
     "output_type": "stream",
     "text": [
      "4.946237765387346\n",
      "0.2193151826099383\n"
     ]
    },
    {
     "data": {
      "image/png": "[encoded data removed]",
      "text/plain": [
       "<Figure size 432x288 with 1 Axes>"
      ]
     },
     "metadata": {
      "needs_background": "light"
     },
     "output_type": "display_data"
    }
   ],
   "source": [
    "nsteps=10000\n",
    "kT=0.5\n",
    "delta=0.1\n",
    "\n",
    "niter=50\n",
    "meandistances=[]\n",
    "iiter=[]\n",
    "\n",
    "for i in range(niter):\n",
    "    time,distance,alpha=run(kT=kT,delta=delta,nsteps=nsteps,q1=np.array([0.0,0.0,0.0]),q2=np.array([1.0,1.0,3.5]))\n",
    "    meandistances.append(np.mean(distance))\n",
    "    iiter.append(i)\n",
    "\n",
    "#print(meandistances)\n",
    "plt.plot(iiter,meandistances,'.r')\n",
    "meandistance=np.mean(meandistances)\n",
    "stdmeandistance=np.std(meandistances)/np.sqrt(niter)\n",
    "print(meandistance)\n",
    "print(stdmeandistance)"
   ]
  },
  {
   "cell_type": "code",
   "execution_count": 13,
   "id": "0eec550e",
   "metadata": {},
   "outputs": [
    {
     "ename": "TypeError",
     "evalue": "unsupported operand type(s) for -: 'list' and 'list'",
     "output_type": "error",
     "traceback": [
      "\u001b[0;31m---------------------------------------------------------------------------\u001b[0m",
      "\u001b[0;31mTypeError\u001b[0m                                 Traceback (most recent call last)",
      "\u001b[0;32m/tmp/ipykernel_4090/2526875299.py\u001b[0m in \u001b[0;36m<module>\u001b[0;34m\u001b[0m\n\u001b[1;32m      1\u001b[0m \u001b[0mq1\u001b[0m\u001b[0;34m=\u001b[0m\u001b[0;34m[\u001b[0m\u001b[0;36m0\u001b[0m\u001b[0;34m,\u001b[0m\u001b[0;36m0\u001b[0m\u001b[0;34m,\u001b[0m\u001b[0;36m0\u001b[0m\u001b[0;34m]\u001b[0m\u001b[0;34m\u001b[0m\u001b[0;34m\u001b[0m\u001b[0m\n\u001b[1;32m      2\u001b[0m \u001b[0mq2\u001b[0m\u001b[0;34m=\u001b[0m\u001b[0;34m[\u001b[0m\u001b[0;36m0\u001b[0m\u001b[0;34m,\u001b[0m\u001b[0;36m0\u001b[0m\u001b[0;34m,\u001b[0m\u001b[0;36m0\u001b[0m\u001b[0;34m]\u001b[0m\u001b[0;34m\u001b[0m\u001b[0;34m\u001b[0m\u001b[0m\n\u001b[0;32m----> 3\u001b[0;31m \u001b[0md\u001b[0m\u001b[0;34m=\u001b[0m\u001b[0mnp\u001b[0m\u001b[0;34m.\u001b[0m\u001b[0mlinalg\u001b[0m\u001b[0;34m.\u001b[0m\u001b[0mnorm\u001b[0m\u001b[0;34m(\u001b[0m\u001b[0mq1\u001b[0m\u001b[0;34m-\u001b[0m\u001b[0mq2\u001b[0m\u001b[0;34m)\u001b[0m\u001b[0;34m\u001b[0m\u001b[0;34m\u001b[0m\u001b[0m\n\u001b[0m\u001b[1;32m      4\u001b[0m \u001b[0mprint\u001b[0m\u001b[0;34m(\u001b[0m\u001b[0md\u001b[0m\u001b[0;34m)\u001b[0m\u001b[0;34m\u001b[0m\u001b[0;34m\u001b[0m\u001b[0m\n",
      "\u001b[0;31mTypeError\u001b[0m: unsupported operand type(s) for -: 'list' and 'list'"
     ]
    }
   ],
   "source": [
    "q1=[0,0,0]\n",
    "q2=[0,0,0]\n",
    "d=np.linalg.norm(q1-q2)\n",
    "print(d)"
   ]
  },
  {
   "cell_type": "code",
   "execution_count": null,
   "id": "30ce6362",
   "metadata": {},
   "outputs": [],
   "source": [
    "def run2(*,kT=1,delta=1,nsteps=100,q=np.array([0.0,0.0,0.0,0.0,0.0,0.0])):\n",
    "\n",
    "    #traj1=[]\n",
    "    time=[]\n",
    "    distance=[]\n",
    "    avalpha=0\n",
    "\n",
    "\n",
    "    #traj1.append(q1)#,q2)\n",
    "    time.append(0)\n",
    "    q1=[q[0],q[1],q[2]]\n",
    "    q2=[q[3],q[4],q[5]]\n",
    "    distance.append(np.linalg.norm(q1-q2))\n",
    "    u0=u(q1,q2)\n",
    "\n",
    "    for istep in range(nsteps):\n",
    "        q1try,q2try=trial(q1,q2,delta)\n",
    "        utry=u(q1try,q2try)\n",
    "        alpha=np.exp(-(utry-u0)/kT)\n",
    "        # if alpha>1: alpha=1\n",
    "        if alpha>rm.random():\n",
    "        #if utry<u0: # limit of zero temperature\n",
    "            avalpha+=1\n",
    "            q1=q1try\n",
    "            q2=q2try\n",
    "            u0=utry\n",
    "        \n",
    "        distance.append(np.linalg.norm(q1-q2))\n",
    "        #traj1.append(q1)\n",
    "        time.append(istep)\n",
    "\n",
    "    avalpha=avalpha/nsteps    \n",
    "\n",
    "    return np.array(time),distance,avalpha #np.array(traj),avalpha,q2mean"
   ]
  }
 ],
 "metadata": {
  "kernelspec": {
   "display_name": "Python 3 (ipykernel)",
   "language": "python",
   "name": "python3"
  },
  "language_info": {
   "codemirror_mode": {
    "name": "ipython",
    "version": 3
   },
   "file_extension": ".py",
   "mimetype": "text/x-python",
   "name": "python",
   "nbconvert_exporter": "python",
   "pygments_lexer": "ipython3",
   "version": "3.9.12"
  }
 },
 "nbformat": 4,
 "nbformat_minor": 5
}
