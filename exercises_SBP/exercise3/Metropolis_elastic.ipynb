{
 "cells": [
  {
   "cell_type": "markdown",
   "id": "4854f021",
   "metadata": {},
   "source": [
    "4. Now modify the code such that you sample the position of two particles\n",
    "in 3D connected by a spring of equilibrium length L=4\n",
    "\n",
    "U (q1, q2) = 1/2 (|q1 −q2|−L)^2\n",
    "\n",
    "Notice that q1 and q2 are now vectors with three components each. (Hint:\n",
    "at every iteration, choose randomly one of the two particles and one of the\n",
    "three possible components and displace it by a random displacement uni-\n",
    "formly distributed in [−∆, +∆]). Compute the average distance |q1 −q2|\n",
    "between the two particles."
   ]
  },
  {
   "cell_type": "code",
   "execution_count": 1,
   "id": "c6f7c59b",
   "metadata": {},
   "outputs": [],
   "source": [
    "import matplotlib.pyplot as plt\n",
    "import numpy as np\n",
    "import random as rm"
   ]
  },
  {
   "cell_type": "code",
   "execution_count": 6,
   "id": "359a00af",
   "metadata": {},
   "outputs": [],
   "source": [
    "# uniform distribution [-delta,+delta]\n",
    "def trial(q1,q2,delta):\n",
    "    if (rm.randrange(0,2))==0:\n",
    "        q1[rm.randrange(0,3)]=(rm.random()*2-1)*delta\n",
    "    else:\n",
    "        q2[rm.randrange(0,3)]=(rm.random()*2-1)*delta\n",
    "    return q1,q2"
   ]
  },
  {
   "cell_type": "code",
   "execution_count": 3,
   "id": "216f9808",
   "metadata": {},
   "outputs": [],
   "source": [
    "# potential energy\n",
    "def u(q1,q2,L=4):\n",
    "    return 0.5*(np.sqrt(np.sum((q1-q2)**2))-L)**2  #(np.linalg.norm(q1-q2)-L)**2\n",
    "#def udist(distance,L=4):\n",
    "#    return 1/2*(distance-L)**2"
   ]
  },
  {
   "cell_type": "code",
   "execution_count": 4,
   "id": "0c6e26e9",
   "metadata": {},
   "outputs": [],
   "source": [
    "def run(*,kT=1,delta=1.0,nsteps=100,q1=None,q2=None):#np.array([0.0,0.0,0.0]),q2=np.array([0.0,0.0,0.0])):\n",
    "    if q1 is None:\n",
    "        q1=np.zeros(1,3)\n",
    "    if q2 is None:\n",
    "        q2=np.zeros(1,3)\n",
    "    \n",
    "    #traj1=[]\n",
    "    time=[]\n",
    "    distance=[]\n",
    "    avalpha=0\n",
    "    #norm=0\n",
    "\n",
    "\n",
    "    #traj1.append(q1)#,q2)\n",
    "    time.append(0)\n",
    "    #norm=np.linalg.norm(q1-q2)\n",
    "    #print(norm)\n",
    "    #distance.append(norm)\n",
    "    distance.append(np.linalg.norm(q1-q2))\n",
    "    #u0=u(q1,q2)\n",
    "    u0=u(q1,q2)\n",
    "    print(u0)\n",
    "\n",
    "    for istep in range(nsteps):\n",
    "        q1try,q2try=trial(q1,q2,delta)\n",
    "        utry=u(q1,q2)\n",
    "        alpha=np.exp(-(utry-u0)/kT)\n",
    "        #  if alpha>1: alpha=1\n",
    "        if alpha>rm.random():\n",
    "        #if utry<u0: # limit of zero temperature\n",
    "            avalpha+=1\n",
    "            q1=+q1try\n",
    "            q2=+q2try\n",
    "            u0=utry\n",
    "        \n",
    "        distance.append(np.linalg.norm(q1-q2))\n",
    "        #traj1.append(q1)\n",
    "        time.append(istep)\n",
    "\n",
    "    avalpha=avalpha/nsteps    \n",
    "\n",
    "    return np.array(time),distance,avalpha #np.array(traj),avalpha,q2mean"
   ]
  },
  {
   "cell_type": "code",
   "execution_count": 8,
   "id": "1287e26e",
   "metadata": {},
   "outputs": [
    {
     "name": "stdout",
     "output_type": "stream",
     "text": [
      "2.5717967697244912\n",
      "average acceptance:  0.7258\n",
      "mean distance:  0.6562132231781063\n",
      "<BarContainer object of 100 artists>\n"
     ]
    },
    {
     "data": {
      "image/png": "[encoded data removed]",
      "text/plain": [
       "<Figure size 432x288 with 1 Axes>"
      ]
     },
     "metadata": {
      "needs_background": "light"
     },
     "output_type": "display_data"
    },
    {
     "data": {
      "image/png": "[encoded data removed]",
      "text/plain": [
       "<Figure size 432x288 with 1 Axes>"
      ]
     },
     "metadata": {
      "needs_background": "light"
     },
     "output_type": "display_data"
    }
   ],
   "source": [
    "nsteps=10000\n",
    "kT=1\n",
    "delta=0.5\n",
    "q1=np.array([0.0,0.0,0.0])\n",
    "q2=np.array([1.0,1.0,1.0])\n",
    "\n",
    "time,distance,avalpha=run(kT=kT,delta=delta,nsteps=nsteps,q1=q1,q2=q2)\n",
    "print('average acceptance: ',avalpha)\n",
    "#print('distance:',distance)\n",
    "print('mean distance: ',np.mean(distance))\n",
    "#print('std distance: ',np.std(distance)/np.sqrt(nsteps))\n",
    "#print(distance)\n",
    "plt.figure(1)\n",
    "plt.plot(time,distance,'-r',label='distance(time)')\n",
    "\n",
    "plt.figure(2)\n",
    "nbins=100\n",
    "n, bins, patches = plt.hist(distance, nbins,facecolor='green', alpha=0.5)\n",
    "print(patches)\n",
    "plt.grid(axis='both')\n",
    "plt.show()"
   ]
  },
  {
   "cell_type": "code",
   "execution_count": null,
   "id": "7d67d4cd",
   "metadata": {},
   "outputs": [],
   "source": []
  },
  {
   "cell_type": "code",
   "execution_count": 144,
   "id": "3d008b8f",
   "metadata": {},
   "outputs": [
    {
     "name": "stdout",
     "output_type": "stream",
     "text": [
      "4.946237765387346\n",
      "0.2193151826099383\n"
     ]
    },
    {
     "data": {
      "image/png": "[encoded data removed]",
      "text/plain": [
       "<Figure size 432x288 with 1 Axes>"
      ]
     },
     "metadata": {
      "needs_background": "light"
     },
     "output_type": "display_data"
    }
   ],
   "source": [
    "nsteps=10000\n",
    "kT=0.5\n",
    "delta=0.1\n",
    "\n",
    "niter=50\n",
    "meandistances=[]\n",
    "iiter=[]\n",
    "\n",
    "for i in range(niter):\n",
    "    time,distance,alpha=run(kT=kT,delta=delta,nsteps=nsteps,q1=np.array([0.0,0.0,0.0]),q2=np.array([1.0,1.0,3.5]))\n",
    "    meandistances.append(np.mean(distance))\n",
    "    iiter.append(i)\n",
    "\n",
    "#print(meandistances)\n",
    "plt.plot(iiter,meandistances,'.r')\n",
    "meandistance=np.mean(meandistances)\n",
    "stdmeandistance=np.std(meandistances)/np.sqrt(niter)\n",
    "print(meandistance)\n",
    "print(stdmeandistance)"
   ]
  },
  {
   "cell_type": "markdown",
   "id": "fcc1a78e",
   "metadata": {},
   "source": [
    "## Bussi's code: why mine doesn't work? "
   ]
  },
  {
   "cell_type": "code",
   "execution_count": 155,
   "id": "b8d4c1b3",
   "metadata": {},
   "outputs": [],
   "source": [
    "def ener(q,L=4):\n",
    "    return 0.5*(np.sqrt(np.sum((q[1]-q[0])**2))-L)**2"
   ]
  },
  {
   "cell_type": "code",
   "execution_count": 156,
   "id": "8f5470f1",
   "metadata": {},
   "outputs": [],
   "source": [
    "def MC(nsteps=10000,delta=1.0,q0=None,L=4,kT=1):\n",
    "    if q0 is None:\n",
    "        q0=np.zeros((2,3))\n",
    "    \n",
    "    q=+q0\n",
    "    #energy=ener(q)\n",
    "    energy=0.5*(np.sqrt(np.sum((q[1]-q[0])**2))-L)**2\n",
    "    traj=[]\n",
    "    for istep in range(nsteps):\n",
    "        i=np.random.randint(6)\n",
    "        qtry=+q\n",
    "        inc=(2*np.random.rand()-1)*delta\n",
    "        if(i<3):\n",
    "            qtry[0,i]+=inc\n",
    "        else:\n",
    "            qtry[1,i-3]+=inc\n",
    "            \n",
    "        ##enetry=ener(qtry)##0.5*(np.sqrt(np.sum((qtry[1]-qtry[0])**2))-L)**2\n",
    "        enetry=0.5*(np.sqrt(np.sum((qtry[1]-qtry[0])**2))-L)**2\n",
    "        acc=np.exp(-(enetry-energy)/kT)\n",
    "        if acc>1.0:\n",
    "            acc=1.0\n",
    "        if acc>np.random.rand():\n",
    "            q=+qtry\n",
    "            energy=enetry\n",
    "        traj.append(q)\n",
    "    return np.array(traj)"
   ]
  },
  {
   "cell_type": "code",
   "execution_count": 157,
   "id": "eff970e1",
   "metadata": {},
   "outputs": [
    {
     "name": "stdout",
     "output_type": "stream",
     "text": [
      "<BarContainer object of 100 artists>\n"
     ]
    },
    {
     "data": {
      "image/png": "[encoded data removed]",
      "text/plain": [
       "<Figure size 432x288 with 1 Axes>"
      ]
     },
     "metadata": {
      "needs_background": "light"
     },
     "output_type": "display_data"
    },
    {
     "data": {
      "image/png": "[encoded data removed]",
      "text/plain": [
       "<Figure size 432x288 with 1 Axes>"
      ]
     },
     "metadata": {
      "needs_background": "light"
     },
     "output_type": "display_data"
    }
   ],
   "source": [
    "traj=MC(nsteps=50000)\n",
    "distances=np.sqrt((traj[:,0,0]-traj[:,1,0])**2+(traj[:,0,1]-traj[:,1,1])**2+(traj[:,0,2]-traj[:,1,2])**2)\n",
    "plt.plot(distances)\n",
    "\n",
    "plt.figure(2)\n",
    "nbins=100\n",
    "n, bins, patches = plt.hist(distances, nbins,facecolor='green', alpha=0.5)\n",
    "print(patches)\n",
    "plt.grid(axis='both')\n",
    "plt.show()"
   ]
  },
  {
   "cell_type": "code",
   "execution_count": 52,
   "id": "b9d89a02",
   "metadata": {},
   "outputs": [
    {
     "name": "stdout",
     "output_type": "stream",
     "text": [
      "[[0.        0.        0.       ]\n",
      " [0.0296359 0.        0.       ]]\n",
      "[[0.         0.         0.        ]\n",
      " [0.06755276 0.         0.        ]]\n",
      "[[ 0.0296359   0.          0.        ]\n",
      " [ 0.06755276  0.          0.        ]\n",
      " [ 0.06755276  0.          0.        ]\n",
      " ...\n",
      " [-2.45048335 -1.86393715 -0.40367554]\n",
      " [-2.45048335 -1.86393715 -0.40367554]\n",
      " [-2.45048335 -1.86393715 -0.40367554]]\n"
     ]
    }
   ],
   "source": [
    "print(traj[:,0,0]-traj[:,1,0])\n",
    "print(traj[1,:])\n",
    "print(traj[:,1,:])\n",
    "#print(traj[0,1,0])\n",
    "#plt.plot()"
   ]
  },
  {
   "cell_type": "code",
   "execution_count": 144,
   "id": "c46e2e81",
   "metadata": {},
   "outputs": [],
   "source": [
    "def MCbussi(nsteps=10000,delta=1.0,q0=None,L=4,kT=1):\n",
    "    if q0 is None:\n",
    "        q0=np.zeros((2,3))\n",
    "    \n",
    "    q=+q0\n",
    "    #energy=ener(q)\n",
    "    energy=0.5*(np.sqrt(np.sum((q[1]-q[0])**2))-L)**2\n",
    "    traj=[]\n",
    "    for istep in range(nsteps):\n",
    "        i=np.random.randint(6)\n",
    "        qtry=+q\n",
    "        inc=(2*np.random.rand()-1)*delta\n",
    "        if(i<3):\n",
    "            qtry[0,i]+=inc\n",
    "        else:\n",
    "            qtry[1,i-3]+=inc\n",
    "            \n",
    "        ##enetry=ener(qtry)##0.5*(np.sqrt(np.sum((qtry[1]-qtry[0])**2))-L)**2\n",
    "        enetry=0.5*(np.sqrt(np.sum((qtry[1]-qtry[0])**2))-L)**2\n",
    "        acc=np.exp(-(enetry-energy)/kT)\n",
    "        if acc>1.0:\n",
    "            acc=1.0\n",
    "        if acc>np.random.rand():\n",
    "            q=+qtry\n",
    "            energy=enetry\n",
    "        traj.append(q)\n",
    "    return np.array(traj)"
   ]
  },
  {
   "cell_type": "code",
   "execution_count": 145,
   "id": "6bc7abf0",
   "metadata": {},
   "outputs": [
    {
     "name": "stdout",
     "output_type": "stream",
     "text": [
      "<BarContainer object of 100 artists>\n"
     ]
    },
    {
     "data": {
      "image/png": "[encoded data removed]",
      "text/plain": [
       "<Figure size 432x288 with 1 Axes>"
      ]
     },
     "metadata": {
      "needs_background": "light"
     },
     "output_type": "display_data"
    },
    {
     "data": {
      "image/png": "[encoded data removed]",
      "text/plain": [
       "<Figure size 432x288 with 1 Axes>"
      ]
     },
     "metadata": {
      "needs_background": "light"
     },
     "output_type": "display_data"
    }
   ],
   "source": [
    "traj=MCbussi(nsteps=50000)\n",
    "#distances=np.sqrt((traj[:,0,0]-traj[:,1,0])**2+(traj[:,0,1]-traj[:,1,1])**2+(traj[:,0,2]-traj[:,1,2])**2)\n",
    "distances=np.sqrt(np.sum((traj[:,1]-traj[:,0])**2,axis=1))\n",
    "plt.plot(distances)\n",
    "\n",
    "plt.figure(2)\n",
    "nbins=100\n",
    "n, bins, patches = plt.hist(distances, nbins,facecolor='green', alpha=0.5)\n",
    "print(patches)\n",
    "plt.grid(axis='both')\n",
    "plt.show()"
   ]
  },
  {
   "cell_type": "code",
   "execution_count": null,
   "id": "766537e5",
   "metadata": {},
   "outputs": [],
   "source": []
  }
 ],
 "metadata": {
  "kernelspec": {
   "display_name": "Python 3 (ipykernel)",
   "language": "python",
   "name": "python3"
  },
  "language_info": {
   "codemirror_mode": {
    "name": "ipython",
    "version": 3
   },
   "file_extension": ".py",
   "mimetype": "text/x-python",
   "name": "python",
   "nbconvert_exporter": "python",
   "pygments_lexer": "ipython3",
   "version": "3.9.10"
  }
 },
 "nbformat": 4,
 "nbformat_minor": 5
}
