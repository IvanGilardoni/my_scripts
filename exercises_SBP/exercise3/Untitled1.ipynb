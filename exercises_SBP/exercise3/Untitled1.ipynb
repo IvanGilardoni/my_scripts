{
 "cells": [
  {
   "cell_type": "code",
   "execution_count": 14,
   "id": "c3f97fdc",
   "metadata": {},
   "outputs": [],
   "source": [
    "import matplotlib.pyplot as plt\n",
    "import numpy as np"
   ]
  },
  {
   "cell_type": "code",
   "execution_count": 23,
   "id": "adb936f4",
   "metadata": {},
   "outputs": [],
   "source": [
    "def MC(nsteps=10000,delta=1.0,q0=None):#,L=4,kT=1):\n",
    "    if q0 is None:\n",
    "        q0=np.zeros((2,3))\n",
    "    \n",
    "    q=+q0\n",
    "    #energy=ener(q)\n",
    "    energy=0.5*(np.sqrt(np.sum((q[1]-q[0])**2))-4)**2\n",
    "    traj=[]\n",
    "    for istep in range(nsteps):\n",
    "        i=np.random.randint(6)\n",
    "        qtry=+q\n",
    "        inc=(2*np.random.rand()-1)*delta\n",
    "        if(i<3):\n",
    "            qtry[0,i]+=inc\n",
    "        else:\n",
    "            qtry[1,i-3]+=inc\n",
    "            \n",
    "        ##enetry=ener(qtry)##0.5*(np.sqrt(np.sum((qtry[1]-qtry[0])**2))-L)**2\n",
    "        enetry=0.5*(np.sqrt(np.sum((qtry[1]-qtry[0])**2))-4)**2\n",
    "        acc=np.exp(-(enetry-energy))#/kT)\n",
    "        if acc>1.0:\n",
    "            acc=1.0\n",
    "        if acc>np.random.rand():\n",
    "            q=+qtry\n",
    "            energy=enetry\n",
    "        traj.append(q)\n",
    "    return np.array(traj)"
   ]
  },
  {
   "cell_type": "code",
   "execution_count": 19,
   "id": "a9ba9109",
   "metadata": {},
   "outputs": [],
   "source": [
    "def bussi(nsteps=10000,delta=1.0,q0=None):\n",
    "    if q0 is None:\n",
    "        q0=np.zeros((2,3))\n",
    "    \n",
    "    q=+q0\n",
    "    \n",
    "    ene=0.5*(np.sqrt(np.sum((q[1]-q[0])**2))-4)**2\n",
    "    traj=[]\n",
    "    for istep in range(nsteps):\n",
    "        i=np.random.randint(6)\n",
    "        qtry=+q\n",
    "        inc=(2*np.random.rand()-1)*delta\n",
    "        if(i<3):\n",
    "            qtry[0,i]+=inc\n",
    "        else:\n",
    "            qtry[1,i-3]+=inc\n",
    "\n",
    "        enetry=0.5*(np.sqrt(np.sum((qtry[1]-qtry[0])**2))-4)**2\n",
    "        acc=np.exp(-(enetry-ene))\n",
    "        if acc>1.0:\n",
    "            acc=1.0\n",
    "        if acc>np.random.rand():\n",
    "            q=+qtry\n",
    "            ene=enetry\n",
    "        traj.append(q)\n",
    "    return np.array(traj)"
   ]
  },
  {
   "cell_type": "code",
   "execution_count": 24,
   "id": "ba3498d7",
   "metadata": {},
   "outputs": [
    {
     "name": "stdout",
     "output_type": "stream",
     "text": [
      "<BarContainer object of 100 artists>\n"
     ]
    },
    {
     "data": {
      "image/png": "[encoded data removed]",
      "text/plain": [
       "<Figure size 432x288 with 1 Axes>"
      ]
     },
     "metadata": {
      "needs_background": "light"
     },
     "output_type": "display_data"
    },
    {
     "data": {
      "image/png": "[encoded data removed]",
      "text/plain": [
       "<Figure size 432x288 with 1 Axes>"
      ]
     },
     "metadata": {
      "needs_background": "light"
     },
     "output_type": "display_data"
    }
   ],
   "source": [
    "traj=MC(nsteps=50000)\n",
    "#distances=np.sqrt((traj[:,0,0]-traj[:,1,0])**2+(traj[:,0,1]-traj[:,1,1])**2+(traj[:,0,2]-traj[:,1,2])**2)\n",
    "distances=np.sqrt(np.sum((traj[:,1]-traj[:,0])**2,axis=1))\n",
    "plt.plot(distances)\n",
    "\n",
    "plt.figure(2)\n",
    "nbins=100\n",
    "n, bins, patches = plt.hist(distances, nbins,facecolor='green', alpha=0.5)\n",
    "print(patches)\n",
    "plt.grid(axis='both')\n",
    "plt.show()"
   ]
  },
  {
   "cell_type": "code",
   "execution_count": null,
   "id": "d49046a1",
   "metadata": {},
   "outputs": [],
   "source": []
  }
 ],
 "metadata": {
  "kernelspec": {
   "display_name": "Python 3 (ipykernel)",
   "language": "python",
   "name": "python3"
  },
  "language_info": {
   "codemirror_mode": {
    "name": "ipython",
    "version": 3
   },
   "file_extension": ".py",
   "mimetype": "text/x-python",
   "name": "python",
   "nbconvert_exporter": "python",
   "pygments_lexer": "ipython3",
   "version": "3.9.7"
  }
 },
 "nbformat": 4,
 "nbformat_minor": 5
}
