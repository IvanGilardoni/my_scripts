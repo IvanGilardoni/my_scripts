{
 "cells": [
  {
   "cell_type": "markdown",
   "id": "fbbeb4af",
   "metadata": {},
   "source": [
    "## Plot exp(-F), exercise 2"
   ]
  },
  {
   "cell_type": "code",
   "execution_count": 1,
   "id": "614e3d10",
   "metadata": {},
   "outputs": [],
   "source": [
    "import numpy as np"
   ]
  },
  {
   "cell_type": "code",
   "execution_count": 2,
   "id": "95a492ce",
   "metadata": {},
   "outputs": [],
   "source": [
    "def s(x,y):\n",
    "    return x+y"
   ]
  },
  {
   "cell_type": "code",
   "execution_count": 3,
   "id": "7936c464",
   "metadata": {},
   "outputs": [],
   "source": [
    "def t(x,y):\n",
    "    ts=s(x,y)+x+y\n",
    "    return ts"
   ]
  },
  {
   "cell_type": "code",
   "execution_count": null,
   "id": "82fc3dc1",
   "metadata": {},
   "outputs": [],
   "source": []
  }
 ],
 "metadata": {
  "kernelspec": {
   "display_name": "Python 3 (ipykernel)",
   "language": "python",
   "name": "python3"
  },
  "language_info": {
   "codemirror_mode": {
    "name": "ipython",
    "version": 3
   },
   "file_extension": ".py",
   "mimetype": "text/x-python",
   "name": "python",
   "nbconvert_exporter": "python",
   "pygments_lexer": "ipython3",
   "version": "3.9.13"
  }
 },
 "nbformat": 4,
 "nbformat_minor": 5
}
