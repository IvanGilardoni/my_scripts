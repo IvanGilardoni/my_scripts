{
 "cells": [
  {
   "cell_type": "code",
   "execution_count": 1,
   "id": "11051425-114e-459f-a7b7-485b22557e79",
   "metadata": {},
   "outputs": [
    {
     "name": "stdout",
     "output_type": "stream",
     "text": [
      "inputfile xyz/crystal10.xyz\n",
      "outputfile xyz/output.xyz\n",
      "temperature 0.1\n",
      "tstep 0.01\n",
      "friction 0.0\n",
      "forcecutoff 2.5\n",
      "listcutoff  3.0\n",
      "nstep 8000\n",
      "nconfig 10 xyz/trajectory.xyz\n",
      "nstat   10 xyz/energies.dat\n"
     ]
    }
   ],
   "source": [
    "%%bash # this command line is not necessary\n",
    "cat xyz/in"
   ]
  },
  {
   "cell_type": "code",
   "execution_count": 2,
   "id": "df069305-5a3b-4292-8754-57c35ea32305",
   "metadata": {},
   "outputs": [
    {
     "name": "stdout",
     "output_type": "stream",
     "text": [
      "3\n"
     ]
    }
   ],
   "source": [
    "v=2\n",
    "w=v+1\n",
    "print(w)"
   ]
  },
  {
   "cell_type": "code",
   "execution_count": null,
   "id": "64334a00-285c-4479-bbbb-0bb9c1729634",
   "metadata": {},
   "outputs": [],
   "source": [
    "#"
   ]
  }
 ],
 "metadata": {
  "kernelspec": {
   "display_name": "Python 3 (ipykernel)",
   "language": "python",
   "name": "python3"
  },
  "language_info": {
   "codemirror_mode": {
    "name": "ipython",
    "version": 3
   },
   "file_extension": ".py",
   "mimetype": "text/x-python",
   "name": "python",
   "nbconvert_exporter": "python",
   "pygments_lexer": "ipython3",
   "version": "3.9.7"
  }
 },
 "nbformat": 4,
 "nbformat_minor": 5
}
