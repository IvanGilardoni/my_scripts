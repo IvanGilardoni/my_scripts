{
 "cells": [
  {
   "cell_type": "markdown",
   "metadata": {},
   "source": [
    "# Day 4 - calculation of statistical errors"
   ]
  },
  {
   "cell_type": "markdown",
   "metadata": {},
   "source": [
    "### Import libraries and data (potential energies)"
   ]
  },
  {
   "cell_type": "code",
   "execution_count": 1,
   "metadata": {},
   "outputs": [],
   "source": [
    "import numpy as np\n",
    "import matplotlib.pyplot as plt"
   ]
  },
  {
   "cell_type": "markdown",
   "metadata": {},
   "source": [
    "Run following cells in order to load the energies"
   ]
  },
  {
   "cell_type": "code",
   "execution_count": 3,
   "metadata": {},
   "outputs": [
    {
     "name": "stdout",
     "output_type": "stream",
     "text": [
      "Clone in 'Exercise_error_analysis' in corso...\n",
      "remote: Enumerating objects: 47, done.\u001b[K\n",
      "remote: Counting objects: 100% (47/47), done.\u001b[K\n",
      "remote: Compressing objects: 100% (46/46), done.\u001b[K\n",
      "remote: Total 47 (delta 0), reused 47 (delta 0), pack-reused 0\u001b[K\n",
      "Ricezione degli oggetti: 100% (47/47), 6.32 MiB | 9.29 MiB/s, fatto.\n"
     ]
    }
   ],
   "source": [
    "!git clone https://github.com/IvanGilardoni/Exercise_error_analysis.git"
   ]
  },
  {
   "cell_type": "code",
   "execution_count": 5,
   "metadata": {},
   "outputs": [],
   "source": [
    "ene = {}\n",
    "Ts = np.around(np.linspace(0.1, 3, 30), decimals=1)\n",
    "\n",
    "for temp in Ts:\n",
    "    ene[temp] = np.loadtxt('Exercise_error_analysis/Energies/potential_energy_%.1f' % temp)"
   ]
  },
  {
   "cell_type": "markdown",
   "metadata": {},
   "source": [
    "discard equilibration steps and make stride = 10"
   ]
  },
  {
   "cell_type": "code",
   "execution_count": 7,
   "metadata": {},
   "outputs": [],
   "source": [
    "for temp in Ts:\n",
    "    ene[temp] = ene[temp][1000:][::10]"
   ]
  },
  {
   "cell_type": "markdown",
   "metadata": {},
   "source": [
    "## Point 0 - autocorrelation\n",
    "\n",
    "The trajectories generated in Molecular Dynamics simulations are affected by time correlations: consecutive frames are not independent from each other, rather they depend on the previous ones, up to a certain time difference, after which the correlation effects become negligible. A good quantity to measure this is the **autocorrelation function**, defined as\n",
    "\n",
    "\\begin{equation}\n",
    "C(\\Delta t) = \\frac{1}{N}\\sum_{i=1}^N \\Bigl(E(t_i)-\\langle E\\rangle\\Bigr)\\Bigl(E(t_i+\\Delta t)-\\langle E \\rangle\\Bigr)\n",
    "\\end{equation}\n",
    "\n",
    "\n",
    "where $E(t)$ is the time series we are analysing (in our case, the energy) and $\\langle E \\rangle$ its average value.\n",
    "\n",
    "Compute the autocorrelation of the energies at different temperatures. What happens for long time differences $\\Delta t$? Do we have the same behaviour for all the temperatures?\n",
    "\n",
    "Compare with uncorrelated white noise: what is the main difference?"
   ]
  },
  {
   "cell_type": "markdown",
   "metadata": {},
   "source": [
    "## Point 1 - block analysis\n",
    "\n",
    "**Block analysis** (Flyvbjerg, Petersen; JCP 1989) is a method used to correctly estimate the error on the mean in the case of correlated time series.\n",
    "\n",
    "1. Recompute the average potential energies (column 3) as done in day 2 (for different temperatures from 0 to 3), together with the corresponding error on the mean estimated by the standard deviation of the mean $\\sigma_{\\overline{x}}$ (equal to standard deviation divided by square root of n. of samples) . Remember to discard initial steps due to equilibration.\n",
    "\n",
    "2. Then, write an algorithm to perform block analysis:\n",
    "- a. focus on the time series of the energy at a given temperature (e.g., 3.0);\n",
    "- b. split the time series in blocks of a given size;\n",
    "- c. for each block, compute the average energy;\n",
    "- d. compute the standard deviation of the mean on the obtained average energies, this is your estimate of the error for the given block size;\n",
    "- e. repeat b,c,d items for different block size (take values from 1 to half of the trajectory length);\n",
    "- f. plot the error as a function of the block size. Search for a plateau region, which identifies the optimal block size.\n",
    "\n",
    "\n",
    "3. Then, use your algorithm with this optimal block size for all the temperatures (assumption). Plot both $\\sigma_{\\overline{x}}$ and the error estimated with block analysis as a function of the temperature. Do the two estimates agree with each other? \n",
    "\n",
    "4. We assumed that the optimal block size is approximatively the same for all the temperatures. Do you expect block analysis to work also at the transition temperature $T=0.6$? Repeat block analysis at that temperature with different block size and search for a plateau.\n",
    "\n",
    "5. Repeat block analysis for random white noise and plot the result (error vs. block size). Does it agree with the error on the mean estimated by the standard deviation $\\sigma_{\\overline{x}}$?\n",
    "\n",
    "6. In this point we are going to estimate the error on the average heat capacity through block analysis. You just have to modify your algorithm (item 2) at point c. by computing the heat capacity on each block rather than the average energy. Then, repeat what previously done, namely:\n",
    "- focus on a given temperature (e.g., 3.0) and identify the optimal block size searching for a plateau;\n",
    "- use this block size for all the temperatures and compute the error on the average heat capacity; plot it as a function of the temperature;\n",
    "- focus on the transition temperature: does block analysis work in this case?"
   ]
  },
  {
   "cell_type": "markdown",
   "metadata": {},
   "source": [
    "## Point 2 - bootstrap on blocks\n",
    "\n",
    "**Bootstrap** (Efron, 1979) is a procedure to compute properties of an estimator by random re-sampling with replacement from the data. Write an algorithm to perform boostrap on blocks:\n",
    "1. split your time series into $N$ (consecutive and disjoint) blocks, as done in block analysis (use the optimal $N$ you have got in the previous point);\n",
    "2. generate a dummy trajectory by concatenating $N$ randomly sampled blocks with replacement (so that the trajectory has the same length as the original one) and use it to compute your quantity of interest $O_i$ (such as the mean energy or the heat capacity) (note: differently from block analysis, we are now computing our quantity using every data point on the newly sampled trajectory);\n",
    "3. repeat 2nd step several times (e.g. $i=1...100$), then take the average and standard deviation of the $O_i$ values; the standard deviation will estimate the uncertainty on the average value.\n",
    "\n",
    "Use your algorithm to compute the error on the mean of the potential energy, as done in the previous point. Does this estimate agree with the previous one? Plot the two estimates as a function of the temperature.\n",
    "\n",
    "Now, use your algorithm to compute the statistical error on the heat capacity, computed from fluctuations of the potential energy. Compare with the calculation of the heat capacity given by the derivative of the energy with respect to the temperature, approximated through finite difference.\n",
    "\n",
    "What happens if you neglected to remove initial equilibration steps? \n",
    "\n",
    "Finally, compute the values of heat capacity and the associated errors with the trajectories generated starting from the liquid phase (equilibrium configuration at $T=3$). Compare with previous values: where do you observe significative discrepancies? For such temperatures, did you correctly estimate the statistical error on the specific heat?"
   ]
  },
  {
   "cell_type": "code",
   "execution_count": null,
   "metadata": {},
   "outputs": [],
   "source": [
    "ene_back = {}\n",
    "\n",
    "Ts_back = list(np.around(np.linspace(0.1, 1, 10), decimals=1)) + [1.5, 2.0, 2.5, 3.0]\n",
    "Ts_back = np.array(Ts_back)\n",
    "\n",
    "for temp in Ts_back:\n",
    "    ene_back[temp] = np.loadtxt('Exercise_error_analysis/Energies/potential_energy_back_%.1f' % temp)[1000:][::10]"
   ]
  }
 ],
 "metadata": {
  "kernelspec": {
   "display_name": "Python 2.7.5 64-bit",
   "language": "python",
   "name": "python3"
  },
  "language_info": {
   "codemirror_mode": {
    "name": "ipython",
    "version": 3
   },
   "file_extension": ".py",
   "mimetype": "text/x-python",
   "name": "python",
   "nbconvert_exporter": "python",
   "pygments_lexer": "ipython3",
   "version": "2.7.5"
  },
  "orig_nbformat": 4,
  "vscode": {
   "interpreter": {
    "hash": "e7370f93d1d0cde622a1f8e1c04877d8463912d04d973331ad4851f04de6915a"
   }
  }
 },
 "nbformat": 4,
 "nbformat_minor": 2
}
