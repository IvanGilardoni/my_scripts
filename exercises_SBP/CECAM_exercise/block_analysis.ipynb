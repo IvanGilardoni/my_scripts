{
 "cells": [
  {
   "cell_type": "markdown",
   "id": "7eae1ba3",
   "metadata": {},
   "source": [
    "## Python function for block analysis"
   ]
  },
  {
   "cell_type": "code",
   "execution_count": 1,
   "id": "3c6a2bcf",
   "metadata": {},
   "outputs": [],
   "source": [
    "import numpy as np"
   ]
  },
  {
   "cell_type": "code",
   "execution_count": null,
   "id": "a497ebc7",
   "metadata": {},
   "outputs": [],
   "source": [
    "def block_analysis(x):\n",
    "    size=np.shape(x)\n",
    "    print('size: ',size)\n",
    "    \n",
    "    ##################### first plot (data)\n",
    "    plt.figure(figsize=(12,8))\n",
    "    plt.plot(x,'.')\n",
    "    #plt.plot(x[1500:1550],'.-')\n",
    "    plt.show()\n",
    "    mean=np.mean(x)\n",
    "    std=np.std(x)\n",
    "    print('mean: ',mean)\n",
    "    print('std (on the mean): ',std/np.sqrt(size))\n",
    "    \n",
    "    ################## block analysis\n",
    "    \n",
    "    bls=np.arange(10,20000,100)\n",
    "\n",
    "    #nbls=np.arange(2,500,3)\n",
    "    epsilon=np.zeros(len(nbls))\n",
    "    for j in range(len(nbls)):\n",
    "        sizebl=int(size/nbls[j])\n",
    "        #print(sizebl)\n",
    "        a=0\n",
    "        for i in range(nbls[j]):\n",
    "            a+=(np.mean(x[(sizebl*i):(sizebl*(i+1))]))**2\n",
    "        epsilon[j]=np.sqrt((a/nbls[j]-mean**2)/nbls[j])\n",
    "    #epsilon[sizebl-1]=a\n",
    "    \n",
    "    ################# second plot (epsilon vs. n. blocks)\n",
    "    plt.figure(figsize=(10,6))\n",
    "    plt.plot(nbls,epsilon,'.--')\n",
    "    plt.xlabel('number of blocks')\n",
    "    plt.xscale('log')\n",
    "    plt.grid()\n",
    "    \n",
    "    meanepsilon=np.mean(epsilon[:500])\n",
    "    print('epsilon mean up to 500',np.mean(epsilon[:500]))\n",
    "    \n",
    "return(size,mean,std,epsilon,meanepsilon)"
   ]
  }
 ],
 "metadata": {
  "kernelspec": {
   "display_name": "Python 3",
   "language": "python",
   "name": "python3"
  },
  "language_info": {
   "codemirror_mode": {
    "name": "ipython",
    "version": 3
   },
   "file_extension": ".py",
   "mimetype": "text/x-python",
   "name": "python",
   "nbconvert_exporter": "python",
   "pygments_lexer": "ipython3",
   "version": "3.6.8"
  }
 },
 "nbformat": 4,
 "nbformat_minor": 5
}
