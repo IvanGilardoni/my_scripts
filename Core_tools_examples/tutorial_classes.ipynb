{
 "cells": [
  {
   "cell_type": "markdown",
   "id": "9901cc08",
   "metadata": {},
   "source": [
    "## A simple tutorial for basic uses of classes\n",
    "(object-oriented programming)"
   ]
  },
  {
   "cell_type": "code",
   "execution_count": 1,
   "id": "a06a4f58",
   "metadata": {},
   "outputs": [],
   "source": [
    "import numpy as np"
   ]
  },
  {
   "cell_type": "markdown",
   "id": "7be3a2ab",
   "metadata": {},
   "source": [
    "### Class as containers (with `Enum`)\n",
    "\n",
    "You can also define classes just as containers (with `Enum`); in this case, you don't have `self` because you are not going to define multiple class instances, just a single one"
   ]
  },
  {
   "cell_type": "code",
   "execution_count": 2,
   "id": "0b4b100b",
   "metadata": {},
   "outputs": [],
   "source": [
    "from enum import Enum\n",
    "from typing import Type, Optional"
   ]
  },
  {
   "cell_type": "markdown",
   "id": "9587a698",
   "metadata": {},
   "source": [
    "`Regularization` acts a \"default dictionary\" let' say, a dictionary which can include two keys: `force_field_reg` and `forward_model_reg`, to specify the regularizations to the force-field correction and the forward model, respectively;\n",
    "\n",
    "- the first key is either a string (among `plain l2`, `constraint 1`, `constraint 2`, `KL divergence`) or a user-defined function which takes as input `pars_ff` and returns the regularization term to be multiplied by the hyperparameter `beta`;\n",
    "- the second key is a user-defined function which takes as input `pars_fm` and `forward_coeffs_0` (current and refined forward-model coefficients) and returns the regularization term to be multiplied by the hyperparameter `gamma`."
   ]
  },
  {
   "cell_type": "markdown",
   "id": "1fc0e4d5",
   "metadata": {},
   "source": [
    "#### 1. define `Force_field_reg` and `Forward_model_reg` with `Enum`"
   ]
  },
  {
   "cell_type": "code",
   "execution_count": null,
   "id": "71c7e03f",
   "metadata": {},
   "outputs": [],
   "source": [
    "class Force_field_reg(Enum):\n",
    "    PLAIN_L2 = 'plain l2'\n",
    "    CONSTRAINT_1 = 'constraint 1'\n",
    "    CONSTRAINT_2 = 'contraint 2'\n",
    "    KL_DIVERGENCE = 'KL divergence'\n",
    "    CUSTOM = lambda x : np.linalg.norm(x)**2  # example of custom function"
   ]
  },
  {
   "cell_type": "code",
   "execution_count": 4,
   "id": "065a66a2",
   "metadata": {},
   "outputs": [
    {
     "ename": "AttributeError",
     "evalue": "Cannot reassign members.",
     "output_type": "error",
     "traceback": [
      "\u001b[0;31m---------------------------------------------------------------------------\u001b[0m",
      "\u001b[0;31mAttributeError\u001b[0m                            Traceback (most recent call last)",
      "\u001b[0;32m/tmp/ipykernel_11403/2288778757.py\u001b[0m in \u001b[0;36m<module>\u001b[0;34m\u001b[0m\n\u001b[0;32m----> 1\u001b[0;31m \u001b[0mForce_field_reg\u001b[0m\u001b[0;34m.\u001b[0m\u001b[0mPLAIN_L2\u001b[0m \u001b[0;34m=\u001b[0m \u001b[0;36m7\u001b[0m\u001b[0;34m\u001b[0m\u001b[0;34m\u001b[0m\u001b[0m\n\u001b[0m\u001b[1;32m      2\u001b[0m \u001b[0;34m\u001b[0m\u001b[0m\n\u001b[1;32m      3\u001b[0m \u001b[0;31m# correctly, you cannot assign to Force_field_reg an arbitrary attribute value!\u001b[0m\u001b[0;34m\u001b[0m\u001b[0;34m\u001b[0m\u001b[0m\n",
      "\u001b[0;32m/usr/lib64/python3.9/enum.py\u001b[0m in \u001b[0;36m__setattr__\u001b[0;34m(cls, name, value)\u001b[0m\n\u001b[1;32m    470\u001b[0m         \u001b[0mmember_map\u001b[0m \u001b[0;34m=\u001b[0m \u001b[0mcls\u001b[0m\u001b[0;34m.\u001b[0m\u001b[0m__dict__\u001b[0m\u001b[0;34m.\u001b[0m\u001b[0mget\u001b[0m\u001b[0;34m(\u001b[0m\u001b[0;34m'_member_map_'\u001b[0m\u001b[0;34m,\u001b[0m \u001b[0;34m{\u001b[0m\u001b[0;34m}\u001b[0m\u001b[0;34m)\u001b[0m\u001b[0;34m\u001b[0m\u001b[0;34m\u001b[0m\u001b[0m\n\u001b[1;32m    471\u001b[0m         \u001b[0;32mif\u001b[0m \u001b[0mname\u001b[0m \u001b[0;32min\u001b[0m \u001b[0mmember_map\u001b[0m\u001b[0;34m:\u001b[0m\u001b[0;34m\u001b[0m\u001b[0;34m\u001b[0m\u001b[0m\n\u001b[0;32m--> 472\u001b[0;31m             \u001b[0;32mraise\u001b[0m \u001b[0mAttributeError\u001b[0m\u001b[0;34m(\u001b[0m\u001b[0;34m'Cannot reassign members.'\u001b[0m\u001b[0;34m)\u001b[0m\u001b[0;34m\u001b[0m\u001b[0;34m\u001b[0m\u001b[0m\n\u001b[0m\u001b[1;32m    473\u001b[0m         \u001b[0msuper\u001b[0m\u001b[0;34m(\u001b[0m\u001b[0;34m)\u001b[0m\u001b[0;34m.\u001b[0m\u001b[0m__setattr__\u001b[0m\u001b[0;34m(\u001b[0m\u001b[0mname\u001b[0m\u001b[0;34m,\u001b[0m \u001b[0mvalue\u001b[0m\u001b[0;34m)\u001b[0m\u001b[0;34m\u001b[0m\u001b[0;34m\u001b[0m\u001b[0m\n\u001b[1;32m    474\u001b[0m \u001b[0;34m\u001b[0m\u001b[0m\n",
      "\u001b[0;31mAttributeError\u001b[0m: Cannot reassign members."
     ]
    }
   ],
   "source": [
    "Force_field_reg.PLAIN_L2 = 7\n",
    "\n",
    "# correctly, you cannot assign to Force_field_reg an arbitrary attribute value!"
   ]
  },
  {
   "cell_type": "code",
   "execution_count": 5,
   "id": "1ca6d526",
   "metadata": {},
   "outputs": [
    {
     "name": "stdout",
     "output_type": "stream",
     "text": [
      "yes\n"
     ]
    }
   ],
   "source": [
    "ff_reg = Force_field_reg.PLAIN_L2\n",
    "\n",
    "if ff_reg.value == 'plain l2': print('yes')"
   ]
  },
  {
   "cell_type": "code",
   "execution_count": 6,
   "id": "64ffc992",
   "metadata": {},
   "outputs": [],
   "source": [
    "class Forward_model_reg(Enum):\n",
    "    PLAIN_L2 = 'plain l2'\n",
    "    CUSTOM = lambda x : np.linalg.norm(x)**2\n",
    "\n",
    "# class Regularization:\n",
    "#     force_field_reg = Force_field_reg\n",
    "#     forward_model_reg = Forward_model_reg\n",
    "    \n",
    "#     assert type(force_field_reg)"
   ]
  },
  {
   "cell_type": "markdown",
   "id": "9b14295a",
   "metadata": {},
   "source": [
    "#### 2. define `Regularization`"
   ]
  },
  {
   "cell_type": "markdown",
   "id": "3c0ba9f3",
   "metadata": {},
   "source": [
    "you can also define the `Regularization` class with `Type`"
   ]
  },
  {
   "cell_type": "raw",
   "id": "1eba14a3",
   "metadata": {
    "vscode": {
     "languageId": "raw"
    }
   },
   "source": [
    "class Regularization():\n",
    "    force_field_reg : Type[Force_field_reg] = Force_field_reg\n",
    "    forward_model_reg : Type[Forward_model_reg] = Forward_model_reg"
   ]
  },
  {
   "cell_type": "raw",
   "id": "9f8cbafd",
   "metadata": {
    "vscode": {
     "languageId": "raw"
    }
   },
   "source": [
    "class Regularization(Enum):\n",
    "    FORCE_FIELD_REG : Type[Force_field_reg] = Force_field_reg\n",
    "    FORWARD_MODEL_REG : Type[Forward_model_reg] = Forward_model_reg"
   ]
  },
  {
   "cell_type": "markdown",
   "id": "cf06e0c1",
   "metadata": {},
   "source": [
    "optimal way to define it:"
   ]
  },
  {
   "cell_type": "code",
   "execution_count": 8,
   "id": "0f1a1322",
   "metadata": {},
   "outputs": [],
   "source": [
    "class Regularization:\n",
    "    def __init__(self, force_field_reg : Optional[Force_field_reg] = None,\n",
    "        forward_model_reg: Optional[Forward_model_reg] = None):\n",
    "        \n",
    "        if not (isinstance(force_field_reg, Force_field_reg) or (force_field_reg is None)):\n",
    "            raise TypeError(\"force_field_reg must be an instance of Force_field_reg\")\n",
    "        self.force_field_reg = force_field_reg\n",
    "\n",
    "        if not (isinstance(forward_model_reg, Forward_model_reg) or (forward_model_reg is None)):\n",
    "            raise TypeError(\"forward_model_reg must be an instance of Forward_model_reg\")\n",
    "        self.forward_model_reg = forward_model_reg\n"
   ]
  },
  {
   "cell_type": "markdown",
   "id": "882e14a4",
   "metadata": {},
   "source": [
    "#### 3. usage"
   ]
  },
  {
   "cell_type": "code",
   "execution_count": 12,
   "id": "5376f9f7",
   "metadata": {},
   "outputs": [
    {
     "name": "stdout",
     "output_type": "stream",
     "text": [
      "KL divergence\n",
      "None\n"
     ]
    }
   ],
   "source": [
    "reg = Regularization(force_field_reg=Force_field_reg.KL_DIVERGENCE)\n",
    "\n",
    "print(reg.force_field_reg.value)\n",
    "print(reg.forward_model_reg)"
   ]
  },
  {
   "cell_type": "code",
   "execution_count": 13,
   "id": "cec79dff",
   "metadata": {},
   "outputs": [
    {
     "name": "stdout",
     "output_type": "stream",
     "text": [
      "plain l2\n"
     ]
    }
   ],
   "source": [
    "reg = Regularization(forward_model_reg=Forward_model_reg.PLAIN_L2)\n",
    "\n",
    "print(reg.forward_model_reg.value)"
   ]
  },
  {
   "cell_type": "code",
   "execution_count": 14,
   "id": "ad35fabf",
   "metadata": {},
   "outputs": [
    {
     "name": "stdout",
     "output_type": "stream",
     "text": [
      "Force_field_reg.KL_DIVERGENCE\n",
      "None\n"
     ]
    }
   ],
   "source": [
    "reg1 = Regularization(Force_field_reg.KL_DIVERGENCE)\n",
    "reg2 = Regularization(None)  # now allowed\n",
    "print(reg1.force_field_reg)\n",
    "print(reg2.force_field_reg)"
   ]
  },
  {
   "cell_type": "code",
   "execution_count": 15,
   "id": "1775225d",
   "metadata": {},
   "outputs": [
    {
     "name": "stdout",
     "output_type": "stream",
     "text": [
      "None\n"
     ]
    }
   ],
   "source": [
    "reg = Regularization(None)\n",
    "\n",
    "print(reg.force_field_reg)"
   ]
  },
  {
   "cell_type": "code",
   "execution_count": 17,
   "id": "7d6aae24",
   "metadata": {},
   "outputs": [
    {
     "name": "stdout",
     "output_type": "stream",
     "text": [
      "correctly, it returns error\n"
     ]
    }
   ],
   "source": [
    "try:\n",
    "    reg.force_field_reg = Force_field_reg.PLAIN_L2 = my_fun\n",
    "    # print(reg.force_field_reg)\n",
    "except:\n",
    "    print('correctly, it returns error')"
   ]
  },
  {
   "cell_type": "code",
   "execution_count": 21,
   "id": "17b9de88",
   "metadata": {},
   "outputs": [
    {
     "name": "stdout",
     "output_type": "stream",
     "text": [
      "None\n"
     ]
    }
   ],
   "source": [
    "print(reg.force_field_reg)"
   ]
  }
 ],
 "metadata": {
  "kernelspec": {
   "display_name": "Python 3",
   "language": "python",
   "name": "python3"
  },
  "language_info": {
   "codemirror_mode": {
    "name": "ipython",
    "version": 3
   },
   "file_extension": ".py",
   "mimetype": "text/x-python",
   "name": "python",
   "nbconvert_exporter": "python",
   "pygments_lexer": "ipython3",
   "version": "3.9.13"
  }
 },
 "nbformat": 4,
 "nbformat_minor": 5
}
