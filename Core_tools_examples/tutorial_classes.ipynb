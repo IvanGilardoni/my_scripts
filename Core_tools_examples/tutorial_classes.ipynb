{
 "cells": [
  {
   "cell_type": "markdown",
   "id": "9901cc08",
   "metadata": {},
   "source": [
    "## A simple tutorial for basic uses of classes\n",
    "basics of object-oriented programming\n",
    "\n",
    "***Learning by doing!***"
   ]
  },
  {
   "cell_type": "code",
   "execution_count": 1,
   "id": "a06a4f58",
   "metadata": {},
   "outputs": [],
   "source": [
    "import numpy as np"
   ]
  },
  {
   "cell_type": "markdown",
   "id": "7be3a2ab",
   "metadata": {},
   "source": [
    "### 1. Classes as containers (with `Enum`)\n",
    "\n",
    "You can also define classes just as containers (with `Enum`); in this case, you don't have `self` because you are not going to define multiple class instances, just a single one"
   ]
  },
  {
   "cell_type": "code",
   "execution_count": 2,
   "id": "0b4b100b",
   "metadata": {},
   "outputs": [],
   "source": [
    "from enum import Enum\n",
    "from typing import Type, Optional"
   ]
  },
  {
   "cell_type": "markdown",
   "id": "9587a698",
   "metadata": {},
   "source": [
    "`Regularization` acts a \"default dictionary\" let' say, a dictionary which can include two keys: `force_field_reg` and `forward_model_reg`, to specify the regularizations to the force-field correction and the forward model, respectively;\n",
    "\n",
    "- the first key is either a string (among `plain l2`, `constraint 1`, `constraint 2`, `KL divergence`) or a user-defined function which takes as input `pars_ff` and returns the regularization term to be multiplied by the hyperparameter `beta`;\n",
    "- the second key is a user-defined function which takes as input `pars_fm` and `forward_coeffs_0` (current and refined forward-model coefficients) and returns the regularization term to be multiplied by the hyperparameter `gamma`."
   ]
  },
  {
   "cell_type": "markdown",
   "id": "1fc0e4d5",
   "metadata": {},
   "source": [
    "#### 1. define `Force_field_reg` and `Forward_model_reg` with `Enum`"
   ]
  },
  {
   "cell_type": "code",
   "execution_count": 3,
   "id": "71c7e03f",
   "metadata": {},
   "outputs": [],
   "source": [
    "class Force_field_reg(Enum):\n",
    "    PLAIN_L2 = 'plain l2'\n",
    "    CONSTRAINT_1 = 'constraint 1'\n",
    "    CONSTRAINT_2 = 'contraint 2'\n",
    "    KL_DIVERGENCE = 'KL divergence'\n",
    "    CUSTOM = lambda x : np.linalg.norm(x)**2  # example of custom function"
   ]
  },
  {
   "cell_type": "code",
   "execution_count": 4,
   "id": "065a66a2",
   "metadata": {},
   "outputs": [
    {
     "ename": "AttributeError",
     "evalue": "Cannot reassign members.",
     "output_type": "error",
     "traceback": [
      "\u001b[0;31m---------------------------------------------------------------------------\u001b[0m",
      "\u001b[0;31mAttributeError\u001b[0m                            Traceback (most recent call last)",
      "\u001b[0;32m/tmp/ipykernel_11403/2288778757.py\u001b[0m in \u001b[0;36m<module>\u001b[0;34m\u001b[0m\n\u001b[0;32m----> 1\u001b[0;31m \u001b[0mForce_field_reg\u001b[0m\u001b[0;34m.\u001b[0m\u001b[0mPLAIN_L2\u001b[0m \u001b[0;34m=\u001b[0m \u001b[0;36m7\u001b[0m\u001b[0;34m\u001b[0m\u001b[0;34m\u001b[0m\u001b[0m\n\u001b[0m\u001b[1;32m      2\u001b[0m \u001b[0;34m\u001b[0m\u001b[0m\n\u001b[1;32m      3\u001b[0m \u001b[0;31m# correctly, you cannot assign to Force_field_reg an arbitrary attribute value!\u001b[0m\u001b[0;34m\u001b[0m\u001b[0;34m\u001b[0m\u001b[0m\n",
      "\u001b[0;32m/usr/lib64/python3.9/enum.py\u001b[0m in \u001b[0;36m__setattr__\u001b[0;34m(cls, name, value)\u001b[0m\n\u001b[1;32m    470\u001b[0m         \u001b[0mmember_map\u001b[0m \u001b[0;34m=\u001b[0m \u001b[0mcls\u001b[0m\u001b[0;34m.\u001b[0m\u001b[0m__dict__\u001b[0m\u001b[0;34m.\u001b[0m\u001b[0mget\u001b[0m\u001b[0;34m(\u001b[0m\u001b[0;34m'_member_map_'\u001b[0m\u001b[0;34m,\u001b[0m \u001b[0;34m{\u001b[0m\u001b[0;34m}\u001b[0m\u001b[0;34m)\u001b[0m\u001b[0;34m\u001b[0m\u001b[0;34m\u001b[0m\u001b[0m\n\u001b[1;32m    471\u001b[0m         \u001b[0;32mif\u001b[0m \u001b[0mname\u001b[0m \u001b[0;32min\u001b[0m \u001b[0mmember_map\u001b[0m\u001b[0;34m:\u001b[0m\u001b[0;34m\u001b[0m\u001b[0;34m\u001b[0m\u001b[0m\n\u001b[0;32m--> 472\u001b[0;31m             \u001b[0;32mraise\u001b[0m \u001b[0mAttributeError\u001b[0m\u001b[0;34m(\u001b[0m\u001b[0;34m'Cannot reassign members.'\u001b[0m\u001b[0;34m)\u001b[0m\u001b[0;34m\u001b[0m\u001b[0;34m\u001b[0m\u001b[0m\n\u001b[0m\u001b[1;32m    473\u001b[0m         \u001b[0msuper\u001b[0m\u001b[0;34m(\u001b[0m\u001b[0;34m)\u001b[0m\u001b[0;34m.\u001b[0m\u001b[0m__setattr__\u001b[0m\u001b[0;34m(\u001b[0m\u001b[0mname\u001b[0m\u001b[0;34m,\u001b[0m \u001b[0mvalue\u001b[0m\u001b[0;34m)\u001b[0m\u001b[0;34m\u001b[0m\u001b[0;34m\u001b[0m\u001b[0m\n\u001b[1;32m    474\u001b[0m \u001b[0;34m\u001b[0m\u001b[0m\n",
      "\u001b[0;31mAttributeError\u001b[0m: Cannot reassign members."
     ]
    }
   ],
   "source": [
    "Force_field_reg.PLAIN_L2 = 7\n",
    "\n",
    "# correctly, you cannot assign to Force_field_reg an arbitrary attribute value!"
   ]
  },
  {
   "cell_type": "code",
   "execution_count": 4,
   "id": "1ca6d526",
   "metadata": {},
   "outputs": [
    {
     "name": "stdout",
     "output_type": "stream",
     "text": [
      "yes\n"
     ]
    }
   ],
   "source": [
    "ff_reg = Force_field_reg.PLAIN_L2\n",
    "\n",
    "if ff_reg.value == 'plain l2': print('yes')"
   ]
  },
  {
   "cell_type": "code",
   "execution_count": 5,
   "id": "64ffc992",
   "metadata": {},
   "outputs": [],
   "source": [
    "class Forward_model_reg(Enum):\n",
    "    PLAIN_L2 = 'plain l2'\n",
    "    CUSTOM = lambda x : np.linalg.norm(x)**2\n",
    "\n",
    "# class Regularization:\n",
    "#     force_field_reg = Force_field_reg\n",
    "#     forward_model_reg = Forward_model_reg\n",
    "    \n",
    "#     assert type(force_field_reg)"
   ]
  },
  {
   "cell_type": "markdown",
   "id": "9b14295a",
   "metadata": {},
   "source": [
    "#### 2. define `Regularization`"
   ]
  },
  {
   "cell_type": "markdown",
   "id": "3c0ba9f3",
   "metadata": {},
   "source": [
    "you can also define the `Regularization` class with `Type`"
   ]
  },
  {
   "cell_type": "raw",
   "id": "1eba14a3",
   "metadata": {
    "vscode": {
     "languageId": "raw"
    }
   },
   "source": [
    "class Regularization():\n",
    "    force_field_reg : Type[Force_field_reg] = Force_field_reg\n",
    "    forward_model_reg : Type[Forward_model_reg] = Forward_model_reg"
   ]
  },
  {
   "cell_type": "raw",
   "id": "9f8cbafd",
   "metadata": {
    "vscode": {
     "languageId": "raw"
    }
   },
   "source": [
    "class Regularization(Enum):\n",
    "    FORCE_FIELD_REG : Type[Force_field_reg] = Force_field_reg\n",
    "    FORWARD_MODEL_REG : Type[Forward_model_reg] = Forward_model_reg"
   ]
  },
  {
   "cell_type": "markdown",
   "id": "cf06e0c1",
   "metadata": {},
   "source": [
    "optimal way to define it:"
   ]
  },
  {
   "cell_type": "code",
   "execution_count": 6,
   "id": "0f1a1322",
   "metadata": {},
   "outputs": [],
   "source": [
    "class Regularization:\n",
    "    def __init__(self, force_field_reg : Optional[Force_field_reg] = None,\n",
    "        forward_model_reg: Optional[Forward_model_reg] = None):\n",
    "        \n",
    "        if not (isinstance(force_field_reg, Force_field_reg) or (force_field_reg is None)):\n",
    "            raise TypeError(\"force_field_reg must be an instance of Force_field_reg\")\n",
    "        self.force_field_reg = force_field_reg\n",
    "\n",
    "        if not (isinstance(forward_model_reg, Forward_model_reg) or (forward_model_reg is None)):\n",
    "            raise TypeError(\"forward_model_reg must be an instance of Forward_model_reg\")\n",
    "        self.forward_model_reg = forward_model_reg\n"
   ]
  },
  {
   "cell_type": "markdown",
   "id": "882e14a4",
   "metadata": {},
   "source": [
    "#### 3. usage"
   ]
  },
  {
   "cell_type": "code",
   "execution_count": 8,
   "id": "5376f9f7",
   "metadata": {},
   "outputs": [
    {
     "name": "stdout",
     "output_type": "stream",
     "text": [
      "KL divergence\n",
      "None\n"
     ]
    }
   ],
   "source": [
    "reg = Regularization(force_field_reg=Force_field_reg.KL_DIVERGENCE)\n",
    "\n",
    "print(reg.force_field_reg.value)\n",
    "print(reg.forward_model_reg)"
   ]
  },
  {
   "cell_type": "code",
   "execution_count": 13,
   "id": "cec79dff",
   "metadata": {},
   "outputs": [
    {
     "name": "stdout",
     "output_type": "stream",
     "text": [
      "plain l2\n"
     ]
    }
   ],
   "source": [
    "reg = Regularization(forward_model_reg=Forward_model_reg.PLAIN_L2)\n",
    "\n",
    "print(reg.forward_model_reg.value)"
   ]
  },
  {
   "cell_type": "code",
   "execution_count": 14,
   "id": "ad35fabf",
   "metadata": {},
   "outputs": [
    {
     "name": "stdout",
     "output_type": "stream",
     "text": [
      "Force_field_reg.KL_DIVERGENCE\n",
      "None\n"
     ]
    }
   ],
   "source": [
    "reg1 = Regularization(Force_field_reg.KL_DIVERGENCE)\n",
    "reg2 = Regularization(None)  # now allowed\n",
    "print(reg1.force_field_reg)\n",
    "print(reg2.force_field_reg)"
   ]
  },
  {
   "cell_type": "code",
   "execution_count": 15,
   "id": "1775225d",
   "metadata": {},
   "outputs": [
    {
     "name": "stdout",
     "output_type": "stream",
     "text": [
      "None\n"
     ]
    }
   ],
   "source": [
    "reg = Regularization(None)\n",
    "\n",
    "print(reg.force_field_reg)"
   ]
  },
  {
   "cell_type": "code",
   "execution_count": 17,
   "id": "7d6aae24",
   "metadata": {},
   "outputs": [
    {
     "name": "stdout",
     "output_type": "stream",
     "text": [
      "correctly, it returns error\n"
     ]
    }
   ],
   "source": [
    "try:\n",
    "    reg.force_field_reg = Force_field_reg.PLAIN_L2 = my_fun\n",
    "    # print(reg.force_field_reg)\n",
    "except:\n",
    "    print('correctly, it returns error')"
   ]
  },
  {
   "cell_type": "code",
   "execution_count": 21,
   "id": "17b9de88",
   "metadata": {},
   "outputs": [
    {
     "name": "stdout",
     "output_type": "stream",
     "text": [
      "None\n"
     ]
    }
   ],
   "source": [
    "print(reg.force_field_reg)"
   ]
  },
  {
   "cell_type": "markdown",
   "id": "1dd4aa3f",
   "metadata": {},
   "source": [
    "### 2. Classes as a collection of files\n",
    "(or: *from a directory to a class instance*)\n",
    "\n",
    "suppose you are running some simulations (MCMC, for instance) which end up with multiple folders, one for each simulation; each folder contains several files, like properties of the MCMC run, the specific trajectory, the energy time series, other time series...\n",
    "\n",
    "for each folder, you want to define an object (instance of class `MyData`), with all the information stored in the corresponding folder\n",
    "\n",
    "then, you can build a dictionary (or a list) with all these objects\n",
    "\n",
    "see also: `Jeffreys_prior/main_notebook_3.ipynb`"
   ]
  },
  {
   "cell_type": "code",
   "execution_count": null,
   "id": "e80d549f",
   "metadata": {},
   "outputs": [],
   "source": [
    "class MyData_parvalues:\n",
    "    \"\"\"\n",
    "    from a pandas dataframe to a dictionary of class instances, without further memory required;\n",
    "    in this way, you can add further properties to each class instance, beyond those in the pandas dataframe\n",
    "    \n",
    "    self.stride = row['stride'] → value is copied, no reference\n",
    "\n",
    "    self._df = df + property → reference kept, reflects changes\n",
    "\n",
    "    Defining new attributes as in the following lines will duplicate the data (twice memory will be required)\n",
    "    indeed if I modify for example a value through MyData instance, the corresponding value\n",
    "    in the original dataframe will not be modified\n",
    "    \n",
    "    for s in list(df.columns):\n",
    "        setattr(self, s, df[s].loc[label])\n",
    "    \n",
    "    so, refer to it as reference-only: to do this we can define it as a method\n",
    "    in addition, @property has specific advantages when you want an attribute-like interface with dynamic behavior:\n",
    "    both dynamic computation (as method), still access it like an attribute e.g. obj.stride rather than obj.stride()\n",
    "    the following lines correspond to what those containing make_getter do in each iteration\n",
    "    \n",
    "    @property\n",
    "    def stride(self):\n",
    "        return self.df.loc[self.label, 'stride']\n",
    "    \"\"\"\n",
    "    def __init__(self, i, label, df):  # , traj, qs, ene):\n",
    "        self.i = i\n",
    "        self.label = label\n",
    "        self.df = df  # this is just a reference (to the full dataframe), so no further memory is required\n",
    "\n",
    "        for col in df.columns:  # also this is just a reference (see above)\n",
    "            def make_getter(col):\n",
    "                return property(lambda self: df.loc[self.label, col])\n",
    "            \n",
    "            setattr(self.__class__, col, make_getter(col))\n",
    "\n",
    "        # row = self.df.loc[self.label]\n",
    "\n",
    "        # for col_name, value in row.items():\n",
    "        #     setattr(self, col_name, value)\n",
    "\n",
    "        # self.stride = int(self.stride)\n",
    "\n",
    "        # this does not work!\n",
    "        # for col in df.columns:\n",
    "        #     setattr(self, col, df.loc[label, col])\n",
    "        \n",
    "        # # these are references (you can check by modifying just one element of that, it is modified also the original one)\n",
    "        # self.traj = traj\n",
    "        # self.n_steps_MC = traj.shape[0]\n",
    "        # self.obs = qs[:, :28]\n",
    "        # self.dkl = qs[:, 28]\n",
    "        # if qs.shape[1] == 30: self.loss = qs[:, 29]\n",
    "        # self.energy = ene\n",
    "\n",
    "    def get_attributes(self):\n",
    "        return [s for s in dir(self) if s[:2] != '__']\n",
    "\n",
    "\n",
    "class MyData(MyData_parvalues):\n",
    "    def __init__(self, mydata_parvalues : MyData_parvalues, path):\n",
    "\n",
    "        super().__init__(mydata_parvalues.i, mydata_parvalues.label, mydata_parvalues.df)  # **mydata_parvalues.__dict__)\n",
    "        # in this way, an instance of `MyData_parvalues` is initialized with all the attributes\n",
    "        # given by mydata_parvalues.__dict__, so no new attributes can be included to mydata_parvalues\n",
    "        # beyond those already contained in its __init__ !! (otherwise return error)\n",
    "\n",
    "        # # these are references (you can check by modifying just one element of that, it is modified also the original one)\n",
    "        # # you could also directly read them from input files\n",
    "        # self.traj = traj\n",
    "        # self.n_steps_MC = traj.shape[0]\n",
    "        # self.obs = qs[:, :28]\n",
    "        # self.dkl = qs[:, 28]\n",
    "        # if qs.shape[1] == 30: self.loss = qs[:, 29]\n",
    "        # self.energy = ene\n",
    "\n",
    "        self.traj = np.load(path + 'Result_' + self.label + '/trajectory.npy', mmap_mode='r')\n",
    "        self.n_steps_true = self.traj.shape[0]\n",
    "\n",
    "        qs = np.load(path + 'Result_' + self.label + '/quantities.npy', mmap_mode='r')\n",
    "\n",
    "        self.obs = qs[:, :28]\n",
    "        self.dkl = qs[:, 28]\n",
    "        if qs.shape[1] == 30: self.loss = qs[:, 29]  # without non-informative prior\n",
    "        self.energy = np.load(path + 'Result_' + self.label + '/energy.npy', mmap_mode='r')\n",
    "\n",
    "        # add average values and stds computed through `my_mean_and_std`\n"
   ]
  },
  {
   "cell_type": "markdown",
   "id": "7bc795aa",
   "metadata": {},
   "source": [
    "a simpler way but perhaps less effective / professional (maybe some attributes are not reference-like)"
   ]
  },
  {
   "cell_type": "code",
   "execution_count": null,
   "id": "727c8f4b",
   "metadata": {},
   "outputs": [],
   "source": [
    "class MyData_parvalues:\n",
    "    \"\"\"\n",
    "    from a pandas dataframe to a dictionary of class instances, without further memory required;\n",
    "    in this way, you can add further properties to each class instance, beyond those in the pandas dataframe\n",
    "    \n",
    "    self.stride = row['stride'] → value is copied, no reference\n",
    "\n",
    "    self._df = df + property → reference kept, reflects changes\n",
    "\n",
    "    Defining new attributes as in the following lines will duplicate the data (twice memory will be required)\n",
    "    indeed if I modify for example a value through MyData instance, the corresponding value\n",
    "    in the original dataframe will not be modified\n",
    "    \n",
    "    for s in list(df.columns):\n",
    "        setattr(self, s, df[s].loc[label])\n",
    "    \n",
    "    so, refer to it as reference-only: to do this we can define it as a method\n",
    "    in addition, @property has specific advantages when you want an attribute-like interface with dynamic behavior:\n",
    "    both dynamic computation (as method), still access it like an attribute e.g. obj.stride rather than obj.stride()\n",
    "    the following lines correspond to what those containing make_getter do in each iteration\n",
    "    \n",
    "    @property\n",
    "    def stride(self):\n",
    "        return self.df.loc[self.label, 'stride']\n",
    "    \"\"\"\n",
    "    def __init__(self, i, label, df):  # , traj, qs, ene):\n",
    "        self.i = i\n",
    "        self.label = label\n",
    "        self.df = df  # this is just a reference (to the full dataframe), so no further memory is required\n",
    "\n",
    "        # for col in df.columns:  # also this is just a reference (see above)\n",
    "        #     def make_getter(col):\n",
    "        #         return property(lambda self: df.loc[self.label, col])\n",
    "            \n",
    "        #     setattr(self.__class__, col, make_getter(col))\n",
    "\n",
    "        # is this just a reference?\n",
    "        row = self.df.loc[self.label]\n",
    "\n",
    "        for col_name, value in row.items():\n",
    "            setattr(self, col_name, value)\n",
    "\n",
    "        self.stride = int(self.stride)\n",
    "\n",
    "    def get_attributes(self):\n",
    "        return [s for s in dir(self) if s[:2] != '__']\n",
    "\n",
    "\n",
    "class MyData():\n",
    "    def __init__(self, mydata_parvalues : MyData_parvalues, path):\n",
    "\n",
    "        for item in vars(mydata_parvalues).items():\n",
    "            setattr(self, item[0], item[1])\n",
    "\n",
    "        # # these are references (you can check by modifying just one element of that, it is modified also the original one)\n",
    "        # # you could also directly read them from input files\n",
    "        # self.traj = traj\n",
    "        # self.n_steps_MC = traj.shape[0]\n",
    "        # self.obs = qs[:, :28]\n",
    "        # self.dkl = qs[:, 28]\n",
    "        # if qs.shape[1] == 30: self.loss = qs[:, 29]\n",
    "        # self.energy = ene\n",
    "\n",
    "        self.traj = np.load(path + 'Result_' + self.label + '/trajectory.npy', mmap_mode='r')\n",
    "        self.n_steps_true = self.traj.shape[0]\n",
    "\n",
    "        qs = np.load(path + 'Result_' + self.label + '/quantities.npy', mmap_mode='r')\n",
    "\n",
    "        self.obs = qs[:, :28]\n",
    "        self.dkl = qs[:, 28]\n",
    "        if qs.shape[1] == 30: self.loss = qs[:, 29]  # without non-informative prior\n",
    "        self.energy = np.load(path + 'Result_' + self.label + '/energy.npy', mmap_mode='r')\n",
    "\n",
    "        # add average values and stds computed through `my_mean_and_std`"
   ]
  },
  {
   "cell_type": "markdown",
   "id": "3bee3455",
   "metadata": {},
   "source": [
    "### 3. Merge multiple instances\n",
    "of the same class"
   ]
  },
  {
   "cell_type": "code",
   "execution_count": 11,
   "id": "74e7d2d3",
   "metadata": {},
   "outputs": [],
   "source": [
    "class MyQuantities():\n",
    "    def __init__(self, x: np.ndarray, y: np.ndarray):\n",
    "        self.x = np.array(x)   # ensure numpy array\n",
    "        self.y = np.array(y)\n",
    "\n",
    "    @classmethod\n",
    "    def merge(cls, instances):\n",
    "        # get all attribute names\n",
    "        attrs = vars(instances[0]).keys()\n",
    "\n",
    "        merged = {}\n",
    "        for attr in attrs:\n",
    "            arrays = [getattr(obj, attr) for obj in instances]\n",
    "            merged[attr] = np.concatenate(arrays, axis=0)  # join arrays\n",
    "        return cls(**merged)"
   ]
  },
  {
   "cell_type": "code",
   "execution_count": 12,
   "id": "8b7daef4",
   "metadata": {},
   "outputs": [
    {
     "name": "stdout",
     "output_type": "stream",
     "text": [
      "[1 2 3 4 5]\n",
      "[10 20 30 40 50]\n"
     ]
    },
    {
     "data": {
      "text/plain": [
       "{'x': array([1, 2, 3, 4, 5]), 'y': array([10, 20, 30, 40, 50])}"
      ]
     },
     "execution_count": 12,
     "metadata": {},
     "output_type": "execute_result"
    }
   ],
   "source": [
    "a = MyQuantities([1, 2], [10, 20])\n",
    "b = MyQuantities([3], [30])\n",
    "c = MyQuantities([4, 5], [40, 50])\n",
    "\n",
    "merged = MyQuantities.merge([a, b, c])\n",
    "\n",
    "print(merged.x)  # [1 2 3 4 5]\n",
    "print(merged.y)  # [10 20 30 40 50]\n",
    "\n",
    "vars(merged)"
   ]
  },
  {
   "cell_type": "markdown",
   "id": "99c4670b",
   "metadata": {},
   "source": [
    "how to inherit from `Result` class?\n",
    "\n",
    "I can do like this:"
   ]
  },
  {
   "cell_type": "code",
   "execution_count": null,
   "id": "5450fd63",
   "metadata": {},
   "outputs": [],
   "source": [
    "import sys\n",
    "sys.path.insert(0, '../')\n",
    "\n",
    "from Core_tools.coretools import Result"
   ]
  },
  {
   "cell_type": "code",
   "execution_count": 13,
   "id": "7a60adb5",
   "metadata": {},
   "outputs": [
    {
     "ename": "NameError",
     "evalue": "name 'Result' is not defined",
     "output_type": "error",
     "traceback": [
      "\u001b[0;31m---------------------------------------------------------------------------\u001b[0m",
      "\u001b[0;31mNameError\u001b[0m                                 Traceback (most recent call last)",
      "\u001b[0;32m/tmp/ipykernel_3812/166416293.py\u001b[0m in \u001b[0;36m<module>\u001b[0;34m\u001b[0m\n\u001b[1;32m     15\u001b[0m         \u001b[0;32mreturn\u001b[0m \u001b[0mMyQuantitiesConcat\u001b[0m\u001b[0;34m(\u001b[0m\u001b[0mcls\u001b[0m\u001b[0;34m(\u001b[0m\u001b[0;34m**\u001b[0m\u001b[0mmerged\u001b[0m\u001b[0;34m)\u001b[0m\u001b[0;34m)\u001b[0m\u001b[0;34m\u001b[0m\u001b[0;34m\u001b[0m\u001b[0m\n\u001b[1;32m     16\u001b[0m \u001b[0;34m\u001b[0m\u001b[0m\n\u001b[0;32m---> 17\u001b[0;31m \u001b[0;32mclass\u001b[0m \u001b[0mMyQuantitiesConcat\u001b[0m\u001b[0;34m(\u001b[0m\u001b[0mResult\u001b[0m\u001b[0;34m)\u001b[0m\u001b[0;34m:\u001b[0m\u001b[0;34m\u001b[0m\u001b[0;34m\u001b[0m\u001b[0m\n\u001b[0m\u001b[1;32m     18\u001b[0m     \u001b[0;32mdef\u001b[0m \u001b[0m__init__\u001b[0m\u001b[0;34m(\u001b[0m\u001b[0mself\u001b[0m\u001b[0;34m,\u001b[0m \u001b[0mmy_quantities_concat\u001b[0m \u001b[0;34m:\u001b[0m \u001b[0mMyQuantities\u001b[0m\u001b[0;34m)\u001b[0m\u001b[0;34m:\u001b[0m\u001b[0;34m\u001b[0m\u001b[0;34m\u001b[0m\u001b[0m\n\u001b[1;32m     19\u001b[0m         \u001b[0msuper\u001b[0m\u001b[0;34m(\u001b[0m\u001b[0;34m)\u001b[0m\u001b[0;34m.\u001b[0m\u001b[0m__init__\u001b[0m\u001b[0;34m(\u001b[0m\u001b[0;34m**\u001b[0m\u001b[0mmy_quantities_concat\u001b[0m\u001b[0;34m.\u001b[0m\u001b[0m__dict__\u001b[0m\u001b[0;34m)\u001b[0m\u001b[0;34m\u001b[0m\u001b[0;34m\u001b[0m\u001b[0m\n",
      "\u001b[0;31mNameError\u001b[0m: name 'Result' is not defined"
     ]
    }
   ],
   "source": [
    "class MyQuantities():\n",
    "    def __init__(self, x: np.ndarray, y: np.ndarray):\n",
    "        self.x = np.array(x)   # ensure numpy array\n",
    "        self.y = np.array(y)\n",
    "\n",
    "    @classmethod\n",
    "    def merge(cls, instances):\n",
    "        # get all attribute names\n",
    "        attrs = vars(instances[0]).keys()\n",
    "\n",
    "        merged = {}\n",
    "        for attr in attrs:\n",
    "            arrays = [getattr(obj, attr) for obj in instances]\n",
    "            merged[attr] = np.concatenate(arrays, axis=0)  # join arrays\n",
    "        return MyQuantitiesConcat(cls(**merged))\n",
    "\n",
    "class MyQuantitiesConcat(Result):\n",
    "    def __init__(self, my_quantities_concat : MyQuantities):\n",
    "        super().__init__(**my_quantities_concat.__dict__)"
   ]
  }
 ],
 "metadata": {
  "kernelspec": {
   "display_name": "Python 3",
   "language": "python",
   "name": "python3"
  },
  "language_info": {
   "codemirror_mode": {
    "name": "ipython",
    "version": 3
   },
   "file_extension": ".py",
   "mimetype": "text/x-python",
   "name": "python",
   "nbconvert_exporter": "python",
   "pygments_lexer": "ipython3",
   "version": "3.9.13"
  }
 },
 "nbformat": 4,
 "nbformat_minor": 5
}
