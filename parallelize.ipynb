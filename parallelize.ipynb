{
 "cells": [
  {
   "cell_type": "markdown",
   "metadata": {},
   "source": [
    "# Learn how to do parallel processing"
   ]
  },
  {
   "cell_type": "markdown",
   "metadata": {},
   "source": [
    "This is useful when searching for optimal hyperparameters in order to do minimizations at given hyperparameters in parallel"
   ]
  },
  {
   "cell_type": "markdown",
   "metadata": {},
   "source": [
    "https://www.geeksforgeeks.org/parallel-processing-in-python/"
   ]
  },
  {
   "cell_type": "code",
   "execution_count": 1,
   "metadata": {},
   "outputs": [],
   "source": [
    "import multiprocessing\n",
    "import time"
   ]
  },
  {
   "cell_type": "markdown",
   "metadata": {},
   "source": [
    "### useless"
   ]
  },
  {
   "cell_type": "code",
   "execution_count": 5,
   "metadata": {},
   "outputs": [],
   "source": [
    "class Process(multiprocessing.Process): \n",
    "    def __init__(self, id): \n",
    "        super(Process, self).__init__() \n",
    "        self.id = id\n",
    "                 \n",
    "    def run(self):  \n",
    "        print(\"I'm the process with id: {}\".format(self.id)) \n",
    "        time.sleep(10)"
   ]
  },
  {
   "cell_type": "code",
   "execution_count": 8,
   "metadata": {},
   "outputs": [
    {
     "name": "stdout",
     "output_type": "stream",
     "text": [
      "I'm the process with id: 0\n",
      "I'm the process with id: 1\n"
     ]
    }
   ],
   "source": [
    "# if __name__ == '__main__': \n",
    "p = Process(0) \n",
    "p.start() \n",
    "p.join() \n",
    "p = Process(1) \n",
    "p.start() \n",
    "p.join() "
   ]
  },
  {
   "cell_type": "markdown",
   "metadata": {},
   "source": [
    "### example 1"
   ]
  },
  {
   "cell_type": "code",
   "execution_count": 17,
   "metadata": {},
   "outputs": [],
   "source": [
    "def run(i):  \n",
    "    print(\"I'm the process with id: {}\".format(i)+'\\n') \n",
    "    time.sleep(10)"
   ]
  },
  {
   "cell_type": "code",
   "execution_count": 18,
   "metadata": {},
   "outputs": [
    {
     "name": "stdout",
     "output_type": "stream",
     "text": [
      "I'm the process with id: 0\n",
      "I'm the process with id: 1\n",
      "I'm the process with id: 3\n",
      "I'm the process with id: 2\n",
      "\n",
      "\n",
      "\n",
      "I'm the process with id: 4\n",
      "I'm the process with id: 6\n",
      "I'm the process with id: 5\n",
      "\n",
      "I'm the process with id: 7\n",
      "\n",
      "\n",
      "I'm the process with id: 8\n",
      "\n",
      "I'm the process with id: 9\n",
      "\n",
      "\n",
      "\n",
      "Output: [None, None, None, None, None, None, None, None, None, None]\n"
     ]
    }
   ],
   "source": [
    "# if __name__ == '__main__': \n",
    "pool = multiprocessing.Pool() \n",
    "result_async = [pool.apply_async(run, args = (i, )) for i in\n",
    "                range(10)] \n",
    "results = [r.get() for r in result_async] \n",
    "print(\"Output: {}\".format(results)) "
   ]
  },
  {
   "cell_type": "markdown",
   "metadata": {},
   "source": [
    "### example 2"
   ]
  },
  {
   "cell_type": "code",
   "execution_count": 11,
   "metadata": {},
   "outputs": [],
   "source": [
    "def square(x): \n",
    "    time.sleep(10)\n",
    "    return x * x "
   ]
  },
  {
   "cell_type": "code",
   "execution_count": 21,
   "metadata": {},
   "outputs": [
    {
     "name": "stdout",
     "output_type": "stream",
     "text": [
      "Output: [0, 1, 4, 9, 16, 25, 36, 49, 64, 81]\n"
     ]
    }
   ],
   "source": [
    "# if __name__ == '__main__': \n",
    "pool = multiprocessing.Pool() \n",
    "result_async = [pool.apply_async(square, args = (i, )) for i in\n",
    "                range(10)] \n",
    "results = [r.get() for r in result_async] \n",
    "print(\"Output: {}\".format(results)) "
   ]
  },
  {
   "cell_type": "code",
   "execution_count": 26,
   "metadata": {},
   "outputs": [
    {
     "data": {
      "text/plain": [
       "<multiprocessing.pool.ApplyResult at 0x7f31996d0e80>"
      ]
     },
     "execution_count": 26,
     "metadata": {},
     "output_type": "execute_result"
    }
   ],
   "source": [
    "result_async[0]"
   ]
  },
  {
   "cell_type": "code",
   "execution_count": 25,
   "metadata": {},
   "outputs": [
    {
     "data": {
      "text/plain": [
       "0"
      ]
     },
     "execution_count": 25,
     "metadata": {},
     "output_type": "execute_result"
    }
   ],
   "source": [
    "result_async[0].get()"
   ]
  },
  {
   "cell_type": "markdown",
   "metadata": {},
   "source": [
    "### with minimizer"
   ]
  },
  {
   "cell_type": "code",
   "execution_count": 2,
   "metadata": {},
   "outputs": [],
   "source": [
    "import numpy as np\n",
    "from scipy.optimize import minimize"
   ]
  },
  {
   "cell_type": "code",
   "execution_count": 6,
   "metadata": {},
   "outputs": [],
   "source": [
    "def f(alpha, beta, gamma):\n",
    "    # gamma = 1\n",
    "    fun = (alpha-beta-gamma)**2\n",
    "    grad = 2*(alpha-beta-gamma)\n",
    "    # print('beta, fun: ', beta, fun, '\\n')\n",
    "    time.sleep(2)\n",
    "    return fun, grad"
   ]
  },
  {
   "cell_type": "code",
   "execution_count": 13,
   "metadata": {},
   "outputs": [],
   "source": [
    "def minimizer(beta=1, gamma=1):\n",
    "    mini = minimize(f, 0, args = (beta, gamma), method = 'BFGS', jac = True)\n",
    "    print(beta, 'finished')\n",
    "    return mini, beta"
   ]
  },
  {
   "cell_type": "code",
   "execution_count": 10,
   "metadata": {},
   "outputs": [],
   "source": [
    "betas = np.arange(10)\n",
    "gammas = np.arange(10)"
   ]
  },
  {
   "cell_type": "code",
   "execution_count": 14,
   "metadata": {},
   "outputs": [],
   "source": [
    "output = Parallel(n_jobs = len(betas))(delayed(minimizer)(beta=betas[i]) for i in range(len(betas)))"
   ]
  },
  {
   "cell_type": "code",
   "execution_count": 17,
   "metadata": {},
   "outputs": [
    {
     "data": {
      "text/plain": [
       "      fun: 0.0\n",
       " hess_inv: array([[0.5]])\n",
       "      jac: array([0.])\n",
       "  message: 'Optimization terminated successfully.'\n",
       "     nfev: 3\n",
       "      nit: 2\n",
       "     njev: 3\n",
       "   status: 0\n",
       "  success: True\n",
       "        x: array([2.])"
      ]
     },
     "execution_count": 17,
     "metadata": {},
     "output_type": "execute_result"
    }
   ],
   "source": [
    "output[1][0]"
   ]
  },
  {
   "cell_type": "code",
   "execution_count": 5,
   "metadata": {},
   "outputs": [
    {
     "data": {
      "text/plain": [
       "array([0. , 0.5, 1. , 1.5, 2. , 2.5, 3. , 3.5, 4. , 4.5, 5. , 5.5, 6. ,\n",
       "       6.5, 7. , 7.5, 8. , 8.5, 9. , 9.5])"
      ]
     },
     "execution_count": 5,
     "metadata": {},
     "output_type": "execute_result"
    }
   ],
   "source": [
    "betas = np.arange(0, 10, 0.5)\n",
    "\n",
    "betas"
   ]
  },
  {
   "cell_type": "code",
   "execution_count": 6,
   "metadata": {},
   "outputs": [
    {
     "name": "stdout",
     "output_type": "stream",
     "text": [
      "0.51.50.01.0    finishedfinishedfinishedfinished\n",
      "\n",
      "\n",
      "\n",
      "2.54.55.03.05.52.06.56.0 4.09.5 9.03.5     finished  finished   finishedfinishedfinished\n",
      "finishedfinishedfinishedfinished\n",
      "finishedfinishedfinished\n",
      "\n",
      "\n",
      "\n",
      "\n",
      "\n",
      "\n",
      "\n",
      "\n",
      "\n",
      "7.08.07.5 8.5  finished finished\n",
      "finishedfinished\n",
      "\n",
      "\n"
     ]
    }
   ],
   "source": [
    "pool = multiprocessing.Pool()\n",
    "\n",
    "# fixed_args = ((1.5))  # (gamma)\n",
    "result_async = [pool.apply_async(minimizer, args = (betas[i], 1.5)) for i in range(len(betas))]\n",
    "results = [r.get() for r in result_async]\n",
    "\n"
   ]
  },
  {
   "cell_type": "code",
   "execution_count": 63,
   "metadata": {},
   "outputs": [
    {
     "data": {
      "text/plain": [
       "      fun: 0.0\n",
       " hess_inv: array([[0.5]])\n",
       "      jac: array([0.])\n",
       "  message: 'Optimization terminated successfully.'\n",
       "     nfev: 3\n",
       "      nit: 2\n",
       "     njev: 3\n",
       "   status: 0\n",
       "  success: True\n",
       "        x: array([1.5])"
      ]
     },
     "execution_count": 63,
     "metadata": {},
     "output_type": "execute_result"
    }
   ],
   "source": [
    "results[0]"
   ]
  },
  {
   "cell_type": "markdown",
   "metadata": {},
   "source": [
    "but you want to do it by multiprocessing (on a SLURM cluster):\n",
    "\n",
    "you can use multiprocessing package on SLURM\n",
    "\n",
    "https://gist.github.com/kaspermunch/64e11cd21e3953295e149e75bee51733\n",
    "\n",
    "use pool.starmap\n",
    "\n",
    "https://stackoverflow.com/questions/5442910/how-to-use-multiprocessing-pool-map-with-multiple-arguments\n",
    "\n",
    "https://stackoverflow.com/questions/39974874/using-pythons-multiprocessing-on-slurm"
   ]
  },
  {
   "cell_type": "code",
   "execution_count": 11,
   "metadata": {},
   "outputs": [
    {
     "name": "stdout",
     "output_type": "stream",
     "text": [
      "0.50.0  finishedfinished\n",
      "\n",
      "1.01.5  finishedfinished\n",
      "\n",
      "9.05.54.02.05.09.54.53.06.53.5    finished    finished  6.02.5finishedfinished\n",
      "finishedfinishedfinishedfinished\n",
      "finishedfinished \n",
      " \n",
      "\n",
      "\n",
      "\n",
      "\n",
      "\n",
      "\n",
      "finishedfinished\n",
      "\n",
      "8.07.58.57.0   finished finished\n",
      "finishedfinished\n",
      "\n",
      "\n"
     ]
    }
   ],
   "source": [
    "pool = multiprocessing.Pool()\n",
    "\n",
    "# fixed_args = ((1.5))  # (gamma)\n",
    "results = pool.starmap(minimizer, [(betas[i], 1.5) for i in range(len(betas))])\n",
    "\n"
   ]
  },
  {
   "cell_type": "code",
   "execution_count": 13,
   "metadata": {},
   "outputs": [
    {
     "data": {
      "text/plain": [
       "      fun: 0.0\n",
       " hess_inv: array([[0.5]])\n",
       "      jac: array([0.])\n",
       "  message: 'Optimization terminated successfully.'\n",
       "     nfev: 3\n",
       "      nit: 2\n",
       "     njev: 3\n",
       "   status: 0\n",
       "  success: True\n",
       "        x: array([2.])"
      ]
     },
     "execution_count": 13,
     "metadata": {},
     "output_type": "execute_result"
    }
   ],
   "source": [
    "results[1]"
   ]
  },
  {
   "cell_type": "markdown",
   "metadata": {},
   "source": [
    "### bussilab coretools\n",
    "\n",
    "https://github.com/bussilab/py-bussilab/blob/master/bussilab/coretools.py"
   ]
  },
  {
   "cell_type": "code",
   "execution_count": 15,
   "metadata": {},
   "outputs": [],
   "source": [
    "from bussilab import coretools"
   ]
  },
  {
   "cell_type": "code",
   "execution_count": 18,
   "metadata": {},
   "outputs": [],
   "source": [
    "class MytoolResult(coretools.Result):\n",
    "    \"\"\"Result of a mytool calculation.\"\"\"\n",
    "    pass"
   ]
  },
  {
   "cell_type": "code",
   "execution_count": 19,
   "metadata": {},
   "outputs": [
    {
     "name": "stdout",
     "output_type": "stream",
     "text": [
      " a: 3\n",
      " b: 'ciao'\n"
     ]
    }
   ],
   "source": [
    "def mytool():\n",
    "    a = 3\n",
    "    b = \"ciao\"\n",
    "    return MytoolResult(a=a, b=b)\n",
    "\n",
    "m=mytool()\n",
    "print(m)"
   ]
  },
  {
   "cell_type": "code",
   "execution_count": 45,
   "metadata": {},
   "outputs": [
    {
     "data": {
      "text/plain": [
       " a: 3\n",
       " b: 'ciao'"
      ]
     },
     "execution_count": 45,
     "metadata": {},
     "output_type": "execute_result"
    }
   ],
   "source": [
    "m"
   ]
  },
  {
   "cell_type": "code",
   "execution_count": 48,
   "metadata": {},
   "outputs": [
    {
     "data": {
      "text/plain": [
       "dict_keys(['a', 'b'])"
      ]
     },
     "execution_count": 48,
     "metadata": {},
     "output_type": "execute_result"
    }
   ],
   "source": [
    "m.keys()"
   ]
  },
  {
   "cell_type": "code",
   "execution_count": 50,
   "metadata": {},
   "outputs": [
    {
     "data": {
      "text/plain": [
       " a: 3\n",
       " b: 'ciao'"
      ]
     },
     "execution_count": 50,
     "metadata": {},
     "output_type": "execute_result"
    }
   ],
   "source": [
    "m"
   ]
  },
  {
   "cell_type": "code",
   "execution_count": 22,
   "metadata": {},
   "outputs": [
    {
     "data": {
      "text/plain": [
       "'ciao'"
      ]
     },
     "execution_count": 22,
     "metadata": {},
     "output_type": "execute_result"
    }
   ],
   "source": [
    "m.b"
   ]
  },
  {
   "cell_type": "code",
   "execution_count": 51,
   "metadata": {},
   "outputs": [],
   "source": [
    "class my_class:\n",
    "    def __init__(self):\n",
    "        self.a = 3\n",
    "        self.b = 'ciao'"
   ]
  },
  {
   "cell_type": "code",
   "execution_count": 52,
   "metadata": {},
   "outputs": [
    {
     "data": {
      "text/plain": [
       "__main__.my_class"
      ]
     },
     "execution_count": 52,
     "metadata": {},
     "output_type": "execute_result"
    }
   ],
   "source": [
    "my_class"
   ]
  },
  {
   "cell_type": "code",
   "execution_count": 53,
   "metadata": {},
   "outputs": [
    {
     "data": {
      "text/plain": [
       "<__main__.my_class at 0x7fb9726bb898>"
      ]
     },
     "execution_count": 53,
     "metadata": {},
     "output_type": "execute_result"
    }
   ],
   "source": [
    "cl = my_class()\n",
    "\n",
    "cl"
   ]
  },
  {
   "cell_type": "code",
   "execution_count": 28,
   "metadata": {},
   "outputs": [
    {
     "data": {
      "text/plain": [
       "{'a': 3, 'b': 'ciao'}"
      ]
     },
     "execution_count": 28,
     "metadata": {},
     "output_type": "execute_result"
    }
   ],
   "source": [
    "my_dict = {'a': 3, 'b': 'ciao'}\n",
    "\n",
    "my_dict"
   ]
  },
  {
   "cell_type": "code",
   "execution_count": 26,
   "metadata": {},
   "outputs": [
    {
     "name": "stdout",
     "output_type": "stream",
     "text": [
      "<__main__.my_class object at 0x7fb9726bb6a0>\n"
     ]
    }
   ],
   "source": [
    "print(cl)"
   ]
  },
  {
   "cell_type": "code",
   "execution_count": 55,
   "metadata": {},
   "outputs": [],
   "source": [
    "class MytoolResult(coretools.Result):\n",
    "    \"\"\"Result of a mytool calculation.\"\"\"\n",
    "    def __init__(self, a):\n",
    "        super().__init__()\n",
    "        self.a = a\n",
    "        \"\"\"Documentation for attribute a.\"\"\"\n",
    "\n"
   ]
  },
  {
   "cell_type": "code",
   "execution_count": 56,
   "metadata": {},
   "outputs": [
    {
     "name": "stdout",
     "output_type": "stream",
     "text": [
      " a: 3\n"
     ]
    }
   ],
   "source": [
    "def mytool():\n",
    "    a = 3\n",
    "    b = \"ciao\"\n",
    "    result = MytoolResult(a)\n",
    "    return result\n",
    "\n",
    "m = mytool()\n",
    "print(m)"
   ]
  },
  {
   "cell_type": "code",
   "execution_count": 33,
   "metadata": {},
   "outputs": [],
   "source": [
    "class MytoolResult(coretools.Result):\n",
    "    pass\n",
    "    # \"\"\"Result of a mytool calculation.\"\"\"\n",
    "    # def __init__(self, a, b):\n",
    "    #     super().__init__()\n",
    "    #     self.a = a\n",
    "    #     \"\"\"Documentation for attribute a.\"\"\"\n",
    "    #     self.b = b\n",
    "    #     \"\"\"Documentation for attribute b.\"\"\""
   ]
  },
  {
   "cell_type": "code",
   "execution_count": 54,
   "metadata": {},
   "outputs": [
    {
     "name": "stdout",
     "output_type": "stream",
     "text": [
      " a: 3\n",
      " b: 'ciao'\n"
     ]
    }
   ],
   "source": [
    "def mytool():\n",
    "    a = 3\n",
    "    b = \"ciao\"\n",
    "    result = coretools.Result()\n",
    "    result.a = a\n",
    "    result.b = b\n",
    "    return result\n",
    "\n",
    "m = mytool()\n",
    "print(m)"
   ]
  },
  {
   "cell_type": "code",
   "execution_count": 31,
   "metadata": {},
   "outputs": [
    {
     "data": {
      "text/plain": [
       " a: 3\n",
       " b: 'ciao'"
      ]
     },
     "execution_count": 31,
     "metadata": {},
     "output_type": "execute_result"
    }
   ],
   "source": [
    "m"
   ]
  },
  {
   "cell_type": "markdown",
   "metadata": {},
   "source": [
    "### with minimizer (optimization of parameters at given hyperparameters)"
   ]
  },
  {
   "cell_type": "markdown",
   "metadata": {},
   "source": [
    "NOTES:\n",
    "\n",
    "multithread\n",
    "\n",
    "mpi"
   ]
  },
  {
   "cell_type": "code",
   "execution_count": null,
   "metadata": {},
   "outputs": [],
   "source": [
    "import numpy as np"
   ]
  },
  {
   "cell_type": "code",
   "execution_count": null,
   "metadata": {},
   "outputs": [],
   "source": [
    "pool = multiprocessing.Pool()\n",
    "\n",
    "fixed_args = (regularization=regularization, alpha=alpha, beta=beta, gamma=gamma, starting_pars=starting_pars)\n",
    "result_async = [pool.apply_async(minimizer, args = (data_train[seed], *fixed_args, )) for seed in random_states]\n",
    "results = [r.get() for r in result_async]\n",
    "\n"
   ]
  },
  {
   "cell_type": "code",
   "execution_count": null,
   "metadata": {},
   "outputs": [],
   "source": [
    "random_states = np.arange(5)\n",
    "\n",
    "test_obs = {}\n",
    "test_frames = {}\n",
    "\n",
    "for seed in random_states:\n",
    "    out = select_traintest(data, random_state=seed)\n",
    "    test_obs[seed] = out[2]\n",
    "    test_frames[seed] = out[3]"
   ]
  },
  {
   "cell_type": "code",
   "execution_count": null,
   "metadata": {},
   "outputs": [],
   "source": [
    "for seed in test_obs.keys():\n",
    "\n",
    "    \"\"\" 2. minimize loss function on training set to get optimal parameters \"\"\"\n",
    "\n",
    "    out = select_traintest(data, test_frames=test_frames[seed], test_obs=test_obs[seed])\n",
    "    data_train = out[0]\n",
    "    data_test = out[1]\n",
    "\n",
    "    mini = minimizer(\n",
    "        data_train[seed], regularization=regularization, alpha=alpha, beta=beta, gamma=gamma, starting_pars=starting_pars)\n"
   ]
  },
  {
   "cell_type": "markdown",
   "metadata": {},
   "source": [
    "### suggestion by Vitto\n",
    "\n",
    "https://stackoverflow.com/questions/42220458/what-does-the-delayed-function-do-when-used-with-joblib-in-python"
   ]
  },
  {
   "cell_type": "code",
   "execution_count": 7,
   "metadata": {},
   "outputs": [],
   "source": [
    "from joblib import Parallel, delayed"
   ]
  },
  {
   "cell_type": "code",
   "execution_count": 11,
   "metadata": {},
   "outputs": [
    {
     "data": {
      "text/plain": [
       "array([0. , 0.5, 1. , 1.5, 2. , 2.5, 3. , 3.5, 4. , 4.5, 5. , 5.5, 6. ,\n",
       "       6.5, 7. , 7.5, 8. , 8.5, 9. , 9.5])"
      ]
     },
     "execution_count": 11,
     "metadata": {},
     "output_type": "execute_result"
    }
   ],
   "source": [
    "betas"
   ]
  },
  {
   "cell_type": "code",
   "execution_count": 12,
   "metadata": {},
   "outputs": [
    {
     "data": {
      "text/plain": [
       "<function joblib.parallel.<genexpr>>"
      ]
     },
     "execution_count": 12,
     "metadata": {},
     "output_type": "execute_result"
    }
   ],
   "source": [
    "delayed(minimizer(betas[i], 1.5) for i in range(len(betas)))"
   ]
  },
  {
   "cell_type": "code",
   "execution_count": 4,
   "metadata": {},
   "outputs": [
    {
     "name": "stdout",
     "output_type": "stream",
     "text": [
      "---- finished ----\n",
      "output:  [      fun: 0.0\n",
      " hess_inv: array([[0.5]])\n",
      "      jac: array([0.])\n",
      "  message: 'Optimization terminated successfully.'\n",
      "     nfev: 3\n",
      "      nit: 2\n",
      "     njev: 3\n",
      "   status: 0\n",
      "  success: True\n",
      "        x: array([1.5]),       fun: 0.0\n",
      " hess_inv: array([[0.5]])\n",
      "      jac: array([0.])\n",
      "  message: 'Optimization terminated successfully.'\n",
      "     nfev: 4\n",
      "      nit: 2\n",
      "     njev: 4\n",
      "   status: 0\n",
      "  success: True\n",
      "        x: array([11.5]),       fun: 0.0\n",
      " hess_inv: array([[0.5]])\n",
      "      jac: array([0.])\n",
      "  message: 'Optimization terminated successfully.'\n",
      "     nfev: 5\n",
      "      nit: 3\n",
      "     njev: 5\n",
      "   status: 0\n",
      "  success: True\n",
      "        x: array([21.5]),       fun: 1.262177448353619e-29\n",
      " hess_inv: array([[0.5]])\n",
      "      jac: array([7.10542736e-15])\n",
      "  message: 'Optimization terminated successfully.'\n",
      "     nfev: 5\n",
      "      nit: 3\n",
      "     njev: 5\n",
      "   status: 0\n",
      "  success: True\n",
      "        x: array([31.5]),       fun: 2.0194839173657902e-28\n",
      " hess_inv: array([[0.5]])\n",
      "      jac: array([-2.84217094e-14])\n",
      "  message: 'Optimization terminated successfully.'\n",
      "     nfev: 5\n",
      "      nit: 3\n",
      "     njev: 5\n",
      "   status: 0\n",
      "  success: True\n",
      "        x: array([41.5]),       fun: 0.0\n",
      " hess_inv: array([[0.5]])\n",
      "      jac: array([0.])\n",
      "  message: 'Optimization terminated successfully.'\n",
      "     nfev: 5\n",
      "      nit: 2\n",
      "     njev: 5\n",
      "   status: 0\n",
      "  success: True\n",
      "        x: array([51.5]),       fun: 2.0194839173657902e-28\n",
      " hess_inv: array([[0.5]])\n",
      "      jac: array([2.84217094e-14])\n",
      "  message: 'Optimization terminated successfully.'\n",
      "     nfev: 5\n",
      "      nit: 2\n",
      "     njev: 5\n",
      "   status: 0\n",
      "  success: True\n",
      "        x: array([61.5]),       fun: 0.0\n",
      " hess_inv: array([[0.5]])\n",
      "      jac: array([0.])\n",
      "  message: 'Optimization terminated successfully.'\n",
      "     nfev: 5\n",
      "      nit: 2\n",
      "     njev: 5\n",
      "   status: 0\n",
      "  success: True\n",
      "        x: array([71.5]),       fun: 0.0\n",
      " hess_inv: array([[0.5]])\n",
      "      jac: array([0.])\n",
      "  message: 'Optimization terminated successfully.'\n",
      "     nfev: 6\n",
      "      nit: 3\n",
      "     njev: 6\n",
      "   status: 0\n",
      "  success: True\n",
      "        x: array([81.5]),       fun: 0.0\n",
      " hess_inv: array([[0.5]])\n",
      "      jac: array([0.])\n",
      "  message: 'Optimization terminated successfully.'\n",
      "     nfev: 6\n",
      "      nit: 3\n",
      "     njev: 6\n",
      "   status: 0\n",
      "  success: True\n",
      "        x: array([91.5])]\n"
     ]
    }
   ],
   "source": [
    "import numpy as np\n",
    "from scipy.optimize import minimize\n",
    "from joblib import Parallel, delayed\n",
    "\n",
    "def f(alpha, beta, gamma):\n",
    "    # gamma = 1\n",
    "    fun = (alpha-beta-gamma)**2\n",
    "    grad = 2*(alpha-beta-gamma)\n",
    "    # print('beta, fun: ', beta, fun, '\\n')\n",
    "    time.sleep(2)\n",
    "    return fun, grad\n",
    "\n",
    "def minimizer(beta, gamma):\n",
    "    mini = minimize(f, 0, args = (beta, gamma), method = 'BFGS', jac = True)\n",
    "    print(beta, 'finished')\n",
    "    return mini\n",
    "\n",
    "betas = np.arange(0,100,10)\n",
    "\n",
    "output = Parallel(n_jobs = len(betas))(delayed(minimizer)(beta, 1.5) for beta in betas)\n",
    "\n",
    "print('---- finished ----')\n",
    "print('output: ', output)\n"
   ]
  },
  {
   "cell_type": "markdown",
   "metadata": {},
   "source": [
    "### suggestion by Ric"
   ]
  },
  {
   "cell_type": "markdown",
   "metadata": {},
   "source": [
    "mpi4py"
   ]
  }
 ],
 "metadata": {
  "kernelspec": {
   "display_name": "Python 3.6.8 64-bit",
   "language": "python",
   "name": "python3"
  },
  "language_info": {
   "codemirror_mode": {
    "name": "ipython",
    "version": 3
   },
   "file_extension": ".py",
   "mimetype": "text/x-python",
   "name": "python",
   "nbconvert_exporter": "python",
   "pygments_lexer": "ipython3",
   "version": "3.6.8"
  },
  "orig_nbformat": 4,
  "vscode": {
   "interpreter": {
    "hash": "916dbcbb3f70747c44a77c7bcd40155683ae19c65e1c03b4aa3499c5328201f1"
   }
  }
 },
 "nbformat": 4,
 "nbformat_minor": 2
}
